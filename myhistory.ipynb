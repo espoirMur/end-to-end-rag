{
 "cells": [
  {
   "cell_type": "code",
   "execution_count": 1,
   "id": "4800ee9d",
   "metadata": {},
   "outputs": [],
   "source": [
    "from src.rag.components.ingestion.pdf_parser.parser import MyDocumentParser"
   ]
  },
  {
   "cell_type": "code",
   "execution_count": 2,
   "id": "28eac380",
   "metadata": {},
   "outputs": [],
   "source": [
    "from pathlib import Path"
   ]
  },
  {
   "cell_type": "code",
   "execution_count": 3,
   "id": "cb0511ba",
   "metadata": {},
   "outputs": [],
   "source": [
    "test_document = Path(\"/Users/esp.py/Documents/Math-Program-DRC-5eme-Secondaire.pdf\")"
   ]
  },
  {
   "cell_type": "code",
   "execution_count": 4,
   "id": "b579c7f5",
   "metadata": {},
   "outputs": [
    {
     "data": {
      "text/plain": [
       "True"
      ]
     },
     "execution_count": 4,
     "metadata": {},
     "output_type": "execute_result"
    }
   ],
   "source": [
    "test_document.exists()"
   ]
  },
  {
   "cell_type": "code",
   "execution_count": 5,
   "id": "86f648ce",
   "metadata": {},
   "outputs": [],
   "source": [
    "output_path = Path.cwd().joinpath(\"datasets\", \"parsed_documents\")\n",
    "input_path = Path.home().joinpath(\"Documents\")"
   ]
  },
  {
   "cell_type": "code",
   "execution_count": 6,
   "id": "5db8ad7f",
   "metadata": {},
   "outputs": [],
   "source": [
    "from src.rag.components.shared.io import IOManager"
   ]
  },
  {
   "cell_type": "code",
   "execution_count": 7,
   "id": "b7e88ea7",
   "metadata": {},
   "outputs": [],
   "source": [
    "io_manager = IOManager(input_document_path=input_path, output_path=output_path)"
   ]
  },
  {
   "cell_type": "code",
   "execution_count": 8,
   "id": "90ce3bbf",
   "metadata": {},
   "outputs": [],
   "source": [
    "my_parser = MyDocumentParser(\n",
    "        io_manager=io_manager, document_parser_kwargs={})"
   ]
  },
  {
   "cell_type": "code",
   "execution_count": 9,
   "id": "581efcb5",
   "metadata": {},
   "outputs": [
    {
     "name": "stdout",
     "output_type": "stream",
     "text": [
      "document should be save here /Users/esp.py/Projects/Personal/end-to-end-rag/datasets/parsed_documents/parsed_documents/Math-Program-DRC-5eme-Secondaire.pdf_6fc5d544-d7b4-4160-a982-0ddeb66e43c5.json\n",
      "\u001b[32m2025-06-03 15:32:16 | INFO     | pdf_parser:write_object_to_file:63 | Saved content to /Users/esp.py/Projects/Personal/end-to-end-rag/datasets/parsed_documents/parsed_documents/Math-Program-DRC-5eme-Secondaire.pdf_6fc5d544-d7b4-4160-a982-0ddeb66e43c5.json\u001b[0m\n",
      "document should be save here /Users/esp.py/Projects/Personal/end-to-end-rag/datasets/parsed_documents/parsed_documents/Math-Program-DRC-5eme-Secondaire.pdf_5f98e2ad-8535-46cd-a010-a412ae1c30bb.json\n",
      "\u001b[32m2025-06-03 15:32:16 | INFO     | pdf_parser:write_object_to_file:63 | Saved content to /Users/esp.py/Projects/Personal/end-to-end-rag/datasets/parsed_documents/parsed_documents/Math-Program-DRC-5eme-Secondaire.pdf_5f98e2ad-8535-46cd-a010-a412ae1c30bb.json\u001b[0m\n",
      "document should be save here /Users/esp.py/Projects/Personal/end-to-end-rag/datasets/parsed_documents/parsed_documents/Math-Program-DRC-5eme-Secondaire.pdf_113536ad-6c7e-4622-a1f8-3e41db98c3c4.json\n",
      "\u001b[32m2025-06-03 15:32:16 | INFO     | pdf_parser:write_object_to_file:63 | Saved content to /Users/esp.py/Projects/Personal/end-to-end-rag/datasets/parsed_documents/parsed_documents/Math-Program-DRC-5eme-Secondaire.pdf_113536ad-6c7e-4622-a1f8-3e41db98c3c4.json\u001b[0m\n",
      "document should be save here /Users/esp.py/Projects/Personal/end-to-end-rag/datasets/parsed_documents/parsed_documents/Math-Program-DRC-5eme-Secondaire.pdf_a6a78709-eb0d-4be4-9128-4d95cff85d9e.json\n",
      "\u001b[32m2025-06-03 15:32:16 | INFO     | pdf_parser:write_object_to_file:63 | Saved content to /Users/esp.py/Projects/Personal/end-to-end-rag/datasets/parsed_documents/parsed_documents/Math-Program-DRC-5eme-Secondaire.pdf_a6a78709-eb0d-4be4-9128-4d95cff85d9e.json\u001b[0m\n",
      "document should be save here /Users/esp.py/Projects/Personal/end-to-end-rag/datasets/parsed_documents/parsed_documents/Math-Program-DRC-5eme-Secondaire.pdf_1cba555b-2f38-4946-814f-95079e3ec80d.json\n",
      "\u001b[32m2025-06-03 15:32:16 | INFO     | pdf_parser:write_object_to_file:63 | Saved content to /Users/esp.py/Projects/Personal/end-to-end-rag/datasets/parsed_documents/parsed_documents/Math-Program-DRC-5eme-Secondaire.pdf_1cba555b-2f38-4946-814f-95079e3ec80d.json\u001b[0m\n",
      "document should be save here /Users/esp.py/Projects/Personal/end-to-end-rag/datasets/parsed_documents/parsed_documents/Math-Program-DRC-5eme-Secondaire.pdf_17ec9dae-30fc-42b5-b27b-2b822cef866c.json\n",
      "\u001b[32m2025-06-03 15:32:16 | INFO     | pdf_parser:write_object_to_file:63 | Saved content to /Users/esp.py/Projects/Personal/end-to-end-rag/datasets/parsed_documents/parsed_documents/Math-Program-DRC-5eme-Secondaire.pdf_17ec9dae-30fc-42b5-b27b-2b822cef866c.json\u001b[0m\n"
     ]
    }
   ],
   "source": [
    "nodes = my_parser.parse_document(test_document)"
   ]
  },
  {
   "cell_type": "markdown",
   "id": "c1f23d70",
   "metadata": {},
   "source": []
  }
 ],
 "metadata": {
  "kernelspec": {
   "display_name": ".venv",
   "language": "python",
   "name": "python3"
  },
  "language_info": {
   "codemirror_mode": {
    "name": "ipython",
    "version": 3
   },
   "file_extension": ".py",
   "mimetype": "text/x-python",
   "name": "python",
   "nbconvert_exporter": "python",
   "pygments_lexer": "ipython3",
   "version": "3.10.4"
  }
 },
 "nbformat": 4,
 "nbformat_minor": 5
}
