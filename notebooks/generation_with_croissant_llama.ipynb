{
 "cells": [
  {
   "cell_type": "markdown",
   "metadata": {},
   "source": [
    "## Inference with the LLama Model"
   ]
  },
  {
   "cell_type": "markdown",
   "metadata": {},
   "source": [
    "In this notebook, we will call the croissant LLM to generate the response from our questions. We will compare the first approach that call the model directly from the transformer library and then the second approach that hit the llam-cpp api.\n"
   ]
  },
  {
   "cell_type": "code",
   "execution_count": 4,
   "metadata": {},
   "outputs": [
    {
     "name": "stderr",
     "output_type": "stream",
     "text": [
      "/Users/esp.py/Projects/Personal/end-to-end-rag/.venv/lib/python3.10/site-packages/tqdm/auto.py:21: TqdmWarning: IProgress not found. Please update jupyter and ipywidgets. See https://ipywidgets.readthedocs.io/en/stable/user_install.html\n",
      "  from .autonotebook import tqdm as notebook_tqdm\n"
     ]
    }
   ],
   "source": [
    "from transformers import LlamaForCausalLM, AutoTokenizer, set_seed\n",
    "import torch"
   ]
  },
  {
   "cell_type": "code",
   "execution_count": 5,
   "metadata": {},
   "outputs": [],
   "source": [
    "set_seed(42)"
   ]
  },
  {
   "cell_type": "code",
   "execution_count": 6,
   "metadata": {},
   "outputs": [
    {
     "name": "stderr",
     "output_type": "stream",
     "text": [
      "/Users/esp.py/Projects/Personal/end-to-end-rag/.venv/lib/python3.10/site-packages/huggingface_hub/file_download.py:1132: FutureWarning: `resume_download` is deprecated and will be removed in version 1.0.0. Downloads always resume when possible. If you want to force a new download, use `force_download=True`.\n",
      "  warnings.warn(\n",
      "Special tokens have been added in the vocabulary, make sure the associated word embeddings are fine-tuned or trained.\n",
      "Loading checkpoint shards: 100%|████████████████████████████████████████████████████████████████████████████████████████████████████████████████████████████████████████████████████████████████████████████████████| 2/2 [00:07<00:00,  3.79s/it]\n"
     ]
    }
   ],
   "source": [
    "model_name = \"croissantllm/CroissantLLMChat-v0.1\"\n",
    "tokenizer = AutoTokenizer.from_pretrained(model_name)\n",
    "model = LlamaForCausalLM.from_pretrained(\n",
    "    model_name, torch_dtype=torch.float16, device_map=\"auto\", offload_folder=\"offload\")"
   ]
  },
  {
   "cell_type": "code",
   "execution_count": 7,
   "metadata": {},
   "outputs": [],
   "source": [
    "from src.rag.components.retriever import HybridRetriever\n",
    "model_id = \"camembert-base\"\n",
    "spacy_model = 'fr_core_news_md'"
   ]
  },
  {
   "cell_type": "code",
   "execution_count": 8,
   "metadata": {},
   "outputs": [
    {
     "name": "stderr",
     "output_type": "stream",
     "text": [
      "No sentence-transformers model found with name camembert-base. Creating a new one with mean pooling.\n",
      "/Users/esp.py/Projects/Personal/end-to-end-rag/.venv/lib/python3.10/site-packages/huggingface_hub/file_download.py:1132: FutureWarning: `resume_download` is deprecated and will be removed in version 1.0.0. Downloads always resume when possible. If you want to force a new download, use `force_download=True`.\n",
      "  warnings.warn(\n",
      "Some weights of CamembertForSequenceClassification were not initialized from the model checkpoint at camembert-base and are newly initialized: ['classifier.dense.bias', 'classifier.dense.weight', 'classifier.out_proj.bias', 'classifier.out_proj.weight']\n",
      "You should probably TRAIN this model on a down-stream task to be able to use it for predictions and inference.\n"
     ]
    }
   ],
   "source": [
    "retriever = HybridRetriever(model_id=model_id, spacy_model=spacy_model)"
   ]
  },
  {
   "cell_type": "code",
   "execution_count": 9,
   "metadata": {},
   "outputs": [],
   "source": [
    "questions = [\"Quand l’Ordonnance présidentielle a-t-elle été lue sur le plateau de la Radiotélévision nationale congolaise (RTNC)?\",\n",
    "             \"Qui a été nommé pour remplacer Emmanuel Ramazani Shadary au poste de vice-Premier ministre et ministre de l’Intérieur et sécurité?\",\n",
    "             \"Où et quand Henri Mova Sakanyi est-il né?\",\n",
    "             \"Quelle est la carrière politique de Henri Mova Sakanyi en République démocratique du Congo?\",\n",
    "             \"Quel est le poste actuel de Henri Mova Sakanyi au sein du Parti du peuple pour la Reconstruction et la Démocratie (PPRD)?\"]"
   ]
  },
  {
   "cell_type": "code",
   "execution_count": null,
   "metadata": {},
   "outputs": [],
   "source": [
    "template = \"\"\"\n",
    "Given the following information, answer the question.\n",
    "\n",
    "Context:\n",
    "{% for document in documents %}\n",
    "    {{ document.content }}\n",
    "{% endfor %}\n",
    "\n",
    "Question: {{question}}\n",
    "Answer:\n",
    "\"\"\""
   ]
  },
  {
   "cell_type": "code",
   "execution_count": null,
   "metadata": {},
   "outputs": [],
   "source": [
    "from jinja2 import Template"
   ]
  },
  {
   "cell_type": "markdown",
   "metadata": {},
   "source": [
    "### Using The Transformer Model"
   ]
  },
  {
   "cell_type": "code",
   "execution_count": 15,
   "metadata": {},
   "outputs": [],
   "source": [
    "def generate_chat_input(query:str, documents:list) -> str:\n",
    "    prompt_template  = \"\"\"\n",
    "        Context:\n",
    "        {% for document in documents %}\n",
    "            {{ document }}\n",
    "        {% endfor %}\n",
    "\n",
    "        Question: {{question}}\n",
    "        Answer:\n",
    "        \"\"\"\n",
    "    template = Template(prompt_template)\n",
    "    prompt = template.render(documents=documents, question=query)\n",
    "    \n",
    "    chat_input = [\n",
    "        {\"role\": \"system\", \"content\": \"Given the Context:, answer the question in french.\"},\n",
    "      {\"role\": \"user\", \"content\": prompt},\n",
    "    ]\n",
    "    \n",
    "    return chat_input"
   ]
  },
  {
   "cell_type": "code",
   "execution_count": 10,
   "metadata": {},
   "outputs": [],
   "source": [
    "def parse_response(text):\n",
    "    \"\"\" Split the text inside the  <|im_start|> assistant <|im_end|> tags and then split the new line text  and return the pair question and response\"\"\"\n",
    "\n",
    "    # use regex to get the text inside the <|im_start|> assistant <|im_end|> tags\n",
    "    text = text.split(\"<|im_start|> assistant\")[1].split(\"<|im_end|>\")[0]\n",
    "    return text"
   ]
  },
  {
   "cell_type": "code",
   "execution_count": 7,
   "metadata": {},
   "outputs": [],
   "source": [
    "def generate_answer(chat_input:str) -> str:\n",
    "    \"\"\"this function generates an answer to a question given a chat input\n",
    "\n",
    "    Args:\n",
    "        chat_input (str): _description_\n",
    "\n",
    "    Returns:\n",
    "        str: _description_\n",
    "    \"\"\"\n",
    "   \n",
    "    generation_args = {\n",
    "        \"max_new_tokens\": 512,\n",
    "        \"do_sample\": True,\n",
    "        \"temperature\": 0.3,\n",
    "        \"top_p\": 0.90,\n",
    "        \"top_k\": 40,\n",
    "        \"repetition_penalty\": 1.05,\n",
    "        \"eos_token_id\": [tokenizer.eos_token_id, 32000],\n",
    "    }\n",
    "\n",
    "\n",
    "    inputs = tokenizer(chat_input, return_tensors=\"pt\").to(model.device)\n",
    "    tokens = model.generate(**inputs, **generation_args)\n",
    "    input_ids = inputs[\"input_ids\"]\n",
    "    generated_token = tokens[0][input_ids.shape[-1]:]\n",
    "    return tokenizer.decode(generated_token)"
   ]
  },
  {
   "cell_type": "code",
   "execution_count": 12,
   "metadata": {},
   "outputs": [],
   "source": [
    "from unicodedata import normalize"
   ]
  },
  {
   "cell_type": "code",
   "execution_count": 13,
   "metadata": {},
   "outputs": [
    {
     "data": {
      "text/plain": [
       "'Qui a été nommé pour remplacer Emmanuel Ramazani Shadary au poste de vice-Premier ministre et ministre de l’Intérieur et sécurité?'"
      ]
     },
     "execution_count": 13,
     "metadata": {},
     "output_type": "execute_result"
    }
   ],
   "source": [
    "questions[1]"
   ]
  },
  {
   "cell_type": "code",
   "execution_count": 27,
   "metadata": {},
   "outputs": [
    {
     "name": "stderr",
     "output_type": "stream",
     "text": [
      "Setting `pad_token_id` to `eos_token_id`:32000 for open-end generation.\n"
     ]
    },
    {
     "name": "stdout",
     "output_type": "stream",
     "text": [
      "the answer to the question Quand l’Ordonnance présidentielle a-t-elle été lue sur le plateau de la Radiotélévision nationale congolaise (RTNC)? is: __ \n",
      " L'Ordonnance présidentielle a été lue hier mardi 20 février 2018 sur le plateau de la Radiotélévision nationale congolaise (RTNC), dans l'émission \"Histoire du Congo\". La réponse ne peut pas être donnée car elle dépend de l'ordre chronologique ou logique des événements décrits dans la question.<|im_end|>\n",
      "--------------------------------------------------\n"
     ]
    }
   ],
   "source": [
    "for question in questions[:1]:\n",
    "    documents = retriever.run(question)\n",
    "    chat_input = generate_chat_input(question, documents)\n",
    "    chat_tokens = tokenizer.apply_chat_template(\n",
    "        chat_input, tokenize=False, add_generation_prompt=True)\n",
    "    answer = generate_answer(chat_tokens)\n",
    "    answer = parse_response(answer)\n",
    "    print(\"the answer to the question {} is: __ \\n {}\".format(question, answer))\n",
    "\n",
    "    print(50 * \"-\")"
   ]
  },
  {
   "cell_type": "code",
   "execution_count": 28,
   "metadata": {},
   "outputs": [
    {
     "data": {
      "text/plain": [
       "'<|im_start|>system\\nGiven the Context:, answer the question in french.<|im_end|>\\n<|im_start|>user\\n\\n        Context:\\n        \\n            (KINSHASA)- Le présentateur de la très controversée émission ‘‘Histoire du Congo’’ diffusée sur la télévision publique-Rtnc, Lushima Ndjate continue à prester normalement comme si le conseil supérieur de l’audiovisuel et de la communication n’avait pris aucune décision à son encontre.\\n        \\n            L’Ordonnance présidentielle a été lue hier, mardi 20 février 2018 sur le plateau de la Radiotélévision nationale congolaise (RTNC) dans l’édition de 20 heures. Henri Mova Sakanyi remplace ainsi Emmanuel Ramazani Shadary, vice-Premier ministre et ministre de l’Intérieur et sécurité. Mova\\n        \\n            Adolphe Lumanu Mulenda Bwana N’Sefu a fait montre de capacité et de crédibilité de son organisme, l’Office national d’identification de la population créée par ordonnance présidentielle dont les membres venaient de l’être par la même voie (Ordonnance Présidentielle n°14/066 du 15 octobre\\n        \\n            Par Siméon IsakoLe Président de la République Félix Tshisekedi a par ordonnances présidentielles, nommé une centaine des personnes dans des entreprises et établissements publics ce samedi 08 juillet 2023.Les ordonnances ont été lues sur la Rtnc par la porte-parole du Chef de l’État, Tina\\n        \\n            de l\\'histoire de la République Démocratique du Congo sera diffusé juste après l\\'édition du journal de 20h à la Radio Télévision Nationale Congolaise (RTNC).Selon plusieurs sources proches de la présidence, le successeur de Joseph Kabila devrait annoncer la fin de l\\'état d\\'urgence en RDC.\\n        \\n            Athanase Matenda et Sébastien Kongolo avaient été nommés, respectivement, président du conseil d’administration et administrateur de la Caisse nationale de sécurité sociale (CNSS) par ordonnance présidentielle signée le 11 novembre dernier et lue à la RTNC 4 jours après. Curieusement, la\\n        \\n            du CSAC avec le Directeur de la RTNC, Ernest Kabila, à son nouveau siège, situé à Kinshasa.Récemment, certains candidats président de la République et députés nationaux ont accusé la RTNC d’être au service du candidat du pouvoir. Ils ont exigé que tous les candidats aient accès aux\\n        \\n            Ladite ordonnance a été lue sur les antennes de la Radio-télévision nationale congolaise (RTNC) dans la matinée de ce dimanche par le porte-parole du président de la République.Cette investiture de Rita Bola par le chef de l\\'Etat intervient presque 3 mois après son élection à l\\'assemblée\\n        \\n            d\\'exclusivité. Sur l\\'ensemble du territoire national congolais, il y a que la RTNC. Bien-sûr, il y a certains têtus qui vont s\\'evertuer à voler le signal de la RTNC, ils vont s\\'exposer à des poursuites judiciaires. Ils sont prévenus que le signal est réservé uniquement à la RTNC. Il\\n        \\n            Le successeur de Joseph Kabila a fait cette annonce au cours d\\'une interview diffusée en direct de Goma sur les antennes de la Radio Télévision Nationale Congolaise (RTNC).\"Aujourd\\'hui, je suis à Goma comme je l\\'avais promis, je termine mon séjour\", a déclaré Félix Tshisekedi. Pour rappel,\\n        \\n\\n        Question: Quand l’Ordonnance présidentielle a-t-elle été lue sur le plateau de la Radiotélévision nationale congolaise (RTNC)?\\n        Answer:\\n        <|im_end|>\\n<|im_start|>assistant\\n'"
      ]
     },
     "execution_count": 28,
     "metadata": {},
     "output_type": "execute_result"
    }
   ],
   "source": [
    "chat_tokens"
   ]
  },
  {
   "cell_type": "markdown",
   "metadata": {},
   "source": [
    "#### Hit the LLama API\n",
    "\n",
    "Bellow is the code that call the llama server Api to get the message."
   ]
  },
  {
   "cell_type": "code",
   "execution_count": 28,
   "metadata": {},
   "outputs": [],
   "source": [
    "\n",
    "# Specify the URL\n",
    "API_URL = 'http://142.132.172.241:8000/completion'"
   ]
  },
  {
   "cell_type": "code",
   "execution_count": 9,
   "metadata": {},
   "outputs": [
    {
     "data": {
      "text/plain": [
       "'Qui a été nommé pour remplacer Emmanuel Ramazani Shadary au poste de vice-Premier ministre et ministre de l’Intérieur et sécurité?'"
      ]
     },
     "execution_count": 9,
     "metadata": {},
     "output_type": "execute_result"
    }
   ],
   "source": [
    "questions[1]"
   ]
  },
  {
   "cell_type": "code",
   "execution_count": 10,
   "metadata": {},
   "outputs": [],
   "source": [
    "documents = retriever.run(questions[1])\n"
   ]
  },
  {
   "cell_type": "code",
   "execution_count": 12,
   "metadata": {},
   "outputs": [
    {
     "name": "stdout",
     "output_type": "stream",
     "text": [
      "officiers supérieurs de la PNC, des FARDC et des responsables des services de sécurité. Il faut noter également la présence des membres de la Commission Défense et Sécurité de l’Assemblée nationale. Selon le Vice-Premier Ministre en charge de l’Interieur et Sécurité qui a fait le point\n",
      "--------------------------------------------------\n",
      "Il a désigné son dauphin en août 2018.\n",
      "Il s'agit de son ancien ministre de l'intérieur Emmanuel Ramazani Shadary.\n",
      "--------------------------------------------------\n",
      "Par Joe Kazumba/stagiaireRécemment secrétaire général du Parti au pouvoir, PPRD, Henry Mova Sakanyi vient d’être nommé vice-premier ministre en charge de l’intérieur par ordonnance présidentielle, mardi 20 février. Il remplace Emmanuel Shadary à ce poste.Mova Sakanyi fut ministre des\n",
      "--------------------------------------------------\n",
      "Le décor est déjà planté. Les invités sont bien présents. Dans quelques heures le vice-premier ministre, ministre de l’intérieur et sécurité, Ramazani Shadary va lancer le début des travaux. A Goma depuis dimanche 17 décembre, le ministre de l’intérieur a présidé une réunion du\n",
      "--------------------------------------------------\n",
      "vice-Premier ministre chargé de l’Intérieur et Sécurité. Le vice-Premier ministre chargé de l’Intérieur et Sécurité mesure-t-il la gravité des déclarations qu’il a tenues, hier mercredi, à l’occasion de la présentation des matériels anti-émeute mis à la disposition de la Police\n",
      "--------------------------------------------------\n",
      "ministres et de deux ministres d’Etat. A. Trois Vice-Premiers Ministres 1. Vice-Premier Ministre de l’Intérieur : Evariste Boshab 2. Vice-Premier Ministre des PTT /NTIC ; Thomas Luhaka 3. Vice-Premier ministre de l’Emploi, Travail et Prévoyance Sociale : Willy Makiashi B. Deux ministres d’Etat 1.\n",
      "--------------------------------------------------\n",
      "Le Président de la république a jeté son dévolu sur le Secrétaire permanent du PPRD, Emmanuel Ramazani Shadary, pour être son dauphin et candidat du FCC à la présidentielle du 23 décembre 2018.L’annoce a été faite par le ministre de la communication et Porte-parole du Gouvernement,\n",
      "--------------------------------------------------\n",
      "Louis D'or Balekelay, ancien conseiller en communication d'Emmanuel Ramazani Shadary a, au cours d'une conférence de presse organisée ce vendredi 27 août 2021, annoncé son départ du Parti du Peuple pour la Reconstruction et la Démocratie (PPRD), après avoir passé 19 ans au sein du parti cher\n",
      "--------------------------------------------------\n",
      "de la Commission Défense et Sécurité de l’Assemblée nationale.« « , a déclaré brièvement le Vice-Premier Ministre en charge de l’Interieur, Sécurité et Affaires coutumières, Peter Kazadi Kankonde.Signalons par ailleurs que c’est une première réunion de Sécurité à laquelle les deux\n",
      "--------------------------------------------------\n",
      "ministres d'État ;C. 24 ministres ;D. 1 ministre délégué et ;E. 9 vice-ministres.S'agissant par exemple des vice-premiers ministres, il y a entre autres :- 1er vice-premier ministre, ministre de l'Intérieur, Sécurité, Décentralisation et Affaires Coutumières ;- 2ème vice-premier ministre,\n",
      "--------------------------------------------------\n"
     ]
    }
   ],
   "source": [
    "for document in documents:\n",
    "    print(document)\n",
    "    print(50 * \"-\")"
   ]
  },
  {
   "cell_type": "code",
   "execution_count": 18,
   "metadata": {},
   "outputs": [],
   "source": [
    "chat_input = generate_chat_input(questions[1], documents)"
   ]
  },
  {
   "cell_type": "code",
   "execution_count": 19,
   "metadata": {},
   "outputs": [
    {
     "data": {
      "text/plain": [
       "[{'role': 'system',\n",
       "  'content': 'Given the Context:, answer the question in french.'},\n",
       " {'role': 'user',\n",
       "  'content': \"\\n        Context:\\n        \\n            officiers supérieurs de la PNC, des FARDC et des responsables des services de sécurité. Il faut noter également la présence des membres de la Commission Défense et Sécurité de l’Assemblée nationale. Selon le Vice-Premier Ministre en charge de l’Interieur et Sécurité qui a fait le point\\n        \\n            Il a désigné son dauphin en août 2018.\\nIl s'agit de son ancien ministre de l'intérieur Emmanuel Ramazani Shadary.\\n        \\n            Par Joe Kazumba/stagiaireRécemment secrétaire général du Parti au pouvoir, PPRD, Henry Mova Sakanyi vient d’être nommé vice-premier ministre en charge de l’intérieur par ordonnance présidentielle, mardi 20 février. Il remplace Emmanuel Shadary à ce poste.Mova Sakanyi fut ministre des\\n        \\n            Le décor est déjà planté. Les invités sont bien présents. Dans quelques heures le vice-premier ministre, ministre de l’intérieur et sécurité, Ramazani Shadary va lancer le début des travaux. A Goma depuis dimanche 17 décembre, le ministre de l’intérieur a présidé une réunion du\\n        \\n            vice-Premier ministre chargé de l’Intérieur et Sécurité. Le vice-Premier ministre chargé de l’Intérieur et Sécurité mesure-t-il la gravité des déclarations qu’il a tenues, hier mercredi, à l’occasion de la présentation des matériels anti-émeute mis à la disposition de la Police\\n        \\n            ministres et de deux ministres d’Etat. A. Trois Vice-Premiers Ministres 1. Vice-Premier Ministre de l’Intérieur : Evariste Boshab 2. Vice-Premier Ministre des PTT /NTIC ; Thomas Luhaka 3. Vice-Premier ministre de l’Emploi, Travail et Prévoyance Sociale : Willy Makiashi B. Deux ministres d’Etat 1.\\n        \\n            Le Président de la république a jeté son dévolu sur le Secrétaire permanent du PPRD, Emmanuel Ramazani Shadary, pour être son dauphin et candidat du FCC à la présidentielle du 23 décembre 2018.L’annoce a été faite par le ministre de la communication et Porte-parole du Gouvernement,\\n        \\n            Louis D'or Balekelay, ancien conseiller en communication d'Emmanuel Ramazani Shadary a, au cours d'une conférence de presse organisée ce vendredi 27 août 2021, annoncé son départ du Parti du Peuple pour la Reconstruction et la Démocratie (PPRD), après avoir passé 19 ans au sein du parti cher\\n        \\n            de la Commission Défense et Sécurité de l’Assemblée nationale.« « , a déclaré brièvement le Vice-Premier Ministre en charge de l’Interieur, Sécurité et Affaires coutumières, Peter Kazadi Kankonde.Signalons par ailleurs que c’est une première réunion de Sécurité à laquelle les deux\\n        \\n            ministres d'État ;C. 24 ministres ;D. 1 ministre délégué et ;E. 9 vice-ministres.S'agissant par exemple des vice-premiers ministres, il y a entre autres :- 1er vice-premier ministre, ministre de l'Intérieur, Sécurité, Décentralisation et Affaires Coutumières ;- 2ème vice-premier ministre,\\n        \\n\\n        Question: Qui a été nommé pour remplacer Emmanuel Ramazani Shadary au poste de vice-Premier ministre et ministre de l’Intérieur et sécurité?\\n        Answer:\\n        \"}]"
      ]
     },
     "execution_count": 19,
     "metadata": {},
     "output_type": "execute_result"
    }
   ],
   "source": [
    "chat_input"
   ]
  },
  {
   "cell_type": "code",
   "execution_count": 20,
   "metadata": {},
   "outputs": [],
   "source": [
    "chat_tokens = tokenizer.apply_chat_template(\n",
    "    chat_input, tokenize=False, add_generation_prompt=True)"
   ]
  },
  {
   "cell_type": "code",
   "execution_count": 21,
   "metadata": {},
   "outputs": [],
   "source": [
    "import requests\n",
    "import json"
   ]
  },
  {
   "cell_type": "code",
   "execution_count": 22,
   "metadata": {},
   "outputs": [
    {
     "data": {
      "text/plain": [
       "'<|im_end|>'"
      ]
     },
     "execution_count": 22,
     "metadata": {},
     "output_type": "execute_result"
    }
   ],
   "source": [
    "tokenizer.eos_token"
   ]
  },
  {
   "cell_type": "code",
   "execution_count": 29,
   "metadata": {},
   "outputs": [],
   "source": [
    "def generate_response_from_llama_api(prompt:str) ->str:\n",
    "    \"\"\" \n",
    "    This function sends a post request to the llama api and returns the response.\n",
    "    \"\"\"\n",
    "    headers = {\n",
    "        'Content-Type': 'application/json',\n",
    "    }\n",
    "\n",
    "\n",
    "    data = {\n",
    "        \"prompt\": prompt,\n",
    "        \"n_predict\": 128,\n",
    "        \"temperature\": 0.3,\n",
    "        \"top_k\": 40,\n",
    "        \"top_p\": 0.90,\n",
    "        \"stopped_eos\": True,\n",
    "        \"repeat_penalty\": 1.05,\n",
    "        \"stop\": [\"assistant\", tokenizer.eos_token],\n",
    "        \"seed\": 42\n",
    "    }\n",
    "\n",
    "\n",
    "    json_data = json.dumps(data)\n",
    "\n",
    "    # Send the POST request\n",
    "    try:\n",
    "        response = requests.post(API_URL, headers=headers, data=json_data)\n",
    "        return response.json()[\"content\"]\n",
    "    except Exception as e:\n",
    "        print(e)\n",
    "        return None"
   ]
  },
  {
   "cell_type": "code",
   "execution_count": 24,
   "metadata": {},
   "outputs": [],
   "source": [
    "answer = generate_response_from_llama_api(chat_tokens)"
   ]
  },
  {
   "cell_type": "code",
   "execution_count": 25,
   "metadata": {},
   "outputs": [
    {
     "data": {
      "text/plain": [
       "'           \\nRéponse: Henry Moova Sakanyi.'"
      ]
     },
     "execution_count": 25,
     "metadata": {},
     "output_type": "execute_result"
    }
   ],
   "source": [
    "answer"
   ]
  },
  {
   "cell_type": "code",
   "execution_count": 30,
   "metadata": {},
   "outputs": [
    {
     "name": "stdout",
     "output_type": "stream",
     "text": [
      "the answer to the question Quand l’Ordonnance présidentielle a-t-elle été lue sur le plateau de la Radiotélévision nationale congolaise (RTNC)? is: __ \n",
      "  La Présidentielle a été lue sur le plateau de la Radio-Télévision Nationale Congolaise (RTNC) dans l'édition du journal de 20 heures par la porte-parole du Chef de l'État, Tiina Shadary.\n",
      "--------------------------------------------------\n",
      "the answer to the question Qui a été nommé pour remplacer Emmanuel Ramazani Shadary au poste de vice-Premier ministre et ministre de l’Intérieur et sécurité? is: __ \n",
      "            \n",
      "Réponse:\n",
      "Le Vice-Premier Ministre en charge de l'Intérieur et Sécurité a été désigné pour remplacer Emmanuel Ramazaani Shadary au poste de vice-Premier ministre et ministre de l’Intérieur et sécurité.\n",
      "--------------------------------------------------\n",
      "the answer to the question Où et quand Henri Mova Sakanyi est-il né? is: __ \n",
      "  Henri Mova Sakanyi est né le 15 février 2018.\n",
      "--------------------------------------------------\n",
      "the answer to the question Quelle est la carrière politique de Henri Mova Sakanyi en République démocratique du Congo? is: __ \n",
      "  Henri Moa Sakanyi est un cadre du Parti pour la Reconstruction et le Développement (PRD), anciennement parti de l'opposition en République démocratique du Congo. Il a été élu président du Sénat dans les années 2018-2019.\n",
      "--------------------------------------------------\n",
      "the answer to the question Quel est le poste actuel de Henri Mova Sakanyi au sein du Parti du peuple pour la Reconstruction et la Démocratie (PPRD)? is: __ \n",
      "  Henri Mova Sakanyi est actuellement Secrétaire permanent adjoint du Parti du Peuple pour la Reconstruction et le Développement (PPRD) au Congo.\n",
      "--------------------------------------------------\n"
     ]
    }
   ],
   "source": [
    "for question in questions:\n",
    "    documents = retriever.run(question)\n",
    "    chat_input = generate_chat_input(question, documents)\n",
    "    prompt = tokenizer.apply_chat_template(\n",
    "        chat_input, tokenize=False, add_generation_prompt=True)\n",
    "    answer = generate_response_from_llama_api(prompt)\n",
    "    print(\"the answer to the question {} is: __ \\n {}\".format(question, answer))\n",
    "\n",
    "    print(50 * \"-\")"
   ]
  },
  {
   "cell_type": "markdown",
   "metadata": {},
   "source": [
    "### Using the Class to generate the response"
   ]
  },
  {
   "cell_type": "code",
   "execution_count": 2,
   "metadata": {},
   "outputs": [],
   "source": [
    "from src.rag.components.generator import LLamaCppGeneratorComponent\n",
    "from src.rag.components.retriever import HybridRetriever"
   ]
  },
  {
   "cell_type": "code",
   "execution_count": 5,
   "metadata": {},
   "outputs": [
    {
     "name": "stderr",
     "output_type": "stream",
     "text": [
      "No sentence-transformers model found with name camembert-base. Creating a new one with mean pooling.\n",
      "/Users/esp.py/Projects/Personal/end-to-end-rag/.venv/lib/python3.10/site-packages/huggingface_hub/file_download.py:1132: FutureWarning: `resume_download` is deprecated and will be removed in version 1.0.0. Downloads always resume when possible. If you want to force a new download, use `force_download=True`.\n",
      "  warnings.warn(\n",
      "Some weights of CamembertForSequenceClassification were not initialized from the model checkpoint at camembert-base and are newly initialized: ['classifier.dense.bias', 'classifier.dense.weight', 'classifier.out_proj.bias', 'classifier.out_proj.weight']\n",
      "You should probably TRAIN this model on a down-stream task to be able to use it for predictions and inference.\n"
     ]
    }
   ],
   "source": [
    "hybrid_retriever = HybridRetriever(model_id=model_id, spacy_model=spacy_model)"
   ]
  },
  {
   "cell_type": "code",
   "execution_count": 7,
   "metadata": {},
   "outputs": [],
   "source": [
    "sample_question = questions[4]"
   ]
  },
  {
   "cell_type": "code",
   "execution_count": 8,
   "metadata": {},
   "outputs": [],
   "source": [
    "documents = hybrid_retriever.run(sample_question)"
   ]
  },
  {
   "cell_type": "code",
   "execution_count": 12,
   "metadata": {},
   "outputs": [],
   "source": [
    "# Specify the URL\n",
    "API_URL = 'http://localhost:8001'"
   ]
  },
  {
   "cell_type": "code",
   "execution_count": 13,
   "metadata": {},
   "outputs": [
    {
     "name": "stderr",
     "output_type": "stream",
     "text": [
      "/Users/esp.py/Projects/Personal/end-to-end-rag/.venv/lib/python3.10/site-packages/huggingface_hub/file_download.py:1132: FutureWarning: `resume_download` is deprecated and will be removed in version 1.0.0. Downloads always resume when possible. If you want to force a new download, use `force_download=True`.\n",
      "  warnings.warn(\n",
      "Special tokens have been added in the vocabulary, make sure the associated word embeddings are fine-tuned or trained.\n"
     ]
    }
   ],
   "source": [
    "generator_component = LLamaCppGeneratorComponent(api_url=API_URL)"
   ]
  },
  {
   "cell_type": "code",
   "execution_count": 16,
   "metadata": {},
   "outputs": [],
   "source": [
    "assert generator_component._ping_api()"
   ]
  },
  {
   "cell_type": "code",
   "execution_count": 20,
   "metadata": {},
   "outputs": [],
   "source": [
    "answer = generator_component.run(sample_question, documents)"
   ]
  },
  {
   "cell_type": "code",
   "execution_count": 21,
   "metadata": {},
   "outputs": [
    {
     "name": "stdout",
     "output_type": "stream",
     "text": [
      "the answer to the question Quel est le poste actuel de Henri Mova Sakanyi au sein du Parti du peuple pour la Reconstruction et la Démocratie (PPRD)? is: __ \n",
      "  Henri Mova Sakanyi est actuellement secrétaire exécutive de la direction politique du PPRD.\n"
     ]
    }
   ],
   "source": [
    "print(\"the answer to the question {} is: __ \\n {}\".format(sample_question, answer))"
   ]
  },
  {
   "cell_type": "code",
   "execution_count": 31,
   "metadata": {},
   "outputs": [
    {
     "data": {
      "text/plain": [
       "['Quand l’Ordonnance présidentielle a-t-elle été lue sur le plateau de la Radiotélévision nationale congolaise (RTNC)?',\n",
       " 'Qui a été nommé pour remplacer Emmanuel Ramazani Shadary au poste de vice-Premier ministre et ministre de l’Intérieur et sécurité?',\n",
       " 'Où et quand Henri Mova Sakanyi est-il né?',\n",
       " 'Quelle est la carrière politique de Henri Mova Sakanyi en République démocratique du Congo?',\n",
       " 'Quel est le poste actuel de Henri Mova Sakanyi au sein du Parti du peuple pour la Reconstruction et la Démocratie (PPRD)?']"
      ]
     },
     "execution_count": 31,
     "metadata": {},
     "output_type": "execute_result"
    }
   ],
   "source": [
    "questions"
   ]
  },
  {
   "cell_type": "markdown",
   "metadata": {},
   "source": [
    "### How the generation works in practice"
   ]
  },
  {
   "cell_type": "code",
   "execution_count": 1,
   "metadata": {},
   "outputs": [],
   "source": [
    "a =2"
   ]
  },
  {
   "cell_type": "markdown",
   "metadata": {},
   "source": [
    "- # Let us start with a simple question: \n"
   ]
  },
  {
   "cell_type": "code",
   "execution_count": 10,
   "metadata": {},
   "outputs": [
    {
     "data": {
      "text/plain": [
       "'Qui a été nommé pour remplacer Emmanuel Ramazani Shadary au poste de vice-Premier ministre et ministre de l’Intérieur et sécurité?'"
      ]
     },
     "execution_count": 10,
     "metadata": {},
     "output_type": "execute_result"
    }
   ],
   "source": [
    "questions[1]"
   ]
  },
  {
   "cell_type": "raw",
   "metadata": {},
   "source": [
    "If we run the first step of the retrieval which is the keyword extraction we will end up with the following keywords"
   ]
  },
  {
   "cell_type": "code",
   "execution_count": 33,
   "metadata": {},
   "outputs": [],
   "source": [
    "keywords = retriever.perform_keyword_extraction(questions[1])"
   ]
  },
  {
   "cell_type": "markdown",
   "metadata": {},
   "source": [
    "Now let peroform the keyword search to find out what will be genreated."
   ]
  },
  {
   "cell_type": "code",
   "execution_count": 35,
   "metadata": {},
   "outputs": [],
   "source": [
    "keywords_search_results = retriever.keyword_search(keywords)"
   ]
  },
  {
   "cell_type": "markdown",
   "metadata": {},
   "source": [
    "With the keywords search results, let us perform, embeddings search"
   ]
  },
  {
   "cell_type": "code",
   "execution_count": null,
   "metadata": {},
   "outputs": [],
   "source": []
  }
 ],
 "metadata": {
  "kernelspec": {
   "display_name": "my virtualenviron",
   "language": "python",
   "name": ".venv"
  },
  "language_info": {
   "codemirror_mode": {
    "name": "ipython",
    "version": 3
   },
   "file_extension": ".py",
   "mimetype": "text/x-python",
   "name": "python",
   "nbconvert_exporter": "python",
   "pygments_lexer": "ipython3",
   "version": "3.10.4"
  }
 },
 "nbformat": 4,
 "nbformat_minor": 2
}
