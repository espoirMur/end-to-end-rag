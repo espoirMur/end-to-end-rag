{
 "cells": [
  {
   "cell_type": "markdown",
   "id": "92ff5b0d-2052-48fc-895d-1b02f8d4e6ee",
   "metadata": {},
   "source": [
    "### Loading the model checkpoint using fairseq extensions"
   ]
  },
  {
   "cell_type": "code",
   "execution_count": 1,
   "id": "b1080005-3f03-4077-966a-5b59ec95c5ff",
   "metadata": {},
   "outputs": [],
   "source": [
    "import torch\n",
    "from pathlib import Path"
   ]
  },
  {
   "cell_type": "code",
   "execution_count": 2,
   "id": "2d0922cd-a772-467f-a3ca-1211ce39eb76",
   "metadata": {},
   "outputs": [],
   "source": [
    "qa_model_checkpoint_path = Path.cwd().joinpath(\n",
    "    'models', 'QA-PubMedQA-BioGPT', \"checkpoint.pt\")"
   ]
  },
  {
   "cell_type": "markdown",
   "id": "4961dfe1-67bf-4b7a-a233-9e868c3d7268",
   "metadata": {},
   "source": [
    "After looking at the architecture, let us load the model directly using fairseq and later we will decide to load it using transformers and may be transform it to huggingface."
   ]
  },
  {
   "cell_type": "code",
   "execution_count": 3,
   "id": "df55fe52-91c1-4fd8-aaed-21e54e588cee",
   "metadata": {},
   "outputs": [
    {
     "data": {
      "text/plain": [
       "PosixPath('/Users/esp.py/Projects/Personal/end-to-end-rag/models/QA-PubMedQA-BioGPT/checkpoint.pt')"
      ]
     },
     "execution_count": 3,
     "metadata": {},
     "output_type": "execute_result"
    }
   ],
   "source": [
    "qa_model_checkpoint_path"
   ]
  },
  {
   "cell_type": "code",
   "execution_count": 4,
   "id": "e778829e-d9c4-44ff-99e9-722086e4ae1f",
   "metadata": {},
   "outputs": [
    {
     "name": "stderr",
     "output_type": "stream",
     "text": [
      "2024-02-17 05:33:50 | INFO | fairseq.tasks.text_to_speech | Please install tensorboardX: pip install tensorboardX\n"
     ]
    }
   ],
   "source": [
    "from biogpt_model.transformer_lm_prompt import TransformerLanguageModelPrompt"
   ]
  },
  {
   "cell_type": "code",
   "execution_count": 5,
   "id": "8bd464b5-675c-44b8-9487-11b4463939dd",
   "metadata": {},
   "outputs": [],
   "source": [
    "data_path = Path.cwd().joinpath('datasets', 'biogpt', 'pqal_qcl_ansis-bin')\n",
    "bpe_code_path = data_path.parent.joinpath('raw', 'bpecodes')\n",
    "assert data_path.exists()\n",
    "assert bpe_code_path.exists()"
   ]
  },
  {
   "cell_type": "code",
   "execution_count": 6,
   "id": "31d91dcc-b608-4eb6-b23a-61cee0e1add7",
   "metadata": {},
   "outputs": [
    {
     "name": "stderr",
     "output_type": "stream",
     "text": [
      "2024-02-17 05:33:53 | INFO | fairseq.file_utils | loading archive file /Users/esp.py/Projects/Personal/end-to-end-rag/models/QA-PubMedQA-BioGPT from cache at /Users/esp.py/Projects/Personal/end-to-end-rag/models/QA-PubMedQA-BioGPT\n",
      "2024-02-17 05:33:53 | INFO | fairseq.file_utils | loading archive file /Users/esp.py/Projects/Personal/end-to-end-rag/datasets/biogpt/pqal_qcl_ansis-bin\n"
     ]
    },
    {
     "name": "stderr",
     "output_type": "stream",
     "text": [
      "2024-02-17 05:33:55 | INFO | biogpt_model.language_modeling_prompt | dictionary: 42384 types\n",
      "2024-02-17 05:33:58 | INFO | fairseq.models.fairseq_model | {'_name': None, 'common': {'_name': None, 'no_progress_bar': False, 'log_interval': 100, 'log_format': None, 'log_file': None, 'aim_repo': None, 'aim_run_hash': None, 'tensorboard_logdir': None, 'wandb_project': None, 'azureml_logging': False, 'seed': 1, 'cpu': False, 'tpu': False, 'bf16': False, 'memory_efficient_bf16': False, 'fp16': True, 'memory_efficient_fp16': True, 'fp16_no_flatten_grads': False, 'fp16_init_scale': 128, 'fp16_scale_window': None, 'fp16_scale_tolerance': 0.0, 'on_cpu_convert_precision': False, 'min_loss_scale': 0.0001, 'threshold_loss_scale': None, 'amp': False, 'amp_batch_retries': 2, 'amp_init_scale': 128, 'amp_scale_window': None, 'user_dir': '../../src', 'empty_cache_freq': 0, 'all_gather_list_size': 16384, 'model_parallel_size': 1, 'quantization_config_path': None, 'profile': False, 'reset_logging': False, 'suppress_crashes': False, 'use_plasma_view': False, 'plasma_path': '/tmp/plasma'}, 'common_eval': {'_name': None, 'path': None, 'post_process': None, 'quiet': False, 'model_overrides': '{}', 'results_path': None}, 'distributed_training': {'_name': None, 'distributed_world_size': 1, 'distributed_num_procs': 1, 'distributed_rank': 0, 'distributed_backend': 'nccl', 'distributed_init_method': None, 'distributed_port': -1, 'device_id': 0, 'distributed_no_spawn': False, 'ddp_backend': 'pytorch_ddp', 'ddp_comm_hook': 'none', 'bucket_cap_mb': 25, 'fix_batches_to_gpus': False, 'find_unused_parameters': False, 'gradient_as_bucket_view': False, 'fast_stat_sync': False, 'heartbeat_timeout': -1, 'broadcast_buffers': False, 'slowmo_momentum': None, 'slowmo_base_algorithm': 'localsgd', 'localsgd_frequency': 3, 'nprocs_per_node': 1, 'pipeline_model_parallel': False, 'pipeline_balance': None, 'pipeline_devices': None, 'pipeline_chunks': 0, 'pipeline_encoder_balance': None, 'pipeline_encoder_devices': None, 'pipeline_decoder_balance': None, 'pipeline_decoder_devices': None, 'pipeline_checkpoint': 'never', 'zero_sharding': 'none', 'fp16': True, 'memory_efficient_fp16': True, 'tpu': False, 'no_reshard_after_forward': False, 'fp32_reduce_scatter': False, 'cpu_offload': False, 'use_sharded_state': False, 'not_fsdp_flatten_parameters': False}, 'dataset': {'_name': None, 'num_workers': 1, 'skip_invalid_size_inputs_valid_test': False, 'max_tokens': 4096, 'batch_size': None, 'required_batch_size_multiple': 8, 'required_seq_len_multiple': 1, 'dataset_impl': None, 'data_buffer_size': 10, 'train_subset': 'train', 'valid_subset': 'valid', 'combine_valid_subsets': None, 'ignore_unused_valid_subsets': False, 'validate_interval': 1, 'validate_interval_updates': 0, 'validate_after_updates': 0, 'fixed_validation_seed': None, 'disable_validation': False, 'max_tokens_valid': 4096, 'batch_size_valid': None, 'max_valid_steps': None, 'curriculum': 0, 'gen_subset': 'test', 'num_shards': 1, 'shard_id': 0, 'grouped_shuffling': False, 'update_epoch_batch_itr': False, 'update_ordered_indices_seed': False}, 'optimization': {'_name': None, 'max_epoch': 10, 'max_update': 0, 'stop_time_hours': 0.0, 'clip_norm': 0.0, 'sentence_avg': False, 'update_freq': [1], 'lr': [0.0001], 'stop_min_lr': -1.0, 'use_bmuf': False, 'skip_remainder_batch': False}, 'checkpoint': {'_name': None, 'save_dir': '../../checkpoints/QA-PubMedQA-BioGPT-ReasoningRequest', 'restore_file': 'checkpoint_last.pt', 'continue_once': None, 'finetune_from_model': '../../checkpoints/QA-PubMedQA-BioGPT-ReasoningRequest-finalstage/checkpoint10.pt', 'reset_dataloader': False, 'reset_lr_scheduler': False, 'reset_meters': False, 'reset_optimizer': False, 'optimizer_overrides': '{}', 'save_interval': 1, 'save_interval_updates': 0, 'keep_interval_updates': -1, 'keep_interval_updates_pattern': -1, 'keep_last_epochs': -1, 'keep_best_checkpoints': -1, 'no_save': False, 'no_epoch_checkpoints': False, 'no_last_checkpoints': False, 'no_save_optimizer_state': False, 'best_checkpoint_metric': 'loss', 'maximize_best_checkpoint_metric': False, 'patience': -1, 'checkpoint_suffix': '', 'checkpoint_shard_count': 1, 'load_checkpoint_on_all_dp_ranks': False, 'write_checkpoints_asynchronously': False, 'model_parallel_size': 1, 'save_after_epoch': 0, 'no_best_checkpoints': True}, 'bmuf': {'_name': None, 'block_lr': 1.0, 'block_momentum': 0.875, 'global_sync_iter': 50, 'warmup_iterations': 500, 'use_nbm': False, 'average_sync': False, 'distributed_world_size': 1}, 'generation': {'_name': None, 'beam': 5, 'nbest': 1, 'max_len_a': 0.0, 'max_len_b': 200, 'min_len': 1, 'match_source_len': False, 'unnormalized': False, 'no_early_stop': False, 'no_beamable_mm': False, 'lenpen': 1.0, 'unkpen': 0.0, 'replace_unk': None, 'sacrebleu': False, 'score_reference': False, 'prefix_size': 0, 'no_repeat_ngram_size': 0, 'sampling': False, 'sampling_topk': -1, 'sampling_topp': -1.0, 'constraints': None, 'temperature': 1.0, 'diverse_beam_groups': -1, 'diverse_beam_strength': 0.5, 'diversity_rate': -1.0, 'print_alignment': None, 'print_step': False, 'lm_path': None, 'lm_weight': 0.0, 'iter_decode_eos_penalty': 0.0, 'iter_decode_max_iter': 10, 'iter_decode_force_max_iter': False, 'iter_decode_with_beam': 1, 'iter_decode_with_external_reranker': False, 'retain_iter_history': False, 'retain_dropout': False, 'retain_dropout_modules': None, 'decoding_format': None, 'no_seed_provided': False, 'eos_token': None}, 'eval_lm': {'_name': None, 'output_word_probs': False, 'output_word_stats': False, 'context_window': 0, 'softmax_batch': 9223372036854775807}, 'interactive': {'_name': None, 'buffer_size': 0, 'input': '-'}, 'model': {'_name': 'transformer_lm_prompt_biogpt', 'activation_fn': 'gelu', 'dropout': 0.1, 'attention_dropout': 0.1, 'activation_dropout': 0.0, 'relu_dropout': 0.0, 'decoder_embed_dim': 1024, 'decoder_output_dim': 1024, 'decoder_input_dim': 1024, 'decoder_ffn_embed_dim': 4096, 'decoder_layers': 24, 'decoder_attention_heads': 16, 'decoder_normalize_before': True, 'no_decoder_final_norm': False, 'adaptive_softmax_cutoff': None, 'adaptive_softmax_dropout': 0.0, 'adaptive_softmax_factor': 4.0, 'no_token_positional_embeddings': False, 'share_decoder_input_output_embed': True, 'character_embeddings': False, 'character_filters': '[(1, 64), (2, 128), (3, 192), (4, 256), (5, 256), (6, 256), (7, 256)]', 'character_embedding_dim': 4, 'char_embedder_highway_layers': 2, 'adaptive_input': False, 'adaptive_input_factor': 4.0, 'adaptive_input_cutoff': None, 'tie_adaptive_weights': False, 'tie_adaptive_proj': False, 'decoder_learned_pos': True, 'layernorm_embedding': False, 'no_scale_embedding': False, 'checkpoint_activations': False, 'offload_activations': False, 'decoder_layerdrop': 0.0, 'decoder_layers_to_keep': None, 'quant_noise_pq': 0.0, 'quant_noise_pq_block_size': 8, 'quant_noise_scalar': 0.0, 'min_params_to_wrap': 100000000, 'base_layers': 0, 'base_sublayers': 1, 'base_shuffle': 0, 'scale_fc': False, 'scale_attn': False, 'scale_heads': False, 'scale_resids': False, 'decoder_xformers_att_config': None, 'add_bos_token': False, 'tokens_per_sample': 1024, 'max_target_positions': 1024, 'tpu': False}, 'task': {'_name': 'language_modeling_prompt', 'data': '/Users/esp.py/Projects/Personal/end-to-end-rag/datasets/biogpt/pqal_qcl_ansis-bin', 'sample_break_mode': 'none', 'tokens_per_sample': 1024, 'output_dictionary_size': -1, 'self_target': False, 'future_target': False, 'past_target': False, 'add_bos_token': False, 'max_target_positions': 1024, 'shorten_method': 'none', 'shorten_data_split_list': '', 'pad_to_fixed_length': False, 'pad_to_fixed_bsz': False, 'seed': 1, 'batch_size': None, 'batch_size_valid': None, 'dataset_impl': None, 'data_buffer_size': 10, 'tpu': False, 'use_plasma_view': False, 'plasma_path': '/tmp/plasma', 'source_lang': None, 'target_lang': None, 'max_source_positions': 900, 'manual_prompt': None, 'learned_prompt': 9, 'learned_prompt_pattern': 'learned', 'prefix': False, 'sep_token': '<seqsep>'}, 'criterion': {'_name': 'cross_entropy', 'sentence_avg': False}, 'optimizer': {'_name': 'adam', 'adam_betas': '(0.9, 0.98)', 'adam_eps': 1e-08, 'weight_decay': 0.01, 'use_old_adam': False, 'fp16_adam_stats': False, 'tpu': False, 'lr': [0.0001]}, 'lr_scheduler': {'_name': 'inverse_sqrt', 'warmup_updates': 100, 'warmup_init_lr': 1e-07, 'lr': [0.0001]}, 'scoring': {'_name': 'bleu', 'pad': 1, 'eos': 2, 'unk': 3}, 'bpe': {'_name': 'fastbpe', 'bpe_codes': '/Users/esp.py/Projects/Personal/end-to-end-rag/datasets/biogpt/raw/bpecodes'}, 'tokenizer': {'_name': 'moses', 'source_lang': 'en', 'target_lang': 'en', 'moses_no_dash_splits': False, 'moses_no_escape': False}, 'ema': {'_name': None, 'store_ema': False, 'ema_decay': 0.9999, 'ema_start_update': 0, 'ema_seed_model': None, 'ema_update_freq': 1, 'ema_fp32': False}}\n",
      "Loading codes from /Users/esp.py/Projects/Personal/end-to-end-rag/datasets/biogpt/raw/bpecodes ...\n",
      "Read 40000 codes from the codes file.\n"
     ]
    }
   ],
   "source": [
    "model_fairseq = TransformerLanguageModelPrompt.from_pretrained(\n",
    "    qa_model_checkpoint_path.parent, \n",
    "    \"checkpoint.pt\",\n",
    "    data_path.__str__(),\n",
    "    tokenizer=\"moses\",\n",
    "    bpe=\"fastbpe\",\n",
    "    bpe_codes=bpe_code_path.__str__(),\n",
    "    )"
   ]
  },
  {
   "cell_type": "code",
   "execution_count": 7,
   "id": "25fcb8b1-cedb-4d09-b74e-196fee89c396",
   "metadata": {},
   "outputs": [
    {
     "data": {
      "text/plain": [
       "{'_name': None, 'beam': 5, 'nbest': 1, 'max_len_a': 0.0, 'max_len_b': 200, 'min_len': 1, 'match_source_len': False, 'unnormalized': False, 'no_early_stop': False, 'no_beamable_mm': False, 'lenpen': 1.0, 'unkpen': 0.0, 'replace_unk': None, 'sacrebleu': False, 'score_reference': False, 'prefix_size': 0, 'no_repeat_ngram_size': 0, 'sampling': False, 'sampling_topk': -1, 'sampling_topp': -1.0, 'constraints': None, 'temperature': 1.0, 'diverse_beam_groups': -1, 'diverse_beam_strength': 0.5, 'diversity_rate': -1.0, 'print_alignment': None, 'print_step': False, 'lm_path': None, 'lm_weight': 0.0, 'iter_decode_eos_penalty': 0.0, 'iter_decode_max_iter': 10, 'iter_decode_force_max_iter': False, 'iter_decode_with_beam': 1, 'iter_decode_with_external_reranker': False, 'retain_iter_history': False, 'retain_dropout': False, 'retain_dropout_modules': None, 'decoding_format': None, 'no_seed_provided': False, 'eos_token': None}"
      ]
     },
     "execution_count": 7,
     "metadata": {},
     "output_type": "execute_result"
    }
   ],
   "source": [
    "model_fairseq.cfg.get(\"generation\")"
   ]
  },
  {
   "cell_type": "code",
   "execution_count": 8,
   "id": "8aabbce4-c29a-4adc-80f3-54f9b9a68dbf",
   "metadata": {},
   "outputs": [],
   "source": [
    "from pprint import pprint"
   ]
  },
  {
   "cell_type": "code",
   "execution_count": 9,
   "id": "d3c824f4-a7aa-4084-b45b-ee73c315e648",
   "metadata": {},
   "outputs": [],
   "source": [
    "contexts = [\n",
    "    'Programmed cell death (PCD) is the regulated death of cells within an organism. The lace plant (Aponogeton madagascariensis) produces perforations in its leaves through PCD. The leaves of the plant consist of a latticework of longitudinal and transverse veins enclosing areoles. PCD occurs in the cells at the center of these areoles and progresses outwards, stopping approximately five cells from the vasculature. The role of mitochondria during PCD has been recognized in animals; however, it has been less studied during PCD in plants.',\n",
    "    'The following paper elucidates the role of mitochondrial dynamics during developmentally regulated PCD in vivo in A. madagascariensis. A single areole within a window stage leaf (PCD is occurring) was divided into three areas based on the progression of PCD; cells that will not undergo PCD (NPCD), cells in early stages of PCD (EPCD), and cells in late stages of PCD (LPCD). Window stage leaves were stained with the mitochondrial dye MitoTracker Red CMXRos and examined. Mitochondrial dynamics were delineated into four categories (M1-M4) based on characteristics including distribution, motility, and membrane potential (ΔΨm). A TUNEL assay showed fragmented nDNA in a gradient over these mitochondrial stages. Chloroplasts and transvacuolar strands were also examined using live cell imaging. The possible importance of mitochondrial permeability transition pore (PTP) formation during PCD was indirectly examined via in vivo cyclosporine A (CsA) treatment. This treatment resulted in lace plant leaves with a significantly lower number of perforations compared to controls, and that displayed mitochondrial dynamics similar to that of non-PCD cells.'\n",
    "]"
   ]
  },
  {
   "cell_type": "code",
   "execution_count": 10,
   "id": "3ea34c64-2d8b-4f2a-95a2-e1ea6e1df9cd",
   "metadata": {},
   "outputs": [
    {
     "data": {
      "text/plain": [
       "'Programmed cell death (PCD) is the regulated death of cells within an organism. The lace plant (Aponogeton madagascariensis) produces perforations in its leaves through PCD. The leaves of the plant consist of a latticework of longitudinal and transverse veins enclosing areoles. PCD occurs in the cells at the center of these areoles and progresses outwards, stopping approximately five cells from the vasculature. The role of mitochondria during PCD has been recognized in animals; however, it has been less studied during PCD in plants.'"
      ]
     },
     "execution_count": 10,
     "metadata": {},
     "output_type": "execute_result"
    }
   ],
   "source": [
    "contexts[0]"
   ]
  },
  {
   "cell_type": "code",
   "execution_count": 11,
   "id": "3b7b5d4c",
   "metadata": {},
   "outputs": [],
   "source": [
    "question = \"Do mitochondria play a role in remodelling lace plant leaves during programmed cell death?\""
   ]
  },
  {
   "cell_type": "code",
   "execution_count": 45,
   "id": "381721da-39a5-4a5e-bc84-ed813b8d3336",
   "metadata": {},
   "outputs": [],
   "source": [
    "prompt = f\"question: {question} context: { ' '.join(contexts)}\""
   ]
  },
  {
   "cell_type": "code",
   "execution_count": 46,
   "id": "bfe14d67",
   "metadata": {},
   "outputs": [
    {
     "name": "stdout",
     "output_type": "stream",
     "text": [
      "('question: Do mitochondria play a role in remodelling lace plant leaves '\n",
      " 'during programmed cell death? context: Programmed cell death (PCD) is the '\n",
      " 'regulated death of cells within an organism. The lace plant (Aponogeton '\n",
      " 'madagascariensis) produces perforations in its leaves through PCD. The '\n",
      " 'leaves of the plant consist of a latticework of longitudinal and transverse '\n",
      " 'veins enclosing areoles. PCD occurs in the cells at the center of these '\n",
      " 'areoles and progresses outwards, stopping approximately five cells from the '\n",
      " 'vasculature. The role of mitochondria during PCD has been recognized in '\n",
      " 'animals; however, it has been less studied during PCD in plants. The '\n",
      " 'following paper elucidates the role of mitochondrial dynamics during '\n",
      " 'developmentally regulated PCD in vivo in A. madagascariensis. A single '\n",
      " 'areole within a window stage leaf (PCD is occurring) was divided into three '\n",
      " 'areas based on the progression of PCD; cells that will not undergo PCD '\n",
      " '(NPCD), cells in early stages of PCD (EPCD), and cells in late stages of PCD '\n",
      " '(LPCD). Window stage leaves were stained with the mitochondrial dye '\n",
      " 'MitoTracker Red CMXRos and examined. Mitochondrial dynamics were delineated '\n",
      " 'into four categories (M1-M4) based on characteristics including '\n",
      " 'distribution, motility, and membrane potential (ΔΨm). A TUNEL assay showed '\n",
      " 'fragmented nDNA in a gradient over these mitochondrial stages. Chloroplasts '\n",
      " 'and transvacuolar strands were also examined using live cell imaging. The '\n",
      " 'possible importance of mitochondrial permeability transition pore (PTP) '\n",
      " 'formation during PCD was indirectly examined via in vivo cyclosporine A '\n",
      " '(CsA) treatment. This treatment resulted in lace plant leaves with a '\n",
      " 'significantly lower number of perforations compared to controls, and that '\n",
      " 'displayed mitochondrial dynamics similar to that of non-PCD cells.')\n"
     ]
    }
   ],
   "source": [
    "pprint(prompt)"
   ]
  },
  {
   "cell_type": "code",
   "execution_count": 47,
   "id": "aed2f003-fb2b-4fda-8a8c-6983ad39f11d",
   "metadata": {},
   "outputs": [],
   "source": [
    "source_tokens  = model_fairseq.encode(question)"
   ]
  },
  {
   "cell_type": "markdown",
   "id": "46618720",
   "metadata": {},
   "source": []
  },
  {
   "cell_type": "code",
   "execution_count": 48,
   "id": "f9f3c184",
   "metadata": {},
   "outputs": [],
   "source": [
    "from transformers import set_seed"
   ]
  },
  {
   "cell_type": "code",
   "execution_count": 49,
   "id": "9fb42981",
   "metadata": {},
   "outputs": [],
   "source": [
    "set_seed(42)"
   ]
  },
  {
   "cell_type": "code",
   "execution_count": 50,
   "id": "bd72b2ae",
   "metadata": {},
   "outputs": [
    {
     "data": {
      "text/plain": [
       "tensor([10964,  2754,   882,    14,   151,    10, 13101,  8199,   707,  1041,\n",
       "         3436,    70,  7295,    49,   589,   927,     2])"
      ]
     },
     "execution_count": 50,
     "metadata": {},
     "output_type": "execute_result"
    }
   ],
   "source": [
    "source_tokens"
   ]
  },
  {
   "cell_type": "code",
   "execution_count": 51,
   "id": "f66c6453-8914-4b65-a39a-d26944b19b67",
   "metadata": {},
   "outputs": [],
   "source": [
    "generated_text = model_fairseq.generate([source_tokens],\n",
    "                                        beam=5,\n",
    "                                        min_len=100,\n",
    "                                        max_len_a=512,\n",
    "                                        max_len_b=512,\n",
    "                                        temperature=0.25,\n",
    "                                        sampling_topk=50,\n",
    "                                        sampling_topp=0.95,\n",
    "                                        sampling=True,)[0]"
   ]
  },
  {
   "cell_type": "code",
   "execution_count": 52,
   "id": "b321f398-6c77-4f9a-b8d2-2cf53f7c23df",
   "metadata": {},
   "outputs": [
    {
     "data": {
      "text/plain": [
       "1024"
      ]
     },
     "execution_count": 52,
     "metadata": {},
     "output_type": "execute_result"
    }
   ],
   "source": [
    "model_fairseq.max_positions"
   ]
  },
  {
   "cell_type": "code",
   "execution_count": 53,
   "id": "6117e20f-3d97-46e9-9367-b1351e7e475f",
   "metadata": {},
   "outputs": [
    {
     "data": {
      "text/plain": [
       "17"
      ]
     },
     "execution_count": 53,
     "metadata": {},
     "output_type": "execute_result"
    }
   ],
   "source": [
    "len(source_tokens)"
   ]
  },
  {
   "cell_type": "code",
   "execution_count": 54,
   "id": "b966f081-480b-4cdf-9e02-4c10a9d0aad8",
   "metadata": {},
   "outputs": [
    {
     "data": {
      "text/plain": [
       "tensor([10964,  2754,   882,    14,   151,    10, 13101,  8199,   707,  1041,\n",
       "         3436,    70,  7295,    49,   589,   927, 42384, 42385, 42386, 42387,\n",
       "        42388, 42389, 42390, 42391, 42392,     6,  9412,    13,     6,  2969,\n",
       "          690,     6,  1544,    21, 22700,     4,  1544,    20, 23082,  7262,\n",
       "           49,   589,    12, 17928,    11,    21,     6,  1134,   589,     5,\n",
       "           42,   192,    32,  4175,     4,    18,  8199,   707,  1041,    12,\n",
       "         4410,   896,  2432, 37687,   676,  1753, 34842,  5202,  5428,    11,\n",
       "         3862, 19982,    10,   106,  3436,   199, 17928,     4,    18,  3436,\n",
       "            5,     6,  1041,  9109,     5,    14,  7653,  3752,   768,   488,\n",
       "            5,  2265,     8,  5786,  5662,   987, 11985,  6348, 11658,     4,\n",
       "        17928,  1395,    10,     6,    42,    34,     6,  1594,     5,    55,\n",
       "         6348, 11658,     8, 18252, 21640, 12095,     7, 16387,   792,   508,\n",
       "           42,    29,     6,  8136,     4,    18,   151,     5,  2754,    70,\n",
       "        17928,    57,    58,  1903,    10,   546,    44,   523,     7,   114,\n",
       "           57,    58,   188,   258,    70, 17928,    10,  1289,     4,    18,\n",
       "          277,   712, 36294,  1192,     6,   151,     5,  1225,  1313,    70,\n",
       "        15743,  1134, 17928,    10,   441,    10, 13739,   676,  1753, 34842,\n",
       "         5202,  5428,     4,    39,   236,  6348,  5600,   192,    14,  6489,\n",
       "          469,  3467,    12, 17928,    21,  1970,    11,    17,  1464,   122,\n",
       "          142,   708,   117,    25,     6,   865,     5, 17928,    44,    42,\n",
       "           22,   374,    41,  3336, 17928,    12,   299, 17928,    11,     7,\n",
       "           42,    10,   238,  1269,     5, 17928,    12,   343, 17928,    11,\n",
       "            7,     8,    42,    10,  1062,  1269,     5, 17928,    12,   237,\n",
       "        17928,    11,     4, 22941, 38151,   469,  3436,    19,  3570,    15,\n",
       "            6,  1225,  4189, 10235,   581, 14979,  4054,  8896,  4097, 16491,\n",
       "         2842,     8,   325,     4, 10637,  1313,    19, 15880,   122,   309,\n",
       "         2977,    12,  4274,     9, 22613,    11,   117,    25,   478,   197,\n",
       "          569,     7,  3568,     7,     8,   357,   182,    12,  5778, 37908,\n",
       "          659,    11,     4, 16985, 25108,     8,  1668, 17259, 11609,    19,\n",
       "           72,   325,    59,  3032,    49,   450,     4, 16985, 25108,    19,\n",
       "          325,    16,  1622,     5,  4609,     8,    26,    30,   357,   182,\n",
       "          435,     4,    39, 13088,   576,    17,   178,    13,  1509, 16090,\n",
       "          790,   173,     4, 16985, 25108,    10,    42,  1332, 17928,    19,\n",
       "           72,   325,    59,  3032,    49,   450,     4,    18,   151,     5,\n",
       "         1225,  2967,  1513,  4733,    12, 18336,    11,   381,    70, 17928,\n",
       "           17,   325,    59,  9243,    39,    12,  8661,    11,     4,    39,\n",
       "          236,  6348,  5600,   192,    14,  6489,   469,  3467,    12, 17928,\n",
       "           21,  1970,    11,    17,  1464,   122,   142,   708,   117,    25,\n",
       "            6,   865,     5, 17928,    44,    42,    22,   374,    41,  3336,\n",
       "        17928,    12,   299, 17928,    11,     7,    42,    10,   238,  1269,\n",
       "            5, 17928,    12,   343, 17928,    11,     7,     8,    42,    10,\n",
       "         1062,  1269,     5, 17928,    12,   237, 17928,    11,     4, 10637,\n",
       "         1313,    19, 15880,   122,   309,  2977,    12,  4274,     9, 22613,\n",
       "           11,   117,    25,   478,   197,   569,     7,  3568,     7,     8,\n",
       "         5778, 37908,   659,     4, 16985, 25108,    10,    42,  1332, 17928,\n",
       "           19,    72,   325,    59,  3032,    49,   450,     4, 10637,  1313,\n",
       "           19,   667,   122,   309,  2977,    12,  4274,     9, 22613,    11,\n",
       "          117,    25,   478,   197,  4609,     8,    26,    30,  5778, 37908,\n",
       "          659,     4, 16985, 25108,    10,    42,  1332, 17928,    19,    72,\n",
       "          325,    59,  3032,    49,   450,     4,  8661,    53,   743,    10,\n",
       "         1225,  2967,  1513,  4733,    12, 18336,    11,   381,     8,    49,\n",
       "          589,     4, 42384, 42385, 42386, 42387, 42388, 42389, 42390, 42391,\n",
       "        42392,     6,  9412,    13,     6,  2969,   690,     6,  1544,    21,\n",
       "        22700,     4,     2])"
      ]
     },
     "execution_count": 54,
     "metadata": {},
     "output_type": "execute_result"
    }
   ],
   "source": [
    "generated_text[0]['tokens']"
   ]
  },
  {
   "cell_type": "code",
   "execution_count": 55,
   "id": "e96dc0ad-201d-4b7d-ad84-7d4155242d2e",
   "metadata": {},
   "outputs": [],
   "source": [
    "output_text = model_fairseq.decode(generated_text[0]['tokens'])"
   ]
  },
  {
   "cell_type": "code",
   "execution_count": 56,
   "id": "5ac969bd-b6aa-4491-bf61-3781c627995b",
   "metadata": {},
   "outputs": [
    {
     "name": "stdout",
     "output_type": "stream",
     "text": [
      "('Do mitochondria play a role in remodelling lace plant leaves during '\n",
      " 'programmed cell death? learned1 learned2 learned3 learned4 learned5 learned6 '\n",
      " 'learned7 learned8 learned9 the answer to the question given the context is '\n",
      " 'yes. context: Programmed cell death (PCD) is the regulated death of cells '\n",
      " 'within an organism. The lace plant (Aponogeton madagascariensis) produces '\n",
      " 'perforations in its leaves through PCD. The leaves of the plant consist of a '\n",
      " 'latticework of longitudinal and transverse veins enclosing areoles. PCD '\n",
      " 'occurs in the cells at the center of these areoles and progresses outwards, '\n",
      " 'stopping approximately five cells from the vasculature. The role of '\n",
      " 'mitochondria during PCD has been recognized in animals; however, it has been '\n",
      " 'less studied during PCD in plants. The following paper elucidates the role '\n",
      " 'of mitochondrial dynamics during developmentally regulated PCD in vivo in A. '\n",
      " 'madagascariensis. A single areole within a window stage leaf (PCD is '\n",
      " 'occurring) was divided into three areas based on the progression of PCD; '\n",
      " 'cells that will not undergo PCD (NPCD), cells in early stages of PCD (EPCD), '\n",
      " 'and cells in late stages of PCD (LPCD). Window stage leaves were stained '\n",
      " 'with the mitochondrial dye MitoTracker Red CMXRos and examined. '\n",
      " 'Mitochondrial dynamics were delineated into four categories (M1-M4) based on '\n",
      " 'characteristics including distribution, motility, and membrane potential '\n",
      " '(ΔΨm). Chloroplasts and transvacuolar strands were also examined using live '\n",
      " 'cell imaging. Chloroplasts were examined for signs of swelling and / or '\n",
      " 'membrane potential loss. A TUNEL assay was performed to detect fragmented '\n",
      " 'nDNA. Chloroplasts in cells undergoing PCD were also examined using live '\n",
      " 'cell imaging. The role of mitochondrial permeability transition pore (PTP) '\n",
      " 'formation during PCD was examined using cyclosporine A (CsA). A single '\n",
      " 'areole within a window stage leaf (PCD is occurring) was divided into three '\n",
      " 'areas based on the progression of PCD; cells that will not undergo PCD '\n",
      " '(NPCD), cells in early stages of PCD (EPCD), and cells in late stages of PCD '\n",
      " '(LPCD). Mitochondrial dynamics were delineated into four categories (M1-M4) '\n",
      " 'based on characteristics including distribution, motility, and ΔΨm. '\n",
      " 'Chloroplasts in cells undergoing PCD were also examined using live cell '\n",
      " 'imaging. Mitochondrial dynamics were characterized into four categories '\n",
      " '(M1-M4) based on characteristics including swelling and / or ΔΨm. '\n",
      " 'Chloroplasts in cells undergoing PCD were also examined using live cell '\n",
      " 'imaging. CsA treatment resulted in mitochondrial permeability transition '\n",
      " 'pore (PTP) formation and cell death. learned1 learned2 learned3 learned4 '\n",
      " 'learned5 learned6 learned7 learned8 learned9 the answer to the question '\n",
      " 'given the context is yes.')\n"
     ]
    }
   ],
   "source": [
    "pprint(output_text)"
   ]
  },
  {
   "cell_type": "code",
   "execution_count": 57,
   "id": "13a445f5-c36e-40bd-a200-660d9fe59cf5",
   "metadata": {},
   "outputs": [
    {
     "name": "stdout",
     "output_type": "stream",
     "text": [
      "('Do mitochondria play a role in remodelling lace plant leaves during '\n",
      " 'programmed cell death? learned1 learned2 learned3 learned4 learned5 learned6 '\n",
      " 'learned7 learned8 learned9 the answer to the question given the context is '\n",
      " 'yes. context: Programmed cell death (PCD) is the regulated death of cells '\n",
      " 'within an organism. The lace plant (Aponogeton madagascariensis) produces '\n",
      " 'perforations in its leaves through PCD. The leaves of the plant consist of a '\n",
      " 'latticework of longitudinal and transverse veins enclosing areoles. PCD '\n",
      " 'occurs in the cells at the center of these areoles and progresses outwards, '\n",
      " 'stopping approximately five cells from the vasculature. The role of '\n",
      " 'mitochondria during PCD has been recognized in animals; however, it has been '\n",
      " 'less studied during PCD in plants. The following paper elucidates the role '\n",
      " 'of mitochondrial dynamics during developmentally regulated PCD in vivo in A. '\n",
      " 'madagascariensis. A single areole within a window stage leaf (PCD is '\n",
      " 'occurring) was divided into three areas based on the progression of PCD; '\n",
      " 'cells that will not undergo PCD (NPCD), cells in early stages of PCD (EPCD), '\n",
      " 'and cells in late stages of PCD (LPCD). Window stage leaves were stained '\n",
      " 'with the mitochondrial dye MitoTracker Red CMXRos and examined. '\n",
      " 'Mitochondrial dynamics were delineated into four categories (M1-M4) based on '\n",
      " 'characteristics including distribution, motility, and membrane potential '\n",
      " '(ΔΨm). Chloroplasts and transvacuolar strands were also examined using live '\n",
      " 'cell imaging. Chloroplasts were examined for signs of swelling and / or '\n",
      " 'membrane potential loss. A TUNEL assay was performed to detect fragmented '\n",
      " 'nDNA. Chloroplasts in cells undergoing PCD were also examined using live '\n",
      " 'cell imaging. The role of mitochondrial permeability transition pore (PTP) '\n",
      " 'formation during PCD was examined using cyclosporine A (CsA). A single '\n",
      " 'areole within a window stage leaf (PCD is occurring) was divided into three '\n",
      " 'areas based on the progression of PCD; cells that will not undergo PCD '\n",
      " '(NPCD), cells in early stages of PCD (EPCD), and cells in late stages of PCD '\n",
      " '(LPCD). Mitochondrial dynamics were delineated into four categories (M1-M4) '\n",
      " 'based on characteristics including distribution, motility, and ΔΨm. '\n",
      " 'Chloroplasts in cells undergoing PCD were also examined using live cell '\n",
      " 'imaging. Mitochondrial dynamics were characterized into four categories '\n",
      " '(M1-M4) based on characteristics including swelling and / or ΔΨm. '\n",
      " 'Chloroplasts in cells undergoing PCD were also examined using live cell '\n",
      " 'imaging. CsA treatment resulted in mitochondrial permeability transition '\n",
      " 'pore (PTP) formation and cell death. learned1 learned2 learned3 learned4 '\n",
      " 'learned5 learned6 learned7 learned8 learned9 the answer to the question '\n",
      " 'given the context is yes.')\n"
     ]
    }
   ],
   "source": [
    "pprint(output_text)"
   ]
  },
  {
   "cell_type": "markdown",
   "id": "c8fa993f-3210-4e22-949b-385ecaf73ecc",
   "metadata": {},
   "source": [
    "The prompt model seems to be working but always returning learned. What am I missing here?\n"
   ]
  },
  {
   "cell_type": "markdown",
   "id": "d6e87eea-a2f4-4118-89df-6fe51c7877dc",
   "metadata": {},
   "source": [
    "Not sure why the model generated this type of data, that may be because of the data. But it worth checking what went wrong with the model."
   ]
  },
  {
   "cell_type": "markdown",
   "id": "b4975058",
   "metadata": {},
   "source": [
    "### Uploading the model to hugginface transformer"
   ]
  },
  {
   "cell_type": "code",
   "execution_count": 31,
   "id": "ca174b14",
   "metadata": {},
   "outputs": [
    {
     "data": {
      "text/plain": [
       "odict_keys(['_float_tensor', 'models.0.decoder.version', 'models.0.decoder.embed_tokens.weight', 'models.0.decoder.embed_positions.weight', 'models.0.decoder.layers.0.self_attn.k_proj.weight', 'models.0.decoder.layers.0.self_attn.k_proj.bias', 'models.0.decoder.layers.0.self_attn.v_proj.weight', 'models.0.decoder.layers.0.self_attn.v_proj.bias', 'models.0.decoder.layers.0.self_attn.q_proj.weight', 'models.0.decoder.layers.0.self_attn.q_proj.bias', 'models.0.decoder.layers.0.self_attn.out_proj.weight', 'models.0.decoder.layers.0.self_attn.out_proj.bias', 'models.0.decoder.layers.0.self_attn_layer_norm.weight', 'models.0.decoder.layers.0.self_attn_layer_norm.bias', 'models.0.decoder.layers.0.fc1.weight', 'models.0.decoder.layers.0.fc1.bias', 'models.0.decoder.layers.0.fc2.weight', 'models.0.decoder.layers.0.fc2.bias', 'models.0.decoder.layers.0.final_layer_norm.weight', 'models.0.decoder.layers.0.final_layer_norm.bias', 'models.0.decoder.layers.1.self_attn.k_proj.weight', 'models.0.decoder.layers.1.self_attn.k_proj.bias', 'models.0.decoder.layers.1.self_attn.v_proj.weight', 'models.0.decoder.layers.1.self_attn.v_proj.bias', 'models.0.decoder.layers.1.self_attn.q_proj.weight', 'models.0.decoder.layers.1.self_attn.q_proj.bias', 'models.0.decoder.layers.1.self_attn.out_proj.weight', 'models.0.decoder.layers.1.self_attn.out_proj.bias', 'models.0.decoder.layers.1.self_attn_layer_norm.weight', 'models.0.decoder.layers.1.self_attn_layer_norm.bias', 'models.0.decoder.layers.1.fc1.weight', 'models.0.decoder.layers.1.fc1.bias', 'models.0.decoder.layers.1.fc2.weight', 'models.0.decoder.layers.1.fc2.bias', 'models.0.decoder.layers.1.final_layer_norm.weight', 'models.0.decoder.layers.1.final_layer_norm.bias', 'models.0.decoder.layers.2.self_attn.k_proj.weight', 'models.0.decoder.layers.2.self_attn.k_proj.bias', 'models.0.decoder.layers.2.self_attn.v_proj.weight', 'models.0.decoder.layers.2.self_attn.v_proj.bias', 'models.0.decoder.layers.2.self_attn.q_proj.weight', 'models.0.decoder.layers.2.self_attn.q_proj.bias', 'models.0.decoder.layers.2.self_attn.out_proj.weight', 'models.0.decoder.layers.2.self_attn.out_proj.bias', 'models.0.decoder.layers.2.self_attn_layer_norm.weight', 'models.0.decoder.layers.2.self_attn_layer_norm.bias', 'models.0.decoder.layers.2.fc1.weight', 'models.0.decoder.layers.2.fc1.bias', 'models.0.decoder.layers.2.fc2.weight', 'models.0.decoder.layers.2.fc2.bias', 'models.0.decoder.layers.2.final_layer_norm.weight', 'models.0.decoder.layers.2.final_layer_norm.bias', 'models.0.decoder.layers.3.self_attn.k_proj.weight', 'models.0.decoder.layers.3.self_attn.k_proj.bias', 'models.0.decoder.layers.3.self_attn.v_proj.weight', 'models.0.decoder.layers.3.self_attn.v_proj.bias', 'models.0.decoder.layers.3.self_attn.q_proj.weight', 'models.0.decoder.layers.3.self_attn.q_proj.bias', 'models.0.decoder.layers.3.self_attn.out_proj.weight', 'models.0.decoder.layers.3.self_attn.out_proj.bias', 'models.0.decoder.layers.3.self_attn_layer_norm.weight', 'models.0.decoder.layers.3.self_attn_layer_norm.bias', 'models.0.decoder.layers.3.fc1.weight', 'models.0.decoder.layers.3.fc1.bias', 'models.0.decoder.layers.3.fc2.weight', 'models.0.decoder.layers.3.fc2.bias', 'models.0.decoder.layers.3.final_layer_norm.weight', 'models.0.decoder.layers.3.final_layer_norm.bias', 'models.0.decoder.layers.4.self_attn.k_proj.weight', 'models.0.decoder.layers.4.self_attn.k_proj.bias', 'models.0.decoder.layers.4.self_attn.v_proj.weight', 'models.0.decoder.layers.4.self_attn.v_proj.bias', 'models.0.decoder.layers.4.self_attn.q_proj.weight', 'models.0.decoder.layers.4.self_attn.q_proj.bias', 'models.0.decoder.layers.4.self_attn.out_proj.weight', 'models.0.decoder.layers.4.self_attn.out_proj.bias', 'models.0.decoder.layers.4.self_attn_layer_norm.weight', 'models.0.decoder.layers.4.self_attn_layer_norm.bias', 'models.0.decoder.layers.4.fc1.weight', 'models.0.decoder.layers.4.fc1.bias', 'models.0.decoder.layers.4.fc2.weight', 'models.0.decoder.layers.4.fc2.bias', 'models.0.decoder.layers.4.final_layer_norm.weight', 'models.0.decoder.layers.4.final_layer_norm.bias', 'models.0.decoder.layers.5.self_attn.k_proj.weight', 'models.0.decoder.layers.5.self_attn.k_proj.bias', 'models.0.decoder.layers.5.self_attn.v_proj.weight', 'models.0.decoder.layers.5.self_attn.v_proj.bias', 'models.0.decoder.layers.5.self_attn.q_proj.weight', 'models.0.decoder.layers.5.self_attn.q_proj.bias', 'models.0.decoder.layers.5.self_attn.out_proj.weight', 'models.0.decoder.layers.5.self_attn.out_proj.bias', 'models.0.decoder.layers.5.self_attn_layer_norm.weight', 'models.0.decoder.layers.5.self_attn_layer_norm.bias', 'models.0.decoder.layers.5.fc1.weight', 'models.0.decoder.layers.5.fc1.bias', 'models.0.decoder.layers.5.fc2.weight', 'models.0.decoder.layers.5.fc2.bias', 'models.0.decoder.layers.5.final_layer_norm.weight', 'models.0.decoder.layers.5.final_layer_norm.bias', 'models.0.decoder.layers.6.self_attn.k_proj.weight', 'models.0.decoder.layers.6.self_attn.k_proj.bias', 'models.0.decoder.layers.6.self_attn.v_proj.weight', 'models.0.decoder.layers.6.self_attn.v_proj.bias', 'models.0.decoder.layers.6.self_attn.q_proj.weight', 'models.0.decoder.layers.6.self_attn.q_proj.bias', 'models.0.decoder.layers.6.self_attn.out_proj.weight', 'models.0.decoder.layers.6.self_attn.out_proj.bias', 'models.0.decoder.layers.6.self_attn_layer_norm.weight', 'models.0.decoder.layers.6.self_attn_layer_norm.bias', 'models.0.decoder.layers.6.fc1.weight', 'models.0.decoder.layers.6.fc1.bias', 'models.0.decoder.layers.6.fc2.weight', 'models.0.decoder.layers.6.fc2.bias', 'models.0.decoder.layers.6.final_layer_norm.weight', 'models.0.decoder.layers.6.final_layer_norm.bias', 'models.0.decoder.layers.7.self_attn.k_proj.weight', 'models.0.decoder.layers.7.self_attn.k_proj.bias', 'models.0.decoder.layers.7.self_attn.v_proj.weight', 'models.0.decoder.layers.7.self_attn.v_proj.bias', 'models.0.decoder.layers.7.self_attn.q_proj.weight', 'models.0.decoder.layers.7.self_attn.q_proj.bias', 'models.0.decoder.layers.7.self_attn.out_proj.weight', 'models.0.decoder.layers.7.self_attn.out_proj.bias', 'models.0.decoder.layers.7.self_attn_layer_norm.weight', 'models.0.decoder.layers.7.self_attn_layer_norm.bias', 'models.0.decoder.layers.7.fc1.weight', 'models.0.decoder.layers.7.fc1.bias', 'models.0.decoder.layers.7.fc2.weight', 'models.0.decoder.layers.7.fc2.bias', 'models.0.decoder.layers.7.final_layer_norm.weight', 'models.0.decoder.layers.7.final_layer_norm.bias', 'models.0.decoder.layers.8.self_attn.k_proj.weight', 'models.0.decoder.layers.8.self_attn.k_proj.bias', 'models.0.decoder.layers.8.self_attn.v_proj.weight', 'models.0.decoder.layers.8.self_attn.v_proj.bias', 'models.0.decoder.layers.8.self_attn.q_proj.weight', 'models.0.decoder.layers.8.self_attn.q_proj.bias', 'models.0.decoder.layers.8.self_attn.out_proj.weight', 'models.0.decoder.layers.8.self_attn.out_proj.bias', 'models.0.decoder.layers.8.self_attn_layer_norm.weight', 'models.0.decoder.layers.8.self_attn_layer_norm.bias', 'models.0.decoder.layers.8.fc1.weight', 'models.0.decoder.layers.8.fc1.bias', 'models.0.decoder.layers.8.fc2.weight', 'models.0.decoder.layers.8.fc2.bias', 'models.0.decoder.layers.8.final_layer_norm.weight', 'models.0.decoder.layers.8.final_layer_norm.bias', 'models.0.decoder.layers.9.self_attn.k_proj.weight', 'models.0.decoder.layers.9.self_attn.k_proj.bias', 'models.0.decoder.layers.9.self_attn.v_proj.weight', 'models.0.decoder.layers.9.self_attn.v_proj.bias', 'models.0.decoder.layers.9.self_attn.q_proj.weight', 'models.0.decoder.layers.9.self_attn.q_proj.bias', 'models.0.decoder.layers.9.self_attn.out_proj.weight', 'models.0.decoder.layers.9.self_attn.out_proj.bias', 'models.0.decoder.layers.9.self_attn_layer_norm.weight', 'models.0.decoder.layers.9.self_attn_layer_norm.bias', 'models.0.decoder.layers.9.fc1.weight', 'models.0.decoder.layers.9.fc1.bias', 'models.0.decoder.layers.9.fc2.weight', 'models.0.decoder.layers.9.fc2.bias', 'models.0.decoder.layers.9.final_layer_norm.weight', 'models.0.decoder.layers.9.final_layer_norm.bias', 'models.0.decoder.layers.10.self_attn.k_proj.weight', 'models.0.decoder.layers.10.self_attn.k_proj.bias', 'models.0.decoder.layers.10.self_attn.v_proj.weight', 'models.0.decoder.layers.10.self_attn.v_proj.bias', 'models.0.decoder.layers.10.self_attn.q_proj.weight', 'models.0.decoder.layers.10.self_attn.q_proj.bias', 'models.0.decoder.layers.10.self_attn.out_proj.weight', 'models.0.decoder.layers.10.self_attn.out_proj.bias', 'models.0.decoder.layers.10.self_attn_layer_norm.weight', 'models.0.decoder.layers.10.self_attn_layer_norm.bias', 'models.0.decoder.layers.10.fc1.weight', 'models.0.decoder.layers.10.fc1.bias', 'models.0.decoder.layers.10.fc2.weight', 'models.0.decoder.layers.10.fc2.bias', 'models.0.decoder.layers.10.final_layer_norm.weight', 'models.0.decoder.layers.10.final_layer_norm.bias', 'models.0.decoder.layers.11.self_attn.k_proj.weight', 'models.0.decoder.layers.11.self_attn.k_proj.bias', 'models.0.decoder.layers.11.self_attn.v_proj.weight', 'models.0.decoder.layers.11.self_attn.v_proj.bias', 'models.0.decoder.layers.11.self_attn.q_proj.weight', 'models.0.decoder.layers.11.self_attn.q_proj.bias', 'models.0.decoder.layers.11.self_attn.out_proj.weight', 'models.0.decoder.layers.11.self_attn.out_proj.bias', 'models.0.decoder.layers.11.self_attn_layer_norm.weight', 'models.0.decoder.layers.11.self_attn_layer_norm.bias', 'models.0.decoder.layers.11.fc1.weight', 'models.0.decoder.layers.11.fc1.bias', 'models.0.decoder.layers.11.fc2.weight', 'models.0.decoder.layers.11.fc2.bias', 'models.0.decoder.layers.11.final_layer_norm.weight', 'models.0.decoder.layers.11.final_layer_norm.bias', 'models.0.decoder.layers.12.self_attn.k_proj.weight', 'models.0.decoder.layers.12.self_attn.k_proj.bias', 'models.0.decoder.layers.12.self_attn.v_proj.weight', 'models.0.decoder.layers.12.self_attn.v_proj.bias', 'models.0.decoder.layers.12.self_attn.q_proj.weight', 'models.0.decoder.layers.12.self_attn.q_proj.bias', 'models.0.decoder.layers.12.self_attn.out_proj.weight', 'models.0.decoder.layers.12.self_attn.out_proj.bias', 'models.0.decoder.layers.12.self_attn_layer_norm.weight', 'models.0.decoder.layers.12.self_attn_layer_norm.bias', 'models.0.decoder.layers.12.fc1.weight', 'models.0.decoder.layers.12.fc1.bias', 'models.0.decoder.layers.12.fc2.weight', 'models.0.decoder.layers.12.fc2.bias', 'models.0.decoder.layers.12.final_layer_norm.weight', 'models.0.decoder.layers.12.final_layer_norm.bias', 'models.0.decoder.layers.13.self_attn.k_proj.weight', 'models.0.decoder.layers.13.self_attn.k_proj.bias', 'models.0.decoder.layers.13.self_attn.v_proj.weight', 'models.0.decoder.layers.13.self_attn.v_proj.bias', 'models.0.decoder.layers.13.self_attn.q_proj.weight', 'models.0.decoder.layers.13.self_attn.q_proj.bias', 'models.0.decoder.layers.13.self_attn.out_proj.weight', 'models.0.decoder.layers.13.self_attn.out_proj.bias', 'models.0.decoder.layers.13.self_attn_layer_norm.weight', 'models.0.decoder.layers.13.self_attn_layer_norm.bias', 'models.0.decoder.layers.13.fc1.weight', 'models.0.decoder.layers.13.fc1.bias', 'models.0.decoder.layers.13.fc2.weight', 'models.0.decoder.layers.13.fc2.bias', 'models.0.decoder.layers.13.final_layer_norm.weight', 'models.0.decoder.layers.13.final_layer_norm.bias', 'models.0.decoder.layers.14.self_attn.k_proj.weight', 'models.0.decoder.layers.14.self_attn.k_proj.bias', 'models.0.decoder.layers.14.self_attn.v_proj.weight', 'models.0.decoder.layers.14.self_attn.v_proj.bias', 'models.0.decoder.layers.14.self_attn.q_proj.weight', 'models.0.decoder.layers.14.self_attn.q_proj.bias', 'models.0.decoder.layers.14.self_attn.out_proj.weight', 'models.0.decoder.layers.14.self_attn.out_proj.bias', 'models.0.decoder.layers.14.self_attn_layer_norm.weight', 'models.0.decoder.layers.14.self_attn_layer_norm.bias', 'models.0.decoder.layers.14.fc1.weight', 'models.0.decoder.layers.14.fc1.bias', 'models.0.decoder.layers.14.fc2.weight', 'models.0.decoder.layers.14.fc2.bias', 'models.0.decoder.layers.14.final_layer_norm.weight', 'models.0.decoder.layers.14.final_layer_norm.bias', 'models.0.decoder.layers.15.self_attn.k_proj.weight', 'models.0.decoder.layers.15.self_attn.k_proj.bias', 'models.0.decoder.layers.15.self_attn.v_proj.weight', 'models.0.decoder.layers.15.self_attn.v_proj.bias', 'models.0.decoder.layers.15.self_attn.q_proj.weight', 'models.0.decoder.layers.15.self_attn.q_proj.bias', 'models.0.decoder.layers.15.self_attn.out_proj.weight', 'models.0.decoder.layers.15.self_attn.out_proj.bias', 'models.0.decoder.layers.15.self_attn_layer_norm.weight', 'models.0.decoder.layers.15.self_attn_layer_norm.bias', 'models.0.decoder.layers.15.fc1.weight', 'models.0.decoder.layers.15.fc1.bias', 'models.0.decoder.layers.15.fc2.weight', 'models.0.decoder.layers.15.fc2.bias', 'models.0.decoder.layers.15.final_layer_norm.weight', 'models.0.decoder.layers.15.final_layer_norm.bias', 'models.0.decoder.layers.16.self_attn.k_proj.weight', 'models.0.decoder.layers.16.self_attn.k_proj.bias', 'models.0.decoder.layers.16.self_attn.v_proj.weight', 'models.0.decoder.layers.16.self_attn.v_proj.bias', 'models.0.decoder.layers.16.self_attn.q_proj.weight', 'models.0.decoder.layers.16.self_attn.q_proj.bias', 'models.0.decoder.layers.16.self_attn.out_proj.weight', 'models.0.decoder.layers.16.self_attn.out_proj.bias', 'models.0.decoder.layers.16.self_attn_layer_norm.weight', 'models.0.decoder.layers.16.self_attn_layer_norm.bias', 'models.0.decoder.layers.16.fc1.weight', 'models.0.decoder.layers.16.fc1.bias', 'models.0.decoder.layers.16.fc2.weight', 'models.0.decoder.layers.16.fc2.bias', 'models.0.decoder.layers.16.final_layer_norm.weight', 'models.0.decoder.layers.16.final_layer_norm.bias', 'models.0.decoder.layers.17.self_attn.k_proj.weight', 'models.0.decoder.layers.17.self_attn.k_proj.bias', 'models.0.decoder.layers.17.self_attn.v_proj.weight', 'models.0.decoder.layers.17.self_attn.v_proj.bias', 'models.0.decoder.layers.17.self_attn.q_proj.weight', 'models.0.decoder.layers.17.self_attn.q_proj.bias', 'models.0.decoder.layers.17.self_attn.out_proj.weight', 'models.0.decoder.layers.17.self_attn.out_proj.bias', 'models.0.decoder.layers.17.self_attn_layer_norm.weight', 'models.0.decoder.layers.17.self_attn_layer_norm.bias', 'models.0.decoder.layers.17.fc1.weight', 'models.0.decoder.layers.17.fc1.bias', 'models.0.decoder.layers.17.fc2.weight', 'models.0.decoder.layers.17.fc2.bias', 'models.0.decoder.layers.17.final_layer_norm.weight', 'models.0.decoder.layers.17.final_layer_norm.bias', 'models.0.decoder.layers.18.self_attn.k_proj.weight', 'models.0.decoder.layers.18.self_attn.k_proj.bias', 'models.0.decoder.layers.18.self_attn.v_proj.weight', 'models.0.decoder.layers.18.self_attn.v_proj.bias', 'models.0.decoder.layers.18.self_attn.q_proj.weight', 'models.0.decoder.layers.18.self_attn.q_proj.bias', 'models.0.decoder.layers.18.self_attn.out_proj.weight', 'models.0.decoder.layers.18.self_attn.out_proj.bias', 'models.0.decoder.layers.18.self_attn_layer_norm.weight', 'models.0.decoder.layers.18.self_attn_layer_norm.bias', 'models.0.decoder.layers.18.fc1.weight', 'models.0.decoder.layers.18.fc1.bias', 'models.0.decoder.layers.18.fc2.weight', 'models.0.decoder.layers.18.fc2.bias', 'models.0.decoder.layers.18.final_layer_norm.weight', 'models.0.decoder.layers.18.final_layer_norm.bias', 'models.0.decoder.layers.19.self_attn.k_proj.weight', 'models.0.decoder.layers.19.self_attn.k_proj.bias', 'models.0.decoder.layers.19.self_attn.v_proj.weight', 'models.0.decoder.layers.19.self_attn.v_proj.bias', 'models.0.decoder.layers.19.self_attn.q_proj.weight', 'models.0.decoder.layers.19.self_attn.q_proj.bias', 'models.0.decoder.layers.19.self_attn.out_proj.weight', 'models.0.decoder.layers.19.self_attn.out_proj.bias', 'models.0.decoder.layers.19.self_attn_layer_norm.weight', 'models.0.decoder.layers.19.self_attn_layer_norm.bias', 'models.0.decoder.layers.19.fc1.weight', 'models.0.decoder.layers.19.fc1.bias', 'models.0.decoder.layers.19.fc2.weight', 'models.0.decoder.layers.19.fc2.bias', 'models.0.decoder.layers.19.final_layer_norm.weight', 'models.0.decoder.layers.19.final_layer_norm.bias', 'models.0.decoder.layers.20.self_attn.k_proj.weight', 'models.0.decoder.layers.20.self_attn.k_proj.bias', 'models.0.decoder.layers.20.self_attn.v_proj.weight', 'models.0.decoder.layers.20.self_attn.v_proj.bias', 'models.0.decoder.layers.20.self_attn.q_proj.weight', 'models.0.decoder.layers.20.self_attn.q_proj.bias', 'models.0.decoder.layers.20.self_attn.out_proj.weight', 'models.0.decoder.layers.20.self_attn.out_proj.bias', 'models.0.decoder.layers.20.self_attn_layer_norm.weight', 'models.0.decoder.layers.20.self_attn_layer_norm.bias', 'models.0.decoder.layers.20.fc1.weight', 'models.0.decoder.layers.20.fc1.bias', 'models.0.decoder.layers.20.fc2.weight', 'models.0.decoder.layers.20.fc2.bias', 'models.0.decoder.layers.20.final_layer_norm.weight', 'models.0.decoder.layers.20.final_layer_norm.bias', 'models.0.decoder.layers.21.self_attn.k_proj.weight', 'models.0.decoder.layers.21.self_attn.k_proj.bias', 'models.0.decoder.layers.21.self_attn.v_proj.weight', 'models.0.decoder.layers.21.self_attn.v_proj.bias', 'models.0.decoder.layers.21.self_attn.q_proj.weight', 'models.0.decoder.layers.21.self_attn.q_proj.bias', 'models.0.decoder.layers.21.self_attn.out_proj.weight', 'models.0.decoder.layers.21.self_attn.out_proj.bias', 'models.0.decoder.layers.21.self_attn_layer_norm.weight', 'models.0.decoder.layers.21.self_attn_layer_norm.bias', 'models.0.decoder.layers.21.fc1.weight', 'models.0.decoder.layers.21.fc1.bias', 'models.0.decoder.layers.21.fc2.weight', 'models.0.decoder.layers.21.fc2.bias', 'models.0.decoder.layers.21.final_layer_norm.weight', 'models.0.decoder.layers.21.final_layer_norm.bias', 'models.0.decoder.layers.22.self_attn.k_proj.weight', 'models.0.decoder.layers.22.self_attn.k_proj.bias', 'models.0.decoder.layers.22.self_attn.v_proj.weight', 'models.0.decoder.layers.22.self_attn.v_proj.bias', 'models.0.decoder.layers.22.self_attn.q_proj.weight', 'models.0.decoder.layers.22.self_attn.q_proj.bias', 'models.0.decoder.layers.22.self_attn.out_proj.weight', 'models.0.decoder.layers.22.self_attn.out_proj.bias', 'models.0.decoder.layers.22.self_attn_layer_norm.weight', 'models.0.decoder.layers.22.self_attn_layer_norm.bias', 'models.0.decoder.layers.22.fc1.weight', 'models.0.decoder.layers.22.fc1.bias', 'models.0.decoder.layers.22.fc2.weight', 'models.0.decoder.layers.22.fc2.bias', 'models.0.decoder.layers.22.final_layer_norm.weight', 'models.0.decoder.layers.22.final_layer_norm.bias', 'models.0.decoder.layers.23.self_attn.k_proj.weight', 'models.0.decoder.layers.23.self_attn.k_proj.bias', 'models.0.decoder.layers.23.self_attn.v_proj.weight', 'models.0.decoder.layers.23.self_attn.v_proj.bias', 'models.0.decoder.layers.23.self_attn.q_proj.weight', 'models.0.decoder.layers.23.self_attn.q_proj.bias', 'models.0.decoder.layers.23.self_attn.out_proj.weight', 'models.0.decoder.layers.23.self_attn.out_proj.bias', 'models.0.decoder.layers.23.self_attn_layer_norm.weight', 'models.0.decoder.layers.23.self_attn_layer_norm.bias', 'models.0.decoder.layers.23.fc1.weight', 'models.0.decoder.layers.23.fc1.bias', 'models.0.decoder.layers.23.fc2.weight', 'models.0.decoder.layers.23.fc2.bias', 'models.0.decoder.layers.23.final_layer_norm.weight', 'models.0.decoder.layers.23.final_layer_norm.bias', 'models.0.decoder.layer_norm.weight', 'models.0.decoder.layer_norm.bias', 'models.0.decoder.output_projection.weight'])"
      ]
     },
     "execution_count": 31,
     "metadata": {},
     "output_type": "execute_result"
    }
   ],
   "source": [
    "model_fairseq.state_dict().keys()"
   ]
  },
  {
   "cell_type": "markdown",
   "id": "c964ca0e",
   "metadata": {},
   "source": [
    "This is the model architecture, the next step is to convert the architecture to the huggingface"
   ]
  },
  {
   "cell_type": "markdown",
   "id": "7dcf8a01",
   "metadata": {},
   "source": [
    "Will start here tommorow!"
   ]
  },
  {
   "cell_type": "markdown",
   "id": "80b4d346",
   "metadata": {},
   "source": []
  },
  {
   "cell_type": "markdown",
   "id": "f9927e87",
   "metadata": {},
   "source": [
    "https://github.com/huggingface/transformers/blob/main/src/transformers/models/biogpt/convert_biogpt_original_pytorch_checkpoint_to_pytorch.py"
   ]
  },
  {
   "cell_type": "markdown",
   "id": "980afa63",
   "metadata": {},
   "source": [
    "### Model Conversion to HF"
   ]
  },
  {
   "cell_type": "code",
   "execution_count": 32,
   "id": "ad422ce5",
   "metadata": {},
   "outputs": [],
   "source": [
    "from pathlib import Path"
   ]
  },
  {
   "cell_type": "code",
   "execution_count": 33,
   "id": "ed4121e6",
   "metadata": {},
   "outputs": [],
   "source": [
    "from convert_biogpt_original_pytorch_checkpoint_to_pytorch import convert_biogpt_checkpoint_to_pytorch"
   ]
  },
  {
   "cell_type": "code",
   "execution_count": 34,
   "id": "80510b3b",
   "metadata": {},
   "outputs": [],
   "source": [
    "model_path = Path.cwd().joinpath('datasets', 'biogpt', 'raw')"
   ]
  },
  {
   "cell_type": "code",
   "execution_count": 35,
   "id": "cfb73b7b",
   "metadata": {},
   "outputs": [],
   "source": [
    "assert model_path.exists(), \"Model path does not exist\""
   ]
  },
  {
   "cell_type": "code",
   "execution_count": 36,
   "id": "2f9f15b2",
   "metadata": {},
   "outputs": [],
   "source": [
    "biogpt_qa_hf_path = Path.cwd().joinpath('models', 'bio-gpt-qa')"
   ]
  },
  {
   "cell_type": "markdown",
   "id": "57fe26d0",
   "metadata": {},
   "source": [
    "###### Convert me to python cell to execute\n",
    "convert_biogpt_checkpoint_to_pytorch(biogpt_checkpoint_path=model_path, \n",
    "                                     pytorch_dump_folder_path=biogpt_qa_hf_path)"
   ]
  },
  {
   "cell_type": "markdown",
   "id": "f5ae5fd8",
   "metadata": {},
   "source": [
    "Now we have a problem, the fairseq  model has a vocabulary size  of 42384 while the model embedding layers has a size of 42393 words. It looks like in the embedding layers we have added  9 words which are learned1, learned2, learned3.... and learned9. Those words aret he words that the model is always generating before putting the final answer."
   ]
  },
  {
   "cell_type": "markdown",
   "id": "2d576fc6",
   "metadata": {},
   "source": [
    "Let us see how the model will perform"
   ]
  },
  {
   "cell_type": "code",
   "execution_count": 37,
   "id": "51b7b321",
   "metadata": {},
   "outputs": [],
   "source": [
    "from transformers import BioGptForCausalLM, BioGptTokenizer"
   ]
  },
  {
   "cell_type": "code",
   "execution_count": null,
   "id": "361bc3f3",
   "metadata": {},
   "outputs": [],
   "source": []
  },
  {
   "cell_type": "code",
   "execution_count": 38,
   "id": "517ba46a",
   "metadata": {},
   "outputs": [],
   "source": [
    "tokenizer = BioGptTokenizer.from_pretrained(biogpt_qa_hf_path)\n",
    "bio_gpt_model = BioGptForCausalLM.from_pretrained(biogpt_qa_hf_path)"
   ]
  },
  {
   "cell_type": "code",
   "execution_count": 39,
   "id": "97c5878b",
   "metadata": {},
   "outputs": [
    {
     "data": {
      "text/plain": [
       "'Question: Do mitochondria play a role in remodelling lace plant leaves during programmed cell death? Context: Programmed cell death (PCD) is the regulated death of cells within an organism. The lace plant (Aponogeton madagascariensis) produces perforations in its leaves through PCD. The leaves of the plant consist of a latticework of longitudinal and transverse veins enclosing areoles. PCD occurs in the cells at the center of these areoles and progresses outwards, stopping approximately five cells from the vasculature. The role of mitochondria during PCD has been recognized in animals; however, it has been less studied during PCD in plants. The following paper elucidates the role of mitochondrial dynamics during developmentally regulated PCD in vivo in A. madagascariensis. A single areole within a window stage leaf (PCD is occurring) was divided into three areas based on the progression of PCD; cells that will not undergo PCD (NPCD), cells in early stages of PCD (EPCD), and cells in late stages of PCD (LPCD). Window stage leaves were stained with the mitochondrial dye MitoTracker Red CMXRos and examined. Mitochondrial dynamics were delineated into four categories (M1-M4) based on characteristics including distribution, motility, and membrane potential (ΔΨm). A TUNEL assay showed fragmented nDNA in a gradient over these mitochondrial stages. Chloroplasts and transvacuolar strands were also examined using live cell imaging. The possible importance of mitochondrial permeability transition pore (PTP) formation during PCD was indirectly examined via in vivo cyclosporine A (CsA) treatment. This treatment resulted in lace plant leaves with a significantly lower number of perforations compared to controls, and that displayed mitochondrial dynamics similar to that of non-PCD cells.'"
      ]
     },
     "execution_count": 39,
     "metadata": {},
     "output_type": "execute_result"
    }
   ],
   "source": [
    "prompt"
   ]
  },
  {
   "cell_type": "code",
   "execution_count": 40,
   "id": "c607ddb8",
   "metadata": {},
   "outputs": [],
   "source": [
    "tokenized_text = tokenizer.encode(prompt, return_tensors=\"pt\")"
   ]
  },
  {
   "cell_type": "code",
   "execution_count": 41,
   "id": "6e9de656",
   "metadata": {},
   "outputs": [
    {
     "data": {
      "text/plain": [
       "tensor([[    2,  4790, 20925,    20, 10964,  2754,   882,    14,   151,    10,\n",
       "         13101,  8199,   707,  1041,  3436,    70,  7295,    49,   589,   927,\n",
       "         22343,    20, 23082,  7262,    49,   589,    12, 17928,    11,    21,\n",
       "             6,  1134,   589,     5,    42,   192,    32,  4175,     4,    18,\n",
       "          8199,   707,  1041,    12,  4410,   896,  2432, 37687,   676,  1753,\n",
       "         34842,  5202,  5428,    11,  3862, 19982,    10,   106,  3436,   199,\n",
       "         17928,     4,    18,  3436,     5,     6,  1041,  9109,     5,    14,\n",
       "          7653,  3752,   768,   488,     5,  2265,     8,  5786,  5662,   987,\n",
       "         11985,  6348, 11658,     4, 17928,  1395,    10,     6,    42,    34,\n",
       "             6,  1594,     5,    55,  6348, 11658,     8, 18252, 21640, 12095,\n",
       "             7, 16387,   792,   508,    42,    29,     6,  8136,     4,    18,\n",
       "           151,     5,  2754,    70, 17928,    57,    58,  1903,    10,   546,\n",
       "            44,   523,     7,   114,    57,    58,   188,   258,    70, 17928,\n",
       "            10,  1289,     4,    18,   277,   712, 36294,  1192,     6,   151,\n",
       "             5,  1225,  1313,    70, 15743,  1134, 17928,    10,   441,    10,\n",
       "         13739,   676,  1753, 34842,  5202,  5428,     4,    39,   236,  6348,\n",
       "          5600,   192,    14,  6489,   469,  3467,    12, 17928,    21,  1970,\n",
       "            11,    17,  1464,   122,   142,   708,   117,    25,     6,   865,\n",
       "             5, 17928,    44,    42,    22,   374,    41,  3336, 17928,    12,\n",
       "           299, 17928,    11,     7,    42,    10,   238,  1269,     5, 17928,\n",
       "            12,   343, 17928,    11,     7,     8,    42,    10,  1062,  1269,\n",
       "             5, 17928,    12,   237, 17928,    11,     4, 22941, 38151,   469,\n",
       "          3436,    19,  3570,    15,     6,  1225,  4189, 10235,   581, 14979,\n",
       "          4054,  8896,  4097, 16491,  2842,     8,   325,     4, 10637,  1313,\n",
       "            19, 15880,   122,   309,  2977,    12,  4274,     9, 22613,    11,\n",
       "           117,    25,   478,   197,   569,     7,  3568,     7,     8,   357,\n",
       "           182,    12,  5778, 37908,   659,    11,     4,    39, 13088,   576,\n",
       "           111, 16090,   790,   173,    10,    14,  2505,   222,    55,  1225,\n",
       "          1269,     4, 16985, 25108,     8,  1668, 17259, 11609,    19,    72,\n",
       "           325,    59,  3032,    49,   450,     4,    18,   416,   923,     5,\n",
       "          1225,  2967,  1513,  4733,    12, 18336,    11,   381,    70, 17928,\n",
       "            17,  7768,   325,   486,    10,   441,  9243,    39,    12,  8661,\n",
       "            11,    53,     4,    56,    53,   743,    10,  8199,   707,  1041,\n",
       "          3436,    15,    14,    90,   200,   191,     5, 19982,    97,    13,\n",
       "           433,     7,     8,    22,  2405,  1225,  1313,   242,    13,    22,\n",
       "             5,   155,     9, 17928,    42,     4]])"
      ]
     },
     "execution_count": 41,
     "metadata": {},
     "output_type": "execute_result"
    }
   ],
   "source": [
    "tokenized_text"
   ]
  },
  {
   "cell_type": "code",
   "execution_count": 42,
   "id": "5e08629b",
   "metadata": {},
   "outputs": [
    {
     "name": "stdout",
     "output_type": "stream",
     "text": [
      "('Question: Do mitochondria play a role in remodelling lace plant leaves '\n",
      " 'during programmed cell death? Context: Programmed cell death (PCD) is the '\n",
      " 'regulated death of cells within an organism. The lace plant (Aponogeton '\n",
      " 'madagascariensis) produces perforations in its leaves through PCD. The '\n",
      " 'leaves of the plant consist of a latticework of longitudinal and transverse '\n",
      " 'veins enclosing areoles. PCD occurs in the cells at the center of these '\n",
      " 'areoles and progresses outwards, stopping approximately five cells from the '\n",
      " 'vasculature. The role of mitochondria during PCD has been recognized in '\n",
      " 'animals; however, it has been less studied during PCD in plants. The '\n",
      " 'following paper elucidates the role of mitochondrial dynamics during '\n",
      " 'developmentally regulated PCD in vivo in A. madagascariensis. A single '\n",
      " 'areole within a window stage leaf (PCD is occurring) was divided into three '\n",
      " 'areas based on the progression of PCD; cells that will not undergo PCD '\n",
      " '(NPCD), cells in early stages of PCD (EPCD), and cells in late stages of PCD '\n",
      " '(LPCD). Window stage leaves were stained with the mitochondrial dye '\n",
      " 'MitoTracker Red CMXRos and examined. Mitochondrial dynamics were delineated '\n",
      " 'into four categories (M1-M4) based on characteristics including '\n",
      " 'distribution, motility, and membrane potential (ΔΨm). A TUNEL assay showed '\n",
      " 'fragmented nDNA in a gradient over these mitochondrial stages. Chloroplasts '\n",
      " 'and transvacuolar strands were also examined using live cell imaging. The '\n",
      " 'possible importance of mitochondrial permeability transition pore (PTP) '\n",
      " 'formation during PCD was indirectly examined via in vivo cyclosporine A '\n",
      " '(CsA) treatment. This treatment resulted in lace plant leaves with a '\n",
      " 'significantly lower number of perforations compared to controls, and that '\n",
      " 'displayed mitochondrial dynamics similar to that of non-PCD cells.')\n"
     ]
    }
   ],
   "source": [
    "pprint(prompt)"
   ]
  },
  {
   "cell_type": "code",
   "execution_count": 43,
   "id": "938c649b",
   "metadata": {},
   "outputs": [],
   "source": [
    "generate_tokens = bio_gpt_model.generate(tokenized_text, \n",
    "                                         num_beams=5, \n",
    "                                         do_sample=True,\n",
    "                                         top_k=50,\n",
    "                                         top_p=0.95,\n",
    "                                         max_length=512)"
   ]
  },
  {
   "cell_type": "code",
   "execution_count": null,
   "id": "52437800",
   "metadata": {},
   "outputs": [],
   "source": []
  },
  {
   "cell_type": "code",
   "execution_count": 44,
   "id": "9bb539e8",
   "metadata": {},
   "outputs": [
    {
     "name": "stdout",
     "output_type": "stream",
     "text": [
      "('Question: Do mitochondria play a role in remodelling lace plant leaves '\n",
      " 'during programmed cell death? Context: Programmed cell death (PCD) is the '\n",
      " 'regulated death of cells within an organism. The lace plant (Aponogeton '\n",
      " 'madagascariensis) produces perforations in its leaves through PCD. The '\n",
      " 'leaves of the plant consist of a latticework of longitudinal and transverse '\n",
      " 'veins enclosing areoles. PCD occurs in the cells at the center of these '\n",
      " 'areoles and progresses outwards, stopping approximately five cells from the '\n",
      " 'vasculature. The role of mitochondria during PCD has been recognized in '\n",
      " 'animals; however, it has been less studied during PCD in plants. The '\n",
      " 'following paper elucidates the role of mitochondrial dynamics during '\n",
      " 'developmentally regulated PCD in vivo in A. madagascariensis. A single '\n",
      " 'areole within a window stage leaf (PCD is occurring) was divided into three '\n",
      " 'areas based on the progression of PCD; cells that will not undergo PCD '\n",
      " '(NPCD), cells in early stages of PCD (EPCD), and cells in late stages of PCD '\n",
      " '(LPCD). Window stage leaves were stained with the mitochondrial dye '\n",
      " 'MitoTracker Red CMXRos and examined. Mitochondrial dynamics were delineated '\n",
      " 'into four categories (M1-M4) based on characteristics including '\n",
      " 'distribution, motility, and membrane potential (ΔΨm). A TUNEL assay showed '\n",
      " 'fragmented nDNA in a gradient over these mitochondrial stages. Chloroplasts '\n",
      " 'and transvacuolar strands were also examined using live cell imaging. The '\n",
      " 'possible importance of mitochondrial permeability transition pore (PTP) '\n",
      " 'formation during PCD was indirectly examined via in vivo cyclosporine A '\n",
      " '(CsA) treatment. This treatment resulted in lace plant leaves with a '\n",
      " 'significantly lower number of perforations compared to controls, and that '\n",
      " 'displayed mitochondrial dynamics similar to that of non-PCD cells. '\n",
      " '<unk><unk><unk><unk><unk><unk><unk><unk><unk>the answer to the question '\n",
      " 'given the context is yes.')\n"
     ]
    }
   ],
   "source": [
    "pprint(tokenizer.decode(generate_tokens[0], skip_special_tokens=True))"
   ]
  },
  {
   "cell_type": "code",
   "execution_count": 39,
   "id": "40dfb7cf",
   "metadata": {},
   "outputs": [
    {
     "name": "stderr",
     "output_type": "stream",
     "text": [
      "pytorch_model.bin: 100%|██████████| 1.39G/1.39G [32:16<00:00, 717kB/s]   \n"
     ]
    },
    {
     "data": {
      "text/plain": [
       "CommitInfo(commit_url='https://huggingface.co/espoir/BioGPT-Large-QA-PubMedQA/commit/a016a8329297428945c49b302c0338c5244fc950', commit_message='Upload BioGptForCausalLM', commit_description='', oid='a016a8329297428945c49b302c0338c5244fc950', pr_url=None, pr_revision=None, pr_num=None)"
      ]
     },
     "execution_count": 39,
     "metadata": {},
     "output_type": "execute_result"
    }
   ],
   "source": [
    "bio_gpt_model.push_to_hub(\"BioGPT-Large-QA-PubMedQA\")"
   ]
  },
  {
   "cell_type": "markdown",
   "id": "856b5573",
   "metadata": {},
   "source": [
    "This si where we stop today, I will comeback tommorow to learn why the prompt is working."
   ]
  },
  {
   "cell_type": "code",
   "execution_count": 41,
   "id": "2a72bb9d",
   "metadata": {},
   "outputs": [
    {
     "data": {
      "text/plain": [
       "CommitInfo(commit_url='https://huggingface.co/espoir/BioGPT-Large-QA-PubMedQA/commit/c7be40dc77fa11d996b3699d91893ae9511e3700', commit_message='Upload tokenizer', commit_description='', oid='c7be40dc77fa11d996b3699d91893ae9511e3700', pr_url=None, pr_revision=None, pr_num=None)"
      ]
     },
     "execution_count": 41,
     "metadata": {},
     "output_type": "execute_result"
    }
   ],
   "source": [
    "tokenizer.push_to_hub(\"BioGPT-Large-QA-PubMedQA\")"
   ]
  },
  {
   "cell_type": "code",
   "execution_count": null,
   "id": "ef1f0433",
   "metadata": {},
   "outputs": [],
   "source": []
  }
 ],
 "metadata": {
  "kernelspec": {
   "display_name": "Python 3 (ipykernel)",
   "language": "python",
   "name": "python3"
  },
  "language_info": {
   "codemirror_mode": {
    "name": "ipython",
    "version": 3
   },
   "file_extension": ".py",
   "mimetype": "text/x-python",
   "name": "python",
   "nbconvert_exporter": "python",
   "pygments_lexer": "ipython3",
   "version": "3.10.4"
  }
 },
 "nbformat": 4,
 "nbformat_minor": 5
}
