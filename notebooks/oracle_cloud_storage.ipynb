{
 "cells": [
  {
   "cell_type": "code",
   "execution_count": null,
   "metadata": {},
   "outputs": [],
   "source": []
  },
  {
   "cell_type": "markdown",
   "metadata": {},
   "source": [
    "### Writing files to object storage"
   ]
  },
  {
   "cell_type": "code",
   "execution_count": null,
   "metadata": {},
   "outputs": [],
   "source": [
    "import oci"
   ]
  },
  {
   "cell_type": "code",
   "execution_count": null,
   "metadata": {},
   "outputs": [],
   "source": [
    "from pathlib import Path"
   ]
  },
  {
   "cell_type": "code",
   "execution_count": null,
   "metadata": {},
   "outputs": [],
   "source": [
    "config_path = Path.home().joinpath(\".oci\", \"config\")"
   ]
  },
  {
   "cell_type": "code",
   "execution_count": null,
   "metadata": {},
   "outputs": [],
   "source": [
    "assert config_path.exists()"
   ]
  },
  {
   "cell_type": "code",
   "execution_count": null,
   "metadata": {},
   "outputs": [],
   "source": [
    "config = oci.config.from_file(config_path, profile_name=\"DEFAULT\")"
   ]
  },
  {
   "cell_type": "code",
   "execution_count": null,
   "metadata": {},
   "outputs": [],
   "source": [
    "config[\"signer\"] = \"espoir\""
   ]
  },
  {
   "cell_type": "code",
   "execution_count": null,
   "metadata": {},
   "outputs": [],
   "source": [
    "identity = oci.identity.IdentityClient(config)"
   ]
  },
  {
   "cell_type": "code",
   "execution_count": null,
   "metadata": {},
   "outputs": [],
   "source": [
    "from oci.config import validate_config"
   ]
  },
  {
   "cell_type": "code",
   "execution_count": null,
   "metadata": {},
   "outputs": [],
   "source": [
    "validate_config(config)"
   ]
  },
  {
   "cell_type": "code",
   "execution_count": null,
   "metadata": {},
   "outputs": [],
   "source": [
    "object_storage = oci.object_storage.ObjectStorageClient(config)"
   ]
  },
  {
   "cell_type": "code",
   "execution_count": null,
   "metadata": {},
   "outputs": [],
   "source": [
    "bucket_namespace = \"lrtfqsmony6u\"\n",
    "bucket_ocid = \"ocid1.bucket.oc1.uk-london-1.aaaaaaaasarm6qfn2ixcr4fauhm7qepd6syacsalqaafq6ucfmjsjd6v2fyq\"\n",
    "bucket_name = \"congo_news_qa_dataset\""
   ]
  },
  {
   "cell_type": "code",
   "execution_count": null,
   "metadata": {},
   "outputs": [],
   "source": [
    "def generate_signer_from_config(config):\n",
    "    # validate the config from file\n",
    "\n",
    "    # generate the signer using the config info\n",
    "    signer = oci.signer.Signer(\n",
    "        tenancy=config[\"tenancy\"],\n",
    "        user=config[\"user\"],\n",
    "        fingerprint=config[\"fingerprint\"],\n",
    "        private_key_file_location=config.get(\"key_file\"),\n",
    "        # pass_phrase is optional and can be None\n",
    "        pass_phrase=oci.config.get_config_value_or_default(\n",
    "            config, \"pass_phrase\"),\n",
    "        # private_key_content is optional and can be None\n",
    "        private_key_content=config.get(\"key_content\")\n",
    "    )\n",
    "\n",
    "    return signer"
   ]
  },
  {
   "cell_type": "code",
   "execution_count": null,
   "metadata": {},
   "outputs": [],
   "source": [
    "signer = generate_signer_from_config(config)"
   ]
  },
  {
   "cell_type": "code",
   "execution_count": null,
   "metadata": {},
   "outputs": [],
   "source": [
    "identity_client = oci.identity.IdentityClient(config, signer=signer)"
   ]
  },
  {
   "cell_type": "code",
   "execution_count": null,
   "metadata": {},
   "outputs": [],
   "source": [
    "tenancy_data = identity_client.get_tenancy(config[\"tenancy\"]).data\n",
    "print(f\"My tenancy name is {tenancy_data.name}\")"
   ]
  },
  {
   "cell_type": "markdown",
   "metadata": {},
   "source": []
  },
  {
   "cell_type": "code",
   "execution_count": null,
   "metadata": {},
   "outputs": [],
   "source": [
    "with open(subset_path, 'rb') as f:\n",
    "    object_storage.put_object(bucket_namespace, bucket_name, subset_path.name, f)"
   ]
  },
  {
   "cell_type": "code",
   "execution_count": null,
   "metadata": {},
   "outputs": [],
   "source": []
  }
 ],
 "metadata": {
  "language_info": {
   "name": "python"
  }
 },
 "nbformat": 4,
 "nbformat_minor": 2
}
