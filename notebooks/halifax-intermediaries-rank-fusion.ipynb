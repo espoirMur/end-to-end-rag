{
 "cells": [
  {
   "cell_type": "markdown",
   "id": "734c344b",
   "metadata": {},
   "source": [
    "### RAG Fusion Trial"
   ]
  },
  {
   "cell_type": "code",
   "execution_count": null,
   "id": "0891d63e",
   "metadata": {},
   "outputs": [],
   "source": [
    "from pathlib import Path"
   ]
  },
  {
   "cell_type": "code",
   "execution_count": null,
   "id": "f25f13d0",
   "metadata": {},
   "outputs": [],
   "source": [
    "current_working_directory = Path.cwd()"
   ]
  },
  {
   "cell_type": "code",
   "execution_count": null,
   "id": "d68bbc33",
   "metadata": {},
   "outputs": [],
   "source": [
    "data_directory = current_working_directory.joinpath(\"datasets/halifax_intermediaries/\")\n",
    "data_directory.exists()"
   ]
  },
  {
   "cell_type": "code",
   "execution_count": null,
   "id": "8bb9a1cc",
   "metadata": {},
   "outputs": [],
   "source": [
    "path = data_directory.joinpath(\"rephrased_questions.csv\")\n",
    "assert path.exists()"
   ]
  },
  {
   "cell_type": "markdown",
   "id": "a8f2b5ce",
   "metadata": {},
   "source": [
    "### Retrieval"
   ]
  },
  {
   "cell_type": "code",
   "execution_count": null,
   "id": "ee2d9d5e",
   "metadata": {},
   "outputs": [],
   "source": [
    "from src.rag.components.embeddings.embeddings import EmbeddingComputer\n",
    "embedding_model_name = \"intfloat/multilingual-e5-large\"\n",
    "embedding_computer = EmbeddingComputer(model_name=embedding_model_name)"
   ]
  },
  {
   "cell_type": "code",
   "execution_count": null,
   "id": "9dc4a4f0",
   "metadata": {},
   "outputs": [],
   "source": []
  },
  {
   "cell_type": "code",
   "execution_count": null,
   "id": "0ea69cfa",
   "metadata": {},
   "outputs": [],
   "source": [
    "from src.rag.components.data_ingestion.utils import create_postgres_connection, create_postgres_connection_uri"
   ]
  },
  {
   "cell_type": "code",
   "execution_count": null,
   "id": "c7f4d76a",
   "metadata": {},
   "outputs": [],
   "source": [
    "from src.rag.components.shared.databases.postgres import PostgresVectorDBClient"
   ]
  },
  {
   "cell_type": "code",
   "execution_count": null,
   "id": "d93aabe2",
   "metadata": {},
   "outputs": [],
   "source": [
    "connection_uri = create_postgres_connection_uri()\n",
    "connection = create_postgres_connection(connection_uri)\n",
    "postgres_client = PostgresVectorDBClient(\n",
    "\t\tconnection=connection,\n",
    "\t\tnamespace=\"halifax_intermediaries\",\n",
    "\t)\n"
   ]
  },
  {
   "cell_type": "code",
   "execution_count": null,
   "id": "760e1e62",
   "metadata": {},
   "outputs": [],
   "source": [
    "import pandas as pd"
   ]
  },
  {
   "cell_type": "code",
   "execution_count": null,
   "id": "698c8712",
   "metadata": {},
   "outputs": [],
   "source": [
    "dataset = pd.read_csv(path, index_col=[0, 1])\n",
    "dataset.columns = [\"rephrased_question\"]"
   ]
  },
  {
   "cell_type": "code",
   "execution_count": null,
   "id": "d6b9d6c0",
   "metadata": {},
   "outputs": [],
   "source": [
    "dataset.head()"
   ]
  },
  {
   "cell_type": "code",
   "execution_count": null,
   "id": "aeea6064",
   "metadata": {},
   "outputs": [],
   "source": [
    "question_returned_chunks = {}\n",
    "for original in dataset.index.get_level_values(0).unique():\n",
    "    subset = dataset.loc[original].rephrased_question\n",
    "    subset  = \"query: \" + subset\n",
    "    query_embeddings = embedding_computer.model.encode(\n",
    "        subset.tolist(),\n",
    "        convert_to_tensor=False,\n",
    "        show_progress_bar=True,\n",
    "        normalize_embeddings=True,\n",
    "    )\n",
    "    returned_chunks = postgres_client.search_many_by_vector(\n",
    "        table_name=\"halifax_intermediaries_documents\",\n",
    "        query_vectors=query_embeddings.tolist(),\n",
    "        return_columns=[\"content\", \"url\"],\n",
    "        candidate_limit=10,\n",
    "        vector_column=\"embedding\"\n",
    "    )\n",
    "    question_returned_chunks[original] = returned_chunks"
   ]
  },
  {
   "cell_type": "code",
   "execution_count": null,
   "id": "5b754caf",
   "metadata": {},
   "outputs": [],
   "source": [
    "question_returned_chunks_df = pd.DataFrame.from_dict(\n",
    "    question_returned_chunks, orient=\"index\").stack().apply(pd.Series).stack().apply(pd.Series)\n",
    "question_returned_chunks_df.columns = [\"similarity\", \"content\", \"url\", \"question_index\"]"
   ]
  },
  {
   "cell_type": "code",
   "execution_count": null,
   "id": "961cc110",
   "metadata": {},
   "outputs": [],
   "source": [
    "question_returned_chunks_df.index.shape\n"
   ]
  },
  {
   "cell_type": "code",
   "execution_count": null,
   "id": "3f1ea6d8",
   "metadata": {},
   "outputs": [],
   "source": [
    "def reciprocal_rank_fusion(results: list[list], k=60):\n",
    "    \"\"\" Reciprocal_rank_fusion that takes multiple lists of ranked documents \n",
    "        and an optional parameter k used in the RRF formula \"\"\"\n",
    "\n",
    "    # Initialize a dictionary to hold fused scores for each unique document\n",
    "    fused_scores = {}\n",
    "\n",
    "    # Iterate through each list of ranked documents\n",
    "    for index, docs in results.items():\n",
    "        # Iterate through each document in the list, with its rank (position in the list)\n",
    "        for rank, doc in enumerate(docs):\n",
    "            # If the document is not yet in the fused_scores dictionary, add it with an initial score of 0\n",
    "            doc_text = doc[1], doc[2]  # Assuming doc is a tuple (similarity, content, url, question_index)\n",
    "            if doc_text not in fused_scores:\n",
    "                fused_scores[doc_text] = 0\n",
    "            # Retrieve the current score of the document, if any\n",
    "            previous_score = fused_scores[doc_text]\n",
    "            # Update the score of the document using the RRF formula: 1 / (rank + k)\n",
    "            fused_scores[doc_text] += 1 / (rank + k)\n",
    "\n",
    "    # Sort the documents based on their fused scores in descending order to get the final reranked results\n",
    "    reranked_results = [\n",
    "        (doc, score)\n",
    "        for doc, score in sorted(fused_scores.items(), key=lambda x: x[1], reverse=True)\n",
    "    ]\n",
    "\n",
    "    # Return the reranked results as a list of tuples, each containing the document and its fused score\n",
    "    return reranked_results"
   ]
  },
  {
   "cell_type": "code",
   "execution_count": null,
   "id": "dca9bc20",
   "metadata": {},
   "outputs": [],
   "source": [
    "question_fused_results = {}\n",
    "for question, results in question_returned_chunks.items():\n",
    "    results_dict = dict(results)\n",
    "    fused_results = reciprocal_rank_fusion(results_dict, k=60)\n",
    "    question_fused_results[question] = fused_results[:10]  # Get top 10 results\n"
   ]
  },
  {
   "cell_type": "code",
   "execution_count": null,
   "id": "83f8e838",
   "metadata": {},
   "outputs": [],
   "source": [
    "question_fused_results_df = pd.DataFrame.from_dict(question_fused_results, orient='index' ).stack().apply(pd.Series)"
   ]
  },
  {
   "cell_type": "code",
   "execution_count": null,
   "id": "1e11f7d6",
   "metadata": {},
   "outputs": [],
   "source": [
    "question_fused_results_df.head()"
   ]
  },
  {
   "cell_type": "code",
   "execution_count": null,
   "id": "2ae63342",
   "metadata": {},
   "outputs": [],
   "source": [
    "question_fused_results_df[\"content\"] = question_fused_results_df[0].apply(pd.Series)[0]\n",
    "question_fused_results_df[\"url\"] = question_fused_results_df[0].apply(pd.Series)[1]\n",
    "question_fused_results_df[\"fused_results\"] = question_fused_results_df[1]\n",
    "question_fused_results_df = question_fused_results_df[[\"content\", \"url\", \"fused_results\"]]"
   ]
  },
  {
   "cell_type": "code",
   "execution_count": null,
   "id": "cdf98f41",
   "metadata": {},
   "outputs": [],
   "source": [
    "question_fused_results_df.head()"
   ]
  },
  {
   "cell_type": "code",
   "execution_count": null,
   "id": "522f4721",
   "metadata": {},
   "outputs": [],
   "source": [
    "question_fused_results_df.to_csv(current_working_directory.joinpath(f\"datasets/halifax_intermediaries/question_fused_results_df_{embedding_model_name.split('/')[-1]}.csv\"))"
   ]
  },
  {
   "cell_type": "code",
   "execution_count": null,
   "id": "b567d51d",
   "metadata": {},
   "outputs": [],
   "source": []
  }
 ],
 "metadata": {
  "kernelspec": {
   "display_name": ".venv",
   "language": "python",
   "name": "python3"
  },
  "language_info": {
   "codemirror_mode": {
    "name": "ipython",
    "version": 3
   },
   "file_extension": ".py",
   "mimetype": "text/x-python",
   "name": "python",
   "nbconvert_exporter": "python",
   "pygments_lexer": "ipython3",
   "version": "3.10.4"
  }
 },
 "nbformat": 4,
 "nbformat_minor": 5
}
