{
 "cells": [
  {
   "cell_type": "code",
   "execution_count": null,
   "id": "a022f1c8",
   "metadata": {},
   "outputs": [],
   "source": []
  },
  {
   "cell_type": "markdown",
   "id": "93557c1b",
   "metadata": {},
   "source": [
    "#### Connecting to PostgreSQL"
   ]
  },
  {
   "cell_type": "code",
   "execution_count": 1,
   "id": "839b9151",
   "metadata": {},
   "outputs": [],
   "source": [
    "from pathlib import Path"
   ]
  },
  {
   "cell_type": "code",
   "execution_count": 2,
   "id": "4b001ec2",
   "metadata": {},
   "outputs": [],
   "source": [
    "from os import getenv\n",
    "from dotenv import load_dotenv, find_dotenv"
   ]
  },
  {
   "cell_type": "code",
   "execution_count": 3,
   "id": "aaca4a2a",
   "metadata": {},
   "outputs": [],
   "source": [
    "from urllib.parse import quote"
   ]
  },
  {
   "cell_type": "code",
   "execution_count": 4,
   "id": "7b056704",
   "metadata": {},
   "outputs": [],
   "source": [
    "load_dotenv()\n",
    "database_user = \"postgres\"\n",
    "database_password = getenv('POSTGRES_PASSWORD')\n",
    "database_host = \"localhost\"  # getenv('POSTGRES_HOST')\n",
    "database_port = 5434\n",
    "database_name =  \"postgres\" # getenv('POSTGRES_DB')"
   ]
  },
  {
   "cell_type": "code",
   "execution_count": 5,
   "id": "c4da22a3",
   "metadata": {},
   "outputs": [],
   "source": [
    "postgres_uri = f'postgresql://{database_user}:{quote(database_password)}@{database_host}:{database_port}/{database_name}'"
   ]
  },
  {
   "cell_type": "code",
   "execution_count": 6,
   "id": "d42dce9f",
   "metadata": {},
   "outputs": [],
   "source": [
    "from  psycopg import  connect\n"
   ]
  },
  {
   "cell_type": "code",
   "execution_count": 7,
   "id": "6ff31404",
   "metadata": {},
   "outputs": [],
   "source": [
    "database_connection = connect(\n",
    "    conninfo=postgres_uri,\n",
    "    autocommit=True,\n",
    ")"
   ]
  },
  {
   "cell_type": "code",
   "execution_count": 8,
   "id": "5f5e0817",
   "metadata": {},
   "outputs": [],
   "source": [
    "from src.rag.components.shared.databases.postgres import PostgresVectorDBClient"
   ]
  },
  {
   "cell_type": "code",
   "execution_count": 9,
   "id": "3d8ad6c5",
   "metadata": {},
   "outputs": [],
   "source": [
    "database_client = PostgresVectorDBClient(\n",
    "    connection=database_connection,\n",
    "    namespace='my_documents',\n",
    ")"
   ]
  },
  {
   "cell_type": "markdown",
   "id": "595884f8",
   "metadata": {},
   "source": [
    "## Need to create the document table\n",
    "## Create the chunk table\n",
    "### write and work on the insertion script."
   ]
  },
  {
   "cell_type": "code",
   "execution_count": 10,
   "id": "260e1caa",
   "metadata": {},
   "outputs": [],
   "source": [
    "from src.rag.schemas.document import Document, Node"
   ]
  },
  {
   "cell_type": "code",
   "execution_count": 11,
   "id": "45d42f01",
   "metadata": {},
   "outputs": [],
   "source": [
    "from psycopg import Connection, sql\n",
    "from psycopg.pq import TransactionStatus"
   ]
  },
  {
   "cell_type": "code",
   "execution_count": 12,
   "id": "a98c4f24",
   "metadata": {},
   "outputs": [],
   "source": [
    "columns = sql.SQL(\", \").join(\n",
    "    sql.SQL(\"{column} {data_type}\").format(\n",
    "        column=sql.Identifier(column),\n",
    "        data_type=sql.SQL(data_type),\n",
    "    )\n",
    "    for column, data_type in Document.to_sql_schema().items()\n",
    ")"
   ]
  },
  {
   "cell_type": "code",
   "execution_count": 13,
   "id": "e611d710",
   "metadata": {},
   "outputs": [
    {
     "data": {
      "text/plain": [
       "Composed([Composed([Identifier('doc_id'), SQL(' '), SQL('TEXT PRIMARY KEY')]), SQL(', '), Composed([Identifier('file_path'), SQL(' '), SQL('TEXT')]), SQL(', '), Composed([Identifier('filename'), SQL(' '), SQL('TEXT')]), SQL(', '), Composed([Identifier('num_pages'), SQL(' '), SQL('INTEGER')]), SQL(', '), Composed([Identifier('coordinate_system'), SQL(' '), SQL('TEXT')]), SQL(', '), Composed([Identifier('table_parsing_kwargs'), SQL(' '), SQL('JSON')]), SQL(', '), Composed([Identifier('last_modified_date'), SQL(' '), SQL('TIMESTAMPTZ')]), SQL(', '), Composed([Identifier('last_accessed_date'), SQL(' '), SQL('TIMESTAMPTZ')]), SQL(', '), Composed([Identifier('creation_date'), SQL(' '), SQL('TIMESTAMPTZ')]), SQL(', '), Composed([Identifier('file_size'), SQL(' '), SQL('INTEGER')]), SQL(', '), Composed([Identifier('object'), SQL(' '), SQL('TEXT')]), SQL(', '), Composed([Identifier('doc_metadata'), SQL(' '), SQL('JSON')])])"
      ]
     },
     "execution_count": 13,
     "metadata": {},
     "output_type": "execute_result"
    }
   ],
   "source": [
    "columns"
   ]
  },
  {
   "cell_type": "code",
   "execution_count": 14,
   "id": "d13579e7",
   "metadata": {},
   "outputs": [
    {
     "name": "stdout",
     "output_type": "stream",
     "text": [
      "\u001b[32m2025-07-29 23:02:51 | INFO     | postgres database client:create_table:108 | Table documents created with schema: {'doc_id': 'TEXT PRIMARY KEY', 'file_path': 'TEXT', 'filename': 'TEXT', 'num_pages': 'INTEGER', 'coordinate_system': 'TEXT', 'table_parsing_kwargs': 'JSON', 'last_modified_date': 'TIMESTAMPTZ', 'last_accessed_date': 'TIMESTAMPTZ', 'creation_date': 'TIMESTAMPTZ', 'file_size': 'INTEGER', 'object': 'TEXT', 'doc_metadata': 'JSON'}\u001b[0m\n"
     ]
    }
   ],
   "source": [
    "database_client.create_table(\n",
    "    name='documents',\n",
    "    schema=Document.to_sql_schema(),\n",
    "    if_not_exists=True,\n",
    ")"
   ]
  },
  {
   "cell_type": "code",
   "execution_count": 15,
   "id": "3acfb423",
   "metadata": {},
   "outputs": [],
   "source": [
    "embedding_size = 1024"
   ]
  },
  {
   "cell_type": "code",
   "execution_count": 16,
   "id": "318a7596",
   "metadata": {},
   "outputs": [
    {
     "data": {
      "text/plain": [
       "Identifier('my_documents_documents')"
      ]
     },
     "execution_count": 16,
     "metadata": {},
     "output_type": "execute_result"
    }
   ],
   "source": [
    "database_client._full_table_name(\"documents\")"
   ]
  },
  {
   "cell_type": "code",
   "execution_count": 52,
   "id": "13a6670c",
   "metadata": {},
   "outputs": [
    {
     "name": "stdout",
     "output_type": "stream",
     "text": [
      "\u001b[32m2025-07-29 23:44:22 | INFO     | postgres database client:create_table:108 | Table nodes created with schema: {'node_id': 'TEXT PRIMARY KEY', 'variant': 'JSON', 'tokens': 'INTEGER', 'bbox': 'JSON', 'text': 'TEXT', 'elements': 'JSON', 'object': 'TEXT', 'score': 'REAL', 'previous_texts': 'JSON', 'next_texts': 'JSON', 'document_id': 'TEXT', 'embedding': 'vector(1024)'}\u001b[0m\n"
     ]
    }
   ],
   "source": [
    "database_client.create_table(\n",
    "    name='nodes',\n",
    "    schema=Node.to_sql_schema(embedding_dimension=embedding_size, table_prefix=\"my_documents\"),\n",
    "    if_not_exists=True,\n",
    ")"
   ]
  },
  {
   "cell_type": "code",
   "execution_count": 18,
   "id": "d4969ed0",
   "metadata": {},
   "outputs": [],
   "source": [
    "from src.rag.components.shared.io import IOManager"
   ]
  },
  {
   "cell_type": "code",
   "execution_count": 19,
   "id": "83cd1f37",
   "metadata": {},
   "outputs": [],
   "source": [
    "document_with_embedding_path = Path.cwd().joinpath(\n",
    "    \"datasets\", \"parsed_documents_with_embeddings\")"
   ]
  },
  {
   "cell_type": "code",
   "execution_count": 20,
   "id": "25c4c6fb",
   "metadata": {},
   "outputs": [],
   "source": [
    "io_manager = IOManager(input_document_path=document_with_embedding_path, output_path=document_with_embedding_path)"
   ]
  },
  {
   "cell_type": "code",
   "execution_count": 49,
   "id": "998714fc",
   "metadata": {},
   "outputs": [],
   "source": [
    "test_nodes = io_manager.load_nodes_document(start_index=0, end_index=10)"
   ]
  },
  {
   "cell_type": "code",
   "execution_count": 50,
   "id": "d231e6e3",
   "metadata": {},
   "outputs": [],
   "source": [
    "test_nodes_sql = [doc.to_sql_insert(\n",
    "    \"my_documents\") for doc in test_nodes]"
   ]
  },
  {
   "cell_type": "code",
   "execution_count": null,
   "id": "f1808f94",
   "metadata": {},
   "outputs": [],
   "source": []
  },
  {
   "cell_type": "code",
   "execution_count": 33,
   "id": "01f8d139",
   "metadata": {},
   "outputs": [],
   "source": [
    "from uuid import uuid4\n"
   ]
  },
  {
   "cell_type": "code",
   "execution_count": 34,
   "id": "4b216f19",
   "metadata": {},
   "outputs": [],
   "source": [
    "document_dict = test_documents[0].document.model_dump()\n",
    "document_dict[\"doc_id\"] = str(uuid4())  # Ensure doc_id is a string UUID\n"
   ]
  },
  {
   "cell_type": "code",
   "execution_count": 35,
   "id": "795b464b",
   "metadata": {},
   "outputs": [
    {
     "data": {
      "text/plain": [
       "{'file_path': '/Users/esp.py/Documents/Eu-Trip/covid-passport.pdf',\n",
       " 'filename': 'covid-passport.pdf',\n",
       " 'num_pages': 1,\n",
       " 'coordinate_system': 'BOTTOM-LEFT',\n",
       " 'table_parsing_kwargs': None,\n",
       " 'last_modified_date': datetime.datetime(2022, 5, 4, 12, 59, 26),\n",
       " 'last_accessed_date': datetime.datetime(2024, 3, 13, 8, 22, 4, 905879),\n",
       " 'creation_date': datetime.datetime(2023, 6, 20, 13, 12, 6, 511693),\n",
       " 'file_size': 321769,\n",
       " 'object': 'ingest.document',\n",
       " 'doc_metadata': None,\n",
       " 'doc_id': '3c3780bc-a40c-43a9-a2db-4d370bab1fb0'}"
      ]
     },
     "execution_count": 35,
     "metadata": {},
     "output_type": "execute_result"
    }
   ],
   "source": [
    "document_dict"
   ]
  },
  {
   "cell_type": "code",
   "execution_count": 41,
   "id": "6cd33dd0",
   "metadata": {},
   "outputs": [
    {
     "name": "stdout",
     "output_type": "stream",
     "text": [
      "\u001b[32m2025-07-29 23:15:36 | INFO     | postgres database client:find_by_id_or_create:206 | Executing query: SELECT * FROM \"my_documents_documents\" WHERE \"doc_id\" = %s\u001b[0m\n"
     ]
    }
   ],
   "source": [
    "document = database_client.find_by_id_or_create(\"documents\", document_dict, id_field=\"doc_id\")"
   ]
  },
  {
   "cell_type": "code",
   "execution_count": 42,
   "id": "405609cf",
   "metadata": {},
   "outputs": [
    {
     "data": {
      "text/plain": [
       "(False,\n",
       " [('3c3780bc-a40c-43a9-a2db-4d370bab1fb0',\n",
       "   '/Users/esp.py/Documents/Eu-Trip/covid-passport.pdf',\n",
       "   'covid-passport.pdf',\n",
       "   1,\n",
       "   'BOTTOM-LEFT',\n",
       "   None,\n",
       "   datetime.datetime(2022, 5, 4, 12, 59, 26, tzinfo=zoneinfo.ZoneInfo(key='Etc/UTC')),\n",
       "   datetime.datetime(2024, 3, 13, 8, 22, 4, 905879, tzinfo=zoneinfo.ZoneInfo(key='Etc/UTC')),\n",
       "   datetime.datetime(2023, 6, 20, 13, 12, 6, 511693, tzinfo=zoneinfo.ZoneInfo(key='Etc/UTC')),\n",
       "   321769,\n",
       "   'ingest.document',\n",
       "   None)])"
      ]
     },
     "execution_count": 42,
     "metadata": {},
     "output_type": "execute_result"
    }
   ],
   "source": [
    "document"
   ]
  },
  {
   "cell_type": "markdown",
   "id": "364c7d17",
   "metadata": {},
   "source": [
    "For insertion: \n",
    "\n",
    "- This guide recomend: \n",
    "    - remove indexes\n",
    "    - remove foreign keys and then insert data and add them back once the data is insert.\n",
    "    https://www.postgresql.org/docs/current/populate.html"
   ]
  },
  {
   "cell_type": "markdown",
   "id": "a2366bf6",
   "metadata": {},
   "source": []
  },
  {
   "cell_type": "markdown",
   "id": "b43b4bec",
   "metadata": {},
   "source": [
    "data"
   ]
  },
  {
   "cell_type": "code",
   "execution_count": 81,
   "id": "68968a12",
   "metadata": {},
   "outputs": [
    {
     "name": "stdout",
     "output_type": "stream",
     "text": [
      "\u001b[32m2025-07-30 00:09:04 | INFO     | postgres database client:bulk_insert:286 | Executing bulk insert query: INSERT INTO \"my_documents_nodes\" (\"node_id\", \"variant\", \"tokens\", \"bbox\", \"text\", \"elements\", \"object\", \"score\", \"previous_texts\", \"next_texts\", \"document_id\", \"embedding\")  values (%s, %s, %s, %s, %s, %s, %s, %s, %s, %s, %s, %s)  ON CONFLICT DO NOTHING\u001b[0m\n"
     ]
    }
   ],
   "source": [
    "data_insert = database_client.bulk_insert(\n",
    "    table_name=\"nodes\",\n",
    "    data=test_nodes_sql,\n",
    "    returning=None)"
   ]
  },
  {
   "cell_type": "code",
   "execution_count": 82,
   "id": "dae690b0",
   "metadata": {},
   "outputs": [],
   "source": [
    "data_insert"
   ]
  },
  {
   "cell_type": "code",
   "execution_count": 58,
   "id": "f45d41dc",
   "metadata": {},
   "outputs": [
    {
     "data": {
      "text/plain": [
       "12"
      ]
     },
     "execution_count": 58,
     "metadata": {},
     "output_type": "execute_result"
    }
   ],
   "source": [
    "len(columns)"
   ]
  },
  {
   "cell_type": "code",
   "execution_count": 69,
   "id": "0674c09d",
   "metadata": {},
   "outputs": [],
   "source": [
    "placeholders=sql.SQL(\", \").join(sql.Placeholder() * len(columns)\n",
    ")"
   ]
  },
  {
   "cell_type": "code",
   "execution_count": 71,
   "id": "e2e3f7b3",
   "metadata": {},
   "outputs": [],
   "source": [
    "values = [tuple(item[col] for col in columns) for item in test_nodes_sql]"
   ]
  },
  {
   "cell_type": "code",
   "execution_count": 73,
   "id": "0d3f7db0",
   "metadata": {},
   "outputs": [
    {
     "data": {
      "text/plain": [
       "12"
      ]
     },
     "execution_count": 73,
     "metadata": {},
     "output_type": "execute_result"
    }
   ],
   "source": [
    "len(values[0])"
   ]
  },
  {
   "cell_type": "code",
   "execution_count": null,
   "id": "a315b32d",
   "metadata": {},
   "outputs": [],
   "source": [
    "# TODO: Done with the insertion script, tommorow come back and check\n",
    "\n",
    "Write everything in one script, \n",
    "add the constraints, such as primary key and foreign key, and indexes"
   ]
  }
 ],
 "metadata": {
  "kernelspec": {
   "display_name": ".venv",
   "language": "python",
   "name": "python3"
  },
  "language_info": {
   "codemirror_mode": {
    "name": "ipython",
    "version": 3
   },
   "file_extension": ".py",
   "mimetype": "text/x-python",
   "name": "python",
   "nbconvert_exporter": "python",
   "pygments_lexer": "ipython3",
   "version": "3.10.4"
  }
 },
 "nbformat": 4,
 "nbformat_minor": 5
}
