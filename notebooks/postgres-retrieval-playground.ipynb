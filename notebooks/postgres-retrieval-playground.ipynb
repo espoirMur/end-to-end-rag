{
 "cells": [
  {
   "cell_type": "code",
   "execution_count": null,
   "id": "a022f1c8",
   "metadata": {},
   "outputs": [],
   "source": []
  },
  {
   "cell_type": "markdown",
   "id": "93557c1b",
   "metadata": {},
   "source": [
    "#### Connecting to PostgreSQL"
   ]
  },
  {
   "cell_type": "code",
   "execution_count": null,
   "id": "839b9151",
   "metadata": {},
   "outputs": [],
   "source": [
    "from pathlib import Path"
   ]
  },
  {
   "cell_type": "code",
   "execution_count": null,
   "id": "4b001ec2",
   "metadata": {},
   "outputs": [],
   "source": [
    "from os import getenv\n",
    "from dotenv import load_dotenv, find_dotenv"
   ]
  },
  {
   "cell_type": "code",
   "execution_count": null,
   "id": "aaca4a2a",
   "metadata": {},
   "outputs": [],
   "source": [
    "from urllib.parse import quote"
   ]
  },
  {
   "cell_type": "code",
   "execution_count": null,
   "id": "7b056704",
   "metadata": {},
   "outputs": [],
   "source": [
    "load_dotenv()\n",
    "database_user = \"postgres\"\n",
    "database_password = getenv('POSTGRES_PASSWORD')\n",
    "database_host = \"localhost\"  # getenv('POSTGRES_HOST')\n",
    "database_port = 5434\n",
    "database_name =  \"postgres\" # getenv('POSTGRES_DB')"
   ]
  },
  {
   "cell_type": "code",
   "execution_count": null,
   "id": "c4da22a3",
   "metadata": {},
   "outputs": [],
   "source": [
    "postgres_uri = f'postgresql://{database_user}:{quote(database_password)}@{database_host}:{database_port}/{database_name}'"
   ]
  },
  {
   "cell_type": "code",
   "execution_count": null,
   "id": "d42dce9f",
   "metadata": {},
   "outputs": [],
   "source": [
    "from  psycopg import  connect\n"
   ]
  },
  {
   "cell_type": "code",
   "execution_count": null,
   "id": "6ff31404",
   "metadata": {},
   "outputs": [],
   "source": [
    "database_connection = connect(\n",
    "    conninfo=postgres_uri,\n",
    "    autocommit=True,\n",
    ")"
   ]
  },
  {
   "cell_type": "code",
   "execution_count": null,
   "id": "5f5e0817",
   "metadata": {},
   "outputs": [],
   "source": [
    "from src.rag.components.shared.databases.postgres import PostgresVectorDBClient"
   ]
  },
  {
   "cell_type": "code",
   "execution_count": null,
   "id": "3d8ad6c5",
   "metadata": {},
   "outputs": [],
   "source": [
    "database_client = PostgresVectorDBClient(\n",
    "    connection=database_connection,\n",
    "    namespace='my_documents',\n",
    ")"
   ]
  },
  {
   "cell_type": "markdown",
   "id": "595884f8",
   "metadata": {},
   "source": [
    "## Need to create the document table\n",
    "## Create the chunk table\n",
    "### write and work on the insertion script."
   ]
  },
  {
   "cell_type": "code",
   "execution_count": null,
   "id": "260e1caa",
   "metadata": {},
   "outputs": [],
   "source": [
    "from src.rag.schemas.document import Document, Node"
   ]
  },
  {
   "cell_type": "code",
   "execution_count": null,
   "id": "45d42f01",
   "metadata": {},
   "outputs": [],
   "source": [
    "from psycopg import Connection, sql\n",
    "from psycopg.pq import TransactionStatus"
   ]
  },
  {
   "cell_type": "code",
   "execution_count": null,
   "id": "d13579e7",
   "metadata": {},
   "outputs": [],
   "source": [
    "database_client.create_table(\n",
    "    name='documents',\n",
    "    schema=Document.to_sql_schema(),\n",
    "    if_not_exists=True,\n",
    ")"
   ]
  },
  {
   "cell_type": "code",
   "execution_count": null,
   "id": "3acfb423",
   "metadata": {},
   "outputs": [],
   "source": [
    "embedding_size = 1024"
   ]
  },
  {
   "cell_type": "code",
   "execution_count": null,
   "id": "318a7596",
   "metadata": {},
   "outputs": [],
   "source": [
    "database_client._full_table_name(\"documents\")"
   ]
  },
  {
   "cell_type": "code",
   "execution_count": null,
   "id": "13a6670c",
   "metadata": {},
   "outputs": [],
   "source": [
    "database_client.create_table(\n",
    "    name='nodes',\n",
    "    schema=Node.to_sql_schema(embedding_dimension=embedding_size, table_prefix=\"my_documents\"),\n",
    "    if_not_exists=True,\n",
    ")"
   ]
  },
  {
   "cell_type": "code",
   "execution_count": null,
   "id": "d4969ed0",
   "metadata": {},
   "outputs": [],
   "source": [
    "from src.rag.components.shared.io import IOManager"
   ]
  },
  {
   "cell_type": "code",
   "execution_count": 117,
   "id": "83cd1f37",
   "metadata": {},
   "outputs": [],
   "source": [
    "document_with_embedding_path = Path.cwd().joinpath(\n",
    "    \"datasets\", \"parsed_documents_with_embeddings\")"
   ]
  },
  {
   "cell_type": "code",
   "execution_count": 118,
   "id": "25c4c6fb",
   "metadata": {},
   "outputs": [],
   "source": [
    "io_manager = IOManager(input_document_path=document_with_embedding_path, output_path=document_with_embedding_path)"
   ]
  },
  {
   "cell_type": "code",
   "execution_count": 119,
   "id": "998714fc",
   "metadata": {},
   "outputs": [],
   "source": [
    "test_nodes = io_manager.load_nodes_document(start_index=11, end_index=20)"
   ]
  },
  {
   "cell_type": "code",
   "execution_count": 120,
   "id": "8d76460b",
   "metadata": {},
   "outputs": [
    {
     "data": {
      "text/plain": [
       "{'doc_id': 'd106a8d1-c062-4a70-abde-54cff8a2bb74',\n",
       " 'file_path': '/Users/esp.py/Documents/Visa-Documents/Murhabazi_Buzina_certificate_registration.pdf',\n",
       " 'filename': 'Murhabazi_Buzina_certificate_registration.pdf',\n",
       " 'num_pages': 1,\n",
       " 'coordinate_system': 'BOTTOM-LEFT',\n",
       " 'table_parsing_kwargs': None,\n",
       " 'last_modified_date': datetime.datetime(2021, 12, 17, 15, 36, 18),\n",
       " 'last_accessed_date': datetime.datetime(2023, 6, 20, 14, 10, 0, 893355),\n",
       " 'creation_date': datetime.datetime(2023, 6, 20, 13, 11, 54, 752321),\n",
       " 'file_size': 550464,\n",
       " 'object': 'ingest.document',\n",
       " 'doc_metadata': None}"
      ]
     },
     "execution_count": 120,
     "metadata": {},
     "output_type": "execute_result"
    }
   ],
   "source": [
    "test_nodes[0].document.model_dump()"
   ]
  },
  {
   "cell_type": "code",
   "execution_count": null,
   "id": "d231e6e3",
   "metadata": {},
   "outputs": [],
   "source": [
    "test_nodes_sql = [doc.to_sql_insert(\n",
    "    \"my_documents\") for doc in test_nodes]"
   ]
  },
  {
   "cell_type": "code",
   "execution_count": null,
   "id": "c5eed35b",
   "metadata": {},
   "outputs": [],
   "source": [
    "from uuid import uuid4"
   ]
  },
  {
   "cell_type": "code",
   "execution_count": null,
   "id": "f1808f94",
   "metadata": {},
   "outputs": [],
   "source": [
    "def get_connection():"
   ]
  },
  {
   "cell_type": "code",
   "execution_count": null,
   "id": "485aa82c",
   "metadata": {},
   "outputs": [],
   "source": [
    "len(documents)"
   ]
  },
  {
   "cell_type": "code",
   "execution_count": null,
   "id": "89446ee2",
   "metadata": {},
   "outputs": [],
   "source": [
    "from typing import Dict, List"
   ]
  },
  {
   "cell_type": "code",
   "execution_count": null,
   "id": "01f8d139",
   "metadata": {},
   "outputs": [],
   "source": []
  },
  {
   "cell_type": "code",
   "execution_count": null,
   "id": "4b216f19",
   "metadata": {},
   "outputs": [],
   "source": [
    "\n"
   ]
  },
  {
   "cell_type": "code",
   "execution_count": null,
   "id": "6cd33dd0",
   "metadata": {},
   "outputs": [],
   "source": [
    "document = database_client.find_by_id_or_create(\"documents\", document_dict, id_field=\"doc_id\")"
   ]
  },
  {
   "cell_type": "code",
   "execution_count": null,
   "id": "405609cf",
   "metadata": {},
   "outputs": [],
   "source": [
    "document"
   ]
  },
  {
   "cell_type": "markdown",
   "id": "364c7d17",
   "metadata": {},
   "source": [
    "For insertion: \n",
    "\n",
    "- This guide recomend: \n",
    "    - remove indexes\n",
    "    - remove foreign keys and then insert data and add them back once the data is insert.\n",
    "    https://www.postgresql.org/docs/current/populate.html"
   ]
  },
  {
   "cell_type": "markdown",
   "id": "a2366bf6",
   "metadata": {},
   "source": []
  },
  {
   "cell_type": "markdown",
   "id": "b43b4bec",
   "metadata": {},
   "source": [
    "data"
   ]
  },
  {
   "cell_type": "code",
   "execution_count": null,
   "id": "68968a12",
   "metadata": {},
   "outputs": [],
   "source": [
    "data_insert = database_client.bulk_insert(\n",
    "    table_name=\"nodes\",\n",
    "    data=test_nodes_sql,\n",
    "    returning=[\"node_id\"])"
   ]
  },
  {
   "cell_type": "code",
   "execution_count": null,
   "id": "dae690b0",
   "metadata": {},
   "outputs": [],
   "source": [
    "data_insert"
   ]
  },
  {
   "cell_type": "code",
   "execution_count": null,
   "id": "fcbb40dc",
   "metadata": {},
   "outputs": [],
   "source": []
  },
  {
   "cell_type": "code",
   "execution_count": null,
   "id": "f45d41dc",
   "metadata": {},
   "outputs": [],
   "source": [
    "len(columns)"
   ]
  },
  {
   "cell_type": "code",
   "execution_count": 104,
   "id": "0674c09d",
   "metadata": {},
   "outputs": [
    {
     "ename": "ForeignKeyViolation",
     "evalue": "insert or update on table \"my_documents_nodes\" violates foreign key constraint \"my_documents_nodes_document_id_fk\"\nDETAIL:  Key (document_id)=(ed5c8675-eed5-4fec-a7d8-9bd831e6fc82) is not present in table \"my_documents_documents\".",
     "output_type": "error",
     "traceback": [
      "\u001b[0;31m---------------------------------------------------------------------------\u001b[0m",
      "\u001b[0;31mForeignKeyViolation\u001b[0m                       Traceback (most recent call last)",
      "Cell \u001b[0;32mIn[104], line 1\u001b[0m\n\u001b[0;32m----> 1\u001b[0m \u001b[43mdatabase_client\u001b[49m\u001b[38;5;241;43m.\u001b[39;49m\u001b[43madd_foreign_key_to_table\u001b[49m\u001b[43m(\u001b[49m\u001b[43mtable_name\u001b[49m\u001b[38;5;241;43m=\u001b[39;49m\u001b[38;5;124;43m\"\u001b[39;49m\u001b[38;5;124;43mnodes\u001b[39;49m\u001b[38;5;124;43m\"\u001b[39;49m\u001b[43m,\u001b[49m\n\u001b[1;32m      2\u001b[0m \u001b[43m                                         \u001b[49m\u001b[43mcolumn_name\u001b[49m\u001b[38;5;241;43m=\u001b[39;49m\u001b[38;5;124;43m\"\u001b[39;49m\u001b[38;5;124;43mdocument_id\u001b[39;49m\u001b[38;5;124;43m\"\u001b[39;49m\u001b[43m,\u001b[49m\n\u001b[1;32m      3\u001b[0m \u001b[43m                                         \u001b[49m\u001b[43mforeign_table\u001b[49m\u001b[38;5;241;43m=\u001b[39;49m\u001b[38;5;124;43m\"\u001b[39;49m\u001b[38;5;124;43mdocuments\u001b[39;49m\u001b[38;5;124;43m\"\u001b[39;49m\u001b[43m,\u001b[49m\n\u001b[1;32m      4\u001b[0m \u001b[43m                                         \u001b[49m\u001b[43mforeign_column\u001b[49m\u001b[38;5;241;43m=\u001b[39;49m\u001b[38;5;124;43m\"\u001b[39;49m\u001b[38;5;124;43mdoc_id\u001b[39;49m\u001b[38;5;124;43m\"\u001b[39;49m\u001b[43m,\u001b[49m\n\u001b[1;32m      5\u001b[0m \u001b[43m                                         \u001b[49m\u001b[43mif_not_exists\u001b[49m\u001b[38;5;241;43m=\u001b[39;49m\u001b[38;5;28;43;01mFalse\u001b[39;49;00m\u001b[43m)\u001b[49m\n",
      "File \u001b[0;32m~/Projects/Personal/end-to-end-rag/src/rag/components/shared/databases/postgres.py:453\u001b[0m, in \u001b[0;36mPostgresVectorDBClient.add_foreign_key_to_table\u001b[0;34m(self, table_name, column_name, foreign_table, foreign_column, if_not_exists)\u001b[0m\n\u001b[1;32m    449\u001b[0m     query \u001b[38;5;241m=\u001b[39m sql\u001b[38;5;241m.\u001b[39mSQL(\n\u001b[1;32m    450\u001b[0m         \u001b[38;5;124m\"\u001b[39m\u001b[38;5;124mALTER TABLE IF NOT EXISTS \u001b[39m\u001b[38;5;132;01m{query}\u001b[39;00m\u001b[38;5;124m\"\u001b[39m)\u001b[38;5;241m.\u001b[39mformat(query\u001b[38;5;241m=\u001b[39mquery)\n\u001b[1;32m    452\u001b[0m \u001b[38;5;28;01mwith\u001b[39;00m \u001b[38;5;28mself\u001b[39m\u001b[38;5;241m.\u001b[39m_transaction() \u001b[38;5;28;01mas\u001b[39;00m cursor:\n\u001b[0;32m--> 453\u001b[0m     \u001b[43mcursor\u001b[49m\u001b[38;5;241;43m.\u001b[39;49m\u001b[43mexecute\u001b[49m\u001b[43m(\u001b[49m\u001b[43mquery\u001b[49m\u001b[43m)\u001b[49m\n",
      "File \u001b[0;32m~/Projects/Personal/end-to-end-rag/.venv/lib/python3.10/site-packages/psycopg/cursor.py:97\u001b[0m, in \u001b[0;36mCursor.execute\u001b[0;34m(self, query, params, prepare, binary)\u001b[0m\n\u001b[1;32m     93\u001b[0m         \u001b[38;5;28mself\u001b[39m\u001b[38;5;241m.\u001b[39m_conn\u001b[38;5;241m.\u001b[39mwait(\n\u001b[1;32m     94\u001b[0m             \u001b[38;5;28mself\u001b[39m\u001b[38;5;241m.\u001b[39m_execute_gen(query, params, prepare\u001b[38;5;241m=\u001b[39mprepare, binary\u001b[38;5;241m=\u001b[39mbinary)\n\u001b[1;32m     95\u001b[0m         )\n\u001b[1;32m     96\u001b[0m \u001b[38;5;28;01mexcept\u001b[39;00m e\u001b[38;5;241m.\u001b[39m_NO_TRACEBACK \u001b[38;5;28;01mas\u001b[39;00m ex:\n\u001b[0;32m---> 97\u001b[0m     \u001b[38;5;28;01mraise\u001b[39;00m ex\u001b[38;5;241m.\u001b[39mwith_traceback(\u001b[38;5;28;01mNone\u001b[39;00m)\n\u001b[1;32m     98\u001b[0m \u001b[38;5;28;01mreturn\u001b[39;00m \u001b[38;5;28mself\u001b[39m\n",
      "\u001b[0;31mForeignKeyViolation\u001b[0m: insert or update on table \"my_documents_nodes\" violates foreign key constraint \"my_documents_nodes_document_id_fk\"\nDETAIL:  Key (document_id)=(ed5c8675-eed5-4fec-a7d8-9bd831e6fc82) is not present in table \"my_documents_documents\"."
     ]
    }
   ],
   "source": [
    "database_client.add_foreign_key_to_table(table_name=\"nodes\",\n",
    "                                         column_name=\"document_id\",\n",
    "                                         foreign_table=\"documents\",\n",
    "                                         foreign_column=\"doc_id\",\n",
    "                                         if_not_exists=False)"
   ]
  },
  {
   "cell_type": "code",
   "execution_count": null,
   "id": "7bf42a26",
   "metadata": {},
   "outputs": [
    {
     "name": "stdout",
     "output_type": "stream",
     "text": [
      "the index query is:  CREATE INDEX IF NOT EXISTS \"my_documents_nodes_embedding_index\" ON \"my_documents_nodes\"  Using vchordrq (\"embedding\" vector_l2_ops)\n"
     ]
    }
   ],
   "source": [
    "database_client.create_index(\n",
    "    table_name=\"nodes\",\n",
    "    column_name=\"embedding\",\n",
    "    index_config=\"Using vchordrq\",\n",
    "    if_not_exists=True\n",
    ")"
   ]
  },
  {
   "cell_type": "code",
   "execution_count": 110,
   "id": "d63644c0",
   "metadata": {},
   "outputs": [],
   "source": [
    "with database_client._transaction() as cursor:\n",
    "    cursor.execute(\"delete from my_documents_documents\")\n",
    "    cursor.execute(\"delete from my_documents_nodes\")"
   ]
  },
  {
   "cell_type": "code",
   "execution_count": null,
   "id": "ae576e70",
   "metadata": {},
   "outputs": [],
   "source": []
  }
 ],
 "metadata": {
  "kernelspec": {
   "display_name": ".venv",
   "language": "python",
   "name": "python3"
  },
  "language_info": {
   "codemirror_mode": {
    "name": "ipython",
    "version": 3
   },
   "file_extension": ".py",
   "mimetype": "text/x-python",
   "name": "python",
   "nbconvert_exporter": "python",
   "pygments_lexer": "ipython3",
   "version": "3.10.4"
  }
 },
 "nbformat": 4,
 "nbformat_minor": 5
}
