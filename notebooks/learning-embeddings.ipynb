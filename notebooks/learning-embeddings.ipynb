{
 "cells": [
  {
   "cell_type": "markdown",
   "metadata": {},
   "source": [
    "In this notebook we will be learning sentences embedding from our pubmed dataset. After learning the embedding we will save those embedding for paragraphs in a Postgres database. We will later use that database to query our question to find relevant paragraphs related to the question."
   ]
  },
  {
   "cell_type": "code",
   "execution_count": 1,
   "metadata": {},
   "outputs": [
    {
     "name": "stderr",
     "output_type": "stream",
     "text": [
      "/Users/esp.py/Projects/Personal/end-to-end-rag/.venv/lib/python3.10/site-packages/tqdm/auto.py:21: TqdmWarning: IProgress not found. Please update jupyter and ipywidgets. See https://ipywidgets.readthedocs.io/en/stable/user_install.html\n",
      "  from .autonotebook import tqdm as notebook_tqdm\n"
     ]
    }
   ],
   "source": [
    "from datasets import load_dataset"
   ]
  },
  {
   "cell_type": "code",
   "execution_count": 2,
   "metadata": {},
   "outputs": [],
   "source": [
    "dataset_id = \"pubmed_qa\""
   ]
  },
  {
   "cell_type": "code",
   "execution_count": 3,
   "metadata": {},
   "outputs": [],
   "source": [
    "dataset = load_dataset(dataset_id,  \"pqa_unlabeled\")"
   ]
  },
  {
   "cell_type": "markdown",
   "metadata": {},
   "source": [
    "Let us check one split of the dataset"
   ]
  },
  {
   "cell_type": "markdown",
   "metadata": {},
   "source": [
    "fr"
   ]
  },
  {
   "cell_type": "code",
   "execution_count": 4,
   "metadata": {},
   "outputs": [
    {
     "name": "stdout",
     "output_type": "stream",
     "text": [
      "['An increased incidence of acute urinary retention has been reported after interstitial prostate radiation therapy when the anterior base of the prostate gland receives 100% of the prescription dose. The frequency of prostate cancer in this location as a function of the pre-treatment prostate specific antigen (PSA), biopsy Gleason score, and 1992 American Joint Commission on Cancer Staging (AJCC) was determined.', \"One hundred four men treated at the Brigham and Women's Hospital with radical prostatectomy for clinically localized prostate cancer between 1995-1996 comprised the study population. Prostatectomy specimens were whole mounted and the location of each tumor foci enumerated.\", 'Of 269 foci of prostate cancer found in 39 low-risk prostate cancer patients (PSA<10 ng/ml, biopsy Gleason score<or = 6, and 1992 AJCC clinical stage T1c,2a), a single focus (0.37%) was noted in the anterior base. Conversely, 20/355 (5.6%) and 18/251 (7.2%) tumor foci were noted in the anterior base in 43 patients with intermediate risk and 24 patients with high-risk disease, respectively.']\n"
     ]
    }
   ],
   "source": [
    "from random import randrange\n",
    "\n",
    "random_id = randrange(len(dataset[\"train\"]))\n",
    "print(dataset[\"train\"][random_id].get(\"context\").get(\"contexts\"))"
   ]
  },
  {
   "cell_type": "markdown",
   "metadata": {},
   "source": [
    "Once we have downloaded the dataset, let us iterate and get only the contexts subset which will load in our database."
   ]
  },
  {
   "cell_type": "code",
   "execution_count": 5,
   "metadata": {},
   "outputs": [],
   "source": [
    "dataset = dataset.flatten()"
   ]
  },
  {
   "cell_type": "code",
   "execution_count": 6,
   "metadata": {},
   "outputs": [
    {
     "data": {
      "text/plain": [
       "DatasetDict({\n",
       "    train: Dataset({\n",
       "        features: ['pubid', 'question', 'context.contexts', 'context.labels', 'context.meshes', 'long_answer'],\n",
       "        num_rows: 61249\n",
       "    })\n",
       "})"
      ]
     },
     "execution_count": 6,
     "metadata": {},
     "output_type": "execute_result"
    }
   ],
   "source": [
    "dataset"
   ]
  },
  {
   "cell_type": "code",
   "execution_count": 8,
   "metadata": {},
   "outputs": [],
   "source": [
    "pandas_dataset = dataset.get('train').to_pandas()"
   ]
  },
  {
   "cell_type": "code",
   "execution_count": 9,
   "metadata": {},
   "outputs": [
    {
     "data": {
      "text/plain": [
       "(61249, 6)"
      ]
     },
     "execution_count": 9,
     "metadata": {},
     "output_type": "execute_result"
    }
   ],
   "source": [
    "pandas_dataset.shape"
   ]
  },
  {
   "cell_type": "code",
   "execution_count": 10,
   "metadata": {},
   "outputs": [
    {
     "data": {
      "text/html": [
       "<div>\n",
       "<style scoped>\n",
       "    .dataframe tbody tr th:only-of-type {\n",
       "        vertical-align: middle;\n",
       "    }\n",
       "\n",
       "    .dataframe tbody tr th {\n",
       "        vertical-align: top;\n",
       "    }\n",
       "\n",
       "    .dataframe thead th {\n",
       "        text-align: right;\n",
       "    }\n",
       "</style>\n",
       "<table border=\"1\" class=\"dataframe\">\n",
       "  <thead>\n",
       "    <tr style=\"text-align: right;\">\n",
       "      <th></th>\n",
       "      <th>pubid</th>\n",
       "      <th>question</th>\n",
       "      <th>context.contexts</th>\n",
       "      <th>context.labels</th>\n",
       "      <th>context.meshes</th>\n",
       "      <th>long_answer</th>\n",
       "    </tr>\n",
       "  </thead>\n",
       "  <tbody>\n",
       "    <tr>\n",
       "      <th>0</th>\n",
       "      <td>14499029</td>\n",
       "      <td>Is naturopathy as effective as conventional th...</td>\n",
       "      <td>[Although the use of alternative medicine in t...</td>\n",
       "      <td>[BACKGROUND, OBJECTIVE, DESIGN, SETTING, PATIE...</td>\n",
       "      <td>[Anxiety, Cohort Studies, Confidence Intervals...</td>\n",
       "      <td>Naturopathy appears to be an effective alterna...</td>\n",
       "    </tr>\n",
       "    <tr>\n",
       "      <th>1</th>\n",
       "      <td>14499049</td>\n",
       "      <td>Can randomised trials rely on existing electro...</td>\n",
       "      <td>[To estimate the feasibility, utility and reso...</td>\n",
       "      <td>[OBJECTIVES, DATA SOURCES, REVIEW METHODS, RES...</td>\n",
       "      <td>[Arthroplasty, Replacement, Knee, Bias, Blood ...</td>\n",
       "      <td>Routine data have the potential to support hea...</td>\n",
       "    </tr>\n",
       "    <tr>\n",
       "      <th>2</th>\n",
       "      <td>14499672</td>\n",
       "      <td>Is laparoscopic radical prostatectomy better t...</td>\n",
       "      <td>[To compare morbidity in two groups of patient...</td>\n",
       "      <td>[OBJECTIVE, PATIENTS AND METHODS, RESULTS]</td>\n",
       "      <td>[Aged, Follow-Up Studies, Humans, Italy, Lapar...</td>\n",
       "      <td>The results of our non-randomized study show t...</td>\n",
       "    </tr>\n",
       "    <tr>\n",
       "      <th>3</th>\n",
       "      <td>14499773</td>\n",
       "      <td>Does bacterial gastroenteritis predispose peop...</td>\n",
       "      <td>[Irritable bowel syndrome (IBS) might develop ...</td>\n",
       "      <td>[OBJECTIVES, METHODS, RESULTS]</td>\n",
       "      <td>[Adolescent, Adult, Age Distribution, Aged, Ag...</td>\n",
       "      <td>Symptoms consistent with IBS and functional di...</td>\n",
       "    </tr>\n",
       "    <tr>\n",
       "      <th>4</th>\n",
       "      <td>14499777</td>\n",
       "      <td>Is early colonoscopy after admission for acute...</td>\n",
       "      <td>[Urgent colonoscopy has been proposed for the ...</td>\n",
       "      <td>[OBJECTIVES, METHODS, RESULTS]</td>\n",
       "      <td>[Acute Disease, Aged, Aged, 80 and over, Cohor...</td>\n",
       "      <td>No significant association is apparent between...</td>\n",
       "    </tr>\n",
       "  </tbody>\n",
       "</table>\n",
       "</div>"
      ],
      "text/plain": [
       "      pubid                                           question  \\\n",
       "0  14499029  Is naturopathy as effective as conventional th...   \n",
       "1  14499049  Can randomised trials rely on existing electro...   \n",
       "2  14499672  Is laparoscopic radical prostatectomy better t...   \n",
       "3  14499773  Does bacterial gastroenteritis predispose peop...   \n",
       "4  14499777  Is early colonoscopy after admission for acute...   \n",
       "\n",
       "                                    context.contexts  \\\n",
       "0  [Although the use of alternative medicine in t...   \n",
       "1  [To estimate the feasibility, utility and reso...   \n",
       "2  [To compare morbidity in two groups of patient...   \n",
       "3  [Irritable bowel syndrome (IBS) might develop ...   \n",
       "4  [Urgent colonoscopy has been proposed for the ...   \n",
       "\n",
       "                                      context.labels  \\\n",
       "0  [BACKGROUND, OBJECTIVE, DESIGN, SETTING, PATIE...   \n",
       "1  [OBJECTIVES, DATA SOURCES, REVIEW METHODS, RES...   \n",
       "2         [OBJECTIVE, PATIENTS AND METHODS, RESULTS]   \n",
       "3                     [OBJECTIVES, METHODS, RESULTS]   \n",
       "4                     [OBJECTIVES, METHODS, RESULTS]   \n",
       "\n",
       "                                      context.meshes  \\\n",
       "0  [Anxiety, Cohort Studies, Confidence Intervals...   \n",
       "1  [Arthroplasty, Replacement, Knee, Bias, Blood ...   \n",
       "2  [Aged, Follow-Up Studies, Humans, Italy, Lapar...   \n",
       "3  [Adolescent, Adult, Age Distribution, Aged, Ag...   \n",
       "4  [Acute Disease, Aged, Aged, 80 and over, Cohor...   \n",
       "\n",
       "                                         long_answer  \n",
       "0  Naturopathy appears to be an effective alterna...  \n",
       "1  Routine data have the potential to support hea...  \n",
       "2  The results of our non-randomized study show t...  \n",
       "3  Symptoms consistent with IBS and functional di...  \n",
       "4  No significant association is apparent between...  "
      ]
     },
     "execution_count": 10,
     "metadata": {},
     "output_type": "execute_result"
    }
   ],
   "source": [
    "pandas_dataset.head()"
   ]
  },
  {
   "cell_type": "code",
   "execution_count": 11,
   "metadata": {},
   "outputs": [
    {
     "data": {
      "text/html": [
       "<div>\n",
       "<style scoped>\n",
       "    .dataframe tbody tr th:only-of-type {\n",
       "        vertical-align: middle;\n",
       "    }\n",
       "\n",
       "    .dataframe tbody tr th {\n",
       "        vertical-align: top;\n",
       "    }\n",
       "\n",
       "    .dataframe thead th {\n",
       "        text-align: right;\n",
       "    }\n",
       "</style>\n",
       "<table border=\"1\" class=\"dataframe\">\n",
       "  <thead>\n",
       "    <tr style=\"text-align: right;\">\n",
       "      <th></th>\n",
       "      <th>context.contexts</th>\n",
       "    </tr>\n",
       "  </thead>\n",
       "  <tbody>\n",
       "    <tr>\n",
       "      <th>0</th>\n",
       "      <td>Although the use of alternative medicine in th...</td>\n",
       "    </tr>\n",
       "    <tr>\n",
       "      <th>0</th>\n",
       "      <td>To compare naturopathic therapy with conventio...</td>\n",
       "    </tr>\n",
       "    <tr>\n",
       "      <th>0</th>\n",
       "      <td>A retrospective cohort study, using abstracted...</td>\n",
       "    </tr>\n",
       "    <tr>\n",
       "      <th>0</th>\n",
       "      <td>One natural medicine and six conventional medi...</td>\n",
       "    </tr>\n",
       "    <tr>\n",
       "      <th>0</th>\n",
       "      <td>Women aged 40 years of age or more with a diag...</td>\n",
       "    </tr>\n",
       "    <tr>\n",
       "      <th>...</th>\n",
       "      <td>...</td>\n",
       "    </tr>\n",
       "    <tr>\n",
       "      <th>61247</th>\n",
       "      <td>To evaluate failures and to investigate the ne...</td>\n",
       "    </tr>\n",
       "    <tr>\n",
       "      <th>61247</th>\n",
       "      <td>In October 1992 a prospective study on primary...</td>\n",
       "    </tr>\n",
       "    <tr>\n",
       "      <th>61247</th>\n",
       "      <td>After a median follow-up time of 36 months in ...</td>\n",
       "    </tr>\n",
       "    <tr>\n",
       "      <th>61248</th>\n",
       "      <td>The aim of this study is the comparison betwee...</td>\n",
       "    </tr>\n",
       "    <tr>\n",
       "      <th>61248</th>\n",
       "      <td>Retrobulbar blockade has the only advantage of...</td>\n",
       "    </tr>\n",
       "  </tbody>\n",
       "</table>\n",
       "<p>203255 rows × 1 columns</p>\n",
       "</div>"
      ],
      "text/plain": [
       "                                        context.contexts\n",
       "0      Although the use of alternative medicine in th...\n",
       "0      To compare naturopathic therapy with conventio...\n",
       "0      A retrospective cohort study, using abstracted...\n",
       "0      One natural medicine and six conventional medi...\n",
       "0      Women aged 40 years of age or more with a diag...\n",
       "...                                                  ...\n",
       "61247  To evaluate failures and to investigate the ne...\n",
       "61247  In October 1992 a prospective study on primary...\n",
       "61247  After a median follow-up time of 36 months in ...\n",
       "61248  The aim of this study is the comparison betwee...\n",
       "61248  Retrobulbar blockade has the only advantage of...\n",
       "\n",
       "[203255 rows x 1 columns]"
      ]
     },
     "execution_count": 11,
     "metadata": {},
     "output_type": "execute_result"
    }
   ],
   "source": [
    "pandas_dataset['context.contexts'].explode().to_frame()"
   ]
  },
  {
   "cell_type": "code",
   "execution_count": 12,
   "metadata": {},
   "outputs": [],
   "source": [
    "all_contexts = pandas_dataset['context.contexts'].explode().to_frame().drop_duplicates()"
   ]
  },
  {
   "cell_type": "code",
   "execution_count": 13,
   "metadata": {},
   "outputs": [],
   "source": [
    "from datasets import Dataset, Features, DatasetInfo"
   ]
  },
  {
   "cell_type": "code",
   "execution_count": 14,
   "metadata": {},
   "outputs": [],
   "source": [
    "context_features = Features({\"context\": str})"
   ]
  },
  {
   "cell_type": "code",
   "execution_count": 15,
   "metadata": {},
   "outputs": [
    {
     "data": {
      "text/plain": [
       "datasets.arrow_dataset.Dataset"
      ]
     },
     "execution_count": 15,
     "metadata": {},
     "output_type": "execute_result"
    }
   ],
   "source": [
    "Dataset"
   ]
  },
  {
   "cell_type": "code",
   "execution_count": 16,
   "metadata": {},
   "outputs": [],
   "source": [
    "context_dataset = Dataset.from_pandas(all_contexts)"
   ]
  },
  {
   "cell_type": "code",
   "execution_count": 17,
   "metadata": {},
   "outputs": [
    {
     "data": {
      "text/plain": [
       "Dataset({\n",
       "    features: ['context.contexts', '__index_level_0__'],\n",
       "    num_rows: 201201\n",
       "})"
      ]
     },
     "execution_count": 17,
     "metadata": {},
     "output_type": "execute_result"
    }
   ],
   "source": [
    "context_dataset"
   ]
  },
  {
   "cell_type": "markdown",
   "metadata": {},
   "source": [
    "With the context as data dataset, we can now save them in the database by using encoding."
   ]
  },
  {
   "cell_type": "markdown",
   "metadata": {},
   "source": [
    "Once we have created our dataset, let us try to learn embedding of the first two sentences and check if the embedding model work."
   ]
  },
  {
   "cell_type": "markdown",
   "metadata": {},
   "source": [
    "### Testing the embedding model."
   ]
  },
  {
   "cell_type": "markdown",
   "metadata": {},
   "source": [
    "We will be using the sentence transformer model to learn the word embeddings of our text."
   ]
  },
  {
   "cell_type": "code",
   "execution_count": 18,
   "metadata": {},
   "outputs": [],
   "source": [
    "from sentence_transformers import SentenceTransformer"
   ]
  },
  {
   "cell_type": "code",
   "execution_count": 19,
   "metadata": {},
   "outputs": [
    {
     "name": "stderr",
     "output_type": "stream",
     "text": [
      "No sentence-transformers model found with name /Users/esp.py/.cache/torch/sentence_transformers/michiyasunaga_BioLinkBERT-large. Creating a new one with MEAN pooling.\n"
     ]
    },
    {
     "name": "stdout",
     "output_type": "stream",
     "text": [
      "Max Sequence Length: 512\n"
     ]
    }
   ],
   "source": [
    "embedding_model_name = 'michiyasunaga/BioLinkBERT-large'\n",
    "\n",
    "# Load the BERT model\n",
    "model = SentenceTransformer(embedding_model_name)\n",
    "\n",
    "# Display the max_sequence_length of the model\n",
    "max_sequence_length = model.max_seq_length\n",
    "print(\"Max Sequence Length:\", max_sequence_length)"
   ]
  },
  {
   "cell_type": "markdown",
   "metadata": {},
   "source": [
    "Since our model have a max_sequence_length of 512, we need to split the context into chunks of 512 tokens."
   ]
  },
  {
   "cell_type": "code",
   "execution_count": 20,
   "metadata": {},
   "outputs": [
    {
     "data": {
      "text/html": [
       "<div>\n",
       "<style scoped>\n",
       "    .dataframe tbody tr th:only-of-type {\n",
       "        vertical-align: middle;\n",
       "    }\n",
       "\n",
       "    .dataframe tbody tr th {\n",
       "        vertical-align: top;\n",
       "    }\n",
       "\n",
       "    .dataframe thead th {\n",
       "        text-align: right;\n",
       "    }\n",
       "</style>\n",
       "<table border=\"1\" class=\"dataframe\">\n",
       "  <thead>\n",
       "    <tr style=\"text-align: right;\">\n",
       "      <th></th>\n",
       "      <th>context.contexts</th>\n",
       "      <th>sentence_length</th>\n",
       "    </tr>\n",
       "  </thead>\n",
       "  <tbody>\n",
       "    <tr>\n",
       "      <th>30233</th>\n",
       "      <td>From 1995-1999, local multidisciplinary child ...</td>\n",
       "      <td>4772</td>\n",
       "    </tr>\n",
       "    <tr>\n",
       "      <th>282</th>\n",
       "      <td>Thirty-two dogs underwent 1 hour of sustained ...</td>\n",
       "      <td>3207</td>\n",
       "    </tr>\n",
       "    <tr>\n",
       "      <th>30679</th>\n",
       "      <td>In vitro ischemia lasting 10 minutes produced ...</td>\n",
       "      <td>2668</td>\n",
       "    </tr>\n",
       "    <tr>\n",
       "      <th>6600</th>\n",
       "      <td>We studied 98 consecutive patients who were ad...</td>\n",
       "      <td>2668</td>\n",
       "    </tr>\n",
       "    <tr>\n",
       "      <th>18718</th>\n",
       "      <td>The patients' Acute Physiology and Chronic Hea...</td>\n",
       "      <td>2578</td>\n",
       "    </tr>\n",
       "    <tr>\n",
       "      <th>...</th>\n",
       "      <td>...</td>\n",
       "      <td>...</td>\n",
       "    </tr>\n",
       "    <tr>\n",
       "      <th>26964</th>\n",
       "      <td>8</td>\n",
       "      <td>1</td>\n",
       "    </tr>\n",
       "    <tr>\n",
       "      <th>34596</th>\n",
       "      <td>•</td>\n",
       "      <td>1</td>\n",
       "    </tr>\n",
       "    <tr>\n",
       "      <th>58536</th>\n",
       "      <td>♦</td>\n",
       "      <td>1</td>\n",
       "    </tr>\n",
       "    <tr>\n",
       "      <th>26964</th>\n",
       "      <td>7</td>\n",
       "      <td>1</td>\n",
       "    </tr>\n",
       "    <tr>\n",
       "      <th>865</th>\n",
       "      <td></td>\n",
       "      <td>0</td>\n",
       "    </tr>\n",
       "  </tbody>\n",
       "</table>\n",
       "<p>201201 rows × 2 columns</p>\n",
       "</div>"
      ],
      "text/plain": [
       "                                        context.contexts  sentence_length\n",
       "30233  From 1995-1999, local multidisciplinary child ...             4772\n",
       "282    Thirty-two dogs underwent 1 hour of sustained ...             3207\n",
       "30679  In vitro ischemia lasting 10 minutes produced ...             2668\n",
       "6600   We studied 98 consecutive patients who were ad...             2668\n",
       "18718  The patients' Acute Physiology and Chronic Hea...             2578\n",
       "...                                                  ...              ...\n",
       "26964                                                  8                1\n",
       "34596                                                  •                1\n",
       "58536                                                  ♦                1\n",
       "26964                                                  7                1\n",
       "865                                                                     0\n",
       "\n",
       "[201201 rows x 2 columns]"
      ]
     },
     "execution_count": 20,
     "metadata": {},
     "output_type": "execute_result"
    }
   ],
   "source": [
    "all_contexts [\"sentence_length\"] = all_contexts['context.contexts'].str.len()\n",
    "all_contexts.sort_values(by=\"sentence_length\", ascending=False)"
   ]
  },
  {
   "cell_type": "markdown",
   "metadata": {},
   "source": []
  },
  {
   "cell_type": "code",
   "execution_count": 24,
   "metadata": {},
   "outputs": [
    {
     "data": {
      "text/plain": [
       "(201201, 2)"
      ]
     },
     "execution_count": 24,
     "metadata": {},
     "output_type": "execute_result"
    }
   ],
   "source": [
    "context_dataset.shape"
   ]
  },
  {
   "cell_type": "code",
   "execution_count": 30,
   "metadata": {},
   "outputs": [
    {
     "name": "stderr",
     "output_type": "stream",
     "text": [
      "Batches:   0%|          | 1/1572 [01:34<41:04:00, 94.11s/it]"
     ]
    }
   ],
   "source": [
    "sentence_embeddings = model.encode(\n",
    "    context_dataset['context.contexts'], convert_to_tensor=True, show_progress_bar=True, batch_size=128)"
   ]
  },
  {
   "cell_type": "code",
   "execution_count": 28,
   "metadata": {},
   "outputs": [
    {
     "data": {
      "text/plain": [
       "torch.Size([5, 1024])"
      ]
     },
     "execution_count": 28,
     "metadata": {},
     "output_type": "execute_result"
    }
   ],
   "source": [
    "sentence_embeddings.shape"
   ]
  },
  {
   "cell_type": "markdown",
   "metadata": {},
   "source": [
    "This code need to be fun from a GPU, need to find a way to connect to collab gpu local.\n",
    "\n",
    "This will be a fun for another day."
   ]
  }
 ],
 "metadata": {
  "kernelspec": {
   "display_name": ".venv",
   "language": "python",
   "name": "python3"
  },
  "language_info": {
   "codemirror_mode": {
    "name": "ipython",
    "version": 3
   },
   "file_extension": ".py",
   "mimetype": "text/x-python",
   "name": "python",
   "nbconvert_exporter": "python",
   "pygments_lexer": "ipython3",
   "version": "3.10.4"
  }
 },
 "nbformat": 4,
 "nbformat_minor": 2
}
