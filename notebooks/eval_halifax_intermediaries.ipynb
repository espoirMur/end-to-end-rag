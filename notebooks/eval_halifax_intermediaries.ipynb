{
 "cells": [
  {
   "cell_type": "code",
   "execution_count": null,
   "id": "c6cd28a5",
   "metadata": {},
   "outputs": [],
   "source": [
    "from pathlib import Path"
   ]
  },
  {
   "cell_type": "code",
   "execution_count": null,
   "id": "e8ce99ba",
   "metadata": {},
   "outputs": [],
   "source": [
    "dataset = Path.cwd().joinpath(\"datasets/halifax_intermediaries\")"
   ]
  },
  {
   "cell_type": "code",
   "execution_count": null,
   "id": "ca582180",
   "metadata": {},
   "outputs": [],
   "source": [
    "import pandas as pd"
   ]
  },
  {
   "cell_type": "code",
   "execution_count": null,
   "id": "aa489b45",
   "metadata": {},
   "outputs": [],
   "source": [
    "test_question = pd.read_csv(dataset.joinpath(\"test_questions.csv\"), index_col=0)\n",
    "test_question.head(3)"
   ]
  },
  {
   "cell_type": "code",
   "execution_count": null,
   "id": "84b20d21",
   "metadata": {},
   "outputs": [],
   "source": [
    "chunks_df  = pd.read_csv(dataset.joinpath(\"data.csv\"), index_col=0)\n",
    "chunks_df.head(3)"
   ]
  },
  {
   "cell_type": "code",
   "execution_count": null,
   "id": "b2112d45",
   "metadata": {},
   "outputs": [],
   "source": [
    "first_embedding_model = \"sentence-transformers/all-MiniLM-L6-v2\""
   ]
  },
  {
   "cell_type": "code",
   "execution_count": null,
   "id": "8c0f1742",
   "metadata": {},
   "outputs": [],
   "source": [
    "from sentence_transformers import SentenceTransformer\n",
    "model = SentenceTransformer(first_embedding_model)"
   ]
  },
  {
   "cell_type": "code",
   "execution_count": null,
   "id": "f6a87ca5",
   "metadata": {},
   "outputs": [],
   "source": [
    "question_embeddings = model.encode(test_question[\"TCS Question\"].tolist(), show_progress_bar=True, convert_to_tensor=True)"
   ]
  },
  {
   "cell_type": "code",
   "execution_count": null,
   "id": "85ef6301",
   "metadata": {},
   "outputs": [],
   "source": [
    "chunks_embedding = model.encode(chunks_df[\"content\"].tolist(), show_progress_bar=True, convert_to_tensor=True)"
   ]
  },
  {
   "cell_type": "code",
   "execution_count": null,
   "id": "8df3c791",
   "metadata": {},
   "outputs": [],
   "source": [
    "# find the cosine similarity between question embeddings and chunks embeddings\n",
    "from sentence_transformers.util import cos_sim\n",
    "cosine_similarities = cos_sim(question_embeddings, chunks_embedding).to(\"cpu\").numpy()"
   ]
  },
  {
   "cell_type": "code",
   "execution_count": null,
   "id": "ca6b51c6",
   "metadata": {},
   "outputs": [],
   "source": [
    "import numpy as np"
   ]
  },
  {
   "cell_type": "code",
   "execution_count": null,
   "id": "8aaa88c3",
   "metadata": {},
   "outputs": [],
   "source": [
    "\"\"\"for question, indices, similarities in zip(test_question[\"TCS Question\"].tolist(), top_k_indices, top_k_similarities):\n",
    "    print(\"the question is\", question)\n",
    "    for chunk, similary in zip(chunks_df.content.values[indices], similarities):\n",
    "        print(f\"The chunk is => {chunk} the similarity is {similary}\")\n",
    "    print(10 * \" **\")\"\"\""
   ]
  },
  {
   "cell_type": "markdown",
   "id": "7a78dff5",
   "metadata": {},
   "source": [
    "Need to continue the exercise tommorow."
   ]
  },
  {
   "cell_type": "markdown",
   "id": "84ddcde3",
   "metadata": {},
   "source": []
  },
  {
   "cell_type": "markdown",
   "id": "4948e6ac",
   "metadata": {},
   "source": [
    "At this point, let me try two other approaches,a better embedding model and next the second level chunking. And evaluate the results."
   ]
  },
  {
   "cell_type": "code",
   "execution_count": null,
   "id": "e49845ac",
   "metadata": {},
   "outputs": [],
   "source": [
    "def analyse_embedding(chunks_embedding, question_embeddings, top_k):\n",
    "    \"\"\" \n",
    "    \n",
    "    \"\"\"\n",
    "    cosine_similarities = cos_sim(\n",
    "        question_embeddings, chunks_embedding).to(\"cpu\").numpy()\n",
    "    top_k_indices = np.argsort(cosine_similarities, axis=1)[:, -top_k:][:, ::-1]\n",
    "    top_k_similarities = np.take_along_axis(\n",
    "        cosine_similarities, top_k_indices, axis=1)\n",
    "    mean_cosine_similarity = top_k_similarities.mean(axis=1)\n",
    "    return top_k_indices, top_k_similarities, mean_cosine_similarity"
   ]
  },
  {
   "cell_type": "code",
   "execution_count": null,
   "id": "7ad6a014",
   "metadata": {},
   "outputs": [],
   "source": [
    "mean_cosine_similarity = analyse_embedding(chunks_embedding=chunks_embedding, question_embeddings=question_embeddings, top_k=5)"
   ]
  },
  {
   "cell_type": "code",
   "execution_count": null,
   "id": "c3b2fe3d",
   "metadata": {},
   "outputs": [],
   "source": [
    "mean_cosine_similarity.mean()"
   ]
  },
  {
   "cell_type": "code",
   "execution_count": null,
   "id": "2734fb56",
   "metadata": {},
   "outputs": [],
   "source": [
    "embedding_model_id = \"dunzhang/stella_en_400M_v5\"\n"
   ]
  },
  {
   "cell_type": "code",
   "execution_count": null,
   "id": "5872f945",
   "metadata": {},
   "outputs": [],
   "source": [
    "model_path = Path.cwd().joinpath(\"models\")"
   ]
  },
  {
   "cell_type": "code",
   "execution_count": null,
   "id": "78e51060",
   "metadata": {},
   "outputs": [],
   "source": [
    "stella_embedding_model = SentenceTransformer(model_path.joinpath(embedding_model_id).__str__(), trust_remote_code=True, config_kwargs={\"use_memory_efficient_attention\": False,\n",
    "                                        \"unpad_inputs\": False},)"
   ]
  },
  {
   "cell_type": "code",
   "execution_count": null,
   "id": "8719a87c",
   "metadata": {},
   "outputs": [],
   "source": [
    "questions = test_question[\"TCS Question\"].tolist()\n",
    "chunks = chunks_df[\"content\"].tolist()\n",
    "question_embeddings = stella_embedding_model.encode(questions, show_progress_bar=True, convert_to_tensor=True)\n",
    "chunks_embedding = stella_embedding_model.encode(\n",
    "    chunks, show_progress_bar=True, convert_to_tensor=True)\n",
    "top_k_indices, top_k_similarities, mean_cosine_similarity = analyse_embedding(\n",
    "    chunks_embedding=chunks_embedding, question_embeddings=question_embeddings, top_k=5)"
   ]
  },
  {
   "cell_type": "code",
   "execution_count": null,
   "id": "a62bdec7",
   "metadata": {},
   "outputs": [],
   "source": [
    "mean_cosine_similarity.mean()"
   ]
  },
  {
   "cell_type": "markdown",
   "id": "725b87c4",
   "metadata": {},
   "source": [
    "By changing the embedding there is 10 % improvement in the overall means cosine similarity for the top 5 K."
   ]
  },
  {
   "cell_type": "code",
   "execution_count": null,
   "id": "54d62d26",
   "metadata": {},
   "outputs": [],
   "source": [
    "# Assuming:\n",
    "# questions: list of question strings\n",
    "# chunks: list of chunk strings\n",
    "# top_k_indices: numpy array of shape (num_questions, 5)\n",
    "# top_k_similarities: numpy array of shape (num_questions, 5)\n",
    "\n",
    "rows = []\n",
    "for i, question in enumerate(questions):\n",
    "    for rank in range(5):\n",
    "        chunk_idx = top_k_indices[i, rank]\n",
    "        rows.append({\n",
    "            \"question\": question,\n",
    "            \"chunk_rank\": rank + 1,\n",
    "            \"chunk\": chunks[chunk_idx],\n",
    "            \"cosine_similarity\": top_k_similarities[i, rank]\n",
    "        })\n",
    "\n",
    "result_df = pd.DataFrame(rows)"
   ]
  },
  {
   "cell_type": "code",
   "execution_count": null,
   "id": "58bbd216",
   "metadata": {},
   "outputs": [],
   "source": [
    "result_df.to_csv(dataset.joinpath(\"halifax_intermediaries_results_stella_m3_embedding.csv\"), index=False)"
   ]
  },
  {
   "cell_type": "code",
   "execution_count": null,
   "id": "f8bab543",
   "metadata": {},
   "outputs": [],
   "source": [
    "result_df"
   ]
  },
  {
   "cell_type": "code",
   "execution_count": null,
   "id": "4d2d4972",
   "metadata": {},
   "outputs": [],
   "source": [
    "result_dict = result_df.groupby('question').apply(lambda x: list(zip(x['chunk'], x['cosine_similarity'])))"
   ]
  },
  {
   "cell_type": "code",
   "execution_count": null,
   "id": "f3e0f22e",
   "metadata": {},
   "outputs": [],
   "source": [
    "result_dict.to_clipboard()"
   ]
  },
  {
   "cell_type": "code",
   "execution_count": null,
   "id": "2a439db4",
   "metadata": {},
   "outputs": [],
   "source": []
  }
 ],
 "metadata": {
  "kernelspec": {
   "display_name": ".venv",
   "language": "python",
   "name": "python3"
  },
  "language_info": {
   "codemirror_mode": {
    "name": "ipython",
    "version": 3
   },
   "file_extension": ".py",
   "mimetype": "text/x-python",
   "name": "python",
   "nbconvert_exporter": "python",
   "pygments_lexer": "ipython3",
   "version": "3.10.4"
  }
 },
 "nbformat": 4,
 "nbformat_minor": 5
}
