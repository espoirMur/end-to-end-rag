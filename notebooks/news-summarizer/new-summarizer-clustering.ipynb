{
 "cells": [
  {
   "cell_type": "code",
   "execution_count": 1,
   "id": "d39e5f93-6606-489f-9464-87a28e83013a",
   "metadata": {},
   "outputs": [
    {
     "name": "stdout",
     "output_type": "stream",
     "text": [
      "/Users/esp.py/Projects/Personal/end-to-end-rag/.venv/bin/python\n"
     ]
    }
   ],
   "source": [
    "!which python"
   ]
  },
  {
   "cell_type": "markdown",
   "id": "4ad95e2c-cebb-4965-9062-4d7de97328a0",
   "metadata": {},
   "source": [
    "### News Summarizer"
   ]
  },
  {
   "cell_type": "markdown",
   "id": "34a827ba-aa76-4a85-8098-dcbe67ba6410",
   "metadata": {},
   "source": [
    "In this post I will try to implement a news summarizer. \n",
    "\n",
    "Over the past month I have been collecting a lot of news article from major congolese website news webisite. I have those article saved in a postgres database. There are lot of fun stuff I can do with them. Among them there is a news summarizer. I want to analyze the daily news and find out what are the main news the website are talking about."
   ]
  },
  {
   "cell_type": "markdown",
   "id": "c781d00f-afe4-4337-8c7a-c63e58a729c7",
   "metadata": {},
   "source": [
    "In this blog or series of post I will try to build that news summarizer. As of now I will structure it as follow. \n",
    "- Kmean clustering\n",
    "- Text Summarization with a Language Model\n",
    "- Deployment to Production and Building the UI"
   ]
  },
  {
   "cell_type": "markdown",
   "id": "63f24ba8-f0d8-4e7a-8abe-d453bd503fba",
   "metadata": {},
   "source": [
    "### Data Collection\n",
    "\n",
    "We have the data save as text in a postgres database in this section we will query the database and load the data in a pandas dataframe for better analyzis. I have the code to connect and read from the postgres database embedded in modules"
   ]
  },
  {
   "cell_type": "code",
   "execution_count": 2,
   "id": "d51c3fea-c548-4030-b857-7db9366e8caa",
   "metadata": {},
   "outputs": [],
   "source": [
    "%load_ext dotenv"
   ]
  },
  {
   "cell_type": "code",
   "execution_count": 3,
   "id": "b5a97c90-20f7-496b-be2e-b024cd270793",
   "metadata": {},
   "outputs": [],
   "source": [
    "%dotenv ./.env_prod -o"
   ]
  },
  {
   "cell_type": "markdown",
   "id": "b48bf007-62e8-4532-b4c4-31bbf16b81fa",
   "metadata": {},
   "source": [
    "The above line loads the database credentatials so that we can query the database."
   ]
  },
  {
   "cell_type": "code",
   "execution_count": 4,
   "id": "f92c6ef8-470e-42f1-ab8d-d0b987abf83f",
   "metadata": {},
   "outputs": [],
   "source": [
    "from src.rag.shared.database import execute_query, generate_database_connection"
   ]
  },
  {
   "cell_type": "code",
   "execution_count": 5,
   "id": "52db7bed-b387-4d77-95e0-de2ad43145d7",
   "metadata": {},
   "outputs": [],
   "source": [
    "yesterday_article_query = \"select content, title, posted_at,url from article where posted_at::date = CURRENT_DATE - interval '1 day'\""
   ]
  },
  {
   "cell_type": "code",
   "execution_count": 6,
   "id": "fa1db0ab-e09f-4902-a754-878071f2316f",
   "metadata": {},
   "outputs": [],
   "source": [
    "from os import getenv"
   ]
  },
  {
   "cell_type": "code",
   "execution_count": 7,
   "id": "684204f3-df24-49dc-b0df-3e315b416269",
   "metadata": {},
   "outputs": [],
   "source": [
    "database_user = getenv('POSTGRES_USER')\n",
    "database_password = getenv('POSTGRES_PASSWORD')\n",
    "database_host = getenv('POSTGRES_HOST')\n",
    "database_port = getenv('POSTGRES_PORT')\n",
    "database_name = getenv('POSTGRES_DB')"
   ]
  },
  {
   "cell_type": "code",
   "execution_count": 8,
   "id": "8ee77219-df10-4432-a131-9d2ee19e8509",
   "metadata": {},
   "outputs": [],
   "source": [
    "database_credentials = {\n",
    "    'user': database_user,\n",
    "    'password': database_password,\n",
    "    'host': database_host,\n",
    "    'port': database_port,\n",
    "    'database': database_name\n",
    "}"
   ]
  },
  {
   "cell_type": "code",
   "execution_count": 9,
   "id": "1c30c8ed-3e97-4f3c-9653-c696a18dfca6",
   "metadata": {},
   "outputs": [],
   "source": [
    "connection = generate_database_connection(database_crendentials=database_credentials)"
   ]
  },
  {
   "cell_type": "markdown",
   "id": "22e31740-d68a-45c6-9952-17dee6eb2278",
   "metadata": {},
   "source": [
    "With the credentials, the database connection, the query we can go ahead and query the database to retrieve the data."
   ]
  },
  {
   "cell_type": "code",
   "execution_count": 10,
   "id": "251cc08d-4b84-457e-80e6-899b0df0d7ca",
   "metadata": {},
   "outputs": [],
   "source": [
    "results =execute_query(query=yesterday_article_query, database_connection=connection)"
   ]
  },
  {
   "cell_type": "code",
   "execution_count": 11,
   "id": "3a169c42-0cdc-43b9-82a7-fe4dcd9c051e",
   "metadata": {},
   "outputs": [
    {
     "data": {
      "text/plain": [
       "'Confiscation du passeport de la veuve Michèle Samba Malata\\xa0: La DGM tue Chérubin Okende\\xa0pour la deuxième fois'"
      ]
     },
     "execution_count": 11,
     "metadata": {},
     "output_type": "execute_result"
    }
   ],
   "source": [
    "results[0].title"
   ]
  },
  {
   "cell_type": "markdown",
   "id": "a10b5fa4-a8c7-4f4c-93de-d753613d6387",
   "metadata": {},
   "source": [
    "We have our results in a list now we can put them in a dataframe from further analysis."
   ]
  },
  {
   "cell_type": "code",
   "execution_count": 12,
   "id": "88c4230a-79e2-4cf7-9a1d-a0f18b26991d",
   "metadata": {},
   "outputs": [],
   "source": [
    "import pandas as pd"
   ]
  },
  {
   "cell_type": "code",
   "execution_count": 13,
   "id": "5a144f2b-14fd-4878-ac2f-ee1a4420f16f",
   "metadata": {},
   "outputs": [],
   "source": [
    "news_df  = pd.DataFrame.from_records(results)"
   ]
  },
  {
   "cell_type": "code",
   "execution_count": 14,
   "id": "6e321c50-045f-4a62-9d11-2207288dc677",
   "metadata": {},
   "outputs": [
    {
     "data": {
      "text/html": [
       "<div>\n",
       "<style scoped>\n",
       "    .dataframe tbody tr th:only-of-type {\n",
       "        vertical-align: middle;\n",
       "    }\n",
       "\n",
       "    .dataframe tbody tr th {\n",
       "        vertical-align: top;\n",
       "    }\n",
       "\n",
       "    .dataframe thead th {\n",
       "        text-align: right;\n",
       "    }\n",
       "</style>\n",
       "<table border=\"1\" class=\"dataframe\">\n",
       "  <thead>\n",
       "    <tr style=\"text-align: right;\">\n",
       "      <th></th>\n",
       "      <th>0</th>\n",
       "      <th>1</th>\n",
       "      <th>2</th>\n",
       "      <th>3</th>\n",
       "    </tr>\n",
       "  </thead>\n",
       "  <tbody>\n",
       "    <tr>\n",
       "      <th>0</th>\n",
       "      <td>Curieusement, jusqu’à ce jour, son document d’...</td>\n",
       "      <td>Confiscation du passeport de la veuve Michèle ...</td>\n",
       "      <td>2024-10-17 08:50:55</td>\n",
       "      <td>https://scooprdc.net/2024/10/17/confiscation-d...</td>\n",
       "    </tr>\n",
       "    <tr>\n",
       "      <th>1</th>\n",
       "      <td>Tenez, en date du 11 septembre 2024, il dépose...</td>\n",
       "      <td>Secteur minier : Par faux et usage de faux, Vi...</td>\n",
       "      <td>2024-10-17 13:44:13</td>\n",
       "      <td>https://scooprdc.net/2024/10/17/secteur-minier...</td>\n",
       "    </tr>\n",
       "    <tr>\n",
       "      <th>2</th>\n",
       "      <td>En marge de la commémoration de la journée mon...</td>\n",
       "      <td>Journée mondiale de la normalisation : L’OCC p...</td>\n",
       "      <td>2024-10-17 07:45:56</td>\n",
       "      <td>https://scooprdc.net/2024/10/17/journee-mondia...</td>\n",
       "    </tr>\n",
       "    <tr>\n",
       "      <th>3</th>\n",
       "      <td>Juste après sa participation à la 75  session ...</td>\n",
       "      <td>7,3millions des déplacés dans l’Est de la RDC ...</td>\n",
       "      <td>2024-10-17 08:24:52</td>\n",
       "      <td>https://scooprdc.net/2024/10/17/73millions-des...</td>\n",
       "    </tr>\n",
       "    <tr>\n",
       "      <th>4</th>\n",
       "      <td>Alors que le débat sur une éventuelle révision...</td>\n",
       "      <td>Révision de la Constitution en RDC : Le Forum ...</td>\n",
       "      <td>2024-10-17 07:05:00</td>\n",
       "      <td>https://actualite.cd/index.php/2024/10/17/revi...</td>\n",
       "    </tr>\n",
       "  </tbody>\n",
       "</table>\n",
       "</div>"
      ],
      "text/plain": [
       "                                                   0  \\\n",
       "0  Curieusement, jusqu’à ce jour, son document d’...   \n",
       "1  Tenez, en date du 11 septembre 2024, il dépose...   \n",
       "2  En marge de la commémoration de la journée mon...   \n",
       "3  Juste après sa participation à la 75  session ...   \n",
       "4  Alors que le débat sur une éventuelle révision...   \n",
       "\n",
       "                                                   1                   2  \\\n",
       "0  Confiscation du passeport de la veuve Michèle ... 2024-10-17 08:50:55   \n",
       "1  Secteur minier : Par faux et usage de faux, Vi... 2024-10-17 13:44:13   \n",
       "2  Journée mondiale de la normalisation : L’OCC p... 2024-10-17 07:45:56   \n",
       "3  7,3millions des déplacés dans l’Est de la RDC ... 2024-10-17 08:24:52   \n",
       "4  Révision de la Constitution en RDC : Le Forum ... 2024-10-17 07:05:00   \n",
       "\n",
       "                                                   3  \n",
       "0  https://scooprdc.net/2024/10/17/confiscation-d...  \n",
       "1  https://scooprdc.net/2024/10/17/secteur-minier...  \n",
       "2  https://scooprdc.net/2024/10/17/journee-mondia...  \n",
       "3  https://scooprdc.net/2024/10/17/73millions-des...  \n",
       "4  https://actualite.cd/index.php/2024/10/17/revi...  "
      ]
     },
     "execution_count": 14,
     "metadata": {},
     "output_type": "execute_result"
    }
   ],
   "source": [
    "news_df.head()"
   ]
  },
  {
   "cell_type": "code",
   "execution_count": 15,
   "id": "88fb08e3-023c-4665-9f0c-e943692faaaf",
   "metadata": {},
   "outputs": [],
   "source": [
    "news_df.columns =  [\"content\", \"title\", \"posted_at\", \"url\"]"
   ]
  },
  {
   "cell_type": "code",
   "execution_count": 16,
   "id": "e11157fd-6a83-43db-a22f-3201f7135c64",
   "metadata": {},
   "outputs": [],
   "source": [
    "from pathlib import Path"
   ]
  },
  {
   "cell_type": "code",
   "execution_count": 17,
   "id": "4b8b691e-2573-4ad2-8777-7555112abfb8",
   "metadata": {},
   "outputs": [],
   "source": [
    "current_directory = Path.cwd().parent.parent"
   ]
  },
  {
   "cell_type": "code",
   "execution_count": 18,
   "id": "b8265b63-f037-4fd2-980d-a6c185a10d37",
   "metadata": {},
   "outputs": [],
   "source": [
    "news_directory = current_directory.joinpath(\"datasets\", \"today_news\")"
   ]
  },
  {
   "cell_type": "code",
   "execution_count": 19,
   "id": "ad23171b-1972-44d5-9515-cc49448d286b",
   "metadata": {},
   "outputs": [],
   "source": [
    "news_directory.mkdir(exist_ok=True)"
   ]
  },
  {
   "cell_type": "code",
   "execution_count": 20,
   "id": "c736a278-2358-46d8-8ea4-fbf5e25eb93e",
   "metadata": {},
   "outputs": [],
   "source": [
    "from datetime import datetime"
   ]
  },
  {
   "cell_type": "code",
   "execution_count": 21,
   "id": "8cf80033-65fe-4289-b196-d8a1028b8e7f",
   "metadata": {},
   "outputs": [],
   "source": [
    "today = datetime.now().strftime(\"%Y-%m-%d\")"
   ]
  },
  {
   "cell_type": "code",
   "execution_count": 22,
   "id": "981211a5-e921-47dd-b7ff-3f9c596d83d2",
   "metadata": {},
   "outputs": [],
   "source": [
    "news_df.to_csv(news_directory.joinpath(f\"{today}-news.csv\"))"
   ]
  },
  {
   "cell_type": "code",
   "execution_count": 23,
   "id": "41a1cc3a-d06a-4b57-85a1-2e251e25e396",
   "metadata": {},
   "outputs": [
    {
     "data": {
      "text/html": [
       "<div>\n",
       "<style scoped>\n",
       "    .dataframe tbody tr th:only-of-type {\n",
       "        vertical-align: middle;\n",
       "    }\n",
       "\n",
       "    .dataframe tbody tr th {\n",
       "        vertical-align: top;\n",
       "    }\n",
       "\n",
       "    .dataframe thead th {\n",
       "        text-align: right;\n",
       "    }\n",
       "</style>\n",
       "<table border=\"1\" class=\"dataframe\">\n",
       "  <thead>\n",
       "    <tr style=\"text-align: right;\">\n",
       "      <th></th>\n",
       "      <th>content</th>\n",
       "      <th>title</th>\n",
       "      <th>posted_at</th>\n",
       "      <th>url</th>\n",
       "    </tr>\n",
       "  </thead>\n",
       "  <tbody>\n",
       "    <tr>\n",
       "      <th>0</th>\n",
       "      <td>Curieusement, jusqu’à ce jour, son document d’...</td>\n",
       "      <td>Confiscation du passeport de la veuve Michèle ...</td>\n",
       "      <td>2024-10-17 08:50:55</td>\n",
       "      <td>https://scooprdc.net/2024/10/17/confiscation-d...</td>\n",
       "    </tr>\n",
       "    <tr>\n",
       "      <th>1</th>\n",
       "      <td>Tenez, en date du 11 septembre 2024, il dépose...</td>\n",
       "      <td>Secteur minier : Par faux et usage de faux, Vi...</td>\n",
       "      <td>2024-10-17 13:44:13</td>\n",
       "      <td>https://scooprdc.net/2024/10/17/secteur-minier...</td>\n",
       "    </tr>\n",
       "    <tr>\n",
       "      <th>2</th>\n",
       "      <td>En marge de la commémoration de la journée mon...</td>\n",
       "      <td>Journée mondiale de la normalisation : L’OCC p...</td>\n",
       "      <td>2024-10-17 07:45:56</td>\n",
       "      <td>https://scooprdc.net/2024/10/17/journee-mondia...</td>\n",
       "    </tr>\n",
       "    <tr>\n",
       "      <th>3</th>\n",
       "      <td>Juste après sa participation à la 75  session ...</td>\n",
       "      <td>7,3millions des déplacés dans l’Est de la RDC ...</td>\n",
       "      <td>2024-10-17 08:24:52</td>\n",
       "      <td>https://scooprdc.net/2024/10/17/73millions-des...</td>\n",
       "    </tr>\n",
       "    <tr>\n",
       "      <th>4</th>\n",
       "      <td>Alors que le débat sur une éventuelle révision...</td>\n",
       "      <td>Révision de la Constitution en RDC : Le Forum ...</td>\n",
       "      <td>2024-10-17 07:05:00</td>\n",
       "      <td>https://actualite.cd/index.php/2024/10/17/revi...</td>\n",
       "    </tr>\n",
       "  </tbody>\n",
       "</table>\n",
       "</div>"
      ],
      "text/plain": [
       "                                             content  \\\n",
       "0  Curieusement, jusqu’à ce jour, son document d’...   \n",
       "1  Tenez, en date du 11 septembre 2024, il dépose...   \n",
       "2  En marge de la commémoration de la journée mon...   \n",
       "3  Juste après sa participation à la 75  session ...   \n",
       "4  Alors que le débat sur une éventuelle révision...   \n",
       "\n",
       "                                               title           posted_at  \\\n",
       "0  Confiscation du passeport de la veuve Michèle ... 2024-10-17 08:50:55   \n",
       "1  Secteur minier : Par faux et usage de faux, Vi... 2024-10-17 13:44:13   \n",
       "2  Journée mondiale de la normalisation : L’OCC p... 2024-10-17 07:45:56   \n",
       "3  7,3millions des déplacés dans l’Est de la RDC ... 2024-10-17 08:24:52   \n",
       "4  Révision de la Constitution en RDC : Le Forum ... 2024-10-17 07:05:00   \n",
       "\n",
       "                                                 url  \n",
       "0  https://scooprdc.net/2024/10/17/confiscation-d...  \n",
       "1  https://scooprdc.net/2024/10/17/secteur-minier...  \n",
       "2  https://scooprdc.net/2024/10/17/journee-mondia...  \n",
       "3  https://scooprdc.net/2024/10/17/73millions-des...  \n",
       "4  https://actualite.cd/index.php/2024/10/17/revi...  "
      ]
     },
     "execution_count": 23,
     "metadata": {},
     "output_type": "execute_result"
    }
   ],
   "source": [
    "news_df.head()"
   ]
  },
  {
   "cell_type": "markdown",
   "id": "e4428962-3e2d-4011-b9d6-58b8467519e6",
   "metadata": {},
   "source": [
    "We have got our news dataset, we need to now do some preprocessing. The only preprocessing we will do will be to drop the duplicate in the content."
   ]
  },
  {
   "cell_type": "code",
   "execution_count": 24,
   "id": "c5088e74-ec03-49dc-a51e-99ea9c8a09f6",
   "metadata": {},
   "outputs": [],
   "source": [
    "news_df = news_df.drop_duplicates(subset=\"content\").reset_index(drop=True)"
   ]
  },
  {
   "cell_type": "code",
   "execution_count": 25,
   "id": "be3af6dc-1f5d-400d-8854-67b66926804b",
   "metadata": {},
   "outputs": [
    {
     "data": {
      "text/html": [
       "<div>\n",
       "<style scoped>\n",
       "    .dataframe tbody tr th:only-of-type {\n",
       "        vertical-align: middle;\n",
       "    }\n",
       "\n",
       "    .dataframe tbody tr th {\n",
       "        vertical-align: top;\n",
       "    }\n",
       "\n",
       "    .dataframe thead th {\n",
       "        text-align: right;\n",
       "    }\n",
       "</style>\n",
       "<table border=\"1\" class=\"dataframe\">\n",
       "  <thead>\n",
       "    <tr style=\"text-align: right;\">\n",
       "      <th></th>\n",
       "      <th>content</th>\n",
       "      <th>title</th>\n",
       "      <th>posted_at</th>\n",
       "      <th>url</th>\n",
       "    </tr>\n",
       "  </thead>\n",
       "  <tbody>\n",
       "    <tr>\n",
       "      <th>0</th>\n",
       "      <td>Curieusement, jusqu’à ce jour, son document d’...</td>\n",
       "      <td>Confiscation du passeport de la veuve Michèle ...</td>\n",
       "      <td>2024-10-17 08:50:55</td>\n",
       "      <td>https://scooprdc.net/2024/10/17/confiscation-d...</td>\n",
       "    </tr>\n",
       "    <tr>\n",
       "      <th>1</th>\n",
       "      <td>Tenez, en date du 11 septembre 2024, il dépose...</td>\n",
       "      <td>Secteur minier : Par faux et usage de faux, Vi...</td>\n",
       "      <td>2024-10-17 13:44:13</td>\n",
       "      <td>https://scooprdc.net/2024/10/17/secteur-minier...</td>\n",
       "    </tr>\n",
       "    <tr>\n",
       "      <th>2</th>\n",
       "      <td>En marge de la commémoration de la journée mon...</td>\n",
       "      <td>Journée mondiale de la normalisation : L’OCC p...</td>\n",
       "      <td>2024-10-17 07:45:56</td>\n",
       "      <td>https://scooprdc.net/2024/10/17/journee-mondia...</td>\n",
       "    </tr>\n",
       "    <tr>\n",
       "      <th>3</th>\n",
       "      <td>Juste après sa participation à la 75  session ...</td>\n",
       "      <td>7,3millions des déplacés dans l’Est de la RDC ...</td>\n",
       "      <td>2024-10-17 08:24:52</td>\n",
       "      <td>https://scooprdc.net/2024/10/17/73millions-des...</td>\n",
       "    </tr>\n",
       "    <tr>\n",
       "      <th>4</th>\n",
       "      <td>Alors que le débat sur une éventuelle révision...</td>\n",
       "      <td>Révision de la Constitution en RDC : Le Forum ...</td>\n",
       "      <td>2024-10-17 07:05:00</td>\n",
       "      <td>https://actualite.cd/index.php/2024/10/17/revi...</td>\n",
       "    </tr>\n",
       "    <tr>\n",
       "      <th>...</th>\n",
       "      <td>...</td>\n",
       "      <td>...</td>\n",
       "      <td>...</td>\n",
       "      <td>...</td>\n",
       "    </tr>\n",
       "    <tr>\n",
       "      <th>68</th>\n",
       "      <td>Prenant la parole pour faire l’économie de ce ...</td>\n",
       "      <td>Assemblée nationale : Doudou Fwamba rassure le...</td>\n",
       "      <td>2024-10-17 10:32:24</td>\n",
       "      <td>https://actu30.cd/2024/10/assemblee-nationale-...</td>\n",
       "    </tr>\n",
       "    <tr>\n",
       "      <th>69</th>\n",
       "      <td>Au cœur des échanges, la problématique d’appro...</td>\n",
       "      <td>RDC – Approvisionnement en carburants : le Gro...</td>\n",
       "      <td>2024-10-17 13:11:00</td>\n",
       "      <td>https://actu30.cd/2024/10/rdc-approvisionnemen...</td>\n",
       "    </tr>\n",
       "    <tr>\n",
       "      <th>70</th>\n",
       "      <td>Ces engins constitués de plusieurs camions et ...</td>\n",
       "      <td>Kasaï – Central : Sesanga dote la population d...</td>\n",
       "      <td>2024-10-17 10:22:25</td>\n",
       "      <td>https://actu30.cd/2024/10/kasai-central-sesang...</td>\n",
       "    </tr>\n",
       "    <tr>\n",
       "      <th>71</th>\n",
       "      <td>Cette activité a lancé officiellement la campa...</td>\n",
       "      <td>Kinshasa : L’ONG Wife sensibilise les femmes à...</td>\n",
       "      <td>2024-10-17 07:11:58</td>\n",
       "      <td>https://actu30.cd/2024/10/kinshasa-long-wife-s...</td>\n",
       "    </tr>\n",
       "    <tr>\n",
       "      <th>72</th>\n",
       "      <td>C’est le général Sylvain Ekenge, commandant du...</td>\n",
       "      <td>FARDC : les militaires interdits d’entretenir ...</td>\n",
       "      <td>2024-10-17 13:44:53</td>\n",
       "      <td>https://actu30.cd/2024/10/fardc-les-militaires...</td>\n",
       "    </tr>\n",
       "  </tbody>\n",
       "</table>\n",
       "<p>73 rows × 4 columns</p>\n",
       "</div>"
      ],
      "text/plain": [
       "                                              content  \\\n",
       "0   Curieusement, jusqu’à ce jour, son document d’...   \n",
       "1   Tenez, en date du 11 septembre 2024, il dépose...   \n",
       "2   En marge de la commémoration de la journée mon...   \n",
       "3   Juste après sa participation à la 75  session ...   \n",
       "4   Alors que le débat sur une éventuelle révision...   \n",
       "..                                                ...   \n",
       "68  Prenant la parole pour faire l’économie de ce ...   \n",
       "69  Au cœur des échanges, la problématique d’appro...   \n",
       "70  Ces engins constitués de plusieurs camions et ...   \n",
       "71  Cette activité a lancé officiellement la campa...   \n",
       "72  C’est le général Sylvain Ekenge, commandant du...   \n",
       "\n",
       "                                                title           posted_at  \\\n",
       "0   Confiscation du passeport de la veuve Michèle ... 2024-10-17 08:50:55   \n",
       "1   Secteur minier : Par faux et usage de faux, Vi... 2024-10-17 13:44:13   \n",
       "2   Journée mondiale de la normalisation : L’OCC p... 2024-10-17 07:45:56   \n",
       "3   7,3millions des déplacés dans l’Est de la RDC ... 2024-10-17 08:24:52   \n",
       "4   Révision de la Constitution en RDC : Le Forum ... 2024-10-17 07:05:00   \n",
       "..                                                ...                 ...   \n",
       "68  Assemblée nationale : Doudou Fwamba rassure le... 2024-10-17 10:32:24   \n",
       "69  RDC – Approvisionnement en carburants : le Gro... 2024-10-17 13:11:00   \n",
       "70  Kasaï – Central : Sesanga dote la population d... 2024-10-17 10:22:25   \n",
       "71  Kinshasa : L’ONG Wife sensibilise les femmes à... 2024-10-17 07:11:58   \n",
       "72  FARDC : les militaires interdits d’entretenir ... 2024-10-17 13:44:53   \n",
       "\n",
       "                                                  url  \n",
       "0   https://scooprdc.net/2024/10/17/confiscation-d...  \n",
       "1   https://scooprdc.net/2024/10/17/secteur-minier...  \n",
       "2   https://scooprdc.net/2024/10/17/journee-mondia...  \n",
       "3   https://scooprdc.net/2024/10/17/73millions-des...  \n",
       "4   https://actualite.cd/index.php/2024/10/17/revi...  \n",
       "..                                                ...  \n",
       "68  https://actu30.cd/2024/10/assemblee-nationale-...  \n",
       "69  https://actu30.cd/2024/10/rdc-approvisionnemen...  \n",
       "70  https://actu30.cd/2024/10/kasai-central-sesang...  \n",
       "71  https://actu30.cd/2024/10/kinshasa-long-wife-s...  \n",
       "72  https://actu30.cd/2024/10/fardc-les-militaires...  \n",
       "\n",
       "[73 rows x 4 columns]"
      ]
     },
     "execution_count": 25,
     "metadata": {},
     "output_type": "execute_result"
    }
   ],
   "source": [
    "news_df"
   ]
  },
  {
   "cell_type": "markdown",
   "id": "fc9569e5-8b8d-478c-9eaf-2ea62b472d72",
   "metadata": {},
   "source": [
    "Once we have dataset, we will need to use an embedding  model to learn representation of our dataset in an embedding space.\n",
    "\n",
    "We will be using the `dunzhang/stella_en_400M_v5`, it is a good model from huggingface despite his size it has a good score on different tasks  in both French and English on the MTEB leaderboard."
   ]
  },
  {
   "cell_type": "code",
   "execution_count": 26,
   "id": "f5366596-166a-498b-83bc-3cddccd93d0e",
   "metadata": {},
   "outputs": [],
   "source": [
    "embedding_model_id = \"dunzhang/stella_en_400M_v5\""
   ]
  },
  {
   "cell_type": "code",
   "execution_count": 27,
   "id": "cd91f7fd-6ee4-4d8d-ae5c-4e0863470404",
   "metadata": {},
   "outputs": [
    {
     "data": {
      "text/plain": [
       "PosixPath('/Users/esp.py/Projects/Personal/end-to-end-rag')"
      ]
     },
     "execution_count": 27,
     "metadata": {},
     "output_type": "execute_result"
    }
   ],
   "source": [
    "current_directory"
   ]
  },
  {
   "cell_type": "code",
   "execution_count": 28,
   "id": "ddd3d4ae-23d3-41bf-a71f-56e8706a50e9",
   "metadata": {},
   "outputs": [],
   "source": [
    "model_path  = current_directory.joinpath(embedding_model_id)"
   ]
  },
  {
   "cell_type": "code",
   "execution_count": 29,
   "id": "d8de2515-33c6-4c57-bf56-d6dd9edaa06e",
   "metadata": {},
   "outputs": [],
   "source": [
    "embedding_model_path = current_directory.joinpath(\"models\", embedding_model_id)"
   ]
  },
  {
   "cell_type": "code",
   "execution_count": 30,
   "id": "ed17da72-e126-4149-8a33-54a204280d04",
   "metadata": {},
   "outputs": [],
   "source": [
    "\n",
    "transformer_kwargs = {\"model_name_or_path\": embedding_model_path.__str__(),\n",
    "                      \"trust_remote_code\": True,\n",
    "                      \"device\": \"cpu\",\n",
    "                      \"config_kwargs\": {\"use_memory_efficient_attention\": False,\n",
    "                                        \"unpad_inputs\": False},\n",
    "                      \"cache_folder\": model_path}"
   ]
  },
  {
   "cell_type": "code",
   "execution_count": 31,
   "id": "751f3124-8d8e-4317-8f8b-2c12e34bda5a",
   "metadata": {},
   "outputs": [
    {
     "name": "stderr",
     "output_type": "stream",
     "text": [
      "/Users/esp.py/Projects/Personal/end-to-end-rag/.venv/lib/python3.10/site-packages/sentence_transformers/cross_encoder/CrossEncoder.py:13: TqdmWarning: IProgress not found. Please update jupyter and ipywidgets. See https://ipywidgets.readthedocs.io/en/stable/user_install.html\n",
      "  from tqdm.autonotebook import tqdm, trange\n"
     ]
    }
   ],
   "source": [
    "from sentence_transformers import SentenceTransformer"
   ]
  },
  {
   "cell_type": "code",
   "execution_count": 32,
   "id": "ea05843a-b276-4573-98ed-b146c1886ad0",
   "metadata": {},
   "outputs": [
    {
     "name": "stderr",
     "output_type": "stream",
     "text": [
      "Some weights of the model checkpoint at /Users/esp.py/Projects/Personal/end-to-end-rag/models/dunzhang/stella_en_400M_v5 were not used when initializing NewModel: ['new.pooler.dense.bias', 'new.pooler.dense.weight']\n",
      "- This IS expected if you are initializing NewModel from the checkpoint of a model trained on another task or with another architecture (e.g. initializing a BertForSequenceClassification model from a BertForPreTraining model).\n",
      "- This IS NOT expected if you are initializing NewModel from the checkpoint of a model that you expect to be exactly identical (initializing a BertForSequenceClassification model from a BertForSequenceClassification model).\n"
     ]
    }
   ],
   "source": [
    "sentence_transformer_model = SentenceTransformer(\n",
    "    **transformer_kwargs)"
   ]
  },
  {
   "cell_type": "code",
   "execution_count": 33,
   "id": "45ac51a9-0c80-4896-bb73-622ced506b9b",
   "metadata": {},
   "outputs": [
    {
     "name": "stderr",
     "output_type": "stream",
     "text": [
      "/Users/esp.py/Projects/Personal/end-to-end-rag/.venv/lib/python3.10/site-packages/transformers/modeling_utils.py:1141: FutureWarning: The `device` argument is deprecated and will be removed in v5 of Transformers.\n",
      "  warnings.warn(\n"
     ]
    }
   ],
   "source": [
    "today_news_embeddings = sentence_transformer_model.encode(\n",
    "    news_df.content.tolist())"
   ]
  },
  {
   "cell_type": "code",
   "execution_count": 34,
   "id": "4804887e-cd95-4b08-a461-73243a132899",
   "metadata": {},
   "outputs": [
    {
     "data": {
      "text/plain": [
       "(73, 1024)"
      ]
     },
     "execution_count": 34,
     "metadata": {},
     "output_type": "execute_result"
    }
   ],
   "source": [
    "today_news_embeddings.shape"
   ]
  },
  {
   "cell_type": "markdown",
   "id": "c8b6afb4-991f-4088-ad41-da1e501deaf5",
   "metadata": {},
   "source": [
    "Now we have encoded our news in the embeddings, for each news we have an embedding vector of shape 1024. With those embedding we can now start clustering our news.\n",
    "\n"
   ]
  },
  {
   "cell_type": "markdown",
   "id": "043d6672-72ff-4bf2-a4ab-1198a47b8777",
   "metadata": {},
   "source": [
    "## Kmeans\n",
    "\n",
    "In this step, we will group our news embeddings in a cluster using the Kmean algorithm. The algorithm will try to group the news in clusters based on the similarity of their embedding vectors. After the clustering, we will have similar news grouped in similar clusters.\n",
    "\n",
    "### How do we pick the number of cluster?\n",
    "\n",
    "We will use the Shilouette score to get the best number of clusters.\n",
    "\n",
    ">The Silhouette Coefficient is a measure of how well samples are clustered with samples that are similar to themselves. Clustering models with a high Silhouette Coefficient are said to be dense, where samples in the same cluster are similar to each other, and well separated, where samples in different clusters are not very similar to each other.\n",
    "\n"
   ]
  },
  {
   "cell_type": "markdown",
   "id": "fe97ac23-3bb4-43fa-85b6-33afdd0eda20",
   "metadata": {},
   "source": [
    "Given the a point $x_i$, and a cluster label $c_i$ to compute the shilloute score:\n",
    "- we compute the mean distance of the $x_i$ to all the point in cluster $c_i$, we call it $a_i$\n",
    "\n",
    "  ${\\displaystyle a_i={\\frac {1}{|C_{I}|-1}}\\sum _{j\\in C_{I},i\\neq j}d(i,j)}$\n",
    "\n",
    "  Note that we divide by don't want to include the current point when we are trying to compute the distance.\n",
    "  \n",
    "- $b_i$ is the a measure to how the point $x_i$ in cluster $c_i$ is disimilar to all other clusters $c_j$ with $c_j != c_i$.\n",
    "\n",
    "For each other clusters different $c_i$ we compute the mean distance between $x_i$ and all the points in the cluster.  Then we take the cluster that has the mean distance as the closest cluster to $x_i$.\n",
    "\n",
    "We define $b_i$ as:\n",
    "\n",
    "${\\displaystyle b_i=\\min _{J\\neq I}{\\frac {1}{|C_{J}|}}\\sum _{j\\in C_{J}}d(i,j)}$\n"
   ]
  },
  {
   "cell_type": "markdown",
   "id": "996ee1a3-ebb1-496c-8e34-9f12adaa45f7",
   "metadata": {},
   "source": [
    "With those $a_i$, and $b_I$ we define the shiloute score of the point $x_i$ as $s_i$ to be\n",
    "\n",
    "${\\displaystyle s_i={\\frac {b_i-a_i}{\\max\\{a_i,b_i\\}}}}$"
   ]
  },
  {
   "cell_type": "markdown",
   "id": "94a92f48-4995-4b9d-b835-2349a981e83e",
   "metadata": {},
   "source": [
    "This value varies between -1, and 1. 1 means our clusters are dense, and -1 means the opposite."
   ]
  },
  {
   "cell_type": "markdown",
   "id": "8dd3b3fa-dad4-4a07-9407-1f2b13a69fd8",
   "metadata": {},
   "source": [
    "Let us write a python function that will perform the clustering and return the k that gives us the best cluster.\n"
   ]
  },
  {
   "cell_type": "code",
   "execution_count": 35,
   "id": "9ac7d2ae-5dc2-40e8-a1d2-94f9961f78b4",
   "metadata": {},
   "outputs": [],
   "source": [
    "from sklearn.cluster import KMeans\n",
    "from sklearn.metrics import silhouette_score"
   ]
  },
  {
   "cell_type": "code",
   "execution_count": 36,
   "id": "e9c83533-7b2d-43a8-8d08-3b0ee95bf6c2",
   "metadata": {},
   "outputs": [],
   "source": [
    "\n",
    "def find_best_estimator (X):\n",
    "    \"\"\" compute the k mean clustering, and return the best k that maximize the silhouette score\n",
    "    \"\"\"\n",
    "    k_mean_estimators = [\n",
    "        (f\"KMeans_{i}\", KMeans(n_clusters=i, random_state=42, max_iter=3000)) for i in range(3, X.shape[0])]\n",
    "    scores = []\n",
    "\n",
    "    best_estimator = None\n",
    "    best_metric = float(\"-inf\")\n",
    "    for estimator_name, estimator in k_mean_estimators :\n",
    "        estimator.fit(X)\n",
    "        labels = estimator.labels_\n",
    "        score = silhouette_score(\n",
    "            X, labels)\n",
    "        if score > best_metric :\n",
    "            best_metric = score\n",
    "            best_estimator = estimator\n",
    "        print(estimator_name, score)\n",
    "        scores.append(score)\n",
    "    return best_estimator, scores"
   ]
  },
  {
   "cell_type": "code",
   "execution_count": 37,
   "id": "5b9bd9c9-b3ef-40b6-a5c3-412fb4c62db1",
   "metadata": {},
   "outputs": [
    {
     "name": "stderr",
     "output_type": "stream",
     "text": [
      "huggingface/tokenizers: The current process just got forked, after parallelism has already been used. Disabling parallelism to avoid deadlocks...\n",
      "To disable this warning, you can either:\n",
      "\t- Avoid using `tokenizers` before the fork if possible\n",
      "\t- Explicitly set the environment variable TOKENIZERS_PARALLELISM=(true | false)\n"
     ]
    },
    {
     "name": "stdout",
     "output_type": "stream",
     "text": [
      "KMeans_3 0.024779674\n",
      "KMeans_4 0.05520056\n",
      "KMeans_5 0.045455392\n",
      "KMeans_6 0.04964463\n",
      "KMeans_7 0.056659978\n",
      "KMeans_8 0.05081347\n",
      "KMeans_9 0.056122217\n",
      "KMeans_10 0.06609015\n",
      "KMeans_11 0.067076065\n",
      "KMeans_12 0.06721259\n",
      "KMeans_13 0.07011214\n",
      "KMeans_14 0.07304835\n",
      "KMeans_15 0.07871313\n",
      "KMeans_16 0.07618594\n",
      "KMeans_17 0.07951676\n",
      "KMeans_18 0.073466286\n",
      "KMeans_19 0.08596306\n",
      "KMeans_20 0.08924498\n",
      "KMeans_21 0.0939352\n",
      "KMeans_22 0.098436944\n",
      "KMeans_23 0.09665926\n",
      "KMeans_24 0.09860402\n",
      "KMeans_25 0.09625143\n",
      "KMeans_26 0.09712995\n",
      "KMeans_27 0.098713264\n",
      "KMeans_28 0.10064369\n",
      "KMeans_29 0.09718924\n",
      "KMeans_30 0.10375373\n",
      "KMeans_31 0.108036704\n",
      "KMeans_32 0.108666494\n",
      "KMeans_33 0.103939615\n",
      "KMeans_34 0.104991764\n",
      "KMeans_35 0.10640185\n",
      "KMeans_36 0.10373604\n",
      "KMeans_37 0.10306646\n",
      "KMeans_38 0.09971704\n",
      "KMeans_39 0.09797076\n",
      "KMeans_40 0.09420552\n",
      "KMeans_41 0.096739165\n",
      "KMeans_42 0.09529492\n",
      "KMeans_43 0.0955067\n",
      "KMeans_44 0.096502885\n",
      "KMeans_45 0.10128164\n",
      "KMeans_46 0.10306235\n",
      "KMeans_47 0.10580888\n",
      "KMeans_48 0.10573358\n",
      "KMeans_49 0.10409078\n",
      "KMeans_50 0.10406198\n",
      "KMeans_51 0.10309866\n",
      "KMeans_52 0.097338095\n",
      "KMeans_53 0.09912547\n",
      "KMeans_54 0.0976146\n",
      "KMeans_55 0.08599555\n",
      "KMeans_56 0.08314829\n",
      "KMeans_57 0.08643946\n",
      "KMeans_58 0.08386274\n",
      "KMeans_59 0.08049475\n",
      "KMeans_60 0.08009796\n",
      "KMeans_61 0.081434906\n",
      "KMeans_62 0.07759365\n",
      "KMeans_63 0.072015226\n",
      "KMeans_64 0.06785017\n",
      "KMeans_65 0.062029213\n",
      "KMeans_66 0.052719127\n",
      "KMeans_67 0.047254488\n",
      "KMeans_68 0.0543708\n",
      "KMeans_69 0.044839825\n",
      "KMeans_70 0.03605061\n",
      "KMeans_71 0.024858521\n",
      "KMeans_72 0.0141329635\n"
     ]
    }
   ],
   "source": [
    "best_estimator, scores = find_best_estimator(today_news_embeddings)"
   ]
  },
  {
   "cell_type": "markdown",
   "id": "338375f2-d425-4d9d-a46d-d6a1f255fd3c",
   "metadata": {},
   "source": [
    "In the above function we compute the shiloutte score for values for k ranging from 2 to the max number of datapoints in our dataset.\n"
   ]
  },
  {
   "cell_type": "markdown",
   "id": "8a1cbc7d-79a8-4327-9e0a-cadaae1de65b",
   "metadata": {
    "collapsed": true,
    "jupyter": {
     "outputs_hidden": true
    }
   },
   "source": [
    "Let plot now the similarity shilouette score and see how it grow with the number of cluster selected."
   ]
  },
  {
   "cell_type": "code",
   "execution_count": 38,
   "id": "7e3e21df-cfe4-4996-96c8-a90275fd7da9",
   "metadata": {},
   "outputs": [],
   "source": [
    "import matplotlib.pyplot as plt"
   ]
  },
  {
   "cell_type": "code",
   "execution_count": 39,
   "id": "cb40dad8-fd90-43fd-b484-01597966e912",
   "metadata": {},
   "outputs": [
    {
     "data": {
      "text/plain": [
       "<Figure size 500x1000 with 0 Axes>"
      ]
     },
     "metadata": {},
     "output_type": "display_data"
    }
   ],
   "source": [
    "axes = plt.figure(figsize=(5, 10))"
   ]
  },
  {
   "cell_type": "code",
   "execution_count": 40,
   "id": "fd789e45-e0cb-4089-95a0-a37afc9f5954",
   "metadata": {},
   "outputs": [
    {
     "data": {
      "text/plain": [
       "<Figure size 500x1000 with 0 Axes>"
      ]
     },
     "metadata": {},
     "output_type": "display_data"
    }
   ],
   "source": [
    "axes = plt.figure(figsize=(5, 10))"
   ]
  },
  {
   "cell_type": "code",
   "execution_count": 41,
   "id": "589eeacc-f9d2-4867-8fcd-89c096912657",
   "metadata": {},
   "outputs": [
    {
     "data": {
      "text/plain": [
       "[<matplotlib.lines.Line2D at 0x2b9d51e10>]"
      ]
     },
     "execution_count": 41,
     "metadata": {},
     "output_type": "execute_result"
    },
    {
     "data": {
      "image/png": "[encoded data removed]",
      "text/plain": [
       "<Figure size 640x480 with 1 Axes>"
      ]
     },
     "metadata": {},
     "output_type": "display_data"
    }
   ],
   "source": [
    "fig, ax = plt.subplots()\n",
    "ax.plot(range(3, today_news_embeddings.shape[0]), scores)"
   ]
  },
  {
   "cell_type": "code",
   "execution_count": 42,
   "id": "1a496d41-a338-4d86-9825-0544fe901869",
   "metadata": {},
   "outputs": [
    {
     "data": {
      "text/html": [
       "<style>#sk-container-id-1 {\n",
       "  /* Definition of color scheme common for light and dark mode */\n",
       "  --sklearn-color-text: black;\n",
       "  --sklearn-color-line: gray;\n",
       "  /* Definition of color scheme for unfitted estimators */\n",
       "  --sklearn-color-unfitted-level-0: #fff5e6;\n",
       "  --sklearn-color-unfitted-level-1: #f6e4d2;\n",
       "  --sklearn-color-unfitted-level-2: #ffe0b3;\n",
       "  --sklearn-color-unfitted-level-3: chocolate;\n",
       "  /* Definition of color scheme for fitted estimators */\n",
       "  --sklearn-color-fitted-level-0: #f0f8ff;\n",
       "  --sklearn-color-fitted-level-1: #d4ebff;\n",
       "  --sklearn-color-fitted-level-2: #b3dbfd;\n",
       "  --sklearn-color-fitted-level-3: cornflowerblue;\n",
       "\n",
       "  /* Specific color for light theme */\n",
       "  --sklearn-color-text-on-default-background: var(--sg-text-color, var(--theme-code-foreground, var(--jp-content-font-color1, black)));\n",
       "  --sklearn-color-background: var(--sg-background-color, var(--theme-background, var(--jp-layout-color0, white)));\n",
       "  --sklearn-color-border-box: var(--sg-text-color, var(--theme-code-foreground, var(--jp-content-font-color1, black)));\n",
       "  --sklearn-color-icon: #696969;\n",
       "\n",
       "  @media (prefers-color-scheme: dark) {\n",
       "    /* Redefinition of color scheme for dark theme */\n",
       "    --sklearn-color-text-on-default-background: var(--sg-text-color, var(--theme-code-foreground, var(--jp-content-font-color1, white)));\n",
       "    --sklearn-color-background: var(--sg-background-color, var(--theme-background, var(--jp-layout-color0, #111)));\n",
       "    --sklearn-color-border-box: var(--sg-text-color, var(--theme-code-foreground, var(--jp-content-font-color1, white)));\n",
       "    --sklearn-color-icon: #878787;\n",
       "  }\n",
       "}\n",
       "\n",
       "#sk-container-id-1 {\n",
       "  color: var(--sklearn-color-text);\n",
       "}\n",
       "\n",
       "#sk-container-id-1 pre {\n",
       "  padding: 0;\n",
       "}\n",
       "\n",
       "#sk-container-id-1 input.sk-hidden--visually {\n",
       "  border: 0;\n",
       "  clip: rect(1px 1px 1px 1px);\n",
       "  clip: rect(1px, 1px, 1px, 1px);\n",
       "  height: 1px;\n",
       "  margin: -1px;\n",
       "  overflow: hidden;\n",
       "  padding: 0;\n",
       "  position: absolute;\n",
       "  width: 1px;\n",
       "}\n",
       "\n",
       "#sk-container-id-1 div.sk-dashed-wrapped {\n",
       "  border: 1px dashed var(--sklearn-color-line);\n",
       "  margin: 0 0.4em 0.5em 0.4em;\n",
       "  box-sizing: border-box;\n",
       "  padding-bottom: 0.4em;\n",
       "  background-color: var(--sklearn-color-background);\n",
       "}\n",
       "\n",
       "#sk-container-id-1 div.sk-container {\n",
       "  /* jupyter's `normalize.less` sets `[hidden] { display: none; }`\n",
       "     but bootstrap.min.css set `[hidden] { display: none !important; }`\n",
       "     so we also need the `!important` here to be able to override the\n",
       "     default hidden behavior on the sphinx rendered scikit-learn.org.\n",
       "     See: https://github.com/scikit-learn/scikit-learn/issues/21755 */\n",
       "  display: inline-block !important;\n",
       "  position: relative;\n",
       "}\n",
       "\n",
       "#sk-container-id-1 div.sk-text-repr-fallback {\n",
       "  display: none;\n",
       "}\n",
       "\n",
       "div.sk-parallel-item,\n",
       "div.sk-serial,\n",
       "div.sk-item {\n",
       "  /* draw centered vertical line to link estimators */\n",
       "  background-image: linear-gradient(var(--sklearn-color-text-on-default-background), var(--sklearn-color-text-on-default-background));\n",
       "  background-size: 2px 100%;\n",
       "  background-repeat: no-repeat;\n",
       "  background-position: center center;\n",
       "}\n",
       "\n",
       "/* Parallel-specific style estimator block */\n",
       "\n",
       "#sk-container-id-1 div.sk-parallel-item::after {\n",
       "  content: \"\";\n",
       "  width: 100%;\n",
       "  border-bottom: 2px solid var(--sklearn-color-text-on-default-background);\n",
       "  flex-grow: 1;\n",
       "}\n",
       "\n",
       "#sk-container-id-1 div.sk-parallel {\n",
       "  display: flex;\n",
       "  align-items: stretch;\n",
       "  justify-content: center;\n",
       "  background-color: var(--sklearn-color-background);\n",
       "  position: relative;\n",
       "}\n",
       "\n",
       "#sk-container-id-1 div.sk-parallel-item {\n",
       "  display: flex;\n",
       "  flex-direction: column;\n",
       "}\n",
       "\n",
       "#sk-container-id-1 div.sk-parallel-item:first-child::after {\n",
       "  align-self: flex-end;\n",
       "  width: 50%;\n",
       "}\n",
       "\n",
       "#sk-container-id-1 div.sk-parallel-item:last-child::after {\n",
       "  align-self: flex-start;\n",
       "  width: 50%;\n",
       "}\n",
       "\n",
       "#sk-container-id-1 div.sk-parallel-item:only-child::after {\n",
       "  width: 0;\n",
       "}\n",
       "\n",
       "/* Serial-specific style estimator block */\n",
       "\n",
       "#sk-container-id-1 div.sk-serial {\n",
       "  display: flex;\n",
       "  flex-direction: column;\n",
       "  align-items: center;\n",
       "  background-color: var(--sklearn-color-background);\n",
       "  padding-right: 1em;\n",
       "  padding-left: 1em;\n",
       "}\n",
       "\n",
       "\n",
       "/* Toggleable style: style used for estimator/Pipeline/ColumnTransformer box that is\n",
       "clickable and can be expanded/collapsed.\n",
       "- Pipeline and ColumnTransformer use this feature and define the default style\n",
       "- Estimators will overwrite some part of the style using the `sk-estimator` class\n",
       "*/\n",
       "\n",
       "/* Pipeline and ColumnTransformer style (default) */\n",
       "\n",
       "#sk-container-id-1 div.sk-toggleable {\n",
       "  /* Default theme specific background. It is overwritten whether we have a\n",
       "  specific estimator or a Pipeline/ColumnTransformer */\n",
       "  background-color: var(--sklearn-color-background);\n",
       "}\n",
       "\n",
       "/* Toggleable label */\n",
       "#sk-container-id-1 label.sk-toggleable__label {\n",
       "  cursor: pointer;\n",
       "  display: block;\n",
       "  width: 100%;\n",
       "  margin-bottom: 0;\n",
       "  padding: 0.5em;\n",
       "  box-sizing: border-box;\n",
       "  text-align: center;\n",
       "}\n",
       "\n",
       "#sk-container-id-1 label.sk-toggleable__label-arrow:before {\n",
       "  /* Arrow on the left of the label */\n",
       "  content: \"▸\";\n",
       "  float: left;\n",
       "  margin-right: 0.25em;\n",
       "  color: var(--sklearn-color-icon);\n",
       "}\n",
       "\n",
       "#sk-container-id-1 label.sk-toggleable__label-arrow:hover:before {\n",
       "  color: var(--sklearn-color-text);\n",
       "}\n",
       "\n",
       "/* Toggleable content - dropdown */\n",
       "\n",
       "#sk-container-id-1 div.sk-toggleable__content {\n",
       "  max-height: 0;\n",
       "  max-width: 0;\n",
       "  overflow: hidden;\n",
       "  text-align: left;\n",
       "  /* unfitted */\n",
       "  background-color: var(--sklearn-color-unfitted-level-0);\n",
       "}\n",
       "\n",
       "#sk-container-id-1 div.sk-toggleable__content.fitted {\n",
       "  /* fitted */\n",
       "  background-color: var(--sklearn-color-fitted-level-0);\n",
       "}\n",
       "\n",
       "#sk-container-id-1 div.sk-toggleable__content pre {\n",
       "  margin: 0.2em;\n",
       "  border-radius: 0.25em;\n",
       "  color: var(--sklearn-color-text);\n",
       "  /* unfitted */\n",
       "  background-color: var(--sklearn-color-unfitted-level-0);\n",
       "}\n",
       "\n",
       "#sk-container-id-1 div.sk-toggleable__content.fitted pre {\n",
       "  /* unfitted */\n",
       "  background-color: var(--sklearn-color-fitted-level-0);\n",
       "}\n",
       "\n",
       "#sk-container-id-1 input.sk-toggleable__control:checked~div.sk-toggleable__content {\n",
       "  /* Expand drop-down */\n",
       "  max-height: 200px;\n",
       "  max-width: 100%;\n",
       "  overflow: auto;\n",
       "}\n",
       "\n",
       "#sk-container-id-1 input.sk-toggleable__control:checked~label.sk-toggleable__label-arrow:before {\n",
       "  content: \"▾\";\n",
       "}\n",
       "\n",
       "/* Pipeline/ColumnTransformer-specific style */\n",
       "\n",
       "#sk-container-id-1 div.sk-label input.sk-toggleable__control:checked~label.sk-toggleable__label {\n",
       "  color: var(--sklearn-color-text);\n",
       "  background-color: var(--sklearn-color-unfitted-level-2);\n",
       "}\n",
       "\n",
       "#sk-container-id-1 div.sk-label.fitted input.sk-toggleable__control:checked~label.sk-toggleable__label {\n",
       "  background-color: var(--sklearn-color-fitted-level-2);\n",
       "}\n",
       "\n",
       "/* Estimator-specific style */\n",
       "\n",
       "/* Colorize estimator box */\n",
       "#sk-container-id-1 div.sk-estimator input.sk-toggleable__control:checked~label.sk-toggleable__label {\n",
       "  /* unfitted */\n",
       "  background-color: var(--sklearn-color-unfitted-level-2);\n",
       "}\n",
       "\n",
       "#sk-container-id-1 div.sk-estimator.fitted input.sk-toggleable__control:checked~label.sk-toggleable__label {\n",
       "  /* fitted */\n",
       "  background-color: var(--sklearn-color-fitted-level-2);\n",
       "}\n",
       "\n",
       "#sk-container-id-1 div.sk-label label.sk-toggleable__label,\n",
       "#sk-container-id-1 div.sk-label label {\n",
       "  /* The background is the default theme color */\n",
       "  color: var(--sklearn-color-text-on-default-background);\n",
       "}\n",
       "\n",
       "/* On hover, darken the color of the background */\n",
       "#sk-container-id-1 div.sk-label:hover label.sk-toggleable__label {\n",
       "  color: var(--sklearn-color-text);\n",
       "  background-color: var(--sklearn-color-unfitted-level-2);\n",
       "}\n",
       "\n",
       "/* Label box, darken color on hover, fitted */\n",
       "#sk-container-id-1 div.sk-label.fitted:hover label.sk-toggleable__label.fitted {\n",
       "  color: var(--sklearn-color-text);\n",
       "  background-color: var(--sklearn-color-fitted-level-2);\n",
       "}\n",
       "\n",
       "/* Estimator label */\n",
       "\n",
       "#sk-container-id-1 div.sk-label label {\n",
       "  font-family: monospace;\n",
       "  font-weight: bold;\n",
       "  display: inline-block;\n",
       "  line-height: 1.2em;\n",
       "}\n",
       "\n",
       "#sk-container-id-1 div.sk-label-container {\n",
       "  text-align: center;\n",
       "}\n",
       "\n",
       "/* Estimator-specific */\n",
       "#sk-container-id-1 div.sk-estimator {\n",
       "  font-family: monospace;\n",
       "  border: 1px dotted var(--sklearn-color-border-box);\n",
       "  border-radius: 0.25em;\n",
       "  box-sizing: border-box;\n",
       "  margin-bottom: 0.5em;\n",
       "  /* unfitted */\n",
       "  background-color: var(--sklearn-color-unfitted-level-0);\n",
       "}\n",
       "\n",
       "#sk-container-id-1 div.sk-estimator.fitted {\n",
       "  /* fitted */\n",
       "  background-color: var(--sklearn-color-fitted-level-0);\n",
       "}\n",
       "\n",
       "/* on hover */\n",
       "#sk-container-id-1 div.sk-estimator:hover {\n",
       "  /* unfitted */\n",
       "  background-color: var(--sklearn-color-unfitted-level-2);\n",
       "}\n",
       "\n",
       "#sk-container-id-1 div.sk-estimator.fitted:hover {\n",
       "  /* fitted */\n",
       "  background-color: var(--sklearn-color-fitted-level-2);\n",
       "}\n",
       "\n",
       "/* Specification for estimator info (e.g. \"i\" and \"?\") */\n",
       "\n",
       "/* Common style for \"i\" and \"?\" */\n",
       "\n",
       ".sk-estimator-doc-link,\n",
       "a:link.sk-estimator-doc-link,\n",
       "a:visited.sk-estimator-doc-link {\n",
       "  float: right;\n",
       "  font-size: smaller;\n",
       "  line-height: 1em;\n",
       "  font-family: monospace;\n",
       "  background-color: var(--sklearn-color-background);\n",
       "  border-radius: 1em;\n",
       "  height: 1em;\n",
       "  width: 1em;\n",
       "  text-decoration: none !important;\n",
       "  margin-left: 1ex;\n",
       "  /* unfitted */\n",
       "  border: var(--sklearn-color-unfitted-level-1) 1pt solid;\n",
       "  color: var(--sklearn-color-unfitted-level-1);\n",
       "}\n",
       "\n",
       ".sk-estimator-doc-link.fitted,\n",
       "a:link.sk-estimator-doc-link.fitted,\n",
       "a:visited.sk-estimator-doc-link.fitted {\n",
       "  /* fitted */\n",
       "  border: var(--sklearn-color-fitted-level-1) 1pt solid;\n",
       "  color: var(--sklearn-color-fitted-level-1);\n",
       "}\n",
       "\n",
       "/* On hover */\n",
       "div.sk-estimator:hover .sk-estimator-doc-link:hover,\n",
       ".sk-estimator-doc-link:hover,\n",
       "div.sk-label-container:hover .sk-estimator-doc-link:hover,\n",
       ".sk-estimator-doc-link:hover {\n",
       "  /* unfitted */\n",
       "  background-color: var(--sklearn-color-unfitted-level-3);\n",
       "  color: var(--sklearn-color-background);\n",
       "  text-decoration: none;\n",
       "}\n",
       "\n",
       "div.sk-estimator.fitted:hover .sk-estimator-doc-link.fitted:hover,\n",
       ".sk-estimator-doc-link.fitted:hover,\n",
       "div.sk-label-container:hover .sk-estimator-doc-link.fitted:hover,\n",
       ".sk-estimator-doc-link.fitted:hover {\n",
       "  /* fitted */\n",
       "  background-color: var(--sklearn-color-fitted-level-3);\n",
       "  color: var(--sklearn-color-background);\n",
       "  text-decoration: none;\n",
       "}\n",
       "\n",
       "/* Span, style for the box shown on hovering the info icon */\n",
       ".sk-estimator-doc-link span {\n",
       "  display: none;\n",
       "  z-index: 9999;\n",
       "  position: relative;\n",
       "  font-weight: normal;\n",
       "  right: .2ex;\n",
       "  padding: .5ex;\n",
       "  margin: .5ex;\n",
       "  width: min-content;\n",
       "  min-width: 20ex;\n",
       "  max-width: 50ex;\n",
       "  color: var(--sklearn-color-text);\n",
       "  box-shadow: 2pt 2pt 4pt #999;\n",
       "  /* unfitted */\n",
       "  background: var(--sklearn-color-unfitted-level-0);\n",
       "  border: .5pt solid var(--sklearn-color-unfitted-level-3);\n",
       "}\n",
       "\n",
       ".sk-estimator-doc-link.fitted span {\n",
       "  /* fitted */\n",
       "  background: var(--sklearn-color-fitted-level-0);\n",
       "  border: var(--sklearn-color-fitted-level-3);\n",
       "}\n",
       "\n",
       ".sk-estimator-doc-link:hover span {\n",
       "  display: block;\n",
       "}\n",
       "\n",
       "/* \"?\"-specific style due to the `<a>` HTML tag */\n",
       "\n",
       "#sk-container-id-1 a.estimator_doc_link {\n",
       "  float: right;\n",
       "  font-size: 1rem;\n",
       "  line-height: 1em;\n",
       "  font-family: monospace;\n",
       "  background-color: var(--sklearn-color-background);\n",
       "  border-radius: 1rem;\n",
       "  height: 1rem;\n",
       "  width: 1rem;\n",
       "  text-decoration: none;\n",
       "  /* unfitted */\n",
       "  color: var(--sklearn-color-unfitted-level-1);\n",
       "  border: var(--sklearn-color-unfitted-level-1) 1pt solid;\n",
       "}\n",
       "\n",
       "#sk-container-id-1 a.estimator_doc_link.fitted {\n",
       "  /* fitted */\n",
       "  border: var(--sklearn-color-fitted-level-1) 1pt solid;\n",
       "  color: var(--sklearn-color-fitted-level-1);\n",
       "}\n",
       "\n",
       "/* On hover */\n",
       "#sk-container-id-1 a.estimator_doc_link:hover {\n",
       "  /* unfitted */\n",
       "  background-color: var(--sklearn-color-unfitted-level-3);\n",
       "  color: var(--sklearn-color-background);\n",
       "  text-decoration: none;\n",
       "}\n",
       "\n",
       "#sk-container-id-1 a.estimator_doc_link.fitted:hover {\n",
       "  /* fitted */\n",
       "  background-color: var(--sklearn-color-fitted-level-3);\n",
       "}\n",
       "</style><div id=\"sk-container-id-1\" class=\"sk-top-container\"><div class=\"sk-text-repr-fallback\"><pre>KMeans(max_iter=3000, n_clusters=32, random_state=42)</pre><b>In a Jupyter environment, please rerun this cell to show the HTML representation or trust the notebook. <br />On GitHub, the HTML representation is unable to render, please try loading this page with nbviewer.org.</b></div><div class=\"sk-container\" hidden><div class=\"sk-item\"><div class=\"sk-estimator fitted sk-toggleable\"><input class=\"sk-toggleable__control sk-hidden--visually\" id=\"sk-estimator-id-1\" type=\"checkbox\" checked><label for=\"sk-estimator-id-1\" class=\"sk-toggleable__label fitted sk-toggleable__label-arrow fitted\">&nbsp;&nbsp;KMeans<a class=\"sk-estimator-doc-link fitted\" rel=\"noreferrer\" target=\"_blank\" href=\"https://scikit-learn.org/1.5/modules/generated/sklearn.cluster.KMeans.html\">?<span>Documentation for KMeans</span></a><span class=\"sk-estimator-doc-link fitted\">i<span>Fitted</span></span></label><div class=\"sk-toggleable__content fitted\"><pre>KMeans(max_iter=3000, n_clusters=32, random_state=42)</pre></div> </div></div></div></div>"
      ],
      "text/plain": [
       "KMeans(max_iter=3000, n_clusters=32, random_state=42)"
      ]
     },
     "execution_count": 42,
     "metadata": {},
     "output_type": "execute_result"
    }
   ],
   "source": [
    "best_estimator"
   ]
  },
  {
   "cell_type": "markdown",
   "id": "34857d0b-ef3e-4652-a81b-491ab2180986",
   "metadata": {},
   "source": [
    "We can see that the best estimator gave us the n cluster equal to 29"
   ]
  },
  {
   "cell_type": "code",
   "execution_count": 43,
   "id": "e64053a4-29f2-48ca-b8f1-9a9a59f1eaf3",
   "metadata": {},
   "outputs": [],
   "source": [
    "news_df[\"k_means_labels\"] = best_estimator.labels_"
   ]
  },
  {
   "cell_type": "markdown",
   "id": "699dcbd6-c591-411b-98b9-32659bafec96",
   "metadata": {},
   "source": [
    "Now let us analyze the clustering results."
   ]
  },
  {
   "cell_type": "code",
   "execution_count": 44,
   "id": "fcdf776c-dbdd-404f-bd76-34b624b7bef7",
   "metadata": {},
   "outputs": [],
   "source": [
    "def analyse_embeddings(dataframe, embeddings, index, label_column=\"labels\"):\n",
    "    \"\"\" take a matrix of embeddings and the labels.\n",
    "    for each label compute the cosine similarity of the document with that label.\n",
    "    \"\"\"\n",
    "    document_in_index = dataframe.query(f\"{label_column} == {index}\")\n",
    "    with pd.option_context('display.max_colwidth', None):\n",
    "        display(document_in_index.title)\n",
    "    document_index = document_in_index.index\n",
    "    vectors = embeddings[document_index]\n",
    "    return sentence_transformer_model.similarity(vectors,  vectors)"
   ]
  },
  {
   "cell_type": "code",
   "execution_count": 45,
   "id": "64f9f7a5-3a49-4524-8730-f7194c33c861",
   "metadata": {},
   "outputs": [
    {
     "data": {
      "text/plain": [
       "17                                                                                          Belgique : Judith Suminwa séjourne à Bruxelles pour le forum Rebranding Africa\n",
       "54    Participation de la RDC au 10ème Forum Rebranding Africa : la Première ministre Judith Suminwa en mission à Bruxelles pour représenter le Président Félix Tshisekedi\n",
       "Name: title, dtype: object"
      ]
     },
     "metadata": {},
     "output_type": "display_data"
    },
    {
     "data": {
      "text/plain": [
       "tensor([[1.0000, 0.9254],\n",
       "        [0.9254, 1.0000]])"
      ]
     },
     "execution_count": 45,
     "metadata": {},
     "output_type": "execute_result"
    }
   ],
   "source": [
    "analyse_embeddings(news_df, today_news_embeddings,29, label_column=\"k_means_labels\")"
   ]
  },
  {
   "cell_type": "markdown",
   "id": "da1e4314-381f-4814-9847-1b661ce0476a",
   "metadata": {},
   "source": [
    "After the first look at the results we can see that the results are good, we have around 29 news cluster, for 72 news.\n",
    "Some news cluster have only one article which make sense, and othe have up to 6 articles. In the later analyzis we will only keep news articles that have more than one documents."
   ]
  },
  {
   "cell_type": "markdown",
   "id": "b3c0a9f1-cc94-4d91-8fa2-273d2ec1c866",
   "metadata": {},
   "source": [
    "Can we do better than that? Let now try hiearchical clustering"
   ]
  },
  {
   "cell_type": "markdown",
   "id": "a6de87b1-afe2-4f67-b96b-6f018d38f7ca",
   "metadata": {},
   "source": [
    "## Hiearchical Clustering"
   ]
  },
  {
   "cell_type": "markdown",
   "id": "f000cb32-4a9b-442f-8c9e-9e44449a7c02",
   "metadata": {},
   "source": [
    "Hierarchical clustering is a clustering that uses an iterative approach to build the dendrogram.\n",
    "\n",
    "\n",
    "**How do we build a dendrogram?**\n",
    "\n",
    "Assuming we have `n` points that we would like to cluster, the algorithm starts with them and a similarity metric to use.\n",
    "In the first step, all the `n` points are grouped in a `n ` cluster, as each observation is treated as its cluster.\n",
    "Then, the next two similar clusters are fused into a cluster; at this point, we have `n-1` clusters.\n",
    "The algorithm will process iteratively  by fusing each cluster into each other until we have one cluster.  \n",
    "With one cluster we have our dendrogram complete.\n",
    "\n",
    "** How do we compute similarity between clusters?**\n",
    "\n",
    "We have the notion between similarity between two points, how do we compute the similartiy between a point and a cluster? or Between two clusters?\n",
    "The notion of similarity between two points can be extend to develop the notion of `linkage` which is how we evaluate the dissimiarity between two groups of observation or clusters.\n",
    "\n",
    "\n",
    "The linkage between two cluster is :\n",
    "\n",
    "Put the definition\n",
    "\n"
   ]
  },
  {
   "cell_type": "code",
   "execution_count": 46,
   "id": "e1e79d1c-b8e8-4674-b473-5351198aa30c",
   "metadata": {},
   "outputs": [],
   "source": [
    "from scipy.cluster.hierarchy import linkage\n",
    "from scipy.cluster.hierarchy import dendrogram"
   ]
  },
  {
   "cell_type": "code",
   "execution_count": 47,
   "id": "918a7622-a14c-4ce5-8b39-8e5a3597fbd5",
   "metadata": {
    "scrolled": true
   },
   "outputs": [
    {
     "data": {
      "image/png": "[encoded data removed]",
      "text/plain": [
       "<Figure size 2000x1000 with 1 Axes>"
      ]
     },
     "metadata": {},
     "output_type": "display_data"
    }
   ],
   "source": [
    "# Complete Linkage\n",
    "plt.figure(figsize = (20,10))\n",
    "mergings = linkage(today_news_embeddings,\n",
    "                   method='complete', metric='cosine')\n",
    "dendrogram(mergings)\n",
    "plt.show()"
   ]
  },
  {
   "cell_type": "markdown",
   "id": "34d1dfae-8398-4376-b6d6-dc0a6a74173f",
   "metadata": {},
   "source": [
    "The linkage method from scipy will make a hierachical clustering using the cosine similarity as the metrics for our embedding.\n",
    "On the above plot, the x axis represent the document which are group into cluster based on th colour, the y axis represent the distance cutt off use while computing the merging."
   ]
  },
  {
   "cell_type": "code",
   "execution_count": 48,
   "id": "0220ec26-a2ff-40e8-a32b-811340f664c9",
   "metadata": {},
   "outputs": [],
   "source": [
    "from scipy.cluster.hierarchy import fcluster\n",
    "import numpy as np"
   ]
  },
  {
   "cell_type": "markdown",
   "id": "53b36d48-9105-44f0-831a-424bbcce9b89",
   "metadata": {},
   "source": [
    "from the linkage matrix we can return the label using a metric cutt off."
   ]
  },
  {
   "cell_type": "markdown",
   "id": "b9ddfcf3-f1e7-473c-970e-bf5f177db94e",
   "metadata": {},
   "source": [
    "How do we select the best metric cut-offm to use for the clustering?\n",
    "We will use the Shilouette score and the do the same approach we used with the kmean. We will select the metric that gives us a high silhouette score"
   ]
  },
  {
   "cell_type": "code",
   "execution_count": 49,
   "id": "286e2aaa-ce59-43d2-9bc7-270e30ba42c0",
   "metadata": {},
   "outputs": [],
   "source": [
    "def select_best_distance(X, merging):\n",
    "    \"\"\" start with the document embedding x, and the hierachical clustering, find the k that maximize the shilouette score\"\"\"\n",
    "    max_shilouette = float(\"-inf\")\n",
    "    return_labels = np.zeros(X.shape[0])\n",
    "    scores = []\n",
    "    number_of_clusters = []\n",
    "    best_k = 0\n",
    "    for k in np.arange(0.2, 0.7, 0.01):\n",
    "        labels = fcluster(merging, k, criterion=\"distance\")\n",
    "        score = silhouette_score(\n",
    "            X, labels\n",
    "        )\n",
    "        scores.append(score)\n",
    "        n_clusters = np.unique(labels).shape[0]\n",
    "        number_of_clusters.append(n_clusters)\n",
    "        if score > max_shilouette:\n",
    "            max_shilouette = score\n",
    "            return_labels = labels\n",
    "            best_k = k\n",
    "    return scores, return_labels, number_of_clusters, best_k"
   ]
  },
  {
   "cell_type": "code",
   "execution_count": 50,
   "id": "e4f77885-f273-4908-8794-8782eabdc475",
   "metadata": {},
   "outputs": [],
   "source": [
    "scores, label_hierarchical, number_of_clusters, best_k =  select_best_distance(today_news_embeddings, mergings)"
   ]
  },
  {
   "cell_type": "code",
   "execution_count": 51,
   "id": "4db06ed2-7550-4517-bef2-4f93ae4b4c56",
   "metadata": {},
   "outputs": [
    {
     "data": {
      "text/plain": [
       "Text(0.5, 1.0, 'silhouette score vs distance metric')"
      ]
     },
     "execution_count": 51,
     "metadata": {},
     "output_type": "execute_result"
    },
    {
     "data": {
      "image/png": "[encoded data removed]",
      "text/plain": [
       "<Figure size 640x480 with 1 Axes>"
      ]
     },
     "metadata": {},
     "output_type": "display_data"
    }
   ],
   "source": [
    "fig, ax = plt.subplots()\n",
    "ax.plot(np.arange(0.2, 0.7, 0.01), scores)\n",
    "ax.set_xlabel(\"Distance metric\")\n",
    "ax.set_ylabel(\"silhouette score\")\n",
    "ax.set_title(\"silhouette score vs distance metric\")"
   ]
  },
  {
   "cell_type": "code",
   "execution_count": 52,
   "id": "ffb55eab-4e0e-4062-ab76-0e95c876542c",
   "metadata": {},
   "outputs": [
    {
     "data": {
      "text/plain": [
       "(39,)"
      ]
     },
     "execution_count": 52,
     "metadata": {},
     "output_type": "execute_result"
    }
   ],
   "source": [
    "np.unique(label_hierarchical).shape"
   ]
  },
  {
   "cell_type": "code",
   "execution_count": 53,
   "id": "96a74677-6270-4b2c-86ef-a89eeaaf10ff",
   "metadata": {},
   "outputs": [
    {
     "data": {
      "text/plain": [
       "0.12292803"
      ]
     },
     "execution_count": 53,
     "metadata": {},
     "output_type": "execute_result"
    }
   ],
   "source": [
    "max(scores)"
   ]
  },
  {
   "cell_type": "code",
   "execution_count": 54,
   "id": "b15f3a8c-1e73-4898-a37c-eecd5062f69e",
   "metadata": {},
   "outputs": [
    {
     "data": {
      "text/plain": [
       "0.36000000000000015"
      ]
     },
     "execution_count": 54,
     "metadata": {},
     "output_type": "execute_result"
    }
   ],
   "source": [
    "best_k"
   ]
  },
  {
   "cell_type": "code",
   "execution_count": 55,
   "id": "735bc649-85e1-4df2-ade7-6a54ab8d282f",
   "metadata": {},
   "outputs": [
    {
     "data": {
      "text/plain": [
       "Text(0.5, 1.0, 'distance vs number of clusters')"
      ]
     },
     "execution_count": 55,
     "metadata": {},
     "output_type": "execute_result"
    },
    {
     "data": {
      "image/png": "[encoded data removed]",
      "text/plain": [
       "<Figure size 640x480 with 1 Axes>"
      ]
     },
     "metadata": {},
     "output_type": "display_data"
    }
   ],
   "source": [
    "fig, ax = plt.subplots()\n",
    "ax.plot(np.arange(0.2, 0.7, 0.01), number_of_clusters)\n",
    "ax.set_xlabel(\"Distance metric\")\n",
    "ax.set_ylabel(\"silhouette score\")\n",
    "ax.set_title(\"distance vs number of clusters\")"
   ]
  },
  {
   "cell_type": "code",
   "execution_count": 56,
   "id": "dcb682fb-77dd-40b6-9e9d-6bb3f64afeac",
   "metadata": {},
   "outputs": [],
   "source": [
    "news_df[\"label_hierachical\"] = label_hierarchical"
   ]
  },
  {
   "cell_type": "code",
   "execution_count": 57,
   "id": "327419a3-4025-4102-a929-924b3ee120ad",
   "metadata": {},
   "outputs": [
    {
     "data": {
      "text/html": [
       "<div>\n",
       "<style scoped>\n",
       "    .dataframe tbody tr th:only-of-type {\n",
       "        vertical-align: middle;\n",
       "    }\n",
       "\n",
       "    .dataframe tbody tr th {\n",
       "        vertical-align: top;\n",
       "    }\n",
       "\n",
       "    .dataframe thead th {\n",
       "        text-align: right;\n",
       "    }\n",
       "</style>\n",
       "<table border=\"1\" class=\"dataframe\">\n",
       "  <thead>\n",
       "    <tr style=\"text-align: right;\">\n",
       "      <th></th>\n",
       "      <th>content</th>\n",
       "      <th>title</th>\n",
       "      <th>posted_at</th>\n",
       "      <th>url</th>\n",
       "      <th>k_means_labels</th>\n",
       "      <th>label_hierachical</th>\n",
       "    </tr>\n",
       "  </thead>\n",
       "  <tbody>\n",
       "  </tbody>\n",
       "</table>\n",
       "</div>"
      ],
      "text/plain": [
       "Empty DataFrame\n",
       "Columns: [content, title, posted_at, url, k_means_labels, label_hierachical]\n",
       "Index: []"
      ]
     },
     "execution_count": 57,
     "metadata": {},
     "output_type": "execute_result"
    }
   ],
   "source": [
    "news_df.query(f\"label_hierachical == 0\")"
   ]
  },
  {
   "cell_type": "code",
   "execution_count": 58,
   "id": "2f5cde67-7aef-433b-823e-506439300a3d",
   "metadata": {},
   "outputs": [
    {
     "data": {
      "text/plain": [
       "65    Avis d'appel d'offres national - sans pré-qualification : acquisition des matériels informatiques et de communication pour le FPI | Actualite.cd\n",
       "Name: title, dtype: object"
      ]
     },
     "metadata": {},
     "output_type": "display_data"
    },
    {
     "data": {
      "text/plain": [
       "tensor([[1.0000]])"
      ]
     },
     "execution_count": 58,
     "metadata": {},
     "output_type": "execute_result"
    }
   ],
   "source": [
    "analyse_embeddings(news_df, today_news_embeddings, 39, \"label_hierarchical\")"
   ]
  },
  {
   "cell_type": "markdown",
   "id": "8bb946ea-d769-4931-a061-d3aa2d5c27f7",
   "metadata": {},
   "source": [
    "Once i have got the best labeling, i can go ahead and select the most important cluster. \n",
    "\n",
    "This will be all the cluster with more than 1 document, the rest of the document will be considered as noise. Each cluster with one document will be considered as noise."
   ]
  },
  {
   "cell_type": "code",
   "execution_count": 59,
   "id": "b66c22c8-37a1-4a22-bb2b-06d08b7e576e",
   "metadata": {},
   "outputs": [],
   "source": [
    "cluster_counts = news_df.label_hierachical.value_counts()\n",
    "labels_with_more_than_one = cluster_counts[cluster_counts > 1].index"
   ]
  },
  {
   "cell_type": "code",
   "execution_count": 62,
   "id": "b4ff8db6-2aa8-41c9-a1f4-05c0ab031ee8",
   "metadata": {},
   "outputs": [],
   "source": [
    "important_news_df = news_df.loc[news_df.label_hierachical.isin(labels_with_more_than_one)]"
   ]
  },
  {
   "cell_type": "code",
   "execution_count": null,
   "id": "b0aba9fd-992a-46a2-9e33-61bacc2b8e7f",
   "metadata": {},
   "outputs": [],
   "source": [
    "important_news_df"
   ]
  },
  {
   "cell_type": "code",
   "execution_count": null,
   "id": "738db661-02d5-41fb-8969-3d8660db9664",
   "metadata": {},
   "outputs": [],
   "source": []
  }
 ],
 "metadata": {
  "kernelspec": {
   "display_name": "my virtualenviron",
   "language": "python",
   "name": ".venv"
  },
  "language_info": {
   "codemirror_mode": {
    "name": "ipython",
    "version": 3
   },
   "file_extension": ".py",
   "mimetype": "text/x-python",
   "name": "python",
   "nbconvert_exporter": "python",
   "pygments_lexer": "ipython3",
   "version": "3.10.4"
  }
 },
 "nbformat": 4,
 "nbformat_minor": 5
}
