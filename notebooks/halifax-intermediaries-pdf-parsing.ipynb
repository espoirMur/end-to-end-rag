{
 "cells": [
  {
   "cell_type": "code",
   "execution_count": null,
   "id": "7df9a6d5",
   "metadata": {},
   "outputs": [],
   "source": [
    "from pathlib import Path\n",
    "current_directory = Path.cwd()\n",
    "dataset_folder = current_directory.parent.joinpath(\"end-to-end-rag\", 'datasets', 'halifax_intermediaries')"
   ]
  },
  {
   "cell_type": "markdown",
   "id": "d7a9f2d0",
   "metadata": {},
   "source": []
  },
  {
   "cell_type": "code",
   "execution_count": null,
   "id": "7f9e92d8",
   "metadata": {},
   "outputs": [],
   "source": [
    "import pdfplumber"
   ]
  },
  {
   "cell_type": "code",
   "execution_count": null,
   "id": "bcb17731",
   "metadata": {},
   "outputs": [],
   "source": [
    "file_path = dataset_folder.joinpath(\"mortgage-guide.pdf\")"
   ]
  },
  {
   "cell_type": "code",
   "execution_count": null,
   "id": "feead444",
   "metadata": {},
   "outputs": [],
   "source": [
    "from openparse import DocumentParser"
   ]
  },
  {
   "cell_type": "code",
   "execution_count": null,
   "id": "57ba67dd",
   "metadata": {},
   "outputs": [],
   "source": []
  },
  {
   "cell_type": "code",
   "execution_count": null,
   "id": "ef5bd5e4",
   "metadata": {},
   "outputs": [],
   "source": [
    "document_parser = DocumentParser(table_args={\"parsing_algorithm\": \"pdfplumber\",})"
   ]
  },
  {
   "cell_type": "code",
   "execution_count": null,
   "id": "8efd3645",
   "metadata": {},
   "outputs": [],
   "source": [
    "import openparse"
   ]
  },
  {
   "cell_type": "code",
   "execution_count": null,
   "id": "915ce8fa",
   "metadata": {},
   "outputs": [],
   "source": [
    "pdf_doc = openparse.Pdf(file=file_path)"
   ]
  },
  {
   "cell_type": "code",
   "execution_count": null,
   "id": "561fbe06",
   "metadata": {},
   "outputs": [],
   "source": [
    "document = document_parser.parse(file_path, ocr=False, )"
   ]
  },
  {
   "cell_type": "markdown",
   "id": "554999dd",
   "metadata": {},
   "source": [
    "So I can use openparse with the default parser to detect the pages and then use py"
   ]
  },
  {
   "cell_type": "markdown",
   "id": "ea7fddaf",
   "metadata": {},
   "source": [
    "Dealing with the duplicates table nodes"
   ]
  },
  {
   "cell_type": "code",
   "execution_count": null,
   "id": "ad566b4f",
   "metadata": {},
   "outputs": [],
   "source": [
    "len(document.nodes)"
   ]
  },
  {
   "cell_type": "code",
   "execution_count": null,
   "id": "562388b1",
   "metadata": {},
   "outputs": [],
   "source": [
    "for node in document.nodes:\n",
    "    print(node.text)\n",
    "    print(\"-----\")\n",
    "    print(node.variant)"
   ]
  },
  {
   "cell_type": "markdown",
   "id": "5ae09c6f",
   "metadata": {},
   "source": [
    "Done with the text pdf processign on the page, need now to work out the code for the chunking."
   ]
  },
  {
   "cell_type": "code",
   "execution_count": null,
   "id": "f965b3fe",
   "metadata": {},
   "outputs": [],
   "source": []
  }
 ],
 "metadata": {
  "kernelspec": {
   "display_name": ".venv",
   "language": "python",
   "name": "python3"
  },
  "language_info": {
   "codemirror_mode": {
    "name": "ipython",
    "version": 3
   },
   "file_extension": ".py",
   "mimetype": "text/x-python",
   "name": "python",
   "nbconvert_exporter": "python",
   "pygments_lexer": "ipython3",
   "version": "3.10.4"
  }
 },
 "nbformat": 4,
 "nbformat_minor": 5
}
