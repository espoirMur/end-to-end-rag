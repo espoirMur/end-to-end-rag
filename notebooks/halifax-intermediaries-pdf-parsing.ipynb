{
 "cells": [
  {
   "cell_type": "code",
   "execution_count": null,
   "id": "7df9a6d5",
   "metadata": {},
   "outputs": [],
   "source": [
    "from pathlib import Path\n",
    "current_directory = Path.cwd()\n",
    "dataset_folder = current_directory.parent.joinpath(\"end-to-end-rag\", 'datasets', 'halifax_intermediaries')"
   ]
  },
  {
   "cell_type": "markdown",
   "id": "d7a9f2d0",
   "metadata": {},
   "source": []
  },
  {
   "cell_type": "code",
   "execution_count": null,
   "id": "bcb17731",
   "metadata": {},
   "outputs": [],
   "source": [
    "file_path = dataset_folder.joinpath(\"mortgage-guide.pdf\")"
   ]
  },
  {
   "cell_type": "code",
   "execution_count": null,
   "id": "feead444",
   "metadata": {},
   "outputs": [],
   "source": [
    "from openparse import DocumentParser"
   ]
  },
  {
   "cell_type": "code",
   "execution_count": null,
   "id": "ef5bd5e4",
   "metadata": {},
   "outputs": [],
   "source": [
    "document_parser = DocumentParser(table_args={\"parsing_algorithm\": \"pdfplumber\",})"
   ]
  },
  {
   "cell_type": "code",
   "execution_count": null,
   "id": "8efd3645",
   "metadata": {},
   "outputs": [],
   "source": [
    "import openparse"
   ]
  },
  {
   "cell_type": "code",
   "execution_count": null,
   "id": "915ce8fa",
   "metadata": {},
   "outputs": [],
   "source": [
    "pdf_doc = openparse.Pdf(file=file_path)"
   ]
  },
  {
   "cell_type": "code",
   "execution_count": null,
   "id": "561fbe06",
   "metadata": {},
   "outputs": [],
   "source": [
    "document = document_parser.parse(file_path, ocr=False, )"
   ]
  },
  {
   "cell_type": "markdown",
   "id": "554999dd",
   "metadata": {},
   "source": [
    "So I can use openparse with the default parser to detect the pages and then use py"
   ]
  },
  {
   "cell_type": "markdown",
   "id": "ea7fddaf",
   "metadata": {},
   "source": [
    "Dealing with the duplicates table nodes"
   ]
  },
  {
   "cell_type": "code",
   "execution_count": null,
   "id": "b0724511",
   "metadata": {},
   "outputs": [],
   "source": [
    "import re"
   ]
  },
  {
   "cell_type": "code",
   "execution_count": null,
   "id": "c16e3e2e",
   "metadata": {},
   "outputs": [],
   "source": [
    "def chunk_text(text: str) -> list[dict]:\n",
    "    \"\"\"\n",
    "    Chunks a given string into groups of paragraphs with a corresponding header.\n",
    "\n",
    "    The function assumes:\n",
    "    - Paragraphs are delimited by '<br><br>' or '.\\n'.\n",
    "    - Headers are text enclosed in '** **' at the beginning of a paragraph.\n",
    "    - Multiple paragraphs can belong to a single header.\n",
    "\n",
    "    Args:\n",
    "        text: The raw string content parsed from a PDF.\n",
    "\n",
    "    Returns:\n",
    "        A list of dictionaries, where each dictionary represents a chunk and\n",
    "        contains 'header' and 'content' keys. The 'content' key holds a list of\n",
    "        strings, with each string being a single paragraph.\n",
    "    \"\"\"\n",
    "    chunks = []\n",
    "    # Split the text by either '<br><br>' or '.\\n' using a regex\n",
    "    paragraphs = re.split(r'(?:<br><br>|\\.\\s*\\n)', text.strip())\n",
    "\n",
    "    current_header = \"\"\n",
    "    current_content = []\n",
    "\n",
    "    for p in paragraphs:\n",
    "        p_stripped = p.strip()\n",
    "\n",
    "        # Regex to capture the entire header block and the rest of the text\n",
    "        header_match = re.match(\n",
    "            r'^((\\*\\*(.*?)\\*\\*[\\s\\n]*)+)(.*)', p_stripped, re.DOTALL)\n",
    "\n",
    "        if header_match:\n",
    "            # If a new header is found, and we have content from a previous chunk,\n",
    "            # store the previous chunk and reset.\n",
    "            if current_content:\n",
    "                chunks.append({\n",
    "                    'header': current_header,\n",
    "                    'content': current_content\n",
    "                })\n",
    "\n",
    "            # Extract the entire header block\n",
    "            header_block = header_match.group(1).strip()\n",
    "            # Extract the content that follows the header block\n",
    "            content_part = header_match.group(4).strip()\n",
    "\n",
    "            # Find all individual headers within the block and join them\n",
    "            header_parts = re.findall(r'\\*\\*(.*?)\\*\\*', header_block)\n",
    "            current_header = \" \".join(header_parts)\n",
    "\n",
    "            current_content = [content_part] if content_part else []\n",
    "\n",
    "        else:\n",
    "            # If no header, this paragraph belongs to the current header\n",
    "            if p_stripped:  # Avoid appending empty strings\n",
    "                current_content.append(p_stripped)\n",
    "\n",
    "    # Add the last chunk after the loop finishes\n",
    "    if current_content:\n",
    "        chunks.append({\n",
    "            'header': current_header,\n",
    "            'content': current_content\n",
    "        })\n",
    "\n",
    "    return chunks"
   ]
  },
  {
   "cell_type": "code",
   "execution_count": null,
   "id": "189885a6",
   "metadata": {},
   "outputs": [],
   "source": [
    "def chunk_markdown_table(table_string):\n",
    "    \"\"\"\n",
    "    Chunks a markdown table string by row, handling empty header columns.\n",
    "\n",
    "    Args:\n",
    "        table_string: A string containing a markdown table.\n",
    "\n",
    "    Returns:\n",
    "        A list of strings, where each string represents a chunked row.\n",
    "    \"\"\"\n",
    "    lines = table_string.strip().split('|\\n|')\n",
    "    \n",
    "\n",
    "    # Extract headers from the first line, handling multiple spaces and empty columns\n",
    "    header_line = lines[0]\n",
    "    # Just remove the first which can be empty sometimes\n",
    "    headers = [h for h in header_line.split('|') if len(h) > 0]\n",
    "\n",
    "\n",
    "    data_rows = lines[2:] # remove the header and separator lines\n",
    "\n",
    "    chunked_rows = []\n",
    "    for row in data_rows:\n",
    "        # Split row by '|' and clean up empty strings\n",
    "        values = [v.strip() for v in row.split('|') if v.strip()]\n",
    "\n",
    "        if len(headers) == len(values):\n",
    "            chunk = '; '.join(\n",
    "                [f\"{headers[i]}: {values[i]}\" for i in range(len(headers))])\n",
    "            chunked_rows.append(chunk)\n",
    "\n",
    "    return chunked_rows"
   ]
  },
  {
   "cell_type": "code",
   "execution_count": null,
   "id": "73985a20",
   "metadata": {},
   "outputs": [],
   "source": [
    "sample_text = document.nodes[4]"
   ]
  },
  {
   "cell_type": "code",
   "execution_count": null,
   "id": "8061c537",
   "metadata": {},
   "outputs": [],
   "source": [
    "sample_text.text"
   ]
  },
  {
   "cell_type": "code",
   "execution_count": null,
   "id": "6f01ffe8",
   "metadata": {},
   "outputs": [],
   "source": [
    "chunks = chunk_text(sample_text.text)"
   ]
  },
  {
   "cell_type": "code",
   "execution_count": null,
   "id": "2b38aa29",
   "metadata": {},
   "outputs": [],
   "source": [
    "print(chunks[0].get(\"content\")[0].strip().split('\\n')[0])"
   ]
  },
  {
   "cell_type": "code",
   "execution_count": null,
   "id": "9fb93c08",
   "metadata": {},
   "outputs": [],
   "source": []
  },
  {
   "cell_type": "code",
   "execution_count": null,
   "id": "562388b1",
   "metadata": {},
   "outputs": [],
   "source": [
    "all_chunks = []\n",
    "for node in document.nodes:\n",
    "    chunks = chunk_text(node.text)\n",
    "    if node.variant in [{\"table\"}, {\"text\", \"table\"}]:\n",
    "        for chunk in chunks:\n",
    "            header = chunk['header']\n",
    "            for table in chunk.get(\"content\", \"\"):\n",
    "                table_chunks = chunk_markdown_table(table)\n",
    "                for table_chunk in table_chunks:\n",
    "                    all_chunks.append({\n",
    "                        'header': header,\n",
    "                        'content': table_chunk\n",
    "                    })\n",
    "    else:\n",
    "        all_chunks.extend(chunks)"
   ]
  },
  {
   "cell_type": "markdown",
   "id": "5ae09c6f",
   "metadata": {},
   "source": [
    "Done with the text pdf processign on the page, need now to work out the code for the chunking."
   ]
  },
  {
   "cell_type": "code",
   "execution_count": null,
   "id": "f965b3fe",
   "metadata": {},
   "outputs": [],
   "source": [
    "len(all_chunks)"
   ]
  },
  {
   "cell_type": "code",
   "execution_count": null,
   "id": "1fe48312",
   "metadata": {},
   "outputs": [],
   "source": [
    "import random"
   ]
  },
  {
   "cell_type": "code",
   "execution_count": null,
   "id": "e4b2c0c6",
   "metadata": {},
   "outputs": [],
   "source": [
    "\n",
    "\n",
    "random.choice(all_chunks)"
   ]
  }
 ],
 "metadata": {
  "kernelspec": {
   "display_name": ".venv",
   "language": "python",
   "name": "python3"
  },
  "language_info": {
   "codemirror_mode": {
    "name": "ipython",
    "version": 3
   },
   "file_extension": ".py",
   "mimetype": "text/x-python",
   "name": "python",
   "nbconvert_exporter": "python",
   "pygments_lexer": "ipython3",
   "version": "3.10.4"
  }
 },
 "nbformat": 4,
 "nbformat_minor": 5
}
