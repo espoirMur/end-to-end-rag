{
 "cells": [
  {
   "cell_type": "code",
   "execution_count": 2,
   "id": "8535baf9",
   "metadata": {},
   "outputs": [],
   "source": [
    "import json\n",
    "import logging\n",
    "import time\n",
    "from pathlib import Path"
   ]
  },
  {
   "cell_type": "code",
   "execution_count": 3,
   "id": "f87f3d69",
   "metadata": {},
   "outputs": [
    {
     "name": "stderr",
     "output_type": "stream",
     "text": [
      "/Users/esp.py/Projects/Personal/end-to-end-rag/.venv/lib/python3.10/site-packages/tqdm/auto.py:21: TqdmWarning: IProgress not found. Please update jupyter and ipywidgets. See https://ipywidgets.readthedocs.io/en/stable/user_install.html\n",
      "  from .autonotebook import tqdm as notebook_tqdm\n"
     ]
    }
   ],
   "source": [
    "from docling.datamodel.accelerator_options import AcceleratorDevice, AcceleratorOptions\n",
    "from docling.datamodel.base_models import InputFormat\n",
    "from docling.datamodel.pipeline_options import (\n",
    "    PdfPipelineOptions, OcrMacOptions\n",
    ")\n",
    "from docling.document_converter import DocumentConverter, PdfFormatOption"
   ]
  },
  {
   "cell_type": "code",
   "execution_count": 7,
   "id": "f8e59c7c",
   "metadata": {},
   "outputs": [],
   "source": [
    "documents_path = Path.home()"
   ]
  },
  {
   "cell_type": "code",
   "execution_count": 8,
   "id": "8cab5f8c",
   "metadata": {},
   "outputs": [],
   "source": [
    "books_path = documents_path.joinpath(\"Documents\")"
   ]
  },
  {
   "cell_type": "code",
   "execution_count": 9,
   "id": "25fcd160",
   "metadata": {},
   "outputs": [],
   "source": [
    "file_names = [file for file in books_path.glob(\"**/*.pdf\")]"
   ]
  },
  {
   "cell_type": "code",
   "execution_count": 10,
   "id": "c8c5f8c3",
   "metadata": {},
   "outputs": [
    {
     "data": {
      "text/plain": [
       "672"
      ]
     },
     "execution_count": 10,
     "metadata": {},
     "output_type": "execute_result"
    }
   ],
   "source": [
    "len(file_names)"
   ]
  },
  {
   "cell_type": "code",
   "execution_count": 12,
   "id": "a17fba60",
   "metadata": {},
   "outputs": [],
   "source": [
    "from src.rag.components.ingestion.pdf_parser.docling_parser import DoclingDocumentParser"
   ]
  },
  {
   "cell_type": "code",
   "execution_count": 14,
   "id": "e859cba3",
   "metadata": {},
   "outputs": [],
   "source": [
    "from src.rag.components.shared.io import IOManager"
   ]
  },
  {
   "cell_type": "code",
   "execution_count": 15,
   "id": "bbedbff4",
   "metadata": {},
   "outputs": [],
   "source": [
    "documents_path = Path.home()\n",
    "books_path = documents_path.joinpath(\"Documents\")\n",
    "output_path = Path.cwd().joinpath(\"datasets/docling_parsed_files\")\n",
    "\t\n",
    "io_manager = IOManager(input_document_path=books_path, output_path=output_path)"
   ]
  },
  {
   "cell_type": "code",
   "execution_count": 16,
   "id": "7a068852",
   "metadata": {},
   "outputs": [],
   "source": [
    "test_document = books_path.joinpath(\"contract-de-bail.pdf\")"
   ]
  },
  {
   "cell_type": "code",
   "execution_count": 18,
   "id": "0df25297",
   "metadata": {},
   "outputs": [
    {
     "data": {
      "text/plain": [
       "True"
      ]
     },
     "execution_count": 18,
     "metadata": {},
     "output_type": "execute_result"
    }
   ],
   "source": [
    "test_document.exists()"
   ]
  },
  {
   "cell_type": "code",
   "execution_count": 20,
   "id": "52fa3717",
   "metadata": {},
   "outputs": [],
   "source": [
    "from docling.chunking import HybridChunker"
   ]
  },
  {
   "cell_type": "code",
   "execution_count": 21,
   "id": "59c45b2e",
   "metadata": {},
   "outputs": [],
   "source": [
    "docling_document_parser = DoclingDocumentParser(\n",
    "    io_manager=io_manager,\n",
    "    document_parser_kwargs={},\n",
    "    chunker=HybridChunker()\n",
    ")"
   ]
  },
  {
   "cell_type": "code",
   "execution_count": 22,
   "id": "95b2b033",
   "metadata": {},
   "outputs": [
    {
     "name": "stdout",
     "output_type": "stream",
     "text": [
      "\u001b[31;20m2025-06-16 19:57:25 | ERROR    | pdf_parser:parse:84 | Error while chunking document /Users/esp.py/Documents/contract-de-bail.pdf: 1 validation error for ChunkingDocSerializer\n",
      "doc\n",
      "  Value error, Nothing to be deleted ... [type=value_error, input_value=DoclingDocument(schema_na...kJggg==')), page_no=1)}), input_type=DoclingDocument]\n",
      "    For further information visit https://errors.pydantic.dev/2.11/v/value_error\u001b[0m\n"
     ]
    },
    {
     "name": "stderr",
     "output_type": "stream",
     "text": [
      "/Users/esp.py/Projects/Personal/end-to-end-rag/.venv/lib/python3.10/site-packages/transformers/models/rt_detr/image_processing_rt_detr.py:1093: UserWarning: MPS: nonzero op is supported natively starting from macOS 14.0. Falling back on CPU. This may have performance implications. (Triggered internally at /Users/runner/work/pytorch/pytorch/pytorch/aten/src/ATen/native/mps/operations/Indexing.mm:404.)\n",
      "  \"scores\": score[score > threshold],\n"
     ]
    }
   ],
   "source": [
    "docling_document_parser.parse(test_document)"
   ]
  },
  {
   "cell_type": "code",
   "execution_count": 57,
   "id": "697d1522",
   "metadata": {},
   "outputs": [
    {
     "name": "stderr",
     "output_type": "stream",
     "text": [
      "Processing documents: 0file [00:00, ?file/s]"
     ]
    },
    {
     "name": "stdout",
     "output_type": "stream",
     "text": [
      "\u001b[32m2025-06-11 21:32:10 | INFO     | pdf_parser:write_object_to_file:66 | Saved content to /Users/esp.py/Projects/Personal/end-to-end-rag/datasets/docling_parsed_files/parsed_documents/yves-makerere-payment-receipt.pdf_cae2c67b-d3f4-4540-a6aa-c9213c8dbe14.json\u001b[0m\n",
      "\u001b[32m2025-06-11 21:32:10 | INFO     | pdf_parser:parse_documents_parallel:118 | Document /Users/esp.py/Documents/yves-makerere-payment-receipt.pdf converted successfully.\u001b[0m\n"
     ]
    },
    {
     "name": "stderr",
     "output_type": "stream",
     "text": [
      "Processing documents: 1file [00:03,  3.67s/file]"
     ]
    },
    {
     "name": "stdout",
     "output_type": "stream",
     "text": [
      "\u001b[32m2025-06-11 21:32:12 | INFO     | pdf_parser:write_object_to_file:66 | Saved content to /Users/esp.py/Projects/Personal/end-to-end-rag/datasets/docling_parsed_files/parsed_documents/Murhabazi_Buzina_Espoir_CV.pdf_e632191b-ec1a-492b-8c53-04e74f0eadab.json\u001b[0m\n",
      "\u001b[32m2025-06-11 21:32:12 | INFO     | pdf_parser:write_object_to_file:66 | Saved content to /Users/esp.py/Projects/Personal/end-to-end-rag/datasets/docling_parsed_files/parsed_documents/Murhabazi_Buzina_Espoir_CV.pdf_5af75339-9a95-41b7-9a90-d12db249cdad.json\u001b[0m\n",
      "\u001b[32m2025-06-11 21:32:12 | INFO     | pdf_parser:write_object_to_file:66 | Saved content to /Users/esp.py/Projects/Personal/end-to-end-rag/datasets/docling_parsed_files/parsed_documents/Murhabazi_Buzina_Espoir_CV.pdf_00e27068-1c76-4da3-9e61-981b73984107.json\u001b[0m\n",
      "\u001b[32m2025-06-11 21:32:12 | INFO     | pdf_parser:write_object_to_file:66 | Saved content to /Users/esp.py/Projects/Personal/end-to-end-rag/datasets/docling_parsed_files/parsed_documents/Murhabazi_Buzina_Espoir_CV.pdf_e27a1fd0-de35-4c6b-a2df-433318dfa846.json\u001b[0m\n",
      "\u001b[32m2025-06-11 21:32:12 | INFO     | pdf_parser:write_object_to_file:66 | Saved content to /Users/esp.py/Projects/Personal/end-to-end-rag/datasets/docling_parsed_files/parsed_documents/Murhabazi_Buzina_Espoir_CV.pdf_66cfafc4-6957-49f8-b7c9-62109e4a5794.json\u001b[0m\n",
      "\u001b[32m2025-06-11 21:32:12 | INFO     | pdf_parser:write_object_to_file:66 | Saved content to /Users/esp.py/Projects/Personal/end-to-end-rag/datasets/docling_parsed_files/parsed_documents/Murhabazi_Buzina_Espoir_CV.pdf_cfffdd89-22c2-47f3-ab9e-f9c30259aa86.json\u001b[0m\n",
      "\u001b[32m2025-06-11 21:32:12 | INFO     | pdf_parser:write_object_to_file:66 | Saved content to /Users/esp.py/Projects/Personal/end-to-end-rag/datasets/docling_parsed_files/parsed_documents/Murhabazi_Buzina_Espoir_CV.pdf_712ba261-bde4-42ea-ab01-9a3c12fdb14a.json\u001b[0m\n",
      "\u001b[32m2025-06-11 21:32:12 | INFO     | pdf_parser:write_object_to_file:66 | Saved content to /Users/esp.py/Projects/Personal/end-to-end-rag/datasets/docling_parsed_files/parsed_documents/Murhabazi_Buzina_Espoir_CV.pdf_f20da3eb-c99f-420c-925e-d7d2a3b77930.json\u001b[0m\n",
      "\u001b[32m2025-06-11 21:32:12 | INFO     | pdf_parser:parse_documents_parallel:118 | Document /Users/esp.py/Documents/Murhabazi_Buzina_Espoir_CV.pdf converted successfully.\u001b[0m\n"
     ]
    },
    {
     "name": "stderr",
     "output_type": "stream",
     "text": [
      "Processing documents: 2file [00:05,  2.80s/file]"
     ]
    },
    {
     "name": "stdout",
     "output_type": "stream",
     "text": [
      "\u001b[32m2025-06-11 21:32:21 | INFO     | pdf_parser:write_object_to_file:66 | Saved content to /Users/esp.py/Projects/Personal/end-to-end-rag/datasets/docling_parsed_files/parsed_documents/slides.example.pdf_8492ab0b-d9dc-4d8c-a8f4-e1435ee52a7e.json\u001b[0m\n",
      "\u001b[32m2025-06-11 21:32:21 | INFO     | pdf_parser:write_object_to_file:66 | Saved content to /Users/esp.py/Projects/Personal/end-to-end-rag/datasets/docling_parsed_files/parsed_documents/slides.example.pdf_f1db276c-8662-49cc-a0db-fbc22ca0030d.json\u001b[0m\n",
      "\u001b[32m2025-06-11 21:32:21 | INFO     | pdf_parser:write_object_to_file:66 | Saved content to /Users/esp.py/Projects/Personal/end-to-end-rag/datasets/docling_parsed_files/parsed_documents/slides.example.pdf_cba06454-555f-4fe9-b9f0-bb3db3ae7e2d.json\u001b[0m\n",
      "\u001b[32m2025-06-11 21:32:21 | INFO     | pdf_parser:write_object_to_file:66 | Saved content to /Users/esp.py/Projects/Personal/end-to-end-rag/datasets/docling_parsed_files/parsed_documents/slides.example.pdf_72aba947-2227-4f35-8eef-d2848153141f.json\u001b[0m\n",
      "\u001b[32m2025-06-11 21:32:21 | INFO     | pdf_parser:write_object_to_file:66 | Saved content to /Users/esp.py/Projects/Personal/end-to-end-rag/datasets/docling_parsed_files/parsed_documents/slides.example.pdf_198c14bc-fc51-4289-8d1d-f8f5512a7f80.json\u001b[0m\n",
      "\u001b[32m2025-06-11 21:32:21 | INFO     | pdf_parser:write_object_to_file:66 | Saved content to /Users/esp.py/Projects/Personal/end-to-end-rag/datasets/docling_parsed_files/parsed_documents/slides.example.pdf_947227c8-7058-4033-8bc7-69ec4dfc36f3.json\u001b[0m\n",
      "\u001b[32m2025-06-11 21:32:21 | INFO     | pdf_parser:write_object_to_file:66 | Saved content to /Users/esp.py/Projects/Personal/end-to-end-rag/datasets/docling_parsed_files/parsed_documents/slides.example.pdf_fef0f553-18e5-44ee-b42a-2dd6fee52aef.json\u001b[0m\n",
      "\u001b[32m2025-06-11 21:32:21 | INFO     | pdf_parser:write_object_to_file:66 | Saved content to /Users/esp.py/Projects/Personal/end-to-end-rag/datasets/docling_parsed_files/parsed_documents/slides.example.pdf_bb4a086f-eda8-4934-bf58-87e026c1d4f8.json\u001b[0m\n",
      "\u001b[32m2025-06-11 21:32:21 | INFO     | pdf_parser:write_object_to_file:66 | Saved content to /Users/esp.py/Projects/Personal/end-to-end-rag/datasets/docling_parsed_files/parsed_documents/slides.example.pdf_c4a32566-008e-431c-8aa1-810eb7e78349.json\u001b[0m\n",
      "\u001b[32m2025-06-11 21:32:21 | INFO     | pdf_parser:write_object_to_file:66 | Saved content to /Users/esp.py/Projects/Personal/end-to-end-rag/datasets/docling_parsed_files/parsed_documents/slides.example.pdf_b7588f72-5287-4a5c-bce6-aeda02dabf49.json\u001b[0m\n",
      "\u001b[32m2025-06-11 21:32:21 | INFO     | pdf_parser:write_object_to_file:66 | Saved content to /Users/esp.py/Projects/Personal/end-to-end-rag/datasets/docling_parsed_files/parsed_documents/slides.example.pdf_0f1a7229-7f70-4618-b591-e1e99892564b.json\u001b[0m\n",
      "\u001b[32m2025-06-11 21:32:21 | INFO     | pdf_parser:write_object_to_file:66 | Saved content to /Users/esp.py/Projects/Personal/end-to-end-rag/datasets/docling_parsed_files/parsed_documents/slides.example.pdf_0a9cecf9-c9fe-45db-b232-4f4b0476efca.json\u001b[0m\n",
      "\u001b[32m2025-06-11 21:32:21 | INFO     | pdf_parser:write_object_to_file:66 | Saved content to /Users/esp.py/Projects/Personal/end-to-end-rag/datasets/docling_parsed_files/parsed_documents/slides.example.pdf_c8a9ee1c-5428-4059-a80d-b85ce0c22db3.json\u001b[0m\n",
      "\u001b[32m2025-06-11 21:32:21 | INFO     | pdf_parser:write_object_to_file:66 | Saved content to /Users/esp.py/Projects/Personal/end-to-end-rag/datasets/docling_parsed_files/parsed_documents/slides.example.pdf_224b877e-039f-4eb8-98b9-73f7bf21cefb.json\u001b[0m\n",
      "\u001b[32m2025-06-11 21:32:21 | INFO     | pdf_parser:write_object_to_file:66 | Saved content to /Users/esp.py/Projects/Personal/end-to-end-rag/datasets/docling_parsed_files/parsed_documents/slides.example.pdf_981fcf9a-26c3-4dc0-ab1c-5b3aaa074659.json\u001b[0m\n",
      "\u001b[32m2025-06-11 21:32:21 | INFO     | pdf_parser:write_object_to_file:66 | Saved content to /Users/esp.py/Projects/Personal/end-to-end-rag/datasets/docling_parsed_files/parsed_documents/slides.example.pdf_921c82f3-be80-44cf-b508-4f7380681fee.json\u001b[0m\n",
      "\u001b[32m2025-06-11 21:32:21 | INFO     | pdf_parser:write_object_to_file:66 | Saved content to /Users/esp.py/Projects/Personal/end-to-end-rag/datasets/docling_parsed_files/parsed_documents/slides.example.pdf_6d14f8bb-cef0-42bd-97bc-89a20c1e2353.json\u001b[0m\n",
      "\u001b[32m2025-06-11 21:32:21 | INFO     | pdf_parser:write_object_to_file:66 | Saved content to /Users/esp.py/Projects/Personal/end-to-end-rag/datasets/docling_parsed_files/parsed_documents/slides.example.pdf_4f6491af-2d65-46f3-b92d-60809eb06a32.json\u001b[0m\n",
      "\u001b[32m2025-06-11 21:32:21 | INFO     | pdf_parser:write_object_to_file:66 | Saved content to /Users/esp.py/Projects/Personal/end-to-end-rag/datasets/docling_parsed_files/parsed_documents/slides.example.pdf_e7844add-ea6f-4a68-860a-0cf897012562.json\u001b[0m\n",
      "\u001b[32m2025-06-11 21:32:21 | INFO     | pdf_parser:write_object_to_file:66 | Saved content to /Users/esp.py/Projects/Personal/end-to-end-rag/datasets/docling_parsed_files/parsed_documents/slides.example.pdf_44269bdb-d8ce-49e5-92b5-4a5fe3d54eb3.json\u001b[0m\n",
      "\u001b[32m2025-06-11 21:32:21 | INFO     | pdf_parser:write_object_to_file:66 | Saved content to /Users/esp.py/Projects/Personal/end-to-end-rag/datasets/docling_parsed_files/parsed_documents/slides.example.pdf_5c6bd4af-2516-49c8-9527-7af3821b4e3f.json\u001b[0m\n",
      "\u001b[32m2025-06-11 21:32:21 | INFO     | pdf_parser:write_object_to_file:66 | Saved content to /Users/esp.py/Projects/Personal/end-to-end-rag/datasets/docling_parsed_files/parsed_documents/slides.example.pdf_d9febfd5-f8fe-4b79-834a-57e7fca7222a.json\u001b[0m\n",
      "\u001b[32m2025-06-11 21:32:21 | INFO     | pdf_parser:write_object_to_file:66 | Saved content to /Users/esp.py/Projects/Personal/end-to-end-rag/datasets/docling_parsed_files/parsed_documents/slides.example.pdf_a0c34316-9ab3-4a96-90c0-0d80bd6bbc1c.json\u001b[0m\n",
      "\u001b[32m2025-06-11 21:32:21 | INFO     | pdf_parser:write_object_to_file:66 | Saved content to /Users/esp.py/Projects/Personal/end-to-end-rag/datasets/docling_parsed_files/parsed_documents/slides.example.pdf_ebca6442-5d53-44d7-bee6-1428505307c3.json\u001b[0m\n",
      "\u001b[32m2025-06-11 21:32:21 | INFO     | pdf_parser:write_object_to_file:66 | Saved content to /Users/esp.py/Projects/Personal/end-to-end-rag/datasets/docling_parsed_files/parsed_documents/slides.example.pdf_78347dee-1285-40b0-b0bd-3e4c21e495fa.json\u001b[0m\n",
      "\u001b[32m2025-06-11 21:32:21 | INFO     | pdf_parser:parse_documents_parallel:118 | Document /Users/esp.py/Documents/slides.example.pdf converted successfully.\u001b[0m\n"
     ]
    },
    {
     "name": "stderr",
     "output_type": "stream",
     "text": [
      "Processing documents: 3file [00:15,  5.73s/file]"
     ]
    },
    {
     "name": "stdout",
     "output_type": "stream",
     "text": [
      "\u001b[32m2025-06-11 21:32:23 | INFO     | pdf_parser:write_object_to_file:66 | Saved content to /Users/esp.py/Projects/Personal/end-to-end-rag/datasets/docling_parsed_files/parsed_documents/Murhabazi_Buzina_Essay_NewCastle.pdf_55e14698-929b-4b0e-9ec1-32f56b9bb9d4.json\u001b[0m\n",
      "\u001b[32m2025-06-11 21:32:23 | INFO     | pdf_parser:write_object_to_file:66 | Saved content to /Users/esp.py/Projects/Personal/end-to-end-rag/datasets/docling_parsed_files/parsed_documents/Murhabazi_Buzina_Essay_NewCastle.pdf_1c46ecd0-61a0-4d6a-be85-47501018e568.json\u001b[0m\n",
      "\u001b[32m2025-06-11 21:32:23 | INFO     | pdf_parser:write_object_to_file:66 | Saved content to /Users/esp.py/Projects/Personal/end-to-end-rag/datasets/docling_parsed_files/parsed_documents/Murhabazi_Buzina_Essay_NewCastle.pdf_3170f822-b672-400f-9cf3-4c88c68e61e4.json\u001b[0m\n",
      "\u001b[32m2025-06-11 21:32:23 | INFO     | pdf_parser:write_object_to_file:66 | Saved content to /Users/esp.py/Projects/Personal/end-to-end-rag/datasets/docling_parsed_files/parsed_documents/Murhabazi_Buzina_Essay_NewCastle.pdf_d0b2721c-7b69-4b63-9ebf-1b011e20be1e.json\u001b[0m\n",
      "\u001b[32m2025-06-11 21:32:23 | INFO     | pdf_parser:write_object_to_file:66 | Saved content to /Users/esp.py/Projects/Personal/end-to-end-rag/datasets/docling_parsed_files/parsed_documents/Murhabazi_Buzina_Essay_NewCastle.pdf_96222450-6b05-4d7c-a2cf-2b467775defb.json\u001b[0m\n",
      "\u001b[32m2025-06-11 21:32:23 | INFO     | pdf_parser:parse_documents_parallel:118 | Document /Users/esp.py/Documents/Murhabazi_Buzina_Essay_NewCastle.pdf converted successfully.\u001b[0m\n"
     ]
    },
    {
     "name": "stderr",
     "output_type": "stream",
     "text": [
      "Processing documents: 4file [00:16,  3.98s/file]"
     ]
    },
    {
     "name": "stdout",
     "output_type": "stream",
     "text": [
      "\u001b[32m2025-06-11 21:32:24 | INFO     | pdf_parser:write_object_to_file:66 | Saved content to /Users/esp.py/Projects/Personal/end-to-end-rag/datasets/docling_parsed_files/parsed_documents/lettre-offre-des-servoices-ulpgl.pdf_4e8d8925-82c7-40a5-90c1-76d4e09b5c17.json\u001b[0m\n",
      "\u001b[32m2025-06-11 21:32:24 | INFO     | pdf_parser:write_object_to_file:66 | Saved content to /Users/esp.py/Projects/Personal/end-to-end-rag/datasets/docling_parsed_files/parsed_documents/lettre-offre-des-servoices-ulpgl.pdf_47238509-2d9c-4e7f-9220-56703523d94b.json\u001b[0m\n",
      "\u001b[32m2025-06-11 21:32:24 | INFO     | pdf_parser:write_object_to_file:66 | Saved content to /Users/esp.py/Projects/Personal/end-to-end-rag/datasets/docling_parsed_files/parsed_documents/lettre-offre-des-servoices-ulpgl.pdf_381a3536-1102-46cd-b222-6fbdb356e838.json\u001b[0m\n",
      "\u001b[32m2025-06-11 21:32:24 | INFO     | pdf_parser:write_object_to_file:66 | Saved content to /Users/esp.py/Projects/Personal/end-to-end-rag/datasets/docling_parsed_files/parsed_documents/lettre-offre-des-servoices-ulpgl.pdf_d7ef526d-1fd2-4a5a-97ce-598d201fb148.json\u001b[0m\n",
      "\u001b[32m2025-06-11 21:32:24 | INFO     | pdf_parser:write_object_to_file:66 | Saved content to /Users/esp.py/Projects/Personal/end-to-end-rag/datasets/docling_parsed_files/parsed_documents/lettre-offre-des-servoices-ulpgl.pdf_1b992496-10d3-4506-b6bd-ea3bbad2b70f.json\u001b[0m\n",
      "\u001b[32m2025-06-11 21:32:24 | INFO     | pdf_parser:write_object_to_file:66 | Saved content to /Users/esp.py/Projects/Personal/end-to-end-rag/datasets/docling_parsed_files/parsed_documents/lettre-offre-des-servoices-ulpgl.pdf_3ae5c750-4f4a-4e36-b6af-63055a02b434.json\u001b[0m\n",
      "\u001b[32m2025-06-11 21:32:24 | INFO     | pdf_parser:write_object_to_file:66 | Saved content to /Users/esp.py/Projects/Personal/end-to-end-rag/datasets/docling_parsed_files/parsed_documents/lettre-offre-des-servoices-ulpgl.pdf_620b854c-19da-45aa-ae3b-2f544dba3328.json\u001b[0m\n",
      "\u001b[32m2025-06-11 21:32:24 | INFO     | pdf_parser:parse_documents_parallel:118 | Document /Users/esp.py/Documents/lettre-offre-des-servoices-ulpgl.pdf converted successfully.\u001b[0m\n"
     ]
    },
    {
     "name": "stderr",
     "output_type": "stream",
     "text": [
      "Processing documents: 5file [00:17,  2.96s/file]"
     ]
    },
    {
     "name": "stdout",
     "output_type": "stream",
     "text": [
      "\u001b[32m2025-06-11 21:32:29 | INFO     | pdf_parser:write_object_to_file:66 | Saved content to /Users/esp.py/Projects/Personal/end-to-end-rag/datasets/docling_parsed_files/parsed_documents/Visa_Application_Form_france.pdf_0e54aa52-4e58-4871-931d-70a365baa5e1.json\u001b[0m\n",
      "\u001b[32m2025-06-11 21:32:29 | INFO     | pdf_parser:write_object_to_file:66 | Saved content to /Users/esp.py/Projects/Personal/end-to-end-rag/datasets/docling_parsed_files/parsed_documents/Visa_Application_Form_france.pdf_29c17887-f1af-4ebe-afc4-072cabe62110.json\u001b[0m\n",
      "\u001b[32m2025-06-11 21:32:29 | INFO     | pdf_parser:write_object_to_file:66 | Saved content to /Users/esp.py/Projects/Personal/end-to-end-rag/datasets/docling_parsed_files/parsed_documents/Visa_Application_Form_france.pdf_47d0b328-8074-4b86-98cf-c6cbcc6092e9.json\u001b[0m\n",
      "\u001b[32m2025-06-11 21:32:29 | INFO     | pdf_parser:write_object_to_file:66 | Saved content to /Users/esp.py/Projects/Personal/end-to-end-rag/datasets/docling_parsed_files/parsed_documents/Visa_Application_Form_france.pdf_1a623a05-d08f-4e76-ad9c-f70798d26d5b.json\u001b[0m\n",
      "\u001b[32m2025-06-11 21:32:29 | INFO     | pdf_parser:write_object_to_file:66 | Saved content to /Users/esp.py/Projects/Personal/end-to-end-rag/datasets/docling_parsed_files/parsed_documents/Visa_Application_Form_france.pdf_01740f6c-469e-473e-8705-260ace285f7a.json\u001b[0m\n",
      "\u001b[32m2025-06-11 21:32:29 | INFO     | pdf_parser:write_object_to_file:66 | Saved content to /Users/esp.py/Projects/Personal/end-to-end-rag/datasets/docling_parsed_files/parsed_documents/Visa_Application_Form_france.pdf_bea4774e-f0f2-46f5-a629-d839b0faa3b7.json\u001b[0m\n",
      "\u001b[32m2025-06-11 21:32:29 | INFO     | pdf_parser:write_object_to_file:66 | Saved content to /Users/esp.py/Projects/Personal/end-to-end-rag/datasets/docling_parsed_files/parsed_documents/Visa_Application_Form_france.pdf_b13265dd-13d9-48dd-86eb-06816eddf76e.json\u001b[0m\n",
      "\u001b[32m2025-06-11 21:32:29 | INFO     | pdf_parser:write_object_to_file:66 | Saved content to /Users/esp.py/Projects/Personal/end-to-end-rag/datasets/docling_parsed_files/parsed_documents/Visa_Application_Form_france.pdf_3eb1683b-6055-4b8b-9c89-40adb732e447.json\u001b[0m\n",
      "\u001b[32m2025-06-11 21:32:29 | INFO     | pdf_parser:write_object_to_file:66 | Saved content to /Users/esp.py/Projects/Personal/end-to-end-rag/datasets/docling_parsed_files/parsed_documents/Visa_Application_Form_france.pdf_d3d1fe72-9362-4fe5-913f-7bf39661704b.json\u001b[0m\n",
      "\u001b[32m2025-06-11 21:32:29 | INFO     | pdf_parser:write_object_to_file:66 | Saved content to /Users/esp.py/Projects/Personal/end-to-end-rag/datasets/docling_parsed_files/parsed_documents/Visa_Application_Form_france.pdf_a9f84d8a-e1d8-4664-8c77-b70425c9b88a.json\u001b[0m\n",
      "\u001b[32m2025-06-11 21:32:29 | INFO     | pdf_parser:write_object_to_file:66 | Saved content to /Users/esp.py/Projects/Personal/end-to-end-rag/datasets/docling_parsed_files/parsed_documents/Visa_Application_Form_france.pdf_cf5925eb-9891-4462-8fcc-3339ed790291.json\u001b[0m\n",
      "\u001b[32m2025-06-11 21:32:29 | INFO     | pdf_parser:write_object_to_file:66 | Saved content to /Users/esp.py/Projects/Personal/end-to-end-rag/datasets/docling_parsed_files/parsed_documents/Visa_Application_Form_france.pdf_f37a7024-4552-4cfe-9dd7-728c9b6edc7c.json\u001b[0m\n",
      "\u001b[32m2025-06-11 21:32:29 | INFO     | pdf_parser:write_object_to_file:66 | Saved content to /Users/esp.py/Projects/Personal/end-to-end-rag/datasets/docling_parsed_files/parsed_documents/Visa_Application_Form_france.pdf_d8cc607f-8939-4ff2-a30d-b2e497d0da15.json\u001b[0m\n",
      "\u001b[32m2025-06-11 21:32:29 | INFO     | pdf_parser:write_object_to_file:66 | Saved content to /Users/esp.py/Projects/Personal/end-to-end-rag/datasets/docling_parsed_files/parsed_documents/Visa_Application_Form_france.pdf_a8ef423f-e8f8-4a78-be95-8a59f6fc0c3a.json\u001b[0m\n",
      "\u001b[32m2025-06-11 21:32:29 | INFO     | pdf_parser:write_object_to_file:66 | Saved content to /Users/esp.py/Projects/Personal/end-to-end-rag/datasets/docling_parsed_files/parsed_documents/Visa_Application_Form_france.pdf_9c0f144f-a29a-4400-bf12-c9bdcaedc4ce.json\u001b[0m\n",
      "\u001b[32m2025-06-11 21:32:29 | INFO     | pdf_parser:write_object_to_file:66 | Saved content to /Users/esp.py/Projects/Personal/end-to-end-rag/datasets/docling_parsed_files/parsed_documents/Visa_Application_Form_france.pdf_f65633b5-9b12-4903-a4c0-e05168973589.json\u001b[0m\n",
      "\u001b[32m2025-06-11 21:32:29 | INFO     | pdf_parser:write_object_to_file:66 | Saved content to /Users/esp.py/Projects/Personal/end-to-end-rag/datasets/docling_parsed_files/parsed_documents/Visa_Application_Form_france.pdf_a741fdff-aa61-42ee-90e8-60127ff14a56.json\u001b[0m\n",
      "\u001b[32m2025-06-11 21:32:29 | INFO     | pdf_parser:write_object_to_file:66 | Saved content to /Users/esp.py/Projects/Personal/end-to-end-rag/datasets/docling_parsed_files/parsed_documents/Visa_Application_Form_france.pdf_cd7b61bf-4e1b-4ade-9c05-92e883c55864.json\u001b[0m\n",
      "\u001b[32m2025-06-11 21:32:29 | INFO     | pdf_parser:write_object_to_file:66 | Saved content to /Users/esp.py/Projects/Personal/end-to-end-rag/datasets/docling_parsed_files/parsed_documents/Visa_Application_Form_france.pdf_77c5f874-2642-4e5e-84b9-b3323b80ebb9.json\u001b[0m\n",
      "\u001b[32m2025-06-11 21:32:29 | INFO     | pdf_parser:parse_documents_parallel:118 | Document /Users/esp.py/Documents/Visa_Application_Form_france.pdf converted successfully.\u001b[0m\n"
     ]
    },
    {
     "name": "stderr",
     "output_type": "stream",
     "text": [
      "Processing documents: 6file [00:22,  3.75s/file]"
     ]
    },
    {
     "name": "stdout",
     "output_type": "stream",
     "text": [
      "\u001b[32m2025-06-11 21:32:30 | INFO     | pdf_parser:write_object_to_file:66 | Saved content to /Users/esp.py/Projects/Personal/end-to-end-rag/datasets/docling_parsed_files/parsed_documents/lettre de motivation-university.pdf_e835082f-900f-421c-8dfa-cf78b0e251ca.json\u001b[0m\n",
      "\u001b[32m2025-06-11 21:32:30 | INFO     | pdf_parser:write_object_to_file:66 | Saved content to /Users/esp.py/Projects/Personal/end-to-end-rag/datasets/docling_parsed_files/parsed_documents/lettre de motivation-university.pdf_a102c977-2d43-46d4-9855-a4a4524a1cc6.json\u001b[0m\n",
      "\u001b[32m2025-06-11 21:32:30 | INFO     | pdf_parser:write_object_to_file:66 | Saved content to /Users/esp.py/Projects/Personal/end-to-end-rag/datasets/docling_parsed_files/parsed_documents/lettre de motivation-university.pdf_a20a9fc6-0895-485a-a65b-1bfffa13f35c.json\u001b[0m\n",
      "\u001b[32m2025-06-11 21:32:30 | INFO     | pdf_parser:write_object_to_file:66 | Saved content to /Users/esp.py/Projects/Personal/end-to-end-rag/datasets/docling_parsed_files/parsed_documents/lettre de motivation-university.pdf_7abaae4e-dc14-470e-84cb-72c348e029e7.json\u001b[0m\n",
      "\u001b[32m2025-06-11 21:32:30 | INFO     | pdf_parser:parse_documents_parallel:118 | Document /Users/esp.py/Documents/lettre de motivation-university.pdf converted successfully.\u001b[0m\n"
     ]
    },
    {
     "name": "stderr",
     "output_type": "stream",
     "text": [
      "Processing documents: 7file [00:23,  2.80s/file]"
     ]
    },
    {
     "name": "stdout",
     "output_type": "stream",
     "text": [
      "\u001b[32m2025-06-11 21:32:37 | INFO     | pdf_parser:write_object_to_file:66 | Saved content to /Users/esp.py/Projects/Personal/end-to-end-rag/datasets/docling_parsed_files/parsed_documents/191592920-PCSI.pdf_9787799f-5d7a-40fe-a6cd-80361c3162d4.json\u001b[0m\n",
      "\u001b[32m2025-06-11 21:32:37 | INFO     | pdf_parser:write_object_to_file:66 | Saved content to /Users/esp.py/Projects/Personal/end-to-end-rag/datasets/docling_parsed_files/parsed_documents/191592920-PCSI.pdf_effb943d-a492-492d-b576-2b731637c19f.json\u001b[0m\n",
      "\u001b[32m2025-06-11 21:32:37 | INFO     | pdf_parser:write_object_to_file:66 | Saved content to /Users/esp.py/Projects/Personal/end-to-end-rag/datasets/docling_parsed_files/parsed_documents/191592920-PCSI.pdf_3881ce2b-0bd6-41b0-b581-6e98e42409d5.json\u001b[0m\n",
      "\u001b[32m2025-06-11 21:32:37 | INFO     | pdf_parser:write_object_to_file:66 | Saved content to /Users/esp.py/Projects/Personal/end-to-end-rag/datasets/docling_parsed_files/parsed_documents/191592920-PCSI.pdf_fa5c3763-9567-4607-8f02-941743fbc1ef.json\u001b[0m\n",
      "\u001b[32m2025-06-11 21:32:37 | INFO     | pdf_parser:write_object_to_file:66 | Saved content to /Users/esp.py/Projects/Personal/end-to-end-rag/datasets/docling_parsed_files/parsed_documents/191592920-PCSI.pdf_b7a74cbd-2ea6-484f-8398-fbe55f3316c1.json\u001b[0m\n",
      "\u001b[32m2025-06-11 21:32:37 | INFO     | pdf_parser:write_object_to_file:66 | Saved content to /Users/esp.py/Projects/Personal/end-to-end-rag/datasets/docling_parsed_files/parsed_documents/191592920-PCSI.pdf_580b4587-25ae-49f7-bd54-1e0f8f274b12.json\u001b[0m\n",
      "\u001b[32m2025-06-11 21:32:37 | INFO     | pdf_parser:write_object_to_file:66 | Saved content to /Users/esp.py/Projects/Personal/end-to-end-rag/datasets/docling_parsed_files/parsed_documents/191592920-PCSI.pdf_c866625e-1331-4f80-9417-b6afaab38af2.json\u001b[0m\n",
      "\u001b[32m2025-06-11 21:32:37 | INFO     | pdf_parser:write_object_to_file:66 | Saved content to /Users/esp.py/Projects/Personal/end-to-end-rag/datasets/docling_parsed_files/parsed_documents/191592920-PCSI.pdf_ac6637d2-d189-4af5-b66f-029b0cc672a2.json\u001b[0m\n",
      "\u001b[32m2025-06-11 21:32:37 | INFO     | pdf_parser:write_object_to_file:66 | Saved content to /Users/esp.py/Projects/Personal/end-to-end-rag/datasets/docling_parsed_files/parsed_documents/191592920-PCSI.pdf_f206736f-d54e-4d5d-9114-244e233c80d2.json\u001b[0m\n",
      "\u001b[32m2025-06-11 21:32:37 | INFO     | pdf_parser:write_object_to_file:66 | Saved content to /Users/esp.py/Projects/Personal/end-to-end-rag/datasets/docling_parsed_files/parsed_documents/191592920-PCSI.pdf_f00a059d-0a04-4223-b39a-2a5e9f1251dc.json\u001b[0m\n",
      "\u001b[32m2025-06-11 21:32:37 | INFO     | pdf_parser:write_object_to_file:66 | Saved content to /Users/esp.py/Projects/Personal/end-to-end-rag/datasets/docling_parsed_files/parsed_documents/191592920-PCSI.pdf_6c1ff855-84bf-4957-b087-720994439f44.json\u001b[0m\n",
      "\u001b[32m2025-06-11 21:32:37 | INFO     | pdf_parser:write_object_to_file:66 | Saved content to /Users/esp.py/Projects/Personal/end-to-end-rag/datasets/docling_parsed_files/parsed_documents/191592920-PCSI.pdf_39beda44-20ed-4b4d-9d9a-b43bf3418122.json\u001b[0m\n",
      "\u001b[32m2025-06-11 21:32:37 | INFO     | pdf_parser:write_object_to_file:66 | Saved content to /Users/esp.py/Projects/Personal/end-to-end-rag/datasets/docling_parsed_files/parsed_documents/191592920-PCSI.pdf_093ed936-7f75-4808-9fd3-03444d92ec60.json\u001b[0m\n",
      "\u001b[32m2025-06-11 21:32:37 | INFO     | pdf_parser:write_object_to_file:66 | Saved content to /Users/esp.py/Projects/Personal/end-to-end-rag/datasets/docling_parsed_files/parsed_documents/191592920-PCSI.pdf_bb5d7d69-ad77-4173-8b32-3ef8c8e05fbb.json\u001b[0m\n",
      "\u001b[32m2025-06-11 21:32:37 | INFO     | pdf_parser:write_object_to_file:66 | Saved content to /Users/esp.py/Projects/Personal/end-to-end-rag/datasets/docling_parsed_files/parsed_documents/191592920-PCSI.pdf_90bd71ac-9a97-4a5b-a888-390b1efd7fa7.json\u001b[0m\n",
      "\u001b[32m2025-06-11 21:32:37 | INFO     | pdf_parser:write_object_to_file:66 | Saved content to /Users/esp.py/Projects/Personal/end-to-end-rag/datasets/docling_parsed_files/parsed_documents/191592920-PCSI.pdf_b6ad34d1-15b4-4e74-83fe-c6766cf15a7c.json\u001b[0m\n",
      "\u001b[32m2025-06-11 21:32:37 | INFO     | pdf_parser:write_object_to_file:66 | Saved content to /Users/esp.py/Projects/Personal/end-to-end-rag/datasets/docling_parsed_files/parsed_documents/191592920-PCSI.pdf_a8ace5ed-655b-4eeb-906a-b05acf749391.json\u001b[0m\n",
      "\u001b[32m2025-06-11 21:32:37 | INFO     | pdf_parser:write_object_to_file:66 | Saved content to /Users/esp.py/Projects/Personal/end-to-end-rag/datasets/docling_parsed_files/parsed_documents/191592920-PCSI.pdf_cea363ab-4f95-486d-9531-16b1531cffda.json\u001b[0m\n",
      "\u001b[32m2025-06-11 21:32:37 | INFO     | pdf_parser:write_object_to_file:66 | Saved content to /Users/esp.py/Projects/Personal/end-to-end-rag/datasets/docling_parsed_files/parsed_documents/191592920-PCSI.pdf_6721c287-ddc0-436b-9905-57b146c6dc69.json\u001b[0m\n",
      "\u001b[32m2025-06-11 21:32:37 | INFO     | pdf_parser:write_object_to_file:66 | Saved content to /Users/esp.py/Projects/Personal/end-to-end-rag/datasets/docling_parsed_files/parsed_documents/191592920-PCSI.pdf_df2a52cc-b0ce-4283-a9d3-c8978a4551dd.json\u001b[0m\n",
      "\u001b[32m2025-06-11 21:32:37 | INFO     | pdf_parser:write_object_to_file:66 | Saved content to /Users/esp.py/Projects/Personal/end-to-end-rag/datasets/docling_parsed_files/parsed_documents/191592920-PCSI.pdf_543e38c0-252a-4485-ba5d-05032ffb3e8e.json\u001b[0m\n",
      "\u001b[32m2025-06-11 21:32:37 | INFO     | pdf_parser:write_object_to_file:66 | Saved content to /Users/esp.py/Projects/Personal/end-to-end-rag/datasets/docling_parsed_files/parsed_documents/191592920-PCSI.pdf_f8467e1e-944d-4da7-a938-569e9798876b.json\u001b[0m\n",
      "\u001b[32m2025-06-11 21:32:37 | INFO     | pdf_parser:write_object_to_file:66 | Saved content to /Users/esp.py/Projects/Personal/end-to-end-rag/datasets/docling_parsed_files/parsed_documents/191592920-PCSI.pdf_79249ad3-b56c-437a-9d9c-daa2a1f3c306.json\u001b[0m\n",
      "\u001b[32m2025-06-11 21:32:37 | INFO     | pdf_parser:write_object_to_file:66 | Saved content to /Users/esp.py/Projects/Personal/end-to-end-rag/datasets/docling_parsed_files/parsed_documents/191592920-PCSI.pdf_8b42603f-d323-45cf-8f07-074173a158b1.json\u001b[0m\n",
      "\u001b[32m2025-06-11 21:32:37 | INFO     | pdf_parser:write_object_to_file:66 | Saved content to /Users/esp.py/Projects/Personal/end-to-end-rag/datasets/docling_parsed_files/parsed_documents/191592920-PCSI.pdf_af0de923-19ef-443d-82fb-df3807a1da77.json\u001b[0m\n",
      "\u001b[32m2025-06-11 21:32:37 | INFO     | pdf_parser:write_object_to_file:66 | Saved content to /Users/esp.py/Projects/Personal/end-to-end-rag/datasets/docling_parsed_files/parsed_documents/191592920-PCSI.pdf_83f3d4ff-1745-4370-a691-69e0d9bfd732.json\u001b[0m\n",
      "\u001b[32m2025-06-11 21:32:37 | INFO     | pdf_parser:write_object_to_file:66 | Saved content to /Users/esp.py/Projects/Personal/end-to-end-rag/datasets/docling_parsed_files/parsed_documents/191592920-PCSI.pdf_ce583dfc-b854-4c43-bc4b-0320747abbc1.json\u001b[0m\n",
      "\u001b[32m2025-06-11 21:32:37 | INFO     | pdf_parser:write_object_to_file:66 | Saved content to /Users/esp.py/Projects/Personal/end-to-end-rag/datasets/docling_parsed_files/parsed_documents/191592920-PCSI.pdf_d5a39a7b-6563-4ebe-811d-2e3ed34bbd24.json\u001b[0m\n",
      "\u001b[32m2025-06-11 21:32:37 | INFO     | pdf_parser:parse_documents_parallel:118 | Document /Users/esp.py/Documents/191592920-PCSI.pdf converted successfully.\u001b[0m\n"
     ]
    },
    {
     "name": "stderr",
     "output_type": "stream",
     "text": [
      "Processing documents: 8file [00:31,  4.31s/file]"
     ]
    },
    {
     "name": "stdout",
     "output_type": "stream",
     "text": [
      "\u001b[32m2025-06-11 21:32:39 | INFO     | pdf_parser:write_object_to_file:66 | Saved content to /Users/esp.py/Projects/Personal/end-to-end-rag/datasets/docling_parsed_files/parsed_documents/visa_permit_application_form_pdf.pdf_96c7a141-55fc-49b0-97fd-77fd15f7a3b6.json\u001b[0m\n",
      "\u001b[32m2025-06-11 21:32:39 | INFO     | pdf_parser:write_object_to_file:66 | Saved content to /Users/esp.py/Projects/Personal/end-to-end-rag/datasets/docling_parsed_files/parsed_documents/visa_permit_application_form_pdf.pdf_707dde1e-710d-4efd-af5c-f3e5246c93b2.json\u001b[0m\n",
      "\u001b[32m2025-06-11 21:32:39 | INFO     | pdf_parser:parse_documents_parallel:118 | Document /Users/esp.py/Documents/visa_permit_application_form_pdf.pdf converted successfully.\u001b[0m\n"
     ]
    },
    {
     "name": "stderr",
     "output_type": "stream",
     "text": [
      "Processing documents: 9file [00:32,  3.49s/file]"
     ]
    },
    {
     "name": "stdout",
     "output_type": "stream",
     "text": [
      "\u001b[32m2025-06-11 21:32:41 | INFO     | pdf_parser:write_object_to_file:66 | Saved content to /Users/esp.py/Projects/Personal/end-to-end-rag/datasets/docling_parsed_files/parsed_documents/Gouvernement Sama Lukonde_RDC.pdf_f78abed1-ccc4-4582-9677-48eeb3159f52.json\u001b[0m\n",
      "\u001b[32m2025-06-11 21:32:41 | INFO     | pdf_parser:write_object_to_file:66 | Saved content to /Users/esp.py/Projects/Personal/end-to-end-rag/datasets/docling_parsed_files/parsed_documents/Gouvernement Sama Lukonde_RDC.pdf_5f99132b-480b-4fd3-9200-f2b7ef8f5694.json\u001b[0m\n",
      "\u001b[32m2025-06-11 21:32:41 | INFO     | pdf_parser:write_object_to_file:66 | Saved content to /Users/esp.py/Projects/Personal/end-to-end-rag/datasets/docling_parsed_files/parsed_documents/Gouvernement Sama Lukonde_RDC.pdf_442b5e3e-4835-4357-97ad-4e7af5f6c261.json\u001b[0m\n",
      "\u001b[32m2025-06-11 21:32:41 | INFO     | pdf_parser:write_object_to_file:66 | Saved content to /Users/esp.py/Projects/Personal/end-to-end-rag/datasets/docling_parsed_files/parsed_documents/Gouvernement Sama Lukonde_RDC.pdf_21dae334-cde7-4d3a-ba4e-a2819b52a351.json\u001b[0m\n",
      "\u001b[32m2025-06-11 21:32:41 | INFO     | pdf_parser:write_object_to_file:66 | Saved content to /Users/esp.py/Projects/Personal/end-to-end-rag/datasets/docling_parsed_files/parsed_documents/Gouvernement Sama Lukonde_RDC.pdf_1e459321-27ec-471b-9e87-c54a4d6ee3b6.json\u001b[0m\n",
      "\u001b[32m2025-06-11 21:32:41 | INFO     | pdf_parser:write_object_to_file:66 | Saved content to /Users/esp.py/Projects/Personal/end-to-end-rag/datasets/docling_parsed_files/parsed_documents/Gouvernement Sama Lukonde_RDC.pdf_4052f656-0143-4f70-b1d8-3e54ba964478.json\u001b[0m\n",
      "\u001b[32m2025-06-11 21:32:41 | INFO     | pdf_parser:write_object_to_file:66 | Saved content to /Users/esp.py/Projects/Personal/end-to-end-rag/datasets/docling_parsed_files/parsed_documents/Gouvernement Sama Lukonde_RDC.pdf_5d70f665-27e3-4d85-85b9-6ca74b1c5e87.json\u001b[0m\n",
      "\u001b[32m2025-06-11 21:32:41 | INFO     | pdf_parser:write_object_to_file:66 | Saved content to /Users/esp.py/Projects/Personal/end-to-end-rag/datasets/docling_parsed_files/parsed_documents/Gouvernement Sama Lukonde_RDC.pdf_cdceb0c3-9db4-4b8d-ab77-70670281d3cd.json\u001b[0m\n",
      "\u001b[32m2025-06-11 21:32:41 | INFO     | pdf_parser:parse_documents_parallel:118 | Document /Users/esp.py/Documents/Gouvernement Sama Lukonde_RDC.pdf converted successfully.\u001b[0m\n"
     ]
    },
    {
     "name": "stderr",
     "output_type": "stream",
     "text": [
      "Processing documents: 10file [00:34,  3.47s/file]"
     ]
    },
    {
     "name": "stdout",
     "output_type": "stream",
     "text": [
      "\u001b[32m2025-06-11 21:32:41 | INFO     | pdf_parser:parse_documents_parallel:125 | Conversion completed: 10 succeeded, 0 failed.\u001b[0m\n"
     ]
    },
    {
     "name": "stderr",
     "output_type": "stream",
     "text": [
      "\n"
     ]
    }
   ],
   "source": [
    "nodes = docling_document_parser.parse_documents_parallel(file_names=file_names[:10])"
   ]
  },
  {
   "cell_type": "code",
   "execution_count": null,
   "id": "ba07c81f",
   "metadata": {},
   "outputs": [],
   "source": []
  },
  {
   "cell_type": "code",
   "execution_count": 30,
   "id": "407bef5e",
   "metadata": {},
   "outputs": [
    {
     "data": {
      "text/plain": [
       "'AutoNav: Disabled. AutoNav: Disabled, 2 = espoir.mur@gmail.com. EnvelopeId Stamping: Disabled, 1 = EnvelopeId Stamping: Disabled. EnvelopeId Stamping: Disabled, 2 = IP Address: 105.178.108.217. Time Zone: (UTC-08:00) Pacific Time (US & Canada), 1 = Time Zone: (UTC-08:00) Pacific Time (US & Canada). Time Zone: (UTC-08:00) Pacific Time (US & Canada), 2 = . Record Tracking, 1 = Record Tracking. Record Tracking, 2 = . Status: Original, 1 = Holder: Murhabazi Espoir. Status: Original, 2 = Location: DocuSign. 12/21/2020 12:28:31 Signer Events, 1 = espoir.mur@gmail.com Signature. 12/21/2020 12:28:31 Signer Events, 2 = Timestamp. Murhabazi Buzina Espoir espoir.mur@gmail.com, 1 = . Murhabazi Buzina Espoir'"
      ]
     },
     "execution_count": 30,
     "metadata": {},
     "output_type": "execute_result"
    }
   ],
   "source": [
    "nodes[2].text"
   ]
  },
  {
   "cell_type": "code",
   "execution_count": 70,
   "id": "1af9694a",
   "metadata": {},
   "outputs": [
    {
     "data": {
      "text/plain": [
       "os.stat_result(st_mode=33261, st_ino=1008603, st_dev=16777234, st_nlink=1, st_uid=501, st_gid=20, st_size=88523, st_atime=1729681376, st_mtime=1628259056, st_ctime=1718323411)"
      ]
     },
     "execution_count": 70,
     "metadata": {},
     "output_type": "execute_result"
    }
   ],
   "source": [
    "sampled_file.stat()"
   ]
  },
  {
   "cell_type": "code",
   "execution_count": null,
   "id": "612adf1d",
   "metadata": {},
   "outputs": [],
   "source": []
  }
 ],
 "metadata": {
  "kernelspec": {
   "display_name": ".venv",
   "language": "python",
   "name": "python3"
  },
  "language_info": {
   "codemirror_mode": {
    "name": "ipython",
    "version": 3
   },
   "file_extension": ".py",
   "mimetype": "text/x-python",
   "name": "python",
   "nbconvert_exporter": "python",
   "pygments_lexer": "ipython3",
   "version": "3.10.4"
  }
 },
 "nbformat": 4,
 "nbformat_minor": 5
}
