{
 "cells": [
  {
   "cell_type": "markdown",
   "metadata": {},
   "source": [
    "#### Building the Retrieval Augmented Generation (RAG) model."
   ]
  },
  {
   "cell_type": "markdown",
   "metadata": {},
   "source": [
    "In this notebook, we will describe the whole process to build the RAG model using open source language.\n",
    "\n",
    "We will start by describing the high level overview of the system and then we will implement each component and set them up for production."
   ]
  },
  {
   "cell_type": "markdown",
   "metadata": {},
   "source": [
    "![Rag system highlevel](./images/RAG-high-level.jpeg)\n",
    "\n",
    "Rag High level([source:](https://blog.griddynamics.com/retrieval-augmented-generation-llm/))"
   ]
  },
  {
   "cell_type": "markdown",
   "metadata": {},
   "source": [
    "A RAG system is a Information Retrieval and Question Answering system that uses Natural Language Processing (Or Generative AI for those who cares about buzz words), to answers users question using a knowledge base.\n",
    "The main benefits of a RAG system is the fact that you can use a personal knowledge base to answer your question, this limit hallucination in the system and more importanly helps the system to answers the question using a knowledge base from a specific domain. [Add More information about RAG systems here.]"
   ]
  },
  {
   "cell_type": "markdown",
   "metadata": {},
   "source": [
    "### How the RAG System works?"
   ]
  },
  {
   "cell_type": "markdown",
   "metadata": {},
   "source": [
    "A canonical RAG Pipeline is build with the components illustrated in the figure below.\n",
    "![RAG system](./images/RAG-process-flow-scheme.jpg)"
   ]
  },
  {
   "cell_type": "markdown",
   "metadata": {},
   "source": [
    "Those 9 steps in the above figure can be group in 3 major steps.\n",
    "\n",
    "The knowledge encoding steps, the Retrieval Step and Generation step."
   ]
  },
  {
   "cell_type": "markdown",
   "metadata": {},
   "source": [
    "#### The knowledge Encoding\n",
    "\n",
    "We start with a corpus of our documents which can be a bunch of pdf document contains information about the question, or just internal website with the documentation. We split the document into manageable chunk which can be paragraphs in the documents and learn the embeddings vectors of those documents and save them in a vector database.\n",
    "That part can be summarize with the steps 1, 2, 3, and 4 in the picture {}."
   ]
  },
  {
   "cell_type": "markdown",
   "metadata": {},
   "source": [
    "#### Retrieval \n",
    "\n",
    "This step retrieve the document similar to question from a document database. Given a question, we encode it and learn it embeddings and then we query the vector database using a similarity search approach to retrieve relevant context given a document. This part is done in the step 5, 6 in the picture."
   ]
  },
  {
   "cell_type": "markdown",
   "metadata": {},
   "source": [
    "#### Generation step\n",
    "\n",
    "In this step we take the question the context retrieve and feed that into the language model to generate the answer to the question given the context."
   ]
  },
  {
   "cell_type": "markdown",
   "metadata": {},
   "source": [
    "Enough talking let us build the system."
   ]
  },
  {
   "cell_type": "markdown",
   "metadata": {},
   "source": [
    "#### The retrieval."
   ]
  },
  {
   "cell_type": "markdown",
   "metadata": {},
   "source": [
    "The retrieval system has 3 main components, the language model, the apis and the database."
   ]
  },
  {
   "cell_type": "code",
   "execution_count": 1,
   "metadata": {},
   "outputs": [
    {
     "name": "stderr",
     "output_type": "stream",
     "text": [
      "/Users/esp.py/Projects/Personal/end-to-end-rag/.venv/lib/python3.10/site-packages/tqdm/auto.py:21: TqdmWarning: IProgress not found. Please update jupyter and ipywidgets. See https://ipywidgets.readthedocs.io/en/stable/user_install.html\n",
      "  from .autonotebook import tqdm as notebook_tqdm\n"
     ]
    }
   ],
   "source": [
    "from sentence_transformers import SentenceTransformer"
   ]
  },
  {
   "cell_type": "code",
   "execution_count": 2,
   "metadata": {},
   "outputs": [],
   "source": [
    "embedding_model_id = 'michiyasunaga/BioLinkBERT-large'"
   ]
  },
  {
   "cell_type": "code",
   "execution_count": 3,
   "metadata": {},
   "outputs": [],
   "source": [
    "from pathlib import Path"
   ]
  },
  {
   "cell_type": "code",
   "execution_count": 4,
   "metadata": {},
   "outputs": [],
   "source": [
    "model_cache = Path().cwd().joinpath(\"models\")"
   ]
  },
  {
   "cell_type": "code",
   "execution_count": 5,
   "metadata": {},
   "outputs": [
    {
     "name": "stderr",
     "output_type": "stream",
     "text": [
      "No sentence-transformers model found with name /Users/esp.py/Projects/Personal/end-to-end-rag/models/michiyasunaga_BioLinkBERT-large. Creating a new one with MEAN pooling.\n"
     ]
    }
   ],
   "source": [
    "sentence_transformer = SentenceTransformer(embedding_model_id, cache_folder=model_cache)"
   ]
  },
  {
   "cell_type": "code",
   "execution_count": 6,
   "metadata": {},
   "outputs": [],
   "source": [
    "from src.retriever.embedding_model import SBertOnnxConfig, CustomEmbeddingBertModel"
   ]
  },
  {
   "cell_type": "code",
   "execution_count": 7,
   "metadata": {},
   "outputs": [],
   "source": [
    "from transformers import AutoTokenizer"
   ]
  },
  {
   "cell_type": "code",
   "execution_count": 8,
   "metadata": {},
   "outputs": [],
   "source": [
    "tokenizer = AutoTokenizer.from_pretrained(embedding_model_id)"
   ]
  },
  {
   "cell_type": "code",
   "execution_count": 9,
   "metadata": {},
   "outputs": [],
   "source": [
    "bert_embedding_path = model_cache.joinpath(embedding_model_id.replace(\"/\", \"_\"))"
   ]
  },
  {
   "cell_type": "code",
   "execution_count": 10,
   "metadata": {},
   "outputs": [
    {
     "data": {
      "text/plain": [
       "PosixPath('/Users/esp.py/Projects/Personal/end-to-end-rag/models/michiyasunaga_BioLinkBERT-large')"
      ]
     },
     "execution_count": 10,
     "metadata": {},
     "output_type": "execute_result"
    }
   ],
   "source": [
    "bert_embedding_path"
   ]
  },
  {
   "cell_type": "code",
   "execution_count": 11,
   "metadata": {},
   "outputs": [],
   "source": [
    "base_model = CustomEmbeddingBertModel.from_pretrained(bert_embedding_path)"
   ]
  },
  {
   "cell_type": "code",
   "execution_count": 12,
   "metadata": {},
   "outputs": [],
   "source": [
    "bert_embedding_onnx_path = bert_embedding_path.parent.joinpath(\"onnx\")"
   ]
  },
  {
   "cell_type": "code",
   "execution_count": 13,
   "metadata": {},
   "outputs": [],
   "source": [
    "bert_embedding_onnx_path.mkdir(exist_ok=True, parents=True)"
   ]
  },
  {
   "cell_type": "code",
   "execution_count": 14,
   "metadata": {},
   "outputs": [],
   "source": [
    "onnx_model_config =SBertOnnxConfig.from_model_config(base_model.config)"
   ]
  },
  {
   "cell_type": "code",
   "execution_count": 15,
   "metadata": {},
   "outputs": [],
   "source": [
    "from torch.onnx import export"
   ]
  },
  {
   "cell_type": "code",
   "execution_count": null,
   "metadata": {},
   "outputs": [],
   "source": []
  },
  {
   "cell_type": "code",
   "execution_count": 16,
   "metadata": {},
   "outputs": [],
   "source": [
    "test_input = f\"question: Is cytokeratin immunoreactivity useful in the diagnosis of short-segment Barrett's oesophagus in Korea? context: Cytokeratin 7/20 staining has been reported to be helpful in diagnosing Barrett's oesophagus and gastric intestinal metaplasia. However, this is still a matter of some controversy. To determine the diagnostic usefulness of cytokeratin 7/20 immunostaining for short-segment Barrett's oesophagus in Korea. In patients with Barrett's oesophagus, diagnosed endoscopically, at least two biopsy specimens were taken from just below the squamocolumnar junction. If goblet cells were found histologically with alcian blue staining, cytokeratin 7/20 immunohistochemical stains were performed. Intestinal metaplasia at the cardia was diagnosed whenever biopsy specimens taken from within 2 cm below the oesophagogastric junction revealed intestinal metaplasia. Barrett's cytokeratin 7/20 pattern was defined as cytokeratin 20 positivity in only the superficial gland, combined with cytokeratin 7 positivity in both the superficial and deep glands. Barrett's cytokeratin 7/20 pattern was observed in 28 out of 36 cases (77.8%) with short-segment Barrett's oesophagus, 11 out of 28 cases (39.3%) with intestinal metaplasia at the cardia, and nine out of 61 cases (14.8%) with gastric intestinal metaplasia. The sensitivity and specificity of Barrett's cytokeratin 7/20 pattern were 77.8 and 77.5%, respectively. answer: Barrett's cytokeratin 7/20 pattern can be a useful marker for the diagnosis of short-segment Barrett's oesophagus, although the false positive or false negative rate is approximately 25%.\"\n",
    "encoded_input = tokenizer([test_input],\n",
    "                          return_tensors='pt',\n",
    "                          max_length=512,\n",
    "                          truncation=True)"
   ]
  },
  {
   "cell_type": "code",
   "execution_count": 17,
   "metadata": {},
   "outputs": [],
   "source": [
    "_ = encoded_input.pop(\"token_type_ids\")"
   ]
  },
  {
   "cell_type": "code",
   "execution_count": 18,
   "metadata": {},
   "outputs": [],
   "source": [
    "model_output = base_model(**encoded_input)"
   ]
  },
  {
   "cell_type": "code",
   "execution_count": 19,
   "metadata": {},
   "outputs": [],
   "source": [
    "custom_model_embeddings = model_output.last_hidden_state.detach().numpy().reshape(-1)"
   ]
  },
  {
   "cell_type": "code",
   "execution_count": 20,
   "metadata": {},
   "outputs": [
    {
     "name": "stdout",
     "output_type": "stream",
     "text": [
      "huggingface/tokenizers: The current process just got forked, after parallelism has already been used. Disabling parallelism to avoid deadlocks...\n",
      "To disable this warning, you can either:\n",
      "\t- Avoid using `tokenizers` before the fork if possible\n",
      "\t- Explicitly set the environment variable TOKENIZERS_PARALLELISM=(true | false)\n"
     ]
    }
   ],
   "source": [
    "learned_embeddings = sentence_transformer.encode(test_input)"
   ]
  },
  {
   "cell_type": "code",
   "execution_count": 21,
   "metadata": {},
   "outputs": [],
   "source": [
    "from numpy.testing import assert_array_almost_equal"
   ]
  },
  {
   "cell_type": "code",
   "execution_count": 22,
   "metadata": {},
   "outputs": [],
   "source": [
    "assert_array_almost_equal(custom_model_embeddings, learned_embeddings, decimal=5)"
   ]
  },
  {
   "cell_type": "code",
   "execution_count": 23,
   "metadata": {},
   "outputs": [],
   "source": [
    "from torch.onnx import export as torch_onnx_export"
   ]
  },
  {
   "cell_type": "code",
   "execution_count": 24,
   "metadata": {},
   "outputs": [
    {
     "name": "stderr",
     "output_type": "stream",
     "text": [
      "/Users/esp.py/Projects/Personal/end-to-end-rag/.venv/lib/python3.10/site-packages/torch/onnx/utils.py:2095: UserWarning: Provided key last_hidden_state for dynamic axes is not a valid input/output name\n",
      "  warnings.warn(\n"
     ]
    }
   ],
   "source": [
    "torch_onnx_export(\n",
    "    base_model,\n",
    "    tuple(encoded_input.values()),\n",
    "    f=bert_embedding_onnx_path.joinpath('bio-bert-embedder.onnx'),\n",
    "    input_names=['input_ids', 'attention_mask'],\n",
    "    dynamic_axes={'input_ids': {0: 'batch_size', 1: 'sequence'},\n",
    "                  'attention_mask': {0: 'batch_size', 1: 'sequence'},\n",
    "                  'last_hidden_state': {0: 'batch_size', 1: 'sequence'}},\n",
    "    do_constant_folding=True,\n",
    "    opset_version=13,\n",
    ")"
   ]
  },
  {
   "cell_type": "code",
   "execution_count": 25,
   "metadata": {},
   "outputs": [],
   "source": [
    "base_model.config.save_pretrained(bert_embedding_onnx_path)"
   ]
  },
  {
   "cell_type": "markdown",
   "metadata": {},
   "source": [
    "### Models Comparison\n",
    "\n",
    "Let us now compare the two models."
   ]
  },
  {
   "cell_type": "code",
   "execution_count": null,
   "metadata": {},
   "outputs": [],
   "source": []
  },
  {
   "cell_type": "code",
   "execution_count": 26,
   "metadata": {},
   "outputs": [
    {
     "name": "stderr",
     "output_type": "stream",
     "text": [
      "The ONNX file bio-bert-embedder.onnx is not a regular name used in optimum.onnxruntime, the ORTModel might not behave as expected.\n"
     ]
    }
   ],
   "source": [
    "from transformers import AutoTokenizer\n",
    "from optimum.onnxruntime import ORTModelForFeatureExtraction\n",
    "sentences = [\"This is an example sentence\", \"Each sentence is converted\"]\n",
    "\n",
    "tokenizer = AutoTokenizer.from_pretrained(bert_embedding_path.__str__( ))\n",
    "onnx_model = ORTModelForFeatureExtraction.from_pretrained(\n",
    "    bert_embedding_onnx_path)\n",
    "inputs_2 = tokenizer([sentences[0], sentences[1]],\n",
    "                     padding=\"longest\", return_tensors=\"pt\")\n"
   ]
  },
  {
   "cell_type": "code",
   "execution_count": 27,
   "metadata": {},
   "outputs": [
    {
     "data": {
      "text/plain": [
       "tensor([[0, 0, 0, 0, 0, 0, 0],\n",
       "        [0, 0, 0, 0, 0, 0, 0]])"
      ]
     },
     "execution_count": 27,
     "metadata": {},
     "output_type": "execute_result"
    }
   ],
   "source": [
    "inputs_2.pop(\"token_type_ids\")"
   ]
  },
  {
   "cell_type": "code",
   "execution_count": 28,
   "metadata": {},
   "outputs": [
    {
     "data": {
      "text/plain": [
       "{'input_ids': tensor([[    2,  1805,  1744,  1683,  6239, 21011,     3],\n",
       "        [    2,  2562, 21011,  1744, 10215,     3,     0]]), 'attention_mask': tensor([[1, 1, 1, 1, 1, 1, 1],\n",
       "        [1, 1, 1, 1, 1, 1, 0]])}"
      ]
     },
     "execution_count": 28,
     "metadata": {},
     "output_type": "execute_result"
    }
   ],
   "source": [
    "inputs_2"
   ]
  },
  {
   "cell_type": "code",
   "execution_count": 29,
   "metadata": {},
   "outputs": [],
   "source": [
    "onnx_inputs = {\n",
    "    \"input_ids\": inputs_2.get(\"input_ids\").numpy(),\n",
    "    \"attention_mask\": inputs_2.get(\"attention_mask\").numpy(),\n",
    "}\n",
    "output_two = onnx_model.model.run(None, onnx_inputs)"
   ]
  },
  {
   "cell_type": "code",
   "execution_count": 30,
   "metadata": {},
   "outputs": [],
   "source": [
    "onnx_embeddings = output_two[0]"
   ]
  },
  {
   "cell_type": "code",
   "execution_count": 31,
   "metadata": {},
   "outputs": [],
   "source": [
    "sentence_transformer_embeddings = sentence_transformer.encode(sentences)"
   ]
  },
  {
   "cell_type": "code",
   "execution_count": 32,
   "metadata": {},
   "outputs": [
    {
     "data": {
      "text/plain": [
       "(2, 1024)"
      ]
     },
     "execution_count": 32,
     "metadata": {},
     "output_type": "execute_result"
    }
   ],
   "source": [
    "sentence_transformer_embeddings.shape"
   ]
  },
  {
   "cell_type": "code",
   "execution_count": 33,
   "metadata": {},
   "outputs": [
    {
     "data": {
      "text/plain": [
       "array([-0.31763083,  0.4523321 ,  0.50023586, ...,  0.13559678,\n",
       "       -0.1584263 , -0.04599122], dtype=float32)"
      ]
     },
     "execution_count": 33,
     "metadata": {},
     "output_type": "execute_result"
    }
   ],
   "source": [
    "onnx_embeddings[0]"
   ]
  },
  {
   "cell_type": "code",
   "execution_count": 35,
   "metadata": {},
   "outputs": [
    {
     "data": {
      "text/plain": [
       "[array([[-0.31763083,  0.4523321 ,  0.50023586, ...,  0.13559678,\n",
       "         -0.1584263 , -0.04599122],\n",
       "        [ 0.02632874,  0.01244779, -0.08892691, ...,  0.13396056,\n",
       "          0.11261779,  0.08904688]], dtype=float32)]"
      ]
     },
     "execution_count": 35,
     "metadata": {},
     "output_type": "execute_result"
    }
   ],
   "source": [
    "output_two"
   ]
  },
  {
   "cell_type": "markdown",
   "metadata": {},
   "source": [
    "Note that there are some weird behaviour but those are not expected in production."
   ]
  },
  {
   "cell_type": "markdown",
   "metadata": {},
   "source": [
    "### Converting the Model to ONNX"
   ]
  },
  {
   "cell_type": "markdown",
   "metadata": {},
   "source": [
    "MOdel output successufly build as ONNX server, next step is to try it for inference."
   ]
  },
  {
   "cell_type": "markdown",
   "metadata": {},
   "source": [
    "### Making inference"
   ]
  },
  {
   "cell_type": "code",
   "execution_count": 72,
   "metadata": {},
   "outputs": [],
   "source": [
    "import numpy as np\n",
    "import tritonclient.http as httpclient"
   ]
  },
  {
   "cell_type": "markdown",
   "metadata": {},
   "source": [
    "Run the following code in command line:\n",
    "\n",
    "```\n",
    " docker run --rm -p 8000:8000 -p 8001:8001 -p 8002:8002  --shm-size 128M -v ${PWD}/models_repository/retrieval:/models  espymur/triton-onnx:dev tritonserver --model-repository=/models\n",
    "```"
   ]
  },
  {
   "cell_type": "code",
   "execution_count": 73,
   "metadata": {},
   "outputs": [],
   "source": [
    "client = httpclient.InferenceServerClient(url=\"localhost:8000\")"
   ]
  },
  {
   "cell_type": "code",
   "execution_count": 74,
   "metadata": {},
   "outputs": [],
   "source": [
    "text_input = httpclient.InferInput('TEXT', shape=[-1], datatype='BYTES')"
   ]
  },
  {
   "cell_type": "code",
   "execution_count": 75,
   "metadata": {},
   "outputs": [],
   "source": [
    "outputs = httpclient.InferRequestedOutput('3391', binary_data=False)"
   ]
  },
  {
   "cell_type": "code",
   "execution_count": 76,
   "metadata": {},
   "outputs": [],
   "source": [
    "sentences = [\"This is an example sentence\", \"Each sentence is converted\"]"
   ]
  },
  {
   "cell_type": "code",
   "execution_count": 77,
   "metadata": {},
   "outputs": [
    {
     "data": {
      "text/plain": [
       "<tritonclient.http._infer_input.InferInput at 0x11a0b5f30>"
      ]
     },
     "execution_count": 77,
     "metadata": {},
     "output_type": "execute_result"
    }
   ],
   "source": [
    "np_input_data = np.asarray([sentences], dtype=object)\n",
    "\n",
    "text = httpclient.InferInput('TEXT', [2], \"BYTES\")\n",
    "text.set_data_from_numpy(np_input_data.reshape([2]))"
   ]
  },
  {
   "cell_type": "code",
   "execution_count": 78,
   "metadata": {},
   "outputs": [],
   "source": [
    "results = client.infer(model_name=\"ensemble_model\", inputs=[text], outputs=[outputs])"
   ]
  },
  {
   "cell_type": "code",
   "execution_count": 84,
   "metadata": {},
   "outputs": [],
   "source": [
    "inference_output = results.as_numpy('3391')"
   ]
  },
  {
   "cell_type": "code",
   "execution_count": 93,
   "metadata": {},
   "outputs": [],
   "source": [
    "from pprint import pprint"
   ]
  },
  {
   "cell_type": "code",
   "execution_count": 95,
   "metadata": {},
   "outputs": [],
   "source": [
    "import sys\n",
    "import numpy\n",
    "numpy.set_printoptions(threshold=sys.maxsize)"
   ]
  },
  {
   "cell_type": "code",
   "execution_count": 96,
   "metadata": {},
   "outputs": [
    {
     "name": "stdout",
     "output_type": "stream",
     "text": [
      "array([-3.17630291e-01,  4.52332288e-01,  5.00235021e-01, -1.39160976e-01,\n",
      "       -8.63734782e-01,  5.19523844e-02, -3.89861166e-01, -3.26382667e-01,\n",
      "        2.69695193e-01,  3.99009064e-02, -8.74085963e-01, -9.36423361e-01,\n",
      "       -4.91814196e-01,  4.11416084e-01,  2.79096574e-01,  1.33403108e-01,\n",
      "        1.88339964e-01,  2.17067334e-03, -2.16698989e-01, -3.85345072e-01,\n",
      "       -1.15493231e-01,  1.32889468e-02,  2.31845707e-01, -9.09416556e-01,\n",
      "        1.73094317e-01, -1.04965223e-02, -1.98392659e-01,  2.20920086e-01,\n",
      "        2.78895617e-01, -3.55925769e-01, -3.11999470e-01,  2.83186641e-02,\n",
      "        2.86828309e-01, -1.52729258e-01,  4.92621720e-01, -2.55753905e-01,\n",
      "       -6.76481247e-01, -8.00190091e-01, -1.18102379e-01,  5.21157146e-01,\n",
      "       -6.85953647e-02,  2.57153779e-01,  4.38808024e-01,  3.05871516e-01,\n",
      "        3.03411156e-01,  4.20449913e-01,  4.21373755e-01, -3.31930846e-01,\n",
      "       -8.43307972e-02,  5.38475394e-01, -2.07485333e-01, -4.05107774e-02,\n",
      "       -4.89258140e-01, -2.40869254e-01,  8.09040666e-02, -4.17684615e-02,\n",
      "        1.95625171e-01,  7.78362334e-01,  1.72096357e-01,  3.06432486e-01,\n",
      "        3.11884612e-01,  5.73562309e-02,  1.91538170e-01,  1.10246107e-01,\n",
      "       -1.78935027e+00, -5.45193180e-02, -2.73156852e-01,  1.33627340e-01,\n",
      "        4.70342904e-01, -5.15416920e-01, -1.01519480e-01,  1.68865785e-01,\n",
      "       -4.41441536e-01,  2.11579338e-01,  8.26050878e-01,  8.85598511e-02,\n",
      "        7.63664126e-01, -1.58435807e-01, -8.25734735e-02, -1.94871295e-02,\n",
      "        2.25116402e-01, -1.57087520e-01, -1.30471930e-01, -3.65909725e-01,\n",
      "       -1.07127786e-01,  2.38588974e-01,  3.52936462e-02, -4.69794637e-03,\n",
      "       -5.37645221e-01,  5.90083480e-01, -5.51835597e-02, -8.98988619e-02,\n",
      "       -6.73261210e-02, -1.65603861e-01, -1.84848994e-01,  2.49719903e-01,\n",
      "        3.84286642e-01,  3.18863206e-02,  2.45398015e-01,  8.78409594e-02,\n",
      "        6.09504700e-01,  4.34463292e-01, -7.43612587e-01, -3.53088230e-01,\n",
      "        1.66234940e-01, -3.17794800e-01,  9.73471440e-03,  3.85971040e-01,\n",
      "       -2.85067052e-01, -4.88581993e-02,  2.68377215e-01,  2.02637147e-02,\n",
      "       -8.67922455e-02, -2.91634589e-01,  3.15201908e-01, -2.47694254e-01,\n",
      "        9.01236534e-02,  1.33928075e-01,  5.57852983e-02, -1.15908168e-01,\n",
      "        2.80512631e-01,  8.67621787e-03, -1.83791041e-01, -2.19070628e-01,\n",
      "       -4.21482831e-01,  1.32828906e-01, -9.46918949e-02,  5.20108879e-01,\n",
      "        1.33220419e-01,  3.80590916e-01,  8.44364166e-01,  9.97423708e-01,\n",
      "       -5.14427245e-01,  1.49422750e-01, -2.24394217e-01,  1.83165029e-01,\n",
      "       -2.22406894e-01, -1.80552691e-01,  2.23299190e-01, -6.68127179e-01,\n",
      "        2.08832964e-01,  5.92903197e-01,  8.09462741e-02,  5.02207391e-02,\n",
      "       -3.98753703e-01, -6.05927035e-02,  3.85463201e-02, -2.06335202e-01,\n",
      "        1.41011193e-01,  6.93685636e-02,  3.02586973e-01, -2.90361792e-01,\n",
      "        3.09581667e-01, -3.89619648e-01,  1.87067598e-01, -4.15501110e-02,\n",
      "       -3.45882446e-01,  6.04991913e-01,  6.12965487e-02, -1.45513430e-01,\n",
      "       -4.12006646e-01, -1.30426317e-01,  3.56116742e-01,  2.94377774e-01,\n",
      "       -1.61867306e-01,  3.41621429e-01, -9.79601815e-02,  2.51384288e-01,\n",
      "       -2.97110170e-01,  1.11294723e+00, -1.00534134e-01,  6.18199706e-01,\n",
      "       -2.10302193e-02, -6.33138955e-01,  2.69169778e-01, -2.37276956e-01,\n",
      "        5.32140732e-02,  1.52316958e-01, -6.44262582e-02, -3.73827428e-01,\n",
      "       -1.56185552e-01, -1.31808994e-02, -7.89706558e-02, -3.94476116e-01,\n",
      "       -2.23728865e-01,  2.84521639e-01, -8.37136924e-01,  1.00349680e-01,\n",
      "        9.24630016e-02,  3.63935709e-01,  1.31779313e-01, -3.05151373e-01,\n",
      "       -1.24897242e-01, -6.17643781e-02, -6.63303077e-01,  2.18553796e-01,\n",
      "       -1.23837672e-01,  6.98365225e-03, -3.37929308e-01,  8.93574208e-02,\n",
      "        4.35951769e-01, -4.18910295e-01,  8.54107380e-01, -7.11187348e-02,\n",
      "        3.27990025e-01, -2.76891887e-01,  3.50024074e-01,  4.78484370e-02,\n",
      "       -3.07797827e-02,  2.27022886e-01,  5.02880692e-01,  2.60846168e-01,\n",
      "        1.13076821e-01,  2.72454590e-01,  5.86019196e-02, -1.47885770e-01,\n",
      "       -2.78365076e-01, -2.26531431e-01,  5.83790019e-02,  4.42901924e-02,\n",
      "       -3.27497900e-01, -1.69602782e-01,  1.67849082e-02,  5.78518696e-02,\n",
      "       -1.98772192e-01, -1.47464395e-01, -2.37718061e-01, -2.21381430e-02,\n",
      "       -2.39541262e-01,  3.95289734e-02, -9.48437974e-02,  5.65791607e-01,\n",
      "        1.36622101e-01,  2.73093373e-01,  1.30143955e-01, -5.53232729e-01,\n",
      "        1.76991272e+00, -5.64673245e-01, -7.81291544e-01,  9.09220725e-02,\n",
      "        1.91214472e-01, -6.03044108e-02,  6.32463157e-01,  5.57179153e-01,\n",
      "       -5.97775161e-01, -3.10610235e-01, -4.73142445e-01,  4.27612998e-02,\n",
      "       -4.35317643e-02, -2.90075809e-01, -6.25725150e-01,  9.61040780e-02,\n",
      "        4.81543928e-01,  2.55117446e-01, -2.05034569e-01, -3.13014649e-02,\n",
      "        6.27080575e-02,  3.08258921e-01,  1.11978235e+01, -3.58404368e-01,\n",
      "       -9.36882272e-02, -1.37415659e-02, -4.90992129e-01, -3.04267585e-01,\n",
      "        2.54655898e-01,  3.84502560e-01,  4.46963049e-02, -3.11207533e-01,\n",
      "       -1.21151909e-01,  5.12769580e-01,  1.58232853e-01, -6.08411133e-01,\n",
      "        7.87589550e-02,  5.31413615e-01,  1.73180059e-01,  3.87593269e-01,\n",
      "        1.82664081e-01, -4.48259972e-02,  6.48448840e-02,  5.31261027e-01,\n",
      "        2.74359677e-02, -2.40450040e-01, -1.36711180e-01,  9.21365470e-02,\n",
      "       -4.87863779e-01, -1.37138486e-01,  2.14251488e-01,  8.82254615e-02,\n",
      "       -1.11418366e-02,  5.94093613e-02,  6.32634938e-01,  3.13428119e-02,\n",
      "        5.88211231e-02, -5.40636897e-01,  1.61011904e-01, -3.24463367e-01,\n",
      "       -1.68146372e-01, -2.52681244e-02, -3.61053616e-01,  5.90167701e-01,\n",
      "       -3.69006544e-01,  4.81803089e-01, -1.79286107e-01, -5.80918714e-02,\n",
      "        6.37052715e-01, -5.66631436e-01,  2.62399137e-01, -3.84342857e-02,\n",
      "        5.69896579e-01, -4.31576729e-01, -1.97676510e-01, -4.70380783e-01,\n",
      "       -7.04877913e-01, -1.57323807e-01,  7.10032135e-02,  4.59556580e-01,\n",
      "       -1.36066690e-01,  1.36304483e-01, -2.99107730e-01,  1.01612084e-01,\n",
      "        2.88554132e-01,  1.23201810e-01,  1.09762885e-01,  8.93795416e-02,\n",
      "       -7.65778348e-02,  3.13944906e-01,  1.73307076e-01,  1.59803685e-02,\n",
      "        1.95546174e+00, -7.67505407e+00,  1.42119482e-01,  2.28578776e-01,\n",
      "        1.61527738e-01,  1.91249534e-01, -3.88854407e-02,  3.41757983e-01,\n",
      "       -3.24343853e-02,  4.39457476e-01, -3.36588949e-01, -2.45689806e-02,\n",
      "       -9.46888551e-02,  4.32813793e-01,  1.68632239e-01, -5.05005956e-01,\n",
      "        3.38684231e-01, -1.89933442e-02,  7.94271767e-01, -2.27473229e-01,\n",
      "       -4.88637276e-02,  2.23339394e-01, -2.33630791e-01,  2.91296154e-01,\n",
      "        2.02592984e-01,  5.11984155e-02, -1.67546615e-01, -4.17767353e-02,\n",
      "        5.41963935e-01, -4.61121708e-01, -8.22865486e-01, -2.67849118e-01,\n",
      "        1.15886554e-01, -6.70851618e-02,  2.85663098e-01, -1.29001528e-01,\n",
      "       -1.97266594e-01, -3.14029455e-01, -3.66732329e-01, -1.78995784e-02,\n",
      "        1.98623300e-01,  4.76644456e-01,  5.35904109e-01, -1.71919748e-01,\n",
      "        6.60116822e-02, -4.35987383e-01, -6.61954358e-02,  4.79072481e-01,\n",
      "        7.32722580e-01, -4.79421020e-03, -3.07182312e-01, -5.61809003e-01,\n",
      "        7.65991092e-01,  2.91677326e-01,  1.54827461e-01,  2.14472160e-01,\n",
      "        1.33241132e-01, -4.05999832e-02, -4.16751415e-01,  2.22229555e-01,\n",
      "       -1.19519711e-01,  7.82444999e-02, -6.88002110e-01,  9.66587216e-02,\n",
      "       -3.86623621e-01, -1.37469202e-01,  9.04452026e-01,  6.04840033e-02,\n",
      "       -1.92359939e-01,  1.68291897e-01, -5.72976053e-01, -2.96422243e-01,\n",
      "       -4.40754265e-01, -5.65642834e-01, -2.61258185e-01,  6.34301156e-02,\n",
      "        5.72132409e-01,  7.97694921e-03,  5.04184723e-01,  2.75647640e-01,\n",
      "       -9.85356197e-02,  2.77276728e-02, -4.60081637e-01, -3.69816311e-02,\n",
      "        1.32978633e-01,  3.78238201e-01,  1.20368823e-01,  4.24548626e-01,\n",
      "        5.30567229e-01, -3.49889882e-02, -1.58815160e-01,  2.69652396e-01,\n",
      "        9.55769345e-02, -7.74234295e-01,  4.71016914e-01,  3.22517455e-01,\n",
      "       -7.92709291e-01,  2.40910694e-01,  5.90790689e-01,  2.37354919e-01,\n",
      "       -4.31306869e-01,  1.30241811e-01, -1.42051941e-02,  4.02064174e-01,\n",
      "        3.78811099e-02,  4.06596482e-01,  2.03189924e-01,  1.16698766e+00,\n",
      "        3.04799348e-01, -1.81331471e-01, -7.23434806e-01, -5.64575911e-01,\n",
      "       -9.92385864e-01,  7.59424921e-03,  3.10789973e-01, -1.62133679e-01,\n",
      "       -4.85482216e-01,  1.28766507e-01,  2.63427764e-01, -1.80539444e-01,\n",
      "       -3.12936366e-01,  2.52882630e-01, -5.24221122e-01,  4.36828658e-02,\n",
      "        6.59358427e-02,  1.65453166e-01, -9.95800868e-02,  3.74067932e-01,\n",
      "        1.75811842e-01, -1.97858617e-01,  3.73238504e-01,  2.56407261e-01,\n",
      "        1.73113599e-01,  7.91301206e-02, -6.80171192e-01,  2.92527616e-01,\n",
      "       -7.54468068e-02, -1.05427432e+00, -2.19238833e-01,  1.01934366e-01,\n",
      "        1.12217225e-01,  2.68569201e-01, -1.37952119e-01, -7.56811500e-02,\n",
      "        9.47362632e-02,  3.04791778e-01, -2.74599157e-02,  1.11102000e-01,\n",
      "        9.82235074e-02,  7.96928227e-01, -1.22973800e-01,  3.42340544e-02,\n",
      "        3.26415277e+00,  1.07927985e-01,  3.00720960e-01, -6.69609904e-02,\n",
      "        4.17383045e-01, -2.80503333e-01, -5.40282652e-02,  2.68047482e-01,\n",
      "        8.83789062e-01, -3.64987046e-01,  4.19294424e-02,  1.51184946e-01,\n",
      "        4.57376033e-01, -2.98669189e-01,  2.34841229e-03, -4.63352174e-01,\n",
      "       -9.28617194e-02,  2.78933376e-01,  1.53340593e-01, -9.20094252e-02,\n",
      "        1.45404071e-01,  2.71614760e-01,  4.95189518e-01,  2.81869113e-01,\n",
      "        6.58222213e-02, -1.56616956e-01,  5.48680536e-02,  1.50282368e-01,\n",
      "       -1.68792769e-01, -1.72335222e-01, -8.53635594e-02, -1.84260726e-01,\n",
      "        5.59904814e-01,  1.71490431e-01, -1.84731349e-01, -1.02061503e-01,\n",
      "       -1.95801169e-01,  7.42307752e-02,  7.52263218e-02,  5.40383458e-01,\n",
      "       -3.07336330e-01, -6.28584251e-02, -9.15454626e-02,  1.63965568e-01,\n",
      "       -6.20907605e-01, -8.62513259e-02,  3.09952527e-01, -3.21195200e-02,\n",
      "       -1.52052671e-01,  8.91900435e-02,  2.97699720e-01,  5.84293306e-02,\n",
      "       -1.25051841e-01,  1.08968630e-01,  3.50012369e-02, -2.97120571e-01,\n",
      "       -4.32823002e-01,  3.28486621e-01,  9.59917456e-02,  2.46750817e-01,\n",
      "       -7.80364931e-01,  4.61511053e-02,  5.99096656e-01, -3.94285563e-03,\n",
      "       -2.44292229e-01, -9.67877433e-02, -4.11782682e-01, -1.68182421e-02,\n",
      "       -9.01209712e-01, -8.44810486e-01,  2.82855690e-01, -1.70631781e-01,\n",
      "       -4.99116570e-01, -2.70587832e-01,  5.18427789e-03, -4.23333555e-01,\n",
      "        1.43165931e-01, -1.17402244e+00, -2.90570229e-01, -5.22742152e-01,\n",
      "       -4.90912139e-01, -3.09108406e-01,  4.62165415e-01, -1.69453576e-01,\n",
      "        1.24227740e-01, -7.89902434e-02, -2.60718055e-02, -1.39658213e-01,\n",
      "        1.48162380e-01,  3.15678388e-01,  1.81317315e-01, -1.51163235e-03,\n",
      "       -1.79621372e-02,  3.91987592e-01,  3.22360843e-01,  5.01572192e-02,\n",
      "       -5.23848906e-02,  3.06041270e-01,  2.24795908e-01,  8.72636512e-02,\n",
      "       -1.18315391e-01, -1.28911227e-01, -2.82429785e-01,  2.18664616e-01,\n",
      "       -7.85051938e-03, -3.06828648e-01, -3.30034383e-02,  1.74997464e-01,\n",
      "        1.25201434e-01,  5.14900267e-01, -3.29161197e-01,  1.57630920e-01,\n",
      "       -3.87453020e-01, -1.39986157e-01, -1.00130104e-01, -9.01141763e-02,\n",
      "       -2.01413557e-01, -1.15062371e-01,  3.64678830e-01, -1.70974001e-01,\n",
      "        4.56449687e-01, -8.01042691e-02,  2.52665132e-01, -1.34010404e-01,\n",
      "       -2.45803148e-01, -1.97438095e-02,  2.14292154e-01, -3.81721050e-01,\n",
      "       -3.85730088e-01, -2.31224090e-01, -1.92783907e-01,  3.03679943e-01,\n",
      "        4.11887430e-02,  2.29223043e-01,  3.24935704e-01,  4.86376584e-02,\n",
      "       -6.11470006e-02,  9.30417180e-02, -2.76335299e-01, -7.37581551e-01,\n",
      "       -1.25826254e-01, -1.18980013e-01, -1.35719076e-01, -1.66807741e-01,\n",
      "        4.80049282e-01,  4.72646981e-01,  4.47560474e-02,  1.50221288e-02,\n",
      "        6.17578089e-01, -7.07556248e-01,  5.84775925e-01, -3.97764713e-01,\n",
      "       -2.31482595e-01,  4.25346568e-02,  1.59226626e-01, -7.61347175e-01,\n",
      "        7.33225718e-02, -1.92877743e-02,  3.43496740e-01, -4.68755998e-02,\n",
      "       -4.24723625e-01,  5.33850268e-02, -2.81999409e-01, -4.52150673e-01,\n",
      "        1.93691850e-02, -1.27161101e-01,  5.08863091e-01,  3.09980720e-01,\n",
      "       -3.69108051e-01,  8.87769088e-02, -8.28848898e-01, -9.11919028e-02,\n",
      "       -1.94532603e-01,  9.69867706e-02, -4.20660563e-02,  2.42932051e-01,\n",
      "       -5.34643888e-01, -3.75959694e-01,  2.80290514e-01,  1.40868872e-01,\n",
      "        6.76729202e-01, -2.49688610e-01,  3.02517209e-02,  7.99641982e-02,\n",
      "       -7.51694068e-02,  3.47837387e-03, -2.58389801e-01, -1.77442983e-01,\n",
      "       -2.84260005e-01, -6.65962100e-02, -5.67604661e-01, -5.54298401e-01,\n",
      "       -2.61152219e-02, -1.74916580e-01,  4.96153384e-01, -1.17438667e-01,\n",
      "        1.98862944e-02, -1.10937357e-01, -1.56189919e-01, -2.49902710e-01,\n",
      "       -8.11311603e-03,  2.38936692e-01,  4.65173185e-01, -4.23119962e-01,\n",
      "        5.74918866e-01, -4.03681785e-01, -4.55553204e-01, -2.56690443e-01,\n",
      "        5.79121709e-02, -3.49684089e-01, -2.44187489e-01,  3.58132601e-01,\n",
      "       -2.02378497e-01,  5.43396235e-01,  1.40261739e-01,  9.17490348e-02,\n",
      "       -1.10421982e-02,  6.61505095e-04, -1.68782845e-01,  2.27561399e-01,\n",
      "       -3.91168445e-01,  1.31012574e-01, -6.63732529e-01, -1.39427960e-01,\n",
      "       -2.21739054e-01,  6.13901675e-01, -5.90014875e-01,  5.57966769e-01,\n",
      "        7.08038062e-02,  2.58866340e-01,  1.69151753e-01,  2.23970056e-01,\n",
      "        1.04343332e-01,  1.51119396e-01,  1.58748507e-01,  2.11817056e-01,\n",
      "       -1.75884008e-01,  6.38124108e-01, -1.60749942e-01,  3.54904943e-04,\n",
      "       -1.43145680e-01, -5.14106333e-01, -6.60514653e-01,  3.14788759e-01,\n",
      "        3.44127446e-01, -3.36027473e-01, -5.86714223e-02, -1.74704462e-01,\n",
      "       -1.60512075e-01,  1.22203387e-01,  1.77217536e-02, -2.94303689e-02,\n",
      "        2.16759875e-01,  7.99042583e-01, -8.70147124e-02, -8.07334185e-02,\n",
      "        5.49065650e-01, -5.84644318e-01, -4.79457438e-01,  5.05635619e-01,\n",
      "        2.48392951e-02,  6.42461702e-02,  2.57701837e-02,  4.45883662e-01,\n",
      "       -7.74372995e-01,  6.57962412e-02, -3.21744740e-01, -5.15108466e-01,\n",
      "       -2.80164331e-01, -3.05645168e-01,  5.27971566e-01,  1.24201588e-01,\n",
      "       -2.49932799e-02,  8.95153806e-02, -1.31873116e-01, -1.32119820e-01,\n",
      "        1.01303801e-01,  1.61728919e+00,  6.93045080e-01,  2.64050692e-01,\n",
      "        2.49117352e-02, -1.10687930e-02, -2.05181867e-01, -1.25124410e-01,\n",
      "       -4.14790004e-01,  3.78244580e-03,  6.02061689e-01, -4.87035438e-02,\n",
      "       -3.78316939e-01, -1.82277218e-01, -5.22441208e-01,  1.70486659e-01,\n",
      "        1.45544976e-01,  5.28292954e-01, -1.55249119e-01,  3.86560440e-01,\n",
      "       -4.85777929e-02,  1.34696975e-01,  2.96972692e-01, -1.22320481e-01,\n",
      "       -2.51086920e-01, -1.50897846e-01,  4.59250659e-01,  7.50041604e-02,\n",
      "        1.16114736e-01,  9.23569966e-03,  3.87462705e-01,  3.28528702e-01,\n",
      "       -1.82143405e-01,  1.16766118e-01,  2.16366276e-01,  4.65190947e-01,\n",
      "        3.68354172e-01,  2.88670342e-02,  9.12253022e-01, -4.29890692e-01,\n",
      "       -1.40161678e-01, -4.43904668e-01, -1.60395145e-01, -2.79858232e-01,\n",
      "        5.40242307e-02, -1.65378129e+00,  4.60094213e-02, -2.22670764e-01,\n",
      "        1.20002680e-01, -4.53613430e-01, -4.76883709e-01, -1.92951068e-01,\n",
      "       -2.14645699e-01,  2.16120213e-01,  2.75934309e-01, -2.16974989e-01,\n",
      "       -4.20468263e-02,  3.27094823e-01, -2.34396294e-01, -2.23502547e-01,\n",
      "       -4.65437442e-01,  9.68693316e-01, -3.45994413e-01, -1.21230043e-01,\n",
      "        4.03731585e-01,  1.38261691e-01,  1.37199819e-01, -4.66343351e-02,\n",
      "        1.31924227e-01, -4.42546345e-02, -1.67090699e-01,  1.04101293e-01,\n",
      "       -3.06476858e-02, -2.30012789e-01, -1.09798022e-01,  6.72096983e-02,\n",
      "        6.60800993e-01, -6.71230674e-01,  1.96893975e-01, -5.96400559e-01,\n",
      "        2.59721547e-01, -9.14179757e-02,  5.59108317e-01, -2.75096476e-01,\n",
      "        1.94197178e-01,  3.53965342e-01, -4.87488300e-01,  3.61884795e-02,\n",
      "       -5.18420637e-01, -5.56565300e-02, -3.02152395e-01,  5.34220278e-01,\n",
      "       -8.83332551e-01, -4.45173562e-01, -1.03996985e-01, -1.23146608e-01,\n",
      "        1.66823387e-01,  4.72721085e-02, -9.89054441e-02,  1.27911016e-01,\n",
      "        4.54204500e-01,  8.15472752e-02, -2.40270168e-01, -4.24994320e-01,\n",
      "        2.36397341e-01,  4.69024956e-01,  1.59310419e-02, -5.19959331e-01,\n",
      "        4.37073298e-02, -3.00109535e-01, -3.61988306e-01,  9.39534664e-01,\n",
      "       -2.52544116e-02, -4.60371345e-01,  7.96953067e-02, -3.59066308e-01,\n",
      "       -1.30852610e-01, -3.51343006e-01, -3.71354640e-01, -4.59446967e-01,\n",
      "        1.01080574e-01,  4.82945144e-01,  1.16733484e-01, -2.54626572e-02,\n",
      "       -2.15182185e-01, -1.83479279e-01, -3.17833513e-01, -7.67476201e-01,\n",
      "        9.94272307e-02,  2.35466674e-01,  2.04766750e-01, -1.89954191e-01,\n",
      "        2.68886924e-01,  1.59745291e-01, -2.23115519e-01,  3.01871747e-02,\n",
      "       -6.74693361e-02,  2.47928172e-01, -2.62387604e-01, -2.54171807e-02,\n",
      "       -5.10702431e-01,  7.42693096e-02, -2.16319300e-02,  2.65824974e-01,\n",
      "        1.60668820e-01, -9.57106948e-02, -7.87739635e-01, -1.25698879e-01,\n",
      "       -6.54962838e-01, -1.33031392e-02,  4.37670082e-01,  1.83514789e-01,\n",
      "       -1.52499944e-01, -8.89489174e-01,  2.25998551e-01,  4.50971462e-02,\n",
      "       -5.21351695e-01, -2.31067553e-01, -5.83246231e-01, -2.15580892e-02,\n",
      "        1.16947278e-01, -2.84373730e-01, -7.11083636e-02,  3.06686312e-01,\n",
      "       -3.54066081e-02,  4.85283047e-01, -4.13719654e-01,  2.48576522e-01,\n",
      "       -2.85785496e-01, -5.21959849e-02,  6.28762916e-02, -6.31090403e-02,\n",
      "       -3.86333942e-01,  3.78716528e-01, -5.13864942e-02,  1.02060997e+00,\n",
      "       -6.83990773e-03, -4.74018097e-01,  4.10362244e-01, -5.08066677e-02,\n",
      "        3.00201952e-01, -4.14956748e-01, -2.90923208e-01,  5.33890963e-01,\n",
      "        5.23210764e-01,  3.08094978e-01,  5.35730660e-01, -5.75284697e-02,\n",
      "       -5.19637346e-01,  1.54032111e-01,  4.14287716e-01,  2.85534114e-01,\n",
      "        5.56976676e-01, -1.25726592e-02, -1.53763771e-01,  3.92879426e-01,\n",
      "       -1.29316226e-01, -3.98248106e-01, -4.49758349e-03, -2.46718042e-02,\n",
      "       -1.92397490e-01, -3.32364768e-01, -6.30178571e-01, -1.58684656e-01,\n",
      "       -2.54452705e-01,  4.53737974e-01, -1.84196487e-01,  5.14161773e-02,\n",
      "       -2.22600341e-01,  3.84487689e-01,  1.89021111e-01,  7.22177684e-01,\n",
      "       -4.05436933e-01, -1.30507722e-01, -7.77959302e-02,  2.08161458e-01,\n",
      "       -2.97722012e-01,  8.24113548e-01,  2.97431707e-01, -1.52399773e-02,\n",
      "       -2.56458074e-01,  5.47127537e-02, -4.76258546e-01,  5.60744666e-02,\n",
      "        4.26537246e-01, -7.41316602e-02, -6.54635159e-03, -1.41384453e-01,\n",
      "       -3.27449553e-02,  9.48695615e-02,  3.86063993e-01, -3.51653993e-02,\n",
      "        4.12464216e-02,  1.65976509e-01, -3.80997598e-01,  1.87054202e-01,\n",
      "        7.80329645e-01,  1.26580492e-01, -1.91877842e-01,  1.74853936e-01,\n",
      "        1.41016856e-01, -4.32824850e-01,  1.56451762e-03, -2.19086614e-02,\n",
      "       -4.00044829e-01, -2.31208518e-01, -2.70192653e-01, -3.47174346e-01,\n",
      "        3.88386965e-01,  1.68540448e-01,  6.89095706e-02,  7.34947100e-02,\n",
      "        1.88667506e-01,  1.92353860e-01, -8.50656405e-02,  2.57085413e-01,\n",
      "       -3.70003521e-01, -1.03839952e-02, -6.02285899e-02, -1.93340167e-01,\n",
      "        4.02272284e-01,  7.04288304e-01,  2.13648230e-01,  3.97489071e-02,\n",
      "        7.60324448e-02,  1.35596782e-01, -1.58426046e-01, -4.59917784e-02],\n",
      "      dtype=float32)\n"
     ]
    }
   ],
   "source": [
    "pprint(inference_output[0])"
   ]
  },
  {
   "cell_type": "markdown",
   "metadata": {},
   "source": [
    "The embedding model is working as expected. Let us write the code for the API."
   ]
  },
  {
   "cell_type": "code",
   "execution_count": null,
   "metadata": {},
   "outputs": [],
   "source": []
  }
 ],
 "metadata": {
  "kernelspec": {
   "display_name": ".venv",
   "language": "python",
   "name": "python3"
  },
  "language_info": {
   "codemirror_mode": {
    "name": "ipython",
    "version": 3
   },
   "file_extension": ".py",
   "mimetype": "text/x-python",
   "name": "python",
   "nbconvert_exporter": "python",
   "pygments_lexer": "ipython3",
   "version": "3.10.4"
  }
 },
 "nbformat": 4,
 "nbformat_minor": 2
}
