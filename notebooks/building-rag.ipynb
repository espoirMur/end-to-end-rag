{
 "cells": [
  {
   "cell_type": "markdown",
   "metadata": {},
   "source": [
    "#### Building the Retrieval Augmented Generation (RAG) model."
   ]
  },
  {
   "cell_type": "markdown",
   "metadata": {},
   "source": [
    "In this notebook, we will describe the whole process to build the RAG model using open source language.\n",
    "\n",
    "We will start by describing the high level overview of the system and then we will implement each component and set them up for production."
   ]
  },
  {
   "cell_type": "markdown",
   "metadata": {},
   "source": [
    "![Rag system highlevel](./images/RAG-high-level.jpeg)\n",
    "\n",
    "Rag High level([source:](https://blog.griddynamics.com/retrieval-augmented-generation-llm/))"
   ]
  },
  {
   "cell_type": "markdown",
   "metadata": {},
   "source": [
    "A RAG system is a Information Retrieval and Question Answering system that uses Natural Language Processing (Or Generative AI for those who cares about buzz words), to answers users question using a knowledge base.\n",
    "The main benefits of a RAG system is the fact that you can use a personal knowledge base to answer your question, this limit hallucination in the system and more importanly helps the system to answers the question using a knowledge base from a specific domain. [Add More information about RAG systems here.]"
   ]
  },
  {
   "cell_type": "markdown",
   "metadata": {},
   "source": [
    "### How the RAG System works?"
   ]
  },
  {
   "cell_type": "markdown",
   "metadata": {},
   "source": [
    "A canonical RAG Pipeline is build with the components illustrated in the figure below.\n",
    "![RAG system](./images/RAG-process-flow-scheme.jpg)"
   ]
  },
  {
   "cell_type": "markdown",
   "metadata": {},
   "source": [
    "Those 9 steps in the above figure can be group in 3 major steps.\n",
    "\n",
    "The knowledge encoding steps, the Retrieval Step and Generation step."
   ]
  },
  {
   "cell_type": "markdown",
   "metadata": {},
   "source": [
    "#### The knowledge Encoding\n",
    "\n",
    "We start with a corpus of our documents which can be a bunch of pdf document contains information about the question, or just internal website with the documentation. We split the document into manageable chunk which can be paragraphs in the documents and learn the embeddings vectors of those documents and save them in a vector database.\n",
    "That part can be summarize with the steps 1, 2, 3, and 4 in the picture {}."
   ]
  },
  {
   "cell_type": "markdown",
   "metadata": {},
   "source": [
    "#### Retrieval \n",
    "\n",
    "This step retrieve the document similar to question from a document database. Given a question, we encode it and learn it embeddings and then we query the vector database using a similarity search approach to retrieve relevant context given a document. This part is done in the step 5, 6 in the picture."
   ]
  },
  {
   "cell_type": "markdown",
   "metadata": {},
   "source": [
    "#### Generation step\n",
    "\n",
    "In this step we take the question the context retrieve and feed that into the language model to generate the answer to the question given the context."
   ]
  },
  {
   "cell_type": "markdown",
   "metadata": {},
   "source": [
    "Enough talking let us build the system."
   ]
  },
  {
   "cell_type": "markdown",
   "metadata": {},
   "source": [
    "#### The retrieval."
   ]
  },
  {
   "cell_type": "markdown",
   "metadata": {},
   "source": [
    "The retrieval system has 3 main components, the language model, the apis and the database."
   ]
  },
  {
   "cell_type": "code",
   "execution_count": 1,
   "metadata": {},
   "outputs": [
    {
     "name": "stderr",
     "output_type": "stream",
     "text": [
      "/Users/esp.py/Projects/Personal/end-to-end-rag/.venv/lib/python3.10/site-packages/tqdm/auto.py:21: TqdmWarning: IProgress not found. Please update jupyter and ipywidgets. See https://ipywidgets.readthedocs.io/en/stable/user_install.html\n",
      "  from .autonotebook import tqdm as notebook_tqdm\n"
     ]
    }
   ],
   "source": [
    "from sentence_transformers import SentenceTransformer"
   ]
  },
  {
   "cell_type": "code",
   "execution_count": 2,
   "metadata": {},
   "outputs": [],
   "source": [
    "embedding_model_id = 'michiyasunaga/BioLinkBERT-large'"
   ]
  },
  {
   "cell_type": "code",
   "execution_count": 3,
   "metadata": {},
   "outputs": [],
   "source": [
    "from pathlib import Path"
   ]
  },
  {
   "cell_type": "code",
   "execution_count": 4,
   "metadata": {},
   "outputs": [],
   "source": [
    "model_cache = Path().cwd().joinpath(\"models\")"
   ]
  },
  {
   "cell_type": "code",
   "execution_count": 5,
   "metadata": {},
   "outputs": [
    {
     "name": "stderr",
     "output_type": "stream",
     "text": [
      "No sentence-transformers model found with name /Users/esp.py/Projects/Personal/end-to-end-rag/models/michiyasunaga_BioLinkBERT-large. Creating a new one with MEAN pooling.\n"
     ]
    }
   ],
   "source": [
    "sentence_transformer = SentenceTransformer(embedding_model_id, cache_folder=model_cache)"
   ]
  },
  {
   "cell_type": "code",
   "execution_count": 6,
   "metadata": {},
   "outputs": [],
   "source": [
    "from src.retriever.embedding_model import SBertOnnxConfig, CustomEmbeddingBertModel"
   ]
  },
  {
   "cell_type": "code",
   "execution_count": 7,
   "metadata": {},
   "outputs": [],
   "source": [
    "from transformers import AutoTokenizer"
   ]
  },
  {
   "cell_type": "code",
   "execution_count": 8,
   "metadata": {},
   "outputs": [],
   "source": [
    "tokenizer = AutoTokenizer.from_pretrained(embedding_model_id)"
   ]
  },
  {
   "cell_type": "code",
   "execution_count": 9,
   "metadata": {},
   "outputs": [],
   "source": [
    "bert_embedding_path = model_cache.joinpath(embedding_model_id.replace(\"/\", \"_\"))"
   ]
  },
  {
   "cell_type": "code",
   "execution_count": 10,
   "metadata": {},
   "outputs": [
    {
     "data": {
      "text/plain": [
       "PosixPath('/Users/esp.py/Projects/Personal/end-to-end-rag/models/michiyasunaga_BioLinkBERT-large')"
      ]
     },
     "execution_count": 10,
     "metadata": {},
     "output_type": "execute_result"
    }
   ],
   "source": [
    "bert_embedding_path"
   ]
  },
  {
   "cell_type": "code",
   "execution_count": 11,
   "metadata": {},
   "outputs": [],
   "source": [
    "base_model = CustomEmbeddingBertModel.from_pretrained(bert_embedding_path)"
   ]
  },
  {
   "cell_type": "code",
   "execution_count": 12,
   "metadata": {},
   "outputs": [],
   "source": [
    "bert_embedding_onnx_path = bert_embedding_path.parent.joinpath(\"onnx\")"
   ]
  },
  {
   "cell_type": "code",
   "execution_count": 13,
   "metadata": {},
   "outputs": [],
   "source": [
    "bert_embedding_onnx_path.mkdir(exist_ok=True, parents=True)"
   ]
  },
  {
   "cell_type": "code",
   "execution_count": 14,
   "metadata": {},
   "outputs": [],
   "source": [
    "onnx_model_config =SBertOnnxConfig.from_model_config(base_model.config)"
   ]
  },
  {
   "cell_type": "code",
   "execution_count": 15,
   "metadata": {},
   "outputs": [],
   "source": [
    "from torch.onnx import export"
   ]
  },
  {
   "cell_type": "code",
   "execution_count": null,
   "metadata": {},
   "outputs": [],
   "source": []
  },
  {
   "cell_type": "code",
   "execution_count": 16,
   "metadata": {},
   "outputs": [],
   "source": [
    "test_input = f\"question: Is cytokeratin immunoreactivity useful in the diagnosis of short-segment Barrett's oesophagus in Korea? context: Cytokeratin 7/20 staining has been reported to be helpful in diagnosing Barrett's oesophagus and gastric intestinal metaplasia. However, this is still a matter of some controversy. To determine the diagnostic usefulness of cytokeratin 7/20 immunostaining for short-segment Barrett's oesophagus in Korea. In patients with Barrett's oesophagus, diagnosed endoscopically, at least two biopsy specimens were taken from just below the squamocolumnar junction. If goblet cells were found histologically with alcian blue staining, cytokeratin 7/20 immunohistochemical stains were performed. Intestinal metaplasia at the cardia was diagnosed whenever biopsy specimens taken from within 2 cm below the oesophagogastric junction revealed intestinal metaplasia. Barrett's cytokeratin 7/20 pattern was defined as cytokeratin 20 positivity in only the superficial gland, combined with cytokeratin 7 positivity in both the superficial and deep glands. Barrett's cytokeratin 7/20 pattern was observed in 28 out of 36 cases (77.8%) with short-segment Barrett's oesophagus, 11 out of 28 cases (39.3%) with intestinal metaplasia at the cardia, and nine out of 61 cases (14.8%) with gastric intestinal metaplasia. The sensitivity and specificity of Barrett's cytokeratin 7/20 pattern were 77.8 and 77.5%, respectively. answer: Barrett's cytokeratin 7/20 pattern can be a useful marker for the diagnosis of short-segment Barrett's oesophagus, although the false positive or false negative rate is approximately 25%.\"\n",
    "encoded_input = tokenizer([test_input],\n",
    "                          return_tensors='pt',\n",
    "                          max_length=512,\n",
    "                          truncation=True)"
   ]
  },
  {
   "cell_type": "code",
   "execution_count": 17,
   "metadata": {},
   "outputs": [],
   "source": [
    "_ = encoded_input.pop(\"token_type_ids\")"
   ]
  },
  {
   "cell_type": "code",
   "execution_count": 18,
   "metadata": {},
   "outputs": [],
   "source": [
    "model_output = base_model(**encoded_input)"
   ]
  },
  {
   "cell_type": "code",
   "execution_count": 19,
   "metadata": {},
   "outputs": [],
   "source": [
    "custom_model_embeddings = model_output.last_hidden_state.detach().numpy().reshape(-1)"
   ]
  },
  {
   "cell_type": "code",
   "execution_count": 20,
   "metadata": {},
   "outputs": [
    {
     "name": "stdout",
     "output_type": "stream",
     "text": [
      "huggingface/tokenizers: The current process just got forked, after parallelism has already been used. Disabling parallelism to avoid deadlocks...\n",
      "To disable this warning, you can either:\n",
      "\t- Avoid using `tokenizers` before the fork if possible\n",
      "\t- Explicitly set the environment variable TOKENIZERS_PARALLELISM=(true | false)\n"
     ]
    }
   ],
   "source": [
    "learned_embeddings = sentence_transformer.encode(test_input)"
   ]
  },
  {
   "cell_type": "code",
   "execution_count": 21,
   "metadata": {},
   "outputs": [],
   "source": [
    "from numpy.testing import assert_array_almost_equal"
   ]
  },
  {
   "cell_type": "code",
   "execution_count": 22,
   "metadata": {},
   "outputs": [],
   "source": [
    "assert_array_almost_equal(custom_model_embeddings, learned_embeddings, decimal=5)"
   ]
  },
  {
   "cell_type": "code",
   "execution_count": 23,
   "metadata": {},
   "outputs": [],
   "source": [
    "from torch.onnx import export as torch_onnx_export"
   ]
  },
  {
   "cell_type": "code",
   "execution_count": 24,
   "metadata": {},
   "outputs": [
    {
     "name": "stderr",
     "output_type": "stream",
     "text": [
      "/Users/esp.py/Projects/Personal/end-to-end-rag/.venv/lib/python3.10/site-packages/torch/onnx/utils.py:2095: UserWarning: Provided key last_hidden_state for dynamic axes is not a valid input/output name\n",
      "  warnings.warn(\n"
     ]
    }
   ],
   "source": [
    "torch_onnx_export(\n",
    "    base_model,\n",
    "    tuple(encoded_input.values()),\n",
    "    f=bert_embedding_onnx_path.joinpath('bio-bert-embedder.onnx'),\n",
    "    input_names=['input_ids', 'attention_mask'],\n",
    "    dynamic_axes={'input_ids': {0: 'batch_size', 1: 'sequence'},\n",
    "                  'attention_mask': {0: 'batch_size', 1: 'sequence'},\n",
    "                  'last_hidden_state': {0: 'batch_size', 1: 'sequence'}},\n",
    "    do_constant_folding=True,\n",
    "    opset_version=13,\n",
    ")"
   ]
  },
  {
   "cell_type": "code",
   "execution_count": 25,
   "metadata": {},
   "outputs": [],
   "source": [
    "base_model.config.save_pretrained(bert_embedding_onnx_path)"
   ]
  },
  {
   "cell_type": "markdown",
   "metadata": {},
   "source": [
    "### Models Comparison\n",
    "\n",
    "Let us now compare the two models."
   ]
  },
  {
   "cell_type": "code",
   "execution_count": null,
   "metadata": {},
   "outputs": [],
   "source": []
  },
  {
   "cell_type": "code",
   "execution_count": 26,
   "metadata": {},
   "outputs": [
    {
     "name": "stderr",
     "output_type": "stream",
     "text": [
      "The ONNX file bio-bert-embedder.onnx is not a regular name used in optimum.onnxruntime, the ORTModel might not behave as expected.\n"
     ]
    }
   ],
   "source": [
    "from transformers import AutoTokenizer\n",
    "from optimum.onnxruntime import ORTModelForFeatureExtraction\n",
    "sentences = [\"This is an example sentence\", \"Each sentence is converted\"]\n",
    "\n",
    "tokenizer = AutoTokenizer.from_pretrained(bert_embedding_path.__str__( ))\n",
    "onnx_model = ORTModelForFeatureExtraction.from_pretrained(\n",
    "    bert_embedding_onnx_path)\n",
    "inputs_2 = tokenizer([sentences[0], sentences[1]],\n",
    "                     padding=\"longest\", return_tensors=\"pt\")\n"
   ]
  },
  {
   "cell_type": "code",
   "execution_count": 27,
   "metadata": {},
   "outputs": [
    {
     "data": {
      "text/plain": [
       "tensor([[0, 0, 0, 0, 0, 0, 0],\n",
       "        [0, 0, 0, 0, 0, 0, 0]])"
      ]
     },
     "execution_count": 27,
     "metadata": {},
     "output_type": "execute_result"
    }
   ],
   "source": [
    "inputs_2.pop(\"token_type_ids\")"
   ]
  },
  {
   "cell_type": "code",
   "execution_count": 28,
   "metadata": {},
   "outputs": [
    {
     "data": {
      "text/plain": [
       "{'input_ids': tensor([[    2,  1805,  1744,  1683,  6239, 21011,     3],\n",
       "        [    2,  2562, 21011,  1744, 10215,     3,     0]]), 'attention_mask': tensor([[1, 1, 1, 1, 1, 1, 1],\n",
       "        [1, 1, 1, 1, 1, 1, 0]])}"
      ]
     },
     "execution_count": 28,
     "metadata": {},
     "output_type": "execute_result"
    }
   ],
   "source": [
    "inputs_2"
   ]
  },
  {
   "cell_type": "code",
   "execution_count": 29,
   "metadata": {},
   "outputs": [],
   "source": [
    "onnx_inputs = {\n",
    "    \"input_ids\": inputs_2.get(\"input_ids\").numpy(),\n",
    "    \"attention_mask\": inputs_2.get(\"attention_mask\").numpy(),\n",
    "}\n",
    "output_two = onnx_model.model.run(None, onnx_inputs)"
   ]
  },
  {
   "cell_type": "code",
   "execution_count": 30,
   "metadata": {},
   "outputs": [],
   "source": [
    "onnx_embeddings = output_two[0]"
   ]
  },
  {
   "cell_type": "code",
   "execution_count": 31,
   "metadata": {},
   "outputs": [],
   "source": [
    "sentence_transformer_embeddings = sentence_transformer.encode(sentences)"
   ]
  },
  {
   "cell_type": "code",
   "execution_count": 32,
   "metadata": {},
   "outputs": [
    {
     "data": {
      "text/plain": [
       "(2, 1024)"
      ]
     },
     "execution_count": 32,
     "metadata": {},
     "output_type": "execute_result"
    }
   ],
   "source": [
    "sentence_transformer_embeddings.shape"
   ]
  },
  {
   "cell_type": "code",
   "execution_count": 33,
   "metadata": {},
   "outputs": [
    {
     "data": {
      "text/plain": [
       "array([-0.31763083,  0.4523321 ,  0.50023586, ...,  0.13559678,\n",
       "       -0.1584263 , -0.04599122], dtype=float32)"
      ]
     },
     "execution_count": 33,
     "metadata": {},
     "output_type": "execute_result"
    }
   ],
   "source": [
    "onnx_embeddings[0]"
   ]
  },
  {
   "cell_type": "code",
   "execution_count": 35,
   "metadata": {},
   "outputs": [
    {
     "data": {
      "text/plain": [
       "[array([[-0.31763083,  0.4523321 ,  0.50023586, ...,  0.13559678,\n",
       "         -0.1584263 , -0.04599122],\n",
       "        [ 0.02632874,  0.01244779, -0.08892691, ...,  0.13396056,\n",
       "          0.11261779,  0.08904688]], dtype=float32)]"
      ]
     },
     "execution_count": 35,
     "metadata": {},
     "output_type": "execute_result"
    }
   ],
   "source": [
    "output_two"
   ]
  },
  {
   "cell_type": "markdown",
   "metadata": {},
   "source": [
    "Note that there are some weird behaviour but those are not expected in production."
   ]
  },
  {
   "cell_type": "markdown",
   "metadata": {},
   "source": [
    "### Converting the Model to ONNX"
   ]
  },
  {
   "cell_type": "markdown",
   "metadata": {},
   "source": [
    "MOdel output successufly build as ONNX server, next step is to try it for inference."
   ]
  },
  {
   "cell_type": "markdown",
   "metadata": {},
   "source": [
    "### Making inference"
   ]
  },
  {
   "cell_type": "code",
   "execution_count": 1,
   "metadata": {},
   "outputs": [],
   "source": [
    "import numpy as np\n",
    "import tritonclient.http as httpclient\n",
    "import tritonclient.grpc as grpcclient"
   ]
  },
  {
   "cell_type": "markdown",
   "metadata": {},
   "source": [
    "\n",
    "build the image with \n",
    "`docker build -t espymur/triton-onnx:dev  -f Dockerfile .`"
   ]
  },
  {
   "cell_type": "markdown",
   "metadata": {},
   "source": [
    "Run the following code in command line:\n",
    "\n",
    "```\n",
    " docker run --rm -p 8000:8000 -p 8001:8001 -p 8002:8002  --shm-size 128M -v ${PWD}/models_repository/retrieval:/models  espymur/triton-onnx:dev tritonserver --model-repository=/models\n",
    "```"
   ]
  },
  {
   "cell_type": "code",
   "execution_count": 13,
   "metadata": {},
   "outputs": [],
   "source": [
    "url = \"127.0.0.1:61795\""
   ]
  },
  {
   "cell_type": "code",
   "execution_count": 14,
   "metadata": {},
   "outputs": [],
   "source": [
    "http_client = httpclient.InferenceServerClient(url=url,\n",
    "                                           verbose=True, \n",
    "    network_timeout=600.0,  # this works when inference took too long (inference with cpu)\n",
    "    connection_timeout=600.0 )"
   ]
  },
  {
   "cell_type": "code",
   "execution_count": 15,
   "metadata": {},
   "outputs": [],
   "source": [
    "grpc_client = grpcclient.InferenceServerClient(url=url)"
   ]
  },
  {
   "cell_type": "code",
   "execution_count": null,
   "metadata": {},
   "outputs": [],
   "source": []
  },
  {
   "cell_type": "code",
   "execution_count": 16,
   "metadata": {},
   "outputs": [],
   "source": [
    "text_input = httpclient.InferInput('TEXT', shape=[-1], datatype='BYTES')"
   ]
  },
  {
   "cell_type": "code",
   "execution_count": 17,
   "metadata": {},
   "outputs": [],
   "source": [
    "outputs = httpclient.InferRequestedOutput('sequences_text', binary_data=False)"
   ]
  },
  {
   "cell_type": "code",
   "execution_count": 18,
   "metadata": {},
   "outputs": [],
   "source": [
    "embedding_output = httpclient.InferRequestedOutput(\"3391\", binary_data=False)"
   ]
  },
  {
   "cell_type": "code",
   "execution_count": 19,
   "metadata": {},
   "outputs": [],
   "source": [
    "sentences = [\"what cause covid\"]"
   ]
  },
  {
   "cell_type": "code",
   "execution_count": 20,
   "metadata": {},
   "outputs": [
    {
     "data": {
      "text/plain": [
       "<tritonclient.http._infer_input.InferInput at 0x117ec03a0>"
      ]
     },
     "execution_count": 20,
     "metadata": {},
     "output_type": "execute_result"
    }
   ],
   "source": [
    "np_input_data = np.asarray([sentences], dtype=object)\n",
    "\n",
    "text = httpclient.InferInput('TEXT', [1], \"BYTES\")\n",
    "text.set_data_from_numpy(np_input_data.reshape([1]))"
   ]
  },
  {
   "cell_type": "code",
   "execution_count": 21,
   "metadata": {},
   "outputs": [],
   "source": [
    "minutes = 2\n",
    "microseconds = minutes * 60 * 1000000\n"
   ]
  },
  {
   "cell_type": "code",
   "execution_count": 23,
   "metadata": {},
   "outputs": [
    {
     "name": "stdout",
     "output_type": "stream",
     "text": [
      "POST /v2/models/ensemble_model/infer, headers {'Inference-Header-Content-Length': 159}\n",
      "b'{\"inputs\":[{\"name\":\"TEXT\",\"shape\":[1],\"datatype\":\"BYTES\",\"parameters\":{\"binary_data_size\":20}}],\"outputs\":[{\"name\":\"3391\",\"parameters\":{\"binary_data\":false}}]}\\x10\\x00\\x00\\x00what cause covid'\n",
      "<HTTPSocketPoolResponse status=200 headers={'content-type': 'application/json', 'content-length': '20708'}>\n",
      "bytearray(b'{\"model_name\":\"ensemble_model\",\"model_version\":\"1\",\"parameters\":{\"sequence_id\":0,\"sequence_start\":false,\"sequence_end\":false},\"outputs\":[{\"name\":\"3391\",\"datatype\":\"FP32\",\"shape\":[1,1024],\"data\":[-0.14822173118591309,0.46540918946266177,0.450146347284317,-0.7445690035820007,-0.7881011366844177,-0.5952198505401611,-0.639613687992096,-1.0774881839752198,0.5583779215812683,0.013079670257866383,-0.7222588658332825,-0.25486811995506289,-0.2990931570529938,0.14621901512145997,-0.05592189356684685,-0.08723326772451401,0.3395717144012451,0.14344270527362824,-0.13915687799453736,-0.829099714756012,-0.056105781346559528,-0.2057889848947525,-0.4759937822818756,-0.9562172889709473,0.720055103302002,-0.394876092672348,-0.35563763976097109,0.2322426289319992,0.033699266612529758,0.11113867163658142,-0.06229474022984505,-0.22881726920604707,-0.04672731086611748,-0.08975004404783249,0.049758970737457278,-0.10831701755523682,-0.581814706325531,-0.9821394085884094,0.3476913273334503,0.640644371509552,0.1792610138654709,0.44365859031677248,0.09037212282419205,0.11591555923223496,0.29689690470695498,-0.37762686610221865,-0.0993441566824913,-0.3119105398654938,-0.05620898678898811,0.42792606353759768,-0.07873530685901642,-0.031091934069991113,-0.27042701840400698,-0.17711816728115083,0.5573540925979614,0.15954738855361939,0.23536920547485352,0.9060115814208984,-0.10679197311401367,0.1591026335954666,0.3693358600139618,-0.5058901309967041,0.32483646273612978,-0.46158623695373537,-2.963613748550415,-0.21305091679096223,-0.3835446536540985,-0.012806425802409649,0.8168042302131653,-0.17609089612960816,-0.09363584965467453,-0.03116948902606964,-0.12849166989326478,0.13270245492458344,0.1622360497713089,0.6148664951324463,0.49407878518104555,-0.2812025547027588,-0.34422028064727785,0.4295075237751007,0.44960713386535647,0.2390257567167282,-0.18594872951507569,-0.27623245120048525,0.007274796720594168,0.6501985192298889,-0.4181623160839081,0.6360843777656555,-0.3519695997238159,0.1644209623336792,-0.01982894539833069,-0.041178617626428607,0.0757560208439827,-0.30275624990463259,-0.3515346944332123,-0.4900343120098114,-0.05907858908176422,-0.16611026227474214,0.3644111156463623,0.44258514046669009,0.3974667489528656,0.9816997647285461,-0.5213950276374817,-0.43949460983276369,0.2687993049621582,-0.21789348125457765,0.1701684445142746,0.09397560358047486,-0.5245581865310669,0.5920769572257996,0.04911630228161812,0.23545579612255097,-0.11500831693410874,0.47370466589927676,0.6596880555152893,0.10784924775362015,0.03038225881755352,0.560127317905426,-0.18033301830291749,-0.5791493654251099,-0.004447564482688904,-0.2582913041114807,0.08273172378540039,0.11411251872777939,-0.08010014146566391,0.5261732339859009,0.03181523084640503,0.8365778923034668,0.13298830389976502,0.4312049448490143,0.3895655572414398,1.0117870569229127,-0.11367201805114746,0.16030769050121308,-0.42753472924232485,-0.06650587916374207,0.38138413429260256,-0.29260140657424929,0.07517410814762116,-0.8392425179481506,0.20358087122440339,0.8245453238487244,-0.08798161894083023,-0.13835003972053529,-0.6553583741188049,0.11345750093460083,0.061560045927762988,-0.027059197425842286,0.5200074315071106,0.052135366946458819,0.32962027192115786,0.020076582208275796,-0.046027228236198428,-0.30018118023872378,0.5241886973381043,0.39011725783348086,-0.0705895647406578,0.104393370449543,0.39614129066467287,0.23941826820373536,0.021236538887023927,-0.5654312968254089,-0.28558021783828738,-0.05130567029118538,-0.4431758224964142,0.26738741993904116,0.47157689929008486,0.5329107642173767,-0.6467301249504089,0.6351628303527832,-0.31157103180885317,0.2671917974948883,-0.33664485812187197,0.026094764471054078,0.4025587737560272,-0.14828509092330934,0.5772727131843567,-0.13266585767269135,-0.28865811228752139,-0.5731974244117737,-0.3283572793006897,-0.17426548898220063,-0.4334019124507904,0.047008808702230456,0.07039808481931687,0.6207637190818787,-0.8045478463172913,-0.14188776910305024,0.2610548138618469,0.1411314755678177,0.4441540241241455,-0.10287872701883316,0.2817937433719635,-0.4515702426433563,-1.0148377418518067,-0.07986504584550858,-0.7966949939727783,-0.03174998238682747,0.41981181502342226,0.31635889410972597,0.4936845004558563,-0.42120233178138735,0.7475948929786682,0.021805772557854654,-0.038145773112773898,-0.3630582392215729,0.13741435110569,0.033315736800432208,0.04954050853848457,0.205876424908638,0.8976704478263855,-0.024470871314406396,0.2706455886363983,-0.36353108286857607,0.1765114814043045,0.07628902792930603,0.10961446911096573,-0.010134044103324414,-0.23133496940135957,0.17454002797603608,0.013592720031738282,-0.36734631657600405,0.06190202757716179,-0.4142155647277832,-0.3797548711299896,0.07696681469678879,-0.24215500056743623,-0.5178234577178955,-0.4300448000431061,0.33823361992836,-0.7508108019828796,0.6100294589996338,-0.0008109224145300686,0.02603529393672943,0.15579740703105927,-0.16514210402965547,1.65380859375,-0.18820352852344514,0.038120582699775699,-0.016962042078375818,0.7557873129844666,0.0035629619378596546,0.5720821022987366,-0.06513625383377075,-0.6657439470291138,-0.3791818618774414,-0.25740376114845278,0.4079621732234955,-0.2771773040294647,-0.17230981588363648,-0.614567220211029,0.011683493852615357,0.3015412986278534,0.03931892290711403,0.23081831634044648,0.5234813094139099,0.08366890996694565,0.29300370812416079,7.887174129486084,-0.4061967432498932,0.04612809419631958,-0.24854063987731934,-0.562315046787262,-0.17061547935009004,0.757662296295166,0.7304637432098389,0.08895951509475708,-0.17038364708423615,-0.33336707949638369,0.4680110514163971,0.16736741364002229,-0.07897873967885971,0.11616883426904679,0.9773180484771729,0.396849662065506,-0.0750456377863884,0.2337234765291214,-0.22364236414432527,-0.15549708902835847,0.1408519744873047,0.12367946654558182,0.24985069036483766,0.3275710642337799,0.0945330262184143,-0.45010876655578616,-0.27060946822166445,-0.03748241439461708,-0.43432679772377016,0.1877424120903015,0.1697717159986496,0.4322202205657959,0.21495865285396577,0.0810525044798851,0.21080301702022553,0.19217853248119355,-0.33658185601234438,0.44441553950309756,-0.17763054370880128,-0.2443910837173462,0.46781477332115176,-0.6696138978004456,-0.1543102115392685,-0.5465835332870483,-0.32968810200691225,0.6600434184074402,-0.5997816920280457,-0.3107883036136627,-0.11255737394094467,0.3315756618976593,-0.32821696996688845,-0.11831402033567429,-0.5875996351242065,0.24489854276180268,0.20326216518878938,-0.037287723273038867,0.3795372247695923,-0.3664083480834961,-0.28813156485557558,-0.7422606348991394,0.02667917311191559,0.13497190177440644,-0.22488969564437867,-0.16314925253391267,0.2927798926830292,0.3679378032684326,0.2812136709690094,0.2973347306251526,-0.020793354138731958,2.390284538269043,-5.178637981414795,-0.6039616465568543,0.1462029218673706,-0.04719303920865059,0.3839295208454132,-0.050152212381362918,0.11921250075101853,0.11672096699476242,0.49742141366004946,-0.2466326355934143,-0.32016000151634219,0.549543023109436,0.03286929428577423,-0.1510680466890335,-0.643578290939331,0.8600841164588928,0.28868961334228518,0.5909215807914734,0.0030414722859859468,-0.384988397359848,-0.12909622490406037,-0.47320565581321719,0.2645719349384308,0.06566061824560166,0.10266395658254624,-0.5253029465675354,-0.14003996551036836,0.5749000310897827,-0.04371749237179756,-0.4583102762699127,-0.4303949773311615,0.7039636969566345,0.15152332186698914,-0.18337009847164155,-0.25622794032096865,-0.08691280335187912,-0.27403268218040469,-0.6752815842628479,-0.2755468785762787,0.5868784189224243,0.18069098889827729,-0.39722874760627749,-0.28157851099967959,0.29903823137283327,-0.2132384032011032,0.18042077124118806,0.13195715844631196,0.3897509276866913,0.16139835119247437,-0.3974878787994385,-0.07527562975883484,0.22897003591060639,0.08831310272216797,0.5821530222892761,0.13826651871204377,-0.2954842746257782,0.5801321268081665,-0.1379728466272354,0.450227290391922,-0.27968868613243105,0.08706897497177124,-0.5255414843559265,-0.27737993001937868,-0.5730602741241455,0.10922645777463913,1.0500482320785523,-0.0010702809086069465,-0.516745388507843,0.6313604712486267,-0.840861976146698,-0.11868250370025635,0.11379163712263107,0.09506668895483017,-0.6768362522125244,0.10056445002555847,-0.20890551805496217,0.0008297276799567044,0.2820596992969513,-0.02392801083624363,-0.6626480221748352,0.09190792590379715,-0.23928655683994294,0.054584186524152759,0.3881363868713379,0.36304032802581789,-0.2777136564254761,0.3561999797821045,0.6268017292022705,-0.18313167989253999,0.2731919288635254,0.1058526411652565,0.3669440746307373,-0.8732497096061707,0.49440014362335207,0.11592480540275574,-0.39001718163490298,0.3262730538845062,0.9164900779724121,-0.01918942667543888,0.10345864295959473,0.06743244081735611,-0.5058839917182922,0.15557876229286195,0.06338564306497574,0.01922687701880932,-0.17030693590641023,1.3010597229003907,0.4538494348526001,-0.5678626298904419,-1.2102484703063965,-0.4222588837146759,-0.8395421504974365,-0.4888863265514374,0.33561035990715029,-0.4622695744037628,-0.7378451228141785,0.21359628438949586,0.018506234511733056,0.24618102610111237,-0.8014737963676453,0.3099852502346039,-0.36032605171203616,-0.21659314632415772,-0.21529972553253175,-0.5422624945640564,0.5840737223625183,0.3217858076095581,0.051667720079422,0.24119699001312257,0.15376760065555573,0.6853546500205994,0.04477385804057121,-0.06277137994766236,-0.45077359676361086,0.5604873299598694,0.2797197997570038,-1.0544898509979249,-0.7203304171562195,0.055385757237672809,0.08733498305082321,0.4999387562274933,0.5514916181564331,-0.5107503533363342,-0.06724700331687927,0.130723237991333,-0.06750413030385971,0.2470165342092514,-0.006666373461484909,0.3536960184574127,0.5676773190498352,0.10622387379407883,4.83944845199585,0.37889888882637026,0.15893884003162385,0.3021054267883301,0.4274327754974365,-0.6522716283798218,-0.23593394458293916,0.10735917091369629,1.2042359113693238,-0.042671721428632739,0.048668891191482547,0.4098767936229706,0.403523325920105,-0.16786278784275056,-0.11016499251127243,-0.5028558373451233,-0.41185590624809267,-0.196872279047966,0.06425110250711441,0.22364114224910737,-0.017598187550902368,-0.0443902313709259,0.6821277737617493,0.2366822361946106,-0.5158494710922241,0.09279147535562515,0.21003185212612153,-0.26219162344932558,0.13462290167808534,-0.05436670780181885,0.19603438675403596,0.035954516381025317,0.7604120373725891,0.15177899599075318,0.14593346416950227,-0.11940088123083115,0.04422226548194885,-0.12114565819501877,0.4031458795070648,0.19475995004177094,-0.233261838555336,0.13891498744487763,0.5415820479393005,0.4227725565433502,-0.3597447872161865,-0.635957658290863,-0.3123641312122345,0.1109732985496521,-0.09100674837827683,-0.3104591965675354,0.20770935714244843,0.7731215357780457,-0.08522232621908188,-0.36471131443977358,-0.5135154128074646,0.2630822956562042,-0.13624508678913117,-0.0014143437147140504,-0.28874120116233828,0.2560136914253235,-0.6108259558677673,-0.203217014670372,0.6982434391975403,-0.01666177064180374,-0.3005346357822418,0.15868836641311646,0.2875956594944,-0.395531564950943,-0.3934802711009979,-0.4791376292705536,0.23394083976745606,-0.14505380392074586,-0.1394236534833908,-0.060434501618146899,0.23707757890224458,-0.36509183049201968,-0.187886580824852,-0.9363662600517273,-0.8333451151847839,-0.42496323585510256,-0.4040655195713043,-0.3835238218307495,0.2678689658641815,-0.2002565711736679,-0.4453689754009247,-0.014799612574279309,-0.32533907890319826,-0.675591766834259,0.21701650321483613,-0.1872280240058899,0.19570016860961915,0.80900639295578,-0.1788017749786377,0.141882061958313,0.9177986979484558,-0.05727038159966469,0.21103942394256593,0.7306606769561768,0.6812779307365418,0.1627921462059021,0.2783498764038086,-0.2760257422924042,-0.23286546766757966,0.5598271489143372,-0.3604087829589844,-0.4941209554672241,-0.305576890707016,0.432537317276001,-0.13313306868076325,0.31507959961891177,-0.051838815212249759,-0.6941315531730652,0.1892939656972885,0.1714915633201599,-0.5668020844459534,0.06665905565023422,0.19591987133026124,0.1788855791091919,0.3032396733760834,-0.6401182413101196,0.15195691585540772,-0.2542494237422943,0.3641255795955658,-0.4942598044872284,-0.37423500418663027,0.038135189563035968,-0.14877401292324067,-0.1431463062763214,0.20768965780735017,0.1732340008020401,-0.3847492039203644,1.0182474851608277,-0.1857309341430664,0.2770569324493408,0.00977016519755125,0.18687689304351808,-0.11814340949058533,0.14965517818927766,-0.4359884262084961,-0.7238579392433167,0.010650132782757283,-0.22353143990039826,-0.5194196105003357,0.4382612407207489,0.30800139904022219,0.4565199315547943,0.7942047715187073,-0.09319523721933365,0.5685340762138367,-0.3053557872772217,0.31101199984550478,-0.11434155702590943,-0.3249519169330597,0.02903146855533123,0.12870705127716065,-0.5298969149589539,0.08198949694633484,0.37978389859199526,-0.0837569460272789,0.014815409667789936,-0.33062052726745608,-0.002547353506088257,-0.2882416546344757,-0.3932856321334839,-0.02691611647605896,-0.0853305235505104,0.09831729531288147,0.26762983202934267,0.3494897186756134,-0.06817630678415299,-0.5754410624504089,0.054147869348526,0.038498323410749438,0.09419140964746475,-0.0976434126496315,0.23297198116779328,-0.21024684607982636,-0.017041588202118875,0.008549817837774754,-0.46761199831962588,0.7084057331085205,-0.24362121522426606,0.12558935582637788,-0.036832600831985477,-0.009825910441577435,0.9434242248535156,-0.43768802285194399,-0.1894802302122116,-0.1670822650194168,0.18733088672161103,-0.3161790370941162,-0.22658121585845948,0.3503168523311615,-0.20297561585903169,0.9341276288032532,-0.0992564857006073,0.4788772165775299,-0.10515916347503662,-0.43935492634773257,-0.6648336052894592,0.1622835248708725,-0.45821765065193179,0.3821880519390106,-0.7502253651618958,0.16902673244476319,-0.2973491847515106,-0.9263343811035156,-0.6992231011390686,0.041925106197595599,0.8044125437736511,0.031249361112713815,-0.057474344968795779,-0.4401862621307373,0.2021673172712326,0.08637972921133042,0.2605842053890228,-0.05148455128073692,-0.17542481422424317,-0.3840998411178589,-0.1329563856124878,-0.08457225561141968,0.040049608796834949,-0.338213711977005,-0.0885462686419487,-0.10784244537353516,0.5031945705413818,-1.0364714860916138,1.0338367223739625,0.06857957690954209,0.2751276195049286,-0.2834318280220032,-0.08942680805921555,-0.18613584339618684,0.10438188165426254,-0.7172746062278748,0.26475921273231509,-0.727462112903595,0.7075631022453308,0.0614742636680603,0.17923061549663545,-0.02097543329000473,-0.5613171458244324,-0.5514506697654724,0.20028835535049439,0.11019650846719742,-0.2582082450389862,0.20768825709819795,0.059768158942461017,0.12387140840291977,0.012551913969218731,0.005549320485442877,-0.1563531756401062,-0.21627028286457063,0.7689728736877441,0.3061065971851349,0.4111879765987396,0.32532671093940737,-1.0101475715637208,-0.23074086010456086,0.31166061758995058,0.5217735171318054,0.07289069145917893,0.012122482992708683,0.6412291526794434,-0.9944983124732971,0.4865768253803253,-0.13750581443309785,-0.36026251316070559,-0.5018292665481567,-0.5871395468711853,-0.002185248536989093,0.008677101694047451,-0.11522651463747025,0.5148733258247376,0.10906094312667847,-0.5679637789726257,0.07460222393274307,2.392568826675415,0.5915591716766357,0.3501564562320709,-0.675528347492218,-0.17238938808441163,0.18670739233493806,0.11712578684091568,-0.4888624846935272,0.09050240367650986,0.650334894657135,0.33389174938201907,-0.314176470041275,0.11824814230203629,0.07570568472146988,-0.13423332571983338,0.18892371654510499,0.4690210521221161,0.38092103600502016,0.049307361245155337,0.1636759489774704,0.29740703105926516,0.4142182767391205,0.259490042924881,-0.485154390335083,-0.08068043738603592,0.6001442670822144,0.11443699151277542,-0.33469125628471377,0.4934830963611603,0.7384472489356995,0.1567070633172989,-0.16575928032398225,0.4630005657672882,-0.23404423892498017,0.4745385944843292,0.4611849784851074,-0.13163284957408906,0.2705569267272949,0.03574146702885628,0.03745221719145775,-0.41778552532196047,-0.2896580696105957,-0.036786098033189777,0.09425166994333267,-2.904604911804199,-0.573304295539856,-0.20093238353729249,-0.34170210361480715,-0.13345392048358918,-0.049986809492111209,-0.22990991175174714,-0.42861881852149966,0.6417080163955689,-0.09927790611982346,-0.04366382956504822,0.3459528684616089,0.37957343459129336,-0.3166640102863312,-0.3164162039756775,-0.20404915511608125,0.6323798298835754,-0.5335390567779541,-0.6389248967170715,-0.14388342201709748,0.3516857624053955,0.5387224555015564,0.1187315359711647,0.07835923135280609,-0.3501370847225189,0.039172250777482989,0.49966707825660708,0.14670990407466889,-0.24051840603351594,-0.39604446291923525,-0.49807170033454897,0.6726018786430359,-0.7669765949249268,0.2887066900730133,-0.8142330050468445,0.7696940302848816,0.022935645654797555,0.06781124323606491,-0.5725930333137512,0.27773579955101015,0.50289386510849,-0.22671456634998322,0.2406172901391983,0.04873203858733177,-0.37799903750419619,-0.9710354208946228,0.3207220137119293,-0.5349977016448975,-0.3015133738517761,-0.07985219359397888,-0.529026210308075,0.05348995700478554,-0.7147024273872376,0.048717331141233447,-0.1851624697446823,0.3072609305381775,0.23552148044109345,0.5749737620353699,0.16555513441562653,0.18429748713970185,0.45142433047294619,0.42551466822624209,0.053154945373535159,-0.12942175567150117,-0.04512162134051323,-0.8677005767822266,0.7798183560371399,-0.2129840850830078,-0.6220016479492188,-0.0606364943087101,-0.274787038564682,-0.16107840836048127,-0.5129462480545044,-0.12328384071588516,-0.02781769447028637,0.08712662011384964,0.17474769055843354,-0.23741333186626435,0.3372436761856079,-0.31893494725227358,-0.0780404731631279,-0.25003036856651308,-0.16479232907295228,-0.22349019348621369,0.28594520688056948,-0.0728350356221199,-0.5986894965171814,0.13741546869277955,0.03971976414322853,0.20846758782863618,0.09483615309000015,-0.2589248716831207,0.3152424395084381,-0.5390793681144714,0.19469672441482545,-0.2772580087184906,-0.33021411299705508,-0.04655243828892708,-0.05861610174179077,-0.3599969446659088,-0.5107304453849793,-0.19457073509693147,-0.4849684536457062,-0.8833813667297363,0.04620361328125,0.8313479423522949,0.08511316031217575,0.12770088016986848,-0.8377397060394287,-0.012014925479888916,0.4122854769229889,-0.6181592345237732,-0.039027199149131778,-0.24867695569992066,0.009990205056965351,-0.38170334696769717,-0.24681562185287476,0.050131235271692279,-0.2044035792350769,0.21691131591796876,0.9088786244392395,-0.8812618851661682,-0.144956573843956,-0.7720536589622498,0.016260290518403055,0.07403645664453507,0.38239574432373049,0.040194761008024219,-0.03565092757344246,0.5346851944923401,0.6139534711837769,-0.2121623307466507,-0.64974045753479,-0.07520131021738053,-0.10692005604505539,-0.041209060698747638,-0.6151250004768372,-0.38980522751808169,0.31429943442344668,0.22707949578762055,0.3363373279571533,0.7319113612174988,-0.08011795580387116,-0.2964372932910919,0.015396838076412678,0.5953546166419983,0.10115169733762741,0.03633944317698479,0.10296577215194702,-0.3675839900970459,0.5625055432319641,-0.13185083866119386,0.1262892186641693,-0.4268467128276825,-0.6292298436164856,-0.20773501694202424,0.0922040343284607,-0.30710306763648989,-0.19446952641010285,-0.5682241320610046,0.27566713094711306,-0.001120142638683319,0.11125870794057846,-0.12109822034835816,0.7993059754371643,-0.0942138135433197,0.5412357449531555,0.22829078137874604,0.02804928459227085,0.03382774814963341,0.20668882131576539,-0.14810316264629365,0.3325352370738983,0.1677618771791458,0.03698398917913437,-0.14830149710178376,0.10662908107042313,-0.14959175884723664,0.214050754904747,0.4440106451511383,-0.040722742676734927,-0.029604533687233926,-0.14563575387001038,0.4629507064819336,0.5299451351165772,0.011600635945796967,-0.12248444557189942,0.55594402551651,0.662093460559845,-0.34917542338371279,-0.20017234981060029,0.2569212317466736,-0.3155786693096161,0.26588505506515505,0.1765502542257309,0.2619938552379608,-0.1628052145242691,-0.23305253684520722,-0.6423680186271668,-0.32644328474998476,0.21358777582645417,-0.48350176215171816,-0.11805788427591324,0.44278883934020998,-0.0318903774023056,0.37113603949546816,-0.08733794093132019,-0.42268404364585879,0.5097774863243103,0.2838258445262909,-0.20114748179912568,0.384550005197525,-0.09313496947288513,0.004695710260421038,0.028968915343284608,0.1888522356748581,0.449699729681015,0.3610522747039795,0.3073238730430603,-0.3377645015716553,-0.11387232691049576,-0.19079817831516267,-0.21474820375442506]}]}')\n"
     ]
    }
   ],
   "source": [
    "results = http_client.infer(model_name=\"ensemble_model\", inputs=[text], outputs=[embedding_output])"
   ]
  },
  {
   "cell_type": "code",
   "execution_count": 27,
   "metadata": {},
   "outputs": [],
   "source": [
    "inference_output = results.as_numpy('3391')"
   ]
  },
  {
   "cell_type": "code",
   "execution_count": 28,
   "metadata": {},
   "outputs": [],
   "source": [
    "from pprint import pprint"
   ]
  },
  {
   "cell_type": "code",
   "execution_count": 30,
   "metadata": {},
   "outputs": [
    {
     "name": "stdout",
     "output_type": "stream",
     "text": [
      "(1, 1024)\n"
     ]
    }
   ],
   "source": [
    "pprint(inference_output.shape)"
   ]
  },
  {
   "cell_type": "markdown",
   "metadata": {},
   "source": [
    "The embedding model is working as expected. Let us write the code for the API."
   ]
  },
  {
   "cell_type": "markdown",
   "metadata": {},
   "source": [
    "Using GRPC client"
   ]
  },
  {
   "cell_type": "code",
   "execution_count": 25,
   "metadata": {},
   "outputs": [],
   "source": [
    "grpcp_input = grpcclient.InferInput('TEXT', shape=[-1], datatype='BYTES')\n",
    "grpc_output = grpcclient.InferRequestedOutput(\n",
    "    \"3391\")"
   ]
  },
  {
   "cell_type": "code",
   "execution_count": 26,
   "metadata": {},
   "outputs": [
    {
     "data": {
      "text/plain": [
       "<tritonclient.grpc._infer_input.InferInput at 0x124befdc0>"
      ]
     },
     "execution_count": 26,
     "metadata": {},
     "output_type": "execute_result"
    }
   ],
   "source": [
    "np_input_data = np.asarray([sentences], dtype=object)\n",
    "\n",
    "text = grpcclient.InferInput('TEXT', [1], \"BYTES\")\n",
    "text.set_data_from_numpy(np_input_data.reshape([1]))"
   ]
  },
  {
   "cell_type": "code",
   "execution_count": 27,
   "metadata": {},
   "outputs": [],
   "source": [
    "results = grpc_client.infer(\n",
    "    model_name=\"ensemble_model\", inputs=[text], outputs=[grpc_output],\n",
    "    client_timeout=6000,\n",
    "    headers={\"test\": \"1\"},\n",
    "\n",
    ")"
   ]
  },
  {
   "cell_type": "code",
   "execution_count": 28,
   "metadata": {},
   "outputs": [
    {
     "data": {
      "text/plain": [
       "<tritonclient.grpc._infer_result.InferResult at 0x124eafa60>"
      ]
     },
     "execution_count": 28,
     "metadata": {},
     "output_type": "execute_result"
    }
   ],
   "source": [
    "results"
   ]
  },
  {
   "cell_type": "code",
   "execution_count": 29,
   "metadata": {},
   "outputs": [],
   "source": [
    "inference_output = results.as_numpy('3391')"
   ]
  },
  {
   "cell_type": "code",
   "execution_count": 31,
   "metadata": {},
   "outputs": [
    {
     "data": {
      "text/plain": [
       "(1, 1024)"
      ]
     },
     "execution_count": 31,
     "metadata": {},
     "output_type": "execute_result"
    }
   ],
   "source": [
    "inference_output.shape"
   ]
  },
  {
   "cell_type": "markdown",
   "metadata": {},
   "source": [
    "It seems like the large model cannot de deployed live."
   ]
  },
  {
   "cell_type": "code",
   "execution_count": null,
   "metadata": {},
   "outputs": [],
   "source": []
  }
 ],
 "metadata": {
  "kernelspec": {
   "display_name": ".venv",
   "language": "python",
   "name": "python3"
  },
  "language_info": {
   "codemirror_mode": {
    "name": "ipython",
    "version": 3
   },
   "file_extension": ".py",
   "mimetype": "text/x-python",
   "name": "python",
   "nbconvert_exporter": "python",
   "pygments_lexer": "ipython3",
   "version": "3.10.4"
  }
 },
 "nbformat": 4,
 "nbformat_minor": 2
}
