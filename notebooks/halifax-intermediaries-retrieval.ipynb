{
 "cells": [
  {
   "cell_type": "code",
   "execution_count": null,
   "id": "66471385",
   "metadata": {},
   "outputs": [],
   "source": [
    "from pathlib import Path"
   ]
  },
  {
   "cell_type": "code",
   "execution_count": null,
   "id": "1c9bc5e9",
   "metadata": {},
   "outputs": [],
   "source": [
    "current_working_directory = Path.cwd()"
   ]
  },
  {
   "cell_type": "code",
   "execution_count": null,
   "id": "53d542e4",
   "metadata": {},
   "outputs": [],
   "source": [
    "data_directory = current_working_directory.joinpath(\"datasets/halifax_intermediaries/\")\n",
    "data_directory.exists()"
   ]
  },
  {
   "cell_type": "markdown",
   "id": "ef356b6e",
   "metadata": {},
   "source": [
    "### Retrieval"
   ]
  },
  {
   "cell_type": "code",
   "execution_count": null,
   "id": "bfe1a597",
   "metadata": {},
   "outputs": [],
   "source": [
    "from src.rag.components.embeddings.embeddings import EmbeddingComputer\n",
    "embedding_model_name = \"intfloat/multilingual-e5-large\"\n",
    "embedding_computer = EmbeddingComputer(model_name=embedding_model_name)"
   ]
  },
  {
   "cell_type": "code",
   "execution_count": null,
   "id": "06bbef72",
   "metadata": {},
   "outputs": [],
   "source": [
    "tcs_data_path = data_directory.joinpath(\"test_questions.csv\")"
   ]
  },
  {
   "cell_type": "code",
   "execution_count": null,
   "id": "e8a11da5",
   "metadata": {},
   "outputs": [],
   "source": [
    "other_data_path = data_directory.joinpath(\"qa_question.csv\")"
   ]
  },
  {
   "cell_type": "code",
   "execution_count": null,
   "id": "97f42e25",
   "metadata": {},
   "outputs": [],
   "source": [
    "tcs_data_path.exists()"
   ]
  },
  {
   "cell_type": "code",
   "execution_count": null,
   "id": "cf1ed146",
   "metadata": {},
   "outputs": [],
   "source": [
    "other_data_path.exists()"
   ]
  },
  {
   "cell_type": "code",
   "execution_count": null,
   "id": "851dfdd3",
   "metadata": {},
   "outputs": [],
   "source": [
    "import pandas as pd"
   ]
  },
  {
   "cell_type": "code",
   "execution_count": null,
   "id": "5fdd39e5",
   "metadata": {},
   "outputs": [],
   "source": [
    "other_query_df = pd.read_csv(other_data_path, index_col=[1, 2]).drop(columns=[\"Unnamed: 0\"])"
   ]
  },
  {
   "cell_type": "code",
   "execution_count": null,
   "id": "c4a20efe",
   "metadata": {},
   "outputs": [],
   "source": [
    "other_query_df.head()"
   ]
  },
  {
   "cell_type": "markdown",
   "id": "be296fd9",
   "metadata": {},
   "source": []
  },
  {
   "cell_type": "code",
   "execution_count": null,
   "id": "96f8ded3",
   "metadata": {},
   "outputs": [],
   "source": [
    "tcs_query_df = pd.read_csv(tcs_data_path, index_col=0)\n",
    "tcs_query_df.columns = [\"Question\"]"
   ]
  },
  {
   "cell_type": "code",
   "execution_count": null,
   "id": "70b20237",
   "metadata": {},
   "outputs": [],
   "source": [
    "tcs_query_df[\"Question_Index\"] = 0\n",
    "tcs_query_df[\"Conversation_Index\"] = 100 + tcs_query_df.index"
   ]
  },
  {
   "cell_type": "code",
   "execution_count": null,
   "id": "fed8d2c4",
   "metadata": {},
   "outputs": [],
   "source": [
    "tcs_query_df = tcs_query_df.set_index([\"Conversation_Index\", \"Question_Index\"])"
   ]
  },
  {
   "cell_type": "code",
   "execution_count": null,
   "id": "6e300b72",
   "metadata": {},
   "outputs": [],
   "source": [
    "question_df = pd.concat([other_query_df, tcs_query_df]).sort_index()"
   ]
  },
  {
   "cell_type": "code",
   "execution_count": null,
   "id": "ebb0776f",
   "metadata": {},
   "outputs": [],
   "source": [
    "question_df.head()"
   ]
  },
  {
   "cell_type": "code",
   "execution_count": null,
   "id": "7cf709eb",
   "metadata": {},
   "outputs": [],
   "source": [
    "question_df.shape"
   ]
  },
  {
   "cell_type": "code",
   "execution_count": null,
   "id": "e582070c",
   "metadata": {},
   "outputs": [],
   "source": [
    "question_df.Question = question_df.Question.str.replace(\"QUESTION: \", \"\")"
   ]
  },
  {
   "cell_type": "code",
   "execution_count": null,
   "id": "17d6628f",
   "metadata": {},
   "outputs": [],
   "source": [
    "initial_query_df = question_df.query(\"Question_Index == 0\")"
   ]
  },
  {
   "cell_type": "code",
   "execution_count": null,
   "id": "abaef017",
   "metadata": {},
   "outputs": [],
   "source": [
    "from src.rag.components.data_ingestion.utils import create_postgres_connection, create_postgres_connection_uri"
   ]
  },
  {
   "cell_type": "code",
   "execution_count": null,
   "id": "2b954258",
   "metadata": {},
   "outputs": [],
   "source": [
    "from src.rag.components.shared.databases.postgres import PostgresVectorDBClient"
   ]
  },
  {
   "cell_type": "code",
   "execution_count": null,
   "id": "4b2ab6ab",
   "metadata": {},
   "outputs": [],
   "source": [
    "connection_uri = create_postgres_connection_uri()\n",
    "connection = create_postgres_connection(connection_uri)\n",
    "postgres_client = PostgresVectorDBClient(\n",
    "\t\tconnection=connection,\n",
    "\t\tnamespace=\"halifax_intermediaries\",\n",
    "\t)\n"
   ]
  },
  {
   "cell_type": "code",
   "execution_count": null,
   "id": "e0414c7d",
   "metadata": {},
   "outputs": [],
   "source": [
    "query_embeddings = embedding_computer.model.encode(\n",
    "    \"query: \" + initial_query_df.Question.values,\n",
    "\t\t\tconvert_to_tensor=False,\n",
    "\t\t\tshow_progress_bar=True,\n",
    "\t\t\tnormalize_embeddings=True,\n",
    "\t\t)"
   ]
  },
  {
   "cell_type": "code",
   "execution_count": null,
   "id": "8284b4e4",
   "metadata": {},
   "outputs": [],
   "source": [
    "query_embeddings.shape"
   ]
  },
  {
   "cell_type": "code",
   "execution_count": null,
   "id": "6a6e537b",
   "metadata": {},
   "outputs": [],
   "source": [
    "postgres_client.create_embedding_index(\n",
    "    table_name=\"halifax_intermediaries_documents\",\n",
    "    column_name=\"embedding\",\n",
    "    index_config=\"USING hnsw\", if_not_exists=True, unique=True\n",
    ")"
   ]
  },
  {
   "cell_type": "code",
   "execution_count": null,
   "id": "249e95bb",
   "metadata": {},
   "outputs": [],
   "source": [
    "for embedding in query_embeddings.tolist():\n",
    "    retrieved_text = postgres_client.search_by_vector(\n",
    "        vector_column=\"embedding\",\n",
    "        query_vector=embedding,\n",
    "        table_name=\"halifax_intermediaries_documents\",\n",
    "        return_columns=[\"content\", \"url\"],\n",
    "    )"
   ]
  },
  {
   "cell_type": "code",
   "execution_count": null,
   "id": "381d01c5",
   "metadata": {},
   "outputs": [],
   "source": [
    "print(retrieved_text.keys())"
   ]
  },
  {
   "cell_type": "code",
   "execution_count": null,
   "id": "902713a3",
   "metadata": {},
   "outputs": [],
   "source": [
    "def flatten(row):\n",
    "    return pd.Series([item for item in row])\n"
   ]
  },
  {
   "cell_type": "code",
   "execution_count": null,
   "id": "44838cf4",
   "metadata": {},
   "outputs": [],
   "source": [
    "question_paragraphs_df = pd.DataFrame.from_dict(retrieved_text, orient=\"index\").stack().apply(flatten)"
   ]
  },
  {
   "cell_type": "code",
   "execution_count": null,
   "id": "ce46d61f",
   "metadata": {},
   "outputs": [],
   "source": [
    "question_paragraphs_df = question_paragraphs_df.reset_index(drop=True)\n",
    "question_paragraphs_df.columns = [\"cosine_similarity\", \"content\", \"url\", \"query_index\"]"
   ]
  },
  {
   "cell_type": "code",
   "execution_count": null,
   "id": "e0405612",
   "metadata": {},
   "outputs": [],
   "source": [
    "question_paragraphs_df.query_index = question_paragraphs_df.query_index - 1"
   ]
  },
  {
   "cell_type": "code",
   "execution_count": null,
   "id": "5a9ce5d4",
   "metadata": {},
   "outputs": [],
   "source": [
    "question_paragraphs_df.head(10)"
   ]
  },
  {
   "cell_type": "code",
   "execution_count": null,
   "id": "b8cbda7e",
   "metadata": {},
   "outputs": [],
   "source": [
    "initial_query_df = initial_query_df.reset_index()"
   ]
  },
  {
   "cell_type": "code",
   "execution_count": null,
   "id": "34cc74db",
   "metadata": {},
   "outputs": [],
   "source": [
    "question_paragraph_answers = question_paragraphs_df.merge(\n",
    "    initial_query_df, left_on=\"query_index\", right_on=\"Conversation_Index\")"
   ]
  },
  {
   "cell_type": "code",
   "execution_count": null,
   "id": "90bf3ca5",
   "metadata": {},
   "outputs": [],
   "source": [
    "question_paragraph_answers.head()"
   ]
  },
  {
   "cell_type": "code",
   "execution_count": null,
   "id": "2b80ff62",
   "metadata": {},
   "outputs": [],
   "source": [
    "question_paragraph_answers = question_paragraph_answers.sort_values(by=[\"query_index\", \"Question\", \"cosine_similarity\"], ascending=[\n",
    "                                                                 True, True, False], inplace=False).set_index([\"Question\", \"query_index\"])"
   ]
  },
  {
   "cell_type": "code",
   "execution_count": null,
   "id": "4b683759",
   "metadata": {},
   "outputs": [],
   "source": [
    "question_paragraph_answers.head(20)\n"
   ]
  },
  {
   "cell_type": "code",
   "execution_count": null,
   "id": "f73b60c7",
   "metadata": {},
   "outputs": [],
   "source": [
    "question_paragraph_answers.shape"
   ]
  },
  {
   "cell_type": "code",
   "execution_count": null,
   "id": "c8a23daf",
   "metadata": {},
   "outputs": [],
   "source": [
    "question_paragraph_answers.to_csv(data_directory.joinpath( f\"question_and_paragraph_{embedding_model_name.split('/')[-1]}.csv\"))"
   ]
  },
  {
   "cell_type": "markdown",
   "id": "38d5c167",
   "metadata": {},
   "source": [
    "### Next step.\n",
    "\n",
    "Now perform keyword search.\n",
    "\n",
    "Extract keywords from the next. Update the keyword search model using yet anothre keykword extractor.\n",
    "\n",
    "Do a keyword search when we get a question and update it with semantic search."
   ]
  },
  {
   "cell_type": "markdown",
   "id": "9c002baa",
   "metadata": {},
   "source": [
    "### ### Things to Try after the first baseline.\n",
    "\n",
    "Forget the Keyword search, but think about how to make RAG better.\n",
    "\n",
    "- https://raghunaathan.medium.com/query-translation-for-rag-retrieval-augmented-generation-applications-46d74bff8f07\n",
    "\n",
    "- https://learn.microsoft.com/en-us/azure/architecture/ai-ml/guide/rag/rag-information-retrieval\n",
    "\n",
    "- But we can add keywords in chunks.\n",
    "\n",
    "- https://www.youtube.com/watch?v=77qELPbNgxA\n",
    "- Try  https://maartengr.github.io/KeyBERT/ for keyword extraction"
   ]
  },
  {
   "cell_type": "code",
   "execution_count": null,
   "id": "b9a780a6",
   "metadata": {},
   "outputs": [],
   "source": [
    "query_embeddings[:5, :5].shape"
   ]
  },
  {
   "cell_type": "code",
   "execution_count": null,
   "id": "93cf8da2",
   "metadata": {},
   "outputs": [],
   "source": [
    "postgres_client.search_many_by_vector(table_name=\"documents\", vector_column=\"embedding\", query_vectors=query_embeddings[:5, :5], return_columns=[\"content\", \"url\"], candidate_limit=5)"
   ]
  },
  {
   "cell_type": "markdown",
   "id": "f35e441a",
   "metadata": {},
   "source": []
  }
 ],
 "metadata": {
  "kernelspec": {
   "display_name": ".venv",
   "language": "python",
   "name": "python3"
  },
  "language_info": {
   "codemirror_mode": {
    "name": "ipython",
    "version": 3
   },
   "file_extension": ".py",
   "mimetype": "text/x-python",
   "name": "python",
   "nbconvert_exporter": "python",
   "pygments_lexer": "ipython3",
   "version": "3.10.4"
  }
 },
 "nbformat": 4,
 "nbformat_minor": 5
}
