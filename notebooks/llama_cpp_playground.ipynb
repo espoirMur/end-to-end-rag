{
 "cells": [
  {
   "cell_type": "code",
   "execution_count": null,
   "metadata": {},
   "outputs": [],
   "source": [
    "from huggingface_hub import snapshot_download"
   ]
  },
  {
   "cell_type": "code",
   "execution_count": null,
   "metadata": {},
   "outputs": [],
   "source": [
    "model_name = \"croissantllm/CroissantLLMChat-v0.1\""
   ]
  },
  {
   "cell_type": "code",
   "execution_count": null,
   "metadata": {},
   "outputs": [],
   "source": [
    "from pathlib import Path"
   ]
  },
  {
   "cell_type": "code",
   "execution_count": null,
   "metadata": {},
   "outputs": [],
   "source": [
    "model_repository = Path.cwd().joinpath(\"models\")"
   ]
  },
  {
   "cell_type": "code",
   "execution_count": null,
   "metadata": {},
   "outputs": [],
   "source": [
    "model_repository.exists()"
   ]
  },
  {
   "cell_type": "code",
   "execution_count": null,
   "metadata": {},
   "outputs": [],
   "source": []
  },
  {
   "cell_type": "code",
   "execution_count": null,
   "metadata": {},
   "outputs": [],
   "source": [
    "croissant_path = model_repository.joinpath(model_name)"
   ]
  },
  {
   "cell_type": "code",
   "execution_count": null,
   "metadata": {},
   "outputs": [],
   "source": [
    "snapshot_download(repo_id=model_name, local_dir=croissant_path,\n",
    "                  local_dir_use_symlinks=False, revision=\"main\")"
   ]
  },
  {
   "cell_type": "markdown",
   "metadata": {},
   "source": [
    "After downloading the model, we need to save it to gguf file, which is the file format used by llam cpp"
   ]
  },
  {
   "cell_type": "code",
   "execution_count": null,
   "metadata": {},
   "outputs": [],
   "source": [
    "croissant_path_gguf_path = croissant_path.parent.joinpath(f\"{model_name.split('/')[0]}_32.gguf\")\n",
    "assert croissant_path_gguf_path.parent.exists()\n",
    "croissant_path_gguf_16_bits = croissant_path_gguf_path.with_suffix(\".16bits.gguf\")\n",
    "croissant_path_gguf_8_bits = croissant_path_gguf_path.with_suffix(\".8bits.gguf\")\n",
    "croissant_path_gguf_path.unlink()\n",
    "croissant_path_gguf_16_bits.unlink()\n",
    "croissant_path_gguf_8_bits.unlink()\n",
    "croissant_path_gguf_path = croissant_path_gguf_path.__str__()"
   ]
  },
  {
   "cell_type": "code",
   "execution_count": null,
   "metadata": {},
   "outputs": [],
   "source": [
    "croissant_path_gguf_path_8_bits = croissant_path_gguf_8_bits.__str__()\n",
    "croissant_path_gguf_path_16_bits = croissant_path_gguf_16_bits.__str__()"
   ]
  },
  {
   "cell_type": "code",
   "execution_count": null,
   "metadata": {},
   "outputs": [],
   "source": []
  },
  {
   "cell_type": "code",
   "execution_count": null,
   "metadata": {},
   "outputs": [],
   "source": [
    "croissant_path_gguf_path_8_bits"
   ]
  },
  {
   "cell_type": "code",
   "execution_count": null,
   "metadata": {},
   "outputs": [],
   "source": [
    "llama_cpp_path = Path.cwd().parent.joinpath(\"llama.cpp\")\n",
    "convert_script_path = llama_cpp_path.joinpath(\n",
    "    \"convert_hf_to_gguf.py\").__str__()\n",
    "legacy_convert_script_path = llama_cpp_path.joinpath(\"examples\",\n",
    "    \"convert_legacy_llama.py\")"
   ]
  },
  {
   "cell_type": "code",
   "execution_count": null,
   "metadata": {},
   "outputs": [],
   "source": [
    "model_path =croissant_path.__str__()"
   ]
  },
  {
   "cell_type": "markdown",
   "metadata": {},
   "source": [
    "####  Start with the tokenizer"
   ]
  },
  {
   "cell_type": "code",
   "execution_count": null,
   "metadata": {},
   "outputs": [],
   "source": [
    "tokenizer_model_path = croissant_path.joinpath(\"tokenizer.model\").__str__()"
   ]
  },
  {
   "cell_type": "code",
   "execution_count": null,
   "metadata": {},
   "outputs": [],
   "source": [
    "from transformers import AutoTokenizer"
   ]
  },
  {
   "cell_type": "code",
   "execution_count": null,
   "metadata": {},
   "outputs": [],
   "source": [
    "AutoTokenizer.from_pretrained(\n",
    "    model_path,\n",
    "    cache_dir=model_path,\n",
    "    local_files_only=True,\n",
    ")"
   ]
  },
  {
   "cell_type": "markdown",
   "metadata": {},
   "source": []
  },
  {
   "cell_type": "code",
   "execution_count": null,
   "metadata": {},
   "outputs": [],
   "source": [
    "!python $convert_script_path $model_path --outfile $croissant_path_gguf_path --outtype f32"
   ]
  },
  {
   "cell_type": "code",
   "execution_count": null,
   "metadata": {},
   "outputs": [],
   "source": [
    "!python $convert_script_path $model_path --outfile $croissant_path_gguf_path_8_bits --outtype f32"
   ]
  },
  {
   "cell_type": "code",
   "execution_count": null,
   "metadata": {},
   "outputs": [],
   "source": [
    "!python $convert_script_path $model_path --model-name $model_name --outfile $croissant_path_gguf_path_16_bits --outtype f16"
   ]
  },
  {
   "cell_type": "code",
   "execution_count": null,
   "metadata": {},
   "outputs": [],
   "source": [
    "tokenizer_model_path = croissant_path.parent.joinpath(\"tokenizer.model\")"
   ]
  },
  {
   "cell_type": "code",
   "execution_count": null,
   "metadata": {},
   "outputs": [],
   "source": [
    "!python $convert_script_path $model_path --vocab-only  --outfile $tokenizer_model_path --outtype f32"
   ]
  },
  {
   "cell_type": "code",
   "execution_count": null,
   "metadata": {},
   "outputs": [],
   "source": []
  }
 ],
 "metadata": {
  "kernelspec": {
   "display_name": ".venv",
   "language": "python",
   "name": "python3"
  },
  "language_info": {
   "codemirror_mode": {
    "name": "ipython",
    "version": 3
   },
   "file_extension": ".py",
   "mimetype": "text/x-python",
   "name": "python",
   "nbconvert_exporter": "python",
   "pygments_lexer": "ipython3",
   "version": "3.10.4"
  }
 },
 "nbformat": 4,
 "nbformat_minor": 2
}
