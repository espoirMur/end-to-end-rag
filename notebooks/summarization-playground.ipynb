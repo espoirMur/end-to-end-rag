{
 "cells": [
  {
   "cell_type": "markdown",
   "metadata": {},
   "source": [
    "## New Summarizer experiments1"
   ]
  },
  {
   "cell_type": "markdown",
   "metadata": {},
   "source": [
    "What I need to do\n",
    "\n",
    "- Retrieve the today news, article from the scrapper database.\n",
    "\n",
    "- Summarize them with good prompt.\n",
    "\n",
    "- display them on a UI."
   ]
  },
  {
   "cell_type": "code",
   "execution_count": 1,
   "metadata": {},
   "outputs": [],
   "source": [
    "%load_ext dotenv"
   ]
  },
  {
   "cell_type": "code",
   "execution_count": 2,
   "metadata": {},
   "outputs": [],
   "source": [
    "%dotenv ./.env_prod -o"
   ]
  },
  {
   "cell_type": "code",
   "execution_count": 3,
   "metadata": {},
   "outputs": [],
   "source": [
    "from src.rag.shared.database import execute_query, generate_database_connection"
   ]
  },
  {
   "cell_type": "code",
   "execution_count": 4,
   "metadata": {},
   "outputs": [],
   "source": [
    "yesterday_article_query = \"select content, title, posted_at,url from article where posted_at::date = CURRENT_DATE - interval '1 day'\""
   ]
  },
  {
   "cell_type": "code",
   "execution_count": 5,
   "metadata": {},
   "outputs": [],
   "source": [
    "from os import getenv"
   ]
  },
  {
   "cell_type": "code",
   "execution_count": 6,
   "metadata": {},
   "outputs": [],
   "source": [
    "database_user = getenv('POSTGRES_USER')\n",
    "database_password = getenv('POSTGRES_PASSWORD')\n",
    "database_host = getenv('POSTGRES_HOST')\n",
    "database_port = getenv('POSTGRES_PORT')\n",
    "database_name = getenv('POSTGRES_DB')"
   ]
  },
  {
   "cell_type": "code",
   "execution_count": 7,
   "metadata": {},
   "outputs": [],
   "source": [
    "database_credentials = {\n",
    "    'user': database_user,\n",
    "    'password': database_password,\n",
    "    'host': database_host,\n",
    "    'port': database_port,\n",
    "    'database': database_name\n",
    "}"
   ]
  },
  {
   "cell_type": "code",
   "execution_count": 8,
   "metadata": {},
   "outputs": [],
   "source": [
    "connection = generate_database_connection(database_crendentials=database_credentials)"
   ]
  },
  {
   "cell_type": "code",
   "execution_count": 9,
   "metadata": {},
   "outputs": [
    {
     "data": {
      "text/plain": [
       "<connection object at 0x106284040; dsn: 'user=esp_py password=xxx dbname=congo_news_db host=107.173.6.77 port=5434', closed: 0>"
      ]
     },
     "execution_count": 9,
     "metadata": {},
     "output_type": "execute_result"
    }
   ],
   "source": [
    "connection"
   ]
  },
  {
   "cell_type": "code",
   "execution_count": 10,
   "metadata": {},
   "outputs": [],
   "source": [
    "results =execute_query(query=yesterday_article_query, database_connection=connection)"
   ]
  },
  {
   "cell_type": "code",
   "execution_count": 11,
   "metadata": {},
   "outputs": [
    {
     "data": {
      "text/plain": [
       "'https://actu30.cd/2024/10/lomami-deux-morts-et-plusieurs-blesses-dans-un-accident-de-la-route-sur-laxe-mwene-ditu-luputa/'"
      ]
     },
     "execution_count": 11,
     "metadata": {},
     "output_type": "execute_result"
    }
   ],
   "source": [
    "results[0].url"
   ]
  },
  {
   "cell_type": "code",
   "execution_count": 12,
   "metadata": {},
   "outputs": [],
   "source": [
    "import pandas as pd"
   ]
  },
  {
   "cell_type": "code",
   "execution_count": 13,
   "metadata": {},
   "outputs": [],
   "source": [
    "results_df = pd.DataFrame.from_records(results)"
   ]
  },
  {
   "cell_type": "code",
   "execution_count": 14,
   "metadata": {},
   "outputs": [],
   "source": [
    "results_df.columns = [\"content\", \"title\", \"posted_at\", \"url\"]"
   ]
  },
  {
   "cell_type": "code",
   "execution_count": 15,
   "metadata": {},
   "outputs": [],
   "source": [
    "from pathlib import Path"
   ]
  },
  {
   "cell_type": "code",
   "execution_count": 16,
   "metadata": {},
   "outputs": [],
   "source": [
    "current_directory = Path.cwd().joinpath(\"datasets\", \"today_news\")"
   ]
  },
  {
   "cell_type": "code",
   "execution_count": 17,
   "metadata": {},
   "outputs": [],
   "source": [
    "current_directory.mkdir(exist_ok=True)"
   ]
  },
  {
   "cell_type": "code",
   "execution_count": 18,
   "metadata": {},
   "outputs": [],
   "source": [
    "from datetime import datetime"
   ]
  },
  {
   "cell_type": "code",
   "execution_count": 19,
   "metadata": {},
   "outputs": [],
   "source": [
    "today = datetime.now().strftime(\"%Y-%m-%d\")"
   ]
  },
  {
   "cell_type": "code",
   "execution_count": 20,
   "metadata": {},
   "outputs": [],
   "source": [
    "results_df.to_csv(current_directory.joinpath(f\"{today}-news.csv\"))"
   ]
  },
  {
   "cell_type": "code",
   "execution_count": 21,
   "metadata": {},
   "outputs": [
    {
     "data": {
      "text/plain": [
       "0     Il s’agit d’un gros véhicule Howo en provenanc...\n",
       "1     Les Léopards de la Rd-Congo affronteront les T...\n",
       "2     Accompagné de quelques députés et sénateurs, l...\n",
       "3     Le procureur de la Cour pénale internationale,...\n",
       "4     Le gouvernement sénégalais a présenté ce lundi...\n",
       "                            ...                        \n",
       "82    Cet événement a coïncidé avec la double commém...\n",
       "83    Selon le communiqué final de cette réunion, le...\n",
       "84    C’est l’administrateur du territoire de Djugu ...\n",
       "85    Le chargé de communication et sensibilisation ...\n",
       "86    Trois combattants des Forces démocratiques all...\n",
       "Name: content, Length: 87, dtype: object"
      ]
     },
     "execution_count": 21,
     "metadata": {},
     "output_type": "execute_result"
    }
   ],
   "source": [
    "results_df.content"
   ]
  },
  {
   "cell_type": "code",
   "execution_count": 22,
   "metadata": {},
   "outputs": [],
   "source": [
    "results_df = results_df.drop_duplicates(subset=\"content\")"
   ]
  },
  {
   "cell_type": "code",
   "execution_count": 23,
   "metadata": {},
   "outputs": [
    {
     "data": {
      "text/html": [
       "<div>\n",
       "<style scoped>\n",
       "    .dataframe tbody tr th:only-of-type {\n",
       "        vertical-align: middle;\n",
       "    }\n",
       "\n",
       "    .dataframe tbody tr th {\n",
       "        vertical-align: top;\n",
       "    }\n",
       "\n",
       "    .dataframe thead th {\n",
       "        text-align: right;\n",
       "    }\n",
       "</style>\n",
       "<table border=\"1\" class=\"dataframe\">\n",
       "  <thead>\n",
       "    <tr style=\"text-align: right;\">\n",
       "      <th></th>\n",
       "      <th>content</th>\n",
       "      <th>title</th>\n",
       "      <th>posted_at</th>\n",
       "      <th>url</th>\n",
       "    </tr>\n",
       "  </thead>\n",
       "  <tbody>\n",
       "    <tr>\n",
       "      <th>0</th>\n",
       "      <td>Il s’agit d’un gros véhicule Howo en provenanc...</td>\n",
       "      <td>Lomami : deux morts et plusieurs blessés dans ...</td>\n",
       "      <td>2024-10-14 16:24:53</td>\n",
       "      <td>https://actu30.cd/2024/10/lomami-deux-morts-et...</td>\n",
       "    </tr>\n",
       "    <tr>\n",
       "      <th>1</th>\n",
       "      <td>Les Léopards de la Rd-Congo affronteront les T...</td>\n",
       "      <td>Eliminatoires CAN 2025 / Tanzanie vs RDC : « O...</td>\n",
       "      <td>2024-10-14 00:00:00</td>\n",
       "      <td>https://www.mediacongo.net/article-actualite-1...</td>\n",
       "    </tr>\n",
       "    <tr>\n",
       "      <th>2</th>\n",
       "      <td>Accompagné de quelques députés et sénateurs, l...</td>\n",
       "      <td>À la 149ème Assemblée de l'Union inter-parleme...</td>\n",
       "      <td>2024-10-14 00:00:00</td>\n",
       "      <td>https://www.mediacongo.net/article-actualite-1...</td>\n",
       "    </tr>\n",
       "    <tr>\n",
       "      <th>3</th>\n",
       "      <td>Le procureur de la Cour pénale internationale,...</td>\n",
       "      <td>Urgent : la CPI réactive ses enquêtes sur les ...</td>\n",
       "      <td>2024-10-14 00:00:00</td>\n",
       "      <td>https://www.mediacongo.net/article-actualite-1...</td>\n",
       "    </tr>\n",
       "    <tr>\n",
       "      <th>4</th>\n",
       "      <td>Le gouvernement sénégalais a présenté ce lundi...</td>\n",
       "      <td>Sénégal : le gouvernement présente un vaste pl...</td>\n",
       "      <td>2024-10-14 00:00:00</td>\n",
       "      <td>https://www.mediacongo.net/article-actualite-1...</td>\n",
       "    </tr>\n",
       "  </tbody>\n",
       "</table>\n",
       "</div>"
      ],
      "text/plain": [
       "                                             content  \\\n",
       "0  Il s’agit d’un gros véhicule Howo en provenanc...   \n",
       "1  Les Léopards de la Rd-Congo affronteront les T...   \n",
       "2  Accompagné de quelques députés et sénateurs, l...   \n",
       "3  Le procureur de la Cour pénale internationale,...   \n",
       "4  Le gouvernement sénégalais a présenté ce lundi...   \n",
       "\n",
       "                                               title           posted_at  \\\n",
       "0  Lomami : deux morts et plusieurs blessés dans ... 2024-10-14 16:24:53   \n",
       "1  Eliminatoires CAN 2025 / Tanzanie vs RDC : « O... 2024-10-14 00:00:00   \n",
       "2  À la 149ème Assemblée de l'Union inter-parleme... 2024-10-14 00:00:00   \n",
       "3  Urgent : la CPI réactive ses enquêtes sur les ... 2024-10-14 00:00:00   \n",
       "4  Sénégal : le gouvernement présente un vaste pl... 2024-10-14 00:00:00   \n",
       "\n",
       "                                                 url  \n",
       "0  https://actu30.cd/2024/10/lomami-deux-morts-et...  \n",
       "1  https://www.mediacongo.net/article-actualite-1...  \n",
       "2  https://www.mediacongo.net/article-actualite-1...  \n",
       "3  https://www.mediacongo.net/article-actualite-1...  \n",
       "4  https://www.mediacongo.net/article-actualite-1...  "
      ]
     },
     "execution_count": 23,
     "metadata": {},
     "output_type": "execute_result"
    }
   ],
   "source": [
    "results_df.head()"
   ]
  },
  {
   "cell_type": "code",
   "execution_count": 24,
   "metadata": {},
   "outputs": [],
   "source": [
    "results_df = results_df.reset_index(drop=True)"
   ]
  },
  {
   "cell_type": "code",
   "execution_count": 25,
   "metadata": {},
   "outputs": [
    {
     "data": {
      "text/html": [
       "<div>\n",
       "<style scoped>\n",
       "    .dataframe tbody tr th:only-of-type {\n",
       "        vertical-align: middle;\n",
       "    }\n",
       "\n",
       "    .dataframe tbody tr th {\n",
       "        vertical-align: top;\n",
       "    }\n",
       "\n",
       "    .dataframe thead th {\n",
       "        text-align: right;\n",
       "    }\n",
       "</style>\n",
       "<table border=\"1\" class=\"dataframe\">\n",
       "  <thead>\n",
       "    <tr style=\"text-align: right;\">\n",
       "      <th></th>\n",
       "      <th>content</th>\n",
       "      <th>title</th>\n",
       "      <th>posted_at</th>\n",
       "      <th>url</th>\n",
       "    </tr>\n",
       "  </thead>\n",
       "  <tbody>\n",
       "    <tr>\n",
       "      <th>0</th>\n",
       "      <td>Il s’agit d’un gros véhicule Howo en provenanc...</td>\n",
       "      <td>Lomami : deux morts et plusieurs blessés dans ...</td>\n",
       "      <td>2024-10-14 16:24:53</td>\n",
       "      <td>https://actu30.cd/2024/10/lomami-deux-morts-et...</td>\n",
       "    </tr>\n",
       "    <tr>\n",
       "      <th>1</th>\n",
       "      <td>Les Léopards de la Rd-Congo affronteront les T...</td>\n",
       "      <td>Eliminatoires CAN 2025 / Tanzanie vs RDC : « O...</td>\n",
       "      <td>2024-10-14 00:00:00</td>\n",
       "      <td>https://www.mediacongo.net/article-actualite-1...</td>\n",
       "    </tr>\n",
       "    <tr>\n",
       "      <th>2</th>\n",
       "      <td>Accompagné de quelques députés et sénateurs, l...</td>\n",
       "      <td>À la 149ème Assemblée de l'Union inter-parleme...</td>\n",
       "      <td>2024-10-14 00:00:00</td>\n",
       "      <td>https://www.mediacongo.net/article-actualite-1...</td>\n",
       "    </tr>\n",
       "    <tr>\n",
       "      <th>3</th>\n",
       "      <td>Le procureur de la Cour pénale internationale,...</td>\n",
       "      <td>Urgent : la CPI réactive ses enquêtes sur les ...</td>\n",
       "      <td>2024-10-14 00:00:00</td>\n",
       "      <td>https://www.mediacongo.net/article-actualite-1...</td>\n",
       "    </tr>\n",
       "    <tr>\n",
       "      <th>4</th>\n",
       "      <td>Le gouvernement sénégalais a présenté ce lundi...</td>\n",
       "      <td>Sénégal : le gouvernement présente un vaste pl...</td>\n",
       "      <td>2024-10-14 00:00:00</td>\n",
       "      <td>https://www.mediacongo.net/article-actualite-1...</td>\n",
       "    </tr>\n",
       "    <tr>\n",
       "      <th>...</th>\n",
       "      <td>...</td>\n",
       "      <td>...</td>\n",
       "      <td>...</td>\n",
       "      <td>...</td>\n",
       "    </tr>\n",
       "    <tr>\n",
       "      <th>79</th>\n",
       "      <td>Cet événement a coïncidé avec la double commém...</td>\n",
       "      <td>À Nkamba, Daniel Bumba appelle à prier pour l’...</td>\n",
       "      <td>2024-10-14 03:56:35</td>\n",
       "      <td>https://actu30.cd/2024/10/a-nkamba-daniel-bumb...</td>\n",
       "    </tr>\n",
       "    <tr>\n",
       "      <th>80</th>\n",
       "      <td>Selon le communiqué final de cette réunion, le...</td>\n",
       "      <td>Processus de Luanda : la RDC et le Rwanda s’ac...</td>\n",
       "      <td>2024-10-14 05:37:26</td>\n",
       "      <td>https://actu30.cd/2024/10/processus-de-luanda-...</td>\n",
       "    </tr>\n",
       "    <tr>\n",
       "      <th>81</th>\n",
       "      <td>C’est l’administrateur du territoire de Djugu ...</td>\n",
       "      <td>Deux militaires tués par des hommes armés à Djugu</td>\n",
       "      <td>2024-10-14 05:58:03</td>\n",
       "      <td>https://actu30.cd/2024/10/deux-militaires-tues...</td>\n",
       "    </tr>\n",
       "    <tr>\n",
       "      <th>82</th>\n",
       "      <td>Le chargé de communication et sensibilisation ...</td>\n",
       "      <td>Lubero : 3 rebelles ADF tués par la coalition ...</td>\n",
       "      <td>2024-10-14 05:52:37</td>\n",
       "      <td>https://actu30.cd/2024/10/lubero-3-rebelles-ad...</td>\n",
       "    </tr>\n",
       "    <tr>\n",
       "      <th>83</th>\n",
       "      <td>Trois combattants des Forces démocratiques all...</td>\n",
       "      <td>RDC: trois ADF tués à Bapere, les terroristes ...</td>\n",
       "      <td>2024-10-14 07:15:00</td>\n",
       "      <td>https://actualite.cd/2024/10/14/rdc-trois-adf-...</td>\n",
       "    </tr>\n",
       "  </tbody>\n",
       "</table>\n",
       "<p>84 rows × 4 columns</p>\n",
       "</div>"
      ],
      "text/plain": [
       "                                              content  \\\n",
       "0   Il s’agit d’un gros véhicule Howo en provenanc...   \n",
       "1   Les Léopards de la Rd-Congo affronteront les T...   \n",
       "2   Accompagné de quelques députés et sénateurs, l...   \n",
       "3   Le procureur de la Cour pénale internationale,...   \n",
       "4   Le gouvernement sénégalais a présenté ce lundi...   \n",
       "..                                                ...   \n",
       "79  Cet événement a coïncidé avec la double commém...   \n",
       "80  Selon le communiqué final de cette réunion, le...   \n",
       "81  C’est l’administrateur du territoire de Djugu ...   \n",
       "82  Le chargé de communication et sensibilisation ...   \n",
       "83  Trois combattants des Forces démocratiques all...   \n",
       "\n",
       "                                                title           posted_at  \\\n",
       "0   Lomami : deux morts et plusieurs blessés dans ... 2024-10-14 16:24:53   \n",
       "1   Eliminatoires CAN 2025 / Tanzanie vs RDC : « O... 2024-10-14 00:00:00   \n",
       "2   À la 149ème Assemblée de l'Union inter-parleme... 2024-10-14 00:00:00   \n",
       "3   Urgent : la CPI réactive ses enquêtes sur les ... 2024-10-14 00:00:00   \n",
       "4   Sénégal : le gouvernement présente un vaste pl... 2024-10-14 00:00:00   \n",
       "..                                                ...                 ...   \n",
       "79  À Nkamba, Daniel Bumba appelle à prier pour l’... 2024-10-14 03:56:35   \n",
       "80  Processus de Luanda : la RDC et le Rwanda s’ac... 2024-10-14 05:37:26   \n",
       "81  Deux militaires tués par des hommes armés à Djugu 2024-10-14 05:58:03   \n",
       "82  Lubero : 3 rebelles ADF tués par la coalition ... 2024-10-14 05:52:37   \n",
       "83  RDC: trois ADF tués à Bapere, les terroristes ... 2024-10-14 07:15:00   \n",
       "\n",
       "                                                  url  \n",
       "0   https://actu30.cd/2024/10/lomami-deux-morts-et...  \n",
       "1   https://www.mediacongo.net/article-actualite-1...  \n",
       "2   https://www.mediacongo.net/article-actualite-1...  \n",
       "3   https://www.mediacongo.net/article-actualite-1...  \n",
       "4   https://www.mediacongo.net/article-actualite-1...  \n",
       "..                                                ...  \n",
       "79  https://actu30.cd/2024/10/a-nkamba-daniel-bumb...  \n",
       "80  https://actu30.cd/2024/10/processus-de-luanda-...  \n",
       "81  https://actu30.cd/2024/10/deux-militaires-tues...  \n",
       "82  https://actu30.cd/2024/10/lubero-3-rebelles-ad...  \n",
       "83  https://actualite.cd/2024/10/14/rdc-trois-adf-...  \n",
       "\n",
       "[84 rows x 4 columns]"
      ]
     },
     "execution_count": 25,
     "metadata": {},
     "output_type": "execute_result"
    }
   ],
   "source": [
    "results_df"
   ]
  },
  {
   "cell_type": "code",
   "execution_count": 26,
   "metadata": {},
   "outputs": [
    {
     "name": "stderr",
     "output_type": "stream",
     "text": [
      "/Users/esp.py/Projects/Personal/end-to-end-rag/.venv/lib/python3.10/site-packages/tqdm/auto.py:21: TqdmWarning: IProgress not found. Please update jupyter and ipywidgets. See https://ipywidgets.readthedocs.io/en/stable/user_install.html\n",
      "  from .autonotebook import tqdm as notebook_tqdm\n"
     ]
    }
   ],
   "source": [
    "from src.rag.components.generator import LLamaCppGeneratorComponent"
   ]
  },
  {
   "cell_type": "markdown",
   "metadata": {},
   "source": [
    "prompting doesn't seem to wokr, let us use clustering and prompting."
   ]
  },
  {
   "cell_type": "markdown",
   "metadata": {},
   "source": [
    "The step will be computing the embedding of the documents, and then cluster the document. Then for each cluster of documents, we will generate a summary."
   ]
  },
  {
   "cell_type": "markdown",
   "metadata": {},
   "source": [
    "embedding_model_id = \"dunzhang/stella_en_400M_v5\""
   ]
  },
  {
   "cell_type": "code",
   "execution_count": 31,
   "metadata": {},
   "outputs": [],
   "source": [
    "embedding_model_id = \"dunzhang/stella_en_400M_v5\""
   ]
  },
  {
   "cell_type": "code",
   "execution_count": 32,
   "metadata": {},
   "outputs": [],
   "source": [
    "from pathlib import Path"
   ]
  },
  {
   "cell_type": "code",
   "execution_count": 33,
   "metadata": {},
   "outputs": [],
   "source": [
    "model_path = Path.cwd().joinpath(\"models\")"
   ]
  },
  {
   "cell_type": "code",
   "execution_count": 34,
   "metadata": {},
   "outputs": [],
   "source": [
    "embedding_model_path = model_path.joinpath(embedding_model_id)"
   ]
  },
  {
   "cell_type": "code",
   "execution_count": 35,
   "metadata": {},
   "outputs": [],
   "source": [
    "\n",
    "transformer_kwargs = {\"model_name_or_path\": embedding_model_path.__str__(),\n",
    "                      \"trust_remote_code\": True,\n",
    "                      \"device\": \"cpu\",\n",
    "                      \"config_kwargs\": {\"use_memory_efficient_attention\": False,\n",
    "                                        \"unpad_inputs\": False},\n",
    "                      \"cache_folder\": model_path}"
   ]
  },
  {
   "cell_type": "code",
   "execution_count": 36,
   "metadata": {},
   "outputs": [],
   "source": [
    "from sentence_transformers import SentenceTransformer"
   ]
  },
  {
   "cell_type": "code",
   "execution_count": 37,
   "metadata": {},
   "outputs": [
    {
     "name": "stderr",
     "output_type": "stream",
     "text": [
      "Some weights of the model checkpoint at /Users/esp.py/Projects/Personal/end-to-end-rag/models/dunzhang/stella_en_400M_v5 were not used when initializing NewModel: ['new.pooler.dense.bias', 'new.pooler.dense.weight']\n",
      "- This IS expected if you are initializing NewModel from the checkpoint of a model trained on another task or with another architecture (e.g. initializing a BertForSequenceClassification model from a BertForPreTraining model).\n",
      "- This IS NOT expected if you are initializing NewModel from the checkpoint of a model that you expect to be exactly identical (initializing a BertForSequenceClassification model from a BertForSequenceClassification model).\n"
     ]
    }
   ],
   "source": [
    "sentence_transformer_model = SentenceTransformer(\n",
    "    **transformer_kwargs)"
   ]
  },
  {
   "cell_type": "code",
   "execution_count": 38,
   "metadata": {},
   "outputs": [
    {
     "name": "stderr",
     "output_type": "stream",
     "text": [
      "/Users/esp.py/Projects/Personal/end-to-end-rag/.venv/lib/python3.10/site-packages/transformers/modeling_utils.py:1141: FutureWarning: The `device` argument is deprecated and will be removed in v5 of Transformers.\n",
      "  warnings.warn(\n"
     ]
    }
   ],
   "source": [
    "today_news_embeddings = sentence_transformer_model.encode(\n",
    "    results_df.content.tolist())"
   ]
  },
  {
   "cell_type": "markdown",
   "metadata": {},
   "source": [
    "Not just clustering but let start with paragraph spliting and then embedding."
   ]
  },
  {
   "cell_type": "code",
   "execution_count": 70,
   "metadata": {},
   "outputs": [
    {
     "data": {
      "text/plain": [
       "array([[-0.4820006 ,  0.02336845, -0.5437746 , ...,  0.10597923,\n",
       "         0.33444557,  0.3791698 ],\n",
       "       [-0.6060782 , -0.04309595, -0.6395918 , ...,  0.39404675,\n",
       "         0.2783442 , -0.92615753],\n",
       "       [ 0.1494045 ,  0.06794187, -0.8322147 , ...,  0.43574128,\n",
       "         0.6172848 ,  0.2919908 ],\n",
       "       ...,\n",
       "       [-0.7862015 ,  0.19975415, -1.5908132 , ..., -0.30467385,\n",
       "        -0.18797877,  0.10968665],\n",
       "       [ 0.08682243, -0.25162956, -0.65960604, ..., -0.09986489,\n",
       "         0.06282356,  0.27322528],\n",
       "       [ 0.00446194,  0.75498545, -2.179459  , ..., -0.29409176,\n",
       "         0.6102005 ,  0.0094057 ]], dtype=float32)"
      ]
     },
     "execution_count": 70,
     "metadata": {},
     "output_type": "execute_result"
    }
   ],
   "source": [
    "today_news_embeddings"
   ]
  },
  {
   "cell_type": "code",
   "execution_count": 39,
   "metadata": {},
   "outputs": [
    {
     "data": {
      "text/plain": [
       "(84, 1024)"
      ]
     },
     "execution_count": 39,
     "metadata": {},
     "output_type": "execute_result"
    }
   ],
   "source": [
    "today_news_embeddings.shape"
   ]
  },
  {
   "cell_type": "code",
   "execution_count": 40,
   "metadata": {},
   "outputs": [],
   "source": [
    "from sklearn.cluster import KMeans"
   ]
  },
  {
   "cell_type": "code",
   "execution_count": 41,
   "metadata": {},
   "outputs": [],
   "source": [
    "import matplotlib.pyplot as plt"
   ]
  },
  {
   "cell_type": "code",
   "execution_count": 42,
   "metadata": {},
   "outputs": [
    {
     "data": {
      "text/plain": [
       "<Figure size 500x1000 with 0 Axes>"
      ]
     },
     "metadata": {},
     "output_type": "display_data"
    }
   ],
   "source": [
    "axes = plt.figure(figsize=(5, 10))"
   ]
  },
  {
   "cell_type": "code",
   "execution_count": 43,
   "metadata": {},
   "outputs": [],
   "source": [
    "similarities = sentence_transformer_model.similarity(today_news_embeddings, today_news_embeddings)"
   ]
  },
  {
   "cell_type": "code",
   "execution_count": 44,
   "metadata": {},
   "outputs": [],
   "source": [
    "import seaborn as sb"
   ]
  },
  {
   "cell_type": "code",
   "execution_count": 45,
   "metadata": {},
   "outputs": [],
   "source": [
    "#plt.figure(figsize=(50, 50))\n",
    "#sb.heatmap(similarities, cmap=\"Blues\", annot=True)"
   ]
  },
  {
   "cell_type": "code",
   "execution_count": 46,
   "metadata": {},
   "outputs": [
    {
     "data": {
      "text/plain": [
       "content      L'Organisation mondiale de la Santé (OMS) a fr...\n",
       "title        Mpox : l'OMS approuve un vaccin pour les adole...\n",
       "posted_at                                  2024-10-14 00:00:00\n",
       "url          https://www.mediacongo.net/article-actualite-1...\n",
       "Name: 25, dtype: object"
      ]
     },
     "execution_count": 46,
     "metadata": {},
     "output_type": "execute_result"
    }
   ],
   "source": [
    "results_df.iloc[25]"
   ]
  },
  {
   "cell_type": "code",
   "execution_count": 47,
   "metadata": {},
   "outputs": [],
   "source": [
    "from sklearn.metrics.pairwise import cosine_similarity\n",
    "from sklearn.metrics import silhouette_score"
   ]
  },
  {
   "cell_type": "code",
   "execution_count": 67,
   "metadata": {},
   "outputs": [],
   "source": [
    "def find_best_estimator (X):\n",
    "    K_mean_estimators = [\n",
    "        (f\"KMeans_{i}\", KMeans(n_clusters=i, random_state=42, max_iter=3000)) for i in range(3, X.shape[0])]\n",
    "    scores = []\n",
    "\n",
    "    best_estimator = None\n",
    "    best_metric = float(\"-inf\")\n",
    "    for estimator_name, estimator in K_mean_estimators :\n",
    "        estimator.fit(X)\n",
    "        labels = estimator.labels_\n",
    "        score = silhouette_score(\n",
    "            X, labels)\n",
    "        if score > best_metric :\n",
    "            best_metric = score\n",
    "            best_estimator = estimator\n",
    "        print(estimator_name, score)\n",
    "        scores.append(score)\n",
    "    return best_estimator, scores"
   ]
  },
  {
   "cell_type": "code",
   "execution_count": null,
   "metadata": {},
   "outputs": [],
   "source": []
  },
  {
   "cell_type": "code",
   "execution_count": 68,
   "metadata": {},
   "outputs": [
    {
     "name": "stdout",
     "output_type": "stream",
     "text": [
      "KMeans_3 0.036040705\n",
      "KMeans_4 0.07274605\n",
      "KMeans_5 0.06260349\n",
      "KMeans_6 0.05918769\n",
      "KMeans_7 0.06568891\n",
      "KMeans_8 0.06289819\n",
      "KMeans_9 0.061266117\n",
      "KMeans_10 0.06190895\n",
      "KMeans_11 0.071404256\n",
      "KMeans_12 0.08238934\n",
      "KMeans_13 0.08901564\n",
      "KMeans_14 0.09000916\n",
      "KMeans_15 0.09256746\n",
      "KMeans_16 0.10520876\n",
      "KMeans_17 0.10926188\n",
      "KMeans_18 0.1023944\n",
      "KMeans_19 0.09309222\n",
      "KMeans_20 0.0900941\n",
      "KMeans_21 0.11271521\n",
      "KMeans_22 0.11507741\n",
      "KMeans_23 0.118448086\n",
      "KMeans_24 0.118499555\n",
      "KMeans_25 0.120120004\n",
      "KMeans_26 0.12464226\n",
      "KMeans_27 0.121260494\n",
      "KMeans_28 0.123208985\n",
      "KMeans_29 0.12878102\n",
      "KMeans_30 0.1328297\n",
      "KMeans_31 0.13454585\n",
      "KMeans_32 0.12712568\n",
      "KMeans_33 0.12852223\n",
      "KMeans_34 0.13140887\n",
      "KMeans_35 0.135113\n",
      "KMeans_36 0.136845\n",
      "KMeans_37 0.13403058\n",
      "KMeans_38 0.13407114\n",
      "KMeans_39 0.13617338\n",
      "KMeans_40 0.13780507\n",
      "KMeans_41 0.13669527\n",
      "KMeans_42 0.13468646\n",
      "KMeans_43 0.13951433\n",
      "KMeans_44 0.13690956\n",
      "KMeans_45 0.13662912\n",
      "KMeans_46 0.13485773\n",
      "KMeans_47 0.13269965\n",
      "KMeans_48 0.1333308\n",
      "KMeans_49 0.13393068\n",
      "KMeans_50 0.13663547\n",
      "KMeans_51 0.14089024\n",
      "KMeans_52 0.13601209\n",
      "KMeans_53 0.13283102\n",
      "KMeans_54 0.13440993\n",
      "KMeans_55 0.13159354\n",
      "KMeans_56 0.12987386\n",
      "KMeans_57 0.12819543\n",
      "KMeans_58 0.12572734\n",
      "KMeans_59 0.123341516\n",
      "KMeans_60 0.12046143\n",
      "KMeans_61 0.1184014\n",
      "KMeans_62 0.11669125\n",
      "KMeans_63 0.11479467\n",
      "KMeans_64 0.11347888\n",
      "KMeans_65 0.10904377\n",
      "KMeans_66 0.10417323\n",
      "KMeans_67 0.10103765\n",
      "KMeans_68 0.09429576\n",
      "KMeans_69 0.089480706\n",
      "KMeans_70 0.0921439\n",
      "KMeans_71 0.09186304\n",
      "KMeans_72 0.08772761\n",
      "KMeans_73 0.08449207\n",
      "KMeans_74 0.07800704\n",
      "KMeans_75 0.06795976\n",
      "KMeans_76 0.050412837\n",
      "KMeans_77 0.041361015\n",
      "KMeans_78 0.043013033\n",
      "KMeans_79 0.033960525\n",
      "KMeans_80 0.035605866\n",
      "KMeans_81 0.02362207\n",
      "KMeans_82 0.014998276\n",
      "KMeans_83 0.013041829\n"
     ]
    }
   ],
   "source": [
    "best_estimator, scores = find_best_estimator(today_news_embeddings)"
   ]
  },
  {
   "cell_type": "code",
   "execution_count": 69,
   "metadata": {},
   "outputs": [
    {
     "data": {
      "text/plain": [
       "<Figure size 500x1000 with 0 Axes>"
      ]
     },
     "metadata": {},
     "output_type": "display_data"
    }
   ],
   "source": [
    "axes = plt.figure(figsize=(5, 10))"
   ]
  },
  {
   "cell_type": "code",
   "execution_count": 71,
   "metadata": {},
   "outputs": [
    {
     "data": {
      "text/plain": [
       "[<matplotlib.lines.Line2D at 0x2a359d480>]"
      ]
     },
     "execution_count": 71,
     "metadata": {},
     "output_type": "execute_result"
    },
    {
     "data": {
      "image/png": "[encoded data removed]",
      "text/plain": [
       "<Figure size 640x480 with 1 Axes>"
      ]
     },
     "metadata": {},
     "output_type": "display_data"
    }
   ],
   "source": [
    "fig, ax = plt.subplots()\n",
    "ax.plot(range(3, today_news_embeddings.shape[0]), scores)\n",
    "ax.set_xlabel(\"number of clusters\")\n",
    "ax.set_ylabel(\"silhouette score\")\n",
    "ax.set_title(\"silhouette score vs number of clusters\")"
   ]
  },
  {
   "cell_type": "code",
   "execution_count": 72,
   "metadata": {},
   "outputs": [],
   "source": [
    "def analyse_embeddings(dataframe, embeddings, index, label_column=\"labels\"):\n",
    "    \"\"\" take an matrix of embeddings, and the labels.\n",
    "    for each label compute the cosine similarity of document with that label.\n",
    "    \"\"\"\n",
    "    document_in_index = dataframe.query(f\"{label_column} == {index}\")\n",
    "    with pd.option_context('display.max_colwidth', None):\n",
    "        display(document_in_index.title)\n",
    "    document_index = document_in_index.index\n",
    "    vectors = embeddings[document_index]\n",
    "    return sentence_transformer_model.similarity(vectors,  vectors)"
   ]
  },
  {
   "cell_type": "code",
   "execution_count": 73,
   "metadata": {},
   "outputs": [
    {
     "data": {
      "text/plain": [
       "51"
      ]
     },
     "execution_count": 73,
     "metadata": {},
     "output_type": "execute_result"
    }
   ],
   "source": [
    "best_estimator.n_clusters"
   ]
  },
  {
   "cell_type": "code",
   "execution_count": 74,
   "metadata": {},
   "outputs": [],
   "source": [
    "results_df[\"labels\"] = best_estimator.labels_"
   ]
  },
  {
   "cell_type": "code",
   "execution_count": 127,
   "metadata": {},
   "outputs": [
    {
     "data": {
      "text/plain": [
       "8     Insécurité dans l'Est : la RDC renforce sa coopération militaire avec l'Ouganda et reçoit un message particulier du Congo-Brazzaville !\n",
       "33                    Le représentant spécial de l’UE pour la région des Grands lacs quitte Kinshasa sans avoir rencontrer Felix Tshisekedi !\n",
       "Name: title, dtype: object"
      ]
     },
     "metadata": {},
     "output_type": "display_data"
    },
    {
     "data": {
      "text/plain": [
       "tensor([[1.0000, 0.7135],\n",
       "        [0.7135, 1.0000]])"
      ]
     },
     "execution_count": 127,
     "metadata": {},
     "output_type": "execute_result"
    }
   ],
   "source": [
    "analyse_embeddings(results_df, today_news_embeddings,50)"
   ]
  },
  {
   "cell_type": "markdown",
   "metadata": {},
   "source": [
    "Actually I just found out that Kmean is good at clustering document, my documents seems to be very noisy, there are a lot of clusters with 1 or 2 documents, and after going through each cluster separately I found that most of the document make sense."
   ]
  },
  {
   "cell_type": "markdown",
   "metadata": {},
   "source": [
    "PCA and then clustering"
   ]
  },
  {
   "cell_type": "code",
   "execution_count": 128,
   "metadata": {},
   "outputs": [],
   "source": [
    "from sklearn.decomposition import PCA"
   ]
  },
  {
   "cell_type": "code",
   "execution_count": 129,
   "metadata": {},
   "outputs": [],
   "source": [
    "pca_model = PCA(n_components=today_news_embeddings.shape[0])"
   ]
  },
  {
   "cell_type": "code",
   "execution_count": 130,
   "metadata": {},
   "outputs": [],
   "source": [
    "reduced_embeddings = pca_model.fit_transform(today_news_embeddings)"
   ]
  },
  {
   "cell_type": "code",
   "execution_count": 131,
   "metadata": {},
   "outputs": [
    {
     "data": {
      "text/plain": [
       "(84, 84)"
      ]
     },
     "execution_count": 131,
     "metadata": {},
     "output_type": "execute_result"
    }
   ],
   "source": [
    "reduced_embeddings.shape"
   ]
  },
  {
   "cell_type": "code",
   "execution_count": 132,
   "metadata": {},
   "outputs": [
    {
     "name": "stdout",
     "output_type": "stream",
     "text": [
      "KMeans_3 0.03604067\n",
      "KMeans_4 0.07274603\n",
      "KMeans_5 0.06260348\n",
      "KMeans_6 0.059187703\n",
      "KMeans_7 0.065688916\n",
      "KMeans_8 0.06289819\n",
      "KMeans_9 0.061266106\n",
      "KMeans_10 0.061908953\n",
      "KMeans_11 0.071404256\n",
      "KMeans_12 0.082389355\n",
      "KMeans_13 0.08901565\n",
      "KMeans_14 0.09000917\n",
      "KMeans_15 0.09256746\n",
      "KMeans_16 0.10520877\n",
      "KMeans_17 0.10926186\n",
      "KMeans_18 0.1023944\n",
      "KMeans_19 0.09309222\n",
      "KMeans_20 0.090094104\n",
      "KMeans_21 0.11271518\n",
      "KMeans_22 0.11507739\n",
      "KMeans_23 0.118448086\n",
      "KMeans_24 0.11849953\n",
      "KMeans_25 0.12011999\n",
      "KMeans_26 0.12464224\n",
      "KMeans_27 0.12126047\n",
      "KMeans_28 0.123208985\n",
      "KMeans_29 0.128781\n",
      "KMeans_30 0.13282968\n",
      "KMeans_31 0.13454583\n",
      "KMeans_32 0.12712565\n",
      "KMeans_33 0.1285222\n",
      "KMeans_34 0.13140884\n",
      "KMeans_35 0.13511296\n",
      "KMeans_36 0.13684495\n",
      "KMeans_37 0.13403052\n",
      "KMeans_38 0.1340711\n",
      "KMeans_39 0.13617334\n",
      "KMeans_40 0.13780506\n",
      "KMeans_41 0.13669527\n",
      "KMeans_42 0.13468646\n",
      "KMeans_43 0.13951434\n",
      "KMeans_44 0.13690959\n",
      "KMeans_45 0.13662913\n",
      "KMeans_46 0.13485773\n",
      "KMeans_47 0.13269967\n",
      "KMeans_48 0.13333082\n",
      "KMeans_49 0.1339307\n",
      "KMeans_50 0.1366355\n",
      "KMeans_51 0.14089026\n",
      "KMeans_52 0.13601212\n",
      "KMeans_53 0.13283105\n",
      "KMeans_54 0.13441\n",
      "KMeans_55 0.13159359\n",
      "KMeans_56 0.12987387\n",
      "KMeans_57 0.12819545\n",
      "KMeans_58 0.12572736\n",
      "KMeans_59 0.12334154\n",
      "KMeans_60 0.120461464\n",
      "KMeans_61 0.11840142\n",
      "KMeans_62 0.11669127\n",
      "KMeans_63 0.11479469\n",
      "KMeans_64 0.113478884\n",
      "KMeans_65 0.10904379\n",
      "KMeans_66 0.10417325\n",
      "KMeans_67 0.10103767\n",
      "KMeans_68 0.09429577\n",
      "KMeans_69 0.08948071\n",
      "KMeans_70 0.09214391\n",
      "KMeans_71 0.09186305\n",
      "KMeans_72 0.08772763\n",
      "KMeans_73 0.084492095\n",
      "KMeans_74 0.07800706\n",
      "KMeans_75 0.06795977\n",
      "KMeans_76 0.05041284\n",
      "KMeans_77 0.041361023\n",
      "KMeans_78 0.043013044\n",
      "KMeans_79 0.033960536\n",
      "KMeans_80 0.035605874\n",
      "KMeans_81 0.023622068\n",
      "KMeans_82 0.014998277\n",
      "KMeans_83 0.013041834\n"
     ]
    }
   ],
   "source": [
    "pca_estimator = find_best_estimator(reduced_embeddings)[0]"
   ]
  },
  {
   "cell_type": "code",
   "execution_count": 134,
   "metadata": {},
   "outputs": [
    {
     "data": {
      "text/plain": [
       "51"
      ]
     },
     "execution_count": 134,
     "metadata": {},
     "output_type": "execute_result"
    }
   ],
   "source": [
    "pca_estimator.n_clusters"
   ]
  },
  {
   "cell_type": "code",
   "execution_count": 135,
   "metadata": {},
   "outputs": [
    {
     "data": {
      "text/plain": [
       "array([26,  2, 41, 12, 29, 16, 42, 49, 50,  2,  5, 23,  5, 48, 47, 35, 25,\n",
       "        4, 32, 37,  7, 21,  9, 17,  4, 45, 13, 27, 28,  9, 31,  0, 36, 50,\n",
       "        8, 15,  5, 20,  6,  9,  6, 19, 24, 12, 30, 30, 11,  2, 18,  2, 10,\n",
       "       34,  4,  9, 33, 15,  2, 10, 13, 43, 25,  1, 22, 14, 12, 44,  1,  9,\n",
       "       14, 38,  2, 40, 22, 11, 46, 39,  9, 34,  7, 10,  5,  3, 39, 31],\n",
       "      dtype=int32)"
      ]
     },
     "execution_count": 135,
     "metadata": {},
     "output_type": "execute_result"
    }
   ],
   "source": [
    "pca_estimator.labels_"
   ]
  },
  {
   "cell_type": "code",
   "execution_count": 136,
   "metadata": {},
   "outputs": [
    {
     "data": {
      "text/plain": [
       "array([26,  2, 41, 12, 29, 16, 42, 49, 50,  2,  5, 23,  5, 48, 47, 35, 25,\n",
       "        4, 32, 37,  7, 21,  9, 17,  4, 45, 13, 27, 28,  9, 31,  0, 36, 50,\n",
       "        8, 15,  5, 20,  6,  9,  6, 19, 24, 12, 30, 30, 11,  2, 18,  2, 10,\n",
       "       34,  4,  9, 33, 15,  2, 10, 13, 43, 25,  1, 22, 14, 12, 44,  1,  9,\n",
       "       14, 38,  2, 40, 22, 11, 46, 39,  9, 34,  7, 10,  5,  3, 39, 31],\n",
       "      dtype=int32)"
      ]
     },
     "execution_count": 136,
     "metadata": {},
     "output_type": "execute_result"
    }
   ],
   "source": [
    "best_estimator.labels_"
   ]
  },
  {
   "cell_type": "code",
   "execution_count": 137,
   "metadata": {},
   "outputs": [],
   "source": [
    "results_df[\"labels_pca\"] = pca_estimator.labels_"
   ]
  },
  {
   "cell_type": "code",
   "execution_count": 138,
   "metadata": {},
   "outputs": [
    {
     "data": {
      "text/html": [
       "<div>\n",
       "<style scoped>\n",
       "    .dataframe tbody tr th:only-of-type {\n",
       "        vertical-align: middle;\n",
       "    }\n",
       "\n",
       "    .dataframe tbody tr th {\n",
       "        vertical-align: top;\n",
       "    }\n",
       "\n",
       "    .dataframe thead th {\n",
       "        text-align: right;\n",
       "    }\n",
       "</style>\n",
       "<table border=\"1\" class=\"dataframe\">\n",
       "  <thead>\n",
       "    <tr style=\"text-align: right;\">\n",
       "      <th></th>\n",
       "      <th>content</th>\n",
       "      <th>title</th>\n",
       "      <th>posted_at</th>\n",
       "      <th>url</th>\n",
       "      <th>labels</th>\n",
       "      <th>labels_pca</th>\n",
       "    </tr>\n",
       "  </thead>\n",
       "  <tbody>\n",
       "  </tbody>\n",
       "</table>\n",
       "</div>"
      ],
      "text/plain": [
       "Empty DataFrame\n",
       "Columns: [content, title, posted_at, url, labels, labels_pca]\n",
       "Index: []"
      ]
     },
     "execution_count": 138,
     "metadata": {},
     "output_type": "execute_result"
    }
   ],
   "source": [
    "results_df.loc[results_df.labels_pca != results_df.labels]"
   ]
  },
  {
   "cell_type": "code",
   "execution_count": 139,
   "metadata": {},
   "outputs": [
    {
     "data": {
      "text/plain": [
       "81    Deux militaires tués par des hommes armés à Djugu\n",
       "Name: title, dtype: object"
      ]
     },
     "metadata": {},
     "output_type": "display_data"
    },
    {
     "data": {
      "text/plain": [
       "tensor([[1.0000]])"
      ]
     },
     "execution_count": 139,
     "metadata": {},
     "output_type": "execute_result"
    }
   ],
   "source": [
    "analyse_embeddings(results_df, reduced_embeddings, 3, \"labels_pca\")"
   ]
  },
  {
   "cell_type": "markdown",
   "metadata": {},
   "source": [
    "### Applying Hiearchical clustering\n",
    "\n",
    "We can see that our clusters are good and the first step we were able to separate document, let now try hiearchical clustering to check if there are cluster that can be merged together."
   ]
  },
  {
   "cell_type": "code",
   "execution_count": 140,
   "metadata": {},
   "outputs": [],
   "source": [
    "from scipy.cluster.hierarchy import linkage\n",
    "from scipy.cluster.hierarchy import dendrogram\n",
    "from scipy.cluster.hierarchy import cut_tree"
   ]
  },
  {
   "cell_type": "code",
   "execution_count": 143,
   "metadata": {},
   "outputs": [
    {
     "data": {
      "image/png": "[encoded data removed]",
      "text/plain": [
       "<Figure size 2000x1000 with 1 Axes>"
      ]
     },
     "metadata": {},
     "output_type": "display_data"
    }
   ],
   "source": [
    "# Complete Linkage\n",
    "plt.figure(figsize = (20,10))\n",
    "mergings = linkage(today_news_embeddings,\n",
    "                   method='complete', metric='cosine')\n",
    "dendrogram(mergings)\n",
    "plt.show()"
   ]
  },
  {
   "cell_type": "markdown",
   "metadata": {},
   "source": [
    "Also, I found out the dentogram method is working, I will use this post to learn more about it.\n",
    "\n"
   ]
  },
  {
   "cell_type": "markdown",
   "metadata": {},
   "source": [
    "https://joernhees.de/blog/2015/08/26/scipy-hierarchical-clustering-and-dendrogram-tutorial/"
   ]
  },
  {
   "cell_type": "code",
   "execution_count": 182,
   "metadata": {},
   "outputs": [
    {
     "data": {
      "image/png": "[encoded data removed]",
      "text/plain": [
       "<Figure size 2000x1000 with 1 Axes>"
      ]
     },
     "metadata": {},
     "output_type": "display_data"
    }
   ],
   "source": [
    "# Complete Linkage\n",
    "plt.figure(figsize=(20, 10))\n",
    "mergings = linkage(today_news_embeddings,\n",
    "                   method='complete', metric='cosine')\n",
    "dendrogram(mergings)\n",
    "plt.axhline(y=0.45, c='k')\n",
    "plt.show()"
   ]
  },
  {
   "cell_type": "code",
   "execution_count": 184,
   "metadata": {},
   "outputs": [
    {
     "data": {
      "text/plain": [
       "(83, 4)"
      ]
     },
     "execution_count": 184,
     "metadata": {},
     "output_type": "execute_result"
    }
   ],
   "source": [
    "mergings.shape"
   ]
  },
  {
   "cell_type": "code",
   "execution_count": 185,
   "metadata": {},
   "outputs": [],
   "source": [
    "from scipy.cluster.hierarchy import fcluster\n",
    "\n",
    "label_hierarchical = fcluster(mergings, 0.45, criterion=\"distance\")"
   ]
  },
  {
   "cell_type": "code",
   "execution_count": 180,
   "metadata": {},
   "outputs": [],
   "source": [
    "import numpy as np"
   ]
  },
  {
   "cell_type": "code",
   "execution_count": 159,
   "metadata": {},
   "outputs": [
    {
     "data": {
      "text/html": [
       "<div>\n",
       "<style scoped>\n",
       "    .dataframe tbody tr th:only-of-type {\n",
       "        vertical-align: middle;\n",
       "    }\n",
       "\n",
       "    .dataframe tbody tr th {\n",
       "        vertical-align: top;\n",
       "    }\n",
       "\n",
       "    .dataframe thead th {\n",
       "        text-align: right;\n",
       "    }\n",
       "</style>\n",
       "<table border=\"1\" class=\"dataframe\">\n",
       "  <thead>\n",
       "    <tr style=\"text-align: right;\">\n",
       "      <th></th>\n",
       "      <th>content</th>\n",
       "      <th>title</th>\n",
       "      <th>posted_at</th>\n",
       "      <th>url</th>\n",
       "      <th>labels</th>\n",
       "      <th>labels_pca</th>\n",
       "    </tr>\n",
       "  </thead>\n",
       "  <tbody>\n",
       "    <tr>\n",
       "      <th>20</th>\n",
       "      <td>Les enseignants des écoles publiques de la pro...</td>\n",
       "      <td>Maniema : vers la fin de la grève dans les éco...</td>\n",
       "      <td>2024-10-14 00:00:00</td>\n",
       "      <td>https://www.mediacongo.net/article-actualite-1...</td>\n",
       "      <td>7</td>\n",
       "      <td>7</td>\n",
       "    </tr>\n",
       "    <tr>\n",
       "      <th>78</th>\n",
       "      <td>Cette décision a été prise à l’issue de l’asse...</td>\n",
       "      <td>Maniema/Éducation : les enseignants des écoles...</td>\n",
       "      <td>2024-10-14 06:02:42</td>\n",
       "      <td>https://actu30.cd/2024/10/maniema-education-le...</td>\n",
       "      <td>7</td>\n",
       "      <td>7</td>\n",
       "    </tr>\n",
       "    <tr>\n",
       "      <th>7</th>\n",
       "      <td>Cela fait exactement 43 jours que les cours ne...</td>\n",
       "      <td>Enseignement public : Steve Mbikayi craint une...</td>\n",
       "      <td>2024-10-14 00:00:00</td>\n",
       "      <td>https://www.mediacongo.net/article-actualite-1...</td>\n",
       "      <td>49</td>\n",
       "      <td>49</td>\n",
       "    </tr>\n",
       "  </tbody>\n",
       "</table>\n",
       "</div>"
      ],
      "text/plain": [
       "                                              content  \\\n",
       "20  Les enseignants des écoles publiques de la pro...   \n",
       "78  Cette décision a été prise à l’issue de l’asse...   \n",
       "7   Cela fait exactement 43 jours que les cours ne...   \n",
       "\n",
       "                                                title           posted_at  \\\n",
       "20  Maniema : vers la fin de la grève dans les éco... 2024-10-14 00:00:00   \n",
       "78  Maniema/Éducation : les enseignants des écoles... 2024-10-14 06:02:42   \n",
       "7   Enseignement public : Steve Mbikayi craint une... 2024-10-14 00:00:00   \n",
       "\n",
       "                                                  url  labels  labels_pca  \n",
       "20  https://www.mediacongo.net/article-actualite-1...       7           7  \n",
       "78  https://actu30.cd/2024/10/maniema-education-le...       7           7  \n",
       "7   https://www.mediacongo.net/article-actualite-1...      49          49  "
      ]
     },
     "execution_count": 159,
     "metadata": {},
     "output_type": "execute_result"
    }
   ],
   "source": [
    "results_df.iloc[[20, 78, 7]]"
   ]
  },
  {
   "cell_type": "markdown",
   "metadata": {},
   "source": [
    "Need to comeback and explore hiearchical clustering"
   ]
  },
  {
   "cell_type": "code",
   "execution_count": 186,
   "metadata": {},
   "outputs": [],
   "source": [
    "results_df[\"labels_hierachical\"] = label_hierarchical"
   ]
  },
  {
   "cell_type": "code",
   "execution_count": 214,
   "metadata": {},
   "outputs": [
    {
     "data": {
      "text/html": [
       "<div>\n",
       "<style scoped>\n",
       "    .dataframe tbody tr th:only-of-type {\n",
       "        vertical-align: middle;\n",
       "    }\n",
       "\n",
       "    .dataframe tbody tr th {\n",
       "        vertical-align: top;\n",
       "    }\n",
       "\n",
       "    .dataframe thead th {\n",
       "        text-align: right;\n",
       "    }\n",
       "</style>\n",
       "<table border=\"1\" class=\"dataframe\">\n",
       "  <thead>\n",
       "    <tr style=\"text-align: right;\">\n",
       "      <th></th>\n",
       "      <th>content</th>\n",
       "      <th>title</th>\n",
       "      <th>posted_at</th>\n",
       "      <th>url</th>\n",
       "      <th>labels</th>\n",
       "      <th>labels_pca</th>\n",
       "      <th>labels_hierachical</th>\n",
       "    </tr>\n",
       "  </thead>\n",
       "  <tbody>\n",
       "    <tr>\n",
       "      <th>3</th>\n",
       "      <td>Le procureur de la Cour pénale internationale,...</td>\n",
       "      <td>Urgent : la CPI réactive ses enquêtes sur les ...</td>\n",
       "      <td>2024-10-14 00:00:00</td>\n",
       "      <td>https://www.mediacongo.net/article-actualite-1...</td>\n",
       "      <td>12</td>\n",
       "      <td>12</td>\n",
       "      <td>22</td>\n",
       "    </tr>\n",
       "    <tr>\n",
       "      <th>15</th>\n",
       "      <td>Dix ans de prison ferme et une arrestation imm...</td>\n",
       "      <td>Enfants volés en RD Congo et adoptés en Belgiq...</td>\n",
       "      <td>2024-10-14 00:00:00</td>\n",
       "      <td>https://www.mediacongo.net/article-actualite-1...</td>\n",
       "      <td>35</td>\n",
       "      <td>35</td>\n",
       "      <td>22</td>\n",
       "    </tr>\n",
       "    <tr>\n",
       "      <th>43</th>\n",
       "      <td>Le bureau procureur de la CPI souligne que « p...</td>\n",
       "      <td>Est de la RDC : la CPI réactive ses enquêtes s...</td>\n",
       "      <td>2024-10-14 15:42:11</td>\n",
       "      <td>https://actu30.cd/2024/10/est-de-la-rdc-la-cpi...</td>\n",
       "      <td>12</td>\n",
       "      <td>12</td>\n",
       "      <td>22</td>\n",
       "    </tr>\n",
       "    <tr>\n",
       "      <th>64</th>\n",
       "      <td>La Cour pénale internationale (CPI) a annoncé ...</td>\n",
       "      <td>La CPI réactive les enquêtes sur les crimes au...</td>\n",
       "      <td>2024-10-14 17:19:00</td>\n",
       "      <td>https://actualite.cd/index.php/2024/10/14/la-c...</td>\n",
       "      <td>12</td>\n",
       "      <td>12</td>\n",
       "      <td>22</td>\n",
       "    </tr>\n",
       "    <tr>\n",
       "      <th>69</th>\n",
       "      <td>Le gouvernement congolais, à travers le minist...</td>\n",
       "      <td>Caricature : la RDC à l’ère du désengorgement ...</td>\n",
       "      <td>2024-10-14 13:00:00</td>\n",
       "      <td>https://actualite.cd/index.php/2024/10/14/cari...</td>\n",
       "      <td>38</td>\n",
       "      <td>38</td>\n",
       "      <td>22</td>\n",
       "    </tr>\n",
       "  </tbody>\n",
       "</table>\n",
       "</div>"
      ],
      "text/plain": [
       "                                              content  \\\n",
       "3   Le procureur de la Cour pénale internationale,...   \n",
       "15  Dix ans de prison ferme et une arrestation imm...   \n",
       "43  Le bureau procureur de la CPI souligne que « p...   \n",
       "64  La Cour pénale internationale (CPI) a annoncé ...   \n",
       "69  Le gouvernement congolais, à travers le minist...   \n",
       "\n",
       "                                                title           posted_at  \\\n",
       "3   Urgent : la CPI réactive ses enquêtes sur les ... 2024-10-14 00:00:00   \n",
       "15  Enfants volés en RD Congo et adoptés en Belgiq... 2024-10-14 00:00:00   \n",
       "43  Est de la RDC : la CPI réactive ses enquêtes s... 2024-10-14 15:42:11   \n",
       "64  La CPI réactive les enquêtes sur les crimes au... 2024-10-14 17:19:00   \n",
       "69  Caricature : la RDC à l’ère du désengorgement ... 2024-10-14 13:00:00   \n",
       "\n",
       "                                                  url  labels  labels_pca  \\\n",
       "3   https://www.mediacongo.net/article-actualite-1...      12          12   \n",
       "15  https://www.mediacongo.net/article-actualite-1...      35          35   \n",
       "43  https://actu30.cd/2024/10/est-de-la-rdc-la-cpi...      12          12   \n",
       "64  https://actualite.cd/index.php/2024/10/14/la-c...      12          12   \n",
       "69  https://actualite.cd/index.php/2024/10/14/cari...      38          38   \n",
       "\n",
       "    labels_hierachical  \n",
       "3                   22  \n",
       "15                  22  \n",
       "43                  22  \n",
       "64                  22  \n",
       "69                  22  "
      ]
     },
     "execution_count": 214,
     "metadata": {},
     "output_type": "execute_result"
    }
   ],
   "source": [
    "results_df.query(\"labels_hierachical==22\")"
   ]
  },
  {
   "cell_type": "markdown",
   "metadata": {},
   "source": [
    "Let now find a way to select the best distance cutoff for the hiearacical clustering"
   ]
  },
  {
   "cell_type": "markdown",
   "metadata": {},
   "source": [
    "The best distance cutoff will be the distance that will give us the maximun shilouette score."
   ]
  },
  {
   "cell_type": "code",
   "execution_count": 220,
   "metadata": {},
   "outputs": [],
   "source": [
    "def select_best(X, merging):\n",
    "    max_shilouette = float(\"-inf\")\n",
    "    return_labels = np.zeros(X.shape[0])\n",
    "    for k in np.arange(0.2, 0.7, 0.01):\n",
    "        labels = fcluster(merging, k, criterion=\"distance\")\n",
    "        score = silhouette_score(\n",
    "            X, labels\n",
    "        )\n",
    "        if score > max_shilouette:\n",
    "            max_shilouette = score\n",
    "            return_labels = labels\n",
    "    return max_shilouette, return_labels"
   ]
  },
  {
   "cell_type": "code",
   "execution_count": 221,
   "metadata": {},
   "outputs": [],
   "source": [
    "best_distance, label_hierarchical =  select_best(today_news_embeddings, mergings)"
   ]
  },
  {
   "cell_type": "code",
   "execution_count": 224,
   "metadata": {},
   "outputs": [],
   "source": [
    "results_df[\"labels_hierachical\"] = label_hierarchical"
   ]
  },
  {
   "cell_type": "code",
   "execution_count": 266,
   "metadata": {},
   "outputs": [
    {
     "data": {
      "text/plain": [
       "0     Lomami : deux morts et plusieurs blessés dans un accident de la route sur l’axe Mwene Ditu – Luputa\n",
       "31                                   Egypte : nouvel accident ferroviaire, des décès et plusieurs blessés\n",
       "Name: title, dtype: object"
      ]
     },
     "metadata": {},
     "output_type": "display_data"
    },
    {
     "data": {
      "text/plain": [
       "tensor([[1.0000, 0.6242],\n",
       "        [0.6242, 1.0000]])"
      ]
     },
     "execution_count": 266,
     "metadata": {},
     "output_type": "execute_result"
    }
   ],
   "source": [
    "analyse_embeddings(results_df, today_news_embeddings, 1, \"labels_hierachical\")"
   ]
  },
  {
   "cell_type": "markdown",
   "metadata": {},
   "source": [
    "At this point we have a good clustering but we can go ahead the pic "
   ]
  },
  {
   "cell_type": "markdown",
   "metadata": {},
   "source": [
    "Once i have got the best labeling, i can go ahead and select the most important cluster. \n",
    "\n",
    "This will be all the cluster with more than 1 document, the rest of the document will be considered as noise. Each cluster with one document will be considered as noise."
   ]
  },
  {
   "cell_type": "code",
   "execution_count": 271,
   "metadata": {},
   "outputs": [],
   "source": [
    "cluster_counts = results_df.labels_hierachical.value_counts()\n",
    "labels_with_more_than_one = cluster_counts[cluster_counts > 1].index"
   ]
  },
  {
   "cell_type": "code",
   "execution_count": 273,
   "metadata": {},
   "outputs": [],
   "source": [
    "important_news_df = results_df.loc[results_df.labels_hierachical.isin(labels_with_more_than_one)]"
   ]
  },
  {
   "cell_type": "markdown",
   "metadata": {},
   "source": [
    "### Summarization Part."
   ]
  },
  {
   "cell_type": "code",
   "execution_count": null,
   "metadata": {},
   "outputs": [],
   "source": [
    "model_name = \"Qwen/Qwen2.5-1.5B-Instruct\""
   ]
  },
  {
   "cell_type": "code",
   "execution_count": null,
   "metadata": {},
   "outputs": [],
   "source": [
    "prompt = \"You are a french news reporter\""
   ]
  },
  {
   "cell_type": "code",
   "execution_count": null,
   "metadata": {},
   "outputs": [],
   "source": [
    "llama_cpp_generator = LLamaCppGeneratorComponent(\n",
    "    api_url=\"http://127.0.0.1:8001\",\n",
    "    model_name=model_name,\n",
    "    prompt=prompt\n",
    ")"
   ]
  },
  {
   "cell_type": "code",
   "execution_count": null,
   "metadata": {},
   "outputs": [
    {
     "name": "stdout",
     "output_type": "stream",
     "text": [
      "HTTPConnectionPool(host='127.0.0.1', port=8001): Max retries exceeded with url: /health (Caused by NewConnectionError('<urllib3.connection.HTTPConnection object at 0x167c842e0>: Failed to establish a new connection: [Errno 61] Connection refused'))\n"
     ]
    },
    {
     "data": {
      "text/plain": [
       "False"
      ]
     },
     "metadata": {},
     "output_type": "display_data"
    }
   ],
   "source": [
    "llama_cpp_generator._ping_api()"
   ]
  },
  {
   "cell_type": "code",
   "execution_count": 46,
   "metadata": {},
   "outputs": [],
   "source": [
    "summarization_prompt = \"\"\"\n",
    "Give a summary in french of the following document:\n",
    "{{content}}\n",
    " Describes it in a style of a french new paper reporters.\n",
    "\n",
    "Don't summarize each document separately, the content in all the documents should be summarized.\n",
    "\n",
    "The summary should be in french not in English\n",
    "\"\"\""
   ]
  },
  {
   "cell_type": "code",
   "execution_count": 48,
   "metadata": {},
   "outputs": [
    {
     "data": {
      "text/plain": [
       "'octobre 10, 2024 Kinshasa- Financement des travaux du projet 3 communes: Lobbying payant du sénateur Gecoco Mulumba Par :    La rédaction \\n \\n \\n Kinshasa, 10 Octobre 2024- Le plaidoyer du sénateur Gecoco Mulumba auprès du ministre des finances pour décanter la situation de paiement des entreprises chargées  de la construction des routes dans les communes de Gombe, Kasa-vubu et Limete a payé. “Ce mercredi 09 octobre 2024, j’ai été remercié le Ministre National des Finances pour avoir accédé à mon plaidoyer au sujet du paiement de fonds aux entreprises concernées dans le Projet 3 Communes (Gombe, Kasa-Vubu et Limete). Il y a 10 jours, en effet, je l’ai rencontré à ce sujet et il a promis de décanter la situation. Je tiens à remercier Monsieur le Président de la République, initiateur du ce projet qui permettra une mobilité aisée de notre population”,  a-t-il fait savoir. D’après l’ancien vice gouverneur de Kinshasa, ces entreprises vont devoir dans 3 ou 4 jours, toucher un peu plus de 20% des fonds afin que les travaux de construction des routes de ces communes reprennent aussitôt. Très impliqué dans le développement de la ville de Kinshasa, il a également participé à une autre réunion mardi 8 avec le Ministre des Finances, celui des ITPR, le Gouverneur de la Ville de Kinshasa, le Ministre Provincial des ITPR Ville de Kin, le DG de l’OVD et les responsables des entreprises concernées dans ce projet. Cette réunion a notamment permis d’arrondir les angles. Le ministre des finances a décidé de disponibiliser des fonds pour la réhabilitation de 49 kilomètres de routes. Cédric BEYA\\xa0\\nTout a commencé avec une conférence animée par le directeur du festival, Kevin Mavakala, sur « Les opportunités offertes par un festival de cinéma et comment donner de la valeur aux certificats reçus après les ateliers de formation ». Il a souligné, lors de ces assises, l’importance stratégique des festivals de cinéma dans le développement des carrières artistiques, qui, en plus d’être des lieux d’apprentissage et de formation, offrent une plateforme de visibilité et de réseautage pour les cinéastes, qu’ils soient débutants ou professionnels. Ensuite ont eu lieu des \"Rencontres Kongo Panoramique\" à la salle de cinéma de l\\'Institut Français de Kinshasa, qui ont porté sur les \"différents moyens et opportunités de production de films dans un contexte africain\", animés par Toumany Sangaré, ainsi que sur \"les opportunités de coopération audiovisuelle entre la France et la RDC\", présentées par Anthony Krawczyk. Ces échanges ont offert des perspectives précieuses aux participants sur les défis et opportunités du secteur cinématographique africain. Le producteur et réalisateur belge Mestdagh Rudolf a animé un atelier sur la production cinématographique, offrant aux participants une opportunité unique d\\'apprendre les rouages de la production de films de qualité. De son côté, le réalisateur sénégalais Toumani Tangaré a conduit une formation dédiée à l’autoproduction, un domaine crucial pour les cinéastes indépendants cherchant à réaliser leurs projets avec des ressources limitées. Ces sessions se sont déroulées sur les quatre jours du festival à l’Institut Français et à l’Académie des Beaux-Arts, deux lieux emblématiques de la culture et de l’art à Kinshasa. Cette 11e édition du FICKIN a été également marquée par les ateliers de formation axés sur la direction photo, animée par Djoe Muyaya; la narration au cinéma avec Richi Mbebele et le jeu d’acteur conduit par Harvin Biyani.\\xa0 L’atelier de direction photo, dirigé par Djoe Muyaya, a permis aux participants de se familiariser avec les bases et les fondamentaux de la caméra. Djoe Muyaya a souligné l’importance de la lumière, de la décoration et de tous les éléments visuels qui contribuent à la fabrication d’un film. Richi Mbebele a animé l’atelier sur la narration au cinéma, un domaine souvent négligé mais essentiel pour la qualité des scénarios. Mbebele a partagé ses connaissances sur les mécanismes de narration, aidant les participants à comprendre comment raconter une histoire de manière efficace et captivante. Et d’ajouter : Le troisième atelier, consacré au jeu d’acteur et animé par Harvin, a offert aux participants l’opportunité de perfectionner leurs compétences en interprétation. Harvin Isma a mis l’accent sur l’importance de l’authenticité et de l’émotion dans le jeu d’acteur, encourageant les participants à explorer et à exprimer leurs sentiments de manière sincère devant les caméras. Cet atelier a été salué pour son approche pratique et immersive, permettant aux acteurs en herbe de développer leur talent et de gagner en confiance. Ces formations ont permis à renforcer les compétences des cinéastes locaux, en leur fournissant des outils pratiques et théoriques pour exceller dans leurs métiers. L’objectif était clair : encourager l’éclosion d’une industrie cinématographique durable en RDC. Kevin Mavakala, directeur du festival, a souligné les objectifs du FICKIN : « Nous ne voulons pas être spectateurs de notre propre histoire. Nous voulons faire de notre quotidien une force sur laquelle nous allons nous appuyer grâce au cinéma ». Cette déclaration reflète la vision d’un festival qui aspire à transformer les récits locaux en œuvres cinématographiques puissantes et inspirantes. La 11e édition du Festival International de Cinéma de Kinshasa s’est déroulée du 3 au 6 octobre à l’institut français et à l’académie des beaux-arts. Cette édition 2024 a ajouté une touche particulière intégrant entre autres l’exposition d’arts plastiques. La soirée de clôture a vu plusieurs personnes être primées, notamment les participants aux formations.\\xa0 En plus des ateliers, le FICKIN a proposé une panoplie de programmes riches et diversifiés, avec plus de 70 films sélectionnés parmi 503 œuvres soumises. Les projections ont lieu en plein air en en salle à l’Institut Français et à l’Académie des Beaux-Arts, offrant au public kinois une occasion unique de découvrir des films qui reflètent les réalités et les rêves des Congolais. Le FICKIN 11 s’est encore une fois de plus affirmé comme un événement incontournable pour les amateurs de cinéma et les professionnels de l’industrie, contribuant significativement au développement du septième art en République Démocratique du Congo. \\xa0\\n\\xa0 – Le fournisseur mondial de services de mobilité et urbain inDrive annonce le lancement de son service de covoiturage à Kinshasa, marquant une étape importante dans son expansion en Afrique. En tant que deuxième application la plus téléchargée au monde pendant deux années consécutives, inDrive opère avec succès sur tous les continents, y compris l\\'Afrique.\\xa0 Contrairement aux plateformes de covoiturage traditionnelles, inDrive propose une expérience révolutionnaire en permettant aux chauffeurs et aux passagers de négocier les tarifs directement, offrant ainsi une plus grande flexibilité et un meilleur contrôle aux deux parties. Ce modèle axé sur les personnes, déjà couronné de succès dans de nombreuses villes du monde, donne aux chauffeurs la liberté de choisir les courses en fonction de leurs propres critères, tandis que les passagers bénéficient de tarifs plus transparents et personnalisés. Grâce à l\\'application inDrive, les passagers peuvent définir leurs lieux de prise en charge et de dépose, et proposer un prix. Les chauffeurs vérifiés à proximité reçoivent cette requête et ont la possibilité d\\'accepter le prix proposé, de suggérer une contre-offre ou de refuser le trajet sans aucune pénalité. Ce système de négociation prend en compte les spécificités de la course, notamment le tarif, le type de véhicule, l\\'heure d\\'arrivée estimée et les évaluations des chauffeurs, ce qui permet aux chauffeurs de choisir les courses les plus rentables et les plus pratiques. inDrive se distingue en outre en éliminant les frais de commission pour les chauffeurs à Kinshasa au cours des six premiers mois d\\'activité. Cette période sans commission permet aux chauffeurs de conserver la totalité de leurs revenus, créant ainsi un avantage financier direct et immédiat. Après les six premiers mois, une commission basse standard sera introduite, garantissant aux chauffeurs qu\\'ils continueront à bénéficier de revenus plus élevés par rapport aux autres plateformes de covoiturage. Au cœur des opérations d\\'inDrive se trouve un engagement indéfectible envers la sécurité. Tous les chauffeurs font l\\'objet de vérifications approfondies des antécédents, y compris la validation des permis et de la documentation, garantissant que seuls les chauffeurs les plus fiables sont sur la route. De plus, les passagers peuvent noter les chauffeurs après chaque course, créant ainsi une culture de responsabilité et d\\'amélioration continue. Pour la tranquillité d\\'esprit des passagers, l\\'application propose également un suivi GPS en direct, ce qui permet aux utilisateurs de partager les détails du voyage avec leurs amis ou leur famille. En outre, inDrive offre un support client 24h/24 et 7j/7 et comprend un bouton d\\'urgence qui connecte instantanément les utilisateurs aux autorités locales en cas de problème de sécurité. En entrant sur le marché congolais, inDrive apporte avec lui une approche fraîche et dynamique de la mobilité urbaine. Ashif Black, représentant du développement commercial pour inDrive en Afrique, a souligné l\\'importance de ce lancement en déclarant : \\xa0\\nFabriqués par des ex-kuluna devenus bâtisseurs de la nation, ces meubles sont composés des tables, des chaises, des armoires et des fauteuils pour les bureaux des bourgmestres. Ils ont été remis à Jacquemain Shabani par le commandant du Service national, le général-major Jean-Pierre Kasongo Kabwik. «\\xa0 , a déclaré le commandant de cet organe de l’État. Les 15 premières communes concernées sont : Ngaliema, N’Sele, Lingwala, Kalamu, Selembao, Bandalungwa, Ndjili, Masina, Kimbanseke, Ngaba, Makala, Kisenso, Bumbu, Matete et Ngiri-Ngiri. Les autres communes seront servies dans les tout prochains jours, une fois le parachèvement des travaux de finissage, a affirmé Jean-Pierre Kasongo Kabwik. Après avoir réceptionné ces meubles, don du service national, le VPM Jacquemain Shabani les a transférés au gouverneur de la ville de Kinshasa, pour une distribution dans les 15 maisons communales. Ce membre du gouvernement a, à l’occasion, salué la vision du président de la République et l’engagement du Service national dans la transformation des jeunes, longtemps considérés de délinquants, en bâtisseurs de la nation. «\\xa0 «\\xa0, a déclaré avec fierté le vice-premier ministre de l’intérieur. Jacquemain Shabani a invité les bénéficiaires de ces meubles d’avoir conscience des efforts mis en contribution pour la fabrication de ces matériels didactiques et ainsi d’en faire bon usage. Cette cérémonie, faut-il le souligner, a aussi connu la participation du vice-ministre des affaires coutumières, des officiers de la police et cadres du service national ainsi que des autorités de Kinshasa, à l’instar du gouverneur Daniel Bumba Lubaki et des bourgmestres de la capitale congolaise.\\nLe cadastre minier (CAMI) a organisé la troisième édition de son café de presse ce jeudi 10 octobre à\\xa0 Pullman Hôtel de Kinshasa, capitale de la RDC.\\xa0 Devant les journalistes et autres acteurs du secteur, le ministre congolais des mines, Kizito Pakabomba, a réitéré la volonté du gouvernement de procéder à un assainissement profond de ce secteur. Pour y parvenir, le ministre envisage plusieurs réformes majeures parmi lesquelles la revitalisation de l’Inspection Générale des Mines (IGM) et la création d’une autorité de régulation et de commercialisation des minerais stratégiques. Face aux pratiques illégales qui gangrènent le secteur, le ministre a appelé les opérateurs, qu’ils soient artisanaux ou industriels, à se conformer strictement aux dispositions du code et du règlement miniers.\\xa0 Le ministre des mines a également lancé un appel aux partenaires étrangers afin qu’ils accompagnent la RDC dans sa démarche de valorisation de ses ressources minérales. Lors de la\\xa0 94ème\\xa0 réunion du conseil des ministres vendredi 14 avril 2023, le gouvernement congolais avait\\xa0 adopté le projet de décret portant création, organisation et fonctionnement de l’Inspection Générale des Mines.\\xa0\\xa0 Cette structure devrait avoir pour mission\\xa0 notamment de lutter contre la fraude et la contrebande minière sous toutes les formes, de concevoir, mettre en œuvre et assurer le suivi de l\\'exécution des mesures pratiques de collaboration sur le terrain entre les services et organismes publics ayant dans leurs attributions la lutte contre la fraude et la contrebande dans le secteur des Mines », indiquait le compte rendu du conseil des ministres.\\nDans le cadre de ses activités de vacances, Jean Obote Sirika, membre du Conseil économique et social de la République démocratique du Congo, a conduit une mission dans la région de Beni au Nord-Kivu. L’objectif de cette mission était de s’inspirer des modèles économiques en place afin de proposer leur adaptation dans la province du Haut-Uele. Jean Obote Sirika espère attirer l’attention des décideurs pour la mise en œuvre de ces pratiques dans sa province, pour matérialiser la vision du chef de l’État, Félix-Antoine Tshisekedi, celle de la diversification de l’économie nationale et la promotion de la sécurité alimentaire. Lors de cette visite, des opportunités prometteuses dans la culture du cacao et du palmier à huile ont été observées. Des infrastructures comme la concession de Mavivi, avec les entreprises SCAK et Rift Trading Company, montrent comment un partenariat entre les secteurs public et privé peut permettre aux petits agriculteurs d’accéder à des plantules améliorées et d’assurer des débouchées pour leurs productions. Ce modèle de collaboration pourrait être implanté dans le Haut-Uele, notamment pour les projets agricoles soutenus par le cahier des charges de Kibali Gold Mines. Les systèmes mis en place dans le Nord-Kivu, offrant des variétés résistantes et à haut rendement, ont un potentiel immense pour stimuler l’économie agricole du Haut-Uele. Avec une adaptation appropriée, ce modèle permettrait aux planteurs locaux de contribuer de manière significative à la sécurité alimentaire et à la diversification des revenus. Les infrastructures de transformation, comme la presse à huile de Mutwanga et la chocolaterie de Virunga, ont démontré comment la transformation locale peut dynamiser l’économie. La presse à huile, avec une capacité de traitement impressionnante, et la chocolaterie qui exporte vers l’Europe, sont des exemples que Jean Obote Sirika souhaite voir répliqués dans le Haut-Uele. La possibilité de créer des usines de transformation pour le cacao et le palmier à huile dans la province pourrait non seulement créer des emplois, mais aussi ajouter de la valeur aux produits agricoles, augmentant ainsi leur rentabilité et leur compétitivité sur les marchés internationaux. Pour soutenir cette vision, l’accès à l’énergie joue un rôle clé. La mission a pris note de l’importance des infrastructures énergétiques comme la centrale hydroélectrique de Mutwanga, qui alimente les installations locales. Cependant, pour le Haut-Uele, l’exploitation des énergies renouvelables, telles que le solaire, dans des localités comme Faradje et Tadu, devra être renforcée pour soutenir les projets agro-industriels à venir. Jean Obote Sirika s’engage à promouvoir l’adoption de modèles de développement innovants dans le Haut-Uele, inspirés par les réussites observées au Nord-Kivu. Ce projet, qui s’arrange dans la ligne droite de la vision du président Félix-Antoine Tshisekedi pour diversifier l’économie et assurer la sécurité alimentaire, pourrait transformer le Haut-Uele en un pôle agro-industriel compétitif, avec des infrastructures adéquates et des collaborations solides entre le public et le privé.\\nUne messe noire a été célébré, selon les fins limiers de Scoop RDC, ce mardi 09 octobre 2024 à partir de 16 heures à Procoki, derrière le siège de HCR à Kinshasa. Elle\\xa0réunissait\\xa0 des Directeurs généraux, des Directeurs généraux adjoints et des\\xa0 Mandataires non actifs, notamment des administrateurs au sein de\\xa0 plusieurs entreprises et établissements publics de l’État. L’objectif de la rencontre\\xa0de ces mandataires publics actifs et non actifs : s’opposer à l’idée proposée par le ministre d’Etat, ministre du Portefeuille, Jean-Lucien Bussa, de revoir à la baisse\\xa0 leurs droits et avantages et les uniformiser ce, selon la recommandation du président de la République, Félix-Antoine Tshisekedi. Dans leur démarche, d’après les informations parvenues à Scoop RDC, ils en veulent à Jean-Lucien Bussa qu’ils considèrent comme celui qui veut leur ravir le beefsteak à la bouche, et s’engagent à le déstabiliser par tous les moyens. En effet, dans sa communication faite au Conseil des Ministres du 28 juin 2024, le président Tshisekedi avait évoqué la problématique de la rationalisation du système des rémunérations des agents et fonctionnaires de l’Etat. Le Chef de l’État avait décrié les graves disparités constatées entre les différentes administrations, surtout dans plusieurs entreprises et établissements publics de l’État où les DG et DGA se font payer des salaires exorbitants variant entre 40 mille et 60 mille dollars américains le mois. Pire, les mandataires publics non actifs (PCA et administrateurs) se font aussi payer mensuellement des sommes colossales dépassant 10 mille USD, ce, en violation l’article 18 de la loi n° 08/010 du 7 juillet 2008 fixant les règles relatives à l’organisation et à la gestion du Portefeuille de l’Etat.  avait déclaré le Porte-parole du Gouvernement dans son compte-rendu. D’où, dans les reformes envisagées, Jean-Lucien Bussa estime qu’il y a urgence de revoir le décret\\xa0 n° 13/055 du 13 décembre 2013\\xa0 portant statut des mandataires publics dans les entreprises du Portefeuille de l’Etat s’impose. Ce décret accorde à ces mandataires\\xa0 de nouveaux droits et avantages, à savoir\\xa0: l’indemnité mensuelle de fonction au titre de revenus mensuels\\xa0; des\\xa0 avantages sociaux supplémentaires au profit des mandataires publics actifs pour des missions\\xa0; des frais d’installation\\xa0qui peuvent aller jusqu’à l’équivalent de 6 mois de rémunération aussi bien pour les mandataires publics actifs que passifs ; des avantages sociaux au profit des mandataires publics non actifs,\\xa0 un véhicule de service et une indemnité de sortie au profit des mandataires publics actifs. Vouloir s’attaquer à Jean-Lucien Bussa démontre clairement que ces mandataires vont en guerre contre\\xa0 la volonté du chef de l’État, celle de relancer l’économie nationale à travers ces entreprises et de créer des emplois. Bref, cette messe noire des ennemis du décalage économique du pays sape les efforts du président de la République et du Gouvernement à assurer une redistribution équitable des droits et avantages liés au service. Dossier à suivre.\\nSur instruction du Président de la République, Félix Tshisekedi, le Service National a procédé, ce mercredi, à la remise de fauteuils, tables de bureau et armoires aux bourgmestres de 15 communes de Kinshasa. Cette initiative, pilotée par le Général-major Jean Pierre Kasongo Kabwik, commandant du Service National, s’inscrit dans une démarche d’appui aux administrations publiques locales. La cérémonie de remise s’est déroulée à l’immeuble de la territoriale, en présence du Vice-premier ministre et ministre de l\\'Intérieur, Jacquemin Shabani, ainsi que du gouverneur de la ville, Daniel Bumba. Les meubles, fabriqués par des anciens délinquants de gangs urbains – communément appelés ex-Kulunas – désormais réhabilités et formés par le Service National, ont été produits dans l\\'atelier de menuiserie du service à Nsele. Ils visent à renforcer les capacités d\\'accueil des bureaux administratifs des communes de la capitale. Le Général-major Kasongo Kabwik a précisé lors de son allocution que cette dotation marque « une première et une réponse directe aux instructions du commandant suprême, le chef de l\\'État. » Jacquemin Shabani, de son côté, a souligné l’importance de cet acte, qu’il voit comme le résultat d’un mécanisme de réinsertion et de formation qui a débuté avec la police nationale congolaise et s’inscrit dans la vision politique de développement du président Tshisekedi. Cette opération de dotation en mobiliers s’étendra également au secteur judiciaire : le Service National prévoit de fournir plus de 500 tables de bureau, 1 000 chaises et 1 000 armoires aux tribunaux de Kinshasa. Par la suite, les états-majors des Forces armées et de la Police nationale congolaise bénéficieront aussi de cette initiative de modernisation. Ce programme de distribution de mobilier fait suite à une première phase, au cours de laquelle des bancs-pupitres ont été remis aux écoles, universités et instituts supérieurs de Kinshasa. Cette opération de soutien aux infrastructures publiques se poursuivra dans les jours à venir, alors que le Service National multiplie les initiatives pour appuyer le développement des institutions de la capitale.\\nL’ultimatum de 72h lancé le 07 octobre 2024 par le Gouverneur de la Ville de Kinshasa aux bourgmestres pour présenter les plans communaux d’actions contre les déchets, l’insécurité et les nuisances sonores est une initiative louable manifestant son souci de prendre à bras le corps les questions environnementales devenues cruciales pour la santé de la population et l’état des écosystèmes dans l’une des capitales les plus peuplés d’Afrique. Produire le plan communal d’action environnemental est conditionné par des préalables au regard de la loi n°11/009 du 09 juillet 2011 portant principes fondamentaux relatifs à la protection de l’environnement et de l’édit n°003/2013 du 09 septembre 2013 relatif à l’assainissement et à la protection de l’environnement de la Ville de Kinshasa.\\xa0 Sur pied de l’article 66 de l’édit précité, le plan communal d’action environnemental doit être conforme au  . Ce programme provincial de protection de l’environnement doit être la traduction de la   devant être élaborée et mise en œuvre par le ministre provincial ayant l’Environnement dans ses attributions en vertu de l’article 64 de l’édit.\\xa0 À son tour, ce programme provincial de protection de l’environnement doit s’aligner au   au regard des dispositions de l’article 16 de la loi précitée. \\xa0En vertu de l’article 15 de cette loi, le Gouvernement définit   et de gestion durable des ressources naturelles traduite en un plan national d’action environnemental.  . Ce conseil a aussi pour mission de donner son avis sur la mise en œuvre de cette politique au regard de l’article 17 de l’ordonnance-loi n°23/007 du 03 mars 2023 modifiant et complétant la loi susmentionnée.\\xa0 L’examen des lois et de l’édit sur la protection de l’environnement précités démontre qu’il est impérieux de prendre en compte les préalables y consacrés avant l’adoption d’un plan d’action communal environnemental. Appliquer le schéma posé par le cadre juridique congolais est impératif. L’engagement des institutions devant intervenir antérieurement à l’élaboration du plan communal d’action environnemental est d’une importance capitale afin de produire les politiques, les programmes et les plans d’action sur l’environnement à l’échelle nationale et provinciale. Il s’agit des institutions suivantes\\xa0:  Concernant les nuisances sonores, l’application rigoureuse du décret n° 14/012 portant réglementation de la production sonore en République démocratique du Congo du 08 mai 2014 est à encourager. Son article 5 fixe les heures où la production sonore est permise. Il s’énonce comme suit\\xa0:  Dix ans après son introduction dans l’arsenal juridique congolais, ce décret n’est pas strictement appliqué. Ceci expose la population aux nuisances sonores. Cette brève analyse a l’ambition d’inciter les acteurs devant garantir la protection de l’environnement en RDC et à Kinshasa à veiller au respect de l’arsenal juridique y relatif pour l’intérêt des générations présentes et futures. L’heure est grave. Agissons urgemment \\xa0et en toute légalité pour protéger l’environnement de notre Alma mater.\\xa0'"
      ]
     },
     "execution_count": 48,
     "metadata": {},
     "output_type": "execute_result"
    }
   ],
   "source": [
    "first_cluster.content.str.cat(sep=\"\\n\")"
   ]
  },
  {
   "cell_type": "code",
   "execution_count": 49,
   "metadata": {},
   "outputs": [
    {
     "data": {
      "text/plain": [
       "[{'role': 'system', 'content': 'You are a french news reporter'},\n",
       " {'role': 'user',\n",
       "  'content': '\\nGive a summary in french of the following document:\\noctobre 10, 2024 Kinshasa- Financement des travaux du projet 3 communes: Lobbying payant du sénateur Gecoco Mulumba Par :    La rédaction \\n \\n \\n Kinshasa, 10 Octobre 2024- Le plaidoyer du sénateur Gecoco Mulumba auprès du ministre des finances pour décanter la situation de paiement des entreprises chargées  de la construction des routes dans les communes de Gombe, Kasa-vubu et Limete a payé. “Ce mercredi 09 octobre 2024, j’ai été remercié le Ministre National des Finances pour avoir accédé à mon plaidoyer au sujet du paiement de fonds aux entreprises concernées dans le Projet 3 Communes (Gombe, Kasa-Vubu et Limete). Il y a 10 jours, en effet, je l’ai rencontré à ce sujet et il a promis de décanter la situation. Je tiens à remercier Monsieur le Président de la République, initiateur du ce projet qui permettra une mobilité aisée de notre population”,  a-t-il fait savoir. D’après l’ancien vice gouverneur de Kinshasa, ces entreprises vont devoir dans 3 ou 4 jours, toucher un peu plus de 20% des fonds afin que les travaux de construction des routes de ces communes reprennent aussitôt. Très impliqué dans le développement de la ville de Kinshasa, il a également participé à une autre réunion mardi 8 avec le Ministre des Finances, celui des ITPR, le Gouverneur de la Ville de Kinshasa, le Ministre Provincial des ITPR Ville de Kin, le DG de l’OVD et les responsables des entreprises concernées dans ce projet. Cette réunion a notamment permis d’arrondir les angles. Le ministre des finances a décidé de disponibiliser des fonds pour la réhabilitation de 49 kilomètres de routes. Cédric BEYA\\xa0\\nTout a commencé avec une conférence animée par le directeur du festival, Kevin Mavakala, sur « Les opportunités offertes par un festival de cinéma et comment donner de la valeur aux certificats reçus après les ateliers de formation ». Il a souligné, lors de ces assises, l’importance stratégique des festivals de cinéma dans le développement des carrières artistiques, qui, en plus d’être des lieux d’apprentissage et de formation, offrent une plateforme de visibilité et de réseautage pour les cinéastes, qu’ils soient débutants ou professionnels. Ensuite ont eu lieu des \"Rencontres Kongo Panoramique\" à la salle de cinéma de l\\'Institut Français de Kinshasa, qui ont porté sur les \"différents moyens et opportunités de production de films dans un contexte africain\", animés par Toumany Sangaré, ainsi que sur \"les opportunités de coopération audiovisuelle entre la France et la RDC\", présentées par Anthony Krawczyk. Ces échanges ont offert des perspectives précieuses aux participants sur les défis et opportunités du secteur cinématographique africain. Le producteur et réalisateur belge Mestdagh Rudolf a animé un atelier sur la production cinématographique, offrant aux participants une opportunité unique d\\'apprendre les rouages de la production de films de qualité. De son côté, le réalisateur sénégalais Toumani Tangaré a conduit une formation dédiée à l’autoproduction, un domaine crucial pour les cinéastes indépendants cherchant à réaliser leurs projets avec des ressources limitées. Ces sessions se sont déroulées sur les quatre jours du festival à l’Institut Français et à l’Académie des Beaux-Arts, deux lieux emblématiques de la culture et de l’art à Kinshasa. Cette 11e édition du FICKIN a été également marquée par les ateliers de formation axés sur la direction photo, animée par Djoe Muyaya; la narration au cinéma avec Richi Mbebele et le jeu d’acteur conduit par Harvin Biyani.\\xa0 L’atelier de direction photo, dirigé par Djoe Muyaya, a permis aux participants de se familiariser avec les bases et les fondamentaux de la caméra. Djoe Muyaya a souligné l’importance de la lumière, de la décoration et de tous les éléments visuels qui contribuent à la fabrication d’un film. Richi Mbebele a animé l’atelier sur la narration au cinéma, un domaine souvent négligé mais essentiel pour la qualité des scénarios. Mbebele a partagé ses connaissances sur les mécanismes de narration, aidant les participants à comprendre comment raconter une histoire de manière efficace et captivante. Et d’ajouter : Le troisième atelier, consacré au jeu d’acteur et animé par Harvin, a offert aux participants l’opportunité de perfectionner leurs compétences en interprétation. Harvin Isma a mis l’accent sur l’importance de l’authenticité et de l’émotion dans le jeu d’acteur, encourageant les participants à explorer et à exprimer leurs sentiments de manière sincère devant les caméras. Cet atelier a été salué pour son approche pratique et immersive, permettant aux acteurs en herbe de développer leur talent et de gagner en confiance. Ces formations ont permis à renforcer les compétences des cinéastes locaux, en leur fournissant des outils pratiques et théoriques pour exceller dans leurs métiers. L’objectif était clair : encourager l’éclosion d’une industrie cinématographique durable en RDC. Kevin Mavakala, directeur du festival, a souligné les objectifs du FICKIN : « Nous ne voulons pas être spectateurs de notre propre histoire. Nous voulons faire de notre quotidien une force sur laquelle nous allons nous appuyer grâce au cinéma ». Cette déclaration reflète la vision d’un festival qui aspire à transformer les récits locaux en œuvres cinématographiques puissantes et inspirantes. La 11e édition du Festival International de Cinéma de Kinshasa s’est déroulée du 3 au 6 octobre à l’institut français et à l’académie des beaux-arts. Cette édition 2024 a ajouté une touche particulière intégrant entre autres l’exposition d’arts plastiques. La soirée de clôture a vu plusieurs personnes être primées, notamment les participants aux formations.\\xa0 En plus des ateliers, le FICKIN a proposé une panoplie de programmes riches et diversifiés, avec plus de 70 films sélectionnés parmi 503 œuvres soumises. Les projections ont lieu en plein air en en salle à l’Institut Français et à l’Académie des Beaux-Arts, offrant au public kinois une occasion unique de découvrir des films qui reflètent les réalités et les rêves des Congolais. Le FICKIN 11 s’est encore une fois de plus affirmé comme un événement incontournable pour les amateurs de cinéma et les professionnels de l’industrie, contribuant significativement au développement du septième art en République Démocratique du Congo. \\xa0\\n\\xa0 – Le fournisseur mondial de services de mobilité et urbain inDrive annonce le lancement de son service de covoiturage à Kinshasa, marquant une étape importante dans son expansion en Afrique. En tant que deuxième application la plus téléchargée au monde pendant deux années consécutives, inDrive opère avec succès sur tous les continents, y compris l\\'Afrique.\\xa0 Contrairement aux plateformes de covoiturage traditionnelles, inDrive propose une expérience révolutionnaire en permettant aux chauffeurs et aux passagers de négocier les tarifs directement, offrant ainsi une plus grande flexibilité et un meilleur contrôle aux deux parties. Ce modèle axé sur les personnes, déjà couronné de succès dans de nombreuses villes du monde, donne aux chauffeurs la liberté de choisir les courses en fonction de leurs propres critères, tandis que les passagers bénéficient de tarifs plus transparents et personnalisés. Grâce à l\\'application inDrive, les passagers peuvent définir leurs lieux de prise en charge et de dépose, et proposer un prix. Les chauffeurs vérifiés à proximité reçoivent cette requête et ont la possibilité d\\'accepter le prix proposé, de suggérer une contre-offre ou de refuser le trajet sans aucune pénalité. Ce système de négociation prend en compte les spécificités de la course, notamment le tarif, le type de véhicule, l\\'heure d\\'arrivée estimée et les évaluations des chauffeurs, ce qui permet aux chauffeurs de choisir les courses les plus rentables et les plus pratiques. inDrive se distingue en outre en éliminant les frais de commission pour les chauffeurs à Kinshasa au cours des six premiers mois d\\'activité. Cette période sans commission permet aux chauffeurs de conserver la totalité de leurs revenus, créant ainsi un avantage financier direct et immédiat. Après les six premiers mois, une commission basse standard sera introduite, garantissant aux chauffeurs qu\\'ils continueront à bénéficier de revenus plus élevés par rapport aux autres plateformes de covoiturage. Au cœur des opérations d\\'inDrive se trouve un engagement indéfectible envers la sécurité. Tous les chauffeurs font l\\'objet de vérifications approfondies des antécédents, y compris la validation des permis et de la documentation, garantissant que seuls les chauffeurs les plus fiables sont sur la route. De plus, les passagers peuvent noter les chauffeurs après chaque course, créant ainsi une culture de responsabilité et d\\'amélioration continue. Pour la tranquillité d\\'esprit des passagers, l\\'application propose également un suivi GPS en direct, ce qui permet aux utilisateurs de partager les détails du voyage avec leurs amis ou leur famille. En outre, inDrive offre un support client 24h/24 et 7j/7 et comprend un bouton d\\'urgence qui connecte instantanément les utilisateurs aux autorités locales en cas de problème de sécurité. En entrant sur le marché congolais, inDrive apporte avec lui une approche fraîche et dynamique de la mobilité urbaine. Ashif Black, représentant du développement commercial pour inDrive en Afrique, a souligné l\\'importance de ce lancement en déclarant : \\xa0\\nFabriqués par des ex-kuluna devenus bâtisseurs de la nation, ces meubles sont composés des tables, des chaises, des armoires et des fauteuils pour les bureaux des bourgmestres. Ils ont été remis à Jacquemain Shabani par le commandant du Service national, le général-major Jean-Pierre Kasongo Kabwik. «\\xa0 , a déclaré le commandant de cet organe de l’État. Les 15 premières communes concernées sont : Ngaliema, N’Sele, Lingwala, Kalamu, Selembao, Bandalungwa, Ndjili, Masina, Kimbanseke, Ngaba, Makala, Kisenso, Bumbu, Matete et Ngiri-Ngiri. Les autres communes seront servies dans les tout prochains jours, une fois le parachèvement des travaux de finissage, a affirmé Jean-Pierre Kasongo Kabwik. Après avoir réceptionné ces meubles, don du service national, le VPM Jacquemain Shabani les a transférés au gouverneur de la ville de Kinshasa, pour une distribution dans les 15 maisons communales. Ce membre du gouvernement a, à l’occasion, salué la vision du président de la République et l’engagement du Service national dans la transformation des jeunes, longtemps considérés de délinquants, en bâtisseurs de la nation. «\\xa0 «\\xa0, a déclaré avec fierté le vice-premier ministre de l’intérieur. Jacquemain Shabani a invité les bénéficiaires de ces meubles d’avoir conscience des efforts mis en contribution pour la fabrication de ces matériels didactiques et ainsi d’en faire bon usage. Cette cérémonie, faut-il le souligner, a aussi connu la participation du vice-ministre des affaires coutumières, des officiers de la police et cadres du service national ainsi que des autorités de Kinshasa, à l’instar du gouverneur Daniel Bumba Lubaki et des bourgmestres de la capitale congolaise.\\nLe cadastre minier (CAMI) a organisé la troisième édition de son café de presse ce jeudi 10 octobre à\\xa0 Pullman Hôtel de Kinshasa, capitale de la RDC.\\xa0 Devant les journalistes et autres acteurs du secteur, le ministre congolais des mines, Kizito Pakabomba, a réitéré la volonté du gouvernement de procéder à un assainissement profond de ce secteur. Pour y parvenir, le ministre envisage plusieurs réformes majeures parmi lesquelles la revitalisation de l’Inspection Générale des Mines (IGM) et la création d’une autorité de régulation et de commercialisation des minerais stratégiques. Face aux pratiques illégales qui gangrènent le secteur, le ministre a appelé les opérateurs, qu’ils soient artisanaux ou industriels, à se conformer strictement aux dispositions du code et du règlement miniers.\\xa0 Le ministre des mines a également lancé un appel aux partenaires étrangers afin qu’ils accompagnent la RDC dans sa démarche de valorisation de ses ressources minérales. Lors de la\\xa0 94ème\\xa0 réunion du conseil des ministres vendredi 14 avril 2023, le gouvernement congolais avait\\xa0 adopté le projet de décret portant création, organisation et fonctionnement de l’Inspection Générale des Mines.\\xa0\\xa0 Cette structure devrait avoir pour mission\\xa0 notamment de lutter contre la fraude et la contrebande minière sous toutes les formes, de concevoir, mettre en œuvre et assurer le suivi de l\\'exécution des mesures pratiques de collaboration sur le terrain entre les services et organismes publics ayant dans leurs attributions la lutte contre la fraude et la contrebande dans le secteur des Mines », indiquait le compte rendu du conseil des ministres.\\nDans le cadre de ses activités de vacances, Jean Obote Sirika, membre du Conseil économique et social de la République démocratique du Congo, a conduit une mission dans la région de Beni au Nord-Kivu. L’objectif de cette mission était de s’inspirer des modèles économiques en place afin de proposer leur adaptation dans la province du Haut-Uele. Jean Obote Sirika espère attirer l’attention des décideurs pour la mise en œuvre de ces pratiques dans sa province, pour matérialiser la vision du chef de l’État, Félix-Antoine Tshisekedi, celle de la diversification de l’économie nationale et la promotion de la sécurité alimentaire. Lors de cette visite, des opportunités prometteuses dans la culture du cacao et du palmier à huile ont été observées. Des infrastructures comme la concession de Mavivi, avec les entreprises SCAK et Rift Trading Company, montrent comment un partenariat entre les secteurs public et privé peut permettre aux petits agriculteurs d’accéder à des plantules améliorées et d’assurer des débouchées pour leurs productions. Ce modèle de collaboration pourrait être implanté dans le Haut-Uele, notamment pour les projets agricoles soutenus par le cahier des charges de Kibali Gold Mines. Les systèmes mis en place dans le Nord-Kivu, offrant des variétés résistantes et à haut rendement, ont un potentiel immense pour stimuler l’économie agricole du Haut-Uele. Avec une adaptation appropriée, ce modèle permettrait aux planteurs locaux de contribuer de manière significative à la sécurité alimentaire et à la diversification des revenus. Les infrastructures de transformation, comme la presse à huile de Mutwanga et la chocolaterie de Virunga, ont démontré comment la transformation locale peut dynamiser l’économie. La presse à huile, avec une capacité de traitement impressionnante, et la chocolaterie qui exporte vers l’Europe, sont des exemples que Jean Obote Sirika souhaite voir répliqués dans le Haut-Uele. La possibilité de créer des usines de transformation pour le cacao et le palmier à huile dans la province pourrait non seulement créer des emplois, mais aussi ajouter de la valeur aux produits agricoles, augmentant ainsi leur rentabilité et leur compétitivité sur les marchés internationaux. Pour soutenir cette vision, l’accès à l’énergie joue un rôle clé. La mission a pris note de l’importance des infrastructures énergétiques comme la centrale hydroélectrique de Mutwanga, qui alimente les installations locales. Cependant, pour le Haut-Uele, l’exploitation des énergies renouvelables, telles que le solaire, dans des localités comme Faradje et Tadu, devra être renforcée pour soutenir les projets agro-industriels à venir. Jean Obote Sirika s’engage à promouvoir l’adoption de modèles de développement innovants dans le Haut-Uele, inspirés par les réussites observées au Nord-Kivu. Ce projet, qui s’arrange dans la ligne droite de la vision du président Félix-Antoine Tshisekedi pour diversifier l’économie et assurer la sécurité alimentaire, pourrait transformer le Haut-Uele en un pôle agro-industriel compétitif, avec des infrastructures adéquates et des collaborations solides entre le public et le privé.\\nUne messe noire a été célébré, selon les fins limiers de Scoop RDC, ce mardi 09 octobre 2024 à partir de 16 heures à Procoki, derrière le siège de HCR à Kinshasa. Elle\\xa0réunissait\\xa0 des Directeurs généraux, des Directeurs généraux adjoints et des\\xa0 Mandataires non actifs, notamment des administrateurs au sein de\\xa0 plusieurs entreprises et établissements publics de l’État. L’objectif de la rencontre\\xa0de ces mandataires publics actifs et non actifs : s’opposer à l’idée proposée par le ministre d’Etat, ministre du Portefeuille, Jean-Lucien Bussa, de revoir à la baisse\\xa0 leurs droits et avantages et les uniformiser ce, selon la recommandation du président de la République, Félix-Antoine Tshisekedi. Dans leur démarche, d’après les informations parvenues à Scoop RDC, ils en veulent à Jean-Lucien Bussa qu’ils considèrent comme celui qui veut leur ravir le beefsteak à la bouche, et s’engagent à le déstabiliser par tous les moyens. En effet, dans sa communication faite au Conseil des Ministres du 28 juin 2024, le président Tshisekedi avait évoqué la problématique de la rationalisation du système des rémunérations des agents et fonctionnaires de l’Etat. Le Chef de l’État avait décrié les graves disparités constatées entre les différentes administrations, surtout dans plusieurs entreprises et établissements publics de l’État où les DG et DGA se font payer des salaires exorbitants variant entre 40 mille et 60 mille dollars américains le mois. Pire, les mandataires publics non actifs (PCA et administrateurs) se font aussi payer mensuellement des sommes colossales dépassant 10 mille USD, ce, en violation l’article 18 de la loi n° 08/010 du 7 juillet 2008 fixant les règles relatives à l’organisation et à la gestion du Portefeuille de l’Etat.  avait déclaré le Porte-parole du Gouvernement dans son compte-rendu. D’où, dans les reformes envisagées, Jean-Lucien Bussa estime qu’il y a urgence de revoir le décret\\xa0 n° 13/055 du 13 décembre 2013\\xa0 portant statut des mandataires publics dans les entreprises du Portefeuille de l’Etat s’impose. Ce décret accorde à ces mandataires\\xa0 de nouveaux droits et avantages, à savoir\\xa0: l’indemnité mensuelle de fonction au titre de revenus mensuels\\xa0; des\\xa0 avantages sociaux supplémentaires au profit des mandataires publics actifs pour des missions\\xa0; des frais d’installation\\xa0qui peuvent aller jusqu’à l’équivalent de 6 mois de rémunération aussi bien pour les mandataires publics actifs que passifs ; des avantages sociaux au profit des mandataires publics non actifs,\\xa0 un véhicule de service et une indemnité de sortie au profit des mandataires publics actifs. Vouloir s’attaquer à Jean-Lucien Bussa démontre clairement que ces mandataires vont en guerre contre\\xa0 la volonté du chef de l’État, celle de relancer l’économie nationale à travers ces entreprises et de créer des emplois. Bref, cette messe noire des ennemis du décalage économique du pays sape les efforts du président de la République et du Gouvernement à assurer une redistribution équitable des droits et avantages liés au service. Dossier à suivre.\\nSur instruction du Président de la République, Félix Tshisekedi, le Service National a procédé, ce mercredi, à la remise de fauteuils, tables de bureau et armoires aux bourgmestres de 15 communes de Kinshasa. Cette initiative, pilotée par le Général-major Jean Pierre Kasongo Kabwik, commandant du Service National, s’inscrit dans une démarche d’appui aux administrations publiques locales. La cérémonie de remise s’est déroulée à l’immeuble de la territoriale, en présence du Vice-premier ministre et ministre de l\\'Intérieur, Jacquemin Shabani, ainsi que du gouverneur de la ville, Daniel Bumba. Les meubles, fabriqués par des anciens délinquants de gangs urbains – communément appelés ex-Kulunas – désormais réhabilités et formés par le Service National, ont été produits dans l\\'atelier de menuiserie du service à Nsele. Ils visent à renforcer les capacités d\\'accueil des bureaux administratifs des communes de la capitale. Le Général-major Kasongo Kabwik a précisé lors de son allocution que cette dotation marque « une première et une réponse directe aux instructions du commandant suprême, le chef de l\\'État. » Jacquemin Shabani, de son côté, a souligné l’importance de cet acte, qu’il voit comme le résultat d’un mécanisme de réinsertion et de formation qui a débuté avec la police nationale congolaise et s’inscrit dans la vision politique de développement du président Tshisekedi. Cette opération de dotation en mobiliers s’étendra également au secteur judiciaire : le Service National prévoit de fournir plus de 500 tables de bureau, 1 000 chaises et 1 000 armoires aux tribunaux de Kinshasa. Par la suite, les états-majors des Forces armées et de la Police nationale congolaise bénéficieront aussi de cette initiative de modernisation. Ce programme de distribution de mobilier fait suite à une première phase, au cours de laquelle des bancs-pupitres ont été remis aux écoles, universités et instituts supérieurs de Kinshasa. Cette opération de soutien aux infrastructures publiques se poursuivra dans les jours à venir, alors que le Service National multiplie les initiatives pour appuyer le développement des institutions de la capitale.\\nL’ultimatum de 72h lancé le 07 octobre 2024 par le Gouverneur de la Ville de Kinshasa aux bourgmestres pour présenter les plans communaux d’actions contre les déchets, l’insécurité et les nuisances sonores est une initiative louable manifestant son souci de prendre à bras le corps les questions environnementales devenues cruciales pour la santé de la population et l’état des écosystèmes dans l’une des capitales les plus peuplés d’Afrique. Produire le plan communal d’action environnemental est conditionné par des préalables au regard de la loi n°11/009 du 09 juillet 2011 portant principes fondamentaux relatifs à la protection de l’environnement et de l’édit n°003/2013 du 09 septembre 2013 relatif à l’assainissement et à la protection de l’environnement de la Ville de Kinshasa.\\xa0 Sur pied de l’article 66 de l’édit précité, le plan communal d’action environnemental doit être conforme au  . Ce programme provincial de protection de l’environnement doit être la traduction de la   devant être élaborée et mise en œuvre par le ministre provincial ayant l’Environnement dans ses attributions en vertu de l’article 64 de l’édit.\\xa0 À son tour, ce programme provincial de protection de l’environnement doit s’aligner au   au regard des dispositions de l’article 16 de la loi précitée. \\xa0En vertu de l’article 15 de cette loi, le Gouvernement définit   et de gestion durable des ressources naturelles traduite en un plan national d’action environnemental.  . Ce conseil a aussi pour mission de donner son avis sur la mise en œuvre de cette politique au regard de l’article 17 de l’ordonnance-loi n°23/007 du 03 mars 2023 modifiant et complétant la loi susmentionnée.\\xa0 L’examen des lois et de l’édit sur la protection de l’environnement précités démontre qu’il est impérieux de prendre en compte les préalables y consacrés avant l’adoption d’un plan d’action communal environnemental. Appliquer le schéma posé par le cadre juridique congolais est impératif. L’engagement des institutions devant intervenir antérieurement à l’élaboration du plan communal d’action environnemental est d’une importance capitale afin de produire les politiques, les programmes et les plans d’action sur l’environnement à l’échelle nationale et provinciale. Il s’agit des institutions suivantes\\xa0:  Concernant les nuisances sonores, l’application rigoureuse du décret n° 14/012 portant réglementation de la production sonore en République démocratique du Congo du 08 mai 2014 est à encourager. Son article 5 fixe les heures où la production sonore est permise. Il s’énonce comme suit\\xa0:  Dix ans après son introduction dans l’arsenal juridique congolais, ce décret n’est pas strictement appliqué. Ceci expose la population aux nuisances sonores. Cette brève analyse a l’ambition d’inciter les acteurs devant garantir la protection de l’environnement en RDC et à Kinshasa à veiller au respect de l’arsenal juridique y relatif pour l’intérêt des générations présentes et futures. L’heure est grave. Agissons urgemment \\xa0et en toute légalité pour protéger l’environnement de notre Alma mater.\\xa0\\n Describes it in a style of a french new paper reporters.\\n\\nDon\\'t summarize each document separately, the content in all the documents should be summarized.\\n\\nThe summary should be in french not in English'}]"
      ]
     },
     "execution_count": 49,
     "metadata": {},
     "output_type": "execute_result"
    }
   ],
   "source": [
    "llama_cpp_generator.generate_chat_input(\n",
    "    template_values={\"content\": first_cluster.content.str.cat(sep=\"\\n\")}, prompt_template=summarization_prompt)"
   ]
  },
  {
   "cell_type": "code",
   "execution_count": 50,
   "metadata": {},
   "outputs": [
    {
     "name": "stdout",
     "output_type": "stream",
     "text": [
      "La quatrième phase de la campagne de vaccination contre la poliomyélite a été lancée mercredi 9 octobre à Inongo, dans la province de Maniema. Au total, 457.201 enfants de zéro à cinquante-neuf mois seront vaccinés du 10 au 12 octobre. Le lancement a été fait par le gouverneur de province, Nkoso Kevani Lebon, dans la commune de Mpolo Maurice. Les équipes de vaccination passeront de porte à porte pour atteindre les enfants ciblés. L'autorité provinciale et les autorités sanitaires ont lancé plusieurs messages de sensibilisation aux parents pour faire vacciner leurs enfants. La campagne, qui vise à vacciner plus d'un million d'enfants dans les 16 zones de santé de Maniema, va s'étendre sur trois jours. Le vice-gouverneur Célestin Kayembe a présidé la cérémonie officielle du lancement. La province du Kwilu continue d'enregistrer les cas de Mpox, dont 220 depuis la déclaration de l'épidémie en 2024, avec un décès. Le ministre provincial de la santé, Arnold Kapalati, précise que certains cas ont été guéris grâce à la prise en charge organisée dans les structures de santé. La prison centrale de Kikwit est le milieu sensible affecté par cette maladie avec trois cas recensés. Dans la zone de santé de Mokala, un infirmier est mort après la prise en charge d'un patient présentant les signes de la maladie. Au moins 47.911 personnes sont attendues pour la vaccination contre le Mpox dans la province du Sud-Kivu.\n",
      "------------------------------\n",
      "Kinshasa, 10 Octobre 2024- Le sénateur Gecoco Mulumba a mené un lobbying auprès du ministre des finances pour obtenir une décanation des fonds de construction des routes dans les communes de Gombe, Kasa-vubu et Limete. Il a souligné que ces entreprises devraient recevoir un paiement de 20% des fonds pour permettre la reprise des travaux de construction des routes dans ces communes. L'ancien vice-gouverneur de Kinshasa, Cédric BEYA, a également participé à une réunion avec le ministre des finances et autres responsables concernés. Cette initiative vise à renforcer les infrastructures routières dans la capitale congolaise.\n",
      "------------------------------\n",
      "Le procès en appel dans l'affaire de tentative de coup d'État du 19 mai dernier a débuté ce jeudi 10 octobre devant la Cour Militaire de Kinshasa/Gombe. Après la lecture de l'extrait de rôle par le greffier, la Cour Militaire a commencé avec l'identification des différents prévenus condamnés au premier degré. L'objectif poursuivi par les prévenus à cette étape est d'obtenir l'annulation ou la réduction des peines prononcées au premier degré par le Tribunal Militaire de garnison de Kinshasa/Gombe. Les avocats des prévenus avaient estimé que les peines du premier degré étaient \" sévères\" et espèrent ce jour prouver l'innocence de leurs clients en appel. Au premier degré, 37 prévenus ont été condamnés à la peine de mort pour des infractions d'association de malfaiteurs, d'attentat et de terrorisme. Parmi eux figurent Marcel Malanga, fils de Christian Malanga, Tyler Christian Thomson, Zalman Pollum Benjamin et Nkele Mbuela Ruffin. L'expert militaire belgo-congolais Jean-Jacques Wondo a également été condamné à la peine de mort pour association de malfaiteurs et attentat. Certains des condamnés ont écopé de 20 ans de servitude pénale pour détention illégale d'armes de guerre. Une dizaine de personnes, 13 au total, ont été acquittées, les faits d'association de malfaiteurs, de terrorisme et de financement du terrorisme n'ayant pas été prouvés. Parmi elles, on retrouve les prévenus dits de \"l’hôtel Chez Momo\", notamment la propriétaire de l’établissement, Mata Maguy, son mari Ephraïm Mugangu, ainsi que leurs employés, Judith Mukela Mukubu et Mbayo Adolphe. Figurent également parmi les acquittés les convoyeurs et chauffeurs des bus ayant transporté les prévenus, le gérant Faustin Egwake, ainsi que la nettoyeuse du Palais de la Nation, Mbemba Ndona Mado. Quant au prévenu Tikimo, il a bénéficié de circonstances atténuantes et a été déclaré non coupable. Le procès sur le coup d'État manqué du 19 mai 2024 s'est ouvert le vendredi 7 juin 2024 et s'était clôturé vendredi 13 septembre 2024. Au total 51 des 53 personnes citées ont comparu devant la juridiction militaire. Le Ministère public ainsi que le tribunal ont constaté le décès de deux prévenus à savoir, Christian Malanga et Aboubakar, tués le jour de l’attaque. L'organe de la loi a alors demandé l'extinction de l'action publique à leurs égards, c'est-à-dire la fin de la procédure pénale engagée contre ces prévenus. Cette demande a été reçue par le tribunal qui a décrété l'extinction de l'action publique pour ces personnes.\n",
      "Le procès en appel dans l'affaire de tentative de coup d'État du 19 mai\n",
      "------------------------------\n",
      "Dans le cadre de la croissance économique et de l'inclusion financière en République Démocratique du Congo (RDC), deux acteurs majeurs ont annoncé un partenariat stratégique. VODACASH S.A., une filiale de Vodacom Congo, et la Société financière internationale (SFI, IFC), membre du Groupe de la Banque mondiale, ont signé un accord pour renforcer les interactions avec l'industrie des services financiers mobiles. Le partenariat vise à promouvoir une réglementation facilitant l'expansion de la monnaie électronique et à réduire les transactions de gré à gré (OTC). Il s'agit d'un accord portant sur 5 axes principaux : la proposition de prêt, le renforcement de l'équipe locale, l'intégration des agents et des commerçants, la stratégie de mise sur le marché pour M-Pesa RDC et la gestion des risques et du changement. Le chef de l'État Félix Tshisekedi a inauguré Silikin Village, un hub d'entrepreneuriat et d'innovation dans le pays. Ce bâtiment de 6 000 m² est dédié aux startups, aux PME et aux grandes entreprises, marquant un tournant significatif pour le paysage entrepreneurial congolais. Le ministre des Postes, Télécommunications et Numérique, Augustin Kibassa Maliba, a souligné l'importance de ce projet pour la croissance économique du pays. Le partenariat entre VODACASH et SFI vise à offrir des solutions innovantes et à améliorer la confiance des utilisateurs dans les services financiers numériques en RDC.\n",
      "------------------------------\n",
      "La Fédération de la République Démocratique du Congo de Tennis (FRDCT) participe à l'assemblée générale ordinaire de la Fédération Internationale de Tennis (ITF) à Hong Kong du 9 au 11 octobre. Elle est représentée par son président, l'ingénieur Georges Koshi Gimeya. Les points à l'ordre du jour incluent les finances et la proposition de la nouvelle constitution (statuts). L'ITF a organisé des compétitions et parrainé des projets de développement dans le monde. La réélection de David Haggerty, président de l'ITF pour un troisième mandat, est également mentionnée. Le Sommet de Paris a favorisé la RDC en accordant une résolution à son appui. La RDC doit se poser la question de ses actions pour tirer profit de sa participation à la Francophonie. L'élection de la RDC au Conseil des droits de l'homme des Nations Unies est une avancée diplomatique, reflétant un engagement continu en faveur des droits humains et de l'égalité des genres. La RDC continue d'améliorer ses conditions pour les journalistes et les médias, notamment en réformant la loi sur la presse. La situation au Rwanda pose des défis pour la RDC, qui doit jouer un rôle actif dans le processus de Luanda.\n",
      "------------------------------\n",
      "Voici un résumé en français des différents documents :\n",
      "\n",
      "L'incendie du bateau MV MERDI sur le lac Kivu a fait 11 morts, dont 11 habitants de Goma. Les cérémonies d'hommage ont eu lieu au cimetière Makao. Des recherches se poursuivent pour tenter de repêcher les corps des disparus. Le bilan provisoire est d'au moins 34 morts, dont 80 rescapés et plusieurs dizaines de disparus. Les travaux d'aménagement des sites d'inhumation se poursuivent encore à Minova, Bweremana et autres endroits. Une veillée mortuaire est prévue vendredi 11 octobre à Kinshasa pour l'ancien basketteur international congolais Jean-Jacques Mutombo Dikembe. Le gouvernement camerounais a démenti les rumeurs sur la santé de Paul Biya, le président du Cameroun, qui est décédé le 12 octobre 1951. Rafael Nadal annonce sa retraite sportive après la finale de la Coupe Davis en novembre. Le gouvernement congolais a admis à titre posthume M. Mutombo Mpolondo Dikembe Jean-Jacques, plus connu sous le nom de Dikembe Mutombo, dans l'Ordre National « Héros Nationaux » Kabila-Lumumba, au grade de Grand Officier.\n",
      "------------------------------\n",
      "Les cheveux sont un symbole de beauté incontestable. Pourtant, souvent, nous négligeons le nettoyage de notre brosse à cheveux. Cette petite astuce est essentielle pour répartir le sébum sur l'ensemble de la chevelure et éviter le dessèchement. En plus, elle aide à débarrasser les cheveux des particules de poussière et autres impuretés accumulées tout au long de la journée. Il est important de nettoyer régulièrement sa brosse à cheveux pour prolonger l'effet de votre routine capillaire et garantir une chevelure éclatante. En trois étapes, vous pouvez rendre justice à votre brosse en éliminant les cheveux, en lavant la brosse avec de l'eau savonneuse et en séchant la brosse. Il est recommandé de nettoyer la brosse toutes les deux semaines, surtout si vous êtes une adepte des produits coiffants ou que vous perdez des cheveux lors du brossage. Une brosse de qualité peut durer des années, mais certains signes ne trompent pas. Si les poils sont usés, déformés ou que la brosse semble plus grasse, il est temps de la remplacer. En outre, si votre brosse a plus de cinq ans, c'est peut-être le moment idéal pour un nouveau départ.\n",
      "------------------------------\n",
      "Voici un résumé en français des documents fournis :\n",
      "\n",
      "Le gouvernement provincial de Mai-Ndombe a été officiellement rétabli avec la nomination de 10 hommes, dont le gouverneur Nkoso Kevani Lebon. Il n'y a pas de femmes nommées ministres. Mme Ikolo Manga Juliette est la seule femme au sein du gouvernement, nommée secrétaire exécutive du gouvernement provincial. Un seul ministre a été reconduit, Barnabé Bompaka Bo Wenge, qui a travaillé avec Rita Bola. Les autres nominations comprennent Richard Nzaaba (ministre des finances), Justin Mulapi Iyolo (ministère de l'éducation), Pascal Ndondo Ipio (ministère de l'agriculture, pêche et élevage), Alex Mputu Bozali (ministre des transports et voies de communications), Roger Mangin Boseko (ministère de l'environnement et développement durable), Nickey Bokunimbo Bokumu (ministère de la santé publique) et Moïse Bokote Basakala (développement rural). L'arrêté de composition du gouvernement provincial a été rendu public le 8 octobre 2024.\n",
      "\n",
      "Dans son discours d'ouverture, la présidente de l'organe délibérant municipal, Véronique Matabisi, a souligné les difficultés des conseillers communaux face à l'absence d'émoluments et de frais de fonctionnement. Elle a également rappelé que les conseillers communaux ont été élus le même jour, mois et année par les électeurs avec le président de la République, les députés nationaux et provinciaux.\n",
      "\n",
      "Le président de l'Assemblée nationale Vital Kamerhe a demandé aux députés nationaux de lever les immunités de Nicolas Kazadi, ancien ministre des Finances cité dans le dossier de détournement des fonds destinés à l'achat des lampadaires et à la construction des forages. Les experts de la société civile s'étonnent de l'impunité accordée à Nicolas Kazadi et demandent une procédure judiciaire pour qu'il répondre pleinement devant son juge naturel.\n",
      "\n",
      "Les députés provinciaux de l'Assemblée provinciale du Kongo-Central ont adopté un calendrier pour la session ordinaire de septembre 2024. Parmi les matières adoptées, il y a une enquête sur la gestion du charbon stocké au port de l'Onatra, une enquête sur le fonctionnement des services publics provinciaux dans les postes frontaliers et points de perception de péage sur les routes d'intérêt provincial, une audition du maire de Matadi sur les embouteillages et l’insalubrité dans la ville, l'examen et adoption du projet d'édit budgétaire du Kongo-Central exercice 2025, une proposition d'édit portant protection et promotion de la langue Kongo, une audition des directeurs provinciaux de la Snel et de la Régideso sur la desserte en eau et en électricité au Kongo-Central.\n",
      "\n",
      "Les Kényans ont réagi après que le Parlement a voté à une écrasante majorité la destitution du vice-président du pays. Les législateurs kenyans ont approuvé mardi\n",
      "------------------------------\n",
      "Dans le cadre de la sécurité publique, une affaire judiciaire a été ouverte pour un policier qui a tiré sur des manifestants lors d'une manifestation pacifique à Matadi. L'agent, André Mapatikala, a été poursuivi pour dissipation des munitions de guerre et violation des consignes. Un autre incident a eu lieu dans la région de Mambasa où des rebelles ADF ont attaqué des villages, tuant trois civils. Des engagements ont été pris pour restaurer la paix dans la région. De plus, des affrontements ont eu lieu entre les miliciens Mobondo et les FARDC, avec six morts. Les forces de sécurité ont également arrêté un groupe de présumés bandits à Kindu. Un compromis a été trouvé pour récupérer les corps d'une famille victime d'un naufrage.\n",
      "------------------------------\n",
      "Cette conférence annuelle, organisée par la CNDH-RDC, a pour thème central les questions d'actualité relatives aux droits de l'homme et à la protection de la santé. L'objectif principal est de favoriser l'échange et le partage d'expériences entre les Institutions nationales des droits de l'homme (INDH) des pays collaborant avec la structure russe. Cette rencontre vise à renforcer les capacités des INDH et à aborder des problématiques contemporaines liées aux droits humains. Paul Nsapu, président de la CNDH-RDC, a souligné l'importance de cette rencontre visant à établir des partenariats. La participation de la CNDH à cet événement souligne l'engagement de la RDC envers les droits humains et son désir d'améliorer les conditions de vie et de santé de ses citoyens. Cela reflète également une volonté d'intégration dans un réseau international qui promeut les valeurs fondamentales des droits humains. Cette initiative représente une étape significative pour la RDC dans sa quête d'amélioration des droits humains et montre son ouverture à collaborer avec d'autres nations sur des questions cruciales. La CNDH continue ainsi son travail pour défendre et promouvoir les droits fondamentaux au sein du pays.\n",
      "------------------------------\n",
      "Les Leopards de la RDC ont signé une précieuse victoire de 1-0 contre les Taifas Stars de Tanzanie ce jeudi 10 octobre 2024 au stade des Martyrs. Cette victoire, qui marque leur troisième victoire de rang en éliminatoires de la Coupe d'Afrique des Nations (CAN) Maroc 2025, permet aux Léopards de prendre une sérieuse option pour la qualification. Les Congolais ont montré un visage bien différent en seconde période, occupant davantage le terrain après les sorties d'Elia et d'Edo Kayembe. Chancel Mbemba a inscrit l'unique but du match à la 54ème minute sur un coup de tête du centre bien boté. Cette victoire permet aux Léopards de prendre une sérieuse option pour la qualification, étant désormais premiers du groupe H avec 9 points après trois journées.\n",
      "------------------------------\n",
      "Dans le cadre de la mise en œuvre de son Plan de travail budgétisé annuel 2024, l'ANAPI (Agence nationale pour la promotion des investissements) a pris part à la 14ème édition du Forum «EuropAfrica    Investment» à Bruxelles (Belgique), sous la conduite de Bruno Tshibangu Kabaji, Directeur général ad intérim. Organisé sous le patronage du Secrétaire général de l'organisation des Etats d'Afrique des Caraïbes et du Pacifique (OEACP), ce forum a connu la participation de plusieurs chefs d'entreprise, des agences de promotion des investissements de plus de dix pays d'Afrique, les ambassadeurs des pays africains et les autorités locales de la ville de Bruxelles. L'ANAPI, en tant que plateforme d'échange et de rencontre entre les acteurs économiques européens et africains, a permis à Bruno Tshibangu Kabaji de prendre part dans un premier temps au panel sur la promotion des investissements en Afrique et la diplomatie économique africaine en Belgique. Dans sa communication, il s'est penché sur les efforts fournis par le Gouvernement de la République Démocratique du Congo (RDC) en matière d'assainissement du climat des affaires afin de faire de la RDC l'une des meilleures destinations d'investissement en Afrique. Il a également lancé un appel aux investisseurs présents de venir investir en RDC dans les différents secteurs prioritaires définis par le Gouvernement, notamment l'agriculture, la pêche, l'élevage, l'industrie, l'énergie, les infrastructures, la santé et l'éducation. Au deuxième jour du forum, Bruno Tshibangu Kabaji a pris part à l'atelier «Investir en RDC». Ce cadre a permis à l'ANAPI de présenter les opportunités économiques de la RDC dans divers secteurs et les besoins réels du pays. Il a recommandé aux opérateurs économiques, présents dans la salle, d'investir en RDC maintenant car, demain risque d'être trop tard. Une invitation a été lancée pour prendre part au Forum international «Invest in DRC», prévu les 24 et 25 février 2025 à Kinshasa. Le Forum «EuropAfrica Investment» est devenu un rendez-vous incontournable pour les acteurs économiques souhaitant explorer les synergies entre les deux continents. Cette année, le thème central était axé sur le développement durable et l'innovation, des enjeux cruciaux pour l'avenir des investissements en Afrique. La participation de l'ANAPI a permis d'établir des contacts précieux avec des investisseurs potentiels. Des rencontres bilatérales ont été organisées, favorisant des discussions sur des projets concrets et des partenariats stratégiques. Les représentants de l'ANAPI ont également participé à des panels de discussion, partageant leur expertise et leur vision pour l'avenir des investissements en RDC.\n",
      "------------------------------\n"
     ]
    }
   ],
   "source": [
    "summaries = []\n",
    "for id, news_group in results_df.groupby(\"labels\"):\n",
    "    news = news_group.content.str.cat(sep=\"\\n\")\n",
    "    summary = llama_cpp_generator.run(template_values={\"content\": news}, prompt_template=summarization_prompt)\n",
    "    summaries.append(summary)\n",
    "    print(summary)\n",
    "    print(\"---\" * 10)"
   ]
  },
  {
   "cell_type": "markdown",
   "metadata": {},
   "source": [
    "I will have to stop here, and then start writing about the learning. \n",
    "\n",
    "- Another apporach will be collect the document from radiookapi and fine tune the model.\n",
    "-   Deploy the solution with streamlit"
   ]
  },
  {
   "cell_type": "markdown",
   "metadata": {},
   "source": [
    "### Trying Topic Modeling and Then Summarizing"
   ]
  },
  {
   "cell_type": "markdown",
   "metadata": {},
   "source": [
    "In  this section we will use topic modelling and then summarize the documents in each topic."
   ]
  },
  {
   "cell_type": "markdown",
   "metadata": {},
   "source": [
    "Kmean is not giving good results because some cluster are not correct., Let try with the title embeddings."
   ]
  },
  {
   "cell_type": "code",
   "execution_count": null,
   "metadata": {},
   "outputs": [],
   "source": []
  }
 ],
 "metadata": {
  "kernelspec": {
   "display_name": ".venv",
   "language": "python",
   "name": "python3"
  },
  "language_info": {
   "codemirror_mode": {
    "name": "ipython",
    "version": 3
   },
   "file_extension": ".py",
   "mimetype": "text/x-python",
   "name": "python",
   "nbconvert_exporter": "python",
   "pygments_lexer": "ipython3",
   "version": "3.10.4"
  }
 },
 "nbformat": 4,
 "nbformat_minor": 2
}
