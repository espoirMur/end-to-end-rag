{
 "cells": [
  {
   "cell_type": "code",
   "execution_count": null,
   "id": "1230f80e",
   "metadata": {},
   "outputs": [],
   "source": [
    "from pathlib import Path\n",
    "import pandas as pd"
   ]
  },
  {
   "cell_type": "markdown",
   "id": "c934e648",
   "metadata": {},
   "source": [
    "## Ingestion"
   ]
  },
  {
   "cell_type": "code",
   "execution_count": null,
   "id": "95ed4b72",
   "metadata": {},
   "outputs": [],
   "source": []
  },
  {
   "cell_type": "code",
   "execution_count": null,
   "id": "6b81e74d",
   "metadata": {},
   "outputs": [],
   "source": [
    "current_working_directory = Path().cwd()"
   ]
  },
  {
   "cell_type": "code",
   "execution_count": null,
   "id": "532aac80",
   "metadata": {},
   "outputs": [],
   "source": [
    "data_path = current_working_directory.joinpath(\"datasets/halifax_intermediaries/data.csv\")"
   ]
  },
  {
   "cell_type": "code",
   "execution_count": null,
   "id": "75a03493",
   "metadata": {},
   "outputs": [],
   "source": [
    "data = pd.read_csv(data_path, index_col=0)"
   ]
  },
  {
   "cell_type": "code",
   "execution_count": null,
   "id": "ca0c84f9",
   "metadata": {},
   "outputs": [],
   "source": [
    "data = data.reset_index(drop=False, names=\"doc_id\")"
   ]
  },
  {
   "cell_type": "code",
   "execution_count": null,
   "id": "fcf7c72b",
   "metadata": {},
   "outputs": [],
   "source": [
    "data =  data.drop(columns=[\"length\"], axis=\"columns\")"
   ]
  },
  {
   "cell_type": "code",
   "execution_count": null,
   "id": "b465535e",
   "metadata": {},
   "outputs": [],
   "source": [
    "from typing import  Dict"
   ]
  },
  {
   "cell_type": "code",
   "execution_count": null,
   "id": "f598d560",
   "metadata": {},
   "outputs": [],
   "source": [
    "def to_sql_schema(embedding_dimension: int, table_prefix: str) -> Dict[str, str]:\n",
    "\treturn {\n",
    "            \"doc_id\": \"TEXT PRIMARY KEY\",\n",
    "         \t\t\t\"content\": \"TEXT\",\n",
    "         \t\t\t\"url\": \"text\",\n",
    "         \t\t\t\"embedding\": f\"vector({embedding_dimension})\",\n",
    "         \t\t\t# Add other fields as needed\n",
    "        }"
   ]
  },
  {
   "cell_type": "code",
   "execution_count": null,
   "id": "c44cba4d",
   "metadata": {},
   "outputs": [],
   "source": [
    "from src.rag.components.data_ingestion.utils import create_postgres_connection, create_postgres_connection_uri"
   ]
  },
  {
   "cell_type": "code",
   "execution_count": null,
   "id": "6f588a18",
   "metadata": {},
   "outputs": [],
   "source": [
    "from src.rag.components.shared.databases.postgres import PostgresVectorDBClient"
   ]
  },
  {
   "cell_type": "code",
   "execution_count": null,
   "id": "f160dc82",
   "metadata": {},
   "outputs": [],
   "source": [
    "connection_uri = create_postgres_connection_uri()\n",
    "connection = create_postgres_connection(connection_uri)\n",
    "postgres_client = PostgresVectorDBClient(\n",
    "\t\tconnection=connection,\n",
    "\t\tnamespace=\"halifax_intermediaries\",\n",
    "\t)\n"
   ]
  },
  {
   "cell_type": "code",
   "execution_count": null,
   "id": "9f3c6b87",
   "metadata": {},
   "outputs": [],
   "source": [
    "EMBEDDING_DIMENSION = 1024"
   ]
  },
  {
   "cell_type": "code",
   "execution_count": null,
   "id": "8b44afda",
   "metadata": {},
   "outputs": [],
   "source": [
    "schemas = to_sql_schema(EMBEDDING_DIMENSION, \"halifax_intermediaries\")"
   ]
  },
  {
   "cell_type": "code",
   "execution_count": null,
   "id": "096edf35",
   "metadata": {},
   "outputs": [],
   "source": [
    "postgres_client.create_table(\n",
    "    name=\"halifax_intermediaries_documents\", schema=schemas, if_not_exists=True,\n",
    ")"
   ]
  },
  {
   "cell_type": "code",
   "execution_count": null,
   "id": "0bb6f940",
   "metadata": {},
   "outputs": [],
   "source": [
    "postgres_client.add_text_search_field(\n",
    "    table_name=\"halifax_intermediaries_documents\", column_name=\"content\"\n",
    ")"
   ]
  },
  {
   "cell_type": "code",
   "execution_count": null,
   "id": "42182a40",
   "metadata": {},
   "outputs": [],
   "source": [
    "embedding_model_name = \"intfloat/multilingual-e5-large\""
   ]
  },
  {
   "cell_type": "code",
   "execution_count": null,
   "id": "e63bb818",
   "metadata": {},
   "outputs": [],
   "source": [
    "from src.rag.components.embeddings.embeddings import EmbeddingComputer"
   ]
  },
  {
   "cell_type": "code",
   "execution_count": null,
   "id": "8e706f40",
   "metadata": {},
   "outputs": [],
   "source": [
    "embedding_computer = EmbeddingComputer(model_name=embedding_model_name)"
   ]
  },
  {
   "cell_type": "code",
   "execution_count": null,
   "id": "de2cf8e2",
   "metadata": {},
   "outputs": [],
   "source": [
    "from typing import List, Dict"
   ]
  },
  {
   "cell_type": "code",
   "execution_count": null,
   "id": "60bc6504",
   "metadata": {},
   "outputs": [],
   "source": [
    "def assign_embeddings(\n",
    "\tnodes: List[Dict], embeddings: List[List[float]]\n",
    ") -> List[Dict]:\n",
    "\t\"\"\"Assign embeddings to nodes\"\"\"\n",
    "\tfor node, embedding in zip(nodes, embeddings):\n",
    "\t\tnode[\"embedding\"] = embedding.tolist()\n",
    "\treturn nodes\n"
   ]
  },
  {
   "cell_type": "code",
   "execution_count": null,
   "id": "82da1379",
   "metadata": {},
   "outputs": [],
   "source": [
    "def compute_embeddings_in_batch(all_nodes: List[Dict], batch_size: int) -> List[Dict]:\n",
    "\t\"\"\"Process nodes in batches and compute embeddings. Return a list of nodes with embeddings.\"\"\"\n",
    "\tall_embeddings = []\n",
    "\tprint(f\"I am dealing with {len(all_nodes)} nodes\")\n",
    "\tfor i in range(0, len(all_nodes), batch_size):\n",
    "\t\tbatch_nodes = all_nodes[i: i + batch_size]\n",
    "\t\ttexts = [f\"passage: {node.get('content')}\" for node in batch_nodes]\n",
    "\t\tbatch_embedding = embedding_computer.model.encode(\n",
    "\t\t\ttexts,\n",
    "\t\t\tconvert_to_tensor=False,\n",
    "\t\t\tshow_progress_bar=True,\n",
    "\t\t\tnormalize_embeddings=True,\n",
    "\t\t)\n",
    "\t\tall_embeddings.extend(batch_embedding)\n",
    "\tnodes_with_embedding = assign_embeddings(all_nodes, all_embeddings)\n",
    "\tprint(f\"Computed embeddings for {len(nodes_with_embedding)} nodes\")\n",
    "\treturn nodes_with_embedding"
   ]
  },
  {
   "cell_type": "code",
   "execution_count": null,
   "id": "076dcaa0",
   "metadata": {},
   "outputs": [],
   "source": [
    "chunk_nodes = compute_embeddings_in_batch(\n",
    "    data.to_dict(orient=\"records\"), batch_size=8\n",
    ")"
   ]
  },
  {
   "cell_type": "code",
   "execution_count": null,
   "id": "63b32195",
   "metadata": {},
   "outputs": [],
   "source": [
    "inserted_chunk_nodes = postgres_client.bulk_insert(\n",
    "    table_name=\"halifax_intermediaries_documents\", data=chunk_nodes, returning=[\"doc_id\"]\n",
    ")"
   ]
  },
  {
   "cell_type": "markdown",
   "id": "66cfba4d",
   "metadata": {},
   "source": [
    "Done with the ingestion, need to sort out "
   ]
  },
  {
   "cell_type": "code",
   "execution_count": null,
   "id": "1566dcd9",
   "metadata": {},
   "outputs": [],
   "source": [
    "postgres_client.create_embedding_index(\n",
    "    table_name=\"halifax_intermediaries_documents\", column_name=\"embedding\", index_config=\"USING vchordrq\")"
   ]
  },
  {
   "cell_type": "code",
   "execution_count": null,
   "id": "7d711ac6",
   "metadata": {},
   "outputs": [],
   "source": [
    "postgres_client.create_full_text_index(\n",
    "    table_name=\"halifax_intermediaries_documents\", column_name=\"content\")"
   ]
  }
 ],
 "metadata": {
  "kernelspec": {
   "display_name": ".venv",
   "language": "python",
   "name": "python3"
  },
  "language_info": {
   "codemirror_mode": {
    "name": "ipython",
    "version": 3
   },
   "file_extension": ".py",
   "mimetype": "text/x-python",
   "name": "python",
   "nbconvert_exporter": "python",
   "pygments_lexer": "ipython3",
   "version": "3.10.4"
  }
 },
 "nbformat": 4,
 "nbformat_minor": 5
}
