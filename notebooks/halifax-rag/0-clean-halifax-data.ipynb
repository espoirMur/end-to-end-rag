{
 "cells": [
  {
   "cell_type": "code",
   "execution_count": 2,
   "metadata": {},
   "outputs": [],
   "source": [
    "import pandas as pd\n",
    "from pathlib import Path"
   ]
  },
  {
   "cell_type": "code",
   "execution_count": 3,
   "metadata": {},
   "outputs": [],
   "source": [
    "data_path = Path.cwd().joinpath(\"datasets\", \"halifax_site\", \"output.json\")"
   ]
  },
  {
   "cell_type": "code",
   "execution_count": 4,
   "metadata": {},
   "outputs": [
    {
     "data": {
      "text/plain": [
       "True"
      ]
     },
     "execution_count": 4,
     "metadata": {},
     "output_type": "execute_result"
    }
   ],
   "source": [
    "data_path.exists()"
   ]
  },
  {
   "cell_type": "code",
   "execution_count": 5,
   "metadata": {},
   "outputs": [],
   "source": [
    "### Read file from json in pandas dataframe\n",
    "halifax_text_df  = pd.read_json(data_path)"
   ]
  },
  {
   "cell_type": "code",
   "execution_count": 6,
   "metadata": {},
   "outputs": [],
   "source": [
    "halifax_text_df[\"content\"] = halifax_text_df.content.str.replace(\n",
    "    r'\\n{1,}', ' ', regex=True)"
   ]
  },
  {
   "cell_type": "code",
   "execution_count": 7,
   "metadata": {},
   "outputs": [],
   "source": [
    "import re"
   ]
  },
  {
   "cell_type": "code",
   "execution_count": 8,
   "metadata": {},
   "outputs": [
    {
     "data": {
      "text/plain": [
       "0                     Everyday banking                 ...\n",
       "1                           Everyday banking              \n",
       "2         Banking online Banking online Download our Mo...\n",
       "3         Banking online Download our Mobile Banking ap...\n",
       "5         Mobile Banking app Mobile Banking app Setting...\n",
       "                               ...                        \n",
       "26165     What is gazundering? Gazundering is when, aft...\n",
       "26168     How can you avoid being gazumped? There’s no ...\n",
       "26169     Get a mortgage Agreement in Principle first S...\n",
       "26170     Be prepared Get all the documents you’ll need...\n",
       "26171     Ask for the property to be taken off the mark...\n",
       "Name: content, Length: 1686, dtype: object"
      ]
     },
     "execution_count": 8,
     "metadata": {},
     "output_type": "execute_result"
    }
   ],
   "source": [
    "halifax_text_df.content.drop_duplicates(keep=\"first\")"
   ]
  },
  {
   "cell_type": "code",
   "execution_count": 9,
   "metadata": {},
   "outputs": [],
   "source": [
    "halifax_text_df = halifax_text_df[~halifax_text_df.content.duplicated()]"
   ]
  },
  {
   "cell_type": "code",
   "execution_count": 10,
   "metadata": {},
   "outputs": [
    {
     "data": {
      "text/html": [
       "<div>\n",
       "<style scoped>\n",
       "    .dataframe tbody tr th:only-of-type {\n",
       "        vertical-align: middle;\n",
       "    }\n",
       "\n",
       "    .dataframe tbody tr th {\n",
       "        vertical-align: top;\n",
       "    }\n",
       "\n",
       "    .dataframe thead th {\n",
       "        text-align: right;\n",
       "    }\n",
       "</style>\n",
       "<table border=\"1\" class=\"dataframe\">\n",
       "  <thead>\n",
       "    <tr style=\"text-align: right;\">\n",
       "      <th></th>\n",
       "      <th>title</th>\n",
       "      <th>content</th>\n",
       "      <th>url</th>\n",
       "    </tr>\n",
       "  </thead>\n",
       "  <tbody>\n",
       "    <tr>\n",
       "      <th>0</th>\n",
       "      <td>Everyday banking</td>\n",
       "      <td>Everyday banking                 ...</td>\n",
       "      <td>https://www.halifax.co.uk/mortgages/help-and-a...</td>\n",
       "    </tr>\n",
       "    <tr>\n",
       "      <th>1</th>\n",
       "      <td>Everyday banking</td>\n",
       "      <td>Everyday banking</td>\n",
       "      <td>https://www.halifax.co.uk/mortgages/help-and-a...</td>\n",
       "    </tr>\n",
       "    <tr>\n",
       "      <th>2</th>\n",
       "      <td>Banking online</td>\n",
       "      <td>Banking online Banking online Download our Mo...</td>\n",
       "      <td>https://www.halifax.co.uk/mortgages/help-and-a...</td>\n",
       "    </tr>\n",
       "    <tr>\n",
       "      <th>3</th>\n",
       "      <td>Banking online</td>\n",
       "      <td>Banking online Download our Mobile Banking ap...</td>\n",
       "      <td>https://www.halifax.co.uk/mortgages/help-and-a...</td>\n",
       "    </tr>\n",
       "    <tr>\n",
       "      <th>5</th>\n",
       "      <td>Mobile Banking app</td>\n",
       "      <td>Mobile Banking app Mobile Banking app Setting...</td>\n",
       "      <td>https://www.halifax.co.uk/mortgages/help-and-a...</td>\n",
       "    </tr>\n",
       "    <tr>\n",
       "      <th>6</th>\n",
       "      <td>Mobile Banking app</td>\n",
       "      <td>Mobile Banking app Setting up the app Biometr...</td>\n",
       "      <td>https://www.halifax.co.uk/mortgages/help-and-a...</td>\n",
       "    </tr>\n",
       "    <tr>\n",
       "      <th>8</th>\n",
       "      <td>Banking near you</td>\n",
       "      <td>Banking near you Banking near you</td>\n",
       "      <td>https://www.halifax.co.uk/mortgages/help-and-a...</td>\n",
       "    </tr>\n",
       "    <tr>\n",
       "      <th>9</th>\n",
       "      <td>Banking near you</td>\n",
       "      <td>Banking near you</td>\n",
       "      <td>https://www.halifax.co.uk/mortgages/help-and-a...</td>\n",
       "    </tr>\n",
       "    <tr>\n",
       "      <th>10</th>\n",
       "      <td>Profile &amp; settings</td>\n",
       "      <td>Profile &amp; settings Profile &amp; settings Change ...</td>\n",
       "      <td>https://www.halifax.co.uk/mortgages/help-and-a...</td>\n",
       "    </tr>\n",
       "    <tr>\n",
       "      <th>11</th>\n",
       "      <td>Profile &amp; settings</td>\n",
       "      <td>Profile &amp; settings Change your telephone numb...</td>\n",
       "      <td>https://www.halifax.co.uk/mortgages/help-and-a...</td>\n",
       "    </tr>\n",
       "  </tbody>\n",
       "</table>\n",
       "</div>"
      ],
      "text/plain": [
       "                 title                                            content  \\\n",
       "0     Everyday banking               Everyday banking                 ...   \n",
       "1     Everyday banking                     Everyday banking                 \n",
       "2       Banking online   Banking online Banking online Download our Mo...   \n",
       "3       Banking online   Banking online Download our Mobile Banking ap...   \n",
       "5   Mobile Banking app   Mobile Banking app Mobile Banking app Setting...   \n",
       "6   Mobile Banking app   Mobile Banking app Setting up the app Biometr...   \n",
       "8     Banking near you                 Banking near you Banking near you    \n",
       "9     Banking near you                                  Banking near you    \n",
       "10  Profile & settings   Profile & settings Profile & settings Change ...   \n",
       "11  Profile & settings   Profile & settings Change your telephone numb...   \n",
       "\n",
       "                                                  url  \n",
       "0   https://www.halifax.co.uk/mortgages/help-and-a...  \n",
       "1   https://www.halifax.co.uk/mortgages/help-and-a...  \n",
       "2   https://www.halifax.co.uk/mortgages/help-and-a...  \n",
       "3   https://www.halifax.co.uk/mortgages/help-and-a...  \n",
       "5   https://www.halifax.co.uk/mortgages/help-and-a...  \n",
       "6   https://www.halifax.co.uk/mortgages/help-and-a...  \n",
       "8   https://www.halifax.co.uk/mortgages/help-and-a...  \n",
       "9   https://www.halifax.co.uk/mortgages/help-and-a...  \n",
       "10  https://www.halifax.co.uk/mortgages/help-and-a...  \n",
       "11  https://www.halifax.co.uk/mortgages/help-and-a...  "
      ]
     },
     "execution_count": 10,
     "metadata": {},
     "output_type": "execute_result"
    }
   ],
   "source": [
    "halifax_text_df.head(10)"
   ]
  },
  {
   "cell_type": "code",
   "execution_count": 11,
   "metadata": {},
   "outputs": [
    {
     "data": {
      "text/plain": [
       "42                                   Already bank with us?\n",
       "55                              Already borrowing with us?\n",
       "66                                        Already with us?\n",
       "79                                 Already saving with us?\n",
       "94                              Already investing with us?\n",
       "                               ...                        \n",
       "25059                     Ready to switch to solar energy?\n",
       "26163                             How does gazumping work?\n",
       "26164    What’s the difference between being outbid and...\n",
       "26165                                 What is gazundering?\n",
       "26168                    How can you avoid being gazumped?\n",
       "Name: title, Length: 341, dtype: object"
      ]
     },
     "execution_count": 11,
     "metadata": {},
     "output_type": "execute_result"
    }
   ],
   "source": [
    "halifax_text_df.title.loc[halifax_text_df.title.str.endswith(\"?\")].drop_duplicates(keep=\"first\")"
   ]
  },
  {
   "cell_type": "markdown",
   "metadata": {},
   "source": [
    "We don't have a huge dataset, most of our dataset is duplicated. However we have around 1686 data point we can work with! Most of those point may or may not be related to mortagage, but they will do the work."
   ]
  },
  {
   "cell_type": "code",
   "execution_count": 12,
   "metadata": {},
   "outputs": [
    {
     "data": {
      "text/html": [
       "<div>\n",
       "<style scoped>\n",
       "    .dataframe tbody tr th:only-of-type {\n",
       "        vertical-align: middle;\n",
       "    }\n",
       "\n",
       "    .dataframe tbody tr th {\n",
       "        vertical-align: top;\n",
       "    }\n",
       "\n",
       "    .dataframe thead th {\n",
       "        text-align: right;\n",
       "    }\n",
       "</style>\n",
       "<table border=\"1\" class=\"dataframe\">\n",
       "  <thead>\n",
       "    <tr style=\"text-align: right;\">\n",
       "      <th></th>\n",
       "      <th>title</th>\n",
       "      <th>content</th>\n",
       "      <th>url</th>\n",
       "    </tr>\n",
       "  </thead>\n",
       "  <tbody>\n",
       "    <tr>\n",
       "      <th>0</th>\n",
       "      <td>Everyday banking</td>\n",
       "      <td>Everyday banking                 ...</td>\n",
       "      <td>https://www.halifax.co.uk/mortgages/help-and-a...</td>\n",
       "    </tr>\n",
       "    <tr>\n",
       "      <th>1</th>\n",
       "      <td>Everyday banking</td>\n",
       "      <td>Everyday banking</td>\n",
       "      <td>https://www.halifax.co.uk/mortgages/help-and-a...</td>\n",
       "    </tr>\n",
       "    <tr>\n",
       "      <th>2</th>\n",
       "      <td>Banking online</td>\n",
       "      <td>Banking online Banking online Download our Mo...</td>\n",
       "      <td>https://www.halifax.co.uk/mortgages/help-and-a...</td>\n",
       "    </tr>\n",
       "    <tr>\n",
       "      <th>3</th>\n",
       "      <td>Banking online</td>\n",
       "      <td>Banking online Download our Mobile Banking ap...</td>\n",
       "      <td>https://www.halifax.co.uk/mortgages/help-and-a...</td>\n",
       "    </tr>\n",
       "    <tr>\n",
       "      <th>5</th>\n",
       "      <td>Mobile Banking app</td>\n",
       "      <td>Mobile Banking app Mobile Banking app Setting...</td>\n",
       "      <td>https://www.halifax.co.uk/mortgages/help-and-a...</td>\n",
       "    </tr>\n",
       "  </tbody>\n",
       "</table>\n",
       "</div>"
      ],
      "text/plain": [
       "                title                                            content  \\\n",
       "0    Everyday banking               Everyday banking                 ...   \n",
       "1    Everyday banking                     Everyday banking                 \n",
       "2      Banking online   Banking online Banking online Download our Mo...   \n",
       "3      Banking online   Banking online Download our Mobile Banking ap...   \n",
       "5  Mobile Banking app   Mobile Banking app Mobile Banking app Setting...   \n",
       "\n",
       "                                                 url  \n",
       "0  https://www.halifax.co.uk/mortgages/help-and-a...  \n",
       "1  https://www.halifax.co.uk/mortgages/help-and-a...  \n",
       "2  https://www.halifax.co.uk/mortgages/help-and-a...  \n",
       "3  https://www.halifax.co.uk/mortgages/help-and-a...  \n",
       "5  https://www.halifax.co.uk/mortgages/help-and-a...  "
      ]
     },
     "execution_count": 12,
     "metadata": {},
     "output_type": "execute_result"
    }
   ],
   "source": [
    "halifax_text_df.head()"
   ]
  },
  {
   "cell_type": "code",
   "execution_count": 13,
   "metadata": {},
   "outputs": [
    {
     "data": {
      "text/html": [
       "<div>\n",
       "<style scoped>\n",
       "    .dataframe tbody tr th:only-of-type {\n",
       "        vertical-align: middle;\n",
       "    }\n",
       "\n",
       "    .dataframe tbody tr th {\n",
       "        vertical-align: top;\n",
       "    }\n",
       "\n",
       "    .dataframe thead th {\n",
       "        text-align: right;\n",
       "    }\n",
       "</style>\n",
       "<table border=\"1\" class=\"dataframe\">\n",
       "  <thead>\n",
       "    <tr style=\"text-align: right;\">\n",
       "      <th></th>\n",
       "      <th>title</th>\n",
       "      <th>content</th>\n",
       "      <th>url</th>\n",
       "    </tr>\n",
       "  </thead>\n",
       "  <tbody>\n",
       "    <tr>\n",
       "      <th>0</th>\n",
       "      <td>Everyday banking</td>\n",
       "      <td>Everyday banking                 ...</td>\n",
       "      <td>https://www.halifax.co.uk/mortgages/help-and-a...</td>\n",
       "    </tr>\n",
       "    <tr>\n",
       "      <th>1</th>\n",
       "      <td>Everyday banking</td>\n",
       "      <td>Everyday banking</td>\n",
       "      <td>https://www.halifax.co.uk/mortgages/help-and-a...</td>\n",
       "    </tr>\n",
       "    <tr>\n",
       "      <th>2</th>\n",
       "      <td>Banking online</td>\n",
       "      <td>Banking online Banking online Download our Mo...</td>\n",
       "      <td>https://www.halifax.co.uk/mortgages/help-and-a...</td>\n",
       "    </tr>\n",
       "    <tr>\n",
       "      <th>3</th>\n",
       "      <td>Banking online</td>\n",
       "      <td>Banking online Download our Mobile Banking ap...</td>\n",
       "      <td>https://www.halifax.co.uk/mortgages/help-and-a...</td>\n",
       "    </tr>\n",
       "    <tr>\n",
       "      <th>5</th>\n",
       "      <td>Mobile Banking app</td>\n",
       "      <td>Mobile Banking app Mobile Banking app Setting...</td>\n",
       "      <td>https://www.halifax.co.uk/mortgages/help-and-a...</td>\n",
       "    </tr>\n",
       "    <tr>\n",
       "      <th>...</th>\n",
       "      <td>...</td>\n",
       "      <td>...</td>\n",
       "      <td>...</td>\n",
       "    </tr>\n",
       "    <tr>\n",
       "      <th>26165</th>\n",
       "      <td>What is gazundering?</td>\n",
       "      <td>What is gazundering? Gazundering is when, aft...</td>\n",
       "      <td>https://www.halifax.co.uk/mortgages/help-and-a...</td>\n",
       "    </tr>\n",
       "    <tr>\n",
       "      <th>26168</th>\n",
       "      <td>How can you avoid being gazumped?</td>\n",
       "      <td>How can you avoid being gazumped? There’s no ...</td>\n",
       "      <td>https://www.halifax.co.uk/mortgages/help-and-a...</td>\n",
       "    </tr>\n",
       "    <tr>\n",
       "      <th>26169</th>\n",
       "      <td>Get a mortgage Agreement in Principle first</td>\n",
       "      <td>Get a mortgage Agreement in Principle first S...</td>\n",
       "      <td>https://www.halifax.co.uk/mortgages/help-and-a...</td>\n",
       "    </tr>\n",
       "    <tr>\n",
       "      <th>26170</th>\n",
       "      <td>Be prepared</td>\n",
       "      <td>Be prepared Get all the documents you’ll need...</td>\n",
       "      <td>https://www.halifax.co.uk/mortgages/help-and-a...</td>\n",
       "    </tr>\n",
       "    <tr>\n",
       "      <th>26171</th>\n",
       "      <td>Ask for the property to be taken off the market</td>\n",
       "      <td>Ask for the property to be taken off the mark...</td>\n",
       "      <td>https://www.halifax.co.uk/mortgages/help-and-a...</td>\n",
       "    </tr>\n",
       "  </tbody>\n",
       "</table>\n",
       "<p>1686 rows × 3 columns</p>\n",
       "</div>"
      ],
      "text/plain": [
       "                                                 title  \\\n",
       "0                                     Everyday banking   \n",
       "1                                     Everyday banking   \n",
       "2                                       Banking online   \n",
       "3                                       Banking online   \n",
       "5                                   Mobile Banking app   \n",
       "...                                                ...   \n",
       "26165                             What is gazundering?   \n",
       "26168                How can you avoid being gazumped?   \n",
       "26169      Get a mortgage Agreement in Principle first   \n",
       "26170                                      Be prepared   \n",
       "26171  Ask for the property to be taken off the market   \n",
       "\n",
       "                                                 content  \\\n",
       "0                   Everyday banking                 ...   \n",
       "1                         Everyday banking                 \n",
       "2       Banking online Banking online Download our Mo...   \n",
       "3       Banking online Download our Mobile Banking ap...   \n",
       "5       Mobile Banking app Mobile Banking app Setting...   \n",
       "...                                                  ...   \n",
       "26165   What is gazundering? Gazundering is when, aft...   \n",
       "26168   How can you avoid being gazumped? There’s no ...   \n",
       "26169   Get a mortgage Agreement in Principle first S...   \n",
       "26170   Be prepared Get all the documents you’ll need...   \n",
       "26171   Ask for the property to be taken off the mark...   \n",
       "\n",
       "                                                     url  \n",
       "0      https://www.halifax.co.uk/mortgages/help-and-a...  \n",
       "1      https://www.halifax.co.uk/mortgages/help-and-a...  \n",
       "2      https://www.halifax.co.uk/mortgages/help-and-a...  \n",
       "3      https://www.halifax.co.uk/mortgages/help-and-a...  \n",
       "5      https://www.halifax.co.uk/mortgages/help-and-a...  \n",
       "...                                                  ...  \n",
       "26165  https://www.halifax.co.uk/mortgages/help-and-a...  \n",
       "26168  https://www.halifax.co.uk/mortgages/help-and-a...  \n",
       "26169  https://www.halifax.co.uk/mortgages/help-and-a...  \n",
       "26170  https://www.halifax.co.uk/mortgages/help-and-a...  \n",
       "26171  https://www.halifax.co.uk/mortgages/help-and-a...  \n",
       "\n",
       "[1686 rows x 3 columns]"
      ]
     },
     "execution_count": 13,
     "metadata": {},
     "output_type": "execute_result"
    }
   ],
   "source": [
    "halifax_text_df"
   ]
  },
  {
   "cell_type": "code",
   "execution_count": 14,
   "metadata": {},
   "outputs": [],
   "source": [
    "test_dataset = halifax_text_df.loc[halifax_text_df.title.loc[halifax_text_df.title.str.endswith(\n",
    "    \"?\")].duplicated().index]"
   ]
  },
  {
   "cell_type": "code",
   "execution_count": 15,
   "metadata": {},
   "outputs": [],
   "source": [
    "test_dataset = test_dataset.reset_index()"
   ]
  },
  {
   "cell_type": "code",
   "execution_count": 16,
   "metadata": {},
   "outputs": [],
   "source": [
    "test_dataset[\"content_cleaned\"] = test_dataset.apply(lambda x: x.content.replace(x.title, '').strip(), axis=\"columns\")"
   ]
  },
  {
   "cell_type": "code",
   "execution_count": 17,
   "metadata": {},
   "outputs": [
    {
     "data": {
      "text/plain": [
       "'                 Already borrowing with us?                Existing credit card customers Existing loan customers Existing car finance customers Money worries Mobile banking Banking online Your Credit Score Thinking about applying for credit? Check Your Credit Score for free, with no impact on your credit file. Sign in to get started '"
      ]
     },
     "execution_count": 17,
     "metadata": {},
     "output_type": "execute_result"
    }
   ],
   "source": [
    "test_dataset.iloc[1].content"
   ]
  },
  {
   "cell_type": "code",
   "execution_count": 18,
   "metadata": {},
   "outputs": [
    {
     "data": {
      "text/plain": [
       "'                 Already borrowing with us?                Existing credit card customers Existing loan customers Existing car finance customers Money worries Mobile banking Banking online Your Credit Score Thinking about applying for credit? Check Your Credit Score for free, with no impact on your credit file. Sign in to get started '"
      ]
     },
     "execution_count": 18,
     "metadata": {},
     "output_type": "execute_result"
    }
   ],
   "source": [
    "test_dataset.iloc[1].content"
   ]
  },
  {
   "cell_type": "code",
   "execution_count": 19,
   "metadata": {},
   "outputs": [
    {
     "data": {
      "text/plain": [
       "'Existing credit card customers Existing loan customers Existing car finance customers Money worries Mobile banking Banking online Your Credit Score Thinking about applying for credit? Check Your Credit Score for free, with no impact on your credit file. Sign in to get started'"
      ]
     },
     "execution_count": 19,
     "metadata": {},
     "output_type": "execute_result"
    }
   ],
   "source": [
    "test_dataset.iloc[1].content_cleaned"
   ]
  },
  {
   "cell_type": "code",
   "execution_count": 20,
   "metadata": {},
   "outputs": [
    {
     "data": {
      "text/html": [
       "<div>\n",
       "<style scoped>\n",
       "    .dataframe tbody tr th:only-of-type {\n",
       "        vertical-align: middle;\n",
       "    }\n",
       "\n",
       "    .dataframe tbody tr th {\n",
       "        vertical-align: top;\n",
       "    }\n",
       "\n",
       "    .dataframe thead th {\n",
       "        text-align: right;\n",
       "    }\n",
       "</style>\n",
       "<table border=\"1\" class=\"dataframe\">\n",
       "  <thead>\n",
       "    <tr style=\"text-align: right;\">\n",
       "      <th></th>\n",
       "      <th>index</th>\n",
       "      <th>title</th>\n",
       "      <th>content</th>\n",
       "      <th>url</th>\n",
       "      <th>content_cleaned</th>\n",
       "    </tr>\n",
       "  </thead>\n",
       "  <tbody>\n",
       "    <tr>\n",
       "      <th>0</th>\n",
       "      <td>42</td>\n",
       "      <td>Already bank with us?</td>\n",
       "      <td>Already bank with us?        ...</td>\n",
       "      <td>https://www.halifax.co.uk/mortgages/help-and-a...</td>\n",
       "      <td>Upgrading your account Overdrafts Payments &amp; t...</td>\n",
       "    </tr>\n",
       "    <tr>\n",
       "      <th>1</th>\n",
       "      <td>55</td>\n",
       "      <td>Already borrowing with us?</td>\n",
       "      <td>Already borrowing with us?   ...</td>\n",
       "      <td>https://www.halifax.co.uk/mortgages/help-and-a...</td>\n",
       "      <td>Existing credit card customers Existing loan c...</td>\n",
       "    </tr>\n",
       "    <tr>\n",
       "      <th>2</th>\n",
       "      <td>66</td>\n",
       "      <td>Already with us?</td>\n",
       "      <td>Already with us?             ...</td>\n",
       "      <td>https://www.halifax.co.uk/mortgages/help-and-a...</td>\n",
       "      <td>Existing customers Existing customers Manage y...</td>\n",
       "    </tr>\n",
       "    <tr>\n",
       "      <th>3</th>\n",
       "      <td>79</td>\n",
       "      <td>Already saving with us?</td>\n",
       "      <td>Already saving with us?      ...</td>\n",
       "      <td>https://www.halifax.co.uk/mortgages/help-and-a...</td>\n",
       "      <td>Existing customers Manage your ISA Transfer yo...</td>\n",
       "    </tr>\n",
       "    <tr>\n",
       "      <th>4</th>\n",
       "      <td>94</td>\n",
       "      <td>Already investing with us?</td>\n",
       "      <td>Already investing with us?   ...</td>\n",
       "      <td>https://www.halifax.co.uk/mortgages/help-and-a...</td>\n",
       "      <td>Sign in to Share Dealing Introducing the new R...</td>\n",
       "    </tr>\n",
       "    <tr>\n",
       "      <th>...</th>\n",
       "      <td>...</td>\n",
       "      <td>...</td>\n",
       "      <td>...</td>\n",
       "      <td>...</td>\n",
       "      <td>...</td>\n",
       "    </tr>\n",
       "    <tr>\n",
       "      <th>372</th>\n",
       "      <td>25059</td>\n",
       "      <td>Ready to switch to solar energy?</td>\n",
       "      <td>Ready to switch to solar energy? Getting sola...</td>\n",
       "      <td>https://www.halifax.co.uk/mortgages/help-and-a...</td>\n",
       "      <td>Getting solar energy in your home could lower ...</td>\n",
       "    </tr>\n",
       "    <tr>\n",
       "      <th>373</th>\n",
       "      <td>26163</td>\n",
       "      <td>How does gazumping work?</td>\n",
       "      <td>How does gazumping work? You’ve seen the hous...</td>\n",
       "      <td>https://www.halifax.co.uk/mortgages/help-and-a...</td>\n",
       "      <td>You’ve seen the house you want to buy. You’ve ...</td>\n",
       "    </tr>\n",
       "    <tr>\n",
       "      <th>374</th>\n",
       "      <td>26164</td>\n",
       "      <td>What’s the difference between being outbid and...</td>\n",
       "      <td>What’s the difference between being outbid an...</td>\n",
       "      <td>https://www.halifax.co.uk/mortgages/help-and-a...</td>\n",
       "      <td>The difference is that gazumping occurs when a...</td>\n",
       "    </tr>\n",
       "    <tr>\n",
       "      <th>375</th>\n",
       "      <td>26165</td>\n",
       "      <td>What is gazundering?</td>\n",
       "      <td>What is gazundering? Gazundering is when, aft...</td>\n",
       "      <td>https://www.halifax.co.uk/mortgages/help-and-a...</td>\n",
       "      <td>Gazundering is when, after the sale price has ...</td>\n",
       "    </tr>\n",
       "    <tr>\n",
       "      <th>376</th>\n",
       "      <td>26168</td>\n",
       "      <td>How can you avoid being gazumped?</td>\n",
       "      <td>How can you avoid being gazumped? There’s no ...</td>\n",
       "      <td>https://www.halifax.co.uk/mortgages/help-and-a...</td>\n",
       "      <td>There’s no certain way to avoid being gazumped...</td>\n",
       "    </tr>\n",
       "  </tbody>\n",
       "</table>\n",
       "<p>377 rows × 5 columns</p>\n",
       "</div>"
      ],
      "text/plain": [
       "     index                                              title  \\\n",
       "0       42                              Already bank with us?   \n",
       "1       55                         Already borrowing with us?   \n",
       "2       66                                   Already with us?   \n",
       "3       79                            Already saving with us?   \n",
       "4       94                         Already investing with us?   \n",
       "..     ...                                                ...   \n",
       "372  25059                   Ready to switch to solar energy?   \n",
       "373  26163                           How does gazumping work?   \n",
       "374  26164  What’s the difference between being outbid and...   \n",
       "375  26165                               What is gazundering?   \n",
       "376  26168                  How can you avoid being gazumped?   \n",
       "\n",
       "                                               content  \\\n",
       "0                     Already bank with us?        ...   \n",
       "1                     Already borrowing with us?   ...   \n",
       "2                     Already with us?             ...   \n",
       "3                     Already saving with us?      ...   \n",
       "4                     Already investing with us?   ...   \n",
       "..                                                 ...   \n",
       "372   Ready to switch to solar energy? Getting sola...   \n",
       "373   How does gazumping work? You’ve seen the hous...   \n",
       "374   What’s the difference between being outbid an...   \n",
       "375   What is gazundering? Gazundering is when, aft...   \n",
       "376   How can you avoid being gazumped? There’s no ...   \n",
       "\n",
       "                                                   url  \\\n",
       "0    https://www.halifax.co.uk/mortgages/help-and-a...   \n",
       "1    https://www.halifax.co.uk/mortgages/help-and-a...   \n",
       "2    https://www.halifax.co.uk/mortgages/help-and-a...   \n",
       "3    https://www.halifax.co.uk/mortgages/help-and-a...   \n",
       "4    https://www.halifax.co.uk/mortgages/help-and-a...   \n",
       "..                                                 ...   \n",
       "372  https://www.halifax.co.uk/mortgages/help-and-a...   \n",
       "373  https://www.halifax.co.uk/mortgages/help-and-a...   \n",
       "374  https://www.halifax.co.uk/mortgages/help-and-a...   \n",
       "375  https://www.halifax.co.uk/mortgages/help-and-a...   \n",
       "376  https://www.halifax.co.uk/mortgages/help-and-a...   \n",
       "\n",
       "                                       content_cleaned  \n",
       "0    Upgrading your account Overdrafts Payments & t...  \n",
       "1    Existing credit card customers Existing loan c...  \n",
       "2    Existing customers Existing customers Manage y...  \n",
       "3    Existing customers Manage your ISA Transfer yo...  \n",
       "4    Sign in to Share Dealing Introducing the new R...  \n",
       "..                                                 ...  \n",
       "372  Getting solar energy in your home could lower ...  \n",
       "373  You’ve seen the house you want to buy. You’ve ...  \n",
       "374  The difference is that gazumping occurs when a...  \n",
       "375  Gazundering is when, after the sale price has ...  \n",
       "376  There’s no certain way to avoid being gazumped...  \n",
       "\n",
       "[377 rows x 5 columns]"
      ]
     },
     "execution_count": 20,
     "metadata": {},
     "output_type": "execute_result"
    }
   ],
   "source": [
    "test_dataset"
   ]
  },
  {
   "cell_type": "code",
   "execution_count": 21,
   "metadata": {},
   "outputs": [],
   "source": [
    "train_dataset = halifax_text_df.loc[~halifax_text_df.index.isin(test_dataset.index)]"
   ]
  },
  {
   "cell_type": "code",
   "execution_count": 22,
   "metadata": {},
   "outputs": [
    {
     "data": {
      "text/html": [
       "<div>\n",
       "<style scoped>\n",
       "    .dataframe tbody tr th:only-of-type {\n",
       "        vertical-align: middle;\n",
       "    }\n",
       "\n",
       "    .dataframe tbody tr th {\n",
       "        vertical-align: top;\n",
       "    }\n",
       "\n",
       "    .dataframe thead th {\n",
       "        text-align: right;\n",
       "    }\n",
       "</style>\n",
       "<table border=\"1\" class=\"dataframe\">\n",
       "  <thead>\n",
       "    <tr style=\"text-align: right;\">\n",
       "      <th></th>\n",
       "      <th>title</th>\n",
       "      <th>content</th>\n",
       "      <th>url</th>\n",
       "    </tr>\n",
       "  </thead>\n",
       "  <tbody>\n",
       "    <tr>\n",
       "      <th>990</th>\n",
       "      <td>First time buyer calculator</td>\n",
       "      <td>First time buyer calculator Looking to buy yo...</td>\n",
       "      <td>https://www.halifax.co.uk/mortgages/mortgage-c...</td>\n",
       "    </tr>\n",
       "    <tr>\n",
       "      <th>991</th>\n",
       "      <td>Home mover calculator</td>\n",
       "      <td>Home mover calculator Ready to move home? Use...</td>\n",
       "      <td>https://www.halifax.co.uk/mortgages/mortgage-c...</td>\n",
       "    </tr>\n",
       "    <tr>\n",
       "      <th>992</th>\n",
       "      <td>Remortgage calculator</td>\n",
       "      <td>Remortgage calculator Got a mortgage with a d...</td>\n",
       "      <td>https://www.halifax.co.uk/mortgages/mortgage-c...</td>\n",
       "    </tr>\n",
       "    <tr>\n",
       "      <th>993</th>\n",
       "      <td>Switching your mortgage</td>\n",
       "      <td>Switching your mortgage If your existing Hali...</td>\n",
       "      <td>https://www.halifax.co.uk/mortgages/mortgage-c...</td>\n",
       "    </tr>\n",
       "    <tr>\n",
       "      <th>994</th>\n",
       "      <td>Borrowing more calculator</td>\n",
       "      <td>Borrowing more calculator If you want to borr...</td>\n",
       "      <td>https://www.halifax.co.uk/mortgages/mortgage-c...</td>\n",
       "    </tr>\n",
       "  </tbody>\n",
       "</table>\n",
       "</div>"
      ],
      "text/plain": [
       "                           title  \\\n",
       "990  First time buyer calculator   \n",
       "991        Home mover calculator   \n",
       "992        Remortgage calculator   \n",
       "993      Switching your mortgage   \n",
       "994    Borrowing more calculator   \n",
       "\n",
       "                                               content  \\\n",
       "990   First time buyer calculator Looking to buy yo...   \n",
       "991   Home mover calculator Ready to move home? Use...   \n",
       "992   Remortgage calculator Got a mortgage with a d...   \n",
       "993   Switching your mortgage If your existing Hali...   \n",
       "994   Borrowing more calculator If you want to borr...   \n",
       "\n",
       "                                                   url  \n",
       "990  https://www.halifax.co.uk/mortgages/mortgage-c...  \n",
       "991  https://www.halifax.co.uk/mortgages/mortgage-c...  \n",
       "992  https://www.halifax.co.uk/mortgages/mortgage-c...  \n",
       "993  https://www.halifax.co.uk/mortgages/mortgage-c...  \n",
       "994  https://www.halifax.co.uk/mortgages/mortgage-c...  "
      ]
     },
     "execution_count": 22,
     "metadata": {},
     "output_type": "execute_result"
    }
   ],
   "source": [
    "train_dataset.head()"
   ]
  },
  {
   "cell_type": "markdown",
   "metadata": {},
   "source": [
    "Now have our train and test dataset, we need to move to the next step step which involve, building the pipeline which will index the documeent in our vector database and then respond to the question."
   ]
  },
  {
   "cell_type": "markdown",
   "metadata": {},
   "source": [
    "train_datatset.shape"
   ]
  },
  {
   "cell_type": "code",
   "execution_count": 23,
   "metadata": {},
   "outputs": [
    {
     "data": {
      "text/plain": [
       "(1561, 3)"
      ]
     },
     "execution_count": 23,
     "metadata": {},
     "output_type": "execute_result"
    }
   ],
   "source": [
    "train_dataset.shape"
   ]
  },
  {
   "cell_type": "code",
   "execution_count": 24,
   "metadata": {},
   "outputs": [
    {
     "data": {
      "text/html": [
       "<div>\n",
       "<style scoped>\n",
       "    .dataframe tbody tr th:only-of-type {\n",
       "        vertical-align: middle;\n",
       "    }\n",
       "\n",
       "    .dataframe tbody tr th {\n",
       "        vertical-align: top;\n",
       "    }\n",
       "\n",
       "    .dataframe thead th {\n",
       "        text-align: right;\n",
       "    }\n",
       "</style>\n",
       "<table border=\"1\" class=\"dataframe\">\n",
       "  <thead>\n",
       "    <tr style=\"text-align: right;\">\n",
       "      <th></th>\n",
       "      <th>title</th>\n",
       "      <th>content</th>\n",
       "      <th>url</th>\n",
       "    </tr>\n",
       "  </thead>\n",
       "  <tbody>\n",
       "    <tr>\n",
       "      <th>3060</th>\n",
       "      <td>You're about to exchange contracts\\n          ...</td>\n",
       "      <td>You're about to exchange contracts           ...</td>\n",
       "      <td>https://www.halifax.co.uk/mortgages/first-time...</td>\n",
       "    </tr>\n",
       "    <tr>\n",
       "      <th>1757</th>\n",
       "      <td>Mortgage calculator</td>\n",
       "      <td>Mortgage calculator See how much you could bo...</td>\n",
       "      <td>https://www.halifax.co.uk/mortgages/help-and-a...</td>\n",
       "    </tr>\n",
       "    <tr>\n",
       "      <th>4747</th>\n",
       "      <td>Can you be turned down for equity release?\\n  ...</td>\n",
       "      <td>Can you be turned down for equity release?   ...</td>\n",
       "      <td>https://www.halifax.co.uk/mortgages/equity-rel...</td>\n",
       "    </tr>\n",
       "    <tr>\n",
       "      <th>6679</th>\n",
       "      <td>What are your mortgage options?</td>\n",
       "      <td>What are your mortgage options? Standard Mort...</td>\n",
       "      <td>https://www.halifax.co.uk/mortgages/first-time...</td>\n",
       "    </tr>\n",
       "    <tr>\n",
       "      <th>20115</th>\n",
       "      <td>←</td>\n",
       "      <td>←  Previous article Return of your rent deposit</td>\n",
       "      <td>https://www.halifax.co.uk/mortgages/help-and-a...</td>\n",
       "    </tr>\n",
       "    <tr>\n",
       "      <th>3997</th>\n",
       "      <td>How does my mortgage account work?</td>\n",
       "      <td>How does my mortgage account work? Your mortg...</td>\n",
       "      <td>https://www.halifax.co.uk/mortgages/existing-c...</td>\n",
       "    </tr>\n",
       "    <tr>\n",
       "      <th>24878</th>\n",
       "      <td>Checklist for moving house</td>\n",
       "      <td>Checklist for moving house Moving house can b...</td>\n",
       "      <td>https://www.halifax.co.uk/mortgages/help-and-a...</td>\n",
       "    </tr>\n",
       "    <tr>\n",
       "      <th>3000</th>\n",
       "      <td>Apply online</td>\n",
       "      <td>Apply online Once you've completed your Agree...</td>\n",
       "      <td>https://www.halifax.co.uk/mortgages/moving-hom...</td>\n",
       "    </tr>\n",
       "    <tr>\n",
       "      <th>24762</th>\n",
       "      <td>Phone call\\n                                 e...</td>\n",
       "      <td>Phone call                                  e...</td>\n",
       "      <td>https://www.halifax.co.uk/mortgages/help-and-a...</td>\n",
       "    </tr>\n",
       "    <tr>\n",
       "      <th>22850</th>\n",
       "      <td>Understand how much and when you need to repay</td>\n",
       "      <td>Understand how much and when you need to repa...</td>\n",
       "      <td>https://www.halifax.co.uk/mortgages/existing-c...</td>\n",
       "    </tr>\n",
       "  </tbody>\n",
       "</table>\n",
       "</div>"
      ],
      "text/plain": [
       "                                                   title  \\\n",
       "3060   You're about to exchange contracts\\n          ...   \n",
       "1757                                 Mortgage calculator   \n",
       "4747   Can you be turned down for equity release?\\n  ...   \n",
       "6679                     What are your mortgage options?   \n",
       "20115                                                  ←   \n",
       "3997                  How does my mortgage account work?   \n",
       "24878                         Checklist for moving house   \n",
       "3000                                        Apply online   \n",
       "24762  Phone call\\n                                 e...   \n",
       "22850     Understand how much and when you need to repay   \n",
       "\n",
       "                                                 content  \\\n",
       "3060    You're about to exchange contracts           ...   \n",
       "1757    Mortgage calculator See how much you could bo...   \n",
       "4747    Can you be turned down for equity release?   ...   \n",
       "6679    What are your mortgage options? Standard Mort...   \n",
       "20115   ←  Previous article Return of your rent deposit    \n",
       "3997    How does my mortgage account work? Your mortg...   \n",
       "24878   Checklist for moving house Moving house can b...   \n",
       "3000    Apply online Once you've completed your Agree...   \n",
       "24762   Phone call                                  e...   \n",
       "22850   Understand how much and when you need to repa...   \n",
       "\n",
       "                                                     url  \n",
       "3060   https://www.halifax.co.uk/mortgages/first-time...  \n",
       "1757   https://www.halifax.co.uk/mortgages/help-and-a...  \n",
       "4747   https://www.halifax.co.uk/mortgages/equity-rel...  \n",
       "6679   https://www.halifax.co.uk/mortgages/first-time...  \n",
       "20115  https://www.halifax.co.uk/mortgages/help-and-a...  \n",
       "3997   https://www.halifax.co.uk/mortgages/existing-c...  \n",
       "24878  https://www.halifax.co.uk/mortgages/help-and-a...  \n",
       "3000   https://www.halifax.co.uk/mortgages/moving-hom...  \n",
       "24762  https://www.halifax.co.uk/mortgages/help-and-a...  \n",
       "22850  https://www.halifax.co.uk/mortgages/existing-c...  "
      ]
     },
     "execution_count": 24,
     "metadata": {},
     "output_type": "execute_result"
    }
   ],
   "source": [
    "train_dataset.sample(10)"
   ]
  },
  {
   "cell_type": "code",
   "execution_count": 25,
   "metadata": {},
   "outputs": [
    {
     "data": {
      "text/html": [
       "<div>\n",
       "<style scoped>\n",
       "    .dataframe tbody tr th:only-of-type {\n",
       "        vertical-align: middle;\n",
       "    }\n",
       "\n",
       "    .dataframe tbody tr th {\n",
       "        vertical-align: top;\n",
       "    }\n",
       "\n",
       "    .dataframe thead th {\n",
       "        text-align: right;\n",
       "    }\n",
       "</style>\n",
       "<table border=\"1\" class=\"dataframe\">\n",
       "  <thead>\n",
       "    <tr style=\"text-align: right;\">\n",
       "      <th></th>\n",
       "      <th>title</th>\n",
       "      <th>content</th>\n",
       "      <th>url</th>\n",
       "    </tr>\n",
       "  </thead>\n",
       "  <tbody>\n",
       "    <tr>\n",
       "      <th>990</th>\n",
       "      <td>First time buyer calculator</td>\n",
       "      <td>First time buyer calculator Looking to buy yo...</td>\n",
       "      <td>https://www.halifax.co.uk/mortgages/mortgage-c...</td>\n",
       "    </tr>\n",
       "    <tr>\n",
       "      <th>991</th>\n",
       "      <td>Home mover calculator</td>\n",
       "      <td>Home mover calculator Ready to move home? Use...</td>\n",
       "      <td>https://www.halifax.co.uk/mortgages/mortgage-c...</td>\n",
       "    </tr>\n",
       "    <tr>\n",
       "      <th>992</th>\n",
       "      <td>Remortgage calculator</td>\n",
       "      <td>Remortgage calculator Got a mortgage with a d...</td>\n",
       "      <td>https://www.halifax.co.uk/mortgages/mortgage-c...</td>\n",
       "    </tr>\n",
       "    <tr>\n",
       "      <th>993</th>\n",
       "      <td>Switching your mortgage</td>\n",
       "      <td>Switching your mortgage If your existing Hali...</td>\n",
       "      <td>https://www.halifax.co.uk/mortgages/mortgage-c...</td>\n",
       "    </tr>\n",
       "    <tr>\n",
       "      <th>994</th>\n",
       "      <td>Borrowing more calculator</td>\n",
       "      <td>Borrowing more calculator If you want to borr...</td>\n",
       "      <td>https://www.halifax.co.uk/mortgages/mortgage-c...</td>\n",
       "    </tr>\n",
       "  </tbody>\n",
       "</table>\n",
       "</div>"
      ],
      "text/plain": [
       "                           title  \\\n",
       "990  First time buyer calculator   \n",
       "991        Home mover calculator   \n",
       "992        Remortgage calculator   \n",
       "993      Switching your mortgage   \n",
       "994    Borrowing more calculator   \n",
       "\n",
       "                                               content  \\\n",
       "990   First time buyer calculator Looking to buy yo...   \n",
       "991   Home mover calculator Ready to move home? Use...   \n",
       "992   Remortgage calculator Got a mortgage with a d...   \n",
       "993   Switching your mortgage If your existing Hali...   \n",
       "994   Borrowing more calculator If you want to borr...   \n",
       "\n",
       "                                                   url  \n",
       "990  https://www.halifax.co.uk/mortgages/mortgage-c...  \n",
       "991  https://www.halifax.co.uk/mortgages/mortgage-c...  \n",
       "992  https://www.halifax.co.uk/mortgages/mortgage-c...  \n",
       "993  https://www.halifax.co.uk/mortgages/mortgage-c...  \n",
       "994  https://www.halifax.co.uk/mortgages/mortgage-c...  "
      ]
     },
     "execution_count": 25,
     "metadata": {},
     "output_type": "execute_result"
    }
   ],
   "source": [
    "train_dataset.head()"
   ]
  },
  {
   "cell_type": "code",
   "execution_count": 26,
   "metadata": {},
   "outputs": [
    {
     "name": "stderr",
     "output_type": "stream",
     "text": [
      "/var/folders/ds/0g69mdw97cq_0bt80x0f_s240000gn/T/ipykernel_5052/2568209070.py:1: SettingWithCopyWarning: \n",
      "A value is trying to be set on a copy of a slice from a DataFrame.\n",
      "Try using .loc[row_indexer,col_indexer] = value instead\n",
      "\n",
      "See the caveats in the documentation: https://pandas.pydata.org/pandas-docs/stable/user_guide/indexing.html#returning-a-view-versus-a-copy\n",
      "  train_dataset[\"content_cleaned\"] = train_dataset.apply(lambda x: x.content.replace(x.title.strip(), '').strip(), axis=\"columns\")\n"
     ]
    }
   ],
   "source": [
    "train_dataset[\"content_cleaned\"] = train_dataset.apply(lambda x: x.content.replace(x.title.strip(), '').strip(), axis=\"columns\")\n",
    "test_dataset[\"content_cleaned\"] = test_dataset.apply(lambda x: x.content.replace(x.title.strip(), '').strip(), axis=\"columns\")"
   ]
  },
  {
   "cell_type": "code",
   "execution_count": 27,
   "metadata": {},
   "outputs": [],
   "source": [
    "train_dataset = train_dataset.loc[train_dataset.content_cleaned.str.len() != 0]"
   ]
  },
  {
   "cell_type": "code",
   "execution_count": 28,
   "metadata": {},
   "outputs": [
    {
     "data": {
      "text/html": [
       "<div>\n",
       "<style scoped>\n",
       "    .dataframe tbody tr th:only-of-type {\n",
       "        vertical-align: middle;\n",
       "    }\n",
       "\n",
       "    .dataframe tbody tr th {\n",
       "        vertical-align: top;\n",
       "    }\n",
       "\n",
       "    .dataframe thead th {\n",
       "        text-align: right;\n",
       "    }\n",
       "</style>\n",
       "<table border=\"1\" class=\"dataframe\">\n",
       "  <thead>\n",
       "    <tr style=\"text-align: right;\">\n",
       "      <th></th>\n",
       "      <th>title</th>\n",
       "      <th>content</th>\n",
       "      <th>url</th>\n",
       "      <th>content_cleaned</th>\n",
       "    </tr>\n",
       "  </thead>\n",
       "  <tbody>\n",
       "    <tr>\n",
       "      <th>990</th>\n",
       "      <td>First time buyer calculator</td>\n",
       "      <td>First time buyer calculator Looking to buy yo...</td>\n",
       "      <td>https://www.halifax.co.uk/mortgages/mortgage-c...</td>\n",
       "      <td>Looking to buy your first home? Use our mortga...</td>\n",
       "    </tr>\n",
       "    <tr>\n",
       "      <th>991</th>\n",
       "      <td>Home mover calculator</td>\n",
       "      <td>Home mover calculator Ready to move home? Use...</td>\n",
       "      <td>https://www.halifax.co.uk/mortgages/mortgage-c...</td>\n",
       "      <td>Ready to move home? Use our home mover calcula...</td>\n",
       "    </tr>\n",
       "    <tr>\n",
       "      <th>992</th>\n",
       "      <td>Remortgage calculator</td>\n",
       "      <td>Remortgage calculator Got a mortgage with a d...</td>\n",
       "      <td>https://www.halifax.co.uk/mortgages/mortgage-c...</td>\n",
       "      <td>Got a mortgage with a different provider? See ...</td>\n",
       "    </tr>\n",
       "    <tr>\n",
       "      <th>993</th>\n",
       "      <td>Switching your mortgage</td>\n",
       "      <td>Switching your mortgage If your existing Hali...</td>\n",
       "      <td>https://www.halifax.co.uk/mortgages/mortgage-c...</td>\n",
       "      <td>If your existing Halifax mortgage is coming to...</td>\n",
       "    </tr>\n",
       "    <tr>\n",
       "      <th>994</th>\n",
       "      <td>Borrowing more calculator</td>\n",
       "      <td>Borrowing more calculator If you want to borr...</td>\n",
       "      <td>https://www.halifax.co.uk/mortgages/mortgage-c...</td>\n",
       "      <td>If you want to borrow more on your mortgage, y...</td>\n",
       "    </tr>\n",
       "  </tbody>\n",
       "</table>\n",
       "</div>"
      ],
      "text/plain": [
       "                           title  \\\n",
       "990  First time buyer calculator   \n",
       "991        Home mover calculator   \n",
       "992        Remortgage calculator   \n",
       "993      Switching your mortgage   \n",
       "994    Borrowing more calculator   \n",
       "\n",
       "                                               content  \\\n",
       "990   First time buyer calculator Looking to buy yo...   \n",
       "991   Home mover calculator Ready to move home? Use...   \n",
       "992   Remortgage calculator Got a mortgage with a d...   \n",
       "993   Switching your mortgage If your existing Hali...   \n",
       "994   Borrowing more calculator If you want to borr...   \n",
       "\n",
       "                                                   url  \\\n",
       "990  https://www.halifax.co.uk/mortgages/mortgage-c...   \n",
       "991  https://www.halifax.co.uk/mortgages/mortgage-c...   \n",
       "992  https://www.halifax.co.uk/mortgages/mortgage-c...   \n",
       "993  https://www.halifax.co.uk/mortgages/mortgage-c...   \n",
       "994  https://www.halifax.co.uk/mortgages/mortgage-c...   \n",
       "\n",
       "                                       content_cleaned  \n",
       "990  Looking to buy your first home? Use our mortga...  \n",
       "991  Ready to move home? Use our home mover calcula...  \n",
       "992  Got a mortgage with a different provider? See ...  \n",
       "993  If your existing Halifax mortgage is coming to...  \n",
       "994  If you want to borrow more on your mortgage, y...  "
      ]
     },
     "execution_count": 28,
     "metadata": {},
     "output_type": "execute_result"
    }
   ],
   "source": [
    "train_dataset.head()"
   ]
  },
  {
   "cell_type": "markdown",
   "metadata": {},
   "source": [
    "Next we will be using the model  to encode the characters.\n",
    "\n",
    "\n",
    "\n",
    "bitext/Mistral-7B-Mortgage-Loans\n",
    "\n",
    "We will be using that model to learn the embeddings."
   ]
  },
  {
   "cell_type": "markdown",
   "metadata": {},
   "source": [
    "https://github.com/AI4Finance-Foundation/FinGPT?tab=readme-ov-file"
   ]
  },
  {
   "cell_type": "markdown",
   "metadata": {},
   "source": [
    "GPT like models cannot generalize embedding well. need to find a good model to use to learn embedding."
   ]
  },
  {
   "cell_type": "markdown",
   "metadata": {},
   "source": [
    "dunzhang/stella_en_1.5B_v5\n",
    "\n",
    "This will be best language model to use, it is small and match the quality."
   ]
  },
  {
   "cell_type": "markdown",
   "metadata": {},
   "source": [
    "Need to learn and find out what is the shape fo the models.\n"
   ]
  },
  {
   "cell_type": "markdown",
   "metadata": {},
   "source": [
    "response"
   ]
  },
  {
   "cell_type": "markdown",
   "metadata": {},
   "source": [
    "### Experiment with support for other models."
   ]
  },
  {
   "cell_type": "code",
   "execution_count": 29,
   "metadata": {},
   "outputs": [
    {
     "name": "stderr",
     "output_type": "stream",
     "text": [
      "/Users/esp.py/Projects/Personal/end-to-end-rag/.venv/lib/python3.10/site-packages/sentence_transformers/cross_encoder/CrossEncoder.py:11: TqdmWarning: IProgress not found. Please update jupyter and ipywidgets. See https://ipywidgets.readthedocs.io/en/stable/user_install.html\n",
      "  from tqdm.autonotebook import tqdm, trange\n"
     ]
    }
   ],
   "source": [
    "from sentence_transformers import SentenceTransformer"
   ]
  },
  {
   "cell_type": "code",
   "execution_count": 30,
   "metadata": {},
   "outputs": [],
   "source": [
    "model_path = Path.cwd().joinpath(\"models\")"
   ]
  },
  {
   "cell_type": "code",
   "execution_count": 31,
   "metadata": {},
   "outputs": [],
   "source": [
    "model_id = \"dunzhang/stella_en_400M_v5\""
   ]
  },
  {
   "cell_type": "code",
   "execution_count": 32,
   "metadata": {},
   "outputs": [
    {
     "name": "stderr",
     "output_type": "stream",
     "text": [
      "Some weights of the model checkpoint at /Users/esp.py/Projects/Personal/end-to-end-rag/models/dunzhang/stella_en_400M_v5 were not used when initializing NewModel: ['new.pooler.dense.bias', 'new.pooler.dense.weight']\n",
      "- This IS expected if you are initializing NewModel from the checkpoint of a model trained on another task or with another architecture (e.g. initializing a BertForSequenceClassification model from a BertForPreTraining model).\n",
      "- This IS NOT expected if you are initializing NewModel from the checkpoint of a model that you expect to be exactly identical (initializing a BertForSequenceClassification model from a BertForSequenceClassification model).\n"
     ]
    }
   ],
   "source": [
    "model = SentenceTransformer(\n",
    "    model_path.joinpath(model_id).__str__(),\n",
    "    trust_remote_code=True,\n",
    "    device=\"cpu\",\n",
    "    config_kwargs={\"use_memory_efficient_attention\": False, \"unpad_inputs\": False},\n",
    "    local_files_only=True\n",
    ")"
   ]
  },
  {
   "cell_type": "code",
   "execution_count": 33,
   "metadata": {},
   "outputs": [],
   "source": [
    "query_prompt_name = \"s2p_query\"\n",
    "queries = [\n",
    "    \"What are some ways to reduce stress?\",\n",
    "    \"What are the benefits of drinking green tea?\",\n",
    "    \"How often do mortgage rates change?\",\n",
    "]\n",
    "# docs do not need any prompts\n",
    "docs = [\n",
    "    \"There are many effective ways to reduce stress. Some common techniques include deep breathing, meditation, and physical activity. Engaging in hobbies, spending time in nature, and connecting with loved ones can also help alleviate stress. Additionally, setting boundaries, practicing self-care, and learning to say no can prevent stress from building up.\",\n",
    "    \"Green tea has been consumed for centuries and is known for its potential health benefits. It contains antioxidants that may help protect the body against damage caused by free radicals. Regular consumption of green tea has been associated with improved heart health, enhanced cognitive function, and a reduced risk of certain types of cancer. The polyphenols in green tea may also have anti-inflammatory and weight loss properties.\",\n",
    "    \" Mortgage rates can stay the same for years or they can change often, depending on various factors and market conditions. Factors like the Bank of England Base Rate, the housing market and the state of the economy can affect mortgage rates. But if you have a fixed rate mortgage, your rate stays the same for the length of your deal.  If you’ve already applied for a Halifax mortgage, the rate we’ve offered you won’t be affected by any changes to our mortgage range once the mortgage illustration has been accepted. \"\n",
    "]"
   ]
  },
  {
   "cell_type": "code",
   "execution_count": 34,
   "metadata": {},
   "outputs": [
    {
     "name": "stderr",
     "output_type": "stream",
     "text": [
      "huggingface/tokenizers: The current process just got forked, after parallelism has already been used. Disabling parallelism to avoid deadlocks...\n",
      "To disable this warning, you can either:\n",
      "\t- Avoid using `tokenizers` before the fork if possible\n",
      "\t- Explicitly set the environment variable TOKENIZERS_PARALLELISM=(true | false)\n",
      "/Users/esp.py/Projects/Personal/end-to-end-rag/.venv/lib/python3.10/site-packages/transformers/modeling_utils.py:1141: FutureWarning: The `device` argument is deprecated and will be removed in v5 of Transformers.\n",
      "  warnings.warn(\n"
     ]
    }
   ],
   "source": [
    "query_embeddings = model.encode(queries, prompt_name=query_prompt_name)\n",
    "doc_embeddings = model.encode(docs)"
   ]
  },
  {
   "cell_type": "code",
   "execution_count": 35,
   "metadata": {},
   "outputs": [
    {
     "name": "stdout",
     "output_type": "stream",
     "text": [
      "tensor([[0.8398, 0.2990, 0.2574],\n",
      "        [0.3282, 0.8095, 0.1961],\n",
      "        [0.2023, 0.1731, 0.7108]])\n"
     ]
    }
   ],
   "source": [
    "similarities = model.similarity(query_embeddings, doc_embeddings)\n",
    "print(similarities)"
   ]
  },
  {
   "cell_type": "code",
   "execution_count": 36,
   "metadata": {},
   "outputs": [
    {
     "data": {
      "text/html": [
       "<div>\n",
       "<style scoped>\n",
       "    .dataframe tbody tr th:only-of-type {\n",
       "        vertical-align: middle;\n",
       "    }\n",
       "\n",
       "    .dataframe tbody tr th {\n",
       "        vertical-align: top;\n",
       "    }\n",
       "\n",
       "    .dataframe thead th {\n",
       "        text-align: right;\n",
       "    }\n",
       "</style>\n",
       "<table border=\"1\" class=\"dataframe\">\n",
       "  <thead>\n",
       "    <tr style=\"text-align: right;\">\n",
       "      <th></th>\n",
       "      <th>title</th>\n",
       "      <th>content</th>\n",
       "      <th>url</th>\n",
       "      <th>content_cleaned</th>\n",
       "    </tr>\n",
       "  </thead>\n",
       "  <tbody>\n",
       "    <tr>\n",
       "      <th>990</th>\n",
       "      <td>First time buyer calculator</td>\n",
       "      <td>First time buyer calculator Looking to buy yo...</td>\n",
       "      <td>https://www.halifax.co.uk/mortgages/mortgage-c...</td>\n",
       "      <td>Looking to buy your first home? Use our mortga...</td>\n",
       "    </tr>\n",
       "    <tr>\n",
       "      <th>991</th>\n",
       "      <td>Home mover calculator</td>\n",
       "      <td>Home mover calculator Ready to move home? Use...</td>\n",
       "      <td>https://www.halifax.co.uk/mortgages/mortgage-c...</td>\n",
       "      <td>Ready to move home? Use our home mover calcula...</td>\n",
       "    </tr>\n",
       "    <tr>\n",
       "      <th>992</th>\n",
       "      <td>Remortgage calculator</td>\n",
       "      <td>Remortgage calculator Got a mortgage with a d...</td>\n",
       "      <td>https://www.halifax.co.uk/mortgages/mortgage-c...</td>\n",
       "      <td>Got a mortgage with a different provider? See ...</td>\n",
       "    </tr>\n",
       "    <tr>\n",
       "      <th>993</th>\n",
       "      <td>Switching your mortgage</td>\n",
       "      <td>Switching your mortgage If your existing Hali...</td>\n",
       "      <td>https://www.halifax.co.uk/mortgages/mortgage-c...</td>\n",
       "      <td>If your existing Halifax mortgage is coming to...</td>\n",
       "    </tr>\n",
       "    <tr>\n",
       "      <th>994</th>\n",
       "      <td>Borrowing more calculator</td>\n",
       "      <td>Borrowing more calculator If you want to borr...</td>\n",
       "      <td>https://www.halifax.co.uk/mortgages/mortgage-c...</td>\n",
       "      <td>If you want to borrow more on your mortgage, y...</td>\n",
       "    </tr>\n",
       "  </tbody>\n",
       "</table>\n",
       "</div>"
      ],
      "text/plain": [
       "                           title  \\\n",
       "990  First time buyer calculator   \n",
       "991        Home mover calculator   \n",
       "992        Remortgage calculator   \n",
       "993      Switching your mortgage   \n",
       "994    Borrowing more calculator   \n",
       "\n",
       "                                               content  \\\n",
       "990   First time buyer calculator Looking to buy yo...   \n",
       "991   Home mover calculator Ready to move home? Use...   \n",
       "992   Remortgage calculator Got a mortgage with a d...   \n",
       "993   Switching your mortgage If your existing Hali...   \n",
       "994   Borrowing more calculator If you want to borr...   \n",
       "\n",
       "                                                   url  \\\n",
       "990  https://www.halifax.co.uk/mortgages/mortgage-c...   \n",
       "991  https://www.halifax.co.uk/mortgages/mortgage-c...   \n",
       "992  https://www.halifax.co.uk/mortgages/mortgage-c...   \n",
       "993  https://www.halifax.co.uk/mortgages/mortgage-c...   \n",
       "994  https://www.halifax.co.uk/mortgages/mortgage-c...   \n",
       "\n",
       "                                       content_cleaned  \n",
       "990  Looking to buy your first home? Use our mortga...  \n",
       "991  Ready to move home? Use our home mover calcula...  \n",
       "992  Got a mortgage with a different provider? See ...  \n",
       "993  If your existing Halifax mortgage is coming to...  \n",
       "994  If you want to borrow more on your mortgage, y...  "
      ]
     },
     "execution_count": 36,
     "metadata": {},
     "output_type": "execute_result"
    }
   ],
   "source": [
    "train_dataset.head()"
   ]
  },
  {
   "cell_type": "code",
   "execution_count": 37,
   "metadata": {},
   "outputs": [
    {
     "data": {
      "text/html": [
       "<div>\n",
       "<style scoped>\n",
       "    .dataframe tbody tr th:only-of-type {\n",
       "        vertical-align: middle;\n",
       "    }\n",
       "\n",
       "    .dataframe tbody tr th {\n",
       "        vertical-align: top;\n",
       "    }\n",
       "\n",
       "    .dataframe thead th {\n",
       "        text-align: right;\n",
       "    }\n",
       "</style>\n",
       "<table border=\"1\" class=\"dataframe\">\n",
       "  <thead>\n",
       "    <tr style=\"text-align: right;\">\n",
       "      <th></th>\n",
       "      <th>title</th>\n",
       "      <th>content</th>\n",
       "      <th>url</th>\n",
       "      <th>content_cleaned</th>\n",
       "    </tr>\n",
       "  </thead>\n",
       "  <tbody>\n",
       "    <tr>\n",
       "      <th>990</th>\n",
       "      <td>First time buyer calculator</td>\n",
       "      <td>First time buyer calculator Looking to buy yo...</td>\n",
       "      <td>https://www.halifax.co.uk/mortgages/mortgage-c...</td>\n",
       "      <td>Looking to buy your first home? Use our mortga...</td>\n",
       "    </tr>\n",
       "    <tr>\n",
       "      <th>991</th>\n",
       "      <td>Home mover calculator</td>\n",
       "      <td>Home mover calculator Ready to move home? Use...</td>\n",
       "      <td>https://www.halifax.co.uk/mortgages/mortgage-c...</td>\n",
       "      <td>Ready to move home? Use our home mover calcula...</td>\n",
       "    </tr>\n",
       "    <tr>\n",
       "      <th>992</th>\n",
       "      <td>Remortgage calculator</td>\n",
       "      <td>Remortgage calculator Got a mortgage with a d...</td>\n",
       "      <td>https://www.halifax.co.uk/mortgages/mortgage-c...</td>\n",
       "      <td>Got a mortgage with a different provider? See ...</td>\n",
       "    </tr>\n",
       "    <tr>\n",
       "      <th>993</th>\n",
       "      <td>Switching your mortgage</td>\n",
       "      <td>Switching your mortgage If your existing Hali...</td>\n",
       "      <td>https://www.halifax.co.uk/mortgages/mortgage-c...</td>\n",
       "      <td>If your existing Halifax mortgage is coming to...</td>\n",
       "    </tr>\n",
       "    <tr>\n",
       "      <th>994</th>\n",
       "      <td>Borrowing more calculator</td>\n",
       "      <td>Borrowing more calculator If you want to borr...</td>\n",
       "      <td>https://www.halifax.co.uk/mortgages/mortgage-c...</td>\n",
       "      <td>If you want to borrow more on your mortgage, y...</td>\n",
       "    </tr>\n",
       "  </tbody>\n",
       "</table>\n",
       "</div>"
      ],
      "text/plain": [
       "                           title  \\\n",
       "990  First time buyer calculator   \n",
       "991        Home mover calculator   \n",
       "992        Remortgage calculator   \n",
       "993      Switching your mortgage   \n",
       "994    Borrowing more calculator   \n",
       "\n",
       "                                               content  \\\n",
       "990   First time buyer calculator Looking to buy yo...   \n",
       "991   Home mover calculator Ready to move home? Use...   \n",
       "992   Remortgage calculator Got a mortgage with a d...   \n",
       "993   Switching your mortgage If your existing Hali...   \n",
       "994   Borrowing more calculator If you want to borr...   \n",
       "\n",
       "                                                   url  \\\n",
       "990  https://www.halifax.co.uk/mortgages/mortgage-c...   \n",
       "991  https://www.halifax.co.uk/mortgages/mortgage-c...   \n",
       "992  https://www.halifax.co.uk/mortgages/mortgage-c...   \n",
       "993  https://www.halifax.co.uk/mortgages/mortgage-c...   \n",
       "994  https://www.halifax.co.uk/mortgages/mortgage-c...   \n",
       "\n",
       "                                       content_cleaned  \n",
       "990  Looking to buy your first home? Use our mortga...  \n",
       "991  Ready to move home? Use our home mover calcula...  \n",
       "992  Got a mortgage with a different provider? See ...  \n",
       "993  If your existing Halifax mortgage is coming to...  \n",
       "994  If you want to borrow more on your mortgage, y...  "
      ]
     },
     "execution_count": 37,
     "metadata": {},
     "output_type": "execute_result"
    }
   ],
   "source": [
    "train_dataset.head()"
   ]
  },
  {
   "cell_type": "code",
   "execution_count": 38,
   "metadata": {},
   "outputs": [
    {
     "data": {
      "text/html": [
       "<div>\n",
       "<style scoped>\n",
       "    .dataframe tbody tr th:only-of-type {\n",
       "        vertical-align: middle;\n",
       "    }\n",
       "\n",
       "    .dataframe tbody tr th {\n",
       "        vertical-align: top;\n",
       "    }\n",
       "\n",
       "    .dataframe thead th {\n",
       "        text-align: right;\n",
       "    }\n",
       "</style>\n",
       "<table border=\"1\" class=\"dataframe\">\n",
       "  <thead>\n",
       "    <tr style=\"text-align: right;\">\n",
       "      <th></th>\n",
       "      <th>index</th>\n",
       "      <th>title</th>\n",
       "      <th>content</th>\n",
       "      <th>url</th>\n",
       "      <th>content_cleaned</th>\n",
       "    </tr>\n",
       "  </thead>\n",
       "  <tbody>\n",
       "    <tr>\n",
       "      <th>0</th>\n",
       "      <td>42</td>\n",
       "      <td>Already bank with us?</td>\n",
       "      <td>Already bank with us?        ...</td>\n",
       "      <td>https://www.halifax.co.uk/mortgages/help-and-a...</td>\n",
       "      <td>Upgrading your account Overdrafts Payments &amp; t...</td>\n",
       "    </tr>\n",
       "    <tr>\n",
       "      <th>1</th>\n",
       "      <td>55</td>\n",
       "      <td>Already borrowing with us?</td>\n",
       "      <td>Already borrowing with us?   ...</td>\n",
       "      <td>https://www.halifax.co.uk/mortgages/help-and-a...</td>\n",
       "      <td>Existing credit card customers Existing loan c...</td>\n",
       "    </tr>\n",
       "    <tr>\n",
       "      <th>2</th>\n",
       "      <td>66</td>\n",
       "      <td>Already with us?</td>\n",
       "      <td>Already with us?             ...</td>\n",
       "      <td>https://www.halifax.co.uk/mortgages/help-and-a...</td>\n",
       "      <td>Existing customers Existing customers Manage y...</td>\n",
       "    </tr>\n",
       "    <tr>\n",
       "      <th>3</th>\n",
       "      <td>79</td>\n",
       "      <td>Already saving with us?</td>\n",
       "      <td>Already saving with us?      ...</td>\n",
       "      <td>https://www.halifax.co.uk/mortgages/help-and-a...</td>\n",
       "      <td>Existing customers Manage your ISA Transfer yo...</td>\n",
       "    </tr>\n",
       "    <tr>\n",
       "      <th>4</th>\n",
       "      <td>94</td>\n",
       "      <td>Already investing with us?</td>\n",
       "      <td>Already investing with us?   ...</td>\n",
       "      <td>https://www.halifax.co.uk/mortgages/help-and-a...</td>\n",
       "      <td>Sign in to Share Dealing Introducing the new R...</td>\n",
       "    </tr>\n",
       "  </tbody>\n",
       "</table>\n",
       "</div>"
      ],
      "text/plain": [
       "   index                       title  \\\n",
       "0     42       Already bank with us?   \n",
       "1     55  Already borrowing with us?   \n",
       "2     66            Already with us?   \n",
       "3     79     Already saving with us?   \n",
       "4     94  Already investing with us?   \n",
       "\n",
       "                                             content  \\\n",
       "0                   Already bank with us?        ...   \n",
       "1                   Already borrowing with us?   ...   \n",
       "2                   Already with us?             ...   \n",
       "3                   Already saving with us?      ...   \n",
       "4                   Already investing with us?   ...   \n",
       "\n",
       "                                                 url  \\\n",
       "0  https://www.halifax.co.uk/mortgages/help-and-a...   \n",
       "1  https://www.halifax.co.uk/mortgages/help-and-a...   \n",
       "2  https://www.halifax.co.uk/mortgages/help-and-a...   \n",
       "3  https://www.halifax.co.uk/mortgages/help-and-a...   \n",
       "4  https://www.halifax.co.uk/mortgages/help-and-a...   \n",
       "\n",
       "                                     content_cleaned  \n",
       "0  Upgrading your account Overdrafts Payments & t...  \n",
       "1  Existing credit card customers Existing loan c...  \n",
       "2  Existing customers Existing customers Manage y...  \n",
       "3  Existing customers Manage your ISA Transfer yo...  \n",
       "4  Sign in to Share Dealing Introducing the new R...  "
      ]
     },
     "execution_count": 38,
     "metadata": {},
     "output_type": "execute_result"
    }
   ],
   "source": [
    "test_dataset.head()"
   ]
  },
  {
   "cell_type": "code",
   "execution_count": 39,
   "metadata": {},
   "outputs": [
    {
     "data": {
      "text/html": [
       "<div>\n",
       "<style scoped>\n",
       "    .dataframe tbody tr th:only-of-type {\n",
       "        vertical-align: middle;\n",
       "    }\n",
       "\n",
       "    .dataframe tbody tr th {\n",
       "        vertical-align: top;\n",
       "    }\n",
       "\n",
       "    .dataframe thead th {\n",
       "        text-align: right;\n",
       "    }\n",
       "</style>\n",
       "<table border=\"1\" class=\"dataframe\">\n",
       "  <thead>\n",
       "    <tr style=\"text-align: right;\">\n",
       "      <th></th>\n",
       "      <th>index</th>\n",
       "      <th>title</th>\n",
       "      <th>content</th>\n",
       "      <th>url</th>\n",
       "      <th>content_cleaned</th>\n",
       "    </tr>\n",
       "  </thead>\n",
       "  <tbody>\n",
       "    <tr>\n",
       "      <th>0</th>\n",
       "      <td>42</td>\n",
       "      <td>Already bank with us?</td>\n",
       "      <td>Already bank with us?        ...</td>\n",
       "      <td>https://www.halifax.co.uk/mortgages/help-and-a...</td>\n",
       "      <td>Upgrading your account Overdrafts Payments &amp; t...</td>\n",
       "    </tr>\n",
       "    <tr>\n",
       "      <th>1</th>\n",
       "      <td>55</td>\n",
       "      <td>Already borrowing with us?</td>\n",
       "      <td>Already borrowing with us?   ...</td>\n",
       "      <td>https://www.halifax.co.uk/mortgages/help-and-a...</td>\n",
       "      <td>Existing credit card customers Existing loan c...</td>\n",
       "    </tr>\n",
       "    <tr>\n",
       "      <th>2</th>\n",
       "      <td>66</td>\n",
       "      <td>Already with us?</td>\n",
       "      <td>Already with us?             ...</td>\n",
       "      <td>https://www.halifax.co.uk/mortgages/help-and-a...</td>\n",
       "      <td>Existing customers Existing customers Manage y...</td>\n",
       "    </tr>\n",
       "    <tr>\n",
       "      <th>3</th>\n",
       "      <td>79</td>\n",
       "      <td>Already saving with us?</td>\n",
       "      <td>Already saving with us?      ...</td>\n",
       "      <td>https://www.halifax.co.uk/mortgages/help-and-a...</td>\n",
       "      <td>Existing customers Manage your ISA Transfer yo...</td>\n",
       "    </tr>\n",
       "    <tr>\n",
       "      <th>4</th>\n",
       "      <td>94</td>\n",
       "      <td>Already investing with us?</td>\n",
       "      <td>Already investing with us?   ...</td>\n",
       "      <td>https://www.halifax.co.uk/mortgages/help-and-a...</td>\n",
       "      <td>Sign in to Share Dealing Introducing the new R...</td>\n",
       "    </tr>\n",
       "    <tr>\n",
       "      <th>...</th>\n",
       "      <td>...</td>\n",
       "      <td>...</td>\n",
       "      <td>...</td>\n",
       "      <td>...</td>\n",
       "      <td>...</td>\n",
       "    </tr>\n",
       "    <tr>\n",
       "      <th>372</th>\n",
       "      <td>25059</td>\n",
       "      <td>Ready to switch to solar energy?</td>\n",
       "      <td>Ready to switch to solar energy? Getting sola...</td>\n",
       "      <td>https://www.halifax.co.uk/mortgages/help-and-a...</td>\n",
       "      <td>Getting solar energy in your home could lower ...</td>\n",
       "    </tr>\n",
       "    <tr>\n",
       "      <th>373</th>\n",
       "      <td>26163</td>\n",
       "      <td>How does gazumping work?</td>\n",
       "      <td>How does gazumping work? You’ve seen the hous...</td>\n",
       "      <td>https://www.halifax.co.uk/mortgages/help-and-a...</td>\n",
       "      <td>You’ve seen the house you want to buy. You’ve ...</td>\n",
       "    </tr>\n",
       "    <tr>\n",
       "      <th>374</th>\n",
       "      <td>26164</td>\n",
       "      <td>What’s the difference between being outbid and...</td>\n",
       "      <td>What’s the difference between being outbid an...</td>\n",
       "      <td>https://www.halifax.co.uk/mortgages/help-and-a...</td>\n",
       "      <td>The difference is that gazumping occurs when a...</td>\n",
       "    </tr>\n",
       "    <tr>\n",
       "      <th>375</th>\n",
       "      <td>26165</td>\n",
       "      <td>What is gazundering?</td>\n",
       "      <td>What is gazundering? Gazundering is when, aft...</td>\n",
       "      <td>https://www.halifax.co.uk/mortgages/help-and-a...</td>\n",
       "      <td>Gazundering is when, after the sale price has ...</td>\n",
       "    </tr>\n",
       "    <tr>\n",
       "      <th>376</th>\n",
       "      <td>26168</td>\n",
       "      <td>How can you avoid being gazumped?</td>\n",
       "      <td>How can you avoid being gazumped? There’s no ...</td>\n",
       "      <td>https://www.halifax.co.uk/mortgages/help-and-a...</td>\n",
       "      <td>There’s no certain way to avoid being gazumped...</td>\n",
       "    </tr>\n",
       "  </tbody>\n",
       "</table>\n",
       "<p>377 rows × 5 columns</p>\n",
       "</div>"
      ],
      "text/plain": [
       "     index                                              title  \\\n",
       "0       42                              Already bank with us?   \n",
       "1       55                         Already borrowing with us?   \n",
       "2       66                                   Already with us?   \n",
       "3       79                            Already saving with us?   \n",
       "4       94                         Already investing with us?   \n",
       "..     ...                                                ...   \n",
       "372  25059                   Ready to switch to solar energy?   \n",
       "373  26163                           How does gazumping work?   \n",
       "374  26164  What’s the difference between being outbid and...   \n",
       "375  26165                               What is gazundering?   \n",
       "376  26168                  How can you avoid being gazumped?   \n",
       "\n",
       "                                               content  \\\n",
       "0                     Already bank with us?        ...   \n",
       "1                     Already borrowing with us?   ...   \n",
       "2                     Already with us?             ...   \n",
       "3                     Already saving with us?      ...   \n",
       "4                     Already investing with us?   ...   \n",
       "..                                                 ...   \n",
       "372   Ready to switch to solar energy? Getting sola...   \n",
       "373   How does gazumping work? You’ve seen the hous...   \n",
       "374   What’s the difference between being outbid an...   \n",
       "375   What is gazundering? Gazundering is when, aft...   \n",
       "376   How can you avoid being gazumped? There’s no ...   \n",
       "\n",
       "                                                   url  \\\n",
       "0    https://www.halifax.co.uk/mortgages/help-and-a...   \n",
       "1    https://www.halifax.co.uk/mortgages/help-and-a...   \n",
       "2    https://www.halifax.co.uk/mortgages/help-and-a...   \n",
       "3    https://www.halifax.co.uk/mortgages/help-and-a...   \n",
       "4    https://www.halifax.co.uk/mortgages/help-and-a...   \n",
       "..                                                 ...   \n",
       "372  https://www.halifax.co.uk/mortgages/help-and-a...   \n",
       "373  https://www.halifax.co.uk/mortgages/help-and-a...   \n",
       "374  https://www.halifax.co.uk/mortgages/help-and-a...   \n",
       "375  https://www.halifax.co.uk/mortgages/help-and-a...   \n",
       "376  https://www.halifax.co.uk/mortgages/help-and-a...   \n",
       "\n",
       "                                       content_cleaned  \n",
       "0    Upgrading your account Overdrafts Payments & t...  \n",
       "1    Existing credit card customers Existing loan c...  \n",
       "2    Existing customers Existing customers Manage y...  \n",
       "3    Existing customers Manage your ISA Transfer yo...  \n",
       "4    Sign in to Share Dealing Introducing the new R...  \n",
       "..                                                 ...  \n",
       "372  Getting solar energy in your home could lower ...  \n",
       "373  You’ve seen the house you want to buy. You’ve ...  \n",
       "374  The difference is that gazumping occurs when a...  \n",
       "375  Gazundering is when, after the sale price has ...  \n",
       "376  There’s no certain way to avoid being gazumped...  \n",
       "\n",
       "[377 rows x 5 columns]"
      ]
     },
     "execution_count": 39,
     "metadata": {},
     "output_type": "execute_result"
    }
   ],
   "source": [
    "test_dataset"
   ]
  },
  {
   "cell_type": "code",
   "execution_count": 54,
   "metadata": {},
   "outputs": [],
   "source": [
    "sample = test_dataset.sample(10)"
   ]
  },
  {
   "cell_type": "code",
   "execution_count": 41,
   "metadata": {},
   "outputs": [],
   "source": [
    "sample_queries = sample[\"title\"].tolist()\n",
    "sample_docs = sample[\"content_cleaned\"].tolist()"
   ]
  },
  {
   "cell_type": "code",
   "execution_count": 55,
   "metadata": {},
   "outputs": [
    {
     "data": {
      "text/html": [
       "<div>\n",
       "<style scoped>\n",
       "    .dataframe tbody tr th:only-of-type {\n",
       "        vertical-align: middle;\n",
       "    }\n",
       "\n",
       "    .dataframe tbody tr th {\n",
       "        vertical-align: top;\n",
       "    }\n",
       "\n",
       "    .dataframe thead th {\n",
       "        text-align: right;\n",
       "    }\n",
       "</style>\n",
       "<table border=\"1\" class=\"dataframe\">\n",
       "  <thead>\n",
       "    <tr style=\"text-align: right;\">\n",
       "      <th></th>\n",
       "      <th>index</th>\n",
       "      <th>title</th>\n",
       "      <th>content</th>\n",
       "      <th>url</th>\n",
       "      <th>content_cleaned</th>\n",
       "    </tr>\n",
       "  </thead>\n",
       "  <tbody>\n",
       "    <tr>\n",
       "      <th>106</th>\n",
       "      <td>4154</td>\n",
       "      <td>Any questions?</td>\n",
       "      <td>Any questions? We offer a specialist UK based...</td>\n",
       "      <td>https://www.halifax.co.uk/mortgages/conveyanci...</td>\n",
       "      <td>We offer a specialist UK based team to help yo...</td>\n",
       "    </tr>\n",
       "    <tr>\n",
       "      <th>363</th>\n",
       "      <td>24833</td>\n",
       "      <td>Thinking of moving?</td>\n",
       "      <td>Thinking of moving? We’re here with advice an...</td>\n",
       "      <td>https://www.halifax.co.uk/mortgages/help-and-a...</td>\n",
       "      <td>We’re here with advice and tips to help you de...</td>\n",
       "    </tr>\n",
       "    <tr>\n",
       "      <th>199</th>\n",
       "      <td>10327</td>\n",
       "      <td>Who can get a shared ownership mortgage?</td>\n",
       "      <td>Who can get a shared ownership mortgage? Shar...</td>\n",
       "      <td>https://www.halifax.co.uk/mortgages/help-and-a...</td>\n",
       "      <td>Shared ownership mortgages are for people livi...</td>\n",
       "    </tr>\n",
       "    <tr>\n",
       "      <th>33</th>\n",
       "      <td>2003</td>\n",
       "      <td>Moving home?</td>\n",
       "      <td>Moving home? Whether you’re wanting a change ...</td>\n",
       "      <td>https://www.halifax.co.uk/mortgages/mortgage-r...</td>\n",
       "      <td>Whether you’re wanting a change of scenery or ...</td>\n",
       "    </tr>\n",
       "    <tr>\n",
       "      <th>322</th>\n",
       "      <td>22481</td>\n",
       "      <td>What is a mortgage repayment plan?</td>\n",
       "      <td>What is a mortgage repayment plan?</td>\n",
       "      <td>https://www.halifax.co.uk/mortgages/existing-c...</td>\n",
       "      <td></td>\n",
       "    </tr>\n",
       "    <tr>\n",
       "      <th>180</th>\n",
       "      <td>8647</td>\n",
       "      <td>What do I need planning permission for?</td>\n",
       "      <td>What do I need planning permission for? Do I ...</td>\n",
       "      <td>https://www.halifax.co.uk/mortgages/help-and-a...</td>\n",
       "      <td>Do I need planning permission for an extension...</td>\n",
       "    </tr>\n",
       "    <tr>\n",
       "      <th>136</th>\n",
       "      <td>5814</td>\n",
       "      <td>Should you move or improve your home?</td>\n",
       "      <td>Should you move or improve your home? Not eno...</td>\n",
       "      <td>https://www.halifax.co.uk/mortgages/help-and-a...</td>\n",
       "      <td>Not enough bedrooms for your growing family? I...</td>\n",
       "    </tr>\n",
       "    <tr>\n",
       "      <th>22</th>\n",
       "      <td>1749</td>\n",
       "      <td>Looking to rent?</td>\n",
       "      <td>Looking to rent? Get your renting questions a...</td>\n",
       "      <td>https://www.halifax.co.uk/mortgages/help-and-a...</td>\n",
       "      <td>Get your renting questions answered with our u...</td>\n",
       "    </tr>\n",
       "    <tr>\n",
       "      <th>349</th>\n",
       "      <td>24032</td>\n",
       "      <td>What is a leasehold property?</td>\n",
       "      <td>What is a leasehold property? Leasehold is wh...</td>\n",
       "      <td>https://www.halifax.co.uk/mortgages/help-and-a...</td>\n",
       "      <td>Leasehold is where you buy the property, but n...</td>\n",
       "    </tr>\n",
       "    <tr>\n",
       "      <th>47</th>\n",
       "      <td>2943</td>\n",
       "      <td>Why remortgage?</td>\n",
       "      <td>Why remortgage? A small change can make a big...</td>\n",
       "      <td>https://www.halifax.co.uk/mortgages/remortgagi...</td>\n",
       "      <td>A small change can make a big difference. Ther...</td>\n",
       "    </tr>\n",
       "  </tbody>\n",
       "</table>\n",
       "</div>"
      ],
      "text/plain": [
       "     index                                     title  \\\n",
       "106   4154                            Any questions?   \n",
       "363  24833                       Thinking of moving?   \n",
       "199  10327  Who can get a shared ownership mortgage?   \n",
       "33    2003                              Moving home?   \n",
       "322  22481        What is a mortgage repayment plan?   \n",
       "180   8647   What do I need planning permission for?   \n",
       "136   5814     Should you move or improve your home?   \n",
       "22    1749                          Looking to rent?   \n",
       "349  24032             What is a leasehold property?   \n",
       "47    2943                           Why remortgage?   \n",
       "\n",
       "                                               content  \\\n",
       "106   Any questions? We offer a specialist UK based...   \n",
       "363   Thinking of moving? We’re here with advice an...   \n",
       "199   Who can get a shared ownership mortgage? Shar...   \n",
       "33    Moving home? Whether you’re wanting a change ...   \n",
       "322                 What is a mortgage repayment plan?   \n",
       "180   What do I need planning permission for? Do I ...   \n",
       "136   Should you move or improve your home? Not eno...   \n",
       "22    Looking to rent? Get your renting questions a...   \n",
       "349   What is a leasehold property? Leasehold is wh...   \n",
       "47    Why remortgage? A small change can make a big...   \n",
       "\n",
       "                                                   url  \\\n",
       "106  https://www.halifax.co.uk/mortgages/conveyanci...   \n",
       "363  https://www.halifax.co.uk/mortgages/help-and-a...   \n",
       "199  https://www.halifax.co.uk/mortgages/help-and-a...   \n",
       "33   https://www.halifax.co.uk/mortgages/mortgage-r...   \n",
       "322  https://www.halifax.co.uk/mortgages/existing-c...   \n",
       "180  https://www.halifax.co.uk/mortgages/help-and-a...   \n",
       "136  https://www.halifax.co.uk/mortgages/help-and-a...   \n",
       "22   https://www.halifax.co.uk/mortgages/help-and-a...   \n",
       "349  https://www.halifax.co.uk/mortgages/help-and-a...   \n",
       "47   https://www.halifax.co.uk/mortgages/remortgagi...   \n",
       "\n",
       "                                       content_cleaned  \n",
       "106  We offer a specialist UK based team to help yo...  \n",
       "363  We’re here with advice and tips to help you de...  \n",
       "199  Shared ownership mortgages are for people livi...  \n",
       "33   Whether you’re wanting a change of scenery or ...  \n",
       "322                                                     \n",
       "180  Do I need planning permission for an extension...  \n",
       "136  Not enough bedrooms for your growing family? I...  \n",
       "22   Get your renting questions answered with our u...  \n",
       "349  Leasehold is where you buy the property, but n...  \n",
       "47   A small change can make a big difference. Ther...  "
      ]
     },
     "execution_count": 55,
     "metadata": {},
     "output_type": "execute_result"
    }
   ],
   "source": [
    "sample"
   ]
  },
  {
   "cell_type": "code",
   "execution_count": 56,
   "metadata": {},
   "outputs": [
    {
     "name": "stderr",
     "output_type": "stream",
     "text": [
      "/Users/esp.py/Projects/Personal/end-to-end-rag/.venv/lib/python3.10/site-packages/transformers/modeling_utils.py:1141: FutureWarning: The `device` argument is deprecated and will be removed in v5 of Transformers.\n",
      "  warnings.warn(\n"
     ]
    }
   ],
   "source": [
    "sample_queries_embeddings = model.encode(sample_queries, prompt_name=query_prompt_name)\n",
    "sample_docs_embeddings = model.encode(sample_docs)\n",
    "\n",
    "similarities = model.similarity(sample_queries_embeddings, sample_docs_embeddings)"
   ]
  },
  {
   "cell_type": "code",
   "execution_count": 57,
   "metadata": {},
   "outputs": [],
   "source": [
    "import seaborn as sb"
   ]
  },
  {
   "cell_type": "code",
   "execution_count": 58,
   "metadata": {},
   "outputs": [
    {
     "data": {
      "text/plain": [
       "<Axes: >"
      ]
     },
     "execution_count": 58,
     "metadata": {},
     "output_type": "execute_result"
    },
    {
     "data": {
      "image/png": "[encoded data removed]",
      "text/plain": [
       "<Figure size 640x480 with 2 Axes>"
      ]
     },
     "metadata": {},
     "output_type": "display_data"
    }
   ],
   "source": [
    "sb.heatmap(similarities, cmap=\"Blues\", annot=True)"
   ]
  },
  {
   "cell_type": "code",
   "execution_count": 59,
   "metadata": {},
   "outputs": [
    {
     "data": {
      "text/plain": [
       "index                                                          22481\n",
       "title                             What is a mortgage repayment plan?\n",
       "content                           What is a mortgage repayment plan?\n",
       "url                https://www.halifax.co.uk/mortgages/existing-c...\n",
       "content_cleaned                                                     \n",
       "Name: 322, dtype: object"
      ]
     },
     "execution_count": 59,
     "metadata": {},
     "output_type": "execute_result"
    }
   ],
   "source": [
    "sample.iloc[4]"
   ]
  },
  {
   "cell_type": "markdown",
   "metadata": {},
   "source": [
    "We need to do more cleaning."
   ]
  },
  {
   "cell_type": "markdown",
   "metadata": {},
   "source": [
    "We can already ingest this document and train our rag on it."
   ]
  },
  {
   "cell_type": "markdown",
   "metadata": {},
   "source": [
    "The next stip will be to ingest the model in the database. and read from them."
   ]
  },
  {
   "cell_type": "markdown",
   "metadata": {},
   "source": [
    "training_set"
   ]
  },
  {
   "cell_type": "code",
   "execution_count": 46,
   "metadata": {},
   "outputs": [
    {
     "data": {
      "text/html": [
       "<div>\n",
       "<style scoped>\n",
       "    .dataframe tbody tr th:only-of-type {\n",
       "        vertical-align: middle;\n",
       "    }\n",
       "\n",
       "    .dataframe tbody tr th {\n",
       "        vertical-align: top;\n",
       "    }\n",
       "\n",
       "    .dataframe thead th {\n",
       "        text-align: right;\n",
       "    }\n",
       "</style>\n",
       "<table border=\"1\" class=\"dataframe\">\n",
       "  <thead>\n",
       "    <tr style=\"text-align: right;\">\n",
       "      <th></th>\n",
       "      <th>title</th>\n",
       "      <th>content</th>\n",
       "      <th>url</th>\n",
       "      <th>content_cleaned</th>\n",
       "    </tr>\n",
       "  </thead>\n",
       "  <tbody>\n",
       "    <tr>\n",
       "      <th>990</th>\n",
       "      <td>First time buyer calculator</td>\n",
       "      <td>First time buyer calculator Looking to buy yo...</td>\n",
       "      <td>https://www.halifax.co.uk/mortgages/mortgage-c...</td>\n",
       "      <td>Looking to buy your first home? Use our mortga...</td>\n",
       "    </tr>\n",
       "    <tr>\n",
       "      <th>991</th>\n",
       "      <td>Home mover calculator</td>\n",
       "      <td>Home mover calculator Ready to move home? Use...</td>\n",
       "      <td>https://www.halifax.co.uk/mortgages/mortgage-c...</td>\n",
       "      <td>Ready to move home? Use our home mover calcula...</td>\n",
       "    </tr>\n",
       "    <tr>\n",
       "      <th>992</th>\n",
       "      <td>Remortgage calculator</td>\n",
       "      <td>Remortgage calculator Got a mortgage with a d...</td>\n",
       "      <td>https://www.halifax.co.uk/mortgages/mortgage-c...</td>\n",
       "      <td>Got a mortgage with a different provider? See ...</td>\n",
       "    </tr>\n",
       "    <tr>\n",
       "      <th>993</th>\n",
       "      <td>Switching your mortgage</td>\n",
       "      <td>Switching your mortgage If your existing Hali...</td>\n",
       "      <td>https://www.halifax.co.uk/mortgages/mortgage-c...</td>\n",
       "      <td>If your existing Halifax mortgage is coming to...</td>\n",
       "    </tr>\n",
       "    <tr>\n",
       "      <th>994</th>\n",
       "      <td>Borrowing more calculator</td>\n",
       "      <td>Borrowing more calculator If you want to borr...</td>\n",
       "      <td>https://www.halifax.co.uk/mortgages/mortgage-c...</td>\n",
       "      <td>If you want to borrow more on your mortgage, y...</td>\n",
       "    </tr>\n",
       "  </tbody>\n",
       "</table>\n",
       "</div>"
      ],
      "text/plain": [
       "                           title  \\\n",
       "990  First time buyer calculator   \n",
       "991        Home mover calculator   \n",
       "992        Remortgage calculator   \n",
       "993      Switching your mortgage   \n",
       "994    Borrowing more calculator   \n",
       "\n",
       "                                               content  \\\n",
       "990   First time buyer calculator Looking to buy yo...   \n",
       "991   Home mover calculator Ready to move home? Use...   \n",
       "992   Remortgage calculator Got a mortgage with a d...   \n",
       "993   Switching your mortgage If your existing Hali...   \n",
       "994   Borrowing more calculator If you want to borr...   \n",
       "\n",
       "                                                   url  \\\n",
       "990  https://www.halifax.co.uk/mortgages/mortgage-c...   \n",
       "991  https://www.halifax.co.uk/mortgages/mortgage-c...   \n",
       "992  https://www.halifax.co.uk/mortgages/mortgage-c...   \n",
       "993  https://www.halifax.co.uk/mortgages/mortgage-c...   \n",
       "994  https://www.halifax.co.uk/mortgages/mortgage-c...   \n",
       "\n",
       "                                       content_cleaned  \n",
       "990  Looking to buy your first home? Use our mortga...  \n",
       "991  Ready to move home? Use our home mover calcula...  \n",
       "992  Got a mortgage with a different provider? See ...  \n",
       "993  If your existing Halifax mortgage is coming to...  \n",
       "994  If you want to borrow more on your mortgage, y...  "
      ]
     },
     "execution_count": 46,
     "metadata": {},
     "output_type": "execute_result"
    }
   ],
   "source": [
    "train_dataset.head()"
   ]
  },
  {
   "cell_type": "code",
   "execution_count": 47,
   "metadata": {},
   "outputs": [],
   "source": [
    "train_dataset = train_dataset[~train_dataset.content.isna()\n",
    "                              & ~train_dataset.url.isna()]\n",
    "test_dataset = test_dataset[~test_dataset.content.isna() & ~test_dataset.url.isna()]"
   ]
  },
  {
   "cell_type": "code",
   "execution_count": 48,
   "metadata": {},
   "outputs": [],
   "source": [
    "dataset_path = Path.cwd().joinpath(\"datasets\", \"halifax_site\")"
   ]
  },
  {
   "cell_type": "code",
   "execution_count": 49,
   "metadata": {},
   "outputs": [],
   "source": [
    "train_dataset.to_csv(dataset_path.joinpath(\"training_data.csv\"), sep=\"|\", index=False)"
   ]
  },
  {
   "cell_type": "code",
   "execution_count": 50,
   "metadata": {},
   "outputs": [],
   "source": [
    "test_dataset.to_csv(dataset_path.joinpath(\"test_data.csv\"), sep=\"|\", index=False)"
   ]
  },
  {
   "cell_type": "code",
   "execution_count": 51,
   "metadata": {},
   "outputs": [],
   "source": [
    "from haystack.document_stores.types import DuplicatePolicy"
   ]
  },
  {
   "cell_type": "code",
   "execution_count": 52,
   "metadata": {},
   "outputs": [
    {
     "data": {
      "text/html": [
       "<div>\n",
       "<style scoped>\n",
       "    .dataframe tbody tr th:only-of-type {\n",
       "        vertical-align: middle;\n",
       "    }\n",
       "\n",
       "    .dataframe tbody tr th {\n",
       "        vertical-align: top;\n",
       "    }\n",
       "\n",
       "    .dataframe thead th {\n",
       "        text-align: right;\n",
       "    }\n",
       "</style>\n",
       "<table border=\"1\" class=\"dataframe\">\n",
       "  <thead>\n",
       "    <tr style=\"text-align: right;\">\n",
       "      <th></th>\n",
       "      <th>title</th>\n",
       "      <th>content</th>\n",
       "      <th>url</th>\n",
       "      <th>content_cleaned</th>\n",
       "    </tr>\n",
       "  </thead>\n",
       "  <tbody>\n",
       "    <tr>\n",
       "      <th>990</th>\n",
       "      <td>First time buyer calculator</td>\n",
       "      <td>First time buyer calculator Looking to buy yo...</td>\n",
       "      <td>https://www.halifax.co.uk/mortgages/mortgage-c...</td>\n",
       "      <td>Looking to buy your first home? Use our mortga...</td>\n",
       "    </tr>\n",
       "    <tr>\n",
       "      <th>991</th>\n",
       "      <td>Home mover calculator</td>\n",
       "      <td>Home mover calculator Ready to move home? Use...</td>\n",
       "      <td>https://www.halifax.co.uk/mortgages/mortgage-c...</td>\n",
       "      <td>Ready to move home? Use our home mover calcula...</td>\n",
       "    </tr>\n",
       "    <tr>\n",
       "      <th>992</th>\n",
       "      <td>Remortgage calculator</td>\n",
       "      <td>Remortgage calculator Got a mortgage with a d...</td>\n",
       "      <td>https://www.halifax.co.uk/mortgages/mortgage-c...</td>\n",
       "      <td>Got a mortgage with a different provider? See ...</td>\n",
       "    </tr>\n",
       "    <tr>\n",
       "      <th>993</th>\n",
       "      <td>Switching your mortgage</td>\n",
       "      <td>Switching your mortgage If your existing Hali...</td>\n",
       "      <td>https://www.halifax.co.uk/mortgages/mortgage-c...</td>\n",
       "      <td>If your existing Halifax mortgage is coming to...</td>\n",
       "    </tr>\n",
       "    <tr>\n",
       "      <th>994</th>\n",
       "      <td>Borrowing more calculator</td>\n",
       "      <td>Borrowing more calculator If you want to borr...</td>\n",
       "      <td>https://www.halifax.co.uk/mortgages/mortgage-c...</td>\n",
       "      <td>If you want to borrow more on your mortgage, y...</td>\n",
       "    </tr>\n",
       "  </tbody>\n",
       "</table>\n",
       "</div>"
      ],
      "text/plain": [
       "                           title  \\\n",
       "990  First time buyer calculator   \n",
       "991        Home mover calculator   \n",
       "992        Remortgage calculator   \n",
       "993      Switching your mortgage   \n",
       "994    Borrowing more calculator   \n",
       "\n",
       "                                               content  \\\n",
       "990   First time buyer calculator Looking to buy yo...   \n",
       "991   Home mover calculator Ready to move home? Use...   \n",
       "992   Remortgage calculator Got a mortgage with a d...   \n",
       "993   Switching your mortgage If your existing Hali...   \n",
       "994   Borrowing more calculator If you want to borr...   \n",
       "\n",
       "                                                   url  \\\n",
       "990  https://www.halifax.co.uk/mortgages/mortgage-c...   \n",
       "991  https://www.halifax.co.uk/mortgages/mortgage-c...   \n",
       "992  https://www.halifax.co.uk/mortgages/mortgage-c...   \n",
       "993  https://www.halifax.co.uk/mortgages/mortgage-c...   \n",
       "994  https://www.halifax.co.uk/mortgages/mortgage-c...   \n",
       "\n",
       "                                       content_cleaned  \n",
       "990  Looking to buy your first home? Use our mortga...  \n",
       "991  Ready to move home? Use our home mover calcula...  \n",
       "992  Got a mortgage with a different provider? See ...  \n",
       "993  If your existing Halifax mortgage is coming to...  \n",
       "994  If you want to borrow more on your mortgage, y...  "
      ]
     },
     "execution_count": 52,
     "metadata": {},
     "output_type": "execute_result"
    }
   ],
   "source": [
    "train_dataset.head()"
   ]
  },
  {
   "cell_type": "markdown",
   "metadata": {},
   "source": []
  },
  {
   "cell_type": "markdown",
   "metadata": {},
   "source": []
  },
  {
   "cell_type": "markdown",
   "metadata": {},
   "source": []
  },
  {
   "cell_type": "code",
   "execution_count": 53,
   "metadata": {},
   "outputs": [
    {
     "data": {
      "text/plain": [
       "(1442, 4)"
      ]
     },
     "execution_count": 53,
     "metadata": {},
     "output_type": "execute_result"
    }
   ],
   "source": [
    "train_dataset.shape"
   ]
  },
  {
   "cell_type": "markdown",
   "metadata": {},
   "source": [
    "tra"
   ]
  }
 ],
 "metadata": {
  "kernelspec": {
   "display_name": ".venv",
   "language": "python",
   "name": "python3"
  },
  "language_info": {
   "codemirror_mode": {
    "name": "ipython",
    "version": 3
   },
   "file_extension": ".py",
   "mimetype": "text/x-python",
   "name": "python",
   "nbconvert_exporter": "python",
   "pygments_lexer": "ipython3",
   "version": "3.10.4"
  }
 },
 "nbformat": 4,
 "nbformat_minor": 2
}
