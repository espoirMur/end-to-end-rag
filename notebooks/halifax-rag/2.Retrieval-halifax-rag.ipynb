{
 "cells": [
  {
   "cell_type": "code",
   "execution_count": 1,
   "metadata": {},
   "outputs": [
    {
     "name": "stderr",
     "output_type": "stream",
     "text": [
      "/Users/esp.py/Projects/Personal/end-to-end-rag/.venv/lib/python3.10/site-packages/sentence_transformers/cross_encoder/CrossEncoder.py:11: TqdmWarning: IProgress not found. Please update jupyter and ipywidgets. See https://ipywidgets.readthedocs.io/en/stable/user_install.html\n",
      "  from tqdm.autonotebook import tqdm, trange\n"
     ]
    }
   ],
   "source": [
    "from src.rag.components.retriever import HybridRetriever"
   ]
  },
  {
   "cell_type": "code",
   "execution_count": 2,
   "metadata": {},
   "outputs": [],
   "source": [
    "embedding_model_id = \"dunzhang/stella_en_400M_v5\""
   ]
  },
  {
   "cell_type": "code",
   "execution_count": 3,
   "metadata": {},
   "outputs": [],
   "source": [
    "from pathlib import Path"
   ]
  },
  {
   "cell_type": "code",
   "execution_count": 4,
   "metadata": {},
   "outputs": [],
   "source": [
    "model_path = Path.cwd().joinpath(\"models\")"
   ]
  },
  {
   "cell_type": "code",
   "execution_count": 5,
   "metadata": {},
   "outputs": [],
   "source": []
  },
  {
   "cell_type": "code",
   "execution_count": 5,
   "metadata": {},
   "outputs": [],
   "source": [
    "embedding_model_path = model_path.joinpath(embedding_model_id ).__str__()"
   ]
  },
  {
   "cell_type": "code",
   "execution_count": 6,
   "metadata": {},
   "outputs": [],
   "source": [
    "cross_encoder_kwargs = {\n",
    "    \"model_name\": embedding_model_path,\n",
    "    \"trust_remote_code\": True,\n",
    "    \"local_files_only\": True,\n",
    "    \"config_kwargs\": {\"use_memory_efficient_attention\": False, \"unpad_inputs\": False},\n",
    "    \"device\": \"cpu\"\n",
    "}"
   ]
  },
  {
   "cell_type": "code",
   "execution_count": 7,
   "metadata": {},
   "outputs": [],
   "source": [
    "\n",
    "transformer_kwargs  = { \"model_name_or_path\": embedding_model_path,\n",
    "    \"trust_remote_code\": True,\n",
    "    \"device\": \"cpu\",\n",
    "    \"config_kwargs\": {\"use_memory_efficient_attention\": False,\n",
    "                   \"unpad_inputs\": False},\n",
    "    \"cache_folder\": model_path}"
   ]
  },
  {
   "cell_type": "code",
   "execution_count": 8,
   "metadata": {},
   "outputs": [],
   "source": [
    "spacy_model_id = \"en_core_web_sm\""
   ]
  },
  {
   "cell_type": "code",
   "execution_count": 9,
   "metadata": {},
   "outputs": [
    {
     "name": "stderr",
     "output_type": "stream",
     "text": [
      "Some weights of the model checkpoint at /Users/esp.py/Projects/Personal/end-to-end-rag/models/dunzhang/stella_en_400M_v5 were not used when initializing NewModel: ['new.pooler.dense.bias', 'new.pooler.dense.weight']\n",
      "- This IS expected if you are initializing NewModel from the checkpoint of a model trained on another task or with another architecture (e.g. initializing a BertForSequenceClassification model from a BertForPreTraining model).\n",
      "- This IS NOT expected if you are initializing NewModel from the checkpoint of a model that you expect to be exactly identical (initializing a BertForSequenceClassification model from a BertForSequenceClassification model).\n",
      "Some weights of NewForSequenceClassification were not initialized from the model checkpoint at /Users/esp.py/Projects/Personal/end-to-end-rag/models/dunzhang/stella_en_400M_v5 and are newly initialized: ['classifier.bias', 'classifier.weight']\n",
      "You should probably TRAIN this model on a down-stream task to be able to use it for predictions and inference.\n"
     ]
    }
   ],
   "source": [
    "retriever = HybridRetriever(\n",
    "    cross_encoder_kwargs=cross_encoder_kwargs,\n",
    "    spacy_model=spacy_model_id,\n",
    "    sentence_transformer_kwargs=transformer_kwargs,\n",
    "    language=\"english\"\n",
    ")"
   ]
  },
  {
   "cell_type": "code",
   "execution_count": 27,
   "metadata": {},
   "outputs": [],
   "source": [
    "query = \"How do you work out your LTV ratio?\""
   ]
  },
  {
   "cell_type": "code",
   "execution_count": 28,
   "metadata": {},
   "outputs": [],
   "source": [
    "semantic_search_results = retriever.semantic_search(query=query, limit=10)"
   ]
  },
  {
   "cell_type": "code",
   "execution_count": 29,
   "metadata": {},
   "outputs": [],
   "source": [
    "keywords = retriever.perform_keyword_extraction(query)"
   ]
  },
  {
   "cell_type": "code",
   "execution_count": 30,
   "metadata": {},
   "outputs": [
    {
     "data": {
      "text/plain": [
       "'\"LTV ratio\"'"
      ]
     },
     "execution_count": 30,
     "metadata": {},
     "output_type": "execute_result"
    }
   ],
   "source": [
    "keywords"
   ]
  },
  {
   "cell_type": "code",
   "execution_count": 31,
   "metadata": {},
   "outputs": [],
   "source": [
    "keywords_search_results = retriever.keyword_search(keywords=keywords, limit=10)"
   ]
  },
  {
   "cell_type": "markdown",
   "metadata": {},
   "source": [
    "We can add a reranker but we decided to keep it simple for now."
   ]
  },
  {
   "cell_type": "code",
   "execution_count": 32,
   "metadata": {},
   "outputs": [
    {
     "name": "stdout",
     "output_type": "stream",
     "text": [
      "Loan to value ratio, or LTV, is the ratio of what you borrow as a mortgage against how much you pay as a deposit. Here’s how loan to value ratio works: You pay a deposit of £20,000 for a property worth £200,000. You get a mortgage of £180,000 to pay for the rest. Your deposit covers 10% of the house price. So, your LTV is 90%.\n",
      "----------\n",
      "Loan to Value ratio is the percentage of borrowing you take out against the value of your home. Find out how it works here.\n",
      "----------\n",
      "Your lender will need to carry out an independent valuation of the property you want to buy. This is to make sure the house is worth what you’re offering to pay for it, and this will be used to work out your loan to value ratio.\n",
      "----------\n",
      "Learn what loan to value is and how it could affect you buying a home.\n",
      "----------\n",
      "Most lenders consider anything under 80% to be a good LTV ratio but will vary by lender. While it’s sometimes possible to borrow extra, anything above 80% tends to cost more. If you can, increase your deposit to lower your LTV.\n",
      "----------\n",
      "A lender will want to know how much you’ve saved for a deposit. And they’ll also look at your loan to value (LTV) ratio. This is the amount of the property value you’ll need to borrow with a mortgage – usually expressed as a percentage.  The more you have saved and the better LTV ratio you have, the better chance you'll have of being accepted for a mortgage.\n",
      "----------\n",
      "Find out how remortgaging works and what you’ll need to do.\n",
      "----------\n",
      "Find out how much your mortgage payments could be.\n",
      "----------\n",
      "Find out how much your mortgage payments could be.\n",
      "----------\n",
      "Want to rent a property out? You’ll need to know how a Buy to Let mortgage works.\n",
      "----------\n"
     ]
    }
   ],
   "source": [
    "for item in semantic_search_results:\n",
    "    print(item.content)\n",
    "    print(10 * \"-\")"
   ]
  },
  {
   "cell_type": "markdown",
   "metadata": {},
   "source": [
    "For some reason the encoder is taking long to return."
   ]
  },
  {
   "cell_type": "code",
   "execution_count": 33,
   "metadata": {},
   "outputs": [
    {
     "name": "stdout",
     "output_type": "stream",
     "text": [
      "A lender will want to know how much you’ve saved for a deposit. And they’ll also look at your loan to value (LTV) ratio. This is the amount of the property value you’ll need to borrow with a mortgage – usually expressed as a percentage.  The more you have saved and the better LTV ratio you have, the better chance you'll have of being accepted for a mortgage.\n",
      "----------\n",
      "There’s no sure-fire way to guarantee that you’re accepted for a mortgage. But there are things you can do to help increase your chances. Have a high deposit or low loan to value (LTV) ratio. The higher your deposit and lower your LTV ratio, the less money you’ll need to borrow. This can make lenders feel more relaxed about your ability to meet your payments. Build up your credit score. Building up your credit score illustrates that you can meet your repayments and manage your money. This could make companies more willing to lend you money. Learn how to improve your score. Having a strong financial history. If you have little or no outstanding debts on your record, lenders may see you as a safer borrower. Get an Agreement in Principle. You can get this before applying for a mortgage in full. Having this is no guarantee, but it’s a good indicator of what you are eligible for. Buy with a partner. If you’re buying with a friend or partner, how much you can borrow is based on your combined income.\n",
      "----------\n",
      "The higher your deposit and lower your loan to value (LTV) ratio, the less money you'll need to borrow. This shows lenders that you're able to save and make them feel more relaxed about your ability to meet your payments. Learn more about deposits\n",
      "----------\n",
      "The key phrase here is ‘in principle’. This means the lender told you how much they may be willing to offer you for a mortgage based on the information they had from you at the time. Between getting your Agreement in Principle and making a full application, your income could have changed, or the information provided then doesn’t match the figures now. This may mean your application is turned down. One or more of these reasons may be responsible: Changes to your monthly outgoings. The lender’s valuation doesn’t match what was offered in the AIP. Switching jobs. Applying for other forms of credit. A high loan to value (LTV) ratio. Something in your credit history could also come up after a full credit search, such as a note of missed payments to a lender.\n",
      "----------\n",
      "Most lenders consider anything under 80% to be a good LTV ratio but will vary by lender. While it’s sometimes possible to borrow extra, anything above 80% tends to cost more. If you can, increase your deposit to lower your LTV.\n",
      "----------\n"
     ]
    }
   ],
   "source": [
    "for item in keywords_search_results:\n",
    "    print(item.content)\n",
    "    print(10 * \"-\")"
   ]
  },
  {
   "cell_type": "code",
   "execution_count": 34,
   "metadata": {},
   "outputs": [],
   "source": [
    "# scores = retriever.cross_encoder.predict(\n",
    "#    [(query, item.content) for item in keywords_search_results + semantic_search_results])"
   ]
  },
  {
   "cell_type": "markdown",
   "metadata": {},
   "source": [
    "### Generator"
   ]
  },
  {
   "cell_type": "code",
   "execution_count": 35,
   "metadata": {},
   "outputs": [],
   "source": [
    "from src.rag.components.generator import  LLamaCppGeneratorComponent"
   ]
  },
  {
   "cell_type": "code",
   "execution_count": 36,
   "metadata": {},
   "outputs": [],
   "source": [
    "prompt = \"you are a helpful mortgage advisor\""
   ]
  },
  {
   "cell_type": "code",
   "execution_count": 37,
   "metadata": {},
   "outputs": [],
   "source": [
    "model_name = \"Qwen/Qwen2.5-1.5B-Instruct\""
   ]
  },
  {
   "cell_type": "code",
   "execution_count": 38,
   "metadata": {},
   "outputs": [],
   "source": [
    "llama_cpp_generator = LLamaCppGeneratorComponent(\n",
    "    api_url=\"http://127.0.0.1:8001\",\n",
    "    model_name=model_name,\n",
    "    prompt=prompt\n",
    ")"
   ]
  },
  {
   "cell_type": "code",
   "execution_count": 39,
   "metadata": {},
   "outputs": [
    {
     "data": {
      "text/plain": [
       "True"
      ]
     },
     "execution_count": 39,
     "metadata": {},
     "output_type": "execute_result"
    }
   ],
   "source": [
    "llama_cpp_generator._ping_api()"
   ]
  },
  {
   "cell_type": "code",
   "execution_count": 40,
   "metadata": {},
   "outputs": [],
   "source": [
    "documents = [doc.content for doc in keywords_search_results + semantic_search_results]"
   ]
  },
  {
   "cell_type": "code",
   "execution_count": 41,
   "metadata": {},
   "outputs": [
    {
     "data": {
      "text/plain": [
       "[\"A lender will want to know how much you’ve saved for a deposit. And they’ll also look at your loan to value (LTV) ratio. This is the amount of the property value you’ll need to borrow with a mortgage – usually expressed as a percentage.\\xa0 The more you have saved and the better LTV ratio you have, the better chance you'll have of being accepted for a mortgage.\",\n",
       " 'There’s no sure-fire way to guarantee that you’re accepted for a mortgage. But there are things you can do to help increase your chances. Have a high deposit or low loan to value (LTV) ratio.\\xa0The higher your deposit and lower your LTV ratio, the less money you’ll need to borrow. This can make lenders feel more relaxed about your ability to meet your payments. Build up your credit score.\\xa0Building up your credit score illustrates that you can meet your repayments and manage your money. This could make companies more willing to lend you money.\\xa0Learn how to improve your score. Having a strong financial history. If you have little or no outstanding debts on your record, lenders may see you as a safer borrower. Get an\\xa0Agreement in Principle.\\xa0You can get this before applying for a mortgage in full. Having this is no guarantee, but it’s a good indicator of what you are eligible for. Buy with a partner. If you’re buying with a friend or partner, how much you can borrow is based on your combined income.',\n",
       " \"The higher your deposit and lower your loan to value (LTV) ratio, the less money you'll need to borrow. This shows lenders that you're able to save and make them feel more relaxed about your ability to meet your payments. Learn more about deposits\",\n",
       " 'The key phrase here is ‘in principle’. This means the lender told you how much they may be willing to offer you for a mortgage based on the information they had from you at the time. Between getting your Agreement in Principle and making a full application, your income could have changed, or the information provided then doesn’t match the figures now. This may mean your application is turned down. One or more of these reasons may be responsible: Changes to your monthly outgoings. The lender’s valuation doesn’t match what was offered in the AIP. Switching jobs. Applying for other forms of credit. A high loan to value (LTV) ratio. Something in your credit history could also come up after a full credit search, such as a note of missed payments to a lender.',\n",
       " 'Most lenders consider anything under 80% to be a good LTV ratio but will vary by lender. While it’s sometimes possible to borrow extra, anything above 80% tends to cost more. If you can, increase your deposit to lower your LTV.',\n",
       " 'Loan to value ratio, or LTV, is the ratio of what you borrow as a mortgage against how much you pay as a deposit. Here’s how loan to value ratio works: You pay a deposit of £20,000 for a property worth £200,000. You get a mortgage of £180,000 to pay for the rest. Your deposit covers 10% of the house price. So, your LTV is 90%.',\n",
       " 'Loan to Value ratio is the percentage of borrowing you take out against the value of your home. Find out how it works here.',\n",
       " 'Your lender will need to carry out an independent valuation of the property you want to buy. This is to make sure the house is worth what you’re offering to pay for it, and this will be used to work out your loan to value ratio.',\n",
       " 'Learn what loan to value is and how it could affect you buying a home.',\n",
       " 'Most lenders consider anything under 80% to be a good LTV ratio but will vary by lender. While it’s sometimes possible to borrow extra, anything above 80% tends to cost more. If you can, increase your deposit to lower your LTV.',\n",
       " \"A lender will want to know how much you’ve saved for a deposit. And they’ll also look at your loan to value (LTV) ratio. This is the amount of the property value you’ll need to borrow with a mortgage – usually expressed as a percentage.\\xa0 The more you have saved and the better LTV ratio you have, the better chance you'll have of being accepted for a mortgage.\",\n",
       " 'Find out how remortgaging works and what you’ll need to do.',\n",
       " 'Find out how much your mortgage payments could be.',\n",
       " 'Find out how much your mortgage payments could be.',\n",
       " 'Want to rent a property out? You’ll need to know how a Buy to Let mortgage works.']"
      ]
     },
     "execution_count": 41,
     "metadata": {},
     "output_type": "execute_result"
    }
   ],
   "source": [
    "documents"
   ]
  },
  {
   "cell_type": "code",
   "execution_count": 42,
   "metadata": {},
   "outputs": [
    {
     "data": {
      "text/plain": [
       "[{'role': 'system', 'content': 'you are a helpful mortgage advisor'},\n",
       " {'role': 'user',\n",
       "  'content': \"\\n            DOCUMENTS:\\n            \\n             - A lender will want to know how much you’ve saved for a deposit. And they’ll also look at your loan to value (LTV) ratio. This is the amount of the property value you’ll need to borrow with a mortgage – usually expressed as a percentage.\\xa0 The more you have saved and the better LTV ratio you have, the better chance you'll have of being accepted for a mortgage. \\n\\n            \\n             - There’s no sure-fire way to guarantee that you’re accepted for a mortgage. But there are things you can do to help increase your chances. Have a high deposit or low loan to value (LTV) ratio.\\xa0The higher your deposit and lower your LTV ratio, the less money you’ll need to borrow. This can make lenders feel more relaxed about your ability to meet your payments. Build up your credit score.\\xa0Building up your credit score illustrates that you can meet your repayments and manage your money. This could make companies more willing to lend you money.\\xa0Learn how to improve your score. Having a strong financial history. If you have little or no outstanding debts on your record, lenders may see you as a safer borrower. Get an\\xa0Agreement in Principle.\\xa0You can get this before applying for a mortgage in full. Having this is no guarantee, but it’s a good indicator of what you are eligible for. Buy with a partner. If you’re buying with a friend or partner, how much you can borrow is based on your combined income. \\n\\n            \\n             - The higher your deposit and lower your loan to value (LTV) ratio, the less money you'll need to borrow. This shows lenders that you're able to save and make them feel more relaxed about your ability to meet your payments. Learn more about deposits \\n\\n            \\n             - The key phrase here is ‘in principle’. This means the lender told you how much they may be willing to offer you for a mortgage based on the information they had from you at the time. Between getting your Agreement in Principle and making a full application, your income could have changed, or the information provided then doesn’t match the figures now. This may mean your application is turned down. One or more of these reasons may be responsible: Changes to your monthly outgoings. The lender’s valuation doesn’t match what was offered in the AIP. Switching jobs. Applying for other forms of credit. A high loan to value (LTV) ratio. Something in your credit history could also come up after a full credit search, such as a note of missed payments to a lender. \\n\\n            \\n             - Most lenders consider anything under 80% to be a good LTV ratio but will vary by lender. While it’s sometimes possible to borrow extra, anything above 80% tends to cost more. If you can, increase your deposit to lower your LTV. \\n\\n            \\n             - Loan to value ratio, or LTV, is the ratio of what you borrow as a mortgage against how much you pay as a deposit. Here’s how loan to value ratio works: You pay a deposit of £20,000 for a property worth £200,000. You get a mortgage of £180,000 to pay for the rest. Your deposit covers 10% of the house price. So, your LTV is 90%. \\n\\n            \\n             - Loan to Value ratio is the percentage of borrowing you take out against the value of your home. Find out how it works here. \\n\\n            \\n             - Your lender will need to carry out an independent valuation of the property you want to buy. This is to make sure the house is worth what you’re offering to pay for it, and this will be used to work out your loan to value ratio. \\n\\n            \\n             - Learn what loan to value is and how it could affect you buying a home. \\n\\n            \\n             - Most lenders consider anything under 80% to be a good LTV ratio but will vary by lender. While it’s sometimes possible to borrow extra, anything above 80% tends to cost more. If you can, increase your deposit to lower your LTV. \\n\\n            \\n             - A lender will want to know how much you’ve saved for a deposit. And they’ll also look at your loan to value (LTV) ratio. This is the amount of the property value you’ll need to borrow with a mortgage – usually expressed as a percentage.\\xa0 The more you have saved and the better LTV ratio you have, the better chance you'll have of being accepted for a mortgage. \\n\\n            \\n             - Find out how remortgaging works and what you’ll need to do. \\n\\n            \\n             - Find out how much your mortgage payments could be. \\n\\n            \\n             - Find out how much your mortgage payments could be. \\n\\n            \\n             - Want to rent a property out? You’ll need to know how a Buy to Let mortgage works. \\n\\n            \\n\\n            QUESTION:\\n           How do you work out your LTV ratio?\\n            INSTRUCTIONS:\\n            Answer the users QUESTION using the DOCUMENTS text above.\\n            Keep your answer ground in the facts of the DOCUMENTS.\\n            If the DOCUMENTS doesn’t contain the facts to answer the QUESTION return None\\n        \"}]"
      ]
     },
     "execution_count": 42,
     "metadata": {},
     "output_type": "execute_result"
    }
   ],
   "source": [
    "llama_cpp_generator.generate_chat_input(query, documents)"
   ]
  },
  {
   "cell_type": "code",
   "execution_count": 43,
   "metadata": {},
   "outputs": [],
   "source": [
    "response = llama_cpp_generator.run(query, documents)"
   ]
  },
  {
   "cell_type": "code",
   "execution_count": 44,
   "metadata": {},
   "outputs": [
    {
     "name": "stdout",
     "output_type": "stream",
     "text": [
      "To work out your Loan to Value (LTV) ratio, you need to divide the amount of money you will borrow from a mortgage against the value of the property. For example, if you pay a deposit of £20,000 for a property worth £200,000, you get a mortgage of £180,000 to pay for the rest. Your deposit covers 10% of the house price, so your LTV is 90%.\n"
     ]
    }
   ],
   "source": [
    "print(response)"
   ]
  },
  {
   "cell_type": "code",
   "execution_count": null,
   "metadata": {},
   "outputs": [],
   "source": []
  },
  {
   "cell_type": "code",
   "execution_count": null,
   "metadata": {},
   "outputs": [],
   "source": []
  }
 ],
 "metadata": {
  "kernelspec": {
   "display_name": ".venv",
   "language": "python",
   "name": "python3"
  },
  "language_info": {
   "codemirror_mode": {
    "name": "ipython",
    "version": 3
   },
   "file_extension": ".py",
   "mimetype": "text/x-python",
   "name": "python",
   "nbconvert_exporter": "python",
   "pygments_lexer": "ipython3",
   "version": "3.10.4"
  }
 },
 "nbformat": 4,
 "nbformat_minor": 2
}
