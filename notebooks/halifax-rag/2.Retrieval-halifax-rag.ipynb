{
 "cells": [
  {
   "cell_type": "code",
   "execution_count": 1,
   "metadata": {},
   "outputs": [
    {
     "name": "stderr",
     "output_type": "stream",
     "text": [
      "/Users/esp.py/Projects/Personal/end-to-end-rag/.venv/lib/python3.10/site-packages/sentence_transformers/cross_encoder/CrossEncoder.py:13: TqdmWarning: IProgress not found. Please update jupyter and ipywidgets. See https://ipywidgets.readthedocs.io/en/stable/user_install.html\n",
      "  from tqdm.autonotebook import tqdm, trange\n"
     ]
    }
   ],
   "source": [
    "from src.rag.components.retriever import HybridRetriever"
   ]
  },
  {
   "cell_type": "code",
   "execution_count": 2,
   "metadata": {},
   "outputs": [],
   "source": [
    "embedding_model_id = \"dunzhang/stella_en_400M_v5\""
   ]
  },
  {
   "cell_type": "code",
   "execution_count": 3,
   "metadata": {},
   "outputs": [],
   "source": [
    "from pathlib import Path"
   ]
  },
  {
   "cell_type": "code",
   "execution_count": 4,
   "metadata": {},
   "outputs": [],
   "source": [
    "model_path = Path.cwd().joinpath(\"models\")"
   ]
  },
  {
   "cell_type": "code",
   "execution_count": 5,
   "metadata": {},
   "outputs": [],
   "source": []
  },
  {
   "cell_type": "code",
   "execution_count": 5,
   "metadata": {},
   "outputs": [],
   "source": [
    "embedding_model_path = model_path.joinpath(embedding_model_id ).__str__()"
   ]
  },
  {
   "cell_type": "code",
   "execution_count": 6,
   "metadata": {},
   "outputs": [],
   "source": [
    "cross_encoder_kwargs = {\n",
    "    \"model_name\": embedding_model_path,\n",
    "    \"trust_remote_code\": True,\n",
    "    \"local_files_only\": True,\n",
    "    \"config_kwargs\": {\"use_memory_efficient_attention\": False, \"unpad_inputs\": False},\n",
    "    \"device\": \"cpu\"\n",
    "}"
   ]
  },
  {
   "cell_type": "code",
   "execution_count": 7,
   "metadata": {},
   "outputs": [],
   "source": [
    "\n",
    "transformer_kwargs  = { \"model_name_or_path\": embedding_model_path,\n",
    "    \"trust_remote_code\": True,\n",
    "    \"device\": \"cpu\",\n",
    "    \"config_kwargs\": {\"use_memory_efficient_attention\": False,\n",
    "                   \"unpad_inputs\": False},\n",
    "    \"cache_folder\": model_path}"
   ]
  },
  {
   "cell_type": "code",
   "execution_count": 8,
   "metadata": {},
   "outputs": [],
   "source": [
    "spacy_model_id = \"en_core_web_sm\""
   ]
  },
  {
   "cell_type": "code",
   "execution_count": 9,
   "metadata": {},
   "outputs": [
    {
     "name": "stderr",
     "output_type": "stream",
     "text": [
      "Some weights of the model checkpoint at /Users/esp.py/Projects/Personal/end-to-end-rag/models/dunzhang/stella_en_400M_v5 were not used when initializing NewModel: ['new.pooler.dense.bias', 'new.pooler.dense.weight']\n",
      "- This IS expected if you are initializing NewModel from the checkpoint of a model trained on another task or with another architecture (e.g. initializing a BertForSequenceClassification model from a BertForPreTraining model).\n",
      "- This IS NOT expected if you are initializing NewModel from the checkpoint of a model that you expect to be exactly identical (initializing a BertForSequenceClassification model from a BertForSequenceClassification model).\n",
      "Some weights of NewForSequenceClassification were not initialized from the model checkpoint at /Users/esp.py/Projects/Personal/end-to-end-rag/models/dunzhang/stella_en_400M_v5 and are newly initialized: ['classifier.bias', 'classifier.weight']\n",
      "You should probably TRAIN this model on a down-stream task to be able to use it for predictions and inference.\n"
     ]
    }
   ],
   "source": [
    "retriever = HybridRetriever(\n",
    "    cross_encoder_kwargs=cross_encoder_kwargs,\n",
    "    spacy_model=spacy_model_id,\n",
    "    sentence_transformer_kwargs=transformer_kwargs,\n",
    "    language=\"english\"\n",
    ")"
   ]
  },
  {
   "cell_type": "code",
   "execution_count": 54,
   "metadata": {},
   "outputs": [],
   "source": [
    "query = \"How does an interest only mortgage work?\"\n",
    "\n",
    "\n",
    "## \"How can I speed up the mortgage completion process?\"\n",
    "\n",
    "\n",
    "#\"How does an interest only mortgage work?\"\n",
    "\n",
    "# \"How do you work out your LTV ratio?\""
   ]
  },
  {
   "cell_type": "code",
   "execution_count": 55,
   "metadata": {},
   "outputs": [],
   "source": [
    "semantic_search_results = retriever.semantic_search(query=query, limit=10)"
   ]
  },
  {
   "cell_type": "code",
   "execution_count": 56,
   "metadata": {},
   "outputs": [
    {
     "name": "stdout",
     "output_type": "stream",
     "text": [
      "Use our mortgage calculator to work out how much you could borrow, and what your repayments might look like with an interest-only mortgage. Use our mortgage calculator\n",
      "----------\n",
      "Check out our interest-only mortgage FAQs for existing customers.\n",
      "----------\n",
      "An interest only mortgage covers the interest charges on your loan, rather than the original sum borrowed. This means you’ll still owe the lender the full amount you borrowed at the end of the term.\n",
      "----------\n",
      "What are mortgage interest rates?                                  expandable section\n",
      "----------\n",
      "Types of mortgages How does a mortgage work? Mortgage eligibility explained How to apply for a mortgage\n",
      "----------\n",
      "Free, impartial advice on interest-only mortgages from MoneyHelper.\n",
      "----------\n",
      "Pay off the mortgage interest, not the amount you borrowed, with an interest only mortgage.\n",
      "----------\n",
      "First Time Buyers Types of mortgage How to apply for a mortgage How does a mortgage work?\n",
      "----------\n",
      "Your monthly payment pays only the interest charges on your loan – you don't pay off any of the loan amount (see Figure 2). This means your monthly payments will be less than if you had a repayment mortgage. However, the total cost of an interest-only mortgage will be higher because you'll be paying interest on the full loan amount throughout the mortgage term. With an interest-only mortgage, you'll need to know from the start how you're going to find a lump sum to repay the loan at the end of the mortgage term. When you apply, we'll ask you to show us solid plans that should provide enough money to repay everything you owe by the end of the mortgage term. From time to time, we'll ask you to show us that your repayment plan(s) remains on track to pay off everything you owe by the end of your mortgage term, and you must show us if we ask you. It’s important that you keep checking that your arrangements are still on track.  If we think your plan may not be enough to repay everything you owe at the end of the term, we may contact you to discuss your plan and what can be done to put it right. For example you could consider transferring part, or all, of your loan onto a repayment mortgage. It’s your responsibility to make sure you have enough money to repay everything you owe at the end of your mortgage term. If your plan does not give you enough money to repay everything you owe at the end of the term, you may have to sell your property. s are only available when the loan amount is less than 75% of our latest valuation of the property.\n",
      "----------\n",
      "When you have an interest only mortgage, your monthly payments only pay the interest charged on the amount you borrowed. This means the interest only balance doesn’t reduce and you’ll need to have separate plans to pay this amount by the time your mortgage ends. For example, if you borrowed £125,000 with an interest rate of 3% over 25 years, we'll set your monthly mortgage payments at £313. By the end of your mortgage, you’ll still need to repay the £125,000 you originally borrowed. Back to the top\n",
      "----------\n"
     ]
    }
   ],
   "source": [
    "for item in semantic_search_results:\n",
    "    print(item.content)\n",
    "    print(10 * \"-\")"
   ]
  },
  {
   "cell_type": "code",
   "execution_count": 57,
   "metadata": {},
   "outputs": [],
   "source": [
    "keywords = retriever.perform_keyword_extraction(query)"
   ]
  },
  {
   "cell_type": "code",
   "execution_count": 58,
   "metadata": {},
   "outputs": [
    {
     "data": {
      "text/plain": [
       "'\"mortgage work\" or \"interest\"'"
      ]
     },
     "execution_count": 58,
     "metadata": {},
     "output_type": "execute_result"
    }
   ],
   "source": [
    "keywords"
   ]
  },
  {
   "cell_type": "code",
   "execution_count": 59,
   "metadata": {},
   "outputs": [],
   "source": [
    "keywords_search_results = retriever.keyword_search(keywords=keywords, limit=10)"
   ]
  },
  {
   "cell_type": "markdown",
   "metadata": {},
   "source": [
    "We can add a reranker but we decided to keep it simple for now."
   ]
  },
  {
   "cell_type": "code",
   "execution_count": null,
   "metadata": {},
   "outputs": [],
   "source": []
  },
  {
   "cell_type": "markdown",
   "metadata": {},
   "source": [
    "For some reason the encoder is taking long to return."
   ]
  },
  {
   "cell_type": "code",
   "execution_count": 60,
   "metadata": {},
   "outputs": [
    {
     "name": "stdout",
     "output_type": "stream",
     "text": [
      "Interest only Enter the amount you want on interest only. You can find your current balance through Online Banking or on your mortgage statement. Repayment Enter the amount you want on repayment. Term Interest only Enter your mortgage term to the nearest year. You can find this through Online Banking or on your mortgage statement. Repayment Enter your preferred mortgage term to the nearest year. You may be able to extend your term when you switch to a repayment mortgage to make it more affordable for you. This means you’ll pay less each month but pay more interest overall. You’ll need to meet our criteria to extend your term, and we can talk you through this when you get in touch.   Interest only Interest only Enter your interest rate e.g. 3.59%. You can find this through Online Banking or on your mortgage statement. Repayment Enter your interest rate e.g. 3.59%. We’ll tell you what rates you qualify for and are available when you apply. Monthly payment Interest only This is an estimate and may differ from your actual payment. Repayment This is an estimate and may differ from your actual payment. Balance at end of term Interest only With an interest only mortgage because your payments only cover the interest, at the end of your mortgage term, you'll have to repay the mortgage balance. Repayment Repayment - With a repayment mortgage, if you make all your monthly payments there is nothing left to repay at the end of your mortgage term. Part and Part – This is a combination of interest only and repayment, meaning at the end of your mortgage term, you'll have to repay the interest only element. Total amount payable Interest only Total you’ll repay over the term of the mortgage. Repayment Total you’ll repay over the term of the repayment mortgage.\n",
      "----------\n",
      "As long as one person applying has never owned a property before, you can apply for a First Time Buyer Mortgage with the Halifax. You’ll need a deposit of at least 5% of the property’s value, but if you can afford more than 5%, you can often get a lower initial interest rate. We’re supporting the Government’s mortgage guarantee scheme, if you only have a deposit of at least 5% but less than 10%. The scheme is expected to accept applications until 30 June 2025, however, it may be withdrawn earlier. You can apply for a mortgage under the scheme by following our usual application process. If you’re planning to put down a deposit between 5% and 10%, to qualify for the Mortgage Guarantee Scheme you’ll need to be:  A first-time buyer Thinking about borrowing less than £570,000 Buying a property that isn’t a new build flat Buying a property that isn’t Shared Ownership, Shared Equity, Right to Buy or buy to let Thinking about getting a repayment mortgage and not interest only Lending is subject to an affordability assessment, credit score and a full mortgage application. Learn more about how 95% mortgages work. Use our mortgage calculator to see how much you could borrow and what your monthly payments might be. Or, to get a better indication apply for an Agreement in Principle. You must be at least 18 years old to apply for a mortgage, and your mortgage must usually end before you reach 80 years of age. If your mortgage term extends past your 70th birthday or when you plan to retire - whichever happens sooner - we'll look at your retirement or employment income to make sure that you can afford the monthly payments. If you’re taking out a joint mortgage, we take the age of the oldest person into account. Things to know when buying your first home. There’s a lot to think about when buying your first home. Our First Time Buyer Guide explains the entire mortgage process in an easy-to-understand way. We’ve put together a list of questions we’re asked most often by first time buyers. You can also find these in our First Time Buyer Guide. What is Stamp Duty? Stamp Duty is a tax you might have to pay when you buy a new home. It’s called the Land and Buildings Transactions Tax in Scotland, and Land Transaction Tax in Wales. Not everyone will have to pay this tax. To find out more, visit our Stamp Duty page. How much do I need to save for my deposit? We'll only lend you a percentage of what the property is worth, so you’ll need to put down some of your own money towards the cost of the property. We call this a deposit. Your deposit should be at least 5% of the property’s value (unless you’re applying for our Family Boost mortgage). If you can put down more than 5%, you can often get a lower initial interest rate. As well as your deposit, there are other costs to think about when buying a property and taking out a mortgage. Costs that apply to most buyers include conveyancing fees, Stamp Duty Land Tax/Land and Buildings Transaction Tax (properties in Scotland), valuation fees and Land Registry fees. There are often unexpected costs too in buying a property, so it's a good idea to have a reserve fund to cover them. Halifax supports a range of government backed initiatives to help customers to buy their home. Use our mortgage calculator to see how much you could borrow and what your monthly payments might be. Or, to get a better indication apply for an Agreement in Principle. Family Boost mortgage With our Family Boost mortgage, your mortgage payments stay the same for three years, and you don’t need to save for your own deposit. Instead, a family member can put down 10% of the cost of your home, up to £500,000, which they’ll get back plus interest after 3 years (subject to conditions). Learn about the full Family Boost mortgage details and conditions. Need help with saving for your deposit? Our savings tips page and savings range will help you to start building enough of a deposit to put down on your first home. How much could I borrow? You can use our online mortgage calculator to get an idea of how much you could borrow. Or, to get a better indication you can apply for an Agreement in Principle, also known as a 'Mortgage Promise'. We'll start by asking about your income, for example your basic salary and any regular overtime or bonuses.  We'll also ask about your regular outgoings, for example credit card or personal loan repayments, and we'll take these off your income. After that, we make a further allowance for average day-to-day living expenses. This allows us to see how much we think you can afford for your mortgage payment each month. We accept US dollars, euros, Australian dollars, Indian rupees and Swiss francs when calculating your mortgage affordability. As part of our process of assessing whether we think you can afford the loan, we'll ask your permission to contact a credit reference agency. They can give us information about: how you've conducted your finances in the past how many credit commitments you've got and how long they’ll last whether you've kept the payments up to date. We'll use credit scoring to help us decide whether to lend you money. Credit scoring works by awarding you points based on the information that: you give us about yourself we already have about you, if you've an existing relationship with us is on your credit file at the credit reference agency. We use this information to give an indication of whether we'll lend you money and if so, how much we'll be willing to provide to you as a mortgage. How does an Agreement in Principle differ from a mortgage offer? An Agreement in Principle, also known as a 'Decision in Principle' or 'Mortgage Promise', is useful if you haven’t found a property you want to buy but would like to know how much you could borrow. All we need is a few personal details about you and anyone else who will be named on the mortgage. Then we’ll contact a credit reference agency for a credit search and give you a credit score. If you reach our pass mark, we’ll give you a certificate, so that you can show the seller you can get a loan.  An Agreement in Principle is subject to us performing various additional checks and so is not a guarantee we'll be able to lend you the money, for this you need a mortgage offer. A mortgage offer is issued by a lender once your mortgage application has been received and the necessary checks, such as the property valuation and confirmation of your details, have been carried out. It sets out the terms under which the lender is prepared to offer you a loan. What type of properties will you lend on? The property you buy must be located within the UK and loans can only be used to buy your main residential home or for purposes relating to this home. We'll consider lending you money to buy different types of property. We may ask you to provide a bigger deposit on some types of property than others. Any loan we make will be subject to a satisfactory property valuation by a surveyor of our choice. Is there a minimum purchase price? While we'll consider many types of property, we've a responsibility to make sure that a property is suitable security for a mortgage. As a result, we'll not lend against properties where the lower of the valuation or purchase price is below £40,000. What are the risks I should be aware of? A mortgage has one key difference to other loans - it's secured against your home. If you can't keep up with your monthly repayments, or you get into financial difficulties you should contact us straight away so we can give you the help you need. Remember, house prices can go down and up. If you owe more than the current value of your home, you’ll be in negative equity. If you need to move home and sell your property, and if its value has dropped below what you paid for it, there may be a shortfall between the amount you owe on your mortgage and the amount you get for the sale, which you’ll need to repay. What should I consider when applying for a mortgage? Mortgages can last for a long time, so it's important you get the one that's right for you. You'll need to think about such things as the type of loan, how long you want it for and what type of product you'd like. Methods of repayment - there are three different ways of repaying your mortgage. These are repayment, interest-only, and a combination of repayment and interest-only. Mortgage terms - mortgage terms of up to 40 years are available. How long the mortgage lasts will affect your monthly payments and the total cost of the mortgage. With a repayment mortgage, the longer the term, the lower the monthly payment. However, it will take you longer to pay off the loan so you'll pay more interest. This means it will cost you more over the life of your mortgage.  With an interest-only mortgage, the length of the term makes no difference to the monthly payments because these are only paying off the interest charges and not the loan itself. With an interest-only mortgage, your mortgage term needs to match the time when you'll have enough money in your repayment plan(s) to repay the loan. Mortgage products - we may have different types of mortgage products with different types of interest rates. These change from time to time and we'll give you details of the current range when you apply. Product incentives - from time to time we may offer mortgage products that include an incentive. The interest rate for products with incentives may sometimes be slightly higher than for products without incentives. You'll need to consider whether the incentive available at the start of the mortgage is more important to you than the slightly lower interest rate you may get during the product rate period without the incentive. Your Mortgage and Protection Adviser will ask you about your preferences and discuss your needs and circumstances before deciding which mortgage to recommend to you. How can I speed up the mortgage completion process? Return any requested documentation for your mortgage as soon as possible. Work closely with your conveyancer to understand timings and next steps in the process – such as local authority search turnaround times. Make sure all parties are working towards the same completion date and be aware of any chains you may be in which may impact this. Consider any other Third Parties you’ll need to contact and get quotes from (such as removal firms), and make sure they are aware of the completion date you are aiming for. What insurance will I need? It's a requirement of your mortgage to have buildings insurance. This covers the bricks and mortar, fixtures and fittings. It's also a good idea to take out contents insurance as well - this protects all your possessions in your home, from furniture to jewellery. It’s also important to think about what would happen to your mortgage in the event of your death, or if you are too ill to work. Our expert Mortgage and Protection Advisers can help you to find the right level of cover to protect your mortgage, should the worst happen.  Will I be charged any fees? This will depend on the mortgage product, there may be a product fee to pay and early repayment charges if you repay early. Any product fees can be added on to your mortgage on completion. There could be other charges and standard costs that you may have to pay during the course of setting up your mortgage. You'll be charged interest on any fees, charges and standard costs added to your loan. There are other costs associated with buying a property and taking out a mortgage. What happens at the end of my mortgage deal? When you take out your mortgage, you arrange to have a fixed or variable rate product for a period of time. At the end of this time, the product will end and your loan will usually be transferred to one of our Lender Variable Rates. At this point, you may decide to move it to a new product for a further period of time. What happens if I want to move home in the middle of my mortgage deal? It's sometimes possible to take a product with you to a new mortgage - we call this 'porting‘. Your Illustration and offer letter will say if any of your products are portable.\n",
      "----------\n",
      "The interest on your mortgage is calculated either on a daily or an annual basis. Check your annual statement to find out which method applies to your mortgage. All product rates listed on our website today are on daily interest. If you're currently on annual interest and wish to change to daily interest please call us. Daily interest Daily interest is calculated by charging interest on the amount of your outstanding mortgage, until you've paid it off, on a daily basis. We start charging interest: on any money we lend you from the day we lend it to you; on interest from the day after we add it to your mortgage; on any charge and cost we add to your mortgage loan from the day we do so. Any payment that you make will reduce the balance and therefore the amount of interest you are charged from the day that we receive it. We'll add the interest for each month to what you owe at the end of the last day of that month. We start charging interest on that interest from the first day of the next month.\n",
      "----------\n",
      "You’ll make interest only payments towards your mortgage for six months, with no impact on your credit score. You can cancel at any point, but you can only apply once. Your monthly payments will increase at the end of the reduced payment period to collect the amount you haven’t paid. You’ll pay back more on your mortgage overall if you make interest only payments for six months. If you miss an interest only payment and don’t catch up, we might cancel the arrangement.   Your reduced monthly payment amount will be fixed Your interest only payment amount will be fixed for six months - even if the Bank of England (BoE) base rate changes, or you apply to switch to a new mortgage deal during that time. Usually, your interest only payments will be worked out using your current interest rate. However, if your rate’s due to change next month, we’ll use that rate instead. Any other changes in interest rate will apply to your mortgage, but not your payments. Once your reduced payment period comes to an end, we’ll write to confirm your new increased monthly payment amount and total mortgage cost, including any interest added because of interest rate changes.\n",
      "----------\n",
      "All years are 365 days. Your interest is worked out monthly. Your mortgage is repayment – where you pay the balance and interest in your monthly payments. Your mortgage is interest only – where you pay the interest monthly and then the balance at the end of the term. Your current interest rate used is based on what you have told us. And there are no upcoming changes to this interest rate. There are no other changes that would mean we’d be working out a new monthly payment for you. For example, if you are on an interest rate that tracks the Bank of England Bank Rate and the rate changes, or your current interest rate is coming to an end. We round our estimates to the nearest pound (£).\n",
      "----------\n",
      " £162,000.0000 / 365 = £443.8356 Total interest charge for June = £443.848,000.0000k at anything we need to add to what you owe, such as a charge, or anything you pay off, say through a monthly payment, during that month. We'll calculate your interest for the month as follows: (what you owe at start of month) x (yearly interest rate) x (days in the month) PLUS (any added amount) x (yearly interest rate) x (remaining days in month, including the day of addition) MINUS (any payment) x (yearly interest rate) x (remaining days in month, including the day of your payment) We divide the total figure by 365 (366 in a leap year). We do our calculation to four decimal places at each step. We round up the result to the nearest penny to give you your interest charge for the month. For example: Someone owes £100,000 on 1st June, and on 16th June they make a payment of £20,000. Their yearly interest rate is 6%. On that basis, we work out their interest for June as follows.\n",
      "----------\n",
      " £162,000.0000 / 365 = £443.8356 Total interest charge for June = £443.848,000.0000k at anything we need to add to what you owe, such as a charge, or anything you pay off, say through a monthly payment, during that month. We'll calculate your interest for the month as follows: (what you owe at start of month) x (yearly interest rate) x (days in the month) PLUS (any added amount) x (yearly interest rate) x (remaining days in month, including the day of addition) MINUS (any payment) x (yearly interest rate) x (remaining days in month, including the day of your payment) We divide the total figure by 365 (366 in a leap year). We do our calculation to four decimal places at each step. We round up the result to the nearest penny to give you your interest charge for the month.  Someone owes £100,000 on 1st June, and on 16th June they make a payment of £20,000. Their yearly interest rate is 6%. On that basis, we work out their interest for June as follows.\n",
      "----------\n",
      "Every month, your payments go towards reducing the amount you owe and paying off the interest. This means that each month you are paying off a small part of your loan. Your annual statement will show your loan is getting smaller. However, in the early years your monthly payments will mainly go towards paying off the interest, so the amount you owe won’t go down much at the start.   Interest-only mortgage For interest-only mortgages, you only pay the monthly interest on your loan and you don't pay off any of the loan amounts. This means your monthly payments will be less than if you had a repayment mortgage. However, the total cost of an interest-only mortgage will be higher because you’ll be paying interest on the full loan amount throughout the mortgage term.   With an interest-only mortgage, you’ll need to know from the start how you are going to find a lump sum to repay the loan at the end of the mortgage term. When you apply, we'll ask you to show us that you have a repayment plan(s) in place, to pay off everything that you owe at the end of the mortgage term.\n",
      "----------\n",
      "has a part repayment and part interest only mortgage of £65,000. She intends to use the money from an endowment policy to repay the interest only balance of £30,000. Although the projected value of the policy is enough to repay the balance, the policy doesn’t mature until eight months after the interest only part of her mortgage ends.  called us to understand if she could extend the interest only part of the mortgage until she has access to the money from her endowment policy. She was happy to continue with the repayment part of her mortgage. After discussing her situation, we agreed to extend the interest only term by eight months once we had received a copy of her latest policy statement. This will allow  to pay the interest only balance in full once the money from her endowment becomes available.\n",
      "----------\n",
      "If you’re over 55 and have paid or are paying the mortgage on your own home, you might be eligible to apply for a lifetime mortgage. The home will still belong to you, and you won’t have to move. In return for unlocking a percentage of the value of your home, you can choose whether to take one large lump sum or several smaller lump sums at a time of your choosing. You’re free to spend the money how you wish, whether it be gifting money to family members, funding your retirement plans, or something else. Interest is charged on a lifetime mortgage and you can decide whether to make payments towards the interest or alternatively make no payments and the interest will be added to the loan to be repaid, usually when your home is sold. This is usually when the last named borrower dies or moves into long-term care. It’s important to note that ‘rolling up’ the interest onto the loan means the loan amount grows, so more interest will be added on each time. We offer a limited range of lifetime mortgages from Scottish Widows Bank, a division of Lloyds Bank plc, and only offer first charge mortgages. We do not offer home reversion. You have a number of levels of protection which include; Professional equity release advice, with our expert equity release team, who will discuss your personal situation, your needs and circumstances, to understand which may be the right plan for you. You continuing to own your home and the right to keep living in your home for as long as you wish A no negative equity guarantee, which ensures you won't owe more than the value of your home when it is sold to repay the mortgage. Interest rates on lifetime mortgages vary depending on a number of factors, including your age and the value of the property you’re borrowing against. Maximum borrowing is based on age and property value so each customer will be different. If you already have a mortgage on your home, or any other lending secured against it, this must be paid off using the proceeds of a new lifetime mortgage.\n",
      "----------\n"
     ]
    }
   ],
   "source": [
    "for item in keywords_search_results:\n",
    "    print(item.content)\n",
    "    print(10 * \"-\")"
   ]
  },
  {
   "cell_type": "code",
   "execution_count": 36,
   "metadata": {},
   "outputs": [],
   "source": [
    "# scores = retriever.cross_encoder.predict(\n",
    "#    [(query, item.content) for item in keywords_search_results + semantic_search_results])"
   ]
  },
  {
   "cell_type": "markdown",
   "metadata": {},
   "source": [
    "### Generator"
   ]
  },
  {
   "cell_type": "code",
   "execution_count": 37,
   "metadata": {},
   "outputs": [],
   "source": [
    "from src.rag.components.generator import  LLamaCppGeneratorComponent"
   ]
  },
  {
   "cell_type": "code",
   "execution_count": 61,
   "metadata": {},
   "outputs": [],
   "source": [
    "prompt = \"you are a helpful mortgage advisor\""
   ]
  },
  {
   "cell_type": "code",
   "execution_count": 62,
   "metadata": {},
   "outputs": [],
   "source": [
    "model_name = \"Qwen/Qwen2.5-1.5B-Instruct\""
   ]
  },
  {
   "cell_type": "code",
   "execution_count": 63,
   "metadata": {},
   "outputs": [],
   "source": [
    "llama_cpp_generator = LLamaCppGeneratorComponent(\n",
    "    api_url=\"http://127.0.0.1:8001\",\n",
    "    model_name=model_name,\n",
    "    prompt=prompt\n",
    ")"
   ]
  },
  {
   "cell_type": "code",
   "execution_count": 64,
   "metadata": {},
   "outputs": [
    {
     "data": {
      "text/plain": [
       "True"
      ]
     },
     "execution_count": 64,
     "metadata": {},
     "output_type": "execute_result"
    }
   ],
   "source": [
    "llama_cpp_generator._ping_api()"
   ]
  },
  {
   "cell_type": "code",
   "execution_count": 65,
   "metadata": {},
   "outputs": [],
   "source": [
    "documents = [doc.content for doc in semantic_search_results +\n",
    "             keywords_search_results]"
   ]
  },
  {
   "cell_type": "code",
   "execution_count": 66,
   "metadata": {},
   "outputs": [
    {
     "data": {
      "text/plain": [
       "['Use our mortgage calculator to work out how much you could borrow, and what your repayments might look like with an interest-only mortgage. Use our mortgage calculator',\n",
       " 'Check out our interest-only mortgage FAQs for existing customers.',\n",
       " 'An interest only mortgage covers the interest charges on your loan, rather than the original sum borrowed. This means you’ll still owe the lender the full amount you borrowed at the end of the term.',\n",
       " 'What are mortgage interest rates?                                  expandable section',\n",
       " 'Types of mortgages How does a mortgage work? Mortgage eligibility explained How to apply for a mortgage',\n",
       " 'Free, impartial advice on interest-only mortgages from MoneyHelper.',\n",
       " 'Pay off the mortgage interest, not the amount you borrowed, with an interest only mortgage.',\n",
       " 'First Time Buyers Types of mortgage How to apply for a mortgage How does a mortgage work?',\n",
       " \"Your monthly payment pays only the interest charges on your loan – you don't pay off any of the loan amount (see Figure 2). This means your monthly payments will be less than if you had a repayment mortgage. However, the total cost of an interest-only mortgage will be higher because you'll be paying interest on the full loan amount throughout the mortgage term. With an interest-only mortgage, you'll need to know from the start how you're going to find a lump sum to repay the loan at the end of the mortgage term. When you apply, we'll ask you to show us solid plans that should provide enough money to repay everything you owe by the end of the mortgage term. From time to time, we'll ask you to show us that your repayment plan(s) remains on track to pay off everything you owe by the end of your mortgage term, and you must show us if we ask you. It’s important that you keep checking that your arrangements are still on track.\\xa0 If we think your plan may not be enough to repay everything you owe at the end of the term, we may contact you to discuss your plan and what can be done to put it right. For example you could consider transferring part, or all, of your loan onto a repayment mortgage. It’s your responsibility to make sure you have enough money to repay everything you owe at the end of your mortgage term. If your plan does not give you enough money to repay everything you owe at the end of the term, you may have to sell your property. s are only available when the loan amount is less than 75% of our latest valuation of the property.\",\n",
       " \"When you have an interest only mortgage, your monthly payments only pay the interest charged on the amount you borrowed. This means the interest only balance doesn’t reduce and you’ll need to have separate plans to pay this amount by the time your mortgage ends. For example, if you borrowed £125,000 with an interest rate of 3% over 25 years, we'll set your monthly mortgage payments at £313. By the end of your mortgage, you’ll still need to repay the £125,000 you originally borrowed. Back to the top\",\n",
       " \"Interest only Enter the amount you want on interest only. You can find your current balance through Online Banking or on your mortgage statement. Repayment Enter the amount you want on repayment. Term Interest only Enter your mortgage term to the nearest year. You can find this through Online Banking or on your mortgage statement. Repayment Enter your preferred mortgage term to the nearest year. You may be able to extend your term when you switch to a repayment mortgage to make it more affordable for you. This means you’ll pay less each month but pay more interest overall. You’ll need to meet our criteria to extend your term, and we can talk you through this when you get in touch. \\xa0 Interest only Interest only Enter your interest rate e.g. 3.59%. You can find this through Online Banking or on your mortgage statement. Repayment Enter your interest rate e.g. 3.59%. We’ll tell you what rates you qualify for and are available when you apply. Monthly payment Interest only This is an estimate and may differ from your actual payment. Repayment This is an estimate and may differ from your actual payment. Balance at end of term Interest only With an interest only mortgage because your payments only cover the interest, at the end of your mortgage term, you'll have to repay the mortgage balance. Repayment Repayment - With a repayment mortgage, if you make all your monthly payments there is nothing left to repay at the end of your mortgage term. Part and Part – This is a combination of interest only and repayment, meaning at the end of your mortgage term, you'll have to repay the interest only element. Total amount payable Interest only Total you’ll repay over the term of the mortgage. Repayment Total you’ll repay over the term of the repayment mortgage.\",\n",
       " \"As long as one person applying has never owned a property before, you can apply for a First Time Buyer Mortgage with the Halifax. You’ll need a deposit of at least 5% of the property’s value, but if you can afford more than 5%, you can often get a lower initial interest rate. We’re supporting the Government’s\\xa0mortgage guarantee scheme, if you only have a deposit of at least 5% but less than 10%. The scheme is expected to accept applications until 30 June 2025, however, it may be withdrawn earlier. You can apply for a mortgage under the scheme by following our usual application process. If you’re planning to put down a deposit between 5% and 10%,\\xa0to qualify for the Mortgage Guarantee Scheme you’ll need to be:\\xa0 A first-time buyer Thinking about borrowing less than £570,000 Buying a property that isn’t a new build flat Buying a property that isn’t Shared Ownership, Shared Equity, Right to Buy or buy to let Thinking about getting a repayment mortgage and not interest only Lending is subject to an affordability assessment, credit score and a full mortgage application. Learn more about how 95% mortgages work. Use our mortgage calculator\\xa0to see how much you could borrow and what your monthly payments might be. Or, to get a better indication apply for an Agreement in Principle. You must be at least 18 years old to apply for a mortgage, and your mortgage must usually end before you reach 80 years of age. If your mortgage term extends past your 70th birthday or when you plan to retire - whichever happens sooner - we'll look at your retirement or employment income to make sure that you can afford the monthly payments. If you’re taking out a joint mortgage, we take the age of the oldest person into account. Things to know when buying your first home. There’s a lot to think about when buying your first home. Our\\xa0First Time Buyer Guide explains the entire mortgage process in an easy-to-understand way. We’ve put together a list of questions we’re asked most often by first time buyers. You can also find these in our\\xa0First Time Buyer Guide. What is Stamp Duty? Stamp Duty is a tax you might have to pay when you buy a new home. It’s called the Land and Buildings Transactions Tax in Scotland, and Land Transaction Tax in Wales. Not everyone will have to pay this tax. To find out more, visit our Stamp Duty page. How much do I need to save for my deposit? We'll only lend you a percentage of what the property is worth, so you’ll need to put down some of your own money towards the cost of the property. We call this a deposit. Your deposit should be at least 5% of the property’s value (unless you’re applying for our Family Boost mortgage). If you can put down more than 5%, you can often get a lower initial interest rate. As well as your deposit, there are other costs to think about when buying a property and taking out a mortgage. Costs that apply to most buyers include conveyancing fees, Stamp Duty Land Tax/Land and Buildings Transaction Tax (properties in Scotland), valuation fees and Land Registry fees. There are often unexpected costs too in buying a property, so it's a good idea to have a reserve fund to cover them. Halifax supports a range of\\xa0government backed initiatives\\xa0to help customers to buy their home. Use our\\xa0mortgage calculator\\xa0to see how much you could borrow and what your monthly payments might be. Or, to get a better indication apply for an\\xa0Agreement in Principle. Family Boost mortgage With our Family Boost mortgage, your mortgage payments stay the same for three years, and you don’t need to save for your own deposit. Instead, a family member can put down 10% of the cost of your home, up to £500,000, which they’ll get back plus interest after 3 years (subject to conditions). Learn about the full Family Boost mortgage details and conditions. Need help with saving for your deposit? Our\\xa0savings tips page and savings range\\xa0will help you to start building enough of a deposit to put down on your first home. How much could I borrow? You can use our online mortgage calculator to get an idea of\\xa0how much you could borrow. Or, to get a better indication you can apply for an\\xa0Agreement in Principle, also known as a 'Mortgage Promise'. We'll start by asking about your income, for example your basic salary and any regular overtime or bonuses.\\xa0 We'll also ask about your regular outgoings, for example credit card or personal loan repayments, and we'll take these off your income. After that, we make a further allowance for average day-to-day living expenses. This allows us to see how much we think you can afford for your mortgage payment each month.\\xa0We accept US dollars, euros, Australian dollars, Indian rupees and Swiss francs when calculating your mortgage affordability. As part of our process of assessing whether we think you can afford the loan, we'll ask your permission to contact a credit reference agency. They can give us information about: how you've conducted your finances in the past how many credit commitments you've got and how long\\xa0they’ll last whether you've kept the payments up to date. We'll use credit scoring to help us decide whether to lend you money. Credit scoring works by awarding you points based on the information that: you give us about yourself we already have about you, if you've an existing relationship with us is on your credit file at the credit reference agency. We use this information to give an indication of whether we'll lend you money and if so, how much we'll be willing to provide to you as a mortgage. How does an Agreement in Principle differ from a mortgage offer? An Agreement in Principle, also known as a 'Decision in Principle' or 'Mortgage Promise', is useful if you haven’t found a property you want to buy but would like to know how much you could borrow. All we need is a few personal details about you and anyone else who will be named on the mortgage. Then we’ll contact a credit reference agency for a credit search and give you a credit score. If you reach our pass mark, we’ll give you a certificate, so that you can show the seller you can get a loan.\\xa0 An Agreement in Principle is subject to us performing various additional checks and so is not a guarantee we'll be able to lend you the money, for this you need a mortgage offer. A mortgage offer is issued by a lender once your mortgage application has been received and the necessary checks, such as the property valuation and confirmation of your details, have been carried out. It sets out the terms under which the lender is prepared to offer you a loan. What type of properties will you lend on? The property you buy must be located within the UK and loans can only be used to buy your main residential home or for purposes relating to this home. We'll consider lending you money to buy\\xa0different types of property. We may ask you to provide a bigger deposit on some types of property than others. Any loan we make will be subject to a satisfactory\\xa0property valuation\\xa0by a surveyor of our choice. Is there a minimum purchase price? While we'll consider many types of property, we've a responsibility to make sure that a property is suitable security for a mortgage. As a result, we'll not lend against properties where the lower of the valuation or purchase price is below £40,000. What are the risks I should be aware of? A mortgage has one key difference to other loans - it's secured against your home. If you can't keep up with your monthly repayments, or you get into\\xa0financial difficulties\\xa0you should contact us straight away so we can give you the help you need. Remember, house prices can go down and up. If you owe more than the current value of your home,\\xa0you’ll be in negative equity. If you need to move home and sell your property, and if its value has dropped below what you paid for it, there may be a shortfall between the amount you owe on your mortgage and the amount you get for the sale, which\\xa0you’ll need to repay. What should I consider when applying for a mortgage? Mortgages can last for a long time, so it's important you get the one that's right for you. You'll need to think about such things as the type of loan, how long you want it for and what type of product you'd like. Methods of repayment\\xa0- there are three different ways of\\xa0repaying your mortgage.\\xa0These are repayment, interest-only, and a combination of repayment and interest-only. Mortgage terms\\xa0- mortgage terms of up to 40 years are available. How long the mortgage lasts will affect your monthly payments and the total cost of the mortgage. With a repayment mortgage, the longer the term, the lower the monthly payment. However, it will take you longer to pay off the loan so you'll pay more interest. This means it will cost you more over the life of your mortgage.\\xa0 With an interest-only mortgage, the length of the term makes no difference to the monthly payments because these are only paying off the interest charges and not the loan itself. With an interest-only mortgage, your mortgage term needs to match the time when you'll have enough money in your repayment plan(s) to repay the loan. Mortgage products\\xa0- we may have different\\xa0types of mortgage products\\xa0with different types of interest rates. These change from time to time and we'll give you details of the current range when you apply. Product incentives\\xa0- from time to time we may offer mortgage\\xa0products that include an incentive. The interest rate for products with incentives may sometimes be slightly higher than for products without incentives. You'll need to consider whether the incentive available at the start of the mortgage is more important to you than the slightly lower interest rate you may get during the product rate period without the incentive. Your Mortgage and Protection Adviser will ask you about your preferences and discuss your needs and circumstances before deciding which mortgage to recommend to you. How can I speed up the mortgage completion process? Return any requested documentation for your mortgage as soon as possible. Work closely with your conveyancer to understand timings and next steps in the process – such as local authority search turnaround times. Make sure all parties are working towards the same completion date and be aware of any chains you may be in which may impact this. Consider any other Third Parties you’ll need to contact and get quotes from (such as removal firms), and make sure they are aware of the completion date you are aiming for. What insurance will I need? It's a requirement of your mortgage to have buildings insurance. This covers the bricks and mortar, fixtures and fittings. It's also a good idea to take out contents insurance as well - this protects all your possessions in your home, from furniture to jewellery. It’s also important to think about what would happen to your mortgage in the event of your death, or if you are too ill to work. Our expert Mortgage and Protection Advisers can help you to find the right level of cover to protect your mortgage, should the worst happen.\\xa0 Will I be charged any fees? This will depend on the mortgage product, there may be a product fee to pay and early repayment charges if you repay early. Any product fees can be added on to your mortgage on completion. There could be other\\xa0charges and standard costs\\xa0that you may have to pay during the course of setting up your mortgage. You'll be charged interest on any fees, charges and standard costs added to your loan. There are\\xa0other costs\\xa0associated with buying a property and taking out a mortgage. What happens at the end of my mortgage deal? When you take out your mortgage, you arrange to have a fixed or variable rate product for a period of time. At the end of this time, the product will end and your loan will usually be transferred to one of our Lender Variable Rates. At this point, you may decide to move it to a new product for a further period of time. What happens if I want to move home in the middle of my mortgage deal? It's sometimes possible to take a product with you to a new mortgage - we call this 'porting‘. Your Illustration and offer letter will say if any of your products are portable.\",\n",
       " \"The interest on your mortgage is calculated either on a daily or an annual basis. Check your annual statement to find out which method applies to your mortgage. All product rates listed on our website today are on daily interest. If you're currently on annual interest and wish to change to daily interest please call us. Daily interest Daily interest is calculated by charging interest on the amount of your outstanding mortgage, until you've paid it off, on a daily basis. We start charging interest: on any money we lend you from the day we lend it to you; on interest from the day after we add it to your mortgage; on any charge and cost we add to your mortgage loan from the day we do so. Any payment that you make will reduce the balance and therefore the amount of interest you are charged from the day that we receive it. We'll add the interest for each month to what you owe at the end of the last day of that month. We start charging interest on that interest from the first day of the next month.\",\n",
       " 'You’ll make interest only payments towards your mortgage for six months, with no impact on your credit score. You can cancel at any point, but you can only apply once. Your monthly payments will increase at the end of the reduced payment period to collect the amount you haven’t paid. You’ll pay back more on your mortgage overall if you make interest only payments for six months. If you miss an interest only payment and don’t catch up, we might cancel the arrangement. \\xa0 Your reduced monthly payment amount will be fixed Your interest only payment amount will be fixed for six months - even if the Bank of England (BoE) base rate changes, or you apply to switch to a new mortgage deal during that time. Usually, your interest only payments will be worked out using your current interest rate. However, if your rate’s due to change next month, we’ll use that rate instead. Any other changes in interest rate will apply to your mortgage, but not your payments. Once your reduced payment period comes to an end, we’ll write to confirm your new increased monthly payment amount and total mortgage cost, including any interest added because of interest rate changes.',\n",
       " 'All years are 365 days. Your interest is worked out monthly. Your mortgage is repayment – where you pay the balance and interest in your monthly payments. Your mortgage is interest only – where you pay the interest monthly and then the balance at the end of the term. Your current interest rate used is based on what you have told us. And there are no upcoming changes to this interest rate. There are no other changes that would mean we’d be working out a new monthly payment for you. For example, if you are on an interest rate that tracks the Bank of England Bank Rate and the rate changes, or your current interest rate is coming to an end. We round our estimates to the nearest pound (£).',\n",
       " \"For each month, we look at what you owe at the very start of the month. Then we look at anything we need to add to what you owe, such as a charge, or anything you pay off, say through a monthly payment, during that month. We'll calculate your interest for the month as follows: (what you owe at start of month) x (yearly interest rate) x (days in the month) PLUS (any added amount) x (yearly interest rate) x (remaining days in month, including the day of addition) MINUS (any payment) x (yearly interest rate) x (remaining days in month, including the day of your payment) We divide the total figure by 365 (366 in a leap year). We do our calculation to four decimal places at each step. We round up the result to the nearest penny to give you your interest charge for the month. For example: Someone owes £100,000 on 1st June, and on 16th June they make a payment of £20,000. Their yearly interest rate is 6%. On that basis, we work out their interest for June as follows.\\r £100,000 x 6% x 30 (being the number of days in June) = £180,000.0000\\r £20,000 x 6% x 15 (being the number of days from 16th to 30th June) = £18,000.0000\\r £180,000.0000 - £18,000.0000 = £162,000.0000\\r £162,000.0000 / 365 = £443.8356 Total interest charge for June = £443.84\",\n",
       " \"For each month, we look at what you owe at the very start of the month. Then we look at anything we need to add to what you owe, such as a charge, or anything you pay off, say through a monthly payment, during that month. We'll calculate your interest for the month as follows: (what you owe at start of month) x (yearly interest rate) x (days in the month) PLUS (any added amount) x (yearly interest rate) x (remaining days in month, including the day of addition) MINUS (any payment) x (yearly interest rate) x (remaining days in month, including the day of your payment) We divide the total figure by 365 (366 in a leap year). We do our calculation to four decimal places at each step. We round up the result to the nearest penny to give you your interest charge for the month.  Someone owes £100,000 on 1st June, and on 16th June they make a payment of £20,000. Their yearly interest rate is 6%. On that basis, we work out their interest for June as follows.\\r £100,000 x 6% x 30 (being the number of days in June) = £180,000.0000\\r £20,000 x 6% x 15 (being the number of days from 16th to 30th June) = £18,000.0000\\r £180,000.0000 - £18,000.0000 = £162,000.0000\\r £162,000.0000 / 365 = £443.8356 Total interest charge for June = £443.84\",\n",
       " \"Every month, your payments go towards reducing the amount you owe and paying off the interest. This means that each month you are paying off a small part of your loan. Your annual statement will show your loan is getting smaller. However, in the early years your monthly payments will mainly go towards paying off the interest, so the amount you owe won’t go down much at the start. \\xa0 Interest-only mortgage For\\xa0interest-only mortgages, you only pay the monthly interest on your loan and you don't pay off any of the loan amounts. This means your monthly payments will be less than if you had a repayment mortgage. However, the total cost of an interest-only mortgage will be higher because you’ll be paying interest on the full loan amount throughout the mortgage term.\\xa0\\xa0 With an interest-only mortgage, you’ll need to know from the start how you are going to find a lump sum to repay the loan at the end of the mortgage term. When you apply, we'll ask you to show us that you have a repayment plan(s) in place, to pay off everything that you owe at the end of the mortgage term.\",\n",
       " 'has a part repayment and part interest only mortgage of £65,000. She intends to use the money from an endowment policy to repay the interest only balance of £30,000. Although the projected value of the policy is enough to repay the balance, the policy doesn’t mature until eight months after the interest only part of her mortgage ends.  called us to understand if she could extend the interest only part of the mortgage until she has access to the money from her endowment policy. She was happy to continue with the repayment part of her mortgage. After discussing her situation, we agreed to extend the interest only term by eight months once we had received a copy of her latest policy statement. This will allow  to pay the interest only balance in full once the money from her endowment becomes available.',\n",
       " \"If you’re over 55 and have paid or are paying the mortgage on your own home, you might be eligible to apply for a lifetime mortgage. The home will still belong to you, and you won’t have to move. In return for unlocking a percentage of the value of your home, you can choose whether to take one large lump sum or several smaller lump sums at a time of your choosing. You’re free to spend the money how you wish, whether it be gifting money to family members, funding your retirement plans, or something else. Interest is charged on a lifetime mortgage and you can decide whether to make payments towards the interest or alternatively make no payments and the interest will be added to the loan to be repaid, usually when your home is sold. This is usually when the last named borrower dies or moves into long-term care. It’s important to note that ‘rolling up’ the interest onto the loan means the loan amount grows, so more interest will be added on each time. We offer a limited range of lifetime mortgages from Scottish Widows Bank, a division of Lloyds Bank plc, and only offer first charge mortgages. We do not offer home reversion. You have a number of levels of protection which include; Professional equity release advice, with our expert equity release team, who will discuss your personal situation, your needs and circumstances, to understand which may be the right plan for you. You continuing to own your home and the right to keep living in your home for as long as you wish A no negative equity guarantee, which ensures you won't owe more than the value of your home when it is sold to repay the mortgage. Interest rates on lifetime mortgages vary depending on a number of factors, including your age and the value of the property you’re borrowing against. Maximum borrowing is based on age and property value so each customer will be different. If you already have a mortgage on your home, or any other lending secured against it, this must be paid off using the proceeds of a new lifetime mortgage.\"]"
      ]
     },
     "execution_count": 66,
     "metadata": {},
     "output_type": "execute_result"
    }
   ],
   "source": [
    "documents"
   ]
  },
  {
   "cell_type": "code",
   "execution_count": 67,
   "metadata": {},
   "outputs": [],
   "source": [
    "template_input = {\n",
    "    \"documents\": documents,\n",
    "    \"question\": query\n",
    "}"
   ]
  },
  {
   "cell_type": "code",
   "execution_count": 68,
   "metadata": {},
   "outputs": [
    {
     "data": {
      "text/plain": [
       "[{'role': 'system', 'content': 'you are a helpful mortgage advisor'},\n",
       " {'role': 'user',\n",
       "  'content': \"\\n            DOCUMENTS:\\n            \\n             - Use our mortgage calculator to work out how much you could borrow, and what your repayments might look like with an interest-only mortgage. Use our mortgage calculator \\n\\n            \\n             - Check out our interest-only mortgage FAQs for existing customers. \\n\\n            \\n             - An interest only mortgage covers the interest charges on your loan, rather than the original sum borrowed. This means you’ll still owe the lender the full amount you borrowed at the end of the term. \\n\\n            \\n             - What are mortgage interest rates?                                  expandable section \\n\\n            \\n             - Types of mortgages How does a mortgage work? Mortgage eligibility explained How to apply for a mortgage \\n\\n            \\n             - Free, impartial advice on interest-only mortgages from MoneyHelper. \\n\\n            \\n             - Pay off the mortgage interest, not the amount you borrowed, with an interest only mortgage. \\n\\n            \\n             - First Time Buyers Types of mortgage How to apply for a mortgage How does a mortgage work? \\n\\n            \\n             - Your monthly payment pays only the interest charges on your loan – you don't pay off any of the loan amount (see Figure 2). This means your monthly payments will be less than if you had a repayment mortgage. However, the total cost of an interest-only mortgage will be higher because you'll be paying interest on the full loan amount throughout the mortgage term. With an interest-only mortgage, you'll need to know from the start how you're going to find a lump sum to repay the loan at the end of the mortgage term. When you apply, we'll ask you to show us solid plans that should provide enough money to repay everything you owe by the end of the mortgage term. From time to time, we'll ask you to show us that your repayment plan(s) remains on track to pay off everything you owe by the end of your mortgage term, and you must show us if we ask you. It’s important that you keep checking that your arrangements are still on track.\\xa0 If we think your plan may not be enough to repay everything you owe at the end of the term, we may contact you to discuss your plan and what can be done to put it right. For example you could consider transferring part, or all, of your loan onto a repayment mortgage. It’s your responsibility to make sure you have enough money to repay everything you owe at the end of your mortgage term. If your plan does not give you enough money to repay everything you owe at the end of the term, you may have to sell your property. s are only available when the loan amount is less than 75% of our latest valuation of the property. \\n\\n            \\n             - When you have an interest only mortgage, your monthly payments only pay the interest charged on the amount you borrowed. This means the interest only balance doesn’t reduce and you’ll need to have separate plans to pay this amount by the time your mortgage ends. For example, if you borrowed £125,000 with an interest rate of 3% over 25 years, we'll set your monthly mortgage payments at £313. By the end of your mortgage, you’ll still need to repay the £125,000 you originally borrowed. Back to the top \\n\\n            \\n             - Interest only Enter the amount you want on interest only. You can find your current balance through Online Banking or on your mortgage statement. Repayment Enter the amount you want on repayment. Term Interest only Enter your mortgage term to the nearest year. You can find this through Online Banking or on your mortgage statement. Repayment Enter your preferred mortgage term to the nearest year. You may be able to extend your term when you switch to a repayment mortgage to make it more affordable for you. This means you’ll pay less each month but pay more interest overall. You’ll need to meet our criteria to extend your term, and we can talk you through this when you get in touch. \\xa0 Interest only Interest only Enter your interest rate e.g. 3.59%. You can find this through Online Banking or on your mortgage statement. Repayment Enter your interest rate e.g. 3.59%. We’ll tell you what rates you qualify for and are available when you apply. Monthly payment Interest only This is an estimate and may differ from your actual payment. Repayment This is an estimate and may differ from your actual payment. Balance at end of term Interest only With an interest only mortgage because your payments only cover the interest, at the end of your mortgage term, you'll have to repay the mortgage balance. Repayment Repayment - With a repayment mortgage, if you make all your monthly payments there is nothing left to repay at the end of your mortgage term. Part and Part – This is a combination of interest only and repayment, meaning at the end of your mortgage term, you'll have to repay the interest only element. Total amount payable Interest only Total you’ll repay over the term of the mortgage. Repayment Total you’ll repay over the term of the repayment mortgage. \\n\\n            \\n             - As long as one person applying has never owned a property before, you can apply for a First Time Buyer Mortgage with the Halifax. You’ll need a deposit of at least 5% of the property’s value, but if you can afford more than 5%, you can often get a lower initial interest rate. We’re supporting the Government’s\\xa0mortgage guarantee scheme, if you only have a deposit of at least 5% but less than 10%. The scheme is expected to accept applications until 30 June 2025, however, it may be withdrawn earlier. You can apply for a mortgage under the scheme by following our usual application process. If you’re planning to put down a deposit between 5% and 10%,\\xa0to qualify for the Mortgage Guarantee Scheme you’ll need to be:\\xa0 A first-time buyer Thinking about borrowing less than £570,000 Buying a property that isn’t a new build flat Buying a property that isn’t Shared Ownership, Shared Equity, Right to Buy or buy to let Thinking about getting a repayment mortgage and not interest only Lending is subject to an affordability assessment, credit score and a full mortgage application. Learn more about how 95% mortgages work. Use our mortgage calculator\\xa0to see how much you could borrow and what your monthly payments might be. Or, to get a better indication apply for an Agreement in Principle. You must be at least 18 years old to apply for a mortgage, and your mortgage must usually end before you reach 80 years of age. If your mortgage term extends past your 70th birthday or when you plan to retire - whichever happens sooner - we'll look at your retirement or employment income to make sure that you can afford the monthly payments. If you’re taking out a joint mortgage, we take the age of the oldest person into account. Things to know when buying your first home. There’s a lot to think about when buying your first home. Our\\xa0First Time Buyer Guide explains the entire mortgage process in an easy-to-understand way. We’ve put together a list of questions we’re asked most often by first time buyers. You can also find these in our\\xa0First Time Buyer Guide. What is Stamp Duty? Stamp Duty is a tax you might have to pay when you buy a new home. It’s called the Land and Buildings Transactions Tax in Scotland, and Land Transaction Tax in Wales. Not everyone will have to pay this tax. To find out more, visit our Stamp Duty page. How much do I need to save for my deposit? We'll only lend you a percentage of what the property is worth, so you’ll need to put down some of your own money towards the cost of the property. We call this a deposit. Your deposit should be at least 5% of the property’s value (unless you’re applying for our Family Boost mortgage). If you can put down more than 5%, you can often get a lower initial interest rate. As well as your deposit, there are other costs to think about when buying a property and taking out a mortgage. Costs that apply to most buyers include conveyancing fees, Stamp Duty Land Tax/Land and Buildings Transaction Tax (properties in Scotland), valuation fees and Land Registry fees. There are often unexpected costs too in buying a property, so it's a good idea to have a reserve fund to cover them. Halifax supports a range of\\xa0government backed initiatives\\xa0to help customers to buy their home. Use our\\xa0mortgage calculator\\xa0to see how much you could borrow and what your monthly payments might be. Or, to get a better indication apply for an\\xa0Agreement in Principle. Family Boost mortgage With our Family Boost mortgage, your mortgage payments stay the same for three years, and you don’t need to save for your own deposit. Instead, a family member can put down 10% of the cost of your home, up to £500,000, which they’ll get back plus interest after 3 years (subject to conditions). Learn about the full Family Boost mortgage details and conditions. Need help with saving for your deposit? Our\\xa0savings tips page and savings range\\xa0will help you to start building enough of a deposit to put down on your first home. How much could I borrow? You can use our online mortgage calculator to get an idea of\\xa0how much you could borrow. Or, to get a better indication you can apply for an\\xa0Agreement in Principle, also known as a 'Mortgage Promise'. We'll start by asking about your income, for example your basic salary and any regular overtime or bonuses.\\xa0 We'll also ask about your regular outgoings, for example credit card or personal loan repayments, and we'll take these off your income. After that, we make a further allowance for average day-to-day living expenses. This allows us to see how much we think you can afford for your mortgage payment each month.\\xa0We accept US dollars, euros, Australian dollars, Indian rupees and Swiss francs when calculating your mortgage affordability. As part of our process of assessing whether we think you can afford the loan, we'll ask your permission to contact a credit reference agency. They can give us information about: how you've conducted your finances in the past how many credit commitments you've got and how long\\xa0they’ll last whether you've kept the payments up to date. We'll use credit scoring to help us decide whether to lend you money. Credit scoring works by awarding you points based on the information that: you give us about yourself we already have about you, if you've an existing relationship with us is on your credit file at the credit reference agency. We use this information to give an indication of whether we'll lend you money and if so, how much we'll be willing to provide to you as a mortgage. How does an Agreement in Principle differ from a mortgage offer? An Agreement in Principle, also known as a 'Decision in Principle' or 'Mortgage Promise', is useful if you haven’t found a property you want to buy but would like to know how much you could borrow. All we need is a few personal details about you and anyone else who will be named on the mortgage. Then we’ll contact a credit reference agency for a credit search and give you a credit score. If you reach our pass mark, we’ll give you a certificate, so that you can show the seller you can get a loan.\\xa0 An Agreement in Principle is subject to us performing various additional checks and so is not a guarantee we'll be able to lend you the money, for this you need a mortgage offer. A mortgage offer is issued by a lender once your mortgage application has been received and the necessary checks, such as the property valuation and confirmation of your details, have been carried out. It sets out the terms under which the lender is prepared to offer you a loan. What type of properties will you lend on? The property you buy must be located within the UK and loans can only be used to buy your main residential home or for purposes relating to this home. We'll consider lending you money to buy\\xa0different types of property. We may ask you to provide a bigger deposit on some types of property than others. Any loan we make will be subject to a satisfactory\\xa0property valuation\\xa0by a surveyor of our choice. Is there a minimum purchase price? While we'll consider many types of property, we've a responsibility to make sure that a property is suitable security for a mortgage. As a result, we'll not lend against properties where the lower of the valuation or purchase price is below £40,000. What are the risks I should be aware of? A mortgage has one key difference to other loans - it's secured against your home. If you can't keep up with your monthly repayments, or you get into\\xa0financial difficulties\\xa0you should contact us straight away so we can give you the help you need. Remember, house prices can go down and up. If you owe more than the current value of your home,\\xa0you’ll be in negative equity. If you need to move home and sell your property, and if its value has dropped below what you paid for it, there may be a shortfall between the amount you owe on your mortgage and the amount you get for the sale, which\\xa0you’ll need to repay. What should I consider when applying for a mortgage? Mortgages can last for a long time, so it's important you get the one that's right for you. You'll need to think about such things as the type of loan, how long you want it for and what type of product you'd like. Methods of repayment\\xa0- there are three different ways of\\xa0repaying your mortgage.\\xa0These are repayment, interest-only, and a combination of repayment and interest-only. Mortgage terms\\xa0- mortgage terms of up to 40 years are available. How long the mortgage lasts will affect your monthly payments and the total cost of the mortgage. With a repayment mortgage, the longer the term, the lower the monthly payment. However, it will take you longer to pay off the loan so you'll pay more interest. This means it will cost you more over the life of your mortgage.\\xa0 With an interest-only mortgage, the length of the term makes no difference to the monthly payments because these are only paying off the interest charges and not the loan itself. With an interest-only mortgage, your mortgage term needs to match the time when you'll have enough money in your repayment plan(s) to repay the loan. Mortgage products\\xa0- we may have different\\xa0types of mortgage products\\xa0with different types of interest rates. These change from time to time and we'll give you details of the current range when you apply. Product incentives\\xa0- from time to time we may offer mortgage\\xa0products that include an incentive. The interest rate for products with incentives may sometimes be slightly higher than for products without incentives. You'll need to consider whether the incentive available at the start of the mortgage is more important to you than the slightly lower interest rate you may get during the product rate period without the incentive. Your Mortgage and Protection Adviser will ask you about your preferences and discuss your needs and circumstances before deciding which mortgage to recommend to you. How can I speed up the mortgage completion process? Return any requested documentation for your mortgage as soon as possible. Work closely with your conveyancer to understand timings and next steps in the process – such as local authority search turnaround times. Make sure all parties are working towards the same completion date and be aware of any chains you may be in which may impact this. Consider any other Third Parties you’ll need to contact and get quotes from (such as removal firms), and make sure they are aware of the completion date you are aiming for. What insurance will I need? It's a requirement of your mortgage to have buildings insurance. This covers the bricks and mortar, fixtures and fittings. It's also a good idea to take out contents insurance as well - this protects all your possessions in your home, from furniture to jewellery. It’s also important to think about what would happen to your mortgage in the event of your death, or if you are too ill to work. Our expert Mortgage and Protection Advisers can help you to find the right level of cover to protect your mortgage, should the worst happen.\\xa0 Will I be charged any fees? This will depend on the mortgage product, there may be a product fee to pay and early repayment charges if you repay early. Any product fees can be added on to your mortgage on completion. There could be other\\xa0charges and standard costs\\xa0that you may have to pay during the course of setting up your mortgage. You'll be charged interest on any fees, charges and standard costs added to your loan. There are\\xa0other costs\\xa0associated with buying a property and taking out a mortgage. What happens at the end of my mortgage deal? When you take out your mortgage, you arrange to have a fixed or variable rate product for a period of time. At the end of this time, the product will end and your loan will usually be transferred to one of our Lender Variable Rates. At this point, you may decide to move it to a new product for a further period of time. What happens if I want to move home in the middle of my mortgage deal? It's sometimes possible to take a product with you to a new mortgage - we call this 'porting‘. Your Illustration and offer letter will say if any of your products are portable. \\n\\n            \\n             - The interest on your mortgage is calculated either on a daily or an annual basis. Check your annual statement to find out which method applies to your mortgage. All product rates listed on our website today are on daily interest. If you're currently on annual interest and wish to change to daily interest please call us. Daily interest Daily interest is calculated by charging interest on the amount of your outstanding mortgage, until you've paid it off, on a daily basis. We start charging interest: on any money we lend you from the day we lend it to you; on interest from the day after we add it to your mortgage; on any charge and cost we add to your mortgage loan from the day we do so. Any payment that you make will reduce the balance and therefore the amount of interest you are charged from the day that we receive it. We'll add the interest for each month to what you owe at the end of the last day of that month. We start charging interest on that interest from the first day of the next month. \\n\\n            \\n             - You’ll make interest only payments towards your mortgage for six months, with no impact on your credit score. You can cancel at any point, but you can only apply once. Your monthly payments will increase at the end of the reduced payment period to collect the amount you haven’t paid. You’ll pay back more on your mortgage overall if you make interest only payments for six months. If you miss an interest only payment and don’t catch up, we might cancel the arrangement. \\xa0 Your reduced monthly payment amount will be fixed Your interest only payment amount will be fixed for six months - even if the Bank of England (BoE) base rate changes, or you apply to switch to a new mortgage deal during that time. Usually, your interest only payments will be worked out using your current interest rate. However, if your rate’s due to change next month, we’ll use that rate instead. Any other changes in interest rate will apply to your mortgage, but not your payments. Once your reduced payment period comes to an end, we’ll write to confirm your new increased monthly payment amount and total mortgage cost, including any interest added because of interest rate changes. \\n\\n            \\n             - All years are 365 days. Your interest is worked out monthly. Your mortgage is repayment – where you pay the balance and interest in your monthly payments. Your mortgage is interest only – where you pay the interest monthly and then the balance at the end of the term. Your current interest rate used is based on what you have told us. And there are no upcoming changes to this interest rate. There are no other changes that would mean we’d be working out a new monthly payment for you. For example, if you are on an interest rate that tracks the Bank of England Bank Rate and the rate changes, or your current interest rate is coming to an end. We round our estimates to the nearest pound (£). \\n\\n            \\n             - For each month, we look at what you owe at the very start of the month. Then we look at anything we need to add to what you owe, such as a charge, or anything you pay off, say through a monthly payment, during that month. We'll calculate your interest for the month as follows: (what you owe at start of month) x (yearly interest rate) x (days in the month) PLUS (any added amount) x (yearly interest rate) x (remaining days in month, including the day of addition) MINUS (any payment) x (yearly interest rate) x (remaining days in month, including the day of your payment) We divide the total figure by 365 (366 in a leap year). We do our calculation to four decimal places at each step. We round up the result to the nearest penny to give you your interest charge for the month. For example: Someone owes £100,000 on 1st June, and on 16th June they make a payment of £20,000. Their yearly interest rate is 6%. On that basis, we work out their interest for June as follows.\\r £100,000 x 6% x 30 (being the number of days in June) = £180,000.0000\\r £20,000 x 6% x 15 (being the number of days from 16th to 30th June) = £18,000.0000\\r £180,000.0000 - £18,000.0000 = £162,000.0000\\r £162,000.0000 / 365 = £443.8356 Total interest charge for June = £443.84 \\n\\n            \\n             - For each month, we look at what you owe at the very start of the month. Then we look at anything we need to add to what you owe, such as a charge, or anything you pay off, say through a monthly payment, during that month. We'll calculate your interest for the month as follows: (what you owe at start of month) x (yearly interest rate) x (days in the month) PLUS (any added amount) x (yearly interest rate) x (remaining days in month, including the day of addition) MINUS (any payment) x (yearly interest rate) x (remaining days in month, including the day of your payment) We divide the total figure by 365 (366 in a leap year). We do our calculation to four decimal places at each step. We round up the result to the nearest penny to give you your interest charge for the month.  Someone owes £100,000 on 1st June, and on 16th June they make a payment of £20,000. Their yearly interest rate is 6%. On that basis, we work out their interest for June as follows.\\r £100,000 x 6% x 30 (being the number of days in June) = £180,000.0000\\r £20,000 x 6% x 15 (being the number of days from 16th to 30th June) = £18,000.0000\\r £180,000.0000 - £18,000.0000 = £162,000.0000\\r £162,000.0000 / 365 = £443.8356 Total interest charge for June = £443.84 \\n\\n            \\n             - Every month, your payments go towards reducing the amount you owe and paying off the interest. This means that each month you are paying off a small part of your loan. Your annual statement will show your loan is getting smaller. However, in the early years your monthly payments will mainly go towards paying off the interest, so the amount you owe won’t go down much at the start. \\xa0 Interest-only mortgage For\\xa0interest-only mortgages, you only pay the monthly interest on your loan and you don't pay off any of the loan amounts. This means your monthly payments will be less than if you had a repayment mortgage. However, the total cost of an interest-only mortgage will be higher because you’ll be paying interest on the full loan amount throughout the mortgage term.\\xa0\\xa0 With an interest-only mortgage, you’ll need to know from the start how you are going to find a lump sum to repay the loan at the end of the mortgage term. When you apply, we'll ask you to show us that you have a repayment plan(s) in place, to pay off everything that you owe at the end of the mortgage term. \\n\\n            \\n             - has a part repayment and part interest only mortgage of £65,000. She intends to use the money from an endowment policy to repay the interest only balance of £30,000. Although the projected value of the policy is enough to repay the balance, the policy doesn’t mature until eight months after the interest only part of her mortgage ends.  called us to understand if she could extend the interest only part of the mortgage until she has access to the money from her endowment policy. She was happy to continue with the repayment part of her mortgage. After discussing her situation, we agreed to extend the interest only term by eight months once we had received a copy of her latest policy statement. This will allow  to pay the interest only balance in full once the money from her endowment becomes available. \\n\\n            \\n             - If you’re over 55 and have paid or are paying the mortgage on your own home, you might be eligible to apply for a lifetime mortgage. The home will still belong to you, and you won’t have to move. In return for unlocking a percentage of the value of your home, you can choose whether to take one large lump sum or several smaller lump sums at a time of your choosing. You’re free to spend the money how you wish, whether it be gifting money to family members, funding your retirement plans, or something else. Interest is charged on a lifetime mortgage and you can decide whether to make payments towards the interest or alternatively make no payments and the interest will be added to the loan to be repaid, usually when your home is sold. This is usually when the last named borrower dies or moves into long-term care. It’s important to note that ‘rolling up’ the interest onto the loan means the loan amount grows, so more interest will be added on each time. We offer a limited range of lifetime mortgages from Scottish Widows Bank, a division of Lloyds Bank plc, and only offer first charge mortgages. We do not offer home reversion. You have a number of levels of protection which include; Professional equity release advice, with our expert equity release team, who will discuss your personal situation, your needs and circumstances, to understand which may be the right plan for you. You continuing to own your home and the right to keep living in your home for as long as you wish A no negative equity guarantee, which ensures you won't owe more than the value of your home when it is sold to repay the mortgage. Interest rates on lifetime mortgages vary depending on a number of factors, including your age and the value of the property you’re borrowing against. Maximum borrowing is based on age and property value so each customer will be different. If you already have a mortgage on your home, or any other lending secured against it, this must be paid off using the proceeds of a new lifetime mortgage. \\n\\n            \\n\\n            QUESTION:\\n           How does an interest only mortgage work?\\n            INSTRUCTIONS:\\n            Answer the users QUESTION using the DOCUMENTS text above.\\n            Keep your answer ground in the facts of the DOCUMENTS.\\n            If the DOCUMENTS doesn’t contain the facts to answer the QUESTION return None\\n        \"}]"
      ]
     },
     "execution_count": 68,
     "metadata": {},
     "output_type": "execute_result"
    }
   ],
   "source": [
    "llama_cpp_generator.generate_chat_input(template_values=template_input)"
   ]
  },
  {
   "cell_type": "code",
   "execution_count": 69,
   "metadata": {},
   "outputs": [],
   "source": [
    "response = llama_cpp_generator.run(template_values=template_input)"
   ]
  },
  {
   "cell_type": "code",
   "execution_count": null,
   "metadata": {},
   "outputs": [],
   "source": []
  },
  {
   "cell_type": "code",
   "execution_count": 70,
   "metadata": {},
   "outputs": [
    {
     "name": "stdout",
     "output_type": "stream",
     "text": [
      "An interest only mortgage covers the interest charges on your loan, rather than the original sum borrowed. This means you'll still owe the lender the full amount you borrowed at the end of the term.\n",
      "\n",
      "With an interest-only mortgage, you'll need to know from the start how you're going to find a lump sum to repay the loan at the end of the mortgage term. When you apply, we'll ask you to show us that you have a repayment plan(s) in place, to pay off everything that you owe at the end of the mortgage term.\n",
      "\n",
      "Interest-only mortgages are only available when the loan amount is less than 75% of our latest valuation of the property.\n"
     ]
    }
   ],
   "source": [
    "print(response)"
   ]
  },
  {
   "cell_type": "code",
   "execution_count": null,
   "metadata": {},
   "outputs": [],
   "source": []
  }
 ],
 "metadata": {
  "kernelspec": {
   "display_name": ".venv",
   "language": "python",
   "name": "python3"
  },
  "language_info": {
   "codemirror_mode": {
    "name": "ipython",
    "version": 3
   },
   "file_extension": ".py",
   "mimetype": "text/x-python",
   "name": "python",
   "nbconvert_exporter": "python",
   "pygments_lexer": "ipython3",
   "version": "3.10.4"
  }
 },
 "nbformat": 4,
 "nbformat_minor": 2
}
