{
 "cells": [
  {
   "cell_type": "code",
   "execution_count": 1,
   "metadata": {},
   "outputs": [
    {
     "name": "stderr",
     "output_type": "stream",
     "text": [
      "/Users/esp.py/Projects/Personal/end-to-end-rag/.venv/lib/python3.10/site-packages/sentence_transformers/cross_encoder/CrossEncoder.py:13: TqdmWarning: IProgress not found. Please update jupyter and ipywidgets. See https://ipywidgets.readthedocs.io/en/stable/user_install.html\n",
      "  from tqdm.autonotebook import tqdm, trange\n"
     ]
    }
   ],
   "source": [
    "from src.rag.components.retriever import HybridRetriever"
   ]
  },
  {
   "cell_type": "code",
   "execution_count": 2,
   "metadata": {},
   "outputs": [],
   "source": [
    "embedding_model_id = \"dunzhang/stella_en_400M_v5\""
   ]
  },
  {
   "cell_type": "code",
   "execution_count": 3,
   "metadata": {},
   "outputs": [],
   "source": [
    "from pathlib import Path"
   ]
  },
  {
   "cell_type": "code",
   "execution_count": 4,
   "metadata": {},
   "outputs": [],
   "source": [
    "model_path = Path.cwd().joinpath(\"models\")"
   ]
  },
  {
   "cell_type": "code",
   "execution_count": 5,
   "metadata": {},
   "outputs": [],
   "source": []
  },
  {
   "cell_type": "code",
   "execution_count": 5,
   "metadata": {},
   "outputs": [],
   "source": [
    "embedding_model_path = model_path.joinpath(embedding_model_id ).__str__()"
   ]
  },
  {
   "cell_type": "code",
   "execution_count": 6,
   "metadata": {},
   "outputs": [],
   "source": [
    "cross_encoder_kwargs = {\n",
    "    \"model_name\": embedding_model_path,\n",
    "    \"trust_remote_code\": True,\n",
    "    \"local_files_only\": True,\n",
    "    \"config_kwargs\": {\"use_memory_efficient_attention\": False, \"unpad_inputs\": False},\n",
    "    \"device\": \"cpu\"\n",
    "}"
   ]
  },
  {
   "cell_type": "code",
   "execution_count": 7,
   "metadata": {},
   "outputs": [],
   "source": [
    "\n",
    "transformer_kwargs  = { \"model_name_or_path\": embedding_model_path,\n",
    "    \"trust_remote_code\": True,\n",
    "    \"device\": \"cpu\",\n",
    "    \"config_kwargs\": {\"use_memory_efficient_attention\": False,\n",
    "                   \"unpad_inputs\": False},\n",
    "    \"cache_folder\": model_path}"
   ]
  },
  {
   "cell_type": "code",
   "execution_count": 8,
   "metadata": {},
   "outputs": [],
   "source": [
    "spacy_model_id = \"en_core_web_sm\""
   ]
  },
  {
   "cell_type": "code",
   "execution_count": 9,
   "metadata": {},
   "outputs": [
    {
     "name": "stderr",
     "output_type": "stream",
     "text": [
      "Some weights of the model checkpoint at /Users/esp.py/Projects/Personal/end-to-end-rag/models/dunzhang/stella_en_400M_v5 were not used when initializing NewModel: ['new.pooler.dense.bias', 'new.pooler.dense.weight']\n",
      "- This IS expected if you are initializing NewModel from the checkpoint of a model trained on another task or with another architecture (e.g. initializing a BertForSequenceClassification model from a BertForPreTraining model).\n",
      "- This IS NOT expected if you are initializing NewModel from the checkpoint of a model that you expect to be exactly identical (initializing a BertForSequenceClassification model from a BertForSequenceClassification model).\n",
      "Some weights of NewForSequenceClassification were not initialized from the model checkpoint at /Users/esp.py/Projects/Personal/end-to-end-rag/models/dunzhang/stella_en_400M_v5 and are newly initialized: ['classifier.bias', 'classifier.weight']\n",
      "You should probably TRAIN this model on a down-stream task to be able to use it for predictions and inference.\n"
     ]
    }
   ],
   "source": [
    "retriever = HybridRetriever(\n",
    "    cross_encoder_kwargs=cross_encoder_kwargs,\n",
    "    spacy_model=spacy_model_id,\n",
    "    sentence_transformer_kwargs=transformer_kwargs,\n",
    "    language=\"english\"\n",
    ")"
   ]
  },
  {
   "cell_type": "code",
   "execution_count": 29,
   "metadata": {},
   "outputs": [],
   "source": [
    "query = \"How can I speed up the mortgage completion process?\"\n",
    "\n",
    "\n",
    "## \"How can I speed up the mortgage completion process?\"\n",
    "\n",
    "\n",
    "#\"How does an interest only mortgage work?\"\n",
    "\n",
    "# \"How do you work out your LTV ratio?\""
   ]
  },
  {
   "cell_type": "code",
   "execution_count": 30,
   "metadata": {},
   "outputs": [],
   "source": [
    "semantic_search_results = retriever.semantic_search(query=query, limit=10)"
   ]
  },
  {
   "cell_type": "code",
   "execution_count": 31,
   "metadata": {},
   "outputs": [],
   "source": [
    "keywords = retriever.perform_keyword_extraction(query)"
   ]
  },
  {
   "cell_type": "code",
   "execution_count": 32,
   "metadata": {},
   "outputs": [
    {
     "data": {
      "text/plain": [
       "'\"mortgage completion process\"'"
      ]
     },
     "execution_count": 32,
     "metadata": {},
     "output_type": "execute_result"
    }
   ],
   "source": [
    "keywords"
   ]
  },
  {
   "cell_type": "code",
   "execution_count": 33,
   "metadata": {},
   "outputs": [],
   "source": [
    "keywords_search_results = retriever.keyword_search(keywords=keywords, limit=10)"
   ]
  },
  {
   "cell_type": "markdown",
   "metadata": {},
   "source": [
    "We can add a reranker but we decided to keep it simple for now."
   ]
  },
  {
   "cell_type": "code",
   "execution_count": 34,
   "metadata": {},
   "outputs": [
    {
     "name": "stdout",
     "output_type": "stream",
     "text": [
      "Knowing how to remortgage your home quickly can speed up the process. While there is no guaranteed fast-track, there are a few things you can do.\n",
      "----------\n",
      "How long will my mortgage application take?                                  expandable section\n",
      "----------\n",
      "What could delay my mortgage application?                                   expandable section\n",
      "----------\n",
      "Worried about the paperwork and process behind a mortgage? Find out how to apply for one here.\n",
      "----------\n",
      "Fancy a refresher on the mortgage process? You'll find everything you need to know here.\n",
      "----------\n",
      "How could you increase your chances of being accepted for a mortgage?                                  expandable section\n",
      "----------\n",
      "Being in a strong financial position can affect how quick the process is. If you are trying to borrow more money, and if there’s any issue with your income or credit history, this could cause delays.\n",
      "----------\n",
      "Save yourself time by getting a mortgage Agreement in Principle from your lender before you make an offer. This can speed up the buying process.\n",
      "----------\n",
      "How can I get the best mortgage rate?                                  expandable section\n",
      "----------\n",
      "Learn about how long a remortgage takes, the best time to do it and key information about the process.\n",
      "----------\n"
     ]
    }
   ],
   "source": [
    "for item in semantic_search_results:\n",
    "    print(item.content)\n",
    "    print(10 * \"-\")"
   ]
  },
  {
   "cell_type": "markdown",
   "metadata": {},
   "source": [
    "For some reason the encoder is taking long to return."
   ]
  },
  {
   "cell_type": "code",
   "execution_count": 35,
   "metadata": {},
   "outputs": [
    {
     "name": "stdout",
     "output_type": "stream",
     "text": [
      "As long as one person applying has never owned a property before, you can apply for a First Time Buyer Mortgage with the Halifax. You’ll need a deposit of at least 5% of the property’s value, but if you can afford more than 5%, you can often get a lower initial interest rate. We’re supporting the Government’s mortgage guarantee scheme, if you only have a deposit of at least 5% but less than 10%. The scheme is expected to accept applications until 30 June 2025, however, it may be withdrawn earlier. You can apply for a mortgage under the scheme by following our usual application process. If you’re planning to put down a deposit between 5% and 10%, to qualify for the Mortgage Guarantee Scheme you’ll need to be:  A first-time buyer Thinking about borrowing less than £570,000 Buying a property that isn’t a new build flat Buying a property that isn’t Shared Ownership, Shared Equity, Right to Buy or buy to let Thinking about getting a repayment mortgage and not interest only Lending is subject to an affordability assessment, credit score and a full mortgage application. Learn more about how 95% mortgages work. Use our mortgage calculator to see how much you could borrow and what your monthly payments might be. Or, to get a better indication apply for an Agreement in Principle. You must be at least 18 years old to apply for a mortgage, and your mortgage must usually end before you reach 80 years of age. If your mortgage term extends past your 70th birthday or when you plan to retire - whichever happens sooner - we'll look at your retirement or employment income to make sure that you can afford the monthly payments. If you’re taking out a joint mortgage, we take the age of the oldest person into account. Things to know when buying your first home. There’s a lot to think about when buying your first home. Our First Time Buyer Guide explains the entire mortgage process in an easy-to-understand way. We’ve put together a list of questions we’re asked most often by first time buyers. You can also find these in our First Time Buyer Guide. What is Stamp Duty? Stamp Duty is a tax you might have to pay when you buy a new home. It’s called the Land and Buildings Transactions Tax in Scotland, and Land Transaction Tax in Wales. Not everyone will have to pay this tax. To find out more, visit our Stamp Duty page. How much do I need to save for my deposit? We'll only lend you a percentage of what the property is worth, so you’ll need to put down some of your own money towards the cost of the property. We call this a deposit. Your deposit should be at least 5% of the property’s value (unless you’re applying for our Family Boost mortgage). If you can put down more than 5%, you can often get a lower initial interest rate. As well as your deposit, there are other costs to think about when buying a property and taking out a mortgage. Costs that apply to most buyers include conveyancing fees, Stamp Duty Land Tax/Land and Buildings Transaction Tax (properties in Scotland), valuation fees and Land Registry fees. There are often unexpected costs too in buying a property, so it's a good idea to have a reserve fund to cover them. Halifax supports a range of government backed initiatives to help customers to buy their home. Use our mortgage calculator to see how much you could borrow and what your monthly payments might be. Or, to get a better indication apply for an Agreement in Principle. Family Boost mortgage With our Family Boost mortgage, your mortgage payments stay the same for three years, and you don’t need to save for your own deposit. Instead, a family member can put down 10% of the cost of your home, up to £500,000, which they’ll get back plus interest after 3 years (subject to conditions). Learn about the full Family Boost mortgage details and conditions. Need help with saving for your deposit? Our savings tips page and savings range will help you to start building enough of a deposit to put down on your first home. How much could I borrow? You can use our online mortgage calculator to get an idea of how much you could borrow. Or, to get a better indication you can apply for an Agreement in Principle, also known as a 'Mortgage Promise'. We'll start by asking about your income, for example your basic salary and any regular overtime or bonuses.  We'll also ask about your regular outgoings, for example credit card or personal loan repayments, and we'll take these off your income. After that, we make a further allowance for average day-to-day living expenses. This allows us to see how much we think you can afford for your mortgage payment each month. We accept US dollars, euros, Australian dollars, Indian rupees and Swiss francs when calculating your mortgage affordability. As part of our process of assessing whether we think you can afford the loan, we'll ask your permission to contact a credit reference agency. They can give us information about: how you've conducted your finances in the past how many credit commitments you've got and how long they’ll last whether you've kept the payments up to date. We'll use credit scoring to help us decide whether to lend you money. Credit scoring works by awarding you points based on the information that: you give us about yourself we already have about you, if you've an existing relationship with us is on your credit file at the credit reference agency. We use this information to give an indication of whether we'll lend you money and if so, how much we'll be willing to provide to you as a mortgage. How does an Agreement in Principle differ from a mortgage offer? An Agreement in Principle, also known as a 'Decision in Principle' or 'Mortgage Promise', is useful if you haven’t found a property you want to buy but would like to know how much you could borrow. All we need is a few personal details about you and anyone else who will be named on the mortgage. Then we’ll contact a credit reference agency for a credit search and give you a credit score. If you reach our pass mark, we’ll give you a certificate, so that you can show the seller you can get a loan.  An Agreement in Principle is subject to us performing various additional checks and so is not a guarantee we'll be able to lend you the money, for this you need a mortgage offer. A mortgage offer is issued by a lender once your mortgage application has been received and the necessary checks, such as the property valuation and confirmation of your details, have been carried out. It sets out the terms under which the lender is prepared to offer you a loan. What type of properties will you lend on? The property you buy must be located within the UK and loans can only be used to buy your main residential home or for purposes relating to this home. We'll consider lending you money to buy different types of property. We may ask you to provide a bigger deposit on some types of property than others. Any loan we make will be subject to a satisfactory property valuation by a surveyor of our choice. Is there a minimum purchase price? While we'll consider many types of property, we've a responsibility to make sure that a property is suitable security for a mortgage. As a result, we'll not lend against properties where the lower of the valuation or purchase price is below £40,000. What are the risks I should be aware of? A mortgage has one key difference to other loans - it's secured against your home. If you can't keep up with your monthly repayments, or you get into financial difficulties you should contact us straight away so we can give you the help you need. Remember, house prices can go down and up. If you owe more than the current value of your home, you’ll be in negative equity. If you need to move home and sell your property, and if its value has dropped below what you paid for it, there may be a shortfall between the amount you owe on your mortgage and the amount you get for the sale, which you’ll need to repay. What should I consider when applying for a mortgage? Mortgages can last for a long time, so it's important you get the one that's right for you. You'll need to think about such things as the type of loan, how long you want it for and what type of product you'd like. Methods of repayment - there are three different ways of repaying your mortgage. These are repayment, interest-only, and a combination of repayment and interest-only. Mortgage terms - mortgage terms of up to 40 years are available. How long the mortgage lasts will affect your monthly payments and the total cost of the mortgage. With a repayment mortgage, the longer the term, the lower the monthly payment. However, it will take you longer to pay off the loan so you'll pay more interest. This means it will cost you more over the life of your mortgage.  With an interest-only mortgage, the length of the term makes no difference to the monthly payments because these are only paying off the interest charges and not the loan itself. With an interest-only mortgage, your mortgage term needs to match the time when you'll have enough money in your repayment plan(s) to repay the loan. Mortgage products - we may have different types of mortgage products with different types of interest rates. These change from time to time and we'll give you details of the current range when you apply. Product incentives - from time to time we may offer mortgage products that include an incentive. The interest rate for products with incentives may sometimes be slightly higher than for products without incentives. You'll need to consider whether the incentive available at the start of the mortgage is more important to you than the slightly lower interest rate you may get during the product rate period without the incentive. Your Mortgage and Protection Adviser will ask you about your preferences and discuss your needs and circumstances before deciding which mortgage to recommend to you. How can I speed up the mortgage completion process? Return any requested documentation for your mortgage as soon as possible. Work closely with your conveyancer to understand timings and next steps in the process – such as local authority search turnaround times. Make sure all parties are working towards the same completion date and be aware of any chains you may be in which may impact this. Consider any other Third Parties you’ll need to contact and get quotes from (such as removal firms), and make sure they are aware of the completion date you are aiming for. What insurance will I need? It's a requirement of your mortgage to have buildings insurance. This covers the bricks and mortar, fixtures and fittings. It's also a good idea to take out contents insurance as well - this protects all your possessions in your home, from furniture to jewellery. It’s also important to think about what would happen to your mortgage in the event of your death, or if you are too ill to work. Our expert Mortgage and Protection Advisers can help you to find the right level of cover to protect your mortgage, should the worst happen.  Will I be charged any fees? This will depend on the mortgage product, there may be a product fee to pay and early repayment charges if you repay early. Any product fees can be added on to your mortgage on completion. There could be other charges and standard costs that you may have to pay during the course of setting up your mortgage. You'll be charged interest on any fees, charges and standard costs added to your loan. There are other costs associated with buying a property and taking out a mortgage. What happens at the end of my mortgage deal? When you take out your mortgage, you arrange to have a fixed or variable rate product for a period of time. At the end of this time, the product will end and your loan will usually be transferred to one of our Lender Variable Rates. At this point, you may decide to move it to a new product for a further period of time. What happens if I want to move home in the middle of my mortgage deal? It's sometimes possible to take a product with you to a new mortgage - we call this 'porting‘. Your Illustration and offer letter will say if any of your products are portable.\n",
      "----------\n"
     ]
    }
   ],
   "source": [
    "for item in keywords_search_results:\n",
    "    print(item.content)\n",
    "    print(10 * \"-\")"
   ]
  },
  {
   "cell_type": "code",
   "execution_count": 36,
   "metadata": {},
   "outputs": [],
   "source": [
    "# scores = retriever.cross_encoder.predict(\n",
    "#    [(query, item.content) for item in keywords_search_results + semantic_search_results])"
   ]
  },
  {
   "cell_type": "markdown",
   "metadata": {},
   "source": [
    "### Generator"
   ]
  },
  {
   "cell_type": "code",
   "execution_count": 37,
   "metadata": {},
   "outputs": [],
   "source": [
    "from src.rag.components.generator import  LLamaCppGeneratorComponent"
   ]
  },
  {
   "cell_type": "code",
   "execution_count": 38,
   "metadata": {},
   "outputs": [],
   "source": [
    "prompt = \"you are a helpful mortgage advisor\""
   ]
  },
  {
   "cell_type": "code",
   "execution_count": 39,
   "metadata": {},
   "outputs": [],
   "source": [
    "model_name = \"Qwen/Qwen2.5-1.5B-Instruct\""
   ]
  },
  {
   "cell_type": "code",
   "execution_count": 40,
   "metadata": {},
   "outputs": [],
   "source": [
    "llama_cpp_generator = LLamaCppGeneratorComponent(\n",
    "    api_url=\"http://127.0.0.1:8001\",\n",
    "    model_name=model_name,\n",
    "    prompt=prompt\n",
    ")"
   ]
  },
  {
   "cell_type": "code",
   "execution_count": 41,
   "metadata": {},
   "outputs": [
    {
     "data": {
      "text/plain": [
       "True"
      ]
     },
     "execution_count": 41,
     "metadata": {},
     "output_type": "execute_result"
    }
   ],
   "source": [
    "llama_cpp_generator._ping_api()"
   ]
  },
  {
   "cell_type": "code",
   "execution_count": 42,
   "metadata": {},
   "outputs": [],
   "source": [
    "documents = [doc.content for doc in semantic_search_results +\n",
    "             keywords_search_results]"
   ]
  },
  {
   "cell_type": "code",
   "execution_count": 43,
   "metadata": {},
   "outputs": [
    {
     "data": {
      "text/plain": [
       "['Knowing how to remortgage your home quickly can speed up the process. While there is no guaranteed fast-track, there are a few things you can do.',\n",
       " 'How long will my mortgage application take?                                  expandable section',\n",
       " 'What could delay my mortgage application?                                   expandable section',\n",
       " 'Worried about the paperwork and process behind a mortgage? Find out how to apply for one here.',\n",
       " \"Fancy a refresher on the mortgage process? You'll find everything you need to know here.\",\n",
       " 'How could you increase your chances of being accepted for a mortgage?                                  expandable section',\n",
       " 'Being in a strong financial position can affect how quick the process is. If you are trying to borrow more money, and if there’s any issue with your income or credit history, this could cause delays.',\n",
       " 'Save yourself time by getting a mortgage Agreement in Principle from your lender before you make an offer. This can speed up the buying process.',\n",
       " 'How can I get the best mortgage rate?                                  expandable section',\n",
       " 'Learn about how long a remortgage takes, the best time to do it and key information about the process.',\n",
       " \"As long as one person applying has never owned a property before, you can apply for a First Time Buyer Mortgage with the Halifax. You’ll need a deposit of at least 5% of the property’s value, but if you can afford more than 5%, you can often get a lower initial interest rate. We’re supporting the Government’s\\xa0mortgage guarantee scheme, if you only have a deposit of at least 5% but less than 10%. The scheme is expected to accept applications until 30 June 2025, however, it may be withdrawn earlier. You can apply for a mortgage under the scheme by following our usual application process. If you’re planning to put down a deposit between 5% and 10%,\\xa0to qualify for the Mortgage Guarantee Scheme you’ll need to be:\\xa0 A first-time buyer Thinking about borrowing less than £570,000 Buying a property that isn’t a new build flat Buying a property that isn’t Shared Ownership, Shared Equity, Right to Buy or buy to let Thinking about getting a repayment mortgage and not interest only Lending is subject to an affordability assessment, credit score and a full mortgage application. Learn more about how 95% mortgages work. Use our mortgage calculator\\xa0to see how much you could borrow and what your monthly payments might be. Or, to get a better indication apply for an Agreement in Principle. You must be at least 18 years old to apply for a mortgage, and your mortgage must usually end before you reach 80 years of age. If your mortgage term extends past your 70th birthday or when you plan to retire - whichever happens sooner - we'll look at your retirement or employment income to make sure that you can afford the monthly payments. If you’re taking out a joint mortgage, we take the age of the oldest person into account. Things to know when buying your first home. There’s a lot to think about when buying your first home. Our\\xa0First Time Buyer Guide explains the entire mortgage process in an easy-to-understand way. We’ve put together a list of questions we’re asked most often by first time buyers. You can also find these in our\\xa0First Time Buyer Guide. What is Stamp Duty? Stamp Duty is a tax you might have to pay when you buy a new home. It’s called the Land and Buildings Transactions Tax in Scotland, and Land Transaction Tax in Wales. Not everyone will have to pay this tax. To find out more, visit our Stamp Duty page. How much do I need to save for my deposit? We'll only lend you a percentage of what the property is worth, so you’ll need to put down some of your own money towards the cost of the property. We call this a deposit. Your deposit should be at least 5% of the property’s value (unless you’re applying for our Family Boost mortgage). If you can put down more than 5%, you can often get a lower initial interest rate. As well as your deposit, there are other costs to think about when buying a property and taking out a mortgage. Costs that apply to most buyers include conveyancing fees, Stamp Duty Land Tax/Land and Buildings Transaction Tax (properties in Scotland), valuation fees and Land Registry fees. There are often unexpected costs too in buying a property, so it's a good idea to have a reserve fund to cover them. Halifax supports a range of\\xa0government backed initiatives\\xa0to help customers to buy their home. Use our\\xa0mortgage calculator\\xa0to see how much you could borrow and what your monthly payments might be. Or, to get a better indication apply for an\\xa0Agreement in Principle. Family Boost mortgage With our Family Boost mortgage, your mortgage payments stay the same for three years, and you don’t need to save for your own deposit. Instead, a family member can put down 10% of the cost of your home, up to £500,000, which they’ll get back plus interest after 3 years (subject to conditions). Learn about the full Family Boost mortgage details and conditions. Need help with saving for your deposit? Our\\xa0savings tips page and savings range\\xa0will help you to start building enough of a deposit to put down on your first home. How much could I borrow? You can use our online mortgage calculator to get an idea of\\xa0how much you could borrow. Or, to get a better indication you can apply for an\\xa0Agreement in Principle, also known as a 'Mortgage Promise'. We'll start by asking about your income, for example your basic salary and any regular overtime or bonuses.\\xa0 We'll also ask about your regular outgoings, for example credit card or personal loan repayments, and we'll take these off your income. After that, we make a further allowance for average day-to-day living expenses. This allows us to see how much we think you can afford for your mortgage payment each month.\\xa0We accept US dollars, euros, Australian dollars, Indian rupees and Swiss francs when calculating your mortgage affordability. As part of our process of assessing whether we think you can afford the loan, we'll ask your permission to contact a credit reference agency. They can give us information about: how you've conducted your finances in the past how many credit commitments you've got and how long\\xa0they’ll last whether you've kept the payments up to date. We'll use credit scoring to help us decide whether to lend you money. Credit scoring works by awarding you points based on the information that: you give us about yourself we already have about you, if you've an existing relationship with us is on your credit file at the credit reference agency. We use this information to give an indication of whether we'll lend you money and if so, how much we'll be willing to provide to you as a mortgage. How does an Agreement in Principle differ from a mortgage offer? An Agreement in Principle, also known as a 'Decision in Principle' or 'Mortgage Promise', is useful if you haven’t found a property you want to buy but would like to know how much you could borrow. All we need is a few personal details about you and anyone else who will be named on the mortgage. Then we’ll contact a credit reference agency for a credit search and give you a credit score. If you reach our pass mark, we’ll give you a certificate, so that you can show the seller you can get a loan.\\xa0 An Agreement in Principle is subject to us performing various additional checks and so is not a guarantee we'll be able to lend you the money, for this you need a mortgage offer. A mortgage offer is issued by a lender once your mortgage application has been received and the necessary checks, such as the property valuation and confirmation of your details, have been carried out. It sets out the terms under which the lender is prepared to offer you a loan. What type of properties will you lend on? The property you buy must be located within the UK and loans can only be used to buy your main residential home or for purposes relating to this home. We'll consider lending you money to buy\\xa0different types of property. We may ask you to provide a bigger deposit on some types of property than others. Any loan we make will be subject to a satisfactory\\xa0property valuation\\xa0by a surveyor of our choice. Is there a minimum purchase price? While we'll consider many types of property, we've a responsibility to make sure that a property is suitable security for a mortgage. As a result, we'll not lend against properties where the lower of the valuation or purchase price is below £40,000. What are the risks I should be aware of? A mortgage has one key difference to other loans - it's secured against your home. If you can't keep up with your monthly repayments, or you get into\\xa0financial difficulties\\xa0you should contact us straight away so we can give you the help you need. Remember, house prices can go down and up. If you owe more than the current value of your home,\\xa0you’ll be in negative equity. If you need to move home and sell your property, and if its value has dropped below what you paid for it, there may be a shortfall between the amount you owe on your mortgage and the amount you get for the sale, which\\xa0you’ll need to repay. What should I consider when applying for a mortgage? Mortgages can last for a long time, so it's important you get the one that's right for you. You'll need to think about such things as the type of loan, how long you want it for and what type of product you'd like. Methods of repayment\\xa0- there are three different ways of\\xa0repaying your mortgage.\\xa0These are repayment, interest-only, and a combination of repayment and interest-only. Mortgage terms\\xa0- mortgage terms of up to 40 years are available. How long the mortgage lasts will affect your monthly payments and the total cost of the mortgage. With a repayment mortgage, the longer the term, the lower the monthly payment. However, it will take you longer to pay off the loan so you'll pay more interest. This means it will cost you more over the life of your mortgage.\\xa0 With an interest-only mortgage, the length of the term makes no difference to the monthly payments because these are only paying off the interest charges and not the loan itself. With an interest-only mortgage, your mortgage term needs to match the time when you'll have enough money in your repayment plan(s) to repay the loan. Mortgage products\\xa0- we may have different\\xa0types of mortgage products\\xa0with different types of interest rates. These change from time to time and we'll give you details of the current range when you apply. Product incentives\\xa0- from time to time we may offer mortgage\\xa0products that include an incentive. The interest rate for products with incentives may sometimes be slightly higher than for products without incentives. You'll need to consider whether the incentive available at the start of the mortgage is more important to you than the slightly lower interest rate you may get during the product rate period without the incentive. Your Mortgage and Protection Adviser will ask you about your preferences and discuss your needs and circumstances before deciding which mortgage to recommend to you. How can I speed up the mortgage completion process? Return any requested documentation for your mortgage as soon as possible. Work closely with your conveyancer to understand timings and next steps in the process – such as local authority search turnaround times. Make sure all parties are working towards the same completion date and be aware of any chains you may be in which may impact this. Consider any other Third Parties you’ll need to contact and get quotes from (such as removal firms), and make sure they are aware of the completion date you are aiming for. What insurance will I need? It's a requirement of your mortgage to have buildings insurance. This covers the bricks and mortar, fixtures and fittings. It's also a good idea to take out contents insurance as well - this protects all your possessions in your home, from furniture to jewellery. It’s also important to think about what would happen to your mortgage in the event of your death, or if you are too ill to work. Our expert Mortgage and Protection Advisers can help you to find the right level of cover to protect your mortgage, should the worst happen.\\xa0 Will I be charged any fees? This will depend on the mortgage product, there may be a product fee to pay and early repayment charges if you repay early. Any product fees can be added on to your mortgage on completion. There could be other\\xa0charges and standard costs\\xa0that you may have to pay during the course of setting up your mortgage. You'll be charged interest on any fees, charges and standard costs added to your loan. There are\\xa0other costs\\xa0associated with buying a property and taking out a mortgage. What happens at the end of my mortgage deal? When you take out your mortgage, you arrange to have a fixed or variable rate product for a period of time. At the end of this time, the product will end and your loan will usually be transferred to one of our Lender Variable Rates. At this point, you may decide to move it to a new product for a further period of time. What happens if I want to move home in the middle of my mortgage deal? It's sometimes possible to take a product with you to a new mortgage - we call this 'porting‘. Your Illustration and offer letter will say if any of your products are portable.\"]"
      ]
     },
     "execution_count": 43,
     "metadata": {},
     "output_type": "execute_result"
    }
   ],
   "source": [
    "documents"
   ]
  },
  {
   "cell_type": "code",
   "execution_count": 44,
   "metadata": {},
   "outputs": [],
   "source": [
    "template_input = {\n",
    "    \"documents\": documents,\n",
    "    \"question\": query\n",
    "}"
   ]
  },
  {
   "cell_type": "code",
   "execution_count": 45,
   "metadata": {},
   "outputs": [
    {
     "data": {
      "text/plain": [
       "[{'role': 'system', 'content': 'you are a helpful mortgage advisor'},\n",
       " {'role': 'user',\n",
       "  'content': \"\\n            DOCUMENTS:\\n            \\n             - Knowing how to remortgage your home quickly can speed up the process. While there is no guaranteed fast-track, there are a few things you can do. \\n\\n            \\n             - How long will my mortgage application take?                                  expandable section \\n\\n            \\n             - What could delay my mortgage application?                                   expandable section \\n\\n            \\n             - Worried about the paperwork and process behind a mortgage? Find out how to apply for one here. \\n\\n            \\n             - Fancy a refresher on the mortgage process? You'll find everything you need to know here. \\n\\n            \\n             - How could you increase your chances of being accepted for a mortgage?                                  expandable section \\n\\n            \\n             - Being in a strong financial position can affect how quick the process is. If you are trying to borrow more money, and if there’s any issue with your income or credit history, this could cause delays. \\n\\n            \\n             - Save yourself time by getting a mortgage Agreement in Principle from your lender before you make an offer. This can speed up the buying process. \\n\\n            \\n             - How can I get the best mortgage rate?                                  expandable section \\n\\n            \\n             - Learn about how long a remortgage takes, the best time to do it and key information about the process. \\n\\n            \\n             - As long as one person applying has never owned a property before, you can apply for a First Time Buyer Mortgage with the Halifax. You’ll need a deposit of at least 5% of the property’s value, but if you can afford more than 5%, you can often get a lower initial interest rate. We’re supporting the Government’s\\xa0mortgage guarantee scheme, if you only have a deposit of at least 5% but less than 10%. The scheme is expected to accept applications until 30 June 2025, however, it may be withdrawn earlier. You can apply for a mortgage under the scheme by following our usual application process. If you’re planning to put down a deposit between 5% and 10%,\\xa0to qualify for the Mortgage Guarantee Scheme you’ll need to be:\\xa0 A first-time buyer Thinking about borrowing less than £570,000 Buying a property that isn’t a new build flat Buying a property that isn’t Shared Ownership, Shared Equity, Right to Buy or buy to let Thinking about getting a repayment mortgage and not interest only Lending is subject to an affordability assessment, credit score and a full mortgage application. Learn more about how 95% mortgages work. Use our mortgage calculator\\xa0to see how much you could borrow and what your monthly payments might be. Or, to get a better indication apply for an Agreement in Principle. You must be at least 18 years old to apply for a mortgage, and your mortgage must usually end before you reach 80 years of age. If your mortgage term extends past your 70th birthday or when you plan to retire - whichever happens sooner - we'll look at your retirement or employment income to make sure that you can afford the monthly payments. If you’re taking out a joint mortgage, we take the age of the oldest person into account. Things to know when buying your first home. There’s a lot to think about when buying your first home. Our\\xa0First Time Buyer Guide explains the entire mortgage process in an easy-to-understand way. We’ve put together a list of questions we’re asked most often by first time buyers. You can also find these in our\\xa0First Time Buyer Guide. What is Stamp Duty? Stamp Duty is a tax you might have to pay when you buy a new home. It’s called the Land and Buildings Transactions Tax in Scotland, and Land Transaction Tax in Wales. Not everyone will have to pay this tax. To find out more, visit our Stamp Duty page. How much do I need to save for my deposit? We'll only lend you a percentage of what the property is worth, so you’ll need to put down some of your own money towards the cost of the property. We call this a deposit. Your deposit should be at least 5% of the property’s value (unless you’re applying for our Family Boost mortgage). If you can put down more than 5%, you can often get a lower initial interest rate. As well as your deposit, there are other costs to think about when buying a property and taking out a mortgage. Costs that apply to most buyers include conveyancing fees, Stamp Duty Land Tax/Land and Buildings Transaction Tax (properties in Scotland), valuation fees and Land Registry fees. There are often unexpected costs too in buying a property, so it's a good idea to have a reserve fund to cover them. Halifax supports a range of\\xa0government backed initiatives\\xa0to help customers to buy their home. Use our\\xa0mortgage calculator\\xa0to see how much you could borrow and what your monthly payments might be. Or, to get a better indication apply for an\\xa0Agreement in Principle. Family Boost mortgage With our Family Boost mortgage, your mortgage payments stay the same for three years, and you don’t need to save for your own deposit. Instead, a family member can put down 10% of the cost of your home, up to £500,000, which they’ll get back plus interest after 3 years (subject to conditions). Learn about the full Family Boost mortgage details and conditions. Need help with saving for your deposit? Our\\xa0savings tips page and savings range\\xa0will help you to start building enough of a deposit to put down on your first home. How much could I borrow? You can use our online mortgage calculator to get an idea of\\xa0how much you could borrow. Or, to get a better indication you can apply for an\\xa0Agreement in Principle, also known as a 'Mortgage Promise'. We'll start by asking about your income, for example your basic salary and any regular overtime or bonuses.\\xa0 We'll also ask about your regular outgoings, for example credit card or personal loan repayments, and we'll take these off your income. After that, we make a further allowance for average day-to-day living expenses. This allows us to see how much we think you can afford for your mortgage payment each month.\\xa0We accept US dollars, euros, Australian dollars, Indian rupees and Swiss francs when calculating your mortgage affordability. As part of our process of assessing whether we think you can afford the loan, we'll ask your permission to contact a credit reference agency. They can give us information about: how you've conducted your finances in the past how many credit commitments you've got and how long\\xa0they’ll last whether you've kept the payments up to date. We'll use credit scoring to help us decide whether to lend you money. Credit scoring works by awarding you points based on the information that: you give us about yourself we already have about you, if you've an existing relationship with us is on your credit file at the credit reference agency. We use this information to give an indication of whether we'll lend you money and if so, how much we'll be willing to provide to you as a mortgage. How does an Agreement in Principle differ from a mortgage offer? An Agreement in Principle, also known as a 'Decision in Principle' or 'Mortgage Promise', is useful if you haven’t found a property you want to buy but would like to know how much you could borrow. All we need is a few personal details about you and anyone else who will be named on the mortgage. Then we’ll contact a credit reference agency for a credit search and give you a credit score. If you reach our pass mark, we’ll give you a certificate, so that you can show the seller you can get a loan.\\xa0 An Agreement in Principle is subject to us performing various additional checks and so is not a guarantee we'll be able to lend you the money, for this you need a mortgage offer. A mortgage offer is issued by a lender once your mortgage application has been received and the necessary checks, such as the property valuation and confirmation of your details, have been carried out. It sets out the terms under which the lender is prepared to offer you a loan. What type of properties will you lend on? The property you buy must be located within the UK and loans can only be used to buy your main residential home or for purposes relating to this home. We'll consider lending you money to buy\\xa0different types of property. We may ask you to provide a bigger deposit on some types of property than others. Any loan we make will be subject to a satisfactory\\xa0property valuation\\xa0by a surveyor of our choice. Is there a minimum purchase price? While we'll consider many types of property, we've a responsibility to make sure that a property is suitable security for a mortgage. As a result, we'll not lend against properties where the lower of the valuation or purchase price is below £40,000. What are the risks I should be aware of? A mortgage has one key difference to other loans - it's secured against your home. If you can't keep up with your monthly repayments, or you get into\\xa0financial difficulties\\xa0you should contact us straight away so we can give you the help you need. Remember, house prices can go down and up. If you owe more than the current value of your home,\\xa0you’ll be in negative equity. If you need to move home and sell your property, and if its value has dropped below what you paid for it, there may be a shortfall between the amount you owe on your mortgage and the amount you get for the sale, which\\xa0you’ll need to repay. What should I consider when applying for a mortgage? Mortgages can last for a long time, so it's important you get the one that's right for you. You'll need to think about such things as the type of loan, how long you want it for and what type of product you'd like. Methods of repayment\\xa0- there are three different ways of\\xa0repaying your mortgage.\\xa0These are repayment, interest-only, and a combination of repayment and interest-only. Mortgage terms\\xa0- mortgage terms of up to 40 years are available. How long the mortgage lasts will affect your monthly payments and the total cost of the mortgage. With a repayment mortgage, the longer the term, the lower the monthly payment. However, it will take you longer to pay off the loan so you'll pay more interest. This means it will cost you more over the life of your mortgage.\\xa0 With an interest-only mortgage, the length of the term makes no difference to the monthly payments because these are only paying off the interest charges and not the loan itself. With an interest-only mortgage, your mortgage term needs to match the time when you'll have enough money in your repayment plan(s) to repay the loan. Mortgage products\\xa0- we may have different\\xa0types of mortgage products\\xa0with different types of interest rates. These change from time to time and we'll give you details of the current range when you apply. Product incentives\\xa0- from time to time we may offer mortgage\\xa0products that include an incentive. The interest rate for products with incentives may sometimes be slightly higher than for products without incentives. You'll need to consider whether the incentive available at the start of the mortgage is more important to you than the slightly lower interest rate you may get during the product rate period without the incentive. Your Mortgage and Protection Adviser will ask you about your preferences and discuss your needs and circumstances before deciding which mortgage to recommend to you. How can I speed up the mortgage completion process? Return any requested documentation for your mortgage as soon as possible. Work closely with your conveyancer to understand timings and next steps in the process – such as local authority search turnaround times. Make sure all parties are working towards the same completion date and be aware of any chains you may be in which may impact this. Consider any other Third Parties you’ll need to contact and get quotes from (such as removal firms), and make sure they are aware of the completion date you are aiming for. What insurance will I need? It's a requirement of your mortgage to have buildings insurance. This covers the bricks and mortar, fixtures and fittings. It's also a good idea to take out contents insurance as well - this protects all your possessions in your home, from furniture to jewellery. It’s also important to think about what would happen to your mortgage in the event of your death, or if you are too ill to work. Our expert Mortgage and Protection Advisers can help you to find the right level of cover to protect your mortgage, should the worst happen.\\xa0 Will I be charged any fees? This will depend on the mortgage product, there may be a product fee to pay and early repayment charges if you repay early. Any product fees can be added on to your mortgage on completion. There could be other\\xa0charges and standard costs\\xa0that you may have to pay during the course of setting up your mortgage. You'll be charged interest on any fees, charges and standard costs added to your loan. There are\\xa0other costs\\xa0associated with buying a property and taking out a mortgage. What happens at the end of my mortgage deal? When you take out your mortgage, you arrange to have a fixed or variable rate product for a period of time. At the end of this time, the product will end and your loan will usually be transferred to one of our Lender Variable Rates. At this point, you may decide to move it to a new product for a further period of time. What happens if I want to move home in the middle of my mortgage deal? It's sometimes possible to take a product with you to a new mortgage - we call this 'porting‘. Your Illustration and offer letter will say if any of your products are portable. \\n\\n            \\n\\n            QUESTION:\\n           How can I speed up the mortgage completion process?\\n            INSTRUCTIONS:\\n            Answer the users QUESTION using the DOCUMENTS text above.\\n            Keep your answer ground in the facts of the DOCUMENTS.\\n            If the DOCUMENTS doesn’t contain the facts to answer the QUESTION return None\\n        \"}]"
      ]
     },
     "execution_count": 45,
     "metadata": {},
     "output_type": "execute_result"
    }
   ],
   "source": [
    "llama_cpp_generator.generate_chat_input(template_values=template_input)"
   ]
  },
  {
   "cell_type": "code",
   "execution_count": 46,
   "metadata": {},
   "outputs": [],
   "source": [
    "response = llama_cpp_generator.run(template_values=template_input)"
   ]
  },
  {
   "cell_type": "code",
   "execution_count": null,
   "metadata": {},
   "outputs": [],
   "source": []
  },
  {
   "cell_type": "code",
   "execution_count": 47,
   "metadata": {},
   "outputs": [
    {
     "name": "stdout",
     "output_type": "stream",
     "text": [
      "To speed up the mortgage completion process, follow these steps:\n",
      "\n",
      "1. Return any requested documentation for your mortgage as soon as possible.\n",
      "2. Work closely with your conveyancer to understand timings and next steps in the process – such as local authority search turnaround times.\n",
      "3. Make sure all parties are working towards the same completion date and be aware of any chains you may be in which may impact this.\n",
      "4. Consider any other Third Parties you’ll need to contact and get quotes from (such as removal firms), and make sure they are aware of the completion date you are aiming for.\n",
      "5. Ensure that all necessary paperwork is submitted promptly, including any required certificates or approvals.\n",
      "\n",
      "By following these steps, you can help streamline the mortgage process and potentially expedite the completion of your mortgage application.\n"
     ]
    }
   ],
   "source": [
    "print(response)"
   ]
  },
  {
   "cell_type": "code",
   "execution_count": null,
   "metadata": {},
   "outputs": [],
   "source": []
  }
 ],
 "metadata": {
  "kernelspec": {
   "display_name": ".venv",
   "language": "python",
   "name": "python3"
  },
  "language_info": {
   "codemirror_mode": {
    "name": "ipython",
    "version": 3
   },
   "file_extension": ".py",
   "mimetype": "text/x-python",
   "name": "python",
   "nbconvert_exporter": "python",
   "pygments_lexer": "ipython3",
   "version": "3.10.4"
  }
 },
 "nbformat": 4,
 "nbformat_minor": 2
}
