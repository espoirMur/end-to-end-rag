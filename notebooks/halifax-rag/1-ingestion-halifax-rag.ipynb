{
 "cells": [
  {
   "cell_type": "code",
   "execution_count": 1,
   "metadata": {},
   "outputs": [],
   "source": [
    "from pathlib import Path"
   ]
  },
  {
   "cell_type": "code",
   "execution_count": 2,
   "metadata": {},
   "outputs": [],
   "source": [
    "dataset_path = Path.cwd().joinpath(\"datasets\", \"halifax_site\")"
   ]
  },
  {
   "cell_type": "code",
   "execution_count": 3,
   "metadata": {},
   "outputs": [],
   "source": [
    "import pandas as pd"
   ]
  },
  {
   "cell_type": "code",
   "execution_count": 4,
   "metadata": {},
   "outputs": [],
   "source": [
    "training_data = pd.read_csv(\n",
    "    dataset_path.joinpath(\"training_data.csv\"), sep=\"|\",  lineterminator='\\n')"
   ]
  },
  {
   "cell_type": "code",
   "execution_count": 5,
   "metadata": {},
   "outputs": [],
   "source": [
    "test_data = pd.read_csv(dataset_path.joinpath(\n",
    "    \"test_data.csv\"), sep=\"|\",  lineterminator='\\n')"
   ]
  },
  {
   "cell_type": "code",
   "execution_count": 6,
   "metadata": {},
   "outputs": [
    {
     "data": {
      "text/html": [
       "<div>\n",
       "<style scoped>\n",
       "    .dataframe tbody tr th:only-of-type {\n",
       "        vertical-align: middle;\n",
       "    }\n",
       "\n",
       "    .dataframe tbody tr th {\n",
       "        vertical-align: top;\n",
       "    }\n",
       "\n",
       "    .dataframe thead th {\n",
       "        text-align: right;\n",
       "    }\n",
       "</style>\n",
       "<table border=\"1\" class=\"dataframe\">\n",
       "  <thead>\n",
       "    <tr style=\"text-align: right;\">\n",
       "      <th></th>\n",
       "      <th>title</th>\n",
       "      <th>content</th>\n",
       "      <th>url</th>\n",
       "      <th>content_cleaned</th>\n",
       "    </tr>\n",
       "  </thead>\n",
       "  <tbody>\n",
       "    <tr>\n",
       "      <th>0</th>\n",
       "      <td>First time buyer calculator</td>\n",
       "      <td>First time buyer calculator Looking to buy yo...</td>\n",
       "      <td>https://www.halifax.co.uk/mortgages/mortgage-c...</td>\n",
       "      <td>Looking to buy your first home? Use our mortga...</td>\n",
       "    </tr>\n",
       "    <tr>\n",
       "      <th>1</th>\n",
       "      <td>Home mover calculator</td>\n",
       "      <td>Home mover calculator Ready to move home? Use...</td>\n",
       "      <td>https://www.halifax.co.uk/mortgages/mortgage-c...</td>\n",
       "      <td>Ready to move home? Use our home mover calcula...</td>\n",
       "    </tr>\n",
       "    <tr>\n",
       "      <th>2</th>\n",
       "      <td>Remortgage calculator</td>\n",
       "      <td>Remortgage calculator Got a mortgage with a d...</td>\n",
       "      <td>https://www.halifax.co.uk/mortgages/mortgage-c...</td>\n",
       "      <td>Got a mortgage with a different provider? See ...</td>\n",
       "    </tr>\n",
       "    <tr>\n",
       "      <th>3</th>\n",
       "      <td>Switching your mortgage</td>\n",
       "      <td>Switching your mortgage If your existing Hali...</td>\n",
       "      <td>https://www.halifax.co.uk/mortgages/mortgage-c...</td>\n",
       "      <td>If your existing Halifax mortgage is coming to...</td>\n",
       "    </tr>\n",
       "    <tr>\n",
       "      <th>4</th>\n",
       "      <td>Borrowing more calculator</td>\n",
       "      <td>Borrowing more calculator If you want to borr...</td>\n",
       "      <td>https://www.halifax.co.uk/mortgages/mortgage-c...</td>\n",
       "      <td>If you want to borrow more on your mortgage, y...</td>\n",
       "    </tr>\n",
       "  </tbody>\n",
       "</table>\n",
       "</div>"
      ],
      "text/plain": [
       "                         title  \\\n",
       "0  First time buyer calculator   \n",
       "1        Home mover calculator   \n",
       "2        Remortgage calculator   \n",
       "3      Switching your mortgage   \n",
       "4    Borrowing more calculator   \n",
       "\n",
       "                                             content  \\\n",
       "0   First time buyer calculator Looking to buy yo...   \n",
       "1   Home mover calculator Ready to move home? Use...   \n",
       "2   Remortgage calculator Got a mortgage with a d...   \n",
       "3   Switching your mortgage If your existing Hali...   \n",
       "4   Borrowing more calculator If you want to borr...   \n",
       "\n",
       "                                                 url  \\\n",
       "0  https://www.halifax.co.uk/mortgages/mortgage-c...   \n",
       "1  https://www.halifax.co.uk/mortgages/mortgage-c...   \n",
       "2  https://www.halifax.co.uk/mortgages/mortgage-c...   \n",
       "3  https://www.halifax.co.uk/mortgages/mortgage-c...   \n",
       "4  https://www.halifax.co.uk/mortgages/mortgage-c...   \n",
       "\n",
       "                                     content_cleaned  \n",
       "0  Looking to buy your first home? Use our mortga...  \n",
       "1  Ready to move home? Use our home mover calcula...  \n",
       "2  Got a mortgage with a different provider? See ...  \n",
       "3  If your existing Halifax mortgage is coming to...  \n",
       "4  If you want to borrow more on your mortgage, y...  "
      ]
     },
     "execution_count": 6,
     "metadata": {},
     "output_type": "execute_result"
    }
   ],
   "source": [
    "training_data.head()"
   ]
  },
  {
   "cell_type": "code",
   "execution_count": 7,
   "metadata": {},
   "outputs": [],
   "source": [
    "training_data = training_data[~training_data.content.isna()\n",
    "                           & ~training_data.url.isna()]"
   ]
  },
  {
   "cell_type": "code",
   "execution_count": 8,
   "metadata": {},
   "outputs": [],
   "source": [
    "test_data = test_data[~test_data.content.isna() & ~test_data.url.isna()]"
   ]
  },
  {
   "cell_type": "code",
   "execution_count": 9,
   "metadata": {},
   "outputs": [
    {
     "data": {
      "text/html": [
       "<div>\n",
       "<style scoped>\n",
       "    .dataframe tbody tr th:only-of-type {\n",
       "        vertical-align: middle;\n",
       "    }\n",
       "\n",
       "    .dataframe tbody tr th {\n",
       "        vertical-align: top;\n",
       "    }\n",
       "\n",
       "    .dataframe thead th {\n",
       "        text-align: right;\n",
       "    }\n",
       "</style>\n",
       "<table border=\"1\" class=\"dataframe\">\n",
       "  <thead>\n",
       "    <tr style=\"text-align: right;\">\n",
       "      <th></th>\n",
       "      <th>index</th>\n",
       "      <th>title</th>\n",
       "      <th>content</th>\n",
       "      <th>url</th>\n",
       "      <th>content_cleaned</th>\n",
       "    </tr>\n",
       "  </thead>\n",
       "  <tbody>\n",
       "    <tr>\n",
       "      <th>0</th>\n",
       "      <td>42</td>\n",
       "      <td>Already bank with us?</td>\n",
       "      <td>Already bank with us?        ...</td>\n",
       "      <td>https://www.halifax.co.uk/mortgages/help-and-a...</td>\n",
       "      <td>Upgrading your account Overdrafts Payments &amp; t...</td>\n",
       "    </tr>\n",
       "    <tr>\n",
       "      <th>1</th>\n",
       "      <td>55</td>\n",
       "      <td>Already borrowing with us?</td>\n",
       "      <td>Already borrowing with us?   ...</td>\n",
       "      <td>https://www.halifax.co.uk/mortgages/help-and-a...</td>\n",
       "      <td>Existing credit card customers Existing loan c...</td>\n",
       "    </tr>\n",
       "    <tr>\n",
       "      <th>2</th>\n",
       "      <td>66</td>\n",
       "      <td>Already with us?</td>\n",
       "      <td>Already with us?             ...</td>\n",
       "      <td>https://www.halifax.co.uk/mortgages/help-and-a...</td>\n",
       "      <td>Existing customers Existing customers Manage y...</td>\n",
       "    </tr>\n",
       "    <tr>\n",
       "      <th>3</th>\n",
       "      <td>79</td>\n",
       "      <td>Already saving with us?</td>\n",
       "      <td>Already saving with us?      ...</td>\n",
       "      <td>https://www.halifax.co.uk/mortgages/help-and-a...</td>\n",
       "      <td>Existing customers Manage your ISA Transfer yo...</td>\n",
       "    </tr>\n",
       "    <tr>\n",
       "      <th>4</th>\n",
       "      <td>94</td>\n",
       "      <td>Already investing with us?</td>\n",
       "      <td>Already investing with us?   ...</td>\n",
       "      <td>https://www.halifax.co.uk/mortgages/help-and-a...</td>\n",
       "      <td>Sign in to Share Dealing Introducing the new R...</td>\n",
       "    </tr>\n",
       "  </tbody>\n",
       "</table>\n",
       "</div>"
      ],
      "text/plain": [
       "   index                       title  \\\n",
       "0     42       Already bank with us?   \n",
       "1     55  Already borrowing with us?   \n",
       "2     66            Already with us?   \n",
       "3     79     Already saving with us?   \n",
       "4     94  Already investing with us?   \n",
       "\n",
       "                                             content  \\\n",
       "0                   Already bank with us?        ...   \n",
       "1                   Already borrowing with us?   ...   \n",
       "2                   Already with us?             ...   \n",
       "3                   Already saving with us?      ...   \n",
       "4                   Already investing with us?   ...   \n",
       "\n",
       "                                                 url  \\\n",
       "0  https://www.halifax.co.uk/mortgages/help-and-a...   \n",
       "1  https://www.halifax.co.uk/mortgages/help-and-a...   \n",
       "2  https://www.halifax.co.uk/mortgages/help-and-a...   \n",
       "3  https://www.halifax.co.uk/mortgages/help-and-a...   \n",
       "4  https://www.halifax.co.uk/mortgages/help-and-a...   \n",
       "\n",
       "                                     content_cleaned  \n",
       "0  Upgrading your account Overdrafts Payments & t...  \n",
       "1  Existing credit card customers Existing loan c...  \n",
       "2  Existing customers Existing customers Manage y...  \n",
       "3  Existing customers Manage your ISA Transfer yo...  \n",
       "4  Sign in to Share Dealing Introducing the new R...  "
      ]
     },
     "execution_count": 9,
     "metadata": {},
     "output_type": "execute_result"
    }
   ],
   "source": [
    "test_data.head()"
   ]
  },
  {
   "cell_type": "code",
   "execution_count": 10,
   "metadata": {},
   "outputs": [
    {
     "data": {
      "text/plain": [
       "(377, 5)"
      ]
     },
     "execution_count": 10,
     "metadata": {},
     "output_type": "execute_result"
    }
   ],
   "source": [
    "test_data.shape"
   ]
  },
  {
   "cell_type": "code",
   "execution_count": 11,
   "metadata": {},
   "outputs": [
    {
     "name": "stderr",
     "output_type": "stream",
     "text": [
      "/Users/esp.py/Projects/Personal/end-to-end-rag/.venv/lib/python3.10/site-packages/tqdm/auto.py:21: TqdmWarning: IProgress not found. Please update jupyter and ipywidgets. See https://ipywidgets.readthedocs.io/en/stable/user_install.html\n",
      "  from .autonotebook import tqdm as notebook_tqdm\n"
     ]
    }
   ],
   "source": [
    "from haystack import Document"
   ]
  },
  {
   "cell_type": "code",
   "execution_count": 12,
   "metadata": {},
   "outputs": [],
   "source": [
    "train_documents = [\n",
    "    Document(content=str(example.content_cleaned), meta={\"url\": example.url}) for example in training_data.itertuples()\n",
    "]"
   ]
  },
  {
   "cell_type": "code",
   "execution_count": 13,
   "metadata": {},
   "outputs": [],
   "source": [
    "test_documents = [\n",
    "    Document(content=str(example.content_cleaned), meta={\"url\": example.url}) for example in test_data.itertuples()\n",
    "]"
   ]
  },
  {
   "cell_type": "code",
   "execution_count": 14,
   "metadata": {},
   "outputs": [],
   "source": [
    "all_documents = train_documents + test_documents"
   ]
  },
  {
   "cell_type": "code",
   "execution_count": 15,
   "metadata": {},
   "outputs": [],
   "source": [
    "embedding_model_id = \"dunzhang/stella_en_400M_v5\""
   ]
  },
  {
   "cell_type": "code",
   "execution_count": 16,
   "metadata": {},
   "outputs": [],
   "source": [
    "### need to come back here, and download the stuff."
   ]
  },
  {
   "cell_type": "markdown",
   "metadata": {},
   "source": [
    "from haystack import Pipeline"
   ]
  },
  {
   "cell_type": "code",
   "execution_count": 17,
   "metadata": {},
   "outputs": [],
   "source": [
    "from haystack import Pipeline"
   ]
  },
  {
   "cell_type": "code",
   "execution_count": 18,
   "metadata": {},
   "outputs": [],
   "source": [
    "indexing_pipeline = Pipeline()"
   ]
  },
  {
   "cell_type": "code",
   "execution_count": 19,
   "metadata": {},
   "outputs": [
    {
     "data": {
      "text/plain": [
       "Document(id=3396b04a094294cd788f45005d66a5b9a562b37f937d66303b278d85b857fa0c, content: 'Looking to buy your first home? Use our mortgage calculator to work out how much you could borrow to...', meta: {'url': 'https://www.halifax.co.uk/mortgages/mortgage-calculator.html?WT.ac=hp/help/mortgage-calc'})"
      ]
     },
     "execution_count": 19,
     "metadata": {},
     "output_type": "execute_result"
    }
   ],
   "source": [
    "all_documents[0]"
   ]
  },
  {
   "cell_type": "code",
   "execution_count": 20,
   "metadata": {},
   "outputs": [],
   "source": [
    "from haystack.components.writers import DocumentWriter"
   ]
  },
  {
   "cell_type": "code",
   "execution_count": 21,
   "metadata": {},
   "outputs": [],
   "source": [
    "from haystack_integrations.document_stores.pgvector import PgvectorDocumentStore"
   ]
  },
  {
   "cell_type": "code",
   "execution_count": 22,
   "metadata": {},
   "outputs": [],
   "source": [
    "from src.rag.shared.database import postgres_uri"
   ]
  },
  {
   "cell_type": "code",
   "execution_count": 23,
   "metadata": {},
   "outputs": [],
   "source": [
    "import os"
   ]
  },
  {
   "cell_type": "code",
   "execution_count": 24,
   "metadata": {},
   "outputs": [],
   "source": [
    "os.environ[\"PG_CONN_STR\"] = postgres_uri"
   ]
  },
  {
   "cell_type": "code",
   "execution_count": 25,
   "metadata": {},
   "outputs": [],
   "source": [
    "document_store = PgvectorDocumentStore(\n",
    "    embedding_dimension=1024,\n",
    "    vector_function=\"cosine_similarity\",\n",
    "    recreate_table=True,\n",
    "    search_strategy=\"hnsw\",\n",
    ")"
   ]
  },
  {
   "cell_type": "code",
   "execution_count": 26,
   "metadata": {},
   "outputs": [],
   "source": [
    "from haystack.document_stores.types import DuplicatePolicy"
   ]
  },
  {
   "cell_type": "code",
   "execution_count": 27,
   "metadata": {},
   "outputs": [],
   "source": [
    "document_writer = DocumentWriter(\n",
    "    document_store=document_store, policy=DuplicatePolicy.OVERWRITE)"
   ]
  },
  {
   "cell_type": "code",
   "execution_count": 28,
   "metadata": {},
   "outputs": [],
   "source": [
    "from haystack.components.embedders import SentenceTransformersDocumentEmbedder"
   ]
  },
  {
   "cell_type": "code",
   "execution_count": 29,
   "metadata": {},
   "outputs": [],
   "source": [
    "embedder_component = SentenceTransformersDocumentEmbedder(\n",
    "    model=embedding_model_id,\n",
    "    normalize_embeddings=True,\n",
    "    trust_remote_code=True,\n",
    "\n",
    ")"
   ]
  },
  {
   "cell_type": "code",
   "execution_count": 30,
   "metadata": {},
   "outputs": [
    {
     "name": "stderr",
     "output_type": "stream",
     "text": [
      "Some weights of the model checkpoint at dunzhang/stella_en_400M_v5 were not used when initializing NewModel: ['new.pooler.dense.bias', 'new.pooler.dense.weight']\n",
      "- This IS expected if you are initializing NewModel from the checkpoint of a model trained on another task or with another architecture (e.g. initializing a BertForSequenceClassification model from a BertForPreTraining model).\n",
      "- This IS NOT expected if you are initializing NewModel from the checkpoint of a model that you expect to be exactly identical (initializing a BertForSequenceClassification model from a BertForSequenceClassification model).\n"
     ]
    }
   ],
   "source": [
    "embedder_component.warm_up()"
   ]
  },
  {
   "cell_type": "code",
   "execution_count": 31,
   "metadata": {},
   "outputs": [
    {
     "data": {
      "text/plain": [
       "<haystack.core.pipeline.pipeline.Pipeline object at 0x1671e8d00>\n",
       "🚅 Components\n",
       "  - embedder: SentenceTransformersDocumentEmbedder\n",
       "  - writer: DocumentWriter\n",
       "🛤️ Connections\n",
       "  - embedder.documents -> writer.documents (List[Document])"
      ]
     },
     "execution_count": 31,
     "metadata": {},
     "output_type": "execute_result"
    }
   ],
   "source": [
    "indexing_pipeline.add_component(\n",
    "    \"embedder\", embedder_component)\n",
    "indexing_pipeline.add_component(\"writer\", document_writer)\n",
    "\n",
    "\n",
    "indexing_pipeline.connect(\"embedder\", \"writer\")"
   ]
  },
  {
   "cell_type": "code",
   "execution_count": 32,
   "metadata": {},
   "outputs": [
    {
     "name": "stderr",
     "output_type": "stream",
     "text": [
      "Batches:   0%|          | 0/57 [00:00<?, ?it/s]/Users/esp.py/Projects/Personal/end-to-end-rag/.venv/lib/python3.10/site-packages/transformers/modeling_utils.py:1101: FutureWarning: The `device` argument is deprecated and will be removed in v5 of Transformers.\n",
      "  warnings.warn(\n",
      "Batches: 100%|██████████| 57/57 [01:18<00:00,  1.38s/it]\n"
     ]
    },
    {
     "data": {
      "text/plain": [
       "{'writer': {'documents_written': 1818}}"
      ]
     },
     "execution_count": 32,
     "metadata": {},
     "output_type": "execute_result"
    }
   ],
   "source": [
    "indexing_pipeline.run(data={\"documents\": all_documents[1:]})"
   ]
  },
  {
   "cell_type": "code",
   "execution_count": null,
   "metadata": {},
   "outputs": [],
   "source": []
  }
 ],
 "metadata": {
  "kernelspec": {
   "display_name": ".venv",
   "language": "python",
   "name": "python3"
  },
  "language_info": {
   "codemirror_mode": {
    "name": "ipython",
    "version": 3
   },
   "file_extension": ".py",
   "mimetype": "text/x-python",
   "name": "python",
   "nbconvert_exporter": "python",
   "pygments_lexer": "ipython3",
   "version": "3.10.4"
  }
 },
 "nbformat": 4,
 "nbformat_minor": 2
}
