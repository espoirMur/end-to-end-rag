{
 "cells": [
  {
   "cell_type": "markdown",
   "metadata": {},
   "source": [
    "Fails experiments"
   ]
  },
  {
   "cell_type": "code",
   "execution_count": 1,
   "metadata": {},
   "outputs": [],
   "source": [
    "from pathlib import Path"
   ]
  },
  {
   "cell_type": "code",
   "execution_count": 2,
   "metadata": {},
   "outputs": [],
   "source": [
    "current_directory = Path.cwd().joinpath(\"datasets\", \"today_news\")"
   ]
  },
  {
   "cell_type": "code",
   "execution_count": 3,
   "metadata": {},
   "outputs": [],
   "source": [
    "today_news = current_directory.joinpath(\"2024-10-15-news.csv\")"
   ]
  },
  {
   "cell_type": "code",
   "execution_count": 4,
   "metadata": {},
   "outputs": [],
   "source": [
    "import pandas as pd"
   ]
  },
  {
   "cell_type": "code",
   "execution_count": 5,
   "metadata": {},
   "outputs": [],
   "source": [
    "news_df = pd.read_csv(today_news)"
   ]
  },
  {
   "cell_type": "code",
   "execution_count": 6,
   "metadata": {},
   "outputs": [],
   "source": [
    "model_path = Path.cwd().joinpath(\"models\")"
   ]
  },
  {
   "cell_type": "code",
   "execution_count": 7,
   "metadata": {},
   "outputs": [],
   "source": [
    "embedding_model_id = \"dunzhang/stella_en_400M_v5\""
   ]
  },
  {
   "cell_type": "code",
   "execution_count": 8,
   "metadata": {},
   "outputs": [],
   "source": [
    "embedding_model_path = model_path.joinpath(embedding_model_id)"
   ]
  },
  {
   "cell_type": "code",
   "execution_count": 9,
   "metadata": {},
   "outputs": [],
   "source": [
    "\n",
    "transformer_kwargs = {\"model_name_or_path\": embedding_model_path.__str__(),\n",
    "                      \"trust_remote_code\": True,\n",
    "                      \"device\": \"cpu\",\n",
    "                      \"config_kwargs\": {\"use_memory_efficient_attention\": False,\n",
    "                                        \"unpad_inputs\": False},\n",
    "                      \"cache_folder\": model_path}"
   ]
  },
  {
   "cell_type": "code",
   "execution_count": 10,
   "metadata": {},
   "outputs": [
    {
     "data": {
      "text/plain": [
       "{'model_name_or_path': '/Users/esp.py/Projects/Personal/end-to-end-rag/models/dunzhang/stella_en_400M_v5',\n",
       " 'trust_remote_code': True,\n",
       " 'device': 'cpu',\n",
       " 'config_kwargs': {'use_memory_efficient_attention': False,\n",
       "  'unpad_inputs': False},\n",
       " 'cache_folder': PosixPath('/Users/esp.py/Projects/Personal/end-to-end-rag/models')}"
      ]
     },
     "execution_count": 10,
     "metadata": {},
     "output_type": "execute_result"
    }
   ],
   "source": [
    "transformer_kwargs"
   ]
  },
  {
   "cell_type": "code",
   "execution_count": 11,
   "metadata": {},
   "outputs": [
    {
     "name": "stderr",
     "output_type": "stream",
     "text": [
      "/Users/esp.py/Projects/Personal/end-to-end-rag/.venv/lib/python3.10/site-packages/sentence_transformers/cross_encoder/CrossEncoder.py:13: TqdmWarning: IProgress not found. Please update jupyter and ipywidgets. See https://ipywidgets.readthedocs.io/en/stable/user_install.html\n",
      "  from tqdm.autonotebook import tqdm, trange\n"
     ]
    }
   ],
   "source": [
    "from sentence_transformers import SentenceTransformer"
   ]
  },
  {
   "cell_type": "code",
   "execution_count": 12,
   "metadata": {},
   "outputs": [
    {
     "name": "stderr",
     "output_type": "stream",
     "text": [
      "Some weights of the model checkpoint at /Users/esp.py/Projects/Personal/end-to-end-rag/models/dunzhang/stella_en_400M_v5 were not used when initializing NewModel: ['new.pooler.dense.bias', 'new.pooler.dense.weight']\n",
      "- This IS expected if you are initializing NewModel from the checkpoint of a model trained on another task or with another architecture (e.g. initializing a BertForSequenceClassification model from a BertForPreTraining model).\n",
      "- This IS NOT expected if you are initializing NewModel from the checkpoint of a model that you expect to be exactly identical (initializing a BertForSequenceClassification model from a BertForSequenceClassification model).\n"
     ]
    }
   ],
   "source": [
    "sentence_transformer_model = SentenceTransformer(\n",
    "    **transformer_kwargs)"
   ]
  },
  {
   "cell_type": "code",
   "execution_count": 13,
   "metadata": {},
   "outputs": [
    {
     "name": "stderr",
     "output_type": "stream",
     "text": [
      "Batches:   0%|          | 0/3 [00:00<?, ?it/s]/Users/esp.py/Projects/Personal/end-to-end-rag/.venv/lib/python3.10/site-packages/transformers/modeling_utils.py:1141: FutureWarning: The `device` argument is deprecated and will be removed in v5 of Transformers.\n",
      "  warnings.warn(\n",
      "Batches: 100%|██████████| 3/3 [00:09<00:00,  3.23s/it]\n"
     ]
    }
   ],
   "source": [
    "title_embeddings = sentence_transformer_model.encode(news_df[\"title\"].values.tolist(), show_progress_bar=True)"
   ]
  },
  {
   "cell_type": "code",
   "execution_count": 14,
   "metadata": {},
   "outputs": [
    {
     "data": {
      "text/plain": [
       "(72, 1024)"
      ]
     },
     "execution_count": 14,
     "metadata": {},
     "output_type": "execute_result"
    }
   ],
   "source": [
    "title_embeddings.shape"
   ]
  },
  {
   "cell_type": "code",
   "execution_count": 15,
   "metadata": {},
   "outputs": [],
   "source": [
    "from sklearn.cluster import KMeans"
   ]
  },
  {
   "cell_type": "code",
   "execution_count": 16,
   "metadata": {},
   "outputs": [],
   "source": [
    "from sklearn.metrics.pairwise import cosine_similarity\n",
    "from sklearn.metrics import silhouette_score\n",
    "from sklearn.decomposition import PCA"
   ]
  },
  {
   "cell_type": "code",
   "execution_count": 89,
   "metadata": {},
   "outputs": [],
   "source": [
    "def find_best_estimator(X):\n",
    "    K_mean_estimators = [\n",
    "        (f\"KMeans_{i}\", KMeans(n_clusters=i, random_state=42)) for i in range(2, X.shape[0])]\n",
    "    pca_estimator = PCA(n_components=X.shape[0])\n",
    "\n",
    "    best_estimator = None\n",
    "    best_metric = float(\"-inf\")\n",
    "    intertias  = []\n",
    "    for estimator_name, estimator in K_mean_estimators:\n",
    "        transformed_X = pca_estimator.fit_transform(X)\n",
    "        estimator.fit(transformed_X)\n",
    "        labels = estimator.labels_\n",
    "        score = silhouette_score(\n",
    "            transformed_X, labels)\n",
    "        if score > best_metric:\n",
    "            best_metric = score\n",
    "            best_estimator = estimator\n",
    "        intertias.append(estimator.inertia_)\n",
    "    return best_estimator, intertias"
   ]
  },
  {
   "cell_type": "code",
   "execution_count": 90,
   "metadata": {},
   "outputs": [],
   "source": [
    "best_estimator, intertias = find_best_estimator(title_embeddings)"
   ]
  },
  {
   "cell_type": "code",
   "execution_count": 91,
   "metadata": {},
   "outputs": [
    {
     "data": {
      "text/plain": [
       "1418.99951171875"
      ]
     },
     "execution_count": 91,
     "metadata": {},
     "output_type": "execute_result"
    }
   ],
   "source": [
    "best_estimator.inertia_"
   ]
  },
  {
   "cell_type": "code",
   "execution_count": 92,
   "metadata": {},
   "outputs": [],
   "source": [
    "import matplotlib.pyplot as plt"
   ]
  },
  {
   "cell_type": "code",
   "execution_count": 93,
   "metadata": {},
   "outputs": [
    {
     "data": {
      "text/plain": [
       "[<matplotlib.lines.Line2D at 0x2b7e41fc0>]"
      ]
     },
     "execution_count": 93,
     "metadata": {},
     "output_type": "execute_result"
    },
    {
     "data": {
      "image/png": "[encoded data removed]",
      "text/plain": [
       "<Figure size 640x480 with 1 Axes>"
      ]
     },
     "metadata": {},
     "output_type": "display_data"
    }
   ],
   "source": [
    "fig, ax = plt.subplots()\n",
    "ax.plot(range(2, title_embeddings.shape[0]), intertias)"
   ]
  },
  {
   "cell_type": "markdown",
   "metadata": {},
   "source": [
    "We can see that the shiloulette score does never reach 1, the maximum I can get is 0.12, which indicate that all my cluster a overlaping and k mean does not perform very well here. Let me a hierachical clustering approach."
   ]
  },
  {
   "cell_type": "code",
   "execution_count": 21,
   "metadata": {},
   "outputs": [],
   "source": [
    "from sklearn.metrics import silhouette_samples"
   ]
  },
  {
   "cell_type": "code",
   "execution_count": 22,
   "metadata": {},
   "outputs": [],
   "source": [
    "sample_silhouette_values = silhouette_samples(title_embeddings, best_estimator.labels_)"
   ]
  },
  {
   "cell_type": "markdown",
   "metadata": {},
   "source": [
    "HDBSCan"
   ]
  },
  {
   "cell_type": "code",
   "execution_count": 23,
   "metadata": {},
   "outputs": [],
   "source": [
    "import hdbscan"
   ]
  },
  {
   "cell_type": "code",
   "execution_count": 55,
   "metadata": {},
   "outputs": [],
   "source": [
    "clustered = hdbscan.HDBSCAN(min_cluster_size=6, min_samples=3, cluster_selection_epsilon=0.75).fit(title_embeddings)"
   ]
  },
  {
   "cell_type": "code",
   "execution_count": 56,
   "metadata": {},
   "outputs": [
    {
     "data": {
      "text/plain": [
       "array([-1, -1, -1, -1, -1, -1, -1, -1, -1, -1, -1,  1, -1,  0, -1, -1, -1,\n",
       "       -1, -1, -1,  0,  1,  1, -1, -1, -1, -1, -1,  1,  0, -1,  0, -1,  1,\n",
       "       -1,  1, -1,  1, -1, -1,  1, -1, -1,  1, -1, -1, -1, -1, -1, -1, -1,\n",
       "       -1, -1, -1, -1, -1,  1, -1, -1, -1,  0, -1,  0,  1,  0,  1, -1,  1,\n",
       "       -1, -1, -1, -1])"
      ]
     },
     "execution_count": 56,
     "metadata": {},
     "output_type": "execute_result"
    }
   ],
   "source": [
    "clustered.labels_"
   ]
  },
  {
   "cell_type": "markdown",
   "metadata": {},
   "source": [
    "Hiearchical clustering"
   ]
  },
  {
   "cell_type": "code",
   "execution_count": 60,
   "metadata": {},
   "outputs": [],
   "source": [
    "from sklearn.neighbors import kneighbors_graph\n",
    "\n",
    "connectivity = kneighbors_graph(title_embeddings, n_neighbors=10, include_self=False, metric=\"cosine\")"
   ]
  },
  {
   "cell_type": "code",
   "execution_count": 63,
   "metadata": {},
   "outputs": [],
   "source": [
    "from sklearn.cluster import AgglomerativeClustering\n",
    "import time"
   ]
  },
  {
   "cell_type": "code",
   "execution_count": 95,
   "metadata": {},
   "outputs": [],
   "source": [
    "similarities = sentence_transformer_model.similarity(title_embeddings, title_embeddings)"
   ]
  },
  {
   "cell_type": "code",
   "execution_count": 96,
   "metadata": {},
   "outputs": [],
   "source": [
    "cosine_distance = 1 - similarities"
   ]
  },
  {
   "cell_type": "code",
   "execution_count": 181,
   "metadata": {},
   "outputs": [
    {
     "name": "stdout",
     "output_type": "stream",
     "text": [
      "Compute structured hierarchical clustering...\n"
     ]
    }
   ],
   "source": [
    "print(\"Compute structured hierarchical clustering...\")\n",
    "st = time.time()\n",
    "agglomerative = AgglomerativeClustering(connectivity=connectivity,\n",
    "                                        linkage=\"complete\",\n",
    "                                        metric=\"cosine\",\n",
    "                                        n_clusters=6)\n",
    "                                        \n",
    "agglomerative.fit(title_embeddings)\n",
    "mean_shilouette_score = silhouette_score(title_embeddings, agglomerative.labels_)\n",
    "elapsed_time = time.time() - st\n",
    "label = agglomerative.labels_"
   ]
  },
  {
   "cell_type": "code",
   "execution_count": 182,
   "metadata": {},
   "outputs": [
    {
     "data": {
      "text/plain": [
       "array([0, 0, 1, 1, 0, 0, 1, 0, 0, 0, 0, 0, 0, 0, 1, 0, 0, 0, 0, 0, 0, 1,\n",
       "       0, 1, 0, 0, 0, 0, 0, 0, 3, 0, 0, 0, 0, 0, 1, 0, 1, 0, 0, 5, 0, 0,\n",
       "       1, 0, 0, 0, 2, 0, 0, 0, 4, 0, 0, 0, 0, 1, 0, 1, 0, 1, 0, 0, 1, 0,\n",
       "       0, 0, 1, 1, 0, 0])"
      ]
     },
     "execution_count": 182,
     "metadata": {},
     "output_type": "execute_result"
    }
   ],
   "source": [
    "label"
   ]
  },
  {
   "cell_type": "code",
   "execution_count": 183,
   "metadata": {},
   "outputs": [],
   "source": [
    "news_df[\"labels_agglomerative\"] = label"
   ]
  },
  {
   "cell_type": "code",
   "execution_count": 184,
   "metadata": {},
   "outputs": [],
   "source": [
    "def analyse_embeddings(dataframe, embeddings, index, label_column=\"labels\"):\n",
    "    \"\"\" take an matrix of embeddings, and the labels.\n",
    "    for each label compute the cosine similarity of document with that label.\n",
    "    \"\"\"\n",
    "    document_in_index = dataframe.query(f\"{label_column} == {index}\")\n",
    "    with pd.option_context('display.max_colwidth', None):\n",
    "        display(document_in_index.title)\n",
    "    document_index = document_in_index.index\n",
    "    vectors = embeddings[document_index]\n",
    "    return sentence_transformer_model.similarity(vectors,  vectors)"
   ]
  },
  {
   "cell_type": "code",
   "execution_count": 188,
   "metadata": {},
   "outputs": [
    {
     "data": {
      "text/plain": [
       "0                                                                                           Présence remarquée de l’ANAPI à la 14ème édition du Forum «EuropAfrica Investment» à Bruxelles\n",
       "1                                                                                              Mai-Ndombe : le gouvernement provincial publié, aucune femme nommée ministre | Actualite.cd\n",
       "4                                                                                              Elim/CAN 2025 : Toujours aussi poussifs, les Léopards font le strict minimum | Actualite.cd\n",
       "5                                                                                                                  Foot – Éliminatoires CAN 2025 : Troisième victoire de suite pour la RDC\n",
       "7     Matadi : le maire de la ville a comparu comme renseignant au procès du policier qui a ouvert le feu sur des élèves qui réclamaient la fin de la grève des enseignants | Actualite.cd\n",
       "8                                                                                             Ituri : les ADF attaquent deux villages à Mambasa, au moins trois civils tués | Actualite.cd\n",
       "9                                                                              Kwamouth: au moins dix miliciens Mobondo tués et des effets militaires récupérés par l'armée | Actualite.cd\n",
       "10                                                                                 Mai-Ndombe : près de 500 000 enfants attendus pour la vaccination contre la poliomyélite | Actualite.cd\n",
       "11                                                                                          Naufrage sur le lac Kivu: inhumation ce jeudi de 11 corps des habitants de Goma | Actualite.cd\n",
       "12                                                              Haut-Uele : au conseil communal de Mambaya, ouverture de la session de septembre sur fond de revendications | Actualite.cd\n",
       "13                                                                                                          RDC: Procès en appel dans l'affaire de tentative de coup d'Etat | Actualite.cd\n",
       "15                                                                        Affaire de la tentative de coup d’état en RDC : les 13 prévenus acquittés seront jugés par défaut | Actualite.cd\n",
       "16                                                                                             FICKIN : les ateliers de formation, pour investir dans les talents de demain | Actualite.cd\n",
       "17                                          inDrive lance un service révolutionnaire de transport avec chauffeur à Kinshasa avec un modèle unique de négociation des tarifs | Actualite.cd\n",
       "18                                                                                Francophonie : après le Sommet de Paris, que devrait faire la RDC ? (Par Mabiala Ma-Umba) | Actualite.cd\n",
       "19                                                                                                                   La CNDH participe à une conférence sur les droits de l’homme à Moscou\n",
       "20                                         Conseil des droits de l’homme de l’ONU : Chantal Chambu salue le leadership du chef de l’État ayant conduit à l’élection de la RDC comme membre\n",
       "22                                       Réparation des victimes du conflit Kamuena Nsapu : le FONAREV fournit l’appui nécessaire à l’organisation des audiences foraines à Nkongolo Monji\n",
       "24                                                               Ituri : les commandants des unités FARDC reçoivent des instructions pour traquer les groupes armés réfractaires à la paix\n",
       "25                                                                                                                      Maniema : la campagne de vaccination contre la poliomyélite lancée\n",
       "26                                                                                                                     Lomami : Début de la campagne de vaccination contre la poliomyélite\n",
       "27                                                                                                                              Maniema : 8 présumés voleurs arrêtés par la Police à Kindu\n",
       "28                                                                                                Répression d'une marche des élèves au Kongo-Central : le maire de Matadi devant la barre\n",
       "29                                                                              Malgré son élection, « la RDC ne mérite pas de siéger au Conseil des droits de l'homme de l'ONU » (Diongo)\n",
       "31                                    Élection de la RDC au Conseil des droits de l'homme de l'ONU : \"lorsque le pays avance, il faut que tout le monde puisse souscrire\" (Patrick Muyaya)\n",
       "32                                                                                              Maniema/Kindu : la police présente de présumés bandits cueillis en pleine opération de vol\n",
       "33                              Mort de l'étudiante congolaise au Canada : Prince Epenge parle d'une conséquence d'abandon des Congolais de la diaspora par le régime de Félix Tshisekedi*\n",
       "34                                           Proposition de dialogue de Fayulu : « Tshisekedi manque de légitimité, avec qui devrions-nous dialoguer ? Et pour parler de quoi ? », Katumbi\n",
       "35                                      Front judiciaire international : le vice-ministre de la Justice chargé du contentieux international exprime la colère du peuple Congolais à la CPI\n",
       "37                                                                                   Kinshasa : l'AD de l'hôpital Biamba Marie Mutombo organise une cérémonie en hommage à Mutombo Dikembe\n",
       "39                                                                Affaire Alexandra : les possibilités de poursuite des enquêtes et de rapatrier le corps évoquées aux Affaires étrangères\n",
       "40                                                                    Goma : compromis trouvé entre le Gouvernement et les familles pour l’inhumation des victimes du naufrage au Lac Kivu\n",
       "42                                                                                               RDC-Canada : échange autour du rapatriement de la dépouille de l’étudiante morte à Québec\n",
       "43                                                                                             Kinshasa : une veillée mortuaire vendredi au Palais du Peuple en mémoire de Mutombo Dikembe\n",
       "45                                                                                                                   Le Gouvernement camerounais dément la rumeur sur la mort de Paul Biya\n",
       "46                Mémorandum des culturels : \" Nous réitérons notre attachement à la doctrine du kimbanguisme et à papa Simon Kimbangu qui est un patrimoine international \" (Déclaration)\n",
       "47                                                                                 Assemblée provinciale du Kongo-Central : le calendrier de la session ordinaire de septembre 2024 adopté\n",
       "49                                                                    Discussion avec les rebelles du M23 à Kampala : libération de Jean-Bosco Bahala après près de deux mois de détention\n",
       "50                                                                                 Infrastructures : Félix Tshisekedi inaugure Silikin Village, le plus grand hub d'entrepreneuriat en RDC\n",
       "51                                                                                                                     Les Kényans réagissent à la motion de destitution du vice-président\n",
       "53                                          Chez Augustin Kibassa Maliba, la société financière internationale se dit déterminée à accompagner la RDC pour booster le secteur des télécoms\n",
       "54                                         JM de la Poste : Augustin Kibassa Maliba pour une avancée technologique permettant au service postal universel de toucher chaque coin de la RDC\n",
       "55                                           Processus de Luanda et de Nairobi : le soutien de l’UE à la stabilisation de la RDC au cœur des échanges entre Gracia Yamba et Johan Borgstam\n",
       "56                                            RDC: Dikembe Mutombo admis à titre posthume dans l’Ordre National “Héros Nationaux” Kabila-Lumumba au grade de Grand Officier | Actualite.cd\n",
       "58                                                                             Haut-Uele : Jean Obote Sirika propose le développement de la province sur les modèles inspirés du Nord-Kivu\n",
       "60         Élection de la RDC au Conseil des droits de l’Homme : la reconnaissance de la marche vers un état de droit initiée par le Président Tshisekedi (Par Tina Salama) | Actualite.cd\n",
       "62                                          Incident au 19e sommet de l’OIF:  » la RDC ne doit ni suspendre, ni se retirer de la francophonie (Tribune du député national Joseph Bangakya)\n",
       "63                                                                                                                  Mpox au Kwilu : 9 morts sur plus de 200 cas enregistrés | Actualite.cd\n",
       "65                                                               Kinshasa : le nouveau Hub d’entrepreneuriat et d’innovation de Silikin Village inauguré par le président de la République\n",
       "66                                                                                                     Mpox: l'Ituri a envoyé des échantillons de six cas suspects à l'INRB | Actualite.cd\n",
       "67                                                   RDC : Mutombo Dikembe élevé au rang de grand officier dans l’ordre des « Héros nationaux Kabila-Lumumba » (Ordonnance présidentielle)\n",
       "70                                                                                                                      Foot – Éliminatoires CAN : la RDC se rapproche de la qualification\n",
       "71                                                                                            Plus de 47 000 personnes visées par la vaccination contre le Mpox au Sud-Kivu | Actualite.cd\n",
       "Name: title, dtype: object"
      ]
     },
     "metadata": {},
     "output_type": "display_data"
    },
    {
     "data": {
      "text/plain": [
       "tensor([[1.0000, 0.4427, 0.4753,  ..., 0.4963, 0.4838, 0.5261],\n",
       "        [0.4427, 1.0000, 0.5547,  ..., 0.5234, 0.4849, 0.5301],\n",
       "        [0.4753, 0.5547, 1.0000,  ..., 0.4628, 0.6724, 0.5213],\n",
       "        ...,\n",
       "        [0.4963, 0.5234, 0.4628,  ..., 1.0000, 0.5179, 0.5628],\n",
       "        [0.4838, 0.4849, 0.6724,  ..., 0.5179, 1.0000, 0.5042],\n",
       "        [0.5261, 0.5301, 0.5213,  ..., 0.5628, 0.5042, 1.0000]])"
      ]
     },
     "execution_count": 188,
     "metadata": {},
     "output_type": "execute_result"
    }
   ],
   "source": [
    "analyse_embeddings(news_df, title_embeddings, 0, \"labels_agglomerative\")"
   ]
  },
  {
   "cell_type": "code",
   "execution_count": 175,
   "metadata": {},
   "outputs": [
    {
     "data": {
      "text/html": [
       "<div>\n",
       "<style scoped>\n",
       "    .dataframe tbody tr th:only-of-type {\n",
       "        vertical-align: middle;\n",
       "    }\n",
       "\n",
       "    .dataframe tbody tr th {\n",
       "        vertical-align: top;\n",
       "    }\n",
       "\n",
       "    .dataframe thead th {\n",
       "        text-align: right;\n",
       "    }\n",
       "</style>\n",
       "<table border=\"1\" class=\"dataframe\">\n",
       "  <thead>\n",
       "    <tr style=\"text-align: right;\">\n",
       "      <th></th>\n",
       "      <th>Unnamed: 0</th>\n",
       "      <th>content</th>\n",
       "      <th>title</th>\n",
       "      <th>posted_at</th>\n",
       "      <th>url</th>\n",
       "      <th>labels</th>\n",
       "      <th>labels_db_scan</th>\n",
       "      <th>labels_agglomerative</th>\n",
       "    </tr>\n",
       "  </thead>\n",
       "  <tbody>\n",
       "    <tr>\n",
       "      <th>2</th>\n",
       "      <td>2</td>\n",
       "      <td>VODACASH S.A, filiale de Vodacom Congo (RDC) S...</td>\n",
       "      <td>Partenariat stratégique entre VODACASH et la S...</td>\n",
       "      <td>2024-10-10 00:00:00</td>\n",
       "      <td>https://econewsrdc.com/partenariat-strategique...</td>\n",
       "      <td>3</td>\n",
       "      <td>-1</td>\n",
       "      <td>0</td>\n",
       "    </tr>\n",
       "    <tr>\n",
       "      <th>3</th>\n",
       "      <td>3</td>\n",
       "      <td>octobre 10, 2024 Kinshasa- Financement des tra...</td>\n",
       "      <td>Kinshasa- Financement des travaux du projet 3 ...</td>\n",
       "      <td>2024-10-10 00:00:00</td>\n",
       "      <td>https://depeche.cd/2024/10/10/kinshasa-finance...</td>\n",
       "      <td>1</td>\n",
       "      <td>-1</td>\n",
       "      <td>0</td>\n",
       "    </tr>\n",
       "    <tr>\n",
       "      <th>6</th>\n",
       "      <td>6</td>\n",
       "      <td>octobre 10, 2024 Allemagne : “Le Président Tsh...</td>\n",
       "      <td>Allemagne : “Le Président Tshisekedi a déjà fa...</td>\n",
       "      <td>2024-10-10 00:00:00</td>\n",
       "      <td>https://depeche.cd/2024/10/10/allemagne-le-pre...</td>\n",
       "      <td>11</td>\n",
       "      <td>-1</td>\n",
       "      <td>0</td>\n",
       "    </tr>\n",
       "    <tr>\n",
       "      <th>14</th>\n",
       "      <td>14</td>\n",
       "      <td>La Fédération de la République Démocratique du...</td>\n",
       "      <td>Tennis: La FRDCT participe à l’Assemblée Génér...</td>\n",
       "      <td>2024-10-10 14:54:00</td>\n",
       "      <td>https://actualite.cd/2024/10/10/tennis-la-frdc...</td>\n",
       "      <td>4</td>\n",
       "      <td>-1</td>\n",
       "      <td>0</td>\n",
       "    </tr>\n",
       "    <tr>\n",
       "      <th>21</th>\n",
       "      <td>21</td>\n",
       "      <td>Fabriqués par des ex-kuluna devenus bâtisseurs...</td>\n",
       "      <td>Jacquemain Shabani remet officiellement à 15 c...</td>\n",
       "      <td>2024-10-10 07:34:37</td>\n",
       "      <td>https://actu30.cd/2024/10/jacquemain-shabani-r...</td>\n",
       "      <td>1</td>\n",
       "      <td>-1</td>\n",
       "      <td>0</td>\n",
       "    </tr>\n",
       "    <tr>\n",
       "      <th>23</th>\n",
       "      <td>23</td>\n",
       "      <td>Cet événement, organisé par Louise Nzanga Rama...</td>\n",
       "      <td>RDC : Judith Suminwa renforce les liens avec l...</td>\n",
       "      <td>2024-10-10 11:56:44</td>\n",
       "      <td>https://actu30.cd/2024/10/rdc-judith-suminwa-r...</td>\n",
       "      <td>11</td>\n",
       "      <td>-1</td>\n",
       "      <td>0</td>\n",
       "    </tr>\n",
       "    <tr>\n",
       "      <th>36</th>\n",
       "      <td>36</td>\n",
       "      <td>Dans un mémorandum adressé au président de l'A...</td>\n",
       "      <td>Dossier forage : l'Assemblée nationale appelée...</td>\n",
       "      <td>2024-10-10 00:00:00</td>\n",
       "      <td>https://www.mediacongo.net/article-actualite-1...</td>\n",
       "      <td>7</td>\n",
       "      <td>-1</td>\n",
       "      <td>0</td>\n",
       "    </tr>\n",
       "    <tr>\n",
       "      <th>38</th>\n",
       "      <td>38</td>\n",
       "      <td>En séjour en Allemagne dans le cadre de la con...</td>\n",
       "      <td>Allemagne : Judith Suminwa échange avec la dia...</td>\n",
       "      <td>2024-10-10 00:00:00</td>\n",
       "      <td>https://www.mediacongo.net/article-actualite-1...</td>\n",
       "      <td>11</td>\n",
       "      <td>-1</td>\n",
       "      <td>0</td>\n",
       "    </tr>\n",
       "    <tr>\n",
       "      <th>44</th>\n",
       "      <td>44</td>\n",
       "      <td>Les médecins du syndicat libre des médecins on...</td>\n",
       "      <td>Santé publique : les médecins du syndicat libr...</td>\n",
       "      <td>2024-10-10 00:00:00</td>\n",
       "      <td>https://www.mediacongo.net/article-actualite-1...</td>\n",
       "      <td>2</td>\n",
       "      <td>-1</td>\n",
       "      <td>0</td>\n",
       "    </tr>\n",
       "    <tr>\n",
       "      <th>57</th>\n",
       "      <td>57</td>\n",
       "      <td>Le cadastre minier (CAMI) a organisé la troisi...</td>\n",
       "      <td>Mines : Kizito Pakabomba veut assainir les min...</td>\n",
       "      <td>2024-10-10 20:26:00</td>\n",
       "      <td>https://actualite.cd/2024/10/10/mines-kizito-p...</td>\n",
       "      <td>1</td>\n",
       "      <td>-1</td>\n",
       "      <td>0</td>\n",
       "    </tr>\n",
       "    <tr>\n",
       "      <th>59</th>\n",
       "      <td>59</td>\n",
       "      <td>Une messe noire a été célébré, selon les fins ...</td>\n",
       "      <td>Portefeuille : S’opposant à l’idée de réduire ...</td>\n",
       "      <td>2024-10-10 06:34:11</td>\n",
       "      <td>https://scooprdc.net/2024/10/10/portefeuille-s...</td>\n",
       "      <td>1</td>\n",
       "      <td>-1</td>\n",
       "      <td>0</td>\n",
       "    </tr>\n",
       "    <tr>\n",
       "      <th>61</th>\n",
       "      <td>61</td>\n",
       "      <td>Lors du dialogue interactif renforcé sur la si...</td>\n",
       "      <td>Le Haut Commissaire aux droits de l’homme inqu...</td>\n",
       "      <td>2024-10-10 11:00:00</td>\n",
       "      <td>https://actualite.cd/2024/10/10/le-haut-commis...</td>\n",
       "      <td>2</td>\n",
       "      <td>1</td>\n",
       "      <td>0</td>\n",
       "    </tr>\n",
       "    <tr>\n",
       "      <th>64</th>\n",
       "      <td>64</td>\n",
       "      <td>D’après l’assemblée nationale congolaise, les ...</td>\n",
       "      <td>RDC – France : Vital Kamerhe et son homologue ...</td>\n",
       "      <td>2024-10-10 16:41:27</td>\n",
       "      <td>https://actu30.cd/2024/10/rdc-france-vital-kam...</td>\n",
       "      <td>11</td>\n",
       "      <td>-1</td>\n",
       "      <td>0</td>\n",
       "    </tr>\n",
       "    <tr>\n",
       "      <th>68</th>\n",
       "      <td>68</td>\n",
       "      <td>Sur instruction du Président de la République,...</td>\n",
       "      <td>RDC : Le Service National équipe 15 communes d...</td>\n",
       "      <td>2024-10-10 07:45:00</td>\n",
       "      <td>https://actualite.cd/2024/10/10/rdc-le-service...</td>\n",
       "      <td>1</td>\n",
       "      <td>0</td>\n",
       "      <td>0</td>\n",
       "    </tr>\n",
       "    <tr>\n",
       "      <th>69</th>\n",
       "      <td>69</td>\n",
       "      <td>L’ultimatum de 72h lancé le 07 octobre 2024 pa...</td>\n",
       "      <td>Kinshasa: les préalables à l’élaboration et à ...</td>\n",
       "      <td>2024-10-10 19:32:00</td>\n",
       "      <td>https://actualite.cd/2024/10/10/kinshasa-les-p...</td>\n",
       "      <td>1</td>\n",
       "      <td>-1</td>\n",
       "      <td>0</td>\n",
       "    </tr>\n",
       "  </tbody>\n",
       "</table>\n",
       "</div>"
      ],
      "text/plain": [
       "    Unnamed: 0                                            content  \\\n",
       "2            2  VODACASH S.A, filiale de Vodacom Congo (RDC) S...   \n",
       "3            3  octobre 10, 2024 Kinshasa- Financement des tra...   \n",
       "6            6  octobre 10, 2024 Allemagne : “Le Président Tsh...   \n",
       "14          14  La Fédération de la République Démocratique du...   \n",
       "21          21  Fabriqués par des ex-kuluna devenus bâtisseurs...   \n",
       "23          23  Cet événement, organisé par Louise Nzanga Rama...   \n",
       "36          36  Dans un mémorandum adressé au président de l'A...   \n",
       "38          38  En séjour en Allemagne dans le cadre de la con...   \n",
       "44          44  Les médecins du syndicat libre des médecins on...   \n",
       "57          57  Le cadastre minier (CAMI) a organisé la troisi...   \n",
       "59          59  Une messe noire a été célébré, selon les fins ...   \n",
       "61          61  Lors du dialogue interactif renforcé sur la si...   \n",
       "64          64  D’après l’assemblée nationale congolaise, les ...   \n",
       "68          68  Sur instruction du Président de la République,...   \n",
       "69          69  L’ultimatum de 72h lancé le 07 octobre 2024 pa...   \n",
       "\n",
       "                                                title            posted_at  \\\n",
       "2   Partenariat stratégique entre VODACASH et la S...  2024-10-10 00:00:00   \n",
       "3   Kinshasa- Financement des travaux du projet 3 ...  2024-10-10 00:00:00   \n",
       "6   Allemagne : “Le Président Tshisekedi a déjà fa...  2024-10-10 00:00:00   \n",
       "14  Tennis: La FRDCT participe à l’Assemblée Génér...  2024-10-10 14:54:00   \n",
       "21  Jacquemain Shabani remet officiellement à 15 c...  2024-10-10 07:34:37   \n",
       "23  RDC : Judith Suminwa renforce les liens avec l...  2024-10-10 11:56:44   \n",
       "36  Dossier forage : l'Assemblée nationale appelée...  2024-10-10 00:00:00   \n",
       "38  Allemagne : Judith Suminwa échange avec la dia...  2024-10-10 00:00:00   \n",
       "44  Santé publique : les médecins du syndicat libr...  2024-10-10 00:00:00   \n",
       "57  Mines : Kizito Pakabomba veut assainir les min...  2024-10-10 20:26:00   \n",
       "59  Portefeuille : S’opposant à l’idée de réduire ...  2024-10-10 06:34:11   \n",
       "61  Le Haut Commissaire aux droits de l’homme inqu...  2024-10-10 11:00:00   \n",
       "64  RDC – France : Vital Kamerhe et son homologue ...  2024-10-10 16:41:27   \n",
       "68  RDC : Le Service National équipe 15 communes d...  2024-10-10 07:45:00   \n",
       "69  Kinshasa: les préalables à l’élaboration et à ...  2024-10-10 19:32:00   \n",
       "\n",
       "                                                  url  labels  labels_db_scan  \\\n",
       "2   https://econewsrdc.com/partenariat-strategique...       3              -1   \n",
       "3   https://depeche.cd/2024/10/10/kinshasa-finance...       1              -1   \n",
       "6   https://depeche.cd/2024/10/10/allemagne-le-pre...      11              -1   \n",
       "14  https://actualite.cd/2024/10/10/tennis-la-frdc...       4              -1   \n",
       "21  https://actu30.cd/2024/10/jacquemain-shabani-r...       1              -1   \n",
       "23  https://actu30.cd/2024/10/rdc-judith-suminwa-r...      11              -1   \n",
       "36  https://www.mediacongo.net/article-actualite-1...       7              -1   \n",
       "38  https://www.mediacongo.net/article-actualite-1...      11              -1   \n",
       "44  https://www.mediacongo.net/article-actualite-1...       2              -1   \n",
       "57  https://actualite.cd/2024/10/10/mines-kizito-p...       1              -1   \n",
       "59  https://scooprdc.net/2024/10/10/portefeuille-s...       1              -1   \n",
       "61  https://actualite.cd/2024/10/10/le-haut-commis...       2               1   \n",
       "64  https://actu30.cd/2024/10/rdc-france-vital-kam...      11              -1   \n",
       "68  https://actualite.cd/2024/10/10/rdc-le-service...       1               0   \n",
       "69  https://actualite.cd/2024/10/10/kinshasa-les-p...       1              -1   \n",
       "\n",
       "    labels_agglomerative  \n",
       "2                      0  \n",
       "3                      0  \n",
       "6                      0  \n",
       "14                     0  \n",
       "21                     0  \n",
       "23                     0  \n",
       "36                     0  \n",
       "38                     0  \n",
       "44                     0  \n",
       "57                     0  \n",
       "59                     0  \n",
       "61                     0  \n",
       "64                     0  \n",
       "68                     0  \n",
       "69                     0  "
      ]
     },
     "execution_count": 175,
     "metadata": {},
     "output_type": "execute_result"
    }
   ],
   "source": [
    "news_df.query(\"labels_agglomerative == 0\")"
   ]
  },
  {
   "cell_type": "code",
   "execution_count": 77,
   "metadata": {},
   "outputs": [],
   "source": [
    "import numpy as np"
   ]
  },
  {
   "cell_type": "code",
   "execution_count": 80,
   "metadata": {},
   "outputs": [],
   "source": [
    "pca = PCA(n_components=2)\n",
    "pca_embeddings = pca.fit_transform(title_embeddings)"
   ]
  },
  {
   "cell_type": "code",
   "execution_count": 84,
   "metadata": {},
   "outputs": [
    {
     "data": {
      "image/png": "[encoded data removed]",
      "text/plain": [
       "<Figure size 640x480 with 1 Axes>"
      ]
     },
     "metadata": {},
     "output_type": "display_data"
    }
   ],
   "source": [
    "import matplotlib.pyplot as plt\n",
    "\n",
    "fig1 = plt.figure()\n",
    "ax1 = fig1.add_subplot(111)\n",
    "ax1.set_position([0, 0, 0.95, 1])\n",
    "for l in np.unique(label):\n",
    "    ax1.scatter(\n",
    "        pca_embeddings[label == l, 0],\n",
    "        pca_embeddings[label == l, 1],\n",
    "        color=plt.cm.jet(float(l) / np.max(label + 1)),\n",
    "        s=20,\n",
    "        edgecolor=\"k\",\n",
    "    )\n",
    "_ = fig1.suptitle(\n",
    "    f\"Without connectivity constraints (time {elapsed_time:.2f}s)\")"
   ]
  },
  {
   "cell_type": "markdown",
   "metadata": {},
   "source": []
  }
 ],
 "metadata": {
  "kernelspec": {
   "display_name": ".venv",
   "language": "python",
   "name": "python3"
  },
  "language_info": {
   "codemirror_mode": {
    "name": "ipython",
    "version": 3
   },
   "file_extension": ".py",
   "mimetype": "text/x-python",
   "name": "python",
   "nbconvert_exporter": "python",
   "pygments_lexer": "ipython3",
   "version": "3.10.4"
  }
 },
 "nbformat": 4,
 "nbformat_minor": 2
}
