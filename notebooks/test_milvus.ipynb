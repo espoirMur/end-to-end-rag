{
 "cells": [
  {
   "cell_type": "code",
   "execution_count": 1,
   "metadata": {},
   "outputs": [],
   "source": [
    "from src.rag.components.shared.io import IOManager"
   ]
  },
  {
   "cell_type": "code",
   "execution_count": 2,
   "metadata": {},
   "outputs": [],
   "source": [
    "from pathlib import Path"
   ]
  },
  {
   "cell_type": "code",
   "execution_count": 3,
   "metadata": {},
   "outputs": [],
   "source": [
    "output_path = Path.cwd().joinpath(\"datasets\", \"parsed_documents_with_embeddings\")\n",
    "io_manager = IOManager(output_path)"
   ]
  },
  {
   "cell_type": "code",
   "execution_count": 4,
   "metadata": {},
   "outputs": [
    {
     "data": {
      "text/plain": [
       "True"
      ]
     },
     "execution_count": 4,
     "metadata": {},
     "output_type": "execute_result"
    }
   ],
   "source": [
    "io_manager.document_path.exists()"
   ]
  },
  {
   "cell_type": "code",
   "execution_count": 5,
   "metadata": {},
   "outputs": [],
   "source": [
    "chunk_size = 5\n",
    "all_documents = []\n",
    "for i in range(0, 20, chunk_size):\n",
    "\tdocuments = io_manager.load_documents(i, i + chunk_size)\n",
    "\tall_documents.extend(documents)"
   ]
  },
  {
   "cell_type": "code",
   "execution_count": 6,
   "metadata": {},
   "outputs": [],
   "source": [
    "# generate a random number between 0 and 20\n",
    "import random\n",
    "random_number = random.randint(0, 20)"
   ]
  },
  {
   "cell_type": "code",
   "execution_count": 7,
   "metadata": {},
   "outputs": [],
   "source": [
    "sample_doc = all_documents[random_number]"
   ]
  },
  {
   "cell_type": "code",
   "execution_count": 8,
   "metadata": {},
   "outputs": [],
   "source": [
    "nodes = sample_doc.convert_to_milvus()"
   ]
  },
  {
   "cell_type": "code",
   "execution_count": 9,
   "metadata": {},
   "outputs": [
    {
     "data": {
      "text/plain": [
       "'passage: \\nUSE OUR FLOW CHART TO SEE \\nWHICH ACCOMMODATION IS BEST \\nFOR YOU... <br><br>I require an \\nadapted \\nroom*<br><br>Yes \\nNo <br><br>I would like to \\nbe closer to \\nthe town \\ncentre and \\nother local \\namenities \\nI don’t mind \\nbeing slightly \\nout of the \\ncentre of \\ncampus  I don’t mind a \\nshort \\n(picturesque) \\nstroll to \\ncampus \\nI want to be \\nclose to the \\ncentre of \\ncampus  I want to be \\nclose to the \\ncentre of \\ncampus \\nI like the idea \\nof a 4 foot \\nbed <br><br>Copse \\n(UG Only) \\nStudio flats \\nalso available  I like the finer \\nthings in life \\n(and a 4 foot \\nbed) \\nI’m looking \\nfor a social \\nvibe  I’m looking \\nfor a social \\nvibe \\nI’m after a \\nchilled vibe  I’m after a \\nchilled vibe  Quays \\n(UG & PG) \\nMeadows <br><br>I want to keep \\nit as cheap as \\npossible & \\ndon’t mind \\nsharing a \\nbathroom \\nI don’t mind \\nsharing a \\nbathroom \\nwith 1 other \\nperson \\nCopse \\n(UG Only) \\nStudio flats \\nalso available <br><br>Houses \\n(UG Only)  South Courts \\n(UG Only)  Houses \\n(UG Only)  I’d like an en- \\nsuite  I’d like an en- \\nsuite <br><br>Meadows \\nCluster Flat \\n(UG & PG)  Meadows \\nTownhouse \\n(UG Only) \\nSouth Courts \\n(UG Only) \\nTowers <br><br>I want to be \\nclose to the gym \\n(& live in newly \\nrenovated \\naccommodation)  I want to be \\nclose to the \\nlibrary and \\nstudy spaces <br><br>North Towers \\n(UG & PG)  South Towers \\n(UG Only) <br><br>*Adapted rooms are suitable for wheelchair access, include a deaf \\nalarm and emergency call point/panic alarm- please contact \\ninclude@essex.ac.uk for further information '"
      ]
     },
     "execution_count": 9,
     "metadata": {},
     "output_type": "execute_result"
    }
   ],
   "source": [
    "nodes[0].get(\"text\")"
   ]
  },
  {
   "cell_type": "code",
   "execution_count": 10,
   "metadata": {},
   "outputs": [],
   "source": [
    "from src.rag.components.shared.databases.milvus import MilvusDatabase"
   ]
  },
  {
   "cell_type": "code",
   "execution_count": 11,
   "metadata": {},
   "outputs": [],
   "source": [
    "COLLECTION_NAME = \"my_collection\""
   ]
  },
  {
   "cell_type": "code",
   "execution_count": 12,
   "metadata": {},
   "outputs": [],
   "source": [
    "from src.rag.components.shared.databases.milvus_settings import MilvusSettings"
   ]
  },
  {
   "cell_type": "code",
   "execution_count": 13,
   "metadata": {},
   "outputs": [],
   "source": [
    "COLLECTION_NAME = \"my_collection\""
   ]
  },
  {
   "cell_type": "code",
   "execution_count": 14,
   "metadata": {},
   "outputs": [],
   "source": [
    "settings = MilvusSettings(\n",
    "    uri=\"http://localhost:19530\",\n",
    "    collection_name=COLLECTION_NAME,\n",
    "    vector_dimension=1024,\n",
    ")"
   ]
  },
  {
   "cell_type": "code",
   "execution_count": 15,
   "metadata": {},
   "outputs": [
    {
     "name": "stdout",
     "output_type": "stream",
     "text": [
      "\u001b[32m2025-05-28 23:23:52 | INFO     | milvus_database:connect:27 | Connecting to Milvus...\u001b[0m\n",
      "\u001b[32m2025-05-28 23:23:52 | INFO     | milvus_database:connect:31 | Connected to Milvus successfully.\u001b[0m\n"
     ]
    }
   ],
   "source": [
    "milvus_client = MilvusDatabase(\n",
    "    milvus_settings=settings\n",
    ")"
   ]
  },
  {
   "cell_type": "code",
   "execution_count": 16,
   "metadata": {},
   "outputs": [
    {
     "name": "stdout",
     "output_type": "stream",
     "text": [
      "\u001b[32m2025-05-28 23:23:53 | INFO     | milvus_database:connect:27 | Connecting to Milvus...\u001b[0m\n",
      "\u001b[32m2025-05-28 23:23:53 | INFO     | milvus_database:connect:31 | Connected to Milvus successfully.\u001b[0m\n"
     ]
    }
   ],
   "source": [
    "milvus_client.connect()"
   ]
  },
  {
   "cell_type": "code",
   "execution_count": 17,
   "metadata": {},
   "outputs": [
    {
     "name": "stdout",
     "output_type": "stream",
     "text": [
      "\u001b[32m2025-05-28 23:23:53 | INFO     | milvus_database:create_index_if_not_exists:43 | Collection 'my_collection' already exists.\u001b[0m\n"
     ]
    }
   ],
   "source": [
    "milvus_client.create_index_if_not_exists()"
   ]
  },
  {
   "cell_type": "code",
   "execution_count": 18,
   "metadata": {},
   "outputs": [
    {
     "data": {
      "text/plain": [
       "data: [\"{'count(*)': 23050}\"]"
      ]
     },
     "execution_count": 18,
     "metadata": {},
     "output_type": "execute_result"
    }
   ],
   "source": [
    "milvus_client.client.query(collection_name=COLLECTION_NAME, output_fields=[\"count(*)\"])"
   ]
  },
  {
   "cell_type": "code",
   "execution_count": 19,
   "metadata": {},
   "outputs": [
    {
     "name": "stderr",
     "output_type": "stream",
     "text": [
      "/Users/esp.py/Projects/Personal/end-to-end-rag/.venv/lib/python3.10/site-packages/tqdm/auto.py:21: TqdmWarning: IProgress not found. Please update jupyter and ipywidgets. See https://ipywidgets.readthedocs.io/en/stable/user_install.html\n",
      "  from .autonotebook import tqdm as notebook_tqdm\n"
     ]
    }
   ],
   "source": [
    "from sentence_transformers import SentenceTransformer"
   ]
  },
  {
   "cell_type": "code",
   "execution_count": 20,
   "metadata": {},
   "outputs": [],
   "source": [
    "\n",
    "embedding_model_name = \"intfloat/multilingual-e5-large\""
   ]
  },
  {
   "cell_type": "code",
   "execution_count": 21,
   "metadata": {},
   "outputs": [],
   "source": [
    "embedding_model = SentenceTransformer(embedding_model_name)"
   ]
  },
  {
   "cell_type": "code",
   "execution_count": 50,
   "metadata": {},
   "outputs": [],
   "source": [
    "test_questions = [\"query: what is dependency injection?\"]"
   ]
  },
  {
   "cell_type": "code",
   "execution_count": 51,
   "metadata": {},
   "outputs": [],
   "source": [
    "question_embeddings  = embedding_model.encode(test_questions, convert_to_tensor=True)"
   ]
  },
  {
   "cell_type": "code",
   "execution_count": 52,
   "metadata": {},
   "outputs": [],
   "source": [
    "question_embeddings = question_embeddings.cpu().numpy()\n",
    "\n"
   ]
  },
  {
   "cell_type": "code",
   "execution_count": null,
   "metadata": {},
   "outputs": [],
   "source": []
  },
  {
   "cell_type": "code",
   "execution_count": 54,
   "metadata": {},
   "outputs": [],
   "source": [
    "responses = milvus_client.client.search(\n",
    "    collection_name=COLLECTION_NAME,\n",
    "    data=question_embeddings,\n",
    "    limit=5,\n",
    "    output_fields=[\"node_id\", \"text\",\n",
    "                   \"metadata\", \"bbox\", \"elements\"],\n",
    "    params={\"metric_type\": \"COSINE\"}\n",
    ")"
   ]
  },
  {
   "cell_type": "code",
   "execution_count": 55,
   "metadata": {},
   "outputs": [
    {
     "data": {
      "text/plain": [
       "1"
      ]
     },
     "execution_count": 55,
     "metadata": {},
     "output_type": "execute_result"
    }
   ],
   "source": [
    "len(responses)\n"
   ]
  },
  {
   "cell_type": "code",
   "execution_count": 56,
   "metadata": {},
   "outputs": [
    {
     "data": {
      "text/plain": [
       "data: [[{'node_id': 'c4c3284b-2795-424c-97dd-177c03b4417f', 'distance': 0.8030880093574524, 'entity': {'bbox': [{'page': 7, 'page_height': 414.0, 'page_width': 735.12, 'x0': 379.34, 'y0': 265.31, 'x1': 680.9, 'y1': 356.63}], 'elements': [], 'node_id': 'c4c3284b-2795-424c-97dd-177c03b4417f', 'text': 'passage: Adipisicing Lorem et quis magna consequat ut irure <br><br>tempor eu dolor nisi. Do irure in cupidatat laborum <br><br>occaecat officia non nisi non amet mollit duis <br><br>ullamco. Duis amet velit sint consectetur. Fugiat <br><br>magna cillum cillum do voluptate. Dolore fugiat <br><br>voluptate veniam sint dolor anim. ', 'metadata': {'filename': 'slides.example.pdf', 'num_pages': 23, 'coordinate_system': 'bottom-left', 'table_parsing_kwargs': None, 'last_modified_date': '2024-10-08T00:00:00', 'last_accessed_date': '2025-02-21T00:00:00', 'creation_date': '2024-10-08T00:00:00', 'file_size': 683459}}}, {'node_id': 'b288673c-cf1c-4391-9e13-45452d2d3d03', 'distance': 0.8026291131973267, 'entity': {'bbox': [{'page': 4, 'page_height': 414.0, 'page_width': 735.12, 'x0': 41.84, 'y0': 287.81, 'x1': 662.66, 'y1': 325.13}], 'elements': [], 'node_id': 'b288673c-cf1c-4391-9e13-45452d2d3d03', 'text': 'passage: Eu mollit nulla voluptate dolore dolore tempor velit aliqua cillum irure quis ea. Aute laboris sit quis aliquip <br><br>tempor elit adipisicing duis in sint sit eiusmod exercitation consectetur. Ut deserunt qui veniam dolore sint <br><br>excepteur. Occaecat minim ea eu esse enim deserunt veniam ad ullamco nostrud est. ', 'metadata': {'filename': 'slides.example.pdf', 'num_pages': 23, 'coordinate_system': 'bottom-left', 'table_parsing_kwargs': None, 'last_modified_date': '2024-10-08T00:00:00', 'last_accessed_date': '2025-02-21T00:00:00', 'creation_date': '2024-10-08T00:00:00', 'file_size': 683459}}}, {'node_id': '1c296d1b-2434-4d0c-bce1-95c9ab1770a2', 'distance': 0.8013351559638977, 'entity': {'bbox': [{'page': 5, 'page_height': 661.5, 'page_width': 504.0, 'x0': 72.0, 'y0': 221.51, 'x1': 432.0, 'y1': 327.81}], 'elements': [], 'node_id': '1c296d1b-2434-4d0c-bce1-95c9ab1770a2', 'text': 'passage: The O’Reilly logo is a registered trademark of O’Reilly Media, Inc. AI Engineering, the cover image, and \\nrelated trade dress are trademarks of O’Reilly Media, Inc. <br><br>The views expressed in this work are those of the author and do not represent the publisher’s views. \\nWhile the publisher and the author have used good faith efforts to ensure that the information and \\ninstructions contained in this work are accurate, the publisher and the author disclaim all responsibility \\nfor errors or omissions, including without limitation responsibility for damages resulting from the use of \\nor reliance on this work. Use of the information and instructions contained in this work is at your own \\nrisk. If any code samples or other technology this work contains or describes is subject to open source \\nlicenses or the intellectual property rights of others, it is your responsibility to ensure that your use \\nthereof complies with such licenses and/or rights. ', 'metadata': {'filename': 'AI Engineering Building Applications with Foundation Models (Chip Huyen) (Z-Library).pdf', 'num_pages': 535, 'coordinate_system': 'bottom-left', 'table_parsing_kwargs': None, 'last_modified_date': '2025-01-15T00:00:00', 'last_accessed_date': '2025-01-19T00:00:00', 'creation_date': '2025-01-15T00:00:00', 'file_size': 33473585}}}, {'node_id': 'cb53f8e9-b6b2-4767-bd0a-38d251a3cb98', 'distance': 0.8011566400527954, 'entity': {'bbox': [{'page': 58, 'page_height': 841.89, 'page_width': 595.276, 'x0': 32.6, 'y0': 39.96, 'x1': 365.53, 'y1': 128.97}], 'elements': [], 'node_id': 'cb53f8e9-b6b2-4767-bd0a-38d251a3cb98', 'text': 'passage: Published by the Nuffield Foundation, 28 Bedford Square, London WC1B 3JS \\nCopyright © Nuffield Foundation 2019 <br><br>This report is also available to download at**www.nuffieldfoundation.org**<br><br>Designed by Soapbox \\nwww.soapbox.co.uk ', 'metadata': {'filename': 'Ethical-and-Societal-Implications-of-Data-and-AI-report-Nuffield-Foundat.pdf', 'num_pages': 59, 'coordinate_system': 'bottom-left', 'table_parsing_kwargs': None, 'last_modified_date': '2021-04-15T00:00:00', 'last_accessed_date': '2025-02-03T00:00:00', 'creation_date': '2024-06-14T00:00:00', 'file_size': 779503}}}, {'node_id': '02d1a32d-b3aa-45d5-acff-f66428eb4a02', 'distance': 0.8009390830993652, 'entity': {'bbox': [{'page': 17, 'page_height': 414.0, 'page_width': 735.12, 'x0': 41.84, 'y0': 241.31, 'x1': 658.98, 'y1': 296.63}], 'elements': [], 'node_id': '02d1a32d-b3aa-45d5-acff-f66428eb4a02', 'text': 'passage: Pariatur quis nisi et incididunt id ea labore adipisicing dolore pariatur Lorem ut aute. Velit deserunt dolore <br><br>ullamco enim. Magna laborum nostrud nulla eiusmod nisi quis ad duis elit. Qui dolore enim occaecat anim <br><br>mollit elit elit incididunt aliqua. Magna elit adipisicing nisi nisi ad tempor dolore tempor veniam deserunt <br><br>consectetur nisi. Duis nulla deserunt laboris veniam ullamco. ', 'metadata': {'filename': 'slides.example.pdf', 'num_pages': 23, 'coordinate_system': 'bottom-left', 'table_parsing_kwargs': None, 'last_modified_date': '2024-10-08T00:00:00', 'last_accessed_date': '2025-02-21T00:00:00', 'creation_date': '2024-10-08T00:00:00', 'file_size': 683459}}}]]"
      ]
     },
     "execution_count": 56,
     "metadata": {},
     "output_type": "execute_result"
    }
   ],
   "source": [
    "responses"
   ]
  },
  {
   "cell_type": "code",
   "execution_count": 57,
   "metadata": {},
   "outputs": [],
   "source": [
    "from src.rag.schemas.document import Node"
   ]
  },
  {
   "cell_type": "code",
   "execution_count": 59,
   "metadata": {},
   "outputs": [
    {
     "name": "stdout",
     "output_type": "stream",
     "text": [
      "Question: query: what is dependency injection?\n",
      "============================================================\n",
      "c4c3284b-2795-424c-97dd-177c03b4417f 0.8030880093574524 passage: Adipisicing Lorem et quis magna consequat ut irure <br><br>tempor eu dolor nisi. Do irure in cupidatat laborum <br><br>occaecat officia non nisi non amet mollit duis <br><br>ullamco. Duis amet velit sint consectetur. Fugiat <br><br>magna cillum cillum do voluptate. Dolore fugiat <br><br>voluptate veniam sint dolor anim. \n",
      "the entity is of type: [{'page': 7, 'page_height': 414.0, 'page_width': 735.12, 'x0': 379.34, 'y0': 265.31, 'x1': 680.9, 'y1': 356.63}]\n",
      "b288673c-cf1c-4391-9e13-45452d2d3d03 0.8026291131973267 passage: Eu mollit nulla voluptate dolore dolore tempor velit aliqua cillum irure quis ea. Aute laboris sit quis aliquip <br><br>tempor elit adipisicing duis in sint sit eiusmod exercitation consectetur. Ut deserunt qui veniam dolore sint <br><br>excepteur. Occaecat minim ea eu esse enim deserunt veniam ad ullamco nostrud est. \n",
      "the entity is of type: [{'page': 4, 'page_height': 414.0, 'page_width': 735.12, 'x0': 41.84, 'y0': 287.81, 'x1': 662.66, 'y1': 325.13}]\n",
      "1c296d1b-2434-4d0c-bce1-95c9ab1770a2 0.8013351559638977 passage: The O’Reilly logo is a registered trademark of O’Reilly Media, Inc. AI Engineering, the cover image, and \n",
      "related trade dress are trademarks of O’Reilly Media, Inc. <br><br>The views expressed in this work are those of the author and do not represent the publisher’s views. \n",
      "While the publisher and the author have used good faith efforts to ensure that the information and \n",
      "instructions contained in this work are accurate, the publisher and the author disclaim all responsibility \n",
      "for errors or omissions, including without limitation responsibility for damages resulting from the use of \n",
      "or reliance on this work. Use of the information and instructions contained in this work is at your own \n",
      "risk. If any code samples or other technology this work contains or describes is subject to open source \n",
      "licenses or the intellectual property rights of others, it is your responsibility to ensure that your use \n",
      "thereof complies with such licenses and/or rights. \n",
      "the entity is of type: [{'page': 5, 'page_height': 661.5, 'page_width': 504.0, 'x0': 72.0, 'y0': 221.51, 'x1': 432.0, 'y1': 327.81}]\n",
      "cb53f8e9-b6b2-4767-bd0a-38d251a3cb98 0.8011566400527954 passage: Published by the Nuffield Foundation, 28 Bedford Square, London WC1B 3JS \n",
      "Copyright © Nuffield Foundation 2019 <br><br>This report is also available to download at**www.nuffieldfoundation.org**<br><br>Designed by Soapbox \n",
      "www.soapbox.co.uk \n",
      "the entity is of type: [{'page': 58, 'page_height': 841.89, 'page_width': 595.276, 'x0': 32.6, 'y0': 39.96, 'x1': 365.53, 'y1': 128.97}]\n",
      "02d1a32d-b3aa-45d5-acff-f66428eb4a02 0.8009390830993652 passage: Pariatur quis nisi et incididunt id ea labore adipisicing dolore pariatur Lorem ut aute. Velit deserunt dolore <br><br>ullamco enim. Magna laborum nostrud nulla eiusmod nisi quis ad duis elit. Qui dolore enim occaecat anim <br><br>mollit elit elit incididunt aliqua. Magna elit adipisicing nisi nisi ad tempor dolore tempor veniam deserunt <br><br>consectetur nisi. Duis nulla deserunt laboris veniam ullamco. \n",
      "the entity is of type: [{'page': 17, 'page_height': 414.0, 'page_width': 735.12, 'x0': 41.84, 'y0': 241.31, 'x1': 658.98, 'y1': 296.63}]\n",
      "============================================================\n"
     ]
    }
   ],
   "source": [
    "for question, response in zip(test_questions, responses):\n",
    "    print(f\"Question: {question}\")\n",
    "    print(\"===\" * 20)\n",
    "    for result in response:\n",
    "        print(result.id, result.distance, result.entity.get(\"text\"))\n",
    "        print(\"the entity is of type:\", result.entity.get(\"bbox\"))\n",
    "    print(\"===\" * 20)"
   ]
  },
  {
   "cell_type": "code",
   "execution_count": null,
   "metadata": {},
   "outputs": [],
   "source": []
  },
  {
   "cell_type": "code",
   "execution_count": null,
   "metadata": {},
   "outputs": [],
   "source": [
    "### Need to come and chech the results and implement vector search."
   ]
  }
 ],
 "metadata": {
  "kernelspec": {
   "display_name": ".venv",
   "language": "python",
   "name": "python3"
  },
  "language_info": {
   "codemirror_mode": {
    "name": "ipython",
    "version": 3
   },
   "file_extension": ".py",
   "mimetype": "text/x-python",
   "name": "python",
   "nbconvert_exporter": "python",
   "pygments_lexer": "ipython3",
   "version": "3.10.4"
  }
 },
 "nbformat": 4,
 "nbformat_minor": 2
}
