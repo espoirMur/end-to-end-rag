{
 "cells": [
  {
   "cell_type": "code",
   "execution_count": 1,
   "metadata": {},
   "outputs": [],
   "source": [
    "from src.rag.components.shared.io import IOManager"
   ]
  },
  {
   "cell_type": "code",
   "execution_count": 2,
   "metadata": {},
   "outputs": [],
   "source": [
    "from pathlib import Path"
   ]
  },
  {
   "cell_type": "code",
   "execution_count": 3,
   "metadata": {},
   "outputs": [],
   "source": [
    "output_path = Path.cwd().joinpath(\"datasets\", \"parsed_documents_with_embeddings\")\n",
    "io_manager = IOManager(output_path)"
   ]
  },
  {
   "cell_type": "code",
   "execution_count": 4,
   "metadata": {},
   "outputs": [
    {
     "data": {
      "text/plain": [
       "True"
      ]
     },
     "execution_count": 4,
     "metadata": {},
     "output_type": "execute_result"
    }
   ],
   "source": [
    "io_manager.document_path.exists()"
   ]
  },
  {
   "cell_type": "code",
   "execution_count": 5,
   "metadata": {},
   "outputs": [],
   "source": [
    "chunk_size = 5\n",
    "all_documents = []\n",
    "for i in range(0, 20, chunk_size):\n",
    "\tdocuments = io_manager.load_documents(i, i + chunk_size)\n",
    "\tall_documents.extend(documents)"
   ]
  },
  {
   "cell_type": "code",
   "execution_count": 6,
   "metadata": {},
   "outputs": [],
   "source": [
    "# generate a random number between 0 and 20\n",
    "import random\n",
    "random_number = random.randint(0, 20)"
   ]
  },
  {
   "cell_type": "code",
   "execution_count": 7,
   "metadata": {},
   "outputs": [],
   "source": [
    "sample_doc = all_documents[random_number]"
   ]
  },
  {
   "cell_type": "code",
   "execution_count": 8,
   "metadata": {},
   "outputs": [],
   "source": [
    "nodes = sample_doc.convert_to_milvus()"
   ]
  },
  {
   "cell_type": "code",
   "execution_count": 9,
   "metadata": {},
   "outputs": [
    {
     "data": {
      "text/plain": [
       "'Model Complexity \\nImpact On Bias And Variance <br><br>Increasing model complexity reduces bias by allowing the model to \\ncapture more intricate patterns in the data, but it also increases \\nvariance, making the model more sensitive to noise and potentially \\nleading to overfitting. '"
      ]
     },
     "execution_count": 9,
     "metadata": {},
     "output_type": "execute_result"
    }
   ],
   "source": [
    "nodes[0].get(\"text\")"
   ]
  },
  {
   "cell_type": "code",
   "execution_count": 10,
   "metadata": {},
   "outputs": [],
   "source": [
    "from src.rag.components.shared.databases.milvus import MilvusDatabase"
   ]
  },
  {
   "cell_type": "code",
   "execution_count": 19,
   "metadata": {},
   "outputs": [],
   "source": [
    "COLLECTION_NAME = \"my_collection\""
   ]
  },
  {
   "cell_type": "code",
   "execution_count": 24,
   "metadata": {},
   "outputs": [],
   "source": [
    "milvus_client = MilvusDatabase(\n",
    "    host=\"http://localhost:19530\",\n",
    "    vector_dimension=1024,\n",
    "    collection_name=COLLECTION_NAME,\n",
    "    token=\"\"\n",
    ")"
   ]
  },
  {
   "cell_type": "code",
   "execution_count": 25,
   "metadata": {},
   "outputs": [
    {
     "name": "stdout",
     "output_type": "stream",
     "text": [
      "\u001b[32m2025-05-12 23:57:23 | INFO     | milvus_database:connect:18 | Connecting to Milvus...\u001b[0m\n",
      "\u001b[32m2025-05-12 23:57:23 | INFO     | milvus_database:connect:22 | Connected to Milvus successfully.\u001b[0m\n"
     ]
    }
   ],
   "source": [
    "milvus_client.connect()"
   ]
  },
  {
   "cell_type": "code",
   "execution_count": 26,
   "metadata": {},
   "outputs": [
    {
     "name": "stdout",
     "output_type": "stream",
     "text": [
      "\u001b[32m2025-05-12 23:57:23 | INFO     | milvus_database:create_index_if_not_exists:34 | Collection 'my_collection' already exists.\u001b[0m\n"
     ]
    }
   ],
   "source": [
    "milvus_client.create_index_if_not_exists()"
   ]
  },
  {
   "cell_type": "code",
   "execution_count": 42,
   "metadata": {},
   "outputs": [
    {
     "data": {
      "text/plain": [
       "data: [\"{'count(*)': 23050}\"]"
      ]
     },
     "execution_count": 42,
     "metadata": {},
     "output_type": "execute_result"
    }
   ],
   "source": [
    "milvus_client.client.query(collection_name=COLLECTION_NAME, output_fields=[\"count(*)\"])"
   ]
  },
  {
   "cell_type": "code",
   "execution_count": 31,
   "metadata": {},
   "outputs": [
    {
     "name": "stderr",
     "output_type": "stream",
     "text": [
      "/Users/esp.py/Projects/Personal/end-to-end-rag/.venv/lib/python3.10/site-packages/tqdm/auto.py:21: TqdmWarning: IProgress not found. Please update jupyter and ipywidgets. See https://ipywidgets.readthedocs.io/en/stable/user_install.html\n",
      "  from .autonotebook import tqdm as notebook_tqdm\n"
     ]
    }
   ],
   "source": [
    "from sentence_transformers import SentenceTransformer"
   ]
  },
  {
   "cell_type": "code",
   "execution_count": 32,
   "metadata": {},
   "outputs": [],
   "source": [
    "\n",
    "embedding_model_name = \"intfloat/multilingual-e5-large\""
   ]
  },
  {
   "cell_type": "code",
   "execution_count": 33,
   "metadata": {},
   "outputs": [],
   "source": [
    "embedding_model = SentenceTransformer(embedding_model_name)"
   ]
  },
  {
   "cell_type": "code",
   "execution_count": 47,
   "metadata": {},
   "outputs": [],
   "source": [
    "test_questions = [\"what is dependency ingestion?\"]"
   ]
  },
  {
   "cell_type": "code",
   "execution_count": 48,
   "metadata": {},
   "outputs": [],
   "source": [
    "question_embeddings  = embedding_model.encode(test_questions, convert_to_tensor=True)"
   ]
  },
  {
   "cell_type": "code",
   "execution_count": 49,
   "metadata": {},
   "outputs": [],
   "source": [
    "question_embeddings = question_embeddings.cpu().numpy()\n",
    "\n"
   ]
  },
  {
   "cell_type": "code",
   "execution_count": 50,
   "metadata": {},
   "outputs": [
    {
     "name": "stdout",
     "output_type": "stream",
     "text": [
      "\u001b[32m2025-05-13 00:04:48 | INFO     | milvus_database:connect:18 | Connecting to Milvus...\u001b[0m\n",
      "\u001b[32m2025-05-13 00:04:48 | INFO     | milvus_database:connect:22 | Connected to Milvus successfully.\u001b[0m\n"
     ]
    }
   ],
   "source": [
    "milvus_client.connect()"
   ]
  },
  {
   "cell_type": "code",
   "execution_count": 51,
   "metadata": {},
   "outputs": [],
   "source": [
    "responses = milvus_client.client.search(\n",
    "    collection_name=COLLECTION_NAME,\n",
    "    data=question_embeddings,\n",
    "    limit=5,\n",
    "    output_fields=[\"text\", \"metadata\"],\n",
    "    params={\"metric_type\": \"L2\"}\n",
    ")"
   ]
  },
  {
   "cell_type": "code",
   "execution_count": 52,
   "metadata": {},
   "outputs": [
    {
     "data": {
      "text/plain": [
       "1"
      ]
     },
     "execution_count": 52,
     "metadata": {},
     "output_type": "execute_result"
    }
   ],
   "source": [
    "len(responses)"
   ]
  },
  {
   "cell_type": "code",
   "execution_count": 53,
   "metadata": {},
   "outputs": [
    {
     "data": {
      "text/plain": [
       "data: [[{'id': '3add1113-b283-4bc6-bd02-e54855beff6f', 'distance': 0.8309718370437622, 'entity': {'metadata': {'filename': 'Clean Architecture A Craftsman’s Guide to Software Structure and Design (Robert C. Martin) (Z-Library).pdf', 'num_pages': 429, 'coordinate_system': 'bottom-left', 'last_modified_date': '2024-12-18T00:00:00', 'last_accessed_date': '2025-02-09T00:00:00', 'creation_date': '2025-01-09T00:00:00', 'file_size': 6677970}, 'text': '11**DIP: The**<br><br>**D ependency**\\n**I nversion Principle**<br><br><br><br>The Dependency Inversion Principle (DIP) tells us that the most flexible \\nsystems are those in which source code dependencies refer only to \\nabstractions, not to concretions. <br><br>In a statically typed language, like Java, this means that the use, import, \\nand include statements should refer only to source modules containing \\ninterfaces, abstract classes, or some other kind of abstract declaration. \\nNothing concrete should be depended on. <br><br>**87**'}}, {'id': '56bb8b56-dc53-4569-9078-925acada7883', 'distance': 0.8257485032081604, 'entity': {'metadata': {'filename': 'Clean Architecture A Craftsman’s Guide to Software Structure and Design (Robert C. Martin) (Z-Library).pdf', 'num_pages': 429, 'coordinate_system': 'bottom-left', 'last_modified_date': '2024-12-18T00:00:00', 'last_accessed_date': '2025-02-09T00:00:00', 'creation_date': '2025-01-09T00:00:00', 'file_size': 6677970}, 'text': '**Package by Component**<br><br>In a strict layered architecture, the dependency arrows should always point \\ndownward, with layers depending only on the next adjacent lower layer. This \\ncomes back to creating a nice, clean, acyclic dependency graph, which is \\nachieved by introducing some rules about how elements in a code base should \\ndepend on each other. The big problem here is that we can cheat by introducing \\nsome undesirable dependencies, yet still create a nice, acyclic dependency graph. <br><br>Suppose that you hire someone new who joins your team, and you give the \\nnewcomer another orders-related use case to implement. Since the person is \\nnew, he wants to make a big impression and get this use case implemented as \\nquickly as possible. After sitting down with a cup of coffee for a few minutes, \\nthe newcomer discovers an existing OrdersController class, so he decides \\nthat’s where the code for the new orders-related web page should go. But it \\nneeds some orders data from the database. The newcomer has an epiphany: \\n“Oh, there’s an OrdersRepository interface already built, too. I can simply \\ndependency-inject the implementation into my controller. Perfect!” After a \\nfew more minutes of hacking, the web page is working. But the resulting \\nUML diagram looks like Figure 34.5. '}}, {'id': '4ccdb6d1-d3de-43dc-bb7d-a36ba03b6344', 'distance': 0.821095883846283, 'entity': {'metadata': {'filename': 'Clean Architecture A Craftsman’s Guide to Software Structure and Design (Robert C. Martin) (Z-Library).pdf', 'num_pages': 429, 'coordinate_system': 'bottom-left', 'last_modified_date': '2024-12-18T00:00:00', 'last_accessed_date': '2025-02-09T00:00:00', 'creation_date': '2025-01-09T00:00:00', 'file_size': 6677970}, 'text': '**The Acyc lic D e pe ndencies Principle**<br><br>*Allow no cycles in the component dependency graph.*<br><br>Have you ever worked all day, gotten some stuff working, and then gone \\nhome, only to arrive the next morning to find that your stuff no longer \\nworks? Why doesn’t it work? Because somebody stayed later than you and \\nchanged something you depend on! I call this “the morning after syndrome.” <br><br>The “morning after syndrome” occurs in development environments where \\nmany developers are modifying the same source files. In relatively small \\nprojects with just a few developers, it isn’t too big a problem. But as the size \\nof the project and the development team grow, the mornings after can get \\npretty nightmarish. It is not uncommon for weeks to go by without the team \\nbeing able to build a stable version of the project. Instead, everyone keeps on \\nchanging and changing their code trying to make it work with the last \\nchanges that someone else made. <br><br>Over the last several decades, two solutions to this problem have evolved, \\nboth of which came from the telecommunications industry. The first is “the \\nweekly build,” and the second is the Acyclic Dependencies Principle (ADP). '}}, {'id': 'b1c7179b-870f-4c31-bb7e-957942f80c3d', 'distance': 0.8201017379760742, 'entity': {'metadata': {'filename': 'The Anxious Generation How the Great Rewiring of Childhood Is Causing an Epidemic of Mental Illness (Jonathan Haidt) (Z-Library).pdf', 'num_pages': 480, 'coordinate_system': 'bottom-left', 'last_modified_date': '2024-12-30T00:00:00', 'last_accessed_date': '2024-12-30T00:00:00', 'creation_date': '2024-12-30T00:00:00', 'file_size': 20968681}, 'text': '<br><br>***W\\ue4c7at’s next on***\\n***your reading list?***<br><br>**Discover your next**\\n**great read!**<br><br>**Get personalized book picks and up-to-date news about this**\\n**author.**<br><br>**Sign up now.**'}}, {'id': '64a7aa3b-6d3b-4fba-8779-2159fca68115', 'distance': 0.8180553913116455, 'entity': {'metadata': {'filename': 'Clean Architecture A Craftsman’s Guide to Software Structure and Design (Robert C. Martin) (Z-Library).pdf', 'num_pages': 429, 'coordinate_system': 'bottom-left', 'last_modified_date': '2024-12-18T00:00:00', 'last_accessed_date': '2025-02-09T00:00:00', 'creation_date': '2025-01-09T00:00:00', 'file_size': 6677970}, 'text': '**Chapter 22 The Clean Architecture**<br><br>just these four. However, the Dependency Rule always applies. Source code \\ndependencies always point inward. As you move inward, the level of \\nabstraction and policy increases. The outermost circle consists of low-level \\nconcrete details. As you move inward, the software grows more abstract and \\nencapsulates higher-level policies. The innermost circle is the most general \\nand highest level. '}}]]"
      ]
     },
     "execution_count": 53,
     "metadata": {},
     "output_type": "execute_result"
    }
   ],
   "source": [
    "responses"
   ]
  },
  {
   "cell_type": "code",
   "execution_count": 54,
   "metadata": {},
   "outputs": [
    {
     "name": "stdout",
     "output_type": "stream",
     "text": [
      "Question: what is dependency ingestion?\n",
      "============================================================\n",
      "3add1113-b283-4bc6-bd02-e54855beff6f 0.8309718370437622 11**DIP: The**<br><br>**D ependency**\n",
      "**I nversion Principle**<br><br><br><br>The Dependency Inversion Principle (DIP) tells us that the most flexible \n",
      "systems are those in which source code dependencies refer only to \n",
      "abstractions, not to concretions. <br><br>In a statically typed language, like Java, this means that the use, import, \n",
      "and include statements should refer only to source modules containing \n",
      "interfaces, abstract classes, or some other kind of abstract declaration. \n",
      "Nothing concrete should be depended on. <br><br>**87**\n",
      "{'filename': 'Clean Architecture A Craftsman’s Guide to Software Structure and Design (Robert C. Martin) (Z-Library).pdf', 'num_pages': 429, 'coordinate_system': 'bottom-left', 'last_modified_date': '2024-12-18T00:00:00', 'last_accessed_date': '2025-02-09T00:00:00', 'creation_date': '2025-01-09T00:00:00', 'file_size': 6677970}\n",
      "\n",
      "\n",
      "56bb8b56-dc53-4569-9078-925acada7883 0.8257485032081604 **Package by Component**<br><br>In a strict layered architecture, the dependency arrows should always point \n",
      "downward, with layers depending only on the next adjacent lower layer. This \n",
      "comes back to creating a nice, clean, acyclic dependency graph, which is \n",
      "achieved by introducing some rules about how elements in a code base should \n",
      "depend on each other. The big problem here is that we can cheat by introducing \n",
      "some undesirable dependencies, yet still create a nice, acyclic dependency graph. <br><br>Suppose that you hire someone new who joins your team, and you give the \n",
      "newcomer another orders-related use case to implement. Since the person is \n",
      "new, he wants to make a big impression and get this use case implemented as \n",
      "quickly as possible. After sitting down with a cup of coffee for a few minutes, \n",
      "the newcomer discovers an existing OrdersController class, so he decides \n",
      "that’s where the code for the new orders-related web page should go. But it \n",
      "needs some orders data from the database. The newcomer has an epiphany: \n",
      "“Oh, there’s an OrdersRepository interface already built, too. I can simply \n",
      "dependency-inject the implementation into my controller. Perfect!” After a \n",
      "few more minutes of hacking, the web page is working. But the resulting \n",
      "UML diagram looks like Figure 34.5. \n",
      "{'filename': 'Clean Architecture A Craftsman’s Guide to Software Structure and Design (Robert C. Martin) (Z-Library).pdf', 'num_pages': 429, 'coordinate_system': 'bottom-left', 'last_modified_date': '2024-12-18T00:00:00', 'last_accessed_date': '2025-02-09T00:00:00', 'creation_date': '2025-01-09T00:00:00', 'file_size': 6677970}\n",
      "\n",
      "\n",
      "4ccdb6d1-d3de-43dc-bb7d-a36ba03b6344 0.821095883846283 **The Acyc lic D e pe ndencies Principle**<br><br>*Allow no cycles in the component dependency graph.*<br><br>Have you ever worked all day, gotten some stuff working, and then gone \n",
      "home, only to arrive the next morning to find that your stuff no longer \n",
      "works? Why doesn’t it work? Because somebody stayed later than you and \n",
      "changed something you depend on! I call this “the morning after syndrome.” <br><br>The “morning after syndrome” occurs in development environments where \n",
      "many developers are modifying the same source files. In relatively small \n",
      "projects with just a few developers, it isn’t too big a problem. But as the size \n",
      "of the project and the development team grow, the mornings after can get \n",
      "pretty nightmarish. It is not uncommon for weeks to go by without the team \n",
      "being able to build a stable version of the project. Instead, everyone keeps on \n",
      "changing and changing their code trying to make it work with the last \n",
      "changes that someone else made. <br><br>Over the last several decades, two solutions to this problem have evolved, \n",
      "both of which came from the telecommunications industry. The first is “the \n",
      "weekly build,” and the second is the Acyclic Dependencies Principle (ADP). \n",
      "{'filename': 'Clean Architecture A Craftsman’s Guide to Software Structure and Design (Robert C. Martin) (Z-Library).pdf', 'num_pages': 429, 'coordinate_system': 'bottom-left', 'last_modified_date': '2024-12-18T00:00:00', 'last_accessed_date': '2025-02-09T00:00:00', 'creation_date': '2025-01-09T00:00:00', 'file_size': 6677970}\n",
      "\n",
      "\n",
      "b1c7179b-870f-4c31-bb7e-957942f80c3d 0.8201017379760742 <br><br>***Wat’s next on***\n",
      "***your reading list?***<br><br>**Discover your next**\n",
      "**great read!**<br><br>**Get personalized book picks and up-to-date news about this**\n",
      "**author.**<br><br>**Sign up now.**\n",
      "{'filename': 'The Anxious Generation How the Great Rewiring of Childhood Is Causing an Epidemic of Mental Illness (Jonathan Haidt) (Z-Library).pdf', 'num_pages': 480, 'coordinate_system': 'bottom-left', 'last_modified_date': '2024-12-30T00:00:00', 'last_accessed_date': '2024-12-30T00:00:00', 'creation_date': '2024-12-30T00:00:00', 'file_size': 20968681}\n",
      "\n",
      "\n",
      "64a7aa3b-6d3b-4fba-8779-2159fca68115 0.8180553913116455 **Chapter 22 The Clean Architecture**<br><br>just these four. However, the Dependency Rule always applies. Source code \n",
      "dependencies always point inward. As you move inward, the level of \n",
      "abstraction and policy increases. The outermost circle consists of low-level \n",
      "concrete details. As you move inward, the software grows more abstract and \n",
      "encapsulates higher-level policies. The innermost circle is the most general \n",
      "and highest level. \n",
      "{'filename': 'Clean Architecture A Craftsman’s Guide to Software Structure and Design (Robert C. Martin) (Z-Library).pdf', 'num_pages': 429, 'coordinate_system': 'bottom-left', 'last_modified_date': '2024-12-18T00:00:00', 'last_accessed_date': '2025-02-09T00:00:00', 'creation_date': '2025-01-09T00:00:00', 'file_size': 6677970}\n",
      "\n",
      "\n",
      "============================================================\n"
     ]
    }
   ],
   "source": [
    "for question, response in zip(test_questions, responses):\n",
    "    print(f\"Question: {question}\")\n",
    "    print(\"===\" * 20)\n",
    "    for result in response:\n",
    "        print(result.id, result.distance, result.entity.get(\"text\"))\n",
    "        print(result.entity.get(\"metadata\"))\n",
    "        print(\"\\n\")\n",
    "    print(\"===\" * 20)"
   ]
  },
  {
   "cell_type": "code",
   "execution_count": null,
   "metadata": {},
   "outputs": [],
   "source": [
    "### Need to come and chech the results and implement vector search."
   ]
  }
 ],
 "metadata": {
  "kernelspec": {
   "display_name": ".venv",
   "language": "python",
   "name": "python3"
  },
  "language_info": {
   "codemirror_mode": {
    "name": "ipython",
    "version": 3
   },
   "file_extension": ".py",
   "mimetype": "text/x-python",
   "name": "python",
   "nbconvert_exporter": "python",
   "pygments_lexer": "ipython3",
   "version": "3.10.4"
  }
 },
 "nbformat": 4,
 "nbformat_minor": 2
}
