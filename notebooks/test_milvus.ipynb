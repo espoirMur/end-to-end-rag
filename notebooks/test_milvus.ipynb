{
 "cells": [
  {
   "cell_type": "code",
   "execution_count": 1,
   "metadata": {},
   "outputs": [],
   "source": [
    "from src.rag.components.shared.io import IOManager"
   ]
  },
  {
   "cell_type": "code",
   "execution_count": 2,
   "metadata": {},
   "outputs": [],
   "source": [
    "from pathlib import Path"
   ]
  },
  {
   "cell_type": "code",
   "execution_count": 3,
   "metadata": {},
   "outputs": [],
   "source": [
    "output_path = Path.cwd().joinpath(\"datasets\", \"parsed_documents_with_embeddings\")\n",
    "io_manager = IOManager(output_path)"
   ]
  },
  {
   "cell_type": "code",
   "execution_count": 4,
   "metadata": {},
   "outputs": [
    {
     "data": {
      "text/plain": [
       "True"
      ]
     },
     "execution_count": 4,
     "metadata": {},
     "output_type": "execute_result"
    }
   ],
   "source": [
    "io_manager.document_path.exists()"
   ]
  },
  {
   "cell_type": "code",
   "execution_count": 5,
   "metadata": {},
   "outputs": [],
   "source": [
    "chunk_size = 5\n",
    "all_documents = []\n",
    "for i in range(0, 20, chunk_size):\n",
    "\tdocuments = io_manager.load_documents(i, i + chunk_size)\n",
    "\tall_documents.extend(documents)"
   ]
  },
  {
   "cell_type": "code",
   "execution_count": 6,
   "metadata": {},
   "outputs": [],
   "source": [
    "# generate a random number between 0 and 20\n",
    "import random\n",
    "random_number = random.randint(0, 20)"
   ]
  },
  {
   "cell_type": "code",
   "execution_count": 7,
   "metadata": {},
   "outputs": [],
   "source": [
    "sample_doc = all_documents[random_number]"
   ]
  },
  {
   "cell_type": "code",
   "execution_count": 8,
   "metadata": {},
   "outputs": [],
   "source": [
    "nodes = sample_doc.convert_to_milvus()"
   ]
  },
  {
   "cell_type": "code",
   "execution_count": 9,
   "metadata": {},
   "outputs": [
    {
     "data": {
      "text/plain": [
       "'passage: \\nUSE OUR FLOW CHART TO SEE \\nWHICH ACCOMMODATION IS BEST \\nFOR YOU... <br><br>I require an \\nadapted \\nroom*<br><br>Yes \\nNo <br><br>I would like to \\nbe closer to \\nthe town \\ncentre and \\nother local \\namenities \\nI don’t mind \\nbeing slightly \\nout of the \\ncentre of \\ncampus  I don’t mind a \\nshort \\n(picturesque) \\nstroll to \\ncampus \\nI want to be \\nclose to the \\ncentre of \\ncampus  I want to be \\nclose to the \\ncentre of \\ncampus \\nI like the idea \\nof a 4 foot \\nbed <br><br>Copse \\n(UG Only) \\nStudio flats \\nalso available  I like the finer \\nthings in life \\n(and a 4 foot \\nbed) \\nI’m looking \\nfor a social \\nvibe  I’m looking \\nfor a social \\nvibe \\nI’m after a \\nchilled vibe  I’m after a \\nchilled vibe  Quays \\n(UG & PG) \\nMeadows <br><br>I want to keep \\nit as cheap as \\npossible & \\ndon’t mind \\nsharing a \\nbathroom \\nI don’t mind \\nsharing a \\nbathroom \\nwith 1 other \\nperson \\nCopse \\n(UG Only) \\nStudio flats \\nalso available <br><br>Houses \\n(UG Only)  South Courts \\n(UG Only)  Houses \\n(UG Only)  I’d like an en- \\nsuite  I’d like an en- \\nsuite <br><br>Meadows \\nCluster Flat \\n(UG & PG)  Meadows \\nTownhouse \\n(UG Only) \\nSouth Courts \\n(UG Only) \\nTowers <br><br>I want to be \\nclose to the gym \\n(& live in newly \\nrenovated \\naccommodation)  I want to be \\nclose to the \\nlibrary and \\nstudy spaces <br><br>North Towers \\n(UG & PG)  South Towers \\n(UG Only) <br><br>*Adapted rooms are suitable for wheelchair access, include a deaf \\nalarm and emergency call point/panic alarm- please contact \\ninclude@essex.ac.uk for further information '"
      ]
     },
     "execution_count": 9,
     "metadata": {},
     "output_type": "execute_result"
    }
   ],
   "source": [
    "nodes[0].get(\"text\")"
   ]
  },
  {
   "cell_type": "code",
   "execution_count": 1,
   "metadata": {},
   "outputs": [],
   "source": [
    "from src.rag.components.shared.databases.milvus import MilvusDatabase"
   ]
  },
  {
   "cell_type": "code",
   "execution_count": 2,
   "metadata": {},
   "outputs": [],
   "source": [
    "COLLECTION_NAME = \"my_collection\""
   ]
  },
  {
   "cell_type": "code",
   "execution_count": 3,
   "metadata": {},
   "outputs": [],
   "source": [
    "from src.rag.components.shared.databases.milvus_settings import MilvusSettings"
   ]
  },
  {
   "cell_type": "code",
   "execution_count": 4,
   "metadata": {},
   "outputs": [],
   "source": [
    "COLLECTION_NAME = \"my_collection\""
   ]
  },
  {
   "cell_type": "code",
   "execution_count": 5,
   "metadata": {},
   "outputs": [],
   "source": [
    "settings = MilvusSettings(\n",
    "    uri=\"http://localhost:19530\",\n",
    "    collection_name=COLLECTION_NAME,\n",
    "    vector_dimension=1024,\n",
    ")"
   ]
  },
  {
   "cell_type": "code",
   "execution_count": 6,
   "metadata": {},
   "outputs": [
    {
     "name": "stdout",
     "output_type": "stream",
     "text": [
      "\u001b[32m2025-06-03 22:22:41 | INFO     | milvus_database:connect:29 | Connecting to Milvus...\u001b[0m\n",
      "\u001b[32m2025-06-03 22:22:41 | INFO     | milvus_database:connect:33 | Connected to Milvus successfully.\u001b[0m\n"
     ]
    }
   ],
   "source": [
    "milvus_client = MilvusDatabase(\n",
    "    milvus_settings=settings\n",
    ")"
   ]
  },
  {
   "cell_type": "code",
   "execution_count": 7,
   "metadata": {},
   "outputs": [
    {
     "name": "stdout",
     "output_type": "stream",
     "text": [
      "\u001b[32m2025-06-03 22:22:42 | INFO     | milvus_database:connect:29 | Connecting to Milvus...\u001b[0m\n",
      "\u001b[32m2025-06-03 22:22:42 | INFO     | milvus_database:connect:33 | Connected to Milvus successfully.\u001b[0m\n"
     ]
    }
   ],
   "source": [
    "milvus_client.connect()"
   ]
  },
  {
   "cell_type": "code",
   "execution_count": 8,
   "metadata": {},
   "outputs": [
    {
     "name": "stdout",
     "output_type": "stream",
     "text": [
      "\u001b[32m2025-06-03 22:22:43 | INFO     | milvus_database:create_index_if_not_exists:45 | Collection 'my_collection' already exists.\u001b[0m\n"
     ]
    }
   ],
   "source": [
    "milvus_client.create_index_if_not_exists()"
   ]
  },
  {
   "cell_type": "code",
   "execution_count": 9,
   "metadata": {},
   "outputs": [
    {
     "data": {
      "text/plain": [
       "data: [\"{'count(*)': 7310}\"]"
      ]
     },
     "execution_count": 9,
     "metadata": {},
     "output_type": "execute_result"
    }
   ],
   "source": [
    "milvus_client.client.query(collection_name=COLLECTION_NAME, output_fields=[\"count(*)\"])"
   ]
  },
  {
   "cell_type": "code",
   "execution_count": 10,
   "metadata": {},
   "outputs": [],
   "source": [
    "# milvus_client.delete_collection()"
   ]
  },
  {
   "cell_type": "code",
   "execution_count": 11,
   "metadata": {},
   "outputs": [
    {
     "name": "stderr",
     "output_type": "stream",
     "text": [
      "/Users/esp.py/Projects/Personal/end-to-end-rag/.venv/lib/python3.10/site-packages/tqdm/auto.py:21: TqdmWarning: IProgress not found. Please update jupyter and ipywidgets. See https://ipywidgets.readthedocs.io/en/stable/user_install.html\n",
      "  from .autonotebook import tqdm as notebook_tqdm\n"
     ]
    }
   ],
   "source": [
    "from sentence_transformers import SentenceTransformer"
   ]
  },
  {
   "cell_type": "code",
   "execution_count": 12,
   "metadata": {},
   "outputs": [],
   "source": [
    "\n",
    "embedding_model_name = \"intfloat/multilingual-e5-large\""
   ]
  },
  {
   "cell_type": "code",
   "execution_count": 13,
   "metadata": {},
   "outputs": [],
   "source": [
    "embedding_model = SentenceTransformer(embedding_model_name)"
   ]
  },
  {
   "cell_type": "code",
   "execution_count": 14,
   "metadata": {},
   "outputs": [],
   "source": [
    "test_questions = [\"query: what is dependency injection?\"]"
   ]
  },
  {
   "cell_type": "code",
   "execution_count": 15,
   "metadata": {},
   "outputs": [],
   "source": [
    "question_embeddings  = embedding_model.encode(test_questions, convert_to_tensor=True)"
   ]
  },
  {
   "cell_type": "code",
   "execution_count": 16,
   "metadata": {},
   "outputs": [],
   "source": [
    "question_embeddings = question_embeddings.cpu().numpy()\n",
    "\n"
   ]
  },
  {
   "cell_type": "code",
   "execution_count": null,
   "metadata": {},
   "outputs": [],
   "source": []
  },
  {
   "cell_type": "code",
   "execution_count": 17,
   "metadata": {},
   "outputs": [],
   "source": [
    "responses = milvus_client.client.search(\n",
    "    collection_name=COLLECTION_NAME,\n",
    "    data=question_embeddings,\n",
    "    limit=5,\n",
    "    output_fields=[\"node_id\", \"text\",\n",
    "                   \"metadata\", \"bbox\", \"elements\"],\n",
    "    params={\"metric_type\": \"COSINE\"}\n",
    ")"
   ]
  },
  {
   "cell_type": "code",
   "execution_count": 18,
   "metadata": {},
   "outputs": [
    {
     "data": {
      "text/plain": [
       "1"
      ]
     },
     "execution_count": 18,
     "metadata": {},
     "output_type": "execute_result"
    }
   ],
   "source": [
    "len(responses)\n"
   ]
  },
  {
   "cell_type": "code",
   "execution_count": 19,
   "metadata": {},
   "outputs": [
    {
     "data": {
      "text/plain": [
       "data: [[{'node_id': 'f02578c1-ce67-45ae-94ff-b770518199fe', 'distance': 0.8108667731285095, 'entity': {'node_id': 'f02578c1-ce67-45ae-94ff-b770518199fe', 'text': 'THE TRAP: SHIFTING THE BURDEN \\nTO THE INTERVENOR <br><br>Shifting the burden, dependence, and addiction arise when \\na solution to a systemic problem reduces (or disguises) the \\nsymptoms, but does nothing to solve the underlying problem. \\nWhether it is a substance that dulls one’s perception or a policy \\nthat hides the underlying trouble, the drug of choice interferes \\nwith the actions that could solve the real problem. <br><br>If the intervention designed to correct the problem causes \\nthe self-maintaining capacity of the original system to atrophy \\nor erode, then a destructive reinforcing feedback loop is set in \\nmotion. The system deteriorates; more and more of the solution \\nis then required. The system will become more and more depen- \\ndent on the intervention and less and less able to maintain its own \\ndesired state. <br><br>THE WAY OUT <br><br>Again, the best way out of this trap is to avoid getting in. Beware \\nof symptom-relieving or signal-denying policies or practices that \\ndon’t really address the problem. Take the focus off short-term \\nrelief and put it on long-term restructuring. ', 'metadata': {'test': 'this should not contain metadata'}, 'bbox': '[{\"page\": 151, \"page_height\": 842.0, \"page_width\": 595.0, \"x0\": 154.9, \"y0\": 293.81, \"x1\": 431.73, \"y1\": 597.21}]'}}, {'node_id': 'cf1136e4-8c29-4914-a330-4669a630d1e4', 'distance': 0.8104851245880127, 'entity': {'node_id': 'cf1136e4-8c29-4914-a330-4669a630d1e4', 'text': 'Why does anyone enter the trap? First, the intervenor may not foresee \\nthat the initial urge to help out a bit can start a chain of events that leads \\nto ever-increasing dependency, which ultimately will strain the capacity \\nof the intervenor. The American health-care system is experiencing the \\nstrains of that sequence of events. <br><br>Second, the individual or community that is being helped may not think \\nthrough the long-term loss of control and the increased vulnerability that \\ngo along with the opportunity to shift a burden to an able and powerful \\nintervenor. <br><br>If the intervention is a drug, you become addicted. The more you are \\nsucked into an addictive action, the more you are sucked into it again. \\nOne deﬁ nition of addiction used in Alcoholics Anonymous is repeating \\nthe same stupid behavior over and over and over, and somehow expecting \\ndifferent results. <br><br>Addiction is ﬁ nding a quick and dirty solution to the*symptom*of the \\nproblem, which prevents or distracts one from the harder and longer-term \\ntask of solving the real problem. Addictive policies are insidious, because \\nthey are so easy to sell, so simple to fall for. <br><br>Are insects threatening the crops? Rather than examine the farming ', 'metadata': {'test': 'this should not contain metadata'}, 'bbox': '[{\"page\": 149, \"page_height\": 842.0, \"page_width\": 595.0, \"x0\": 130.4, \"y0\": 148.44, \"x1\": 457.05, \"y1\": 420.41}]'}}, {'node_id': '1dabca26-cde8-4337-9f82-3a81bae6aee4', 'distance': 0.8078818917274475, 'entity': {'node_id': '1dabca26-cde8-4337-9f82-3a81bae6aee4', 'text': '• Injections of genetically engineered bovine growth hormone <br><br>increase the milk production of a cow without proportionately \\nincreasing the cow’s food intake. The hormone diverts some of \\nthe cow’s metabolic energy from other bodily functions to milk \\nproduction. (Cattle breeding over centuries has done much the \\nsame thing but not to the same degree.) The cost of increased \\nproduction is lowered resilience. The cow is less healthy, less \\nlong-lived, more dependent on human management. <br><br>• Just-in-time deliveries of products to retailers or parts to \\nmanufacturers have reduced inventory instabilities and \\nbrought down costs in many industries. The just-in-time \\nmodel also has made the production system more vulnerable, \\nhowever, to perturbations in fuel supply, trafﬁ c ﬂ ow, computer \\nbreakdown, labor availability, and other possible glitches. <br><br>• Hundreds of years of intensive management of the forests of \\nEurope gradually have replaced native ecosystems with single- \\nage, single-species plantations, often of nonnative trees. These ', 'metadata': {'test': 'this should not contain metadata'}, 'bbox': '[{\"page\": 93, \"page_height\": 842.0, \"page_width\": 595.0, \"x0\": 163.4, \"y0\": 148.48, \"x1\": 432.53, \"y1\": 390.99}]'}}, {'node_id': '6fd87228-402f-434c-945b-ba799fe94ef5', 'distance': 0.8066880106925964, 'entity': {'node_id': '6fd87228-402f-434c-945b-ba799fe94ef5', 'text': 'Most people understand the addictive properties of alcohol, nicotine, \\ncaffeine, sugar, and heroin. Not everyone recognizes that addiction can \\nappear in larger systems and in other guises—such as the dependence of \\nindustry on government subsidy, the reliance of farmers on fertilizers, the \\naddiction of Western economies to cheap oil or weapons manufacturers to \\ngovernment contracts. <br><br>This trap is known by many names: addiction, dependence, shifting the \\nburden to the intervenor. The structure includes a stock with in-ﬂ ows and \\nout-ﬂ ows. The stock can be physical (a crop of corn) or*meta*-physical (a \\nsense of well-being or self-worth). The stock is maintained by an actor \\nadjusting a balancing feedback loop—either altering the in-ﬂ ows or out- \\nﬂ ows. The actor has a goal and compares it with a perception of the actual \\nstate of the stock to determine what action to take. <br><br>Say you are a young boy, living in a land of famine and war, and your goal \\nis to boost your sense of well-being so you feel happy and energetic and ', 'metadata': {'test': 'this should not contain metadata'}, 'bbox': '[{\"page\": 147, \"page_height\": 842.0, \"page_width\": 595.0, \"x0\": 130.4, \"y0\": 148.4, \"x1\": 456.97, \"y1\": 362.37}]'}}, {'node_id': '35106ddc-434f-46c4-8404-a65aba3fa98c', 'distance': 0.8013603687286377, 'entity': {'node_id': '35106ddc-434f-46c4-8404-a65aba3fa98c', 'text': '**Shifting the Burden to the Intervenor—Addiction**<br><br>You get some sense of what an incredible downward spiral we’re in. \\nBecause more costs keep being shifted to the private sector, more \\nprivate sector people stop insuring their employees. We are . . . now \\nup to 100,000 Americans a month losing their health insurance. <br><br>An enormous percentage of them qualify for state Medicaid \\nbeneﬁ ts. And since states can’t run a deﬁ cit, they all go out and \\neither underfund education, or underfund children’s investment \\nprograms, or raise taxes, and that takes money away from other \\ninvestments. <br><br>—Bill Clinton,*International Herald Tribune*, 199211 <br><br>If you want to make a Somali angry, it is said, take away his khat. . . . \\nKhat is the fresh tender leaves and twigs of the*catha edulis*plant. <br><br>. . . It is pharmacologically related to amphetamines. . . . <br><br>Abdukadr Mahmoud Farah, 22, said he ﬁ rst started chew- \\ning khat when he was 15. . . . “The reason is not to think of this \\nplace. When I use it, I get happy. I can do everything. I do not get \\ntired.” <br><br>—Keith B. Richburg,*International Herald Tribune*, 199212 ', 'metadata': {'test': 'this should not contain metadata'}, 'bbox': '[{\"page\": 147, \"page_height\": 842.0, \"page_width\": 595.0, \"x0\": 154.4, \"y0\": 380.61, \"x1\": 432.83, \"y1\": 682.52}]'}}]]"
      ]
     },
     "execution_count": 19,
     "metadata": {},
     "output_type": "execute_result"
    }
   ],
   "source": [
    "responses"
   ]
  },
  {
   "cell_type": "code",
   "execution_count": 20,
   "metadata": {},
   "outputs": [],
   "source": [
    "from src.rag.schemas.document import Node"
   ]
  },
  {
   "cell_type": "code",
   "execution_count": 21,
   "metadata": {},
   "outputs": [
    {
     "name": "stdout",
     "output_type": "stream",
     "text": [
      "Question: query: what is dependency injection?\n",
      "============================================================\n",
      "f02578c1-ce67-45ae-94ff-b770518199fe 0.8108667731285095 THE TRAP: SHIFTING THE BURDEN \n",
      "TO THE INTERVENOR <br><br>Shifting the burden, dependence, and addiction arise when \n",
      "a solution to a systemic problem reduces (or disguises) the \n",
      "symptoms, but does nothing to solve the underlying problem. \n",
      "Whether it is a substance that dulls one’s perception or a policy \n",
      "that hides the underlying trouble, the drug of choice interferes \n",
      "with the actions that could solve the real problem. <br><br>If the intervention designed to correct the problem causes \n",
      "the self-maintaining capacity of the original system to atrophy \n",
      "or erode, then a destructive reinforcing feedback loop is set in \n",
      "motion. The system deteriorates; more and more of the solution \n",
      "is then required. The system will become more and more depen- \n",
      "dent on the intervention and less and less able to maintain its own \n",
      "desired state. <br><br>THE WAY OUT <br><br>Again, the best way out of this trap is to avoid getting in. Beware \n",
      "of symptom-relieving or signal-denying policies or practices that \n",
      "don’t really address the problem. Take the focus off short-term \n",
      "relief and put it on long-term restructuring. \n",
      "the entity is of type: [{\"page\": 151, \"page_height\": 842.0, \"page_width\": 595.0, \"x0\": 154.9, \"y0\": 293.81, \"x1\": 431.73, \"y1\": 597.21}]\n",
      "cf1136e4-8c29-4914-a330-4669a630d1e4 0.8104851245880127 Why does anyone enter the trap? First, the intervenor may not foresee \n",
      "that the initial urge to help out a bit can start a chain of events that leads \n",
      "to ever-increasing dependency, which ultimately will strain the capacity \n",
      "of the intervenor. The American health-care system is experiencing the \n",
      "strains of that sequence of events. <br><br>Second, the individual or community that is being helped may not think \n",
      "through the long-term loss of control and the increased vulnerability that \n",
      "go along with the opportunity to shift a burden to an able and powerful \n",
      "intervenor. <br><br>If the intervention is a drug, you become addicted. The more you are \n",
      "sucked into an addictive action, the more you are sucked into it again. \n",
      "One deﬁ nition of addiction used in Alcoholics Anonymous is repeating \n",
      "the same stupid behavior over and over and over, and somehow expecting \n",
      "different results. <br><br>Addiction is ﬁ nding a quick and dirty solution to the*symptom*of the \n",
      "problem, which prevents or distracts one from the harder and longer-term \n",
      "task of solving the real problem. Addictive policies are insidious, because \n",
      "they are so easy to sell, so simple to fall for. <br><br>Are insects threatening the crops? Rather than examine the farming \n",
      "the entity is of type: [{\"page\": 149, \"page_height\": 842.0, \"page_width\": 595.0, \"x0\": 130.4, \"y0\": 148.44, \"x1\": 457.05, \"y1\": 420.41}]\n",
      "6fd87228-402f-434c-945b-ba799fe94ef5 0.806688129901886 Most people understand the addictive properties of alcohol, nicotine, \n",
      "caffeine, sugar, and heroin. Not everyone recognizes that addiction can \n",
      "appear in larger systems and in other guises—such as the dependence of \n",
      "industry on government subsidy, the reliance of farmers on fertilizers, the \n",
      "addiction of Western economies to cheap oil or weapons manufacturers to \n",
      "government contracts. <br><br>This trap is known by many names: addiction, dependence, shifting the \n",
      "burden to the intervenor. The structure includes a stock with in-ﬂ ows and \n",
      "out-ﬂ ows. The stock can be physical (a crop of corn) or*meta*-physical (a \n",
      "sense of well-being or self-worth). The stock is maintained by an actor \n",
      "adjusting a balancing feedback loop—either altering the in-ﬂ ows or out- \n",
      "ﬂ ows. The actor has a goal and compares it with a perception of the actual \n",
      "state of the stock to determine what action to take. <br><br>Say you are a young boy, living in a land of famine and war, and your goal \n",
      "is to boost your sense of well-being so you feel happy and energetic and \n",
      "the entity is of type: [{\"page\": 147, \"page_height\": 842.0, \"page_width\": 595.0, \"x0\": 130.4, \"y0\": 148.4, \"x1\": 456.97, \"y1\": 362.37}]\n",
      "d15b44a6-cb18-4287-aba5-a499317aa05c 0.8030880093574524 Adipisicing Lorem et quis magna consequat ut irure <br><br>tempor eu dolor nisi. Do irure in cupidatat laborum <br><br>occaecat officia non nisi non amet mollit duis <br><br>ullamco. Duis amet velit sint consectetur. Fugiat <br><br>magna cillum cillum do voluptate. Dolore fugiat <br><br>voluptate veniam sint dolor anim. \n",
      "the entity is of type: [{\"page\": 7, \"page_height\": 414.0, \"page_width\": 735.12, \"x0\": 379.34, \"y0\": 265.31, \"x1\": 680.9, \"y1\": 356.63}]\n",
      "fe516c2d-91b6-42fd-8e45-939488b6a09f 0.8026291131973267 Eu mollit nulla voluptate dolore dolore tempor velit aliqua cillum irure quis ea. Aute laboris sit quis aliquip <br><br>tempor elit adipisicing duis in sint sit eiusmod exercitation consectetur. Ut deserunt qui veniam dolore sint <br><br>excepteur. Occaecat minim ea eu esse enim deserunt veniam ad ullamco nostrud est. \n",
      "the entity is of type: [{\"page\": 4, \"page_height\": 414.0, \"page_width\": 735.12, \"x0\": 41.84, \"y0\": 287.81, \"x1\": 662.66, \"y1\": 325.13}]\n",
      "============================================================\n"
     ]
    }
   ],
   "source": [
    "for question, response in zip(test_questions, responses):\n",
    "    print(f\"Question: {question}\")\n",
    "    print(\"===\" * 20)\n",
    "    for result in response:\n",
    "        print(result.id, result.distance, result.entity.get(\"text\"))\n",
    "        print(\"the entity is of type:\", result.entity.get(\"bbox\"))\n",
    "    print(\"===\" * 20)"
   ]
  },
  {
   "cell_type": "code",
   "execution_count": null,
   "metadata": {},
   "outputs": [],
   "source": []
  },
  {
   "cell_type": "code",
   "execution_count": null,
   "metadata": {},
   "outputs": [],
   "source": [
    "### Need to come and chech the results and implement vector search."
   ]
  }
 ],
 "metadata": {
  "kernelspec": {
   "display_name": ".venv",
   "language": "python",
   "name": "python3"
  },
  "language_info": {
   "codemirror_mode": {
    "name": "ipython",
    "version": 3
   },
   "file_extension": ".py",
   "mimetype": "text/x-python",
   "name": "python",
   "nbconvert_exporter": "python",
   "pygments_lexer": "ipython3",
   "version": "3.10.4"
  }
 },
 "nbformat": 4,
 "nbformat_minor": 2
}
