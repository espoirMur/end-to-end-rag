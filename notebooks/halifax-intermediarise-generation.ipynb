{
 "cells": [
  {
   "cell_type": "markdown",
   "id": "17344256",
   "metadata": {},
   "source": [
    "### Generator"
   ]
  },
  {
   "cell_type": "code",
   "execution_count": null,
   "id": "5456d48e",
   "metadata": {},
   "outputs": [],
   "source": [
    "from src.rag.components.generator import LLamaCppGeneratorComponent"
   ]
  },
  {
   "cell_type": "code",
   "execution_count": null,
   "id": "faad8b39",
   "metadata": {},
   "outputs": [],
   "source": [
    "prompt = \"you are a helpful mortgage advisor\""
   ]
  },
  {
   "cell_type": "code",
   "execution_count": null,
   "id": "dd57a0f2",
   "metadata": {},
   "outputs": [],
   "source": [
    "model_name = \"Qwen/Qwen2.5-1.5B-Instruct\""
   ]
  },
  {
   "cell_type": "code",
   "execution_count": null,
   "id": "c9730c91",
   "metadata": {},
   "outputs": [],
   "source": [
    "llama_cpp_generator = LLamaCppGeneratorComponent(\n",
    "    api_url=\"http://127.0.0.1:8001\",\n",
    "    model_name=model_name,\n",
    "    prompt=prompt\n",
    ")"
   ]
  },
  {
   "cell_type": "code",
   "execution_count": null,
   "id": "990fbb5e",
   "metadata": {},
   "outputs": [],
   "source": [
    "llama_cpp_generator._ping_api()"
   ]
  },
  {
   "cell_type": "markdown",
   "id": "066bd1f6",
   "metadata": {},
   "source": [
    "### Reading the question and Paragraphs"
   ]
  },
  {
   "cell_type": "code",
   "execution_count": null,
   "id": "6ce06213",
   "metadata": {},
   "outputs": [],
   "source": []
  },
  {
   "cell_type": "code",
   "execution_count": null,
   "id": "4c2104be",
   "metadata": {},
   "outputs": [],
   "source": [
    "from pathlib import Path"
   ]
  },
  {
   "cell_type": "code",
   "execution_count": null,
   "id": "77809408",
   "metadata": {},
   "outputs": [],
   "source": [
    "current_working_directory = Path.cwd()"
   ]
  },
  {
   "cell_type": "code",
   "execution_count": null,
   "id": "4e41f6a4",
   "metadata": {},
   "outputs": [],
   "source": [
    "data_directory = current_working_directory.joinpath(\"datasets/halifax_intermediaries/\")\n",
    "data_directory.exists()"
   ]
  },
  {
   "cell_type": "code",
   "execution_count": null,
   "id": "5ba8d5b3",
   "metadata": {},
   "outputs": [],
   "source": [
    "embedding_model_name = \"intfloat/multilingual-e5-large\""
   ]
  },
  {
   "cell_type": "code",
   "execution_count": null,
   "id": "0649d375",
   "metadata": {},
   "outputs": [],
   "source": [
    "path  = data_directory.joinpath(f\"question_and_paragraph_{embedding_model_name.split('/')[-1]}.csv\")"
   ]
  },
  {
   "cell_type": "code",
   "execution_count": null,
   "id": "4e92d4ed",
   "metadata": {},
   "outputs": [],
   "source": [
    "path"
   ]
  },
  {
   "cell_type": "code",
   "execution_count": null,
   "id": "871d0807",
   "metadata": {},
   "outputs": [],
   "source": [
    "import pandas as pd"
   ]
  },
  {
   "cell_type": "code",
   "execution_count": null,
   "id": "4b7c7519",
   "metadata": {},
   "outputs": [],
   "source": [
    "question_paragraph = pd.read_csv(path, index_col=[0, 1])"
   ]
  },
  {
   "cell_type": "code",
   "execution_count": null,
   "id": "7492e4ab",
   "metadata": {},
   "outputs": [],
   "source": [
    "question_paragraph"
   ]
  },
  {
   "cell_type": "code",
   "execution_count": null,
   "id": "11e0c208",
   "metadata": {},
   "outputs": [],
   "source": [
    "question_paragraph.to_clipboard()"
   ]
  },
  {
   "cell_type": "code",
   "execution_count": null,
   "id": "1f109ab8",
   "metadata": {},
   "outputs": [],
   "source": [
    "from tqdm import tqdm\n",
    "\n",
    "generated_answers = {}\n",
    "for question in tqdm(question_paragraph.index.levels[0], desc=\"Generating answers\"):\n",
    "    paragraphs = question_paragraph.loc[question].content.tolist()\n",
    "    template_input = {\n",
    "        \"documents\": paragraphs,\n",
    "        \"question\": question\n",
    "    }\n",
    "    response = llama_cpp_generator.run(template_values=template_input)\n",
    "    generated_answers[question] = response"
   ]
  },
  {
   "cell_type": "code",
   "execution_count": null,
   "id": "14520fdb",
   "metadata": {},
   "outputs": [],
   "source": [
    "len(generated_answers)"
   ]
  },
  {
   "cell_type": "code",
   "execution_count": null,
   "id": "c8de8bbd",
   "metadata": {},
   "outputs": [],
   "source": [
    "import json"
   ]
  },
  {
   "cell_type": "code",
   "execution_count": null,
   "id": "1db9c2b8",
   "metadata": {},
   "outputs": [],
   "source": [
    "loaded_answers = {}\n",
    "for question in generated_answers.keys():\n",
    "    answer = json.loads(generated_answers[question])\n",
    "    loaded_answers[question] = answer"
   ]
  },
  {
   "cell_type": "code",
   "execution_count": null,
   "id": "193430ec",
   "metadata": {},
   "outputs": [],
   "source": [
    "generate_answers_df = pd.DataFrame.from_dict(loaded_answers, orient='index')"
   ]
  },
  {
   "cell_type": "code",
   "execution_count": null,
   "id": "42e24899",
   "metadata": {},
   "outputs": [],
   "source": [
    "generate_answers_df"
   ]
  },
  {
   "cell_type": "code",
   "execution_count": null,
   "id": "eccd4a71",
   "metadata": {},
   "outputs": [],
   "source": [
    "loaded_answers.get(\"Can you let me know which order i will need to do a product transfer and a further advance for existing client ?\")"
   ]
  },
  {
   "cell_type": "code",
   "execution_count": null,
   "id": "12843cff",
   "metadata": {},
   "outputs": [],
   "source": [
    "generate_answers_df.text = generate_answers_df.text.str.replace(\"\\n\", \"\").str.strip()"
   ]
  },
  {
   "cell_type": "code",
   "execution_count": null,
   "id": "9188503e",
   "metadata": {},
   "outputs": [],
   "source": [
    "failed_question_df = generate_answers_df[generate_answers_df.is_correct == False]"
   ]
  },
  {
   "cell_type": "code",
   "execution_count": null,
   "id": "6fae60df",
   "metadata": {},
   "outputs": [],
   "source": [
    "failed_question_df"
   ]
  },
  {
   "cell_type": "markdown",
   "id": "8b3e8f52",
   "metadata": {},
   "source": [
    "### Tommorow we need to investigate the failed question and try different appraoches:\n",
    "\n",
    "- Question rephrasing\n",
    "- Drop nan in question\n",
    "- Revisit the question and correct the questions."
   ]
  },
  {
   "cell_type": "code",
   "execution_count": null,
   "id": "69b6ff94",
   "metadata": {},
   "outputs": [],
   "source": [
    "### Multiple Query Retrieval"
   ]
  },
  {
   "cell_type": "code",
   "execution_count": null,
   "id": "73979f6d",
   "metadata": {},
   "outputs": [],
   "source": [
    "\n",
    "failed_question_df.to_csv(current_working_directory.joinpath(f\"failed_questions_{embedding_model_name.split('/')[-1]}.csv\"))"
   ]
  },
  {
   "cell_type": "code",
   "execution_count": null,
   "id": "80a30343",
   "metadata": {},
   "outputs": [],
   "source": [
    "rephraser_prompt = \"\"\" \n",
    "\"{{question}}\"\n",
    "Given the above question, rephrase and expand it to help you do better answering. \n",
    " Generates at least 3 different questions that are in the original question \n",
    " Maintain all information in the original question.\n",
    " But fix any typos and replace abbreviation by full text\n",
    " The goal of those questions is to retrieve better chunks using embedding search\"\"\""
   ]
  },
  {
   "cell_type": "markdown",
   "id": "e5391af8",
   "metadata": {},
   "source": [
    "Tomorrow try RAG function approach."
   ]
  },
  {
   "cell_type": "code",
   "execution_count": null,
   "id": "03aceda0",
   "metadata": {},
   "outputs": [],
   "source": []
  }
 ],
 "metadata": {
  "kernelspec": {
   "display_name": ".venv",
   "language": "python",
   "name": "python3"
  },
  "language_info": {
   "codemirror_mode": {
    "name": "ipython",
    "version": 3
   },
   "file_extension": ".py",
   "mimetype": "text/x-python",
   "name": "python",
   "nbconvert_exporter": "python",
   "pygments_lexer": "ipython3",
   "version": "3.10.4"
  }
 },
 "nbformat": 4,
 "nbformat_minor": 5
}
