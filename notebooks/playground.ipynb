{
 "cells": [
  {
   "cell_type": "code",
   "execution_count": 1,
   "id": "4800ee9d",
   "metadata": {},
   "outputs": [],
   "source": [
    "from src.rag.components.ingestion.pdf_parser.parser import MyDocumentParser"
   ]
  },
  {
   "cell_type": "code",
   "execution_count": 3,
   "id": "28eac380",
   "metadata": {},
   "outputs": [],
   "source": [
    "from pathlib import Path"
   ]
  },
  {
   "cell_type": "code",
   "execution_count": 4,
   "id": "cb0511ba",
   "metadata": {},
   "outputs": [],
   "source": [
    "test_document = Path(\n",
    "    \"/Users/esp.py/Projects/Personal/end-to-end-rag/datasets/parsed_documents/parsed_documents/Chevening_Webinar2024.pdf_000b6744-2e0b-4fcd-9031-d8962262f0b4.json\")"
   ]
  },
  {
   "cell_type": "code",
   "execution_count": 5,
   "id": "b579c7f5",
   "metadata": {},
   "outputs": [
    {
     "data": {
      "text/plain": [
       "True"
      ]
     },
     "execution_count": 5,
     "metadata": {},
     "output_type": "execute_result"
    }
   ],
   "source": [
    "test_document.exists()"
   ]
  },
  {
   "cell_type": "code",
   "execution_count": 6,
   "id": "86f648ce",
   "metadata": {},
   "outputs": [],
   "source": [
    "input_path = Path.cwd().joinpath(\"datasets\", \"parsed_documents\", \"parsed_documents\")\n",
    "output_path = Path.home().joinpath(\"datasets\", \"parsed_documents_with_embeddings\")"
   ]
  },
  {
   "cell_type": "code",
   "execution_count": 7,
   "id": "5db8ad7f",
   "metadata": {},
   "outputs": [],
   "source": [
    "from src.rag.components.shared.io import IOManager"
   ]
  },
  {
   "cell_type": "code",
   "execution_count": 8,
   "id": "b7e88ea7",
   "metadata": {},
   "outputs": [],
   "source": [
    "io_manager = IOManager(input_document_path=input_path, output_path=output_path)"
   ]
  },
  {
   "cell_type": "code",
   "execution_count": 10,
   "id": "5c46d992",
   "metadata": {},
   "outputs": [],
   "source": [
    "test_node = io_manager.load_node_from_string(test_document)"
   ]
  },
  {
   "cell_type": "code",
   "execution_count": 12,
   "id": "ed56764b",
   "metadata": {},
   "outputs": [
    {
     "data": {
      "text/plain": [
       "'**Be Authentic**\\nBe Specific <br><br>Instead of saying,**\"I want to improve education in**\\n**Congo**,\" specify how you plan to do this. For example, \"I \\naim to enhance education in Congo by establishing a \\nnetwork of digital learning centres equipped with 5 \\nrouters. This will allow students in remote areas to access \\nonline courses and educational resources, ensuring they \\ncan learn about everything from math to the latest dance \\ntrends—without having to walk five miles just to find a \\ngood internet connection!\" '"
      ]
     },
     "execution_count": 12,
     "metadata": {},
     "output_type": "execute_result"
    }
   ],
   "source": [
    "test_node.text"
   ]
  },
  {
   "cell_type": "markdown",
   "id": "c1f23d70",
   "metadata": {},
   "source": []
  }
 ],
 "metadata": {
  "kernelspec": {
   "display_name": ".venv",
   "language": "python",
   "name": "python3"
  },
  "language_info": {
   "codemirror_mode": {
    "name": "ipython",
    "version": 3
   },
   "file_extension": ".py",
   "mimetype": "text/x-python",
   "name": "python",
   "nbconvert_exporter": "python",
   "pygments_lexer": "ipython3",
   "version": "3.10.4"
  }
 },
 "nbformat": 4,
 "nbformat_minor": 5
}
