{
 "cells": [
  {
   "cell_type": "markdown",
   "metadata": {},
   "source": [
    "## New Summarizer experiments1"
   ]
  },
  {
   "cell_type": "markdown",
   "metadata": {},
   "source": [
    "What I need to do\n",
    "\n",
    "- Retrieve the today news, article from the scrapper database.\n",
    "\n",
    "- Summarize them with good prompt.\n",
    "\n",
    "- display them on a UI."
   ]
  },
  {
   "cell_type": "code",
   "execution_count": 1,
   "metadata": {},
   "outputs": [],
   "source": [
    "%load_ext dotenv"
   ]
  },
  {
   "cell_type": "code",
   "execution_count": 2,
   "metadata": {},
   "outputs": [],
   "source": [
    "%dotenv ./.env_prod -o"
   ]
  },
  {
   "cell_type": "code",
   "execution_count": 3,
   "metadata": {},
   "outputs": [],
   "source": [
    "from src.shared.database import execute_query, generate_database_connection"
   ]
  },
  {
   "cell_type": "code",
   "execution_count": 4,
   "metadata": {},
   "outputs": [],
   "source": [
    "yesterday_article_query = \"select content, title, posted_at,url from article where posted_at::date = CURRENT_DATE - interval '1 day'\""
   ]
  },
  {
   "cell_type": "code",
   "execution_count": 5,
   "metadata": {},
   "outputs": [],
   "source": [
    "from os import getenv"
   ]
  },
  {
   "cell_type": "code",
   "execution_count": 6,
   "metadata": {},
   "outputs": [],
   "source": [
    "database_user = getenv('POSTGRES_USER')\n",
    "database_password = getenv('POSTGRES_PASSWORD')\n",
    "database_host = getenv('POSTGRES_HOST')\n",
    "database_port = getenv('POSTGRES_PORT')\n",
    "database_name = getenv('POSTGRES_DB')"
   ]
  },
  {
   "cell_type": "code",
   "execution_count": 7,
   "metadata": {},
   "outputs": [],
   "source": [
    "database_credentials = {\n",
    "    'user': database_user,\n",
    "    'password': database_password,\n",
    "    'host': database_host,\n",
    "    'port': database_port,\n",
    "    'database': database_name\n",
    "}"
   ]
  },
  {
   "cell_type": "code",
   "execution_count": 8,
   "metadata": {},
   "outputs": [],
   "source": [
    "connection = generate_database_connection(database_crendentials=database_credentials)"
   ]
  },
  {
   "cell_type": "code",
   "execution_count": 9,
   "metadata": {},
   "outputs": [
    {
     "data": {
      "text/plain": [
       "<connection object at 0x10af84040; dsn: 'user=esp_py password=xxx dbname=congo_news_db host=107.173.6.77 port=5434', closed: 0>"
      ]
     },
     "execution_count": 9,
     "metadata": {},
     "output_type": "execute_result"
    }
   ],
   "source": [
    "connection"
   ]
  },
  {
   "cell_type": "code",
   "execution_count": 10,
   "metadata": {},
   "outputs": [],
   "source": [
    "results =execute_query(query=yesterday_article_query, database_connection=connection)"
   ]
  },
  {
   "cell_type": "code",
   "execution_count": 11,
   "metadata": {},
   "outputs": [
    {
     "data": {
      "text/plain": [
       "'https://econewsrdc.com/presence-remarquee-de-lanapi-a-la-14eme-edition-du-forum-europafrica-investment-a-bruxelles/'"
      ]
     },
     "execution_count": 11,
     "metadata": {},
     "output_type": "execute_result"
    }
   ],
   "source": [
    "results[0].url"
   ]
  },
  {
   "cell_type": "code",
   "execution_count": 12,
   "metadata": {},
   "outputs": [],
   "source": [
    "import pandas as pd"
   ]
  },
  {
   "cell_type": "code",
   "execution_count": 13,
   "metadata": {},
   "outputs": [],
   "source": [
    "results_df = pd.DataFrame.from_records(results)"
   ]
  },
  {
   "cell_type": "code",
   "execution_count": 14,
   "metadata": {},
   "outputs": [],
   "source": [
    "results_df.columns = [\"content\", \"title\", \"posted_at\", \"url\"]"
   ]
  },
  {
   "cell_type": "code",
   "execution_count": 382,
   "metadata": {},
   "outputs": [],
   "source": [
    "from pathlib import Path"
   ]
  },
  {
   "cell_type": "code",
   "execution_count": 383,
   "metadata": {},
   "outputs": [],
   "source": [
    "current_directory = Path.cwd().joinpath(\"datasets\", \"today_news\")"
   ]
  },
  {
   "cell_type": "code",
   "execution_count": 386,
   "metadata": {},
   "outputs": [],
   "source": [
    "current_directory.mkdir(exist_ok=True)"
   ]
  },
  {
   "cell_type": "code",
   "execution_count": 388,
   "metadata": {},
   "outputs": [],
   "source": [
    "from datetime import datetime"
   ]
  },
  {
   "cell_type": "code",
   "execution_count": 389,
   "metadata": {},
   "outputs": [],
   "source": [
    "today = datetime.now().strftime(\"%Y-%m-%d\")"
   ]
  },
  {
   "cell_type": "code",
   "execution_count": 390,
   "metadata": {},
   "outputs": [],
   "source": [
    "results_df.to_csv(current_directory.joinpath(f\"{today}-news.csv\"))"
   ]
  },
  {
   "cell_type": "code",
   "execution_count": 15,
   "metadata": {},
   "outputs": [
    {
     "data": {
      "text/plain": [
       "0     Dans le cadre de la mise en œuvre de son Plan ...\n",
       "1     Les membres du gouvernement provincial de Mai-...\n",
       "2     VODACASH S.A, filiale de Vodacom Congo (RDC) S...\n",
       "3     octobre 10, 2024 Kinshasa- Financement des tra...\n",
       "4     Les Leopards de la RDC signent une précieuse v...\n",
       "                            ...                        \n",
       "67    ‘ »Kabila-Lumumba au grade de Grand Officier, ...\n",
       "68    Sur instruction du Président de la République,...\n",
       "69    L’ultimatum de 72h lancé le 07 octobre 2024 pa...\n",
       "70    Moins tranchants dans le jeu, les fauves congo...\n",
       "71    Au moins 47.911 personnes sont attendues pour ...\n",
       "Name: content, Length: 72, dtype: object"
      ]
     },
     "execution_count": 15,
     "metadata": {},
     "output_type": "execute_result"
    }
   ],
   "source": [
    "results_df.content"
   ]
  },
  {
   "cell_type": "code",
   "execution_count": 16,
   "metadata": {},
   "outputs": [],
   "source": [
    "results_df = results_df.drop_duplicates(subset=\"content\")"
   ]
  },
  {
   "cell_type": "code",
   "execution_count": 17,
   "metadata": {},
   "outputs": [
    {
     "data": {
      "text/html": [
       "<div>\n",
       "<style scoped>\n",
       "    .dataframe tbody tr th:only-of-type {\n",
       "        vertical-align: middle;\n",
       "    }\n",
       "\n",
       "    .dataframe tbody tr th {\n",
       "        vertical-align: top;\n",
       "    }\n",
       "\n",
       "    .dataframe thead th {\n",
       "        text-align: right;\n",
       "    }\n",
       "</style>\n",
       "<table border=\"1\" class=\"dataframe\">\n",
       "  <thead>\n",
       "    <tr style=\"text-align: right;\">\n",
       "      <th></th>\n",
       "      <th>content</th>\n",
       "      <th>title</th>\n",
       "      <th>posted_at</th>\n",
       "      <th>url</th>\n",
       "    </tr>\n",
       "  </thead>\n",
       "  <tbody>\n",
       "    <tr>\n",
       "      <th>0</th>\n",
       "      <td>Dans le cadre de la mise en œuvre de son Plan ...</td>\n",
       "      <td>Présence remarquée de l’ANAPI à la 14ème éditi...</td>\n",
       "      <td>2024-10-10 00:00:00</td>\n",
       "      <td>https://econewsrdc.com/presence-remarquee-de-l...</td>\n",
       "    </tr>\n",
       "    <tr>\n",
       "      <th>1</th>\n",
       "      <td>Les membres du gouvernement provincial de Mai-...</td>\n",
       "      <td>Mai-Ndombe : le gouvernement provincial publié...</td>\n",
       "      <td>2024-10-10 08:59:00</td>\n",
       "      <td>https://actualite.cd/2024/10/10/mai-ndombe-le-...</td>\n",
       "    </tr>\n",
       "    <tr>\n",
       "      <th>2</th>\n",
       "      <td>VODACASH S.A, filiale de Vodacom Congo (RDC) S...</td>\n",
       "      <td>Partenariat stratégique entre VODACASH et la S...</td>\n",
       "      <td>2024-10-10 00:00:00</td>\n",
       "      <td>https://econewsrdc.com/partenariat-strategique...</td>\n",
       "    </tr>\n",
       "    <tr>\n",
       "      <th>3</th>\n",
       "      <td>octobre 10, 2024 Kinshasa- Financement des tra...</td>\n",
       "      <td>Kinshasa- Financement des travaux du projet 3 ...</td>\n",
       "      <td>2024-10-10 00:00:00</td>\n",
       "      <td>https://depeche.cd/2024/10/10/kinshasa-finance...</td>\n",
       "    </tr>\n",
       "    <tr>\n",
       "      <th>4</th>\n",
       "      <td>Les Leopards de la RDC signent une précieuse v...</td>\n",
       "      <td>Elim/CAN 2025 : Toujours aussi poussifs, les L...</td>\n",
       "      <td>2024-10-10 19:18:00</td>\n",
       "      <td>https://actualite.cd/index.php/2024/10/10/elim...</td>\n",
       "    </tr>\n",
       "  </tbody>\n",
       "</table>\n",
       "</div>"
      ],
      "text/plain": [
       "                                             content  \\\n",
       "0  Dans le cadre de la mise en œuvre de son Plan ...   \n",
       "1  Les membres du gouvernement provincial de Mai-...   \n",
       "2  VODACASH S.A, filiale de Vodacom Congo (RDC) S...   \n",
       "3  octobre 10, 2024 Kinshasa- Financement des tra...   \n",
       "4  Les Leopards de la RDC signent une précieuse v...   \n",
       "\n",
       "                                               title           posted_at  \\\n",
       "0  Présence remarquée de l’ANAPI à la 14ème éditi... 2024-10-10 00:00:00   \n",
       "1  Mai-Ndombe : le gouvernement provincial publié... 2024-10-10 08:59:00   \n",
       "2  Partenariat stratégique entre VODACASH et la S... 2024-10-10 00:00:00   \n",
       "3  Kinshasa- Financement des travaux du projet 3 ... 2024-10-10 00:00:00   \n",
       "4  Elim/CAN 2025 : Toujours aussi poussifs, les L... 2024-10-10 19:18:00   \n",
       "\n",
       "                                                 url  \n",
       "0  https://econewsrdc.com/presence-remarquee-de-l...  \n",
       "1  https://actualite.cd/2024/10/10/mai-ndombe-le-...  \n",
       "2  https://econewsrdc.com/partenariat-strategique...  \n",
       "3  https://depeche.cd/2024/10/10/kinshasa-finance...  \n",
       "4  https://actualite.cd/index.php/2024/10/10/elim...  "
      ]
     },
     "execution_count": 17,
     "metadata": {},
     "output_type": "execute_result"
    }
   ],
   "source": [
    "results_df.head()"
   ]
  },
  {
   "cell_type": "code",
   "execution_count": 18,
   "metadata": {},
   "outputs": [
    {
     "name": "stderr",
     "output_type": "stream",
     "text": [
      "/Users/esp.py/Projects/Personal/end-to-end-rag/.venv/lib/python3.10/site-packages/tqdm/auto.py:21: TqdmWarning: IProgress not found. Please update jupyter and ipywidgets. See https://ipywidgets.readthedocs.io/en/stable/user_install.html\n",
      "  from .autonotebook import tqdm as notebook_tqdm\n"
     ]
    }
   ],
   "source": [
    "from src.rag.components.generator import LLamaCppGeneratorComponent"
   ]
  },
  {
   "cell_type": "code",
   "execution_count": 19,
   "metadata": {},
   "outputs": [],
   "source": [
    "model_name = \"Qwen/Qwen2.5-1.5B-Instruct\""
   ]
  },
  {
   "cell_type": "code",
   "execution_count": 20,
   "metadata": {},
   "outputs": [],
   "source": [
    "prompt = \"You are a french news reporter\""
   ]
  },
  {
   "cell_type": "code",
   "execution_count": 21,
   "metadata": {},
   "outputs": [],
   "source": [
    "llama_cpp_generator = LLamaCppGeneratorComponent(\n",
    "    api_url=\"http://127.0.0.1:8001\",\n",
    "    model_name=model_name,\n",
    "    prompt=prompt\n",
    ")"
   ]
  },
  {
   "cell_type": "code",
   "execution_count": 22,
   "metadata": {},
   "outputs": [
    {
     "data": {
      "text/plain": [
       "True"
      ]
     },
     "execution_count": 22,
     "metadata": {},
     "output_type": "execute_result"
    }
   ],
   "source": [
    "llama_cpp_generator._ping_api()"
   ]
  },
  {
   "cell_type": "markdown",
   "metadata": {},
   "source": [
    "prompting doesn't seem to wokr, let us use clustering and prompting."
   ]
  },
  {
   "cell_type": "markdown",
   "metadata": {},
   "source": [
    "The step will be computing the embedding of the documents, and then cluster the document. Then for each cluster of documents, we will generate a summary."
   ]
  },
  {
   "cell_type": "markdown",
   "metadata": {},
   "source": [
    "embedding_model_id = \"dunzhang/stella_en_400M_v5\""
   ]
  },
  {
   "cell_type": "code",
   "execution_count": 23,
   "metadata": {},
   "outputs": [],
   "source": [
    "embedding_model_id = \"dunzhang/stella_en_400M_v5\""
   ]
  },
  {
   "cell_type": "code",
   "execution_count": 24,
   "metadata": {},
   "outputs": [],
   "source": [
    "from pathlib import Path"
   ]
  },
  {
   "cell_type": "code",
   "execution_count": 25,
   "metadata": {},
   "outputs": [],
   "source": [
    "model_path = Path.cwd().joinpath(\"models\")"
   ]
  },
  {
   "cell_type": "code",
   "execution_count": 26,
   "metadata": {},
   "outputs": [],
   "source": [
    "embedding_model_path = model_path.joinpath(embedding_model_id)"
   ]
  },
  {
   "cell_type": "code",
   "execution_count": 27,
   "metadata": {},
   "outputs": [],
   "source": [
    "\n",
    "transformer_kwargs = {\"model_name_or_path\": embedding_model_path.__str__(),\n",
    "                      \"trust_remote_code\": True,\n",
    "                      \"device\": \"cpu\",\n",
    "                      \"config_kwargs\": {\"use_memory_efficient_attention\": False,\n",
    "                                        \"unpad_inputs\": False},\n",
    "                      \"cache_folder\": model_path}"
   ]
  },
  {
   "cell_type": "code",
   "execution_count": 28,
   "metadata": {},
   "outputs": [],
   "source": [
    "from sentence_transformers import SentenceTransformer"
   ]
  },
  {
   "cell_type": "code",
   "execution_count": 29,
   "metadata": {},
   "outputs": [
    {
     "name": "stderr",
     "output_type": "stream",
     "text": [
      "Some weights of the model checkpoint at /Users/esp.py/Projects/Personal/end-to-end-rag/models/dunzhang/stella_en_400M_v5 were not used when initializing NewModel: ['new.pooler.dense.bias', 'new.pooler.dense.weight']\n",
      "- This IS expected if you are initializing NewModel from the checkpoint of a model trained on another task or with another architecture (e.g. initializing a BertForSequenceClassification model from a BertForPreTraining model).\n",
      "- This IS NOT expected if you are initializing NewModel from the checkpoint of a model that you expect to be exactly identical (initializing a BertForSequenceClassification model from a BertForSequenceClassification model).\n"
     ]
    }
   ],
   "source": [
    "sentence_transformer_model = SentenceTransformer(\n",
    "    **transformer_kwargs)"
   ]
  },
  {
   "cell_type": "code",
   "execution_count": 30,
   "metadata": {},
   "outputs": [
    {
     "name": "stderr",
     "output_type": "stream",
     "text": [
      "/Users/esp.py/Projects/Personal/end-to-end-rag/.venv/lib/python3.10/site-packages/transformers/modeling_utils.py:1141: FutureWarning: The `device` argument is deprecated and will be removed in v5 of Transformers.\n",
      "  warnings.warn(\n"
     ]
    }
   ],
   "source": [
    "today_news_embeddings = sentence_transformer_model.encode(\n",
    "    results_df.content.tolist())"
   ]
  },
  {
   "cell_type": "markdown",
   "metadata": {},
   "source": [
    "Not just clustering but let start with paragraph spliting and then embedding."
   ]
  },
  {
   "cell_type": "code",
   "execution_count": 31,
   "metadata": {},
   "outputs": [
    {
     "data": {
      "text/plain": [
       "array([[-0.2382813 ,  0.0202584 , -0.96147484, ...,  0.14334454,\n",
       "         0.00407858, -0.4053433 ],\n",
       "       [-0.08295427,  0.01973198, -1.2731227 , ...,  0.47395864,\n",
       "         0.06307081,  0.792102  ],\n",
       "       [-0.20636846, -0.4537534 , -1.5298388 , ..., -0.30492252,\n",
       "        -0.07919986, -0.33250016],\n",
       "       ...,\n",
       "       [-0.21599424,  0.3710519 , -1.4436466 , ..., -0.22783493,\n",
       "         0.09507482, -0.10069045],\n",
       "       [-0.13976383, -0.17892939, -1.5407742 , ...,  0.7428794 ,\n",
       "         0.15088311, -0.26181147],\n",
       "       [-0.39839163, -0.24835615, -1.5162802 , ..., -0.04720241,\n",
       "        -0.14301531, -0.60298836]], dtype=float32)"
      ]
     },
     "execution_count": 31,
     "metadata": {},
     "output_type": "execute_result"
    }
   ],
   "source": [
    "today_news_embeddings"
   ]
  },
  {
   "cell_type": "code",
   "execution_count": 32,
   "metadata": {},
   "outputs": [
    {
     "data": {
      "text/plain": [
       "(72, 1024)"
      ]
     },
     "execution_count": 32,
     "metadata": {},
     "output_type": "execute_result"
    }
   ],
   "source": [
    "today_news_embeddings.shape"
   ]
  },
  {
   "cell_type": "code",
   "execution_count": 33,
   "metadata": {},
   "outputs": [],
   "source": [
    "from sklearn.cluster import KMeans"
   ]
  },
  {
   "cell_type": "code",
   "execution_count": 34,
   "metadata": {},
   "outputs": [],
   "source": [
    "import matplotlib.pyplot as plt"
   ]
  },
  {
   "cell_type": "code",
   "execution_count": 35,
   "metadata": {},
   "outputs": [
    {
     "data": {
      "text/plain": [
       "<Figure size 500x1000 with 0 Axes>"
      ]
     },
     "metadata": {},
     "output_type": "display_data"
    }
   ],
   "source": [
    "axes = plt.figure(figsize=(5, 10))"
   ]
  },
  {
   "cell_type": "code",
   "execution_count": 36,
   "metadata": {},
   "outputs": [],
   "source": [
    "similarities = sentence_transformer_model.similarity(today_news_embeddings, today_news_embeddings)"
   ]
  },
  {
   "cell_type": "code",
   "execution_count": 37,
   "metadata": {},
   "outputs": [],
   "source": [
    "import seaborn as sb"
   ]
  },
  {
   "cell_type": "code",
   "execution_count": 38,
   "metadata": {},
   "outputs": [],
   "source": [
    "#plt.figure(figsize=(50, 50))\n",
    "#sb.heatmap(similarities, cmap=\"Blues\", annot=True)"
   ]
  },
  {
   "cell_type": "code",
   "execution_count": 39,
   "metadata": {},
   "outputs": [
    {
     "data": {
      "text/plain": [
       "content      À l’occasion, l’autorité provinciale et les au...\n",
       "title        Maniema : la campagne de vaccination contre la...\n",
       "posted_at                                  2024-10-10 05:38:59\n",
       "url          https://actu30.cd/2024/10/maniema-la-campagne-...\n",
       "Name: 25, dtype: object"
      ]
     },
     "execution_count": 39,
     "metadata": {},
     "output_type": "execute_result"
    }
   ],
   "source": [
    "results_df.iloc[25]"
   ]
  },
  {
   "cell_type": "code",
   "execution_count": 40,
   "metadata": {},
   "outputs": [],
   "source": [
    "from sklearn.metrics.pairwise import cosine_similarity\n",
    "from sklearn.metrics import silhouette_score"
   ]
  },
  {
   "cell_type": "code",
   "execution_count": 41,
   "metadata": {},
   "outputs": [],
   "source": [
    "def find_best_estimator (X):\n",
    "    K_mean_estimators = [\n",
    "        (f\"KMeans_{i}\", KMeans(n_clusters=i, random_state=42)) for i in [ 5, 7, 10, 12]]\n",
    "\n",
    "    best_estimator = None\n",
    "    best_metric = float(\"-inf\")\n",
    "    for estimator_name, estimator in K_mean_estimators :\n",
    "        estimator.fit(X)\n",
    "        labels = estimator.labels_\n",
    "        score = silhouette_score(\n",
    "            today_news_embeddings, labels, metric=\"cosine\")\n",
    "        if score > best_metric :\n",
    "            best_metric = score\n",
    "            best_estimator = estimator\n",
    "        print(estimator_name, score)\n",
    "    return best_estimator"
   ]
  },
  {
   "cell_type": "code",
   "execution_count": null,
   "metadata": {},
   "outputs": [],
   "source": [
    "A value of 1,"
   ]
  },
  {
   "cell_type": "code",
   "execution_count": 42,
   "metadata": {},
   "outputs": [
    {
     "name": "stderr",
     "output_type": "stream",
     "text": [
      "huggingface/tokenizers: The current process just got forked, after parallelism has already been used. Disabling parallelism to avoid deadlocks...\n",
      "To disable this warning, you can either:\n",
      "\t- Avoid using `tokenizers` before the fork if possible\n",
      "\t- Explicitly set the environment variable TOKENIZERS_PARALLELISM=(true | false)\n"
     ]
    },
    {
     "name": "stdout",
     "output_type": "stream",
     "text": [
      "KMeans_5 0.08535227\n",
      "KMeans_7 0.1300366\n",
      "KMeans_10 0.106102824\n",
      "KMeans_12 0.14421302\n"
     ]
    }
   ],
   "source": [
    "best_estimator = find_best_estimator(today_news_embeddings)"
   ]
  },
  {
   "cell_type": "code",
   "execution_count": 43,
   "metadata": {},
   "outputs": [
    {
     "data": {
      "text/html": [
       "<style>#sk-container-id-1 {\n",
       "  /* Definition of color scheme common for light and dark mode */\n",
       "  --sklearn-color-text: black;\n",
       "  --sklearn-color-line: gray;\n",
       "  /* Definition of color scheme for unfitted estimators */\n",
       "  --sklearn-color-unfitted-level-0: #fff5e6;\n",
       "  --sklearn-color-unfitted-level-1: #f6e4d2;\n",
       "  --sklearn-color-unfitted-level-2: #ffe0b3;\n",
       "  --sklearn-color-unfitted-level-3: chocolate;\n",
       "  /* Definition of color scheme for fitted estimators */\n",
       "  --sklearn-color-fitted-level-0: #f0f8ff;\n",
       "  --sklearn-color-fitted-level-1: #d4ebff;\n",
       "  --sklearn-color-fitted-level-2: #b3dbfd;\n",
       "  --sklearn-color-fitted-level-3: cornflowerblue;\n",
       "\n",
       "  /* Specific color for light theme */\n",
       "  --sklearn-color-text-on-default-background: var(--sg-text-color, var(--theme-code-foreground, var(--jp-content-font-color1, black)));\n",
       "  --sklearn-color-background: var(--sg-background-color, var(--theme-background, var(--jp-layout-color0, white)));\n",
       "  --sklearn-color-border-box: var(--sg-text-color, var(--theme-code-foreground, var(--jp-content-font-color1, black)));\n",
       "  --sklearn-color-icon: #696969;\n",
       "\n",
       "  @media (prefers-color-scheme: dark) {\n",
       "    /* Redefinition of color scheme for dark theme */\n",
       "    --sklearn-color-text-on-default-background: var(--sg-text-color, var(--theme-code-foreground, var(--jp-content-font-color1, white)));\n",
       "    --sklearn-color-background: var(--sg-background-color, var(--theme-background, var(--jp-layout-color0, #111)));\n",
       "    --sklearn-color-border-box: var(--sg-text-color, var(--theme-code-foreground, var(--jp-content-font-color1, white)));\n",
       "    --sklearn-color-icon: #878787;\n",
       "  }\n",
       "}\n",
       "\n",
       "#sk-container-id-1 {\n",
       "  color: var(--sklearn-color-text);\n",
       "}\n",
       "\n",
       "#sk-container-id-1 pre {\n",
       "  padding: 0;\n",
       "}\n",
       "\n",
       "#sk-container-id-1 input.sk-hidden--visually {\n",
       "  border: 0;\n",
       "  clip: rect(1px 1px 1px 1px);\n",
       "  clip: rect(1px, 1px, 1px, 1px);\n",
       "  height: 1px;\n",
       "  margin: -1px;\n",
       "  overflow: hidden;\n",
       "  padding: 0;\n",
       "  position: absolute;\n",
       "  width: 1px;\n",
       "}\n",
       "\n",
       "#sk-container-id-1 div.sk-dashed-wrapped {\n",
       "  border: 1px dashed var(--sklearn-color-line);\n",
       "  margin: 0 0.4em 0.5em 0.4em;\n",
       "  box-sizing: border-box;\n",
       "  padding-bottom: 0.4em;\n",
       "  background-color: var(--sklearn-color-background);\n",
       "}\n",
       "\n",
       "#sk-container-id-1 div.sk-container {\n",
       "  /* jupyter's `normalize.less` sets `[hidden] { display: none; }`\n",
       "     but bootstrap.min.css set `[hidden] { display: none !important; }`\n",
       "     so we also need the `!important` here to be able to override the\n",
       "     default hidden behavior on the sphinx rendered scikit-learn.org.\n",
       "     See: https://github.com/scikit-learn/scikit-learn/issues/21755 */\n",
       "  display: inline-block !important;\n",
       "  position: relative;\n",
       "}\n",
       "\n",
       "#sk-container-id-1 div.sk-text-repr-fallback {\n",
       "  display: none;\n",
       "}\n",
       "\n",
       "div.sk-parallel-item,\n",
       "div.sk-serial,\n",
       "div.sk-item {\n",
       "  /* draw centered vertical line to link estimators */\n",
       "  background-image: linear-gradient(var(--sklearn-color-text-on-default-background), var(--sklearn-color-text-on-default-background));\n",
       "  background-size: 2px 100%;\n",
       "  background-repeat: no-repeat;\n",
       "  background-position: center center;\n",
       "}\n",
       "\n",
       "/* Parallel-specific style estimator block */\n",
       "\n",
       "#sk-container-id-1 div.sk-parallel-item::after {\n",
       "  content: \"\";\n",
       "  width: 100%;\n",
       "  border-bottom: 2px solid var(--sklearn-color-text-on-default-background);\n",
       "  flex-grow: 1;\n",
       "}\n",
       "\n",
       "#sk-container-id-1 div.sk-parallel {\n",
       "  display: flex;\n",
       "  align-items: stretch;\n",
       "  justify-content: center;\n",
       "  background-color: var(--sklearn-color-background);\n",
       "  position: relative;\n",
       "}\n",
       "\n",
       "#sk-container-id-1 div.sk-parallel-item {\n",
       "  display: flex;\n",
       "  flex-direction: column;\n",
       "}\n",
       "\n",
       "#sk-container-id-1 div.sk-parallel-item:first-child::after {\n",
       "  align-self: flex-end;\n",
       "  width: 50%;\n",
       "}\n",
       "\n",
       "#sk-container-id-1 div.sk-parallel-item:last-child::after {\n",
       "  align-self: flex-start;\n",
       "  width: 50%;\n",
       "}\n",
       "\n",
       "#sk-container-id-1 div.sk-parallel-item:only-child::after {\n",
       "  width: 0;\n",
       "}\n",
       "\n",
       "/* Serial-specific style estimator block */\n",
       "\n",
       "#sk-container-id-1 div.sk-serial {\n",
       "  display: flex;\n",
       "  flex-direction: column;\n",
       "  align-items: center;\n",
       "  background-color: var(--sklearn-color-background);\n",
       "  padding-right: 1em;\n",
       "  padding-left: 1em;\n",
       "}\n",
       "\n",
       "\n",
       "/* Toggleable style: style used for estimator/Pipeline/ColumnTransformer box that is\n",
       "clickable and can be expanded/collapsed.\n",
       "- Pipeline and ColumnTransformer use this feature and define the default style\n",
       "- Estimators will overwrite some part of the style using the `sk-estimator` class\n",
       "*/\n",
       "\n",
       "/* Pipeline and ColumnTransformer style (default) */\n",
       "\n",
       "#sk-container-id-1 div.sk-toggleable {\n",
       "  /* Default theme specific background. It is overwritten whether we have a\n",
       "  specific estimator or a Pipeline/ColumnTransformer */\n",
       "  background-color: var(--sklearn-color-background);\n",
       "}\n",
       "\n",
       "/* Toggleable label */\n",
       "#sk-container-id-1 label.sk-toggleable__label {\n",
       "  cursor: pointer;\n",
       "  display: block;\n",
       "  width: 100%;\n",
       "  margin-bottom: 0;\n",
       "  padding: 0.5em;\n",
       "  box-sizing: border-box;\n",
       "  text-align: center;\n",
       "}\n",
       "\n",
       "#sk-container-id-1 label.sk-toggleable__label-arrow:before {\n",
       "  /* Arrow on the left of the label */\n",
       "  content: \"▸\";\n",
       "  float: left;\n",
       "  margin-right: 0.25em;\n",
       "  color: var(--sklearn-color-icon);\n",
       "}\n",
       "\n",
       "#sk-container-id-1 label.sk-toggleable__label-arrow:hover:before {\n",
       "  color: var(--sklearn-color-text);\n",
       "}\n",
       "\n",
       "/* Toggleable content - dropdown */\n",
       "\n",
       "#sk-container-id-1 div.sk-toggleable__content {\n",
       "  max-height: 0;\n",
       "  max-width: 0;\n",
       "  overflow: hidden;\n",
       "  text-align: left;\n",
       "  /* unfitted */\n",
       "  background-color: var(--sklearn-color-unfitted-level-0);\n",
       "}\n",
       "\n",
       "#sk-container-id-1 div.sk-toggleable__content.fitted {\n",
       "  /* fitted */\n",
       "  background-color: var(--sklearn-color-fitted-level-0);\n",
       "}\n",
       "\n",
       "#sk-container-id-1 div.sk-toggleable__content pre {\n",
       "  margin: 0.2em;\n",
       "  border-radius: 0.25em;\n",
       "  color: var(--sklearn-color-text);\n",
       "  /* unfitted */\n",
       "  background-color: var(--sklearn-color-unfitted-level-0);\n",
       "}\n",
       "\n",
       "#sk-container-id-1 div.sk-toggleable__content.fitted pre {\n",
       "  /* unfitted */\n",
       "  background-color: var(--sklearn-color-fitted-level-0);\n",
       "}\n",
       "\n",
       "#sk-container-id-1 input.sk-toggleable__control:checked~div.sk-toggleable__content {\n",
       "  /* Expand drop-down */\n",
       "  max-height: 200px;\n",
       "  max-width: 100%;\n",
       "  overflow: auto;\n",
       "}\n",
       "\n",
       "#sk-container-id-1 input.sk-toggleable__control:checked~label.sk-toggleable__label-arrow:before {\n",
       "  content: \"▾\";\n",
       "}\n",
       "\n",
       "/* Pipeline/ColumnTransformer-specific style */\n",
       "\n",
       "#sk-container-id-1 div.sk-label input.sk-toggleable__control:checked~label.sk-toggleable__label {\n",
       "  color: var(--sklearn-color-text);\n",
       "  background-color: var(--sklearn-color-unfitted-level-2);\n",
       "}\n",
       "\n",
       "#sk-container-id-1 div.sk-label.fitted input.sk-toggleable__control:checked~label.sk-toggleable__label {\n",
       "  background-color: var(--sklearn-color-fitted-level-2);\n",
       "}\n",
       "\n",
       "/* Estimator-specific style */\n",
       "\n",
       "/* Colorize estimator box */\n",
       "#sk-container-id-1 div.sk-estimator input.sk-toggleable__control:checked~label.sk-toggleable__label {\n",
       "  /* unfitted */\n",
       "  background-color: var(--sklearn-color-unfitted-level-2);\n",
       "}\n",
       "\n",
       "#sk-container-id-1 div.sk-estimator.fitted input.sk-toggleable__control:checked~label.sk-toggleable__label {\n",
       "  /* fitted */\n",
       "  background-color: var(--sklearn-color-fitted-level-2);\n",
       "}\n",
       "\n",
       "#sk-container-id-1 div.sk-label label.sk-toggleable__label,\n",
       "#sk-container-id-1 div.sk-label label {\n",
       "  /* The background is the default theme color */\n",
       "  color: var(--sklearn-color-text-on-default-background);\n",
       "}\n",
       "\n",
       "/* On hover, darken the color of the background */\n",
       "#sk-container-id-1 div.sk-label:hover label.sk-toggleable__label {\n",
       "  color: var(--sklearn-color-text);\n",
       "  background-color: var(--sklearn-color-unfitted-level-2);\n",
       "}\n",
       "\n",
       "/* Label box, darken color on hover, fitted */\n",
       "#sk-container-id-1 div.sk-label.fitted:hover label.sk-toggleable__label.fitted {\n",
       "  color: var(--sklearn-color-text);\n",
       "  background-color: var(--sklearn-color-fitted-level-2);\n",
       "}\n",
       "\n",
       "/* Estimator label */\n",
       "\n",
       "#sk-container-id-1 div.sk-label label {\n",
       "  font-family: monospace;\n",
       "  font-weight: bold;\n",
       "  display: inline-block;\n",
       "  line-height: 1.2em;\n",
       "}\n",
       "\n",
       "#sk-container-id-1 div.sk-label-container {\n",
       "  text-align: center;\n",
       "}\n",
       "\n",
       "/* Estimator-specific */\n",
       "#sk-container-id-1 div.sk-estimator {\n",
       "  font-family: monospace;\n",
       "  border: 1px dotted var(--sklearn-color-border-box);\n",
       "  border-radius: 0.25em;\n",
       "  box-sizing: border-box;\n",
       "  margin-bottom: 0.5em;\n",
       "  /* unfitted */\n",
       "  background-color: var(--sklearn-color-unfitted-level-0);\n",
       "}\n",
       "\n",
       "#sk-container-id-1 div.sk-estimator.fitted {\n",
       "  /* fitted */\n",
       "  background-color: var(--sklearn-color-fitted-level-0);\n",
       "}\n",
       "\n",
       "/* on hover */\n",
       "#sk-container-id-1 div.sk-estimator:hover {\n",
       "  /* unfitted */\n",
       "  background-color: var(--sklearn-color-unfitted-level-2);\n",
       "}\n",
       "\n",
       "#sk-container-id-1 div.sk-estimator.fitted:hover {\n",
       "  /* fitted */\n",
       "  background-color: var(--sklearn-color-fitted-level-2);\n",
       "}\n",
       "\n",
       "/* Specification for estimator info (e.g. \"i\" and \"?\") */\n",
       "\n",
       "/* Common style for \"i\" and \"?\" */\n",
       "\n",
       ".sk-estimator-doc-link,\n",
       "a:link.sk-estimator-doc-link,\n",
       "a:visited.sk-estimator-doc-link {\n",
       "  float: right;\n",
       "  font-size: smaller;\n",
       "  line-height: 1em;\n",
       "  font-family: monospace;\n",
       "  background-color: var(--sklearn-color-background);\n",
       "  border-radius: 1em;\n",
       "  height: 1em;\n",
       "  width: 1em;\n",
       "  text-decoration: none !important;\n",
       "  margin-left: 1ex;\n",
       "  /* unfitted */\n",
       "  border: var(--sklearn-color-unfitted-level-1) 1pt solid;\n",
       "  color: var(--sklearn-color-unfitted-level-1);\n",
       "}\n",
       "\n",
       ".sk-estimator-doc-link.fitted,\n",
       "a:link.sk-estimator-doc-link.fitted,\n",
       "a:visited.sk-estimator-doc-link.fitted {\n",
       "  /* fitted */\n",
       "  border: var(--sklearn-color-fitted-level-1) 1pt solid;\n",
       "  color: var(--sklearn-color-fitted-level-1);\n",
       "}\n",
       "\n",
       "/* On hover */\n",
       "div.sk-estimator:hover .sk-estimator-doc-link:hover,\n",
       ".sk-estimator-doc-link:hover,\n",
       "div.sk-label-container:hover .sk-estimator-doc-link:hover,\n",
       ".sk-estimator-doc-link:hover {\n",
       "  /* unfitted */\n",
       "  background-color: var(--sklearn-color-unfitted-level-3);\n",
       "  color: var(--sklearn-color-background);\n",
       "  text-decoration: none;\n",
       "}\n",
       "\n",
       "div.sk-estimator.fitted:hover .sk-estimator-doc-link.fitted:hover,\n",
       ".sk-estimator-doc-link.fitted:hover,\n",
       "div.sk-label-container:hover .sk-estimator-doc-link.fitted:hover,\n",
       ".sk-estimator-doc-link.fitted:hover {\n",
       "  /* fitted */\n",
       "  background-color: var(--sklearn-color-fitted-level-3);\n",
       "  color: var(--sklearn-color-background);\n",
       "  text-decoration: none;\n",
       "}\n",
       "\n",
       "/* Span, style for the box shown on hovering the info icon */\n",
       ".sk-estimator-doc-link span {\n",
       "  display: none;\n",
       "  z-index: 9999;\n",
       "  position: relative;\n",
       "  font-weight: normal;\n",
       "  right: .2ex;\n",
       "  padding: .5ex;\n",
       "  margin: .5ex;\n",
       "  width: min-content;\n",
       "  min-width: 20ex;\n",
       "  max-width: 50ex;\n",
       "  color: var(--sklearn-color-text);\n",
       "  box-shadow: 2pt 2pt 4pt #999;\n",
       "  /* unfitted */\n",
       "  background: var(--sklearn-color-unfitted-level-0);\n",
       "  border: .5pt solid var(--sklearn-color-unfitted-level-3);\n",
       "}\n",
       "\n",
       ".sk-estimator-doc-link.fitted span {\n",
       "  /* fitted */\n",
       "  background: var(--sklearn-color-fitted-level-0);\n",
       "  border: var(--sklearn-color-fitted-level-3);\n",
       "}\n",
       "\n",
       ".sk-estimator-doc-link:hover span {\n",
       "  display: block;\n",
       "}\n",
       "\n",
       "/* \"?\"-specific style due to the `<a>` HTML tag */\n",
       "\n",
       "#sk-container-id-1 a.estimator_doc_link {\n",
       "  float: right;\n",
       "  font-size: 1rem;\n",
       "  line-height: 1em;\n",
       "  font-family: monospace;\n",
       "  background-color: var(--sklearn-color-background);\n",
       "  border-radius: 1rem;\n",
       "  height: 1rem;\n",
       "  width: 1rem;\n",
       "  text-decoration: none;\n",
       "  /* unfitted */\n",
       "  color: var(--sklearn-color-unfitted-level-1);\n",
       "  border: var(--sklearn-color-unfitted-level-1) 1pt solid;\n",
       "}\n",
       "\n",
       "#sk-container-id-1 a.estimator_doc_link.fitted {\n",
       "  /* fitted */\n",
       "  border: var(--sklearn-color-fitted-level-1) 1pt solid;\n",
       "  color: var(--sklearn-color-fitted-level-1);\n",
       "}\n",
       "\n",
       "/* On hover */\n",
       "#sk-container-id-1 a.estimator_doc_link:hover {\n",
       "  /* unfitted */\n",
       "  background-color: var(--sklearn-color-unfitted-level-3);\n",
       "  color: var(--sklearn-color-background);\n",
       "  text-decoration: none;\n",
       "}\n",
       "\n",
       "#sk-container-id-1 a.estimator_doc_link.fitted:hover {\n",
       "  /* fitted */\n",
       "  background-color: var(--sklearn-color-fitted-level-3);\n",
       "}\n",
       "</style><div id=\"sk-container-id-1\" class=\"sk-top-container\"><div class=\"sk-text-repr-fallback\"><pre>KMeans(n_clusters=12, random_state=42)</pre><b>In a Jupyter environment, please rerun this cell to show the HTML representation or trust the notebook. <br />On GitHub, the HTML representation is unable to render, please try loading this page with nbviewer.org.</b></div><div class=\"sk-container\" hidden><div class=\"sk-item\"><div class=\"sk-estimator fitted sk-toggleable\"><input class=\"sk-toggleable__control sk-hidden--visually\" id=\"sk-estimator-id-1\" type=\"checkbox\" checked><label for=\"sk-estimator-id-1\" class=\"sk-toggleable__label fitted sk-toggleable__label-arrow fitted\">&nbsp;&nbsp;KMeans<a class=\"sk-estimator-doc-link fitted\" rel=\"noreferrer\" target=\"_blank\" href=\"https://scikit-learn.org/1.5/modules/generated/sklearn.cluster.KMeans.html\">?<span>Documentation for KMeans</span></a><span class=\"sk-estimator-doc-link fitted\">i<span>Fitted</span></span></label><div class=\"sk-toggleable__content fitted\"><pre>KMeans(n_clusters=12, random_state=42)</pre></div> </div></div></div></div>"
      ],
      "text/plain": [
       "KMeans(n_clusters=12, random_state=42)"
      ]
     },
     "execution_count": 43,
     "metadata": {},
     "output_type": "execute_result"
    }
   ],
   "source": [
    "best_estimator"
   ]
  },
  {
   "cell_type": "code",
   "execution_count": 44,
   "metadata": {},
   "outputs": [],
   "source": [
    "results_df[\"labels\"] = best_estimator.labels_"
   ]
  },
  {
   "cell_type": "code",
   "execution_count": 45,
   "metadata": {},
   "outputs": [
    {
     "data": {
      "text/html": [
       "<div>\n",
       "<style scoped>\n",
       "    .dataframe tbody tr th:only-of-type {\n",
       "        vertical-align: middle;\n",
       "    }\n",
       "\n",
       "    .dataframe tbody tr th {\n",
       "        vertical-align: top;\n",
       "    }\n",
       "\n",
       "    .dataframe thead th {\n",
       "        text-align: right;\n",
       "    }\n",
       "</style>\n",
       "<table border=\"1\" class=\"dataframe\">\n",
       "  <thead>\n",
       "    <tr style=\"text-align: right;\">\n",
       "      <th></th>\n",
       "      <th>content</th>\n",
       "      <th>title</th>\n",
       "      <th>posted_at</th>\n",
       "      <th>url</th>\n",
       "      <th>labels</th>\n",
       "    </tr>\n",
       "  </thead>\n",
       "  <tbody>\n",
       "    <tr>\n",
       "      <th>0</th>\n",
       "      <td>Dans le cadre de la mise en œuvre de son Plan ...</td>\n",
       "      <td>Présence remarquée de l’ANAPI à la 14ème éditi...</td>\n",
       "      <td>2024-10-10 00:00:00</td>\n",
       "      <td>https://econewsrdc.com/presence-remarquee-de-l...</td>\n",
       "      <td>11</td>\n",
       "    </tr>\n",
       "    <tr>\n",
       "      <th>6</th>\n",
       "      <td>octobre 10, 2024 Allemagne : “Le Président Tsh...</td>\n",
       "      <td>Allemagne : “Le Président Tshisekedi a déjà fa...</td>\n",
       "      <td>2024-10-10 00:00:00</td>\n",
       "      <td>https://depeche.cd/2024/10/10/allemagne-le-pre...</td>\n",
       "      <td>11</td>\n",
       "    </tr>\n",
       "    <tr>\n",
       "      <th>23</th>\n",
       "      <td>Cet événement, organisé par Louise Nzanga Rama...</td>\n",
       "      <td>RDC : Judith Suminwa renforce les liens avec l...</td>\n",
       "      <td>2024-10-10 11:56:44</td>\n",
       "      <td>https://actu30.cd/2024/10/rdc-judith-suminwa-r...</td>\n",
       "      <td>11</td>\n",
       "    </tr>\n",
       "    <tr>\n",
       "      <th>38</th>\n",
       "      <td>En séjour en Allemagne dans le cadre de la con...</td>\n",
       "      <td>Allemagne : Judith Suminwa échange avec la dia...</td>\n",
       "      <td>2024-10-10 00:00:00</td>\n",
       "      <td>https://www.mediacongo.net/article-actualite-1...</td>\n",
       "      <td>11</td>\n",
       "    </tr>\n",
       "    <tr>\n",
       "      <th>55</th>\n",
       "      <td>La coopération entre la République Démocratiqu...</td>\n",
       "      <td>Processus de Luanda et de Nairobi : le soutien...</td>\n",
       "      <td>2024-10-10 00:00:00</td>\n",
       "      <td>https://www.mediacongo.net/article-actualite-1...</td>\n",
       "      <td>11</td>\n",
       "    </tr>\n",
       "    <tr>\n",
       "      <th>64</th>\n",
       "      <td>D’après l’assemblée nationale congolaise, les ...</td>\n",
       "      <td>RDC – France : Vital Kamerhe et son homologue ...</td>\n",
       "      <td>2024-10-10 16:41:27</td>\n",
       "      <td>https://actu30.cd/2024/10/rdc-france-vital-kam...</td>\n",
       "      <td>11</td>\n",
       "    </tr>\n",
       "  </tbody>\n",
       "</table>\n",
       "</div>"
      ],
      "text/plain": [
       "                                              content  \\\n",
       "0   Dans le cadre de la mise en œuvre de son Plan ...   \n",
       "6   octobre 10, 2024 Allemagne : “Le Président Tsh...   \n",
       "23  Cet événement, organisé par Louise Nzanga Rama...   \n",
       "38  En séjour en Allemagne dans le cadre de la con...   \n",
       "55  La coopération entre la République Démocratiqu...   \n",
       "64  D’après l’assemblée nationale congolaise, les ...   \n",
       "\n",
       "                                                title           posted_at  \\\n",
       "0   Présence remarquée de l’ANAPI à la 14ème éditi... 2024-10-10 00:00:00   \n",
       "6   Allemagne : “Le Président Tshisekedi a déjà fa... 2024-10-10 00:00:00   \n",
       "23  RDC : Judith Suminwa renforce les liens avec l... 2024-10-10 11:56:44   \n",
       "38  Allemagne : Judith Suminwa échange avec la dia... 2024-10-10 00:00:00   \n",
       "55  Processus de Luanda et de Nairobi : le soutien... 2024-10-10 00:00:00   \n",
       "64  RDC – France : Vital Kamerhe et son homologue ... 2024-10-10 16:41:27   \n",
       "\n",
       "                                                  url  labels  \n",
       "0   https://econewsrdc.com/presence-remarquee-de-l...      11  \n",
       "6   https://depeche.cd/2024/10/10/allemagne-le-pre...      11  \n",
       "23  https://actu30.cd/2024/10/rdc-judith-suminwa-r...      11  \n",
       "38  https://www.mediacongo.net/article-actualite-1...      11  \n",
       "55  https://www.mediacongo.net/article-actualite-1...      11  \n",
       "64  https://actu30.cd/2024/10/rdc-france-vital-kam...      11  "
      ]
     },
     "execution_count": 45,
     "metadata": {},
     "output_type": "execute_result"
    }
   ],
   "source": [
    "results_df.query(\"labels ==11\")"
   ]
  },
  {
   "cell_type": "markdown",
   "metadata": {},
   "source": []
  },
  {
   "cell_type": "code",
   "execution_count": 46,
   "metadata": {},
   "outputs": [],
   "source": [
    "summarization_prompt = \"\"\"\n",
    "Give a summary in french of the following document:\n",
    "{{content}}\n",
    " Describes it in a style of a french new paper reporters.\n",
    "\n",
    "Don't summarize each document separately, the content in all the documents should be summarized.\n",
    "\n",
    "The summary should be in french not in English\n",
    "\"\"\""
   ]
  },
  {
   "cell_type": "code",
   "execution_count": 56,
   "metadata": {},
   "outputs": [
    {
     "data": {
      "text/html": [
       "<div>\n",
       "<style scoped>\n",
       "    .dataframe tbody tr th:only-of-type {\n",
       "        vertical-align: middle;\n",
       "    }\n",
       "\n",
       "    .dataframe tbody tr th {\n",
       "        vertical-align: top;\n",
       "    }\n",
       "\n",
       "    .dataframe thead th {\n",
       "        text-align: right;\n",
       "    }\n",
       "</style>\n",
       "<table border=\"1\" class=\"dataframe\">\n",
       "  <thead>\n",
       "    <tr style=\"text-align: right;\">\n",
       "      <th></th>\n",
       "      <th>content</th>\n",
       "      <th>title</th>\n",
       "      <th>posted_at</th>\n",
       "      <th>url</th>\n",
       "      <th>labels</th>\n",
       "    </tr>\n",
       "  </thead>\n",
       "  <tbody>\n",
       "    <tr>\n",
       "      <th>11</th>\n",
       "      <td>L'inhumation de 11 corps identifiés des habita...</td>\n",
       "      <td>Naufrage sur le lac Kivu: inhumation ce jeudi ...</td>\n",
       "      <td>2024-10-10 16:39:00</td>\n",
       "      <td>https://actualite.cd/2024/10/10/naufrage-sur-l...</td>\n",
       "      <td>5</td>\n",
       "    </tr>\n",
       "    <tr>\n",
       "      <th>37</th>\n",
       "      <td>L'Administrateur délégué de l'hôpital Biamba M...</td>\n",
       "      <td>Kinshasa : l'AD de l'hôpital Biamba Marie Muto...</td>\n",
       "      <td>2024-10-10 00:00:00</td>\n",
       "      <td>https://www.mediacongo.net/article-actualite-1...</td>\n",
       "      <td>5</td>\n",
       "    </tr>\n",
       "    <tr>\n",
       "      <th>43</th>\n",
       "      <td>Une veillée mortuaire est prévue vendredi 10 o...</td>\n",
       "      <td>Kinshasa : une veillée mortuaire vendredi au P...</td>\n",
       "      <td>2024-10-10 00:00:00</td>\n",
       "      <td>https://www.mediacongo.net/article-actualite-1...</td>\n",
       "      <td>5</td>\n",
       "    </tr>\n",
       "    <tr>\n",
       "      <th>45</th>\n",
       "      <td>Alors que l'état de santé du plus ancien Chef ...</td>\n",
       "      <td>Le Gouvernement camerounais dément la rumeur s...</td>\n",
       "      <td>2024-10-10 00:00:00</td>\n",
       "      <td>https://www.mediacongo.net/article-actualite-1...</td>\n",
       "      <td>5</td>\n",
       "    </tr>\n",
       "    <tr>\n",
       "      <th>46</th>\n",
       "      <td>À 48 heures de la date marquant le décès de pa...</td>\n",
       "      <td>Mémorandum des culturels : \" Nous réitérons no...</td>\n",
       "      <td>2024-10-10 00:00:00</td>\n",
       "      <td>https://www.mediacongo.net/article-actualite-1...</td>\n",
       "      <td>5</td>\n",
       "    </tr>\n",
       "    <tr>\n",
       "      <th>48</th>\n",
       "      <td>Rafael Nadal a annoncé ce jeudi 10 octobre 202...</td>\n",
       "      <td>\"Je quitte le tennis professionnel\", annonce l...</td>\n",
       "      <td>2024-10-10 00:00:00</td>\n",
       "      <td>https://www.mediacongo.net/article-actualite-1...</td>\n",
       "      <td>5</td>\n",
       "    </tr>\n",
       "    <tr>\n",
       "      <th>56</th>\n",
       "      <td>Considérant les mérites exceptionnels de l’int...</td>\n",
       "      <td>RDC: Dikembe Mutombo admis à titre posthume da...</td>\n",
       "      <td>2024-10-10 20:27:00</td>\n",
       "      <td>https://actualite.cd/2024/10/10/rdc-dikembe-mu...</td>\n",
       "      <td>5</td>\n",
       "    </tr>\n",
       "    <tr>\n",
       "      <th>67</th>\n",
       "      <td>‘ »Kabila-Lumumba au grade de Grand Officier, ...</td>\n",
       "      <td>RDC : Mutombo Dikembe élevé au rang de grand o...</td>\n",
       "      <td>2024-10-10 16:36:37</td>\n",
       "      <td>https://actu30.cd/2024/10/rdc-mutombo-dikembe-...</td>\n",
       "      <td>5</td>\n",
       "    </tr>\n",
       "  </tbody>\n",
       "</table>\n",
       "</div>"
      ],
      "text/plain": [
       "                                              content  \\\n",
       "11  L'inhumation de 11 corps identifiés des habita...   \n",
       "37  L'Administrateur délégué de l'hôpital Biamba M...   \n",
       "43  Une veillée mortuaire est prévue vendredi 10 o...   \n",
       "45  Alors que l'état de santé du plus ancien Chef ...   \n",
       "46  À 48 heures de la date marquant le décès de pa...   \n",
       "48  Rafael Nadal a annoncé ce jeudi 10 octobre 202...   \n",
       "56  Considérant les mérites exceptionnels de l’int...   \n",
       "67  ‘ »Kabila-Lumumba au grade de Grand Officier, ...   \n",
       "\n",
       "                                                title           posted_at  \\\n",
       "11  Naufrage sur le lac Kivu: inhumation ce jeudi ... 2024-10-10 16:39:00   \n",
       "37  Kinshasa : l'AD de l'hôpital Biamba Marie Muto... 2024-10-10 00:00:00   \n",
       "43  Kinshasa : une veillée mortuaire vendredi au P... 2024-10-10 00:00:00   \n",
       "45  Le Gouvernement camerounais dément la rumeur s... 2024-10-10 00:00:00   \n",
       "46  Mémorandum des culturels : \" Nous réitérons no... 2024-10-10 00:00:00   \n",
       "48  \"Je quitte le tennis professionnel\", annonce l... 2024-10-10 00:00:00   \n",
       "56  RDC: Dikembe Mutombo admis à titre posthume da... 2024-10-10 20:27:00   \n",
       "67  RDC : Mutombo Dikembe élevé au rang de grand o... 2024-10-10 16:36:37   \n",
       "\n",
       "                                                  url  labels  \n",
       "11  https://actualite.cd/2024/10/10/naufrage-sur-l...       5  \n",
       "37  https://www.mediacongo.net/article-actualite-1...       5  \n",
       "43  https://www.mediacongo.net/article-actualite-1...       5  \n",
       "45  https://www.mediacongo.net/article-actualite-1...       5  \n",
       "46  https://www.mediacongo.net/article-actualite-1...       5  \n",
       "48  https://www.mediacongo.net/article-actualite-1...       5  \n",
       "56  https://actualite.cd/2024/10/10/rdc-dikembe-mu...       5  \n",
       "67  https://actu30.cd/2024/10/rdc-mutombo-dikembe-...       5  "
      ]
     },
     "execution_count": 56,
     "metadata": {},
     "output_type": "execute_result"
    }
   ],
   "source": [
    "first_cluster = results_df.query(\"labels == 5\")\n",
    "first_cluster"
   ]
  },
  {
   "cell_type": "code",
   "execution_count": 48,
   "metadata": {},
   "outputs": [
    {
     "data": {
      "text/plain": [
       "'octobre 10, 2024 Kinshasa- Financement des travaux du projet 3 communes: Lobbying payant du sénateur Gecoco Mulumba Par :    La rédaction \\n \\n \\n Kinshasa, 10 Octobre 2024- Le plaidoyer du sénateur Gecoco Mulumba auprès du ministre des finances pour décanter la situation de paiement des entreprises chargées  de la construction des routes dans les communes de Gombe, Kasa-vubu et Limete a payé. “Ce mercredi 09 octobre 2024, j’ai été remercié le Ministre National des Finances pour avoir accédé à mon plaidoyer au sujet du paiement de fonds aux entreprises concernées dans le Projet 3 Communes (Gombe, Kasa-Vubu et Limete). Il y a 10 jours, en effet, je l’ai rencontré à ce sujet et il a promis de décanter la situation. Je tiens à remercier Monsieur le Président de la République, initiateur du ce projet qui permettra une mobilité aisée de notre population”,  a-t-il fait savoir. D’après l’ancien vice gouverneur de Kinshasa, ces entreprises vont devoir dans 3 ou 4 jours, toucher un peu plus de 20% des fonds afin que les travaux de construction des routes de ces communes reprennent aussitôt. Très impliqué dans le développement de la ville de Kinshasa, il a également participé à une autre réunion mardi 8 avec le Ministre des Finances, celui des ITPR, le Gouverneur de la Ville de Kinshasa, le Ministre Provincial des ITPR Ville de Kin, le DG de l’OVD et les responsables des entreprises concernées dans ce projet. Cette réunion a notamment permis d’arrondir les angles. Le ministre des finances a décidé de disponibiliser des fonds pour la réhabilitation de 49 kilomètres de routes. Cédric BEYA\\xa0\\nTout a commencé avec une conférence animée par le directeur du festival, Kevin Mavakala, sur « Les opportunités offertes par un festival de cinéma et comment donner de la valeur aux certificats reçus après les ateliers de formation ». Il a souligné, lors de ces assises, l’importance stratégique des festivals de cinéma dans le développement des carrières artistiques, qui, en plus d’être des lieux d’apprentissage et de formation, offrent une plateforme de visibilité et de réseautage pour les cinéastes, qu’ils soient débutants ou professionnels. Ensuite ont eu lieu des \"Rencontres Kongo Panoramique\" à la salle de cinéma de l\\'Institut Français de Kinshasa, qui ont porté sur les \"différents moyens et opportunités de production de films dans un contexte africain\", animés par Toumany Sangaré, ainsi que sur \"les opportunités de coopération audiovisuelle entre la France et la RDC\", présentées par Anthony Krawczyk. Ces échanges ont offert des perspectives précieuses aux participants sur les défis et opportunités du secteur cinématographique africain. Le producteur et réalisateur belge Mestdagh Rudolf a animé un atelier sur la production cinématographique, offrant aux participants une opportunité unique d\\'apprendre les rouages de la production de films de qualité. De son côté, le réalisateur sénégalais Toumani Tangaré a conduit une formation dédiée à l’autoproduction, un domaine crucial pour les cinéastes indépendants cherchant à réaliser leurs projets avec des ressources limitées. Ces sessions se sont déroulées sur les quatre jours du festival à l’Institut Français et à l’Académie des Beaux-Arts, deux lieux emblématiques de la culture et de l’art à Kinshasa. Cette 11e édition du FICKIN a été également marquée par les ateliers de formation axés sur la direction photo, animée par Djoe Muyaya; la narration au cinéma avec Richi Mbebele et le jeu d’acteur conduit par Harvin Biyani.\\xa0 L’atelier de direction photo, dirigé par Djoe Muyaya, a permis aux participants de se familiariser avec les bases et les fondamentaux de la caméra. Djoe Muyaya a souligné l’importance de la lumière, de la décoration et de tous les éléments visuels qui contribuent à la fabrication d’un film. Richi Mbebele a animé l’atelier sur la narration au cinéma, un domaine souvent négligé mais essentiel pour la qualité des scénarios. Mbebele a partagé ses connaissances sur les mécanismes de narration, aidant les participants à comprendre comment raconter une histoire de manière efficace et captivante. Et d’ajouter : Le troisième atelier, consacré au jeu d’acteur et animé par Harvin, a offert aux participants l’opportunité de perfectionner leurs compétences en interprétation. Harvin Isma a mis l’accent sur l’importance de l’authenticité et de l’émotion dans le jeu d’acteur, encourageant les participants à explorer et à exprimer leurs sentiments de manière sincère devant les caméras. Cet atelier a été salué pour son approche pratique et immersive, permettant aux acteurs en herbe de développer leur talent et de gagner en confiance. Ces formations ont permis à renforcer les compétences des cinéastes locaux, en leur fournissant des outils pratiques et théoriques pour exceller dans leurs métiers. L’objectif était clair : encourager l’éclosion d’une industrie cinématographique durable en RDC. Kevin Mavakala, directeur du festival, a souligné les objectifs du FICKIN : « Nous ne voulons pas être spectateurs de notre propre histoire. Nous voulons faire de notre quotidien une force sur laquelle nous allons nous appuyer grâce au cinéma ». Cette déclaration reflète la vision d’un festival qui aspire à transformer les récits locaux en œuvres cinématographiques puissantes et inspirantes. La 11e édition du Festival International de Cinéma de Kinshasa s’est déroulée du 3 au 6 octobre à l’institut français et à l’académie des beaux-arts. Cette édition 2024 a ajouté une touche particulière intégrant entre autres l’exposition d’arts plastiques. La soirée de clôture a vu plusieurs personnes être primées, notamment les participants aux formations.\\xa0 En plus des ateliers, le FICKIN a proposé une panoplie de programmes riches et diversifiés, avec plus de 70 films sélectionnés parmi 503 œuvres soumises. Les projections ont lieu en plein air en en salle à l’Institut Français et à l’Académie des Beaux-Arts, offrant au public kinois une occasion unique de découvrir des films qui reflètent les réalités et les rêves des Congolais. Le FICKIN 11 s’est encore une fois de plus affirmé comme un événement incontournable pour les amateurs de cinéma et les professionnels de l’industrie, contribuant significativement au développement du septième art en République Démocratique du Congo. \\xa0\\n\\xa0 – Le fournisseur mondial de services de mobilité et urbain inDrive annonce le lancement de son service de covoiturage à Kinshasa, marquant une étape importante dans son expansion en Afrique. En tant que deuxième application la plus téléchargée au monde pendant deux années consécutives, inDrive opère avec succès sur tous les continents, y compris l\\'Afrique.\\xa0 Contrairement aux plateformes de covoiturage traditionnelles, inDrive propose une expérience révolutionnaire en permettant aux chauffeurs et aux passagers de négocier les tarifs directement, offrant ainsi une plus grande flexibilité et un meilleur contrôle aux deux parties. Ce modèle axé sur les personnes, déjà couronné de succès dans de nombreuses villes du monde, donne aux chauffeurs la liberté de choisir les courses en fonction de leurs propres critères, tandis que les passagers bénéficient de tarifs plus transparents et personnalisés. Grâce à l\\'application inDrive, les passagers peuvent définir leurs lieux de prise en charge et de dépose, et proposer un prix. Les chauffeurs vérifiés à proximité reçoivent cette requête et ont la possibilité d\\'accepter le prix proposé, de suggérer une contre-offre ou de refuser le trajet sans aucune pénalité. Ce système de négociation prend en compte les spécificités de la course, notamment le tarif, le type de véhicule, l\\'heure d\\'arrivée estimée et les évaluations des chauffeurs, ce qui permet aux chauffeurs de choisir les courses les plus rentables et les plus pratiques. inDrive se distingue en outre en éliminant les frais de commission pour les chauffeurs à Kinshasa au cours des six premiers mois d\\'activité. Cette période sans commission permet aux chauffeurs de conserver la totalité de leurs revenus, créant ainsi un avantage financier direct et immédiat. Après les six premiers mois, une commission basse standard sera introduite, garantissant aux chauffeurs qu\\'ils continueront à bénéficier de revenus plus élevés par rapport aux autres plateformes de covoiturage. Au cœur des opérations d\\'inDrive se trouve un engagement indéfectible envers la sécurité. Tous les chauffeurs font l\\'objet de vérifications approfondies des antécédents, y compris la validation des permis et de la documentation, garantissant que seuls les chauffeurs les plus fiables sont sur la route. De plus, les passagers peuvent noter les chauffeurs après chaque course, créant ainsi une culture de responsabilité et d\\'amélioration continue. Pour la tranquillité d\\'esprit des passagers, l\\'application propose également un suivi GPS en direct, ce qui permet aux utilisateurs de partager les détails du voyage avec leurs amis ou leur famille. En outre, inDrive offre un support client 24h/24 et 7j/7 et comprend un bouton d\\'urgence qui connecte instantanément les utilisateurs aux autorités locales en cas de problème de sécurité. En entrant sur le marché congolais, inDrive apporte avec lui une approche fraîche et dynamique de la mobilité urbaine. Ashif Black, représentant du développement commercial pour inDrive en Afrique, a souligné l\\'importance de ce lancement en déclarant : \\xa0\\nFabriqués par des ex-kuluna devenus bâtisseurs de la nation, ces meubles sont composés des tables, des chaises, des armoires et des fauteuils pour les bureaux des bourgmestres. Ils ont été remis à Jacquemain Shabani par le commandant du Service national, le général-major Jean-Pierre Kasongo Kabwik. «\\xa0 , a déclaré le commandant de cet organe de l’État. Les 15 premières communes concernées sont : Ngaliema, N’Sele, Lingwala, Kalamu, Selembao, Bandalungwa, Ndjili, Masina, Kimbanseke, Ngaba, Makala, Kisenso, Bumbu, Matete et Ngiri-Ngiri. Les autres communes seront servies dans les tout prochains jours, une fois le parachèvement des travaux de finissage, a affirmé Jean-Pierre Kasongo Kabwik. Après avoir réceptionné ces meubles, don du service national, le VPM Jacquemain Shabani les a transférés au gouverneur de la ville de Kinshasa, pour une distribution dans les 15 maisons communales. Ce membre du gouvernement a, à l’occasion, salué la vision du président de la République et l’engagement du Service national dans la transformation des jeunes, longtemps considérés de délinquants, en bâtisseurs de la nation. «\\xa0 «\\xa0, a déclaré avec fierté le vice-premier ministre de l’intérieur. Jacquemain Shabani a invité les bénéficiaires de ces meubles d’avoir conscience des efforts mis en contribution pour la fabrication de ces matériels didactiques et ainsi d’en faire bon usage. Cette cérémonie, faut-il le souligner, a aussi connu la participation du vice-ministre des affaires coutumières, des officiers de la police et cadres du service national ainsi que des autorités de Kinshasa, à l’instar du gouverneur Daniel Bumba Lubaki et des bourgmestres de la capitale congolaise.\\nLe cadastre minier (CAMI) a organisé la troisième édition de son café de presse ce jeudi 10 octobre à\\xa0 Pullman Hôtel de Kinshasa, capitale de la RDC.\\xa0 Devant les journalistes et autres acteurs du secteur, le ministre congolais des mines, Kizito Pakabomba, a réitéré la volonté du gouvernement de procéder à un assainissement profond de ce secteur. Pour y parvenir, le ministre envisage plusieurs réformes majeures parmi lesquelles la revitalisation de l’Inspection Générale des Mines (IGM) et la création d’une autorité de régulation et de commercialisation des minerais stratégiques. Face aux pratiques illégales qui gangrènent le secteur, le ministre a appelé les opérateurs, qu’ils soient artisanaux ou industriels, à se conformer strictement aux dispositions du code et du règlement miniers.\\xa0 Le ministre des mines a également lancé un appel aux partenaires étrangers afin qu’ils accompagnent la RDC dans sa démarche de valorisation de ses ressources minérales. Lors de la\\xa0 94ème\\xa0 réunion du conseil des ministres vendredi 14 avril 2023, le gouvernement congolais avait\\xa0 adopté le projet de décret portant création, organisation et fonctionnement de l’Inspection Générale des Mines.\\xa0\\xa0 Cette structure devrait avoir pour mission\\xa0 notamment de lutter contre la fraude et la contrebande minière sous toutes les formes, de concevoir, mettre en œuvre et assurer le suivi de l\\'exécution des mesures pratiques de collaboration sur le terrain entre les services et organismes publics ayant dans leurs attributions la lutte contre la fraude et la contrebande dans le secteur des Mines », indiquait le compte rendu du conseil des ministres.\\nDans le cadre de ses activités de vacances, Jean Obote Sirika, membre du Conseil économique et social de la République démocratique du Congo, a conduit une mission dans la région de Beni au Nord-Kivu. L’objectif de cette mission était de s’inspirer des modèles économiques en place afin de proposer leur adaptation dans la province du Haut-Uele. Jean Obote Sirika espère attirer l’attention des décideurs pour la mise en œuvre de ces pratiques dans sa province, pour matérialiser la vision du chef de l’État, Félix-Antoine Tshisekedi, celle de la diversification de l’économie nationale et la promotion de la sécurité alimentaire. Lors de cette visite, des opportunités prometteuses dans la culture du cacao et du palmier à huile ont été observées. Des infrastructures comme la concession de Mavivi, avec les entreprises SCAK et Rift Trading Company, montrent comment un partenariat entre les secteurs public et privé peut permettre aux petits agriculteurs d’accéder à des plantules améliorées et d’assurer des débouchées pour leurs productions. Ce modèle de collaboration pourrait être implanté dans le Haut-Uele, notamment pour les projets agricoles soutenus par le cahier des charges de Kibali Gold Mines. Les systèmes mis en place dans le Nord-Kivu, offrant des variétés résistantes et à haut rendement, ont un potentiel immense pour stimuler l’économie agricole du Haut-Uele. Avec une adaptation appropriée, ce modèle permettrait aux planteurs locaux de contribuer de manière significative à la sécurité alimentaire et à la diversification des revenus. Les infrastructures de transformation, comme la presse à huile de Mutwanga et la chocolaterie de Virunga, ont démontré comment la transformation locale peut dynamiser l’économie. La presse à huile, avec une capacité de traitement impressionnante, et la chocolaterie qui exporte vers l’Europe, sont des exemples que Jean Obote Sirika souhaite voir répliqués dans le Haut-Uele. La possibilité de créer des usines de transformation pour le cacao et le palmier à huile dans la province pourrait non seulement créer des emplois, mais aussi ajouter de la valeur aux produits agricoles, augmentant ainsi leur rentabilité et leur compétitivité sur les marchés internationaux. Pour soutenir cette vision, l’accès à l’énergie joue un rôle clé. La mission a pris note de l’importance des infrastructures énergétiques comme la centrale hydroélectrique de Mutwanga, qui alimente les installations locales. Cependant, pour le Haut-Uele, l’exploitation des énergies renouvelables, telles que le solaire, dans des localités comme Faradje et Tadu, devra être renforcée pour soutenir les projets agro-industriels à venir. Jean Obote Sirika s’engage à promouvoir l’adoption de modèles de développement innovants dans le Haut-Uele, inspirés par les réussites observées au Nord-Kivu. Ce projet, qui s’arrange dans la ligne droite de la vision du président Félix-Antoine Tshisekedi pour diversifier l’économie et assurer la sécurité alimentaire, pourrait transformer le Haut-Uele en un pôle agro-industriel compétitif, avec des infrastructures adéquates et des collaborations solides entre le public et le privé.\\nUne messe noire a été célébré, selon les fins limiers de Scoop RDC, ce mardi 09 octobre 2024 à partir de 16 heures à Procoki, derrière le siège de HCR à Kinshasa. Elle\\xa0réunissait\\xa0 des Directeurs généraux, des Directeurs généraux adjoints et des\\xa0 Mandataires non actifs, notamment des administrateurs au sein de\\xa0 plusieurs entreprises et établissements publics de l’État. L’objectif de la rencontre\\xa0de ces mandataires publics actifs et non actifs : s’opposer à l’idée proposée par le ministre d’Etat, ministre du Portefeuille, Jean-Lucien Bussa, de revoir à la baisse\\xa0 leurs droits et avantages et les uniformiser ce, selon la recommandation du président de la République, Félix-Antoine Tshisekedi. Dans leur démarche, d’après les informations parvenues à Scoop RDC, ils en veulent à Jean-Lucien Bussa qu’ils considèrent comme celui qui veut leur ravir le beefsteak à la bouche, et s’engagent à le déstabiliser par tous les moyens. En effet, dans sa communication faite au Conseil des Ministres du 28 juin 2024, le président Tshisekedi avait évoqué la problématique de la rationalisation du système des rémunérations des agents et fonctionnaires de l’Etat. Le Chef de l’État avait décrié les graves disparités constatées entre les différentes administrations, surtout dans plusieurs entreprises et établissements publics de l’État où les DG et DGA se font payer des salaires exorbitants variant entre 40 mille et 60 mille dollars américains le mois. Pire, les mandataires publics non actifs (PCA et administrateurs) se font aussi payer mensuellement des sommes colossales dépassant 10 mille USD, ce, en violation l’article 18 de la loi n° 08/010 du 7 juillet 2008 fixant les règles relatives à l’organisation et à la gestion du Portefeuille de l’Etat.  avait déclaré le Porte-parole du Gouvernement dans son compte-rendu. D’où, dans les reformes envisagées, Jean-Lucien Bussa estime qu’il y a urgence de revoir le décret\\xa0 n° 13/055 du 13 décembre 2013\\xa0 portant statut des mandataires publics dans les entreprises du Portefeuille de l’Etat s’impose. Ce décret accorde à ces mandataires\\xa0 de nouveaux droits et avantages, à savoir\\xa0: l’indemnité mensuelle de fonction au titre de revenus mensuels\\xa0; des\\xa0 avantages sociaux supplémentaires au profit des mandataires publics actifs pour des missions\\xa0; des frais d’installation\\xa0qui peuvent aller jusqu’à l’équivalent de 6 mois de rémunération aussi bien pour les mandataires publics actifs que passifs ; des avantages sociaux au profit des mandataires publics non actifs,\\xa0 un véhicule de service et une indemnité de sortie au profit des mandataires publics actifs. Vouloir s’attaquer à Jean-Lucien Bussa démontre clairement que ces mandataires vont en guerre contre\\xa0 la volonté du chef de l’État, celle de relancer l’économie nationale à travers ces entreprises et de créer des emplois. Bref, cette messe noire des ennemis du décalage économique du pays sape les efforts du président de la République et du Gouvernement à assurer une redistribution équitable des droits et avantages liés au service. Dossier à suivre.\\nSur instruction du Président de la République, Félix Tshisekedi, le Service National a procédé, ce mercredi, à la remise de fauteuils, tables de bureau et armoires aux bourgmestres de 15 communes de Kinshasa. Cette initiative, pilotée par le Général-major Jean Pierre Kasongo Kabwik, commandant du Service National, s’inscrit dans une démarche d’appui aux administrations publiques locales. La cérémonie de remise s’est déroulée à l’immeuble de la territoriale, en présence du Vice-premier ministre et ministre de l\\'Intérieur, Jacquemin Shabani, ainsi que du gouverneur de la ville, Daniel Bumba. Les meubles, fabriqués par des anciens délinquants de gangs urbains – communément appelés ex-Kulunas – désormais réhabilités et formés par le Service National, ont été produits dans l\\'atelier de menuiserie du service à Nsele. Ils visent à renforcer les capacités d\\'accueil des bureaux administratifs des communes de la capitale. Le Général-major Kasongo Kabwik a précisé lors de son allocution que cette dotation marque « une première et une réponse directe aux instructions du commandant suprême, le chef de l\\'État. » Jacquemin Shabani, de son côté, a souligné l’importance de cet acte, qu’il voit comme le résultat d’un mécanisme de réinsertion et de formation qui a débuté avec la police nationale congolaise et s’inscrit dans la vision politique de développement du président Tshisekedi. Cette opération de dotation en mobiliers s’étendra également au secteur judiciaire : le Service National prévoit de fournir plus de 500 tables de bureau, 1 000 chaises et 1 000 armoires aux tribunaux de Kinshasa. Par la suite, les états-majors des Forces armées et de la Police nationale congolaise bénéficieront aussi de cette initiative de modernisation. Ce programme de distribution de mobilier fait suite à une première phase, au cours de laquelle des bancs-pupitres ont été remis aux écoles, universités et instituts supérieurs de Kinshasa. Cette opération de soutien aux infrastructures publiques se poursuivra dans les jours à venir, alors que le Service National multiplie les initiatives pour appuyer le développement des institutions de la capitale.\\nL’ultimatum de 72h lancé le 07 octobre 2024 par le Gouverneur de la Ville de Kinshasa aux bourgmestres pour présenter les plans communaux d’actions contre les déchets, l’insécurité et les nuisances sonores est une initiative louable manifestant son souci de prendre à bras le corps les questions environnementales devenues cruciales pour la santé de la population et l’état des écosystèmes dans l’une des capitales les plus peuplés d’Afrique. Produire le plan communal d’action environnemental est conditionné par des préalables au regard de la loi n°11/009 du 09 juillet 2011 portant principes fondamentaux relatifs à la protection de l’environnement et de l’édit n°003/2013 du 09 septembre 2013 relatif à l’assainissement et à la protection de l’environnement de la Ville de Kinshasa.\\xa0 Sur pied de l’article 66 de l’édit précité, le plan communal d’action environnemental doit être conforme au  . Ce programme provincial de protection de l’environnement doit être la traduction de la   devant être élaborée et mise en œuvre par le ministre provincial ayant l’Environnement dans ses attributions en vertu de l’article 64 de l’édit.\\xa0 À son tour, ce programme provincial de protection de l’environnement doit s’aligner au   au regard des dispositions de l’article 16 de la loi précitée. \\xa0En vertu de l’article 15 de cette loi, le Gouvernement définit   et de gestion durable des ressources naturelles traduite en un plan national d’action environnemental.  . Ce conseil a aussi pour mission de donner son avis sur la mise en œuvre de cette politique au regard de l’article 17 de l’ordonnance-loi n°23/007 du 03 mars 2023 modifiant et complétant la loi susmentionnée.\\xa0 L’examen des lois et de l’édit sur la protection de l’environnement précités démontre qu’il est impérieux de prendre en compte les préalables y consacrés avant l’adoption d’un plan d’action communal environnemental. Appliquer le schéma posé par le cadre juridique congolais est impératif. L’engagement des institutions devant intervenir antérieurement à l’élaboration du plan communal d’action environnemental est d’une importance capitale afin de produire les politiques, les programmes et les plans d’action sur l’environnement à l’échelle nationale et provinciale. Il s’agit des institutions suivantes\\xa0:  Concernant les nuisances sonores, l’application rigoureuse du décret n° 14/012 portant réglementation de la production sonore en République démocratique du Congo du 08 mai 2014 est à encourager. Son article 5 fixe les heures où la production sonore est permise. Il s’énonce comme suit\\xa0:  Dix ans après son introduction dans l’arsenal juridique congolais, ce décret n’est pas strictement appliqué. Ceci expose la population aux nuisances sonores. Cette brève analyse a l’ambition d’inciter les acteurs devant garantir la protection de l’environnement en RDC et à Kinshasa à veiller au respect de l’arsenal juridique y relatif pour l’intérêt des générations présentes et futures. L’heure est grave. Agissons urgemment \\xa0et en toute légalité pour protéger l’environnement de notre Alma mater.\\xa0'"
      ]
     },
     "execution_count": 48,
     "metadata": {},
     "output_type": "execute_result"
    }
   ],
   "source": [
    "first_cluster.content.str.cat(sep=\"\\n\")"
   ]
  },
  {
   "cell_type": "code",
   "execution_count": 49,
   "metadata": {},
   "outputs": [
    {
     "data": {
      "text/plain": [
       "[{'role': 'system', 'content': 'You are a french news reporter'},\n",
       " {'role': 'user',\n",
       "  'content': '\\nGive a summary in french of the following document:\\noctobre 10, 2024 Kinshasa- Financement des travaux du projet 3 communes: Lobbying payant du sénateur Gecoco Mulumba Par :    La rédaction \\n \\n \\n Kinshasa, 10 Octobre 2024- Le plaidoyer du sénateur Gecoco Mulumba auprès du ministre des finances pour décanter la situation de paiement des entreprises chargées  de la construction des routes dans les communes de Gombe, Kasa-vubu et Limete a payé. “Ce mercredi 09 octobre 2024, j’ai été remercié le Ministre National des Finances pour avoir accédé à mon plaidoyer au sujet du paiement de fonds aux entreprises concernées dans le Projet 3 Communes (Gombe, Kasa-Vubu et Limete). Il y a 10 jours, en effet, je l’ai rencontré à ce sujet et il a promis de décanter la situation. Je tiens à remercier Monsieur le Président de la République, initiateur du ce projet qui permettra une mobilité aisée de notre population”,  a-t-il fait savoir. D’après l’ancien vice gouverneur de Kinshasa, ces entreprises vont devoir dans 3 ou 4 jours, toucher un peu plus de 20% des fonds afin que les travaux de construction des routes de ces communes reprennent aussitôt. Très impliqué dans le développement de la ville de Kinshasa, il a également participé à une autre réunion mardi 8 avec le Ministre des Finances, celui des ITPR, le Gouverneur de la Ville de Kinshasa, le Ministre Provincial des ITPR Ville de Kin, le DG de l’OVD et les responsables des entreprises concernées dans ce projet. Cette réunion a notamment permis d’arrondir les angles. Le ministre des finances a décidé de disponibiliser des fonds pour la réhabilitation de 49 kilomètres de routes. Cédric BEYA\\xa0\\nTout a commencé avec une conférence animée par le directeur du festival, Kevin Mavakala, sur « Les opportunités offertes par un festival de cinéma et comment donner de la valeur aux certificats reçus après les ateliers de formation ». Il a souligné, lors de ces assises, l’importance stratégique des festivals de cinéma dans le développement des carrières artistiques, qui, en plus d’être des lieux d’apprentissage et de formation, offrent une plateforme de visibilité et de réseautage pour les cinéastes, qu’ils soient débutants ou professionnels. Ensuite ont eu lieu des \"Rencontres Kongo Panoramique\" à la salle de cinéma de l\\'Institut Français de Kinshasa, qui ont porté sur les \"différents moyens et opportunités de production de films dans un contexte africain\", animés par Toumany Sangaré, ainsi que sur \"les opportunités de coopération audiovisuelle entre la France et la RDC\", présentées par Anthony Krawczyk. Ces échanges ont offert des perspectives précieuses aux participants sur les défis et opportunités du secteur cinématographique africain. Le producteur et réalisateur belge Mestdagh Rudolf a animé un atelier sur la production cinématographique, offrant aux participants une opportunité unique d\\'apprendre les rouages de la production de films de qualité. De son côté, le réalisateur sénégalais Toumani Tangaré a conduit une formation dédiée à l’autoproduction, un domaine crucial pour les cinéastes indépendants cherchant à réaliser leurs projets avec des ressources limitées. Ces sessions se sont déroulées sur les quatre jours du festival à l’Institut Français et à l’Académie des Beaux-Arts, deux lieux emblématiques de la culture et de l’art à Kinshasa. Cette 11e édition du FICKIN a été également marquée par les ateliers de formation axés sur la direction photo, animée par Djoe Muyaya; la narration au cinéma avec Richi Mbebele et le jeu d’acteur conduit par Harvin Biyani.\\xa0 L’atelier de direction photo, dirigé par Djoe Muyaya, a permis aux participants de se familiariser avec les bases et les fondamentaux de la caméra. Djoe Muyaya a souligné l’importance de la lumière, de la décoration et de tous les éléments visuels qui contribuent à la fabrication d’un film. Richi Mbebele a animé l’atelier sur la narration au cinéma, un domaine souvent négligé mais essentiel pour la qualité des scénarios. Mbebele a partagé ses connaissances sur les mécanismes de narration, aidant les participants à comprendre comment raconter une histoire de manière efficace et captivante. Et d’ajouter : Le troisième atelier, consacré au jeu d’acteur et animé par Harvin, a offert aux participants l’opportunité de perfectionner leurs compétences en interprétation. Harvin Isma a mis l’accent sur l’importance de l’authenticité et de l’émotion dans le jeu d’acteur, encourageant les participants à explorer et à exprimer leurs sentiments de manière sincère devant les caméras. Cet atelier a été salué pour son approche pratique et immersive, permettant aux acteurs en herbe de développer leur talent et de gagner en confiance. Ces formations ont permis à renforcer les compétences des cinéastes locaux, en leur fournissant des outils pratiques et théoriques pour exceller dans leurs métiers. L’objectif était clair : encourager l’éclosion d’une industrie cinématographique durable en RDC. Kevin Mavakala, directeur du festival, a souligné les objectifs du FICKIN : « Nous ne voulons pas être spectateurs de notre propre histoire. Nous voulons faire de notre quotidien une force sur laquelle nous allons nous appuyer grâce au cinéma ». Cette déclaration reflète la vision d’un festival qui aspire à transformer les récits locaux en œuvres cinématographiques puissantes et inspirantes. La 11e édition du Festival International de Cinéma de Kinshasa s’est déroulée du 3 au 6 octobre à l’institut français et à l’académie des beaux-arts. Cette édition 2024 a ajouté une touche particulière intégrant entre autres l’exposition d’arts plastiques. La soirée de clôture a vu plusieurs personnes être primées, notamment les participants aux formations.\\xa0 En plus des ateliers, le FICKIN a proposé une panoplie de programmes riches et diversifiés, avec plus de 70 films sélectionnés parmi 503 œuvres soumises. Les projections ont lieu en plein air en en salle à l’Institut Français et à l’Académie des Beaux-Arts, offrant au public kinois une occasion unique de découvrir des films qui reflètent les réalités et les rêves des Congolais. Le FICKIN 11 s’est encore une fois de plus affirmé comme un événement incontournable pour les amateurs de cinéma et les professionnels de l’industrie, contribuant significativement au développement du septième art en République Démocratique du Congo. \\xa0\\n\\xa0 – Le fournisseur mondial de services de mobilité et urbain inDrive annonce le lancement de son service de covoiturage à Kinshasa, marquant une étape importante dans son expansion en Afrique. En tant que deuxième application la plus téléchargée au monde pendant deux années consécutives, inDrive opère avec succès sur tous les continents, y compris l\\'Afrique.\\xa0 Contrairement aux plateformes de covoiturage traditionnelles, inDrive propose une expérience révolutionnaire en permettant aux chauffeurs et aux passagers de négocier les tarifs directement, offrant ainsi une plus grande flexibilité et un meilleur contrôle aux deux parties. Ce modèle axé sur les personnes, déjà couronné de succès dans de nombreuses villes du monde, donne aux chauffeurs la liberté de choisir les courses en fonction de leurs propres critères, tandis que les passagers bénéficient de tarifs plus transparents et personnalisés. Grâce à l\\'application inDrive, les passagers peuvent définir leurs lieux de prise en charge et de dépose, et proposer un prix. Les chauffeurs vérifiés à proximité reçoivent cette requête et ont la possibilité d\\'accepter le prix proposé, de suggérer une contre-offre ou de refuser le trajet sans aucune pénalité. Ce système de négociation prend en compte les spécificités de la course, notamment le tarif, le type de véhicule, l\\'heure d\\'arrivée estimée et les évaluations des chauffeurs, ce qui permet aux chauffeurs de choisir les courses les plus rentables et les plus pratiques. inDrive se distingue en outre en éliminant les frais de commission pour les chauffeurs à Kinshasa au cours des six premiers mois d\\'activité. Cette période sans commission permet aux chauffeurs de conserver la totalité de leurs revenus, créant ainsi un avantage financier direct et immédiat. Après les six premiers mois, une commission basse standard sera introduite, garantissant aux chauffeurs qu\\'ils continueront à bénéficier de revenus plus élevés par rapport aux autres plateformes de covoiturage. Au cœur des opérations d\\'inDrive se trouve un engagement indéfectible envers la sécurité. Tous les chauffeurs font l\\'objet de vérifications approfondies des antécédents, y compris la validation des permis et de la documentation, garantissant que seuls les chauffeurs les plus fiables sont sur la route. De plus, les passagers peuvent noter les chauffeurs après chaque course, créant ainsi une culture de responsabilité et d\\'amélioration continue. Pour la tranquillité d\\'esprit des passagers, l\\'application propose également un suivi GPS en direct, ce qui permet aux utilisateurs de partager les détails du voyage avec leurs amis ou leur famille. En outre, inDrive offre un support client 24h/24 et 7j/7 et comprend un bouton d\\'urgence qui connecte instantanément les utilisateurs aux autorités locales en cas de problème de sécurité. En entrant sur le marché congolais, inDrive apporte avec lui une approche fraîche et dynamique de la mobilité urbaine. Ashif Black, représentant du développement commercial pour inDrive en Afrique, a souligné l\\'importance de ce lancement en déclarant : \\xa0\\nFabriqués par des ex-kuluna devenus bâtisseurs de la nation, ces meubles sont composés des tables, des chaises, des armoires et des fauteuils pour les bureaux des bourgmestres. Ils ont été remis à Jacquemain Shabani par le commandant du Service national, le général-major Jean-Pierre Kasongo Kabwik. «\\xa0 , a déclaré le commandant de cet organe de l’État. Les 15 premières communes concernées sont : Ngaliema, N’Sele, Lingwala, Kalamu, Selembao, Bandalungwa, Ndjili, Masina, Kimbanseke, Ngaba, Makala, Kisenso, Bumbu, Matete et Ngiri-Ngiri. Les autres communes seront servies dans les tout prochains jours, une fois le parachèvement des travaux de finissage, a affirmé Jean-Pierre Kasongo Kabwik. Après avoir réceptionné ces meubles, don du service national, le VPM Jacquemain Shabani les a transférés au gouverneur de la ville de Kinshasa, pour une distribution dans les 15 maisons communales. Ce membre du gouvernement a, à l’occasion, salué la vision du président de la République et l’engagement du Service national dans la transformation des jeunes, longtemps considérés de délinquants, en bâtisseurs de la nation. «\\xa0 «\\xa0, a déclaré avec fierté le vice-premier ministre de l’intérieur. Jacquemain Shabani a invité les bénéficiaires de ces meubles d’avoir conscience des efforts mis en contribution pour la fabrication de ces matériels didactiques et ainsi d’en faire bon usage. Cette cérémonie, faut-il le souligner, a aussi connu la participation du vice-ministre des affaires coutumières, des officiers de la police et cadres du service national ainsi que des autorités de Kinshasa, à l’instar du gouverneur Daniel Bumba Lubaki et des bourgmestres de la capitale congolaise.\\nLe cadastre minier (CAMI) a organisé la troisième édition de son café de presse ce jeudi 10 octobre à\\xa0 Pullman Hôtel de Kinshasa, capitale de la RDC.\\xa0 Devant les journalistes et autres acteurs du secteur, le ministre congolais des mines, Kizito Pakabomba, a réitéré la volonté du gouvernement de procéder à un assainissement profond de ce secteur. Pour y parvenir, le ministre envisage plusieurs réformes majeures parmi lesquelles la revitalisation de l’Inspection Générale des Mines (IGM) et la création d’une autorité de régulation et de commercialisation des minerais stratégiques. Face aux pratiques illégales qui gangrènent le secteur, le ministre a appelé les opérateurs, qu’ils soient artisanaux ou industriels, à se conformer strictement aux dispositions du code et du règlement miniers.\\xa0 Le ministre des mines a également lancé un appel aux partenaires étrangers afin qu’ils accompagnent la RDC dans sa démarche de valorisation de ses ressources minérales. Lors de la\\xa0 94ème\\xa0 réunion du conseil des ministres vendredi 14 avril 2023, le gouvernement congolais avait\\xa0 adopté le projet de décret portant création, organisation et fonctionnement de l’Inspection Générale des Mines.\\xa0\\xa0 Cette structure devrait avoir pour mission\\xa0 notamment de lutter contre la fraude et la contrebande minière sous toutes les formes, de concevoir, mettre en œuvre et assurer le suivi de l\\'exécution des mesures pratiques de collaboration sur le terrain entre les services et organismes publics ayant dans leurs attributions la lutte contre la fraude et la contrebande dans le secteur des Mines », indiquait le compte rendu du conseil des ministres.\\nDans le cadre de ses activités de vacances, Jean Obote Sirika, membre du Conseil économique et social de la République démocratique du Congo, a conduit une mission dans la région de Beni au Nord-Kivu. L’objectif de cette mission était de s’inspirer des modèles économiques en place afin de proposer leur adaptation dans la province du Haut-Uele. Jean Obote Sirika espère attirer l’attention des décideurs pour la mise en œuvre de ces pratiques dans sa province, pour matérialiser la vision du chef de l’État, Félix-Antoine Tshisekedi, celle de la diversification de l’économie nationale et la promotion de la sécurité alimentaire. Lors de cette visite, des opportunités prometteuses dans la culture du cacao et du palmier à huile ont été observées. Des infrastructures comme la concession de Mavivi, avec les entreprises SCAK et Rift Trading Company, montrent comment un partenariat entre les secteurs public et privé peut permettre aux petits agriculteurs d’accéder à des plantules améliorées et d’assurer des débouchées pour leurs productions. Ce modèle de collaboration pourrait être implanté dans le Haut-Uele, notamment pour les projets agricoles soutenus par le cahier des charges de Kibali Gold Mines. Les systèmes mis en place dans le Nord-Kivu, offrant des variétés résistantes et à haut rendement, ont un potentiel immense pour stimuler l’économie agricole du Haut-Uele. Avec une adaptation appropriée, ce modèle permettrait aux planteurs locaux de contribuer de manière significative à la sécurité alimentaire et à la diversification des revenus. Les infrastructures de transformation, comme la presse à huile de Mutwanga et la chocolaterie de Virunga, ont démontré comment la transformation locale peut dynamiser l’économie. La presse à huile, avec une capacité de traitement impressionnante, et la chocolaterie qui exporte vers l’Europe, sont des exemples que Jean Obote Sirika souhaite voir répliqués dans le Haut-Uele. La possibilité de créer des usines de transformation pour le cacao et le palmier à huile dans la province pourrait non seulement créer des emplois, mais aussi ajouter de la valeur aux produits agricoles, augmentant ainsi leur rentabilité et leur compétitivité sur les marchés internationaux. Pour soutenir cette vision, l’accès à l’énergie joue un rôle clé. La mission a pris note de l’importance des infrastructures énergétiques comme la centrale hydroélectrique de Mutwanga, qui alimente les installations locales. Cependant, pour le Haut-Uele, l’exploitation des énergies renouvelables, telles que le solaire, dans des localités comme Faradje et Tadu, devra être renforcée pour soutenir les projets agro-industriels à venir. Jean Obote Sirika s’engage à promouvoir l’adoption de modèles de développement innovants dans le Haut-Uele, inspirés par les réussites observées au Nord-Kivu. Ce projet, qui s’arrange dans la ligne droite de la vision du président Félix-Antoine Tshisekedi pour diversifier l’économie et assurer la sécurité alimentaire, pourrait transformer le Haut-Uele en un pôle agro-industriel compétitif, avec des infrastructures adéquates et des collaborations solides entre le public et le privé.\\nUne messe noire a été célébré, selon les fins limiers de Scoop RDC, ce mardi 09 octobre 2024 à partir de 16 heures à Procoki, derrière le siège de HCR à Kinshasa. Elle\\xa0réunissait\\xa0 des Directeurs généraux, des Directeurs généraux adjoints et des\\xa0 Mandataires non actifs, notamment des administrateurs au sein de\\xa0 plusieurs entreprises et établissements publics de l’État. L’objectif de la rencontre\\xa0de ces mandataires publics actifs et non actifs : s’opposer à l’idée proposée par le ministre d’Etat, ministre du Portefeuille, Jean-Lucien Bussa, de revoir à la baisse\\xa0 leurs droits et avantages et les uniformiser ce, selon la recommandation du président de la République, Félix-Antoine Tshisekedi. Dans leur démarche, d’après les informations parvenues à Scoop RDC, ils en veulent à Jean-Lucien Bussa qu’ils considèrent comme celui qui veut leur ravir le beefsteak à la bouche, et s’engagent à le déstabiliser par tous les moyens. En effet, dans sa communication faite au Conseil des Ministres du 28 juin 2024, le président Tshisekedi avait évoqué la problématique de la rationalisation du système des rémunérations des agents et fonctionnaires de l’Etat. Le Chef de l’État avait décrié les graves disparités constatées entre les différentes administrations, surtout dans plusieurs entreprises et établissements publics de l’État où les DG et DGA se font payer des salaires exorbitants variant entre 40 mille et 60 mille dollars américains le mois. Pire, les mandataires publics non actifs (PCA et administrateurs) se font aussi payer mensuellement des sommes colossales dépassant 10 mille USD, ce, en violation l’article 18 de la loi n° 08/010 du 7 juillet 2008 fixant les règles relatives à l’organisation et à la gestion du Portefeuille de l’Etat.  avait déclaré le Porte-parole du Gouvernement dans son compte-rendu. D’où, dans les reformes envisagées, Jean-Lucien Bussa estime qu’il y a urgence de revoir le décret\\xa0 n° 13/055 du 13 décembre 2013\\xa0 portant statut des mandataires publics dans les entreprises du Portefeuille de l’Etat s’impose. Ce décret accorde à ces mandataires\\xa0 de nouveaux droits et avantages, à savoir\\xa0: l’indemnité mensuelle de fonction au titre de revenus mensuels\\xa0; des\\xa0 avantages sociaux supplémentaires au profit des mandataires publics actifs pour des missions\\xa0; des frais d’installation\\xa0qui peuvent aller jusqu’à l’équivalent de 6 mois de rémunération aussi bien pour les mandataires publics actifs que passifs ; des avantages sociaux au profit des mandataires publics non actifs,\\xa0 un véhicule de service et une indemnité de sortie au profit des mandataires publics actifs. Vouloir s’attaquer à Jean-Lucien Bussa démontre clairement que ces mandataires vont en guerre contre\\xa0 la volonté du chef de l’État, celle de relancer l’économie nationale à travers ces entreprises et de créer des emplois. Bref, cette messe noire des ennemis du décalage économique du pays sape les efforts du président de la République et du Gouvernement à assurer une redistribution équitable des droits et avantages liés au service. Dossier à suivre.\\nSur instruction du Président de la République, Félix Tshisekedi, le Service National a procédé, ce mercredi, à la remise de fauteuils, tables de bureau et armoires aux bourgmestres de 15 communes de Kinshasa. Cette initiative, pilotée par le Général-major Jean Pierre Kasongo Kabwik, commandant du Service National, s’inscrit dans une démarche d’appui aux administrations publiques locales. La cérémonie de remise s’est déroulée à l’immeuble de la territoriale, en présence du Vice-premier ministre et ministre de l\\'Intérieur, Jacquemin Shabani, ainsi que du gouverneur de la ville, Daniel Bumba. Les meubles, fabriqués par des anciens délinquants de gangs urbains – communément appelés ex-Kulunas – désormais réhabilités et formés par le Service National, ont été produits dans l\\'atelier de menuiserie du service à Nsele. Ils visent à renforcer les capacités d\\'accueil des bureaux administratifs des communes de la capitale. Le Général-major Kasongo Kabwik a précisé lors de son allocution que cette dotation marque « une première et une réponse directe aux instructions du commandant suprême, le chef de l\\'État. » Jacquemin Shabani, de son côté, a souligné l’importance de cet acte, qu’il voit comme le résultat d’un mécanisme de réinsertion et de formation qui a débuté avec la police nationale congolaise et s’inscrit dans la vision politique de développement du président Tshisekedi. Cette opération de dotation en mobiliers s’étendra également au secteur judiciaire : le Service National prévoit de fournir plus de 500 tables de bureau, 1 000 chaises et 1 000 armoires aux tribunaux de Kinshasa. Par la suite, les états-majors des Forces armées et de la Police nationale congolaise bénéficieront aussi de cette initiative de modernisation. Ce programme de distribution de mobilier fait suite à une première phase, au cours de laquelle des bancs-pupitres ont été remis aux écoles, universités et instituts supérieurs de Kinshasa. Cette opération de soutien aux infrastructures publiques se poursuivra dans les jours à venir, alors que le Service National multiplie les initiatives pour appuyer le développement des institutions de la capitale.\\nL’ultimatum de 72h lancé le 07 octobre 2024 par le Gouverneur de la Ville de Kinshasa aux bourgmestres pour présenter les plans communaux d’actions contre les déchets, l’insécurité et les nuisances sonores est une initiative louable manifestant son souci de prendre à bras le corps les questions environnementales devenues cruciales pour la santé de la population et l’état des écosystèmes dans l’une des capitales les plus peuplés d’Afrique. Produire le plan communal d’action environnemental est conditionné par des préalables au regard de la loi n°11/009 du 09 juillet 2011 portant principes fondamentaux relatifs à la protection de l’environnement et de l’édit n°003/2013 du 09 septembre 2013 relatif à l’assainissement et à la protection de l’environnement de la Ville de Kinshasa.\\xa0 Sur pied de l’article 66 de l’édit précité, le plan communal d’action environnemental doit être conforme au  . Ce programme provincial de protection de l’environnement doit être la traduction de la   devant être élaborée et mise en œuvre par le ministre provincial ayant l’Environnement dans ses attributions en vertu de l’article 64 de l’édit.\\xa0 À son tour, ce programme provincial de protection de l’environnement doit s’aligner au   au regard des dispositions de l’article 16 de la loi précitée. \\xa0En vertu de l’article 15 de cette loi, le Gouvernement définit   et de gestion durable des ressources naturelles traduite en un plan national d’action environnemental.  . Ce conseil a aussi pour mission de donner son avis sur la mise en œuvre de cette politique au regard de l’article 17 de l’ordonnance-loi n°23/007 du 03 mars 2023 modifiant et complétant la loi susmentionnée.\\xa0 L’examen des lois et de l’édit sur la protection de l’environnement précités démontre qu’il est impérieux de prendre en compte les préalables y consacrés avant l’adoption d’un plan d’action communal environnemental. Appliquer le schéma posé par le cadre juridique congolais est impératif. L’engagement des institutions devant intervenir antérieurement à l’élaboration du plan communal d’action environnemental est d’une importance capitale afin de produire les politiques, les programmes et les plans d’action sur l’environnement à l’échelle nationale et provinciale. Il s’agit des institutions suivantes\\xa0:  Concernant les nuisances sonores, l’application rigoureuse du décret n° 14/012 portant réglementation de la production sonore en République démocratique du Congo du 08 mai 2014 est à encourager. Son article 5 fixe les heures où la production sonore est permise. Il s’énonce comme suit\\xa0:  Dix ans après son introduction dans l’arsenal juridique congolais, ce décret n’est pas strictement appliqué. Ceci expose la population aux nuisances sonores. Cette brève analyse a l’ambition d’inciter les acteurs devant garantir la protection de l’environnement en RDC et à Kinshasa à veiller au respect de l’arsenal juridique y relatif pour l’intérêt des générations présentes et futures. L’heure est grave. Agissons urgemment \\xa0et en toute légalité pour protéger l’environnement de notre Alma mater.\\xa0\\n Describes it in a style of a french new paper reporters.\\n\\nDon\\'t summarize each document separately, the content in all the documents should be summarized.\\n\\nThe summary should be in french not in English'}]"
      ]
     },
     "execution_count": 49,
     "metadata": {},
     "output_type": "execute_result"
    }
   ],
   "source": [
    "llama_cpp_generator.generate_chat_input(\n",
    "    template_values={\"content\": first_cluster.content.str.cat(sep=\"\\n\")}, prompt_template=summarization_prompt)"
   ]
  },
  {
   "cell_type": "code",
   "execution_count": 50,
   "metadata": {},
   "outputs": [
    {
     "name": "stdout",
     "output_type": "stream",
     "text": [
      "La quatrième phase de la campagne de vaccination contre la poliomyélite a été lancée mercredi 9 octobre à Inongo, dans la province de Maniema. Au total, 457.201 enfants de zéro à cinquante-neuf mois seront vaccinés du 10 au 12 octobre. Le lancement a été fait par le gouverneur de province, Nkoso Kevani Lebon, dans la commune de Mpolo Maurice. Les équipes de vaccination passeront de porte à porte pour atteindre les enfants ciblés. L'autorité provinciale et les autorités sanitaires ont lancé plusieurs messages de sensibilisation aux parents pour faire vacciner leurs enfants. La campagne, qui vise à vacciner plus d'un million d'enfants dans les 16 zones de santé de Maniema, va s'étendre sur trois jours. Le vice-gouverneur Célestin Kayembe a présidé la cérémonie officielle du lancement. La province du Kwilu continue d'enregistrer les cas de Mpox, dont 220 depuis la déclaration de l'épidémie en 2024, avec un décès. Le ministre provincial de la santé, Arnold Kapalati, précise que certains cas ont été guéris grâce à la prise en charge organisée dans les structures de santé. La prison centrale de Kikwit est le milieu sensible affecté par cette maladie avec trois cas recensés. Dans la zone de santé de Mokala, un infirmier est mort après la prise en charge d'un patient présentant les signes de la maladie. Au moins 47.911 personnes sont attendues pour la vaccination contre le Mpox dans la province du Sud-Kivu.\n",
      "------------------------------\n",
      "Kinshasa, 10 Octobre 2024- Le sénateur Gecoco Mulumba a mené un lobbying auprès du ministre des finances pour obtenir une décanation des fonds de construction des routes dans les communes de Gombe, Kasa-vubu et Limete. Il a souligné que ces entreprises devraient recevoir un paiement de 20% des fonds pour permettre la reprise des travaux de construction des routes dans ces communes. L'ancien vice-gouverneur de Kinshasa, Cédric BEYA, a également participé à une réunion avec le ministre des finances et autres responsables concernés. Cette initiative vise à renforcer les infrastructures routières dans la capitale congolaise.\n",
      "------------------------------\n",
      "Le procès en appel dans l'affaire de tentative de coup d'État du 19 mai dernier a débuté ce jeudi 10 octobre devant la Cour Militaire de Kinshasa/Gombe. Après la lecture de l'extrait de rôle par le greffier, la Cour Militaire a commencé avec l'identification des différents prévenus condamnés au premier degré. L'objectif poursuivi par les prévenus à cette étape est d'obtenir l'annulation ou la réduction des peines prononcées au premier degré par le Tribunal Militaire de garnison de Kinshasa/Gombe. Les avocats des prévenus avaient estimé que les peines du premier degré étaient \" sévères\" et espèrent ce jour prouver l'innocence de leurs clients en appel. Au premier degré, 37 prévenus ont été condamnés à la peine de mort pour des infractions d'association de malfaiteurs, d'attentat et de terrorisme. Parmi eux figurent Marcel Malanga, fils de Christian Malanga, Tyler Christian Thomson, Zalman Pollum Benjamin et Nkele Mbuela Ruffin. L'expert militaire belgo-congolais Jean-Jacques Wondo a également été condamné à la peine de mort pour association de malfaiteurs et attentat. Certains des condamnés ont écopé de 20 ans de servitude pénale pour détention illégale d'armes de guerre. Une dizaine de personnes, 13 au total, ont été acquittées, les faits d'association de malfaiteurs, de terrorisme et de financement du terrorisme n'ayant pas été prouvés. Parmi elles, on retrouve les prévenus dits de \"l’hôtel Chez Momo\", notamment la propriétaire de l’établissement, Mata Maguy, son mari Ephraïm Mugangu, ainsi que leurs employés, Judith Mukela Mukubu et Mbayo Adolphe. Figurent également parmi les acquittés les convoyeurs et chauffeurs des bus ayant transporté les prévenus, le gérant Faustin Egwake, ainsi que la nettoyeuse du Palais de la Nation, Mbemba Ndona Mado. Quant au prévenu Tikimo, il a bénéficié de circonstances atténuantes et a été déclaré non coupable. Le procès sur le coup d'État manqué du 19 mai 2024 s'est ouvert le vendredi 7 juin 2024 et s'était clôturé vendredi 13 septembre 2024. Au total 51 des 53 personnes citées ont comparu devant la juridiction militaire. Le Ministère public ainsi que le tribunal ont constaté le décès de deux prévenus à savoir, Christian Malanga et Aboubakar, tués le jour de l’attaque. L'organe de la loi a alors demandé l'extinction de l'action publique à leurs égards, c'est-à-dire la fin de la procédure pénale engagée contre ces prévenus. Cette demande a été reçue par le tribunal qui a décrété l'extinction de l'action publique pour ces personnes.\n",
      "Le procès en appel dans l'affaire de tentative de coup d'État du 19 mai\n",
      "------------------------------\n",
      "Dans le cadre de la croissance économique et de l'inclusion financière en République Démocratique du Congo (RDC), deux acteurs majeurs ont annoncé un partenariat stratégique. VODACASH S.A., une filiale de Vodacom Congo, et la Société financière internationale (SFI, IFC), membre du Groupe de la Banque mondiale, ont signé un accord pour renforcer les interactions avec l'industrie des services financiers mobiles. Le partenariat vise à promouvoir une réglementation facilitant l'expansion de la monnaie électronique et à réduire les transactions de gré à gré (OTC). Il s'agit d'un accord portant sur 5 axes principaux : la proposition de prêt, le renforcement de l'équipe locale, l'intégration des agents et des commerçants, la stratégie de mise sur le marché pour M-Pesa RDC et la gestion des risques et du changement. Le chef de l'État Félix Tshisekedi a inauguré Silikin Village, un hub d'entrepreneuriat et d'innovation dans le pays. Ce bâtiment de 6 000 m² est dédié aux startups, aux PME et aux grandes entreprises, marquant un tournant significatif pour le paysage entrepreneurial congolais. Le ministre des Postes, Télécommunications et Numérique, Augustin Kibassa Maliba, a souligné l'importance de ce projet pour la croissance économique du pays. Le partenariat entre VODACASH et SFI vise à offrir des solutions innovantes et à améliorer la confiance des utilisateurs dans les services financiers numériques en RDC.\n",
      "------------------------------\n",
      "La Fédération de la République Démocratique du Congo de Tennis (FRDCT) participe à l'assemblée générale ordinaire de la Fédération Internationale de Tennis (ITF) à Hong Kong du 9 au 11 octobre. Elle est représentée par son président, l'ingénieur Georges Koshi Gimeya. Les points à l'ordre du jour incluent les finances et la proposition de la nouvelle constitution (statuts). L'ITF a organisé des compétitions et parrainé des projets de développement dans le monde. La réélection de David Haggerty, président de l'ITF pour un troisième mandat, est également mentionnée. Le Sommet de Paris a favorisé la RDC en accordant une résolution à son appui. La RDC doit se poser la question de ses actions pour tirer profit de sa participation à la Francophonie. L'élection de la RDC au Conseil des droits de l'homme des Nations Unies est une avancée diplomatique, reflétant un engagement continu en faveur des droits humains et de l'égalité des genres. La RDC continue d'améliorer ses conditions pour les journalistes et les médias, notamment en réformant la loi sur la presse. La situation au Rwanda pose des défis pour la RDC, qui doit jouer un rôle actif dans le processus de Luanda.\n",
      "------------------------------\n",
      "Voici un résumé en français des différents documents :\n",
      "\n",
      "L'incendie du bateau MV MERDI sur le lac Kivu a fait 11 morts, dont 11 habitants de Goma. Les cérémonies d'hommage ont eu lieu au cimetière Makao. Des recherches se poursuivent pour tenter de repêcher les corps des disparus. Le bilan provisoire est d'au moins 34 morts, dont 80 rescapés et plusieurs dizaines de disparus. Les travaux d'aménagement des sites d'inhumation se poursuivent encore à Minova, Bweremana et autres endroits. Une veillée mortuaire est prévue vendredi 11 octobre à Kinshasa pour l'ancien basketteur international congolais Jean-Jacques Mutombo Dikembe. Le gouvernement camerounais a démenti les rumeurs sur la santé de Paul Biya, le président du Cameroun, qui est décédé le 12 octobre 1951. Rafael Nadal annonce sa retraite sportive après la finale de la Coupe Davis en novembre. Le gouvernement congolais a admis à titre posthume M. Mutombo Mpolondo Dikembe Jean-Jacques, plus connu sous le nom de Dikembe Mutombo, dans l'Ordre National « Héros Nationaux » Kabila-Lumumba, au grade de Grand Officier.\n",
      "------------------------------\n",
      "Les cheveux sont un symbole de beauté incontestable. Pourtant, souvent, nous négligeons le nettoyage de notre brosse à cheveux. Cette petite astuce est essentielle pour répartir le sébum sur l'ensemble de la chevelure et éviter le dessèchement. En plus, elle aide à débarrasser les cheveux des particules de poussière et autres impuretés accumulées tout au long de la journée. Il est important de nettoyer régulièrement sa brosse à cheveux pour prolonger l'effet de votre routine capillaire et garantir une chevelure éclatante. En trois étapes, vous pouvez rendre justice à votre brosse en éliminant les cheveux, en lavant la brosse avec de l'eau savonneuse et en séchant la brosse. Il est recommandé de nettoyer la brosse toutes les deux semaines, surtout si vous êtes une adepte des produits coiffants ou que vous perdez des cheveux lors du brossage. Une brosse de qualité peut durer des années, mais certains signes ne trompent pas. Si les poils sont usés, déformés ou que la brosse semble plus grasse, il est temps de la remplacer. En outre, si votre brosse a plus de cinq ans, c'est peut-être le moment idéal pour un nouveau départ.\n",
      "------------------------------\n",
      "Voici un résumé en français des documents fournis :\n",
      "\n",
      "Le gouvernement provincial de Mai-Ndombe a été officiellement rétabli avec la nomination de 10 hommes, dont le gouverneur Nkoso Kevani Lebon. Il n'y a pas de femmes nommées ministres. Mme Ikolo Manga Juliette est la seule femme au sein du gouvernement, nommée secrétaire exécutive du gouvernement provincial. Un seul ministre a été reconduit, Barnabé Bompaka Bo Wenge, qui a travaillé avec Rita Bola. Les autres nominations comprennent Richard Nzaaba (ministre des finances), Justin Mulapi Iyolo (ministère de l'éducation), Pascal Ndondo Ipio (ministère de l'agriculture, pêche et élevage), Alex Mputu Bozali (ministre des transports et voies de communications), Roger Mangin Boseko (ministère de l'environnement et développement durable), Nickey Bokunimbo Bokumu (ministère de la santé publique) et Moïse Bokote Basakala (développement rural). L'arrêté de composition du gouvernement provincial a été rendu public le 8 octobre 2024.\n",
      "\n",
      "Dans son discours d'ouverture, la présidente de l'organe délibérant municipal, Véronique Matabisi, a souligné les difficultés des conseillers communaux face à l'absence d'émoluments et de frais de fonctionnement. Elle a également rappelé que les conseillers communaux ont été élus le même jour, mois et année par les électeurs avec le président de la République, les députés nationaux et provinciaux.\n",
      "\n",
      "Le président de l'Assemblée nationale Vital Kamerhe a demandé aux députés nationaux de lever les immunités de Nicolas Kazadi, ancien ministre des Finances cité dans le dossier de détournement des fonds destinés à l'achat des lampadaires et à la construction des forages. Les experts de la société civile s'étonnent de l'impunité accordée à Nicolas Kazadi et demandent une procédure judiciaire pour qu'il répondre pleinement devant son juge naturel.\n",
      "\n",
      "Les députés provinciaux de l'Assemblée provinciale du Kongo-Central ont adopté un calendrier pour la session ordinaire de septembre 2024. Parmi les matières adoptées, il y a une enquête sur la gestion du charbon stocké au port de l'Onatra, une enquête sur le fonctionnement des services publics provinciaux dans les postes frontaliers et points de perception de péage sur les routes d'intérêt provincial, une audition du maire de Matadi sur les embouteillages et l’insalubrité dans la ville, l'examen et adoption du projet d'édit budgétaire du Kongo-Central exercice 2025, une proposition d'édit portant protection et promotion de la langue Kongo, une audition des directeurs provinciaux de la Snel et de la Régideso sur la desserte en eau et en électricité au Kongo-Central.\n",
      "\n",
      "Les Kényans ont réagi après que le Parlement a voté à une écrasante majorité la destitution du vice-président du pays. Les législateurs kenyans ont approuvé mardi\n",
      "------------------------------\n",
      "Dans le cadre de la sécurité publique, une affaire judiciaire a été ouverte pour un policier qui a tiré sur des manifestants lors d'une manifestation pacifique à Matadi. L'agent, André Mapatikala, a été poursuivi pour dissipation des munitions de guerre et violation des consignes. Un autre incident a eu lieu dans la région de Mambasa où des rebelles ADF ont attaqué des villages, tuant trois civils. Des engagements ont été pris pour restaurer la paix dans la région. De plus, des affrontements ont eu lieu entre les miliciens Mobondo et les FARDC, avec six morts. Les forces de sécurité ont également arrêté un groupe de présumés bandits à Kindu. Un compromis a été trouvé pour récupérer les corps d'une famille victime d'un naufrage.\n",
      "------------------------------\n",
      "Cette conférence annuelle, organisée par la CNDH-RDC, a pour thème central les questions d'actualité relatives aux droits de l'homme et à la protection de la santé. L'objectif principal est de favoriser l'échange et le partage d'expériences entre les Institutions nationales des droits de l'homme (INDH) des pays collaborant avec la structure russe. Cette rencontre vise à renforcer les capacités des INDH et à aborder des problématiques contemporaines liées aux droits humains. Paul Nsapu, président de la CNDH-RDC, a souligné l'importance de cette rencontre visant à établir des partenariats. La participation de la CNDH à cet événement souligne l'engagement de la RDC envers les droits humains et son désir d'améliorer les conditions de vie et de santé de ses citoyens. Cela reflète également une volonté d'intégration dans un réseau international qui promeut les valeurs fondamentales des droits humains. Cette initiative représente une étape significative pour la RDC dans sa quête d'amélioration des droits humains et montre son ouverture à collaborer avec d'autres nations sur des questions cruciales. La CNDH continue ainsi son travail pour défendre et promouvoir les droits fondamentaux au sein du pays.\n",
      "------------------------------\n",
      "Les Leopards de la RDC ont signé une précieuse victoire de 1-0 contre les Taifas Stars de Tanzanie ce jeudi 10 octobre 2024 au stade des Martyrs. Cette victoire, qui marque leur troisième victoire de rang en éliminatoires de la Coupe d'Afrique des Nations (CAN) Maroc 2025, permet aux Léopards de prendre une sérieuse option pour la qualification. Les Congolais ont montré un visage bien différent en seconde période, occupant davantage le terrain après les sorties d'Elia et d'Edo Kayembe. Chancel Mbemba a inscrit l'unique but du match à la 54ème minute sur un coup de tête du centre bien boté. Cette victoire permet aux Léopards de prendre une sérieuse option pour la qualification, étant désormais premiers du groupe H avec 9 points après trois journées.\n",
      "------------------------------\n",
      "Dans le cadre de la mise en œuvre de son Plan de travail budgétisé annuel 2024, l'ANAPI (Agence nationale pour la promotion des investissements) a pris part à la 14ème édition du Forum «EuropAfrica    Investment» à Bruxelles (Belgique), sous la conduite de Bruno Tshibangu Kabaji, Directeur général ad intérim. Organisé sous le patronage du Secrétaire général de l'organisation des Etats d'Afrique des Caraïbes et du Pacifique (OEACP), ce forum a connu la participation de plusieurs chefs d'entreprise, des agences de promotion des investissements de plus de dix pays d'Afrique, les ambassadeurs des pays africains et les autorités locales de la ville de Bruxelles. L'ANAPI, en tant que plateforme d'échange et de rencontre entre les acteurs économiques européens et africains, a permis à Bruno Tshibangu Kabaji de prendre part dans un premier temps au panel sur la promotion des investissements en Afrique et la diplomatie économique africaine en Belgique. Dans sa communication, il s'est penché sur les efforts fournis par le Gouvernement de la République Démocratique du Congo (RDC) en matière d'assainissement du climat des affaires afin de faire de la RDC l'une des meilleures destinations d'investissement en Afrique. Il a également lancé un appel aux investisseurs présents de venir investir en RDC dans les différents secteurs prioritaires définis par le Gouvernement, notamment l'agriculture, la pêche, l'élevage, l'industrie, l'énergie, les infrastructures, la santé et l'éducation. Au deuxième jour du forum, Bruno Tshibangu Kabaji a pris part à l'atelier «Investir en RDC». Ce cadre a permis à l'ANAPI de présenter les opportunités économiques de la RDC dans divers secteurs et les besoins réels du pays. Il a recommandé aux opérateurs économiques, présents dans la salle, d'investir en RDC maintenant car, demain risque d'être trop tard. Une invitation a été lancée pour prendre part au Forum international «Invest in DRC», prévu les 24 et 25 février 2025 à Kinshasa. Le Forum «EuropAfrica Investment» est devenu un rendez-vous incontournable pour les acteurs économiques souhaitant explorer les synergies entre les deux continents. Cette année, le thème central était axé sur le développement durable et l'innovation, des enjeux cruciaux pour l'avenir des investissements en Afrique. La participation de l'ANAPI a permis d'établir des contacts précieux avec des investisseurs potentiels. Des rencontres bilatérales ont été organisées, favorisant des discussions sur des projets concrets et des partenariats stratégiques. Les représentants de l'ANAPI ont également participé à des panels de discussion, partageant leur expertise et leur vision pour l'avenir des investissements en RDC.\n",
      "------------------------------\n"
     ]
    }
   ],
   "source": [
    "summaries = []\n",
    "for id, news_group in results_df.groupby(\"labels\"):\n",
    "    news = news_group.content.str.cat(sep=\"\\n\")\n",
    "    summary = llama_cpp_generator.run(template_values={\"content\": news}, prompt_template=summarization_prompt)\n",
    "    summaries.append(summary)\n",
    "    print(summary)\n",
    "    print(\"---\" * 10)"
   ]
  },
  {
   "cell_type": "markdown",
   "metadata": {},
   "source": [
    "I will have to stop here, and then start writing about the learning. \n",
    "\n",
    "- Another apporach will be collect the document from radiookapi and fine tune the model.\n",
    "-   Deploy the solution with streamlit"
   ]
  },
  {
   "cell_type": "markdown",
   "metadata": {},
   "source": [
    "### Trying Topic Modeling and Then Summarizing"
   ]
  },
  {
   "cell_type": "markdown",
   "metadata": {},
   "source": [
    "In  this section we will use topic modelling and then summarize the documents in each topic."
   ]
  },
  {
   "cell_type": "markdown",
   "metadata": {},
   "source": []
  },
  {
   "cell_type": "code",
   "execution_count": 57,
   "metadata": {},
   "outputs": [],
   "source": [
    "from umap import UMAP\n",
    "from hdbscan import HDBSCAN\n",
    "from sentence_transformers import SentenceTransformer\n",
    "from sklearn.feature_extraction.text import CountVectorizer\n",
    "\n",
    "from bertopic import BERTopic\n",
    "from bertopic.representation import KeyBERTInspired\n",
    "from bertopic.vectorizers import ClassTfidfTransformer"
   ]
  },
  {
   "cell_type": "code",
   "execution_count": 65,
   "metadata": {},
   "outputs": [],
   "source": [
    "from spacy.lang.fr.stop_words import STOP_WORDS as french_stop_words"
   ]
  },
  {
   "cell_type": "code",
   "execution_count": 108,
   "metadata": {},
   "outputs": [],
   "source": [
    "CONGO_WORDS = {\n",
    "    'congo',\n",
    "    'congolais',\n",
    "    \"congolaise\"\n",
    "    'rdc',\n",
    "    'drc',\n",
    "    '-',\n",
    "    'https',\n",
    "    'rdcongo',\n",
    "    'drc',\n",
    "    'drcongo'}"
   ]
  },
  {
   "cell_type": "code",
   "execution_count": 109,
   "metadata": {},
   "outputs": [],
   "source": [
    "words_to_remove = CONGO_WORDS.union(french_stop_words)"
   ]
  },
  {
   "cell_type": "code",
   "execution_count": 110,
   "metadata": {},
   "outputs": [],
   "source": [
    "hdbscan_model = HDBSCAN(min_cluster_size=5, metric='euclidean',\n",
    "                        cluster_selection_method='eom', prediction_data=True)"
   ]
  },
  {
   "cell_type": "code",
   "execution_count": 111,
   "metadata": {},
   "outputs": [],
   "source": [
    "umap_model = UMAP(n_neighbors=15, n_components=15,\n",
    "                  min_dist=0.0, metric='cosine')"
   ]
  },
  {
   "cell_type": "code",
   "execution_count": 112,
   "metadata": {},
   "outputs": [],
   "source": [
    "count_vectorizer = CountVectorizer(\n",
    "    stop_words=list(words_to_remove), ngram_range=(1, 2))"
   ]
  },
  {
   "cell_type": "code",
   "execution_count": 113,
   "metadata": {},
   "outputs": [],
   "source": [
    "ctfidf_model = ClassTfidfTransformer()"
   ]
  },
  {
   "cell_type": "code",
   "execution_count": 114,
   "metadata": {},
   "outputs": [],
   "source": [
    "representation_model = KeyBERTInspired()"
   ]
  },
  {
   "cell_type": "code",
   "execution_count": 115,
   "metadata": {},
   "outputs": [],
   "source": [
    "topic_model = BERTopic(\n",
    "    embedding_model=sentence_transformer_model,          # Step 1 - Extract embeddings\n",
    "    umap_model=umap_model,                    # Step 2 - Reduce dimensionality\n",
    "    hdbscan_model=best_estimator,              # Step 3 - Cluster reduced embeddings\n",
    "    vectorizer_model=count_vectorizer,        # Step 4 - Tokenize topics\n",
    "    ctfidf_model=ctfidf_model,                # Step 5 - Extract topic words\n",
    "    # Step 6 - (Optional) Fine-tune topic representations\n",
    "    representation_model=representation_model\n",
    ")"
   ]
  },
  {
   "cell_type": "code",
   "execution_count": 116,
   "metadata": {},
   "outputs": [],
   "source": [
    "topics, probs = topic_model.fit_transform(results_df.content)"
   ]
  },
  {
   "cell_type": "code",
   "execution_count": 118,
   "metadata": {},
   "outputs": [],
   "source": [
    "probs"
   ]
  },
  {
   "cell_type": "code",
   "execution_count": 117,
   "metadata": {},
   "outputs": [
    {
     "data": {
      "application/vnd.plotly.v1+json": {
       "config": {
        "plotlyServerURL": "https://plot.ly"
       },
       "data": [
        {
         "customdata": [
          [
           0,
           "conseil droits | république | conseil | droits humains | rwanda",
           11
          ],
          [
           1,
           "postes télécommunications | afrique | ministre postes | télécommunications numérique | secteur télécommunications",
           8
          ],
          [
           2,
           "mai ndombe | kongo central | divisionnaire police | kongo | gouverneur province",
           7
          ],
          [
           3,
           "nationaux kabila | mutombo dikembe | kabila lumumba | kabila | dikembe mutombo",
           7
          ],
          [
           4,
           "communauté congolaise | congolaise allemagne | diaspora congolaise | rdc allemagne | kinshasa",
           6
          ],
          [
           5,
           "tribunal militaire | cour militaire | kinshasa gombe | juridiction militaire | militaire garnison",
           6
          ],
          [
           6,
           "campagne vaccination | vaccinales ministre | vaccinateurs porte | vaccinateurs | vaccination contre",
           6
          ],
          [
           7,
           "kivu familles | kivu | étudiante congolaise | sud kivu | familles victimes",
           5
          ],
          [
           8,
           "présidentielle | contre hezbollah | mercredi | semaine dernière | contre",
           5
          ],
          [
           9,
           "kinshasa | conseil ministres | mandataires publics | secteur ministre | conseil",
           4
          ],
          [
           10,
           "andré kasongo | syndicat libre | république démocratique | médecins syndicat | samuel mbemba",
           4
          ],
          [
           11,
           "ville kinshasa | kinshasa | pierre kasongo | gouverneur ville | congolaise",
           3
          ]
         ],
         "hovertemplate": "<b>Topic %{customdata[0]}</b><br>%{customdata[1]}<br>Size: %{customdata[2]}",
         "legendgroup": "",
         "marker": {
          "color": "#B0BEC5",
          "line": {
           "color": "DarkSlateGrey",
           "width": 2
          },
          "size": [
           11,
           8,
           7,
           7,
           6,
           6,
           6,
           5,
           5,
           4,
           4,
           3
          ],
          "sizemode": "area",
          "sizeref": 0.006875,
          "symbol": "circle"
         },
         "mode": "markers",
         "name": "",
         "orientation": "v",
         "showlegend": false,
         "type": "scatter",
         "x": [
          0.83287835,
          -7.6224346,
          -0.88383675,
          1.9986305,
          -7.266624,
          -0.124624394,
          -1.2814676,
          1.5301886,
          -0.22686605,
          -7.953021,
          0.82199186,
          -8.181663
         ],
         "xaxis": "x",
         "y": [
          9.476067,
          -8.734876,
          9.102345,
          9.469512,
          -8.379092,
          9.076688,
          9.284447,
          9.13463,
          9.704306,
          -9.055706,
          8.892301,
          -9.273269
         ],
         "yaxis": "y"
        }
       ],
       "layout": {
        "annotations": [
         {
          "showarrow": false,
          "text": "D1",
          "x": -9.408911943435669,
          "y": 0.24784624576568604,
          "yshift": 10
         },
         {
          "showarrow": false,
          "text": "D2",
          "x": -3.555243420600891,
          "xshift": 10,
          "y": 11.159951496124268
         }
        ],
        "height": 650,
        "hoverlabel": {
         "bgcolor": "white",
         "font": {
          "family": "Rockwell",
          "size": 16
         }
        },
        "legend": {
         "itemsizing": "constant",
         "tracegroupgap": 0
        },
        "margin": {
         "t": 60
        },
        "shapes": [
         {
          "line": {
           "color": "#CFD8DC",
           "width": 2
          },
          "type": "line",
          "x0": -3.555243420600891,
          "x1": -3.555243420600891,
          "y0": -10.664259004592896,
          "y1": 11.159951496124268
         },
         {
          "line": {
           "color": "#9E9E9E",
           "width": 2
          },
          "type": "line",
          "x0": -9.408911943435669,
          "x1": 2.2984251022338866,
          "y0": 0.24784624576568604,
          "y1": 0.24784624576568604
         }
        ],
        "sliders": [
         {
          "active": 0,
          "pad": {
           "t": 50
          },
          "steps": [
           {
            "args": [
             {
              "marker.color": [
               [
                "red",
                "#B0BEC5",
                "#B0BEC5",
                "#B0BEC5",
                "#B0BEC5",
                "#B0BEC5",
                "#B0BEC5",
                "#B0BEC5",
                "#B0BEC5",
                "#B0BEC5",
                "#B0BEC5",
                "#B0BEC5"
               ]
              ]
             }
            ],
            "label": "Topic 0",
            "method": "update"
           },
           {
            "args": [
             {
              "marker.color": [
               [
                "#B0BEC5",
                "red",
                "#B0BEC5",
                "#B0BEC5",
                "#B0BEC5",
                "#B0BEC5",
                "#B0BEC5",
                "#B0BEC5",
                "#B0BEC5",
                "#B0BEC5",
                "#B0BEC5",
                "#B0BEC5"
               ]
              ]
             }
            ],
            "label": "Topic 1",
            "method": "update"
           },
           {
            "args": [
             {
              "marker.color": [
               [
                "#B0BEC5",
                "#B0BEC5",
                "red",
                "#B0BEC5",
                "#B0BEC5",
                "#B0BEC5",
                "#B0BEC5",
                "#B0BEC5",
                "#B0BEC5",
                "#B0BEC5",
                "#B0BEC5",
                "#B0BEC5"
               ]
              ]
             }
            ],
            "label": "Topic 2",
            "method": "update"
           },
           {
            "args": [
             {
              "marker.color": [
               [
                "#B0BEC5",
                "#B0BEC5",
                "#B0BEC5",
                "red",
                "#B0BEC5",
                "#B0BEC5",
                "#B0BEC5",
                "#B0BEC5",
                "#B0BEC5",
                "#B0BEC5",
                "#B0BEC5",
                "#B0BEC5"
               ]
              ]
             }
            ],
            "label": "Topic 3",
            "method": "update"
           },
           {
            "args": [
             {
              "marker.color": [
               [
                "#B0BEC5",
                "#B0BEC5",
                "#B0BEC5",
                "#B0BEC5",
                "red",
                "#B0BEC5",
                "#B0BEC5",
                "#B0BEC5",
                "#B0BEC5",
                "#B0BEC5",
                "#B0BEC5",
                "#B0BEC5"
               ]
              ]
             }
            ],
            "label": "Topic 4",
            "method": "update"
           },
           {
            "args": [
             {
              "marker.color": [
               [
                "#B0BEC5",
                "#B0BEC5",
                "#B0BEC5",
                "#B0BEC5",
                "#B0BEC5",
                "red",
                "#B0BEC5",
                "#B0BEC5",
                "#B0BEC5",
                "#B0BEC5",
                "#B0BEC5",
                "#B0BEC5"
               ]
              ]
             }
            ],
            "label": "Topic 5",
            "method": "update"
           },
           {
            "args": [
             {
              "marker.color": [
               [
                "#B0BEC5",
                "#B0BEC5",
                "#B0BEC5",
                "#B0BEC5",
                "#B0BEC5",
                "#B0BEC5",
                "red",
                "#B0BEC5",
                "#B0BEC5",
                "#B0BEC5",
                "#B0BEC5",
                "#B0BEC5"
               ]
              ]
             }
            ],
            "label": "Topic 6",
            "method": "update"
           },
           {
            "args": [
             {
              "marker.color": [
               [
                "#B0BEC5",
                "#B0BEC5",
                "#B0BEC5",
                "#B0BEC5",
                "#B0BEC5",
                "#B0BEC5",
                "#B0BEC5",
                "red",
                "#B0BEC5",
                "#B0BEC5",
                "#B0BEC5",
                "#B0BEC5"
               ]
              ]
             }
            ],
            "label": "Topic 7",
            "method": "update"
           },
           {
            "args": [
             {
              "marker.color": [
               [
                "#B0BEC5",
                "#B0BEC5",
                "#B0BEC5",
                "#B0BEC5",
                "#B0BEC5",
                "#B0BEC5",
                "#B0BEC5",
                "#B0BEC5",
                "red",
                "#B0BEC5",
                "#B0BEC5",
                "#B0BEC5"
               ]
              ]
             }
            ],
            "label": "Topic 8",
            "method": "update"
           },
           {
            "args": [
             {
              "marker.color": [
               [
                "#B0BEC5",
                "#B0BEC5",
                "#B0BEC5",
                "#B0BEC5",
                "#B0BEC5",
                "#B0BEC5",
                "#B0BEC5",
                "#B0BEC5",
                "#B0BEC5",
                "red",
                "#B0BEC5",
                "#B0BEC5"
               ]
              ]
             }
            ],
            "label": "Topic 9",
            "method": "update"
           },
           {
            "args": [
             {
              "marker.color": [
               [
                "#B0BEC5",
                "#B0BEC5",
                "#B0BEC5",
                "#B0BEC5",
                "#B0BEC5",
                "#B0BEC5",
                "#B0BEC5",
                "#B0BEC5",
                "#B0BEC5",
                "#B0BEC5",
                "red",
                "#B0BEC5"
               ]
              ]
             }
            ],
            "label": "Topic 10",
            "method": "update"
           },
           {
            "args": [
             {
              "marker.color": [
               [
                "#B0BEC5",
                "#B0BEC5",
                "#B0BEC5",
                "#B0BEC5",
                "#B0BEC5",
                "#B0BEC5",
                "#B0BEC5",
                "#B0BEC5",
                "#B0BEC5",
                "#B0BEC5",
                "#B0BEC5",
                "red"
               ]
              ]
             }
            ],
            "label": "Topic 11",
            "method": "update"
           }
          ]
         }
        ],
        "template": {
         "data": {
          "bar": [
           {
            "error_x": {
             "color": "rgb(36,36,36)"
            },
            "error_y": {
             "color": "rgb(36,36,36)"
            },
            "marker": {
             "line": {
              "color": "white",
              "width": 0.5
             },
             "pattern": {
              "fillmode": "overlay",
              "size": 10,
              "solidity": 0.2
             }
            },
            "type": "bar"
           }
          ],
          "barpolar": [
           {
            "marker": {
             "line": {
              "color": "white",
              "width": 0.5
             },
             "pattern": {
              "fillmode": "overlay",
              "size": 10,
              "solidity": 0.2
             }
            },
            "type": "barpolar"
           }
          ],
          "carpet": [
           {
            "aaxis": {
             "endlinecolor": "rgb(36,36,36)",
             "gridcolor": "white",
             "linecolor": "white",
             "minorgridcolor": "white",
             "startlinecolor": "rgb(36,36,36)"
            },
            "baxis": {
             "endlinecolor": "rgb(36,36,36)",
             "gridcolor": "white",
             "linecolor": "white",
             "minorgridcolor": "white",
             "startlinecolor": "rgb(36,36,36)"
            },
            "type": "carpet"
           }
          ],
          "choropleth": [
           {
            "colorbar": {
             "outlinewidth": 1,
             "tickcolor": "rgb(36,36,36)",
             "ticks": "outside"
            },
            "type": "choropleth"
           }
          ],
          "contour": [
           {
            "colorbar": {
             "outlinewidth": 1,
             "tickcolor": "rgb(36,36,36)",
             "ticks": "outside"
            },
            "colorscale": [
             [
              0,
              "#440154"
             ],
             [
              0.1111111111111111,
              "#482878"
             ],
             [
              0.2222222222222222,
              "#3e4989"
             ],
             [
              0.3333333333333333,
              "#31688e"
             ],
             [
              0.4444444444444444,
              "#26828e"
             ],
             [
              0.5555555555555556,
              "#1f9e89"
             ],
             [
              0.6666666666666666,
              "#35b779"
             ],
             [
              0.7777777777777778,
              "#6ece58"
             ],
             [
              0.8888888888888888,
              "#b5de2b"
             ],
             [
              1,
              "#fde725"
             ]
            ],
            "type": "contour"
           }
          ],
          "contourcarpet": [
           {
            "colorbar": {
             "outlinewidth": 1,
             "tickcolor": "rgb(36,36,36)",
             "ticks": "outside"
            },
            "type": "contourcarpet"
           }
          ],
          "heatmap": [
           {
            "colorbar": {
             "outlinewidth": 1,
             "tickcolor": "rgb(36,36,36)",
             "ticks": "outside"
            },
            "colorscale": [
             [
              0,
              "#440154"
             ],
             [
              0.1111111111111111,
              "#482878"
             ],
             [
              0.2222222222222222,
              "#3e4989"
             ],
             [
              0.3333333333333333,
              "#31688e"
             ],
             [
              0.4444444444444444,
              "#26828e"
             ],
             [
              0.5555555555555556,
              "#1f9e89"
             ],
             [
              0.6666666666666666,
              "#35b779"
             ],
             [
              0.7777777777777778,
              "#6ece58"
             ],
             [
              0.8888888888888888,
              "#b5de2b"
             ],
             [
              1,
              "#fde725"
             ]
            ],
            "type": "heatmap"
           }
          ],
          "heatmapgl": [
           {
            "colorbar": {
             "outlinewidth": 1,
             "tickcolor": "rgb(36,36,36)",
             "ticks": "outside"
            },
            "colorscale": [
             [
              0,
              "#440154"
             ],
             [
              0.1111111111111111,
              "#482878"
             ],
             [
              0.2222222222222222,
              "#3e4989"
             ],
             [
              0.3333333333333333,
              "#31688e"
             ],
             [
              0.4444444444444444,
              "#26828e"
             ],
             [
              0.5555555555555556,
              "#1f9e89"
             ],
             [
              0.6666666666666666,
              "#35b779"
             ],
             [
              0.7777777777777778,
              "#6ece58"
             ],
             [
              0.8888888888888888,
              "#b5de2b"
             ],
             [
              1,
              "#fde725"
             ]
            ],
            "type": "heatmapgl"
           }
          ],
          "histogram": [
           {
            "marker": {
             "line": {
              "color": "white",
              "width": 0.6
             }
            },
            "type": "histogram"
           }
          ],
          "histogram2d": [
           {
            "colorbar": {
             "outlinewidth": 1,
             "tickcolor": "rgb(36,36,36)",
             "ticks": "outside"
            },
            "colorscale": [
             [
              0,
              "#440154"
             ],
             [
              0.1111111111111111,
              "#482878"
             ],
             [
              0.2222222222222222,
              "#3e4989"
             ],
             [
              0.3333333333333333,
              "#31688e"
             ],
             [
              0.4444444444444444,
              "#26828e"
             ],
             [
              0.5555555555555556,
              "#1f9e89"
             ],
             [
              0.6666666666666666,
              "#35b779"
             ],
             [
              0.7777777777777778,
              "#6ece58"
             ],
             [
              0.8888888888888888,
              "#b5de2b"
             ],
             [
              1,
              "#fde725"
             ]
            ],
            "type": "histogram2d"
           }
          ],
          "histogram2dcontour": [
           {
            "colorbar": {
             "outlinewidth": 1,
             "tickcolor": "rgb(36,36,36)",
             "ticks": "outside"
            },
            "colorscale": [
             [
              0,
              "#440154"
             ],
             [
              0.1111111111111111,
              "#482878"
             ],
             [
              0.2222222222222222,
              "#3e4989"
             ],
             [
              0.3333333333333333,
              "#31688e"
             ],
             [
              0.4444444444444444,
              "#26828e"
             ],
             [
              0.5555555555555556,
              "#1f9e89"
             ],
             [
              0.6666666666666666,
              "#35b779"
             ],
             [
              0.7777777777777778,
              "#6ece58"
             ],
             [
              0.8888888888888888,
              "#b5de2b"
             ],
             [
              1,
              "#fde725"
             ]
            ],
            "type": "histogram2dcontour"
           }
          ],
          "mesh3d": [
           {
            "colorbar": {
             "outlinewidth": 1,
             "tickcolor": "rgb(36,36,36)",
             "ticks": "outside"
            },
            "type": "mesh3d"
           }
          ],
          "parcoords": [
           {
            "line": {
             "colorbar": {
              "outlinewidth": 1,
              "tickcolor": "rgb(36,36,36)",
              "ticks": "outside"
             }
            },
            "type": "parcoords"
           }
          ],
          "pie": [
           {
            "automargin": true,
            "type": "pie"
           }
          ],
          "scatter": [
           {
            "fillpattern": {
             "fillmode": "overlay",
             "size": 10,
             "solidity": 0.2
            },
            "type": "scatter"
           }
          ],
          "scatter3d": [
           {
            "line": {
             "colorbar": {
              "outlinewidth": 1,
              "tickcolor": "rgb(36,36,36)",
              "ticks": "outside"
             }
            },
            "marker": {
             "colorbar": {
              "outlinewidth": 1,
              "tickcolor": "rgb(36,36,36)",
              "ticks": "outside"
             }
            },
            "type": "scatter3d"
           }
          ],
          "scattercarpet": [
           {
            "marker": {
             "colorbar": {
              "outlinewidth": 1,
              "tickcolor": "rgb(36,36,36)",
              "ticks": "outside"
             }
            },
            "type": "scattercarpet"
           }
          ],
          "scattergeo": [
           {
            "marker": {
             "colorbar": {
              "outlinewidth": 1,
              "tickcolor": "rgb(36,36,36)",
              "ticks": "outside"
             }
            },
            "type": "scattergeo"
           }
          ],
          "scattergl": [
           {
            "marker": {
             "colorbar": {
              "outlinewidth": 1,
              "tickcolor": "rgb(36,36,36)",
              "ticks": "outside"
             }
            },
            "type": "scattergl"
           }
          ],
          "scattermapbox": [
           {
            "marker": {
             "colorbar": {
              "outlinewidth": 1,
              "tickcolor": "rgb(36,36,36)",
              "ticks": "outside"
             }
            },
            "type": "scattermapbox"
           }
          ],
          "scatterpolar": [
           {
            "marker": {
             "colorbar": {
              "outlinewidth": 1,
              "tickcolor": "rgb(36,36,36)",
              "ticks": "outside"
             }
            },
            "type": "scatterpolar"
           }
          ],
          "scatterpolargl": [
           {
            "marker": {
             "colorbar": {
              "outlinewidth": 1,
              "tickcolor": "rgb(36,36,36)",
              "ticks": "outside"
             }
            },
            "type": "scatterpolargl"
           }
          ],
          "scatterternary": [
           {
            "marker": {
             "colorbar": {
              "outlinewidth": 1,
              "tickcolor": "rgb(36,36,36)",
              "ticks": "outside"
             }
            },
            "type": "scatterternary"
           }
          ],
          "surface": [
           {
            "colorbar": {
             "outlinewidth": 1,
             "tickcolor": "rgb(36,36,36)",
             "ticks": "outside"
            },
            "colorscale": [
             [
              0,
              "#440154"
             ],
             [
              0.1111111111111111,
              "#482878"
             ],
             [
              0.2222222222222222,
              "#3e4989"
             ],
             [
              0.3333333333333333,
              "#31688e"
             ],
             [
              0.4444444444444444,
              "#26828e"
             ],
             [
              0.5555555555555556,
              "#1f9e89"
             ],
             [
              0.6666666666666666,
              "#35b779"
             ],
             [
              0.7777777777777778,
              "#6ece58"
             ],
             [
              0.8888888888888888,
              "#b5de2b"
             ],
             [
              1,
              "#fde725"
             ]
            ],
            "type": "surface"
           }
          ],
          "table": [
           {
            "cells": {
             "fill": {
              "color": "rgb(237,237,237)"
             },
             "line": {
              "color": "white"
             }
            },
            "header": {
             "fill": {
              "color": "rgb(217,217,217)"
             },
             "line": {
              "color": "white"
             }
            },
            "type": "table"
           }
          ]
         },
         "layout": {
          "annotationdefaults": {
           "arrowhead": 0,
           "arrowwidth": 1
          },
          "autotypenumbers": "strict",
          "coloraxis": {
           "colorbar": {
            "outlinewidth": 1,
            "tickcolor": "rgb(36,36,36)",
            "ticks": "outside"
           }
          },
          "colorscale": {
           "diverging": [
            [
             0,
             "rgb(103,0,31)"
            ],
            [
             0.1,
             "rgb(178,24,43)"
            ],
            [
             0.2,
             "rgb(214,96,77)"
            ],
            [
             0.3,
             "rgb(244,165,130)"
            ],
            [
             0.4,
             "rgb(253,219,199)"
            ],
            [
             0.5,
             "rgb(247,247,247)"
            ],
            [
             0.6,
             "rgb(209,229,240)"
            ],
            [
             0.7,
             "rgb(146,197,222)"
            ],
            [
             0.8,
             "rgb(67,147,195)"
            ],
            [
             0.9,
             "rgb(33,102,172)"
            ],
            [
             1,
             "rgb(5,48,97)"
            ]
           ],
           "sequential": [
            [
             0,
             "#440154"
            ],
            [
             0.1111111111111111,
             "#482878"
            ],
            [
             0.2222222222222222,
             "#3e4989"
            ],
            [
             0.3333333333333333,
             "#31688e"
            ],
            [
             0.4444444444444444,
             "#26828e"
            ],
            [
             0.5555555555555556,
             "#1f9e89"
            ],
            [
             0.6666666666666666,
             "#35b779"
            ],
            [
             0.7777777777777778,
             "#6ece58"
            ],
            [
             0.8888888888888888,
             "#b5de2b"
            ],
            [
             1,
             "#fde725"
            ]
           ],
           "sequentialminus": [
            [
             0,
             "#440154"
            ],
            [
             0.1111111111111111,
             "#482878"
            ],
            [
             0.2222222222222222,
             "#3e4989"
            ],
            [
             0.3333333333333333,
             "#31688e"
            ],
            [
             0.4444444444444444,
             "#26828e"
            ],
            [
             0.5555555555555556,
             "#1f9e89"
            ],
            [
             0.6666666666666666,
             "#35b779"
            ],
            [
             0.7777777777777778,
             "#6ece58"
            ],
            [
             0.8888888888888888,
             "#b5de2b"
            ],
            [
             1,
             "#fde725"
            ]
           ]
          },
          "colorway": [
           "#1F77B4",
           "#FF7F0E",
           "#2CA02C",
           "#D62728",
           "#9467BD",
           "#8C564B",
           "#E377C2",
           "#7F7F7F",
           "#BCBD22",
           "#17BECF"
          ],
          "font": {
           "color": "rgb(36,36,36)"
          },
          "geo": {
           "bgcolor": "white",
           "lakecolor": "white",
           "landcolor": "white",
           "showlakes": true,
           "showland": true,
           "subunitcolor": "white"
          },
          "hoverlabel": {
           "align": "left"
          },
          "hovermode": "closest",
          "mapbox": {
           "style": "light"
          },
          "paper_bgcolor": "white",
          "plot_bgcolor": "white",
          "polar": {
           "angularaxis": {
            "gridcolor": "rgb(232,232,232)",
            "linecolor": "rgb(36,36,36)",
            "showgrid": false,
            "showline": true,
            "ticks": "outside"
           },
           "bgcolor": "white",
           "radialaxis": {
            "gridcolor": "rgb(232,232,232)",
            "linecolor": "rgb(36,36,36)",
            "showgrid": false,
            "showline": true,
            "ticks": "outside"
           }
          },
          "scene": {
           "xaxis": {
            "backgroundcolor": "white",
            "gridcolor": "rgb(232,232,232)",
            "gridwidth": 2,
            "linecolor": "rgb(36,36,36)",
            "showbackground": true,
            "showgrid": false,
            "showline": true,
            "ticks": "outside",
            "zeroline": false,
            "zerolinecolor": "rgb(36,36,36)"
           },
           "yaxis": {
            "backgroundcolor": "white",
            "gridcolor": "rgb(232,232,232)",
            "gridwidth": 2,
            "linecolor": "rgb(36,36,36)",
            "showbackground": true,
            "showgrid": false,
            "showline": true,
            "ticks": "outside",
            "zeroline": false,
            "zerolinecolor": "rgb(36,36,36)"
           },
           "zaxis": {
            "backgroundcolor": "white",
            "gridcolor": "rgb(232,232,232)",
            "gridwidth": 2,
            "linecolor": "rgb(36,36,36)",
            "showbackground": true,
            "showgrid": false,
            "showline": true,
            "ticks": "outside",
            "zeroline": false,
            "zerolinecolor": "rgb(36,36,36)"
           }
          },
          "shapedefaults": {
           "fillcolor": "black",
           "line": {
            "width": 0
           },
           "opacity": 0.3
          },
          "ternary": {
           "aaxis": {
            "gridcolor": "rgb(232,232,232)",
            "linecolor": "rgb(36,36,36)",
            "showgrid": false,
            "showline": true,
            "ticks": "outside"
           },
           "baxis": {
            "gridcolor": "rgb(232,232,232)",
            "linecolor": "rgb(36,36,36)",
            "showgrid": false,
            "showline": true,
            "ticks": "outside"
           },
           "bgcolor": "white",
           "caxis": {
            "gridcolor": "rgb(232,232,232)",
            "linecolor": "rgb(36,36,36)",
            "showgrid": false,
            "showline": true,
            "ticks": "outside"
           }
          },
          "title": {
           "x": 0.05
          },
          "xaxis": {
           "automargin": true,
           "gridcolor": "rgb(232,232,232)",
           "linecolor": "rgb(36,36,36)",
           "showgrid": false,
           "showline": true,
           "ticks": "outside",
           "title": {
            "standoff": 15
           },
           "zeroline": false,
           "zerolinecolor": "rgb(36,36,36)"
          },
          "yaxis": {
           "automargin": true,
           "gridcolor": "rgb(232,232,232)",
           "linecolor": "rgb(36,36,36)",
           "showgrid": false,
           "showline": true,
           "ticks": "outside",
           "title": {
            "standoff": 15
           },
           "zeroline": false,
           "zerolinecolor": "rgb(36,36,36)"
          }
         }
        },
        "title": {
         "font": {
          "color": "Black",
          "size": 22
         },
         "text": "<b>Intertopic Distance Map</b>",
         "x": 0.5,
         "xanchor": "center",
         "y": 0.95,
         "yanchor": "top"
        },
        "width": 650,
        "xaxis": {
         "anchor": "y",
         "domain": [
          0,
          1
         ],
         "range": [
          -9.408911943435669,
          2.2984251022338866
         ],
         "title": {
          "text": ""
         },
         "visible": false
        },
        "yaxis": {
         "anchor": "x",
         "domain": [
          0,
          1
         ],
         "range": [
          -10.664259004592896,
          11.159951496124268
         ],
         "title": {
          "text": ""
         },
         "visible": false
        }
       }
      }
     },
     "metadata": {},
     "output_type": "display_data"
    }
   ],
   "source": [
    "topic_model.visualize_topics()"
   ]
  },
  {
   "cell_type": "code",
   "execution_count": 126,
   "metadata": {},
   "outputs": [],
   "source": [
    "new_topics  = topic_model.reduce_topics(\n",
    "    results_df.content, nr_topics=7)\n"
   ]
  },
  {
   "cell_type": "code",
   "execution_count": 127,
   "metadata": {},
   "outputs": [
    {
     "data": {
      "application/vnd.plotly.v1+json": {
       "config": {
        "plotlyServerURL": "https://plot.ly"
       },
       "data": [
        {
         "customdata": [
          [
           0,
           "kinshasa | congolaise | 10 octobre | afrique | mandataires",
           32
          ],
          [
           1,
           "congolaise | république démocratique | conseil droits | république | rwanda",
           17
          ],
          [
           2,
           "mutombo dikembe | mercredi octobre | mutombo | 12 octobre | 10 octobre",
           12
          ],
          [
           3,
           "campagne vaccination | vaccinales ministre | vaccinateurs porte | vaccinateurs | vaccination contre",
           6
          ],
          [
           4,
           "présidentielle | exclu mercredi | contre hezbollah | représailles | mercredi",
           5
          ]
         ],
         "hovertemplate": "<b>Topic %{customdata[0]}</b><br>%{customdata[1]}<br>Size: %{customdata[2]}",
         "legendgroup": "",
         "marker": {
          "color": "#B0BEC5",
          "line": {
           "color": "DarkSlateGrey",
           "width": 2
          },
          "size": [
           32,
           17,
           12,
           6,
           5
          ],
          "sizemode": "area",
          "sizeref": 0.02,
          "symbol": "circle"
         },
         "mode": "markers",
         "name": "",
         "orientation": "v",
         "showlegend": false,
         "type": "scatter",
         "x": [
          19.649902,
          18.801947,
          17.256361,
          16.243607,
          19.121178
         ],
         "xaxis": "x",
         "y": [
          24.929773,
          24.605213,
          26.412682,
          24.953367,
          25.522343
         ],
         "yaxis": "y"
        }
       ],
       "layout": {
        "annotations": [
         {
          "showarrow": false,
          "text": "D1",
          "x": 13.80706558227539,
          "y": 25.644507503509523,
          "yshift": 10
         },
         {
          "showarrow": false,
          "text": "D2",
          "x": 18.202226638793945,
          "xshift": 10,
          "y": 30.37458381652832
         }
        ],
        "height": 650,
        "hoverlabel": {
         "bgcolor": "white",
         "font": {
          "family": "Rockwell",
          "size": 16
         }
        },
        "legend": {
         "itemsizing": "constant",
         "tracegroupgap": 0
        },
        "margin": {
         "t": 60
        },
        "shapes": [
         {
          "line": {
           "color": "#CFD8DC",
           "width": 2
          },
          "type": "line",
          "x0": 18.202226638793945,
          "x1": 18.202226638793945,
          "y0": 20.914431190490724,
          "y1": 30.37458381652832
         },
         {
          "line": {
           "color": "#9E9E9E",
           "width": 2
          },
          "type": "line",
          "x0": 13.80706558227539,
          "x1": 22.5973876953125,
          "y0": 25.644507503509523,
          "y1": 25.644507503509523
         }
        ],
        "sliders": [
         {
          "active": 0,
          "pad": {
           "t": 50
          },
          "steps": [
           {
            "args": [
             {
              "marker.color": [
               [
                "red",
                "#B0BEC5",
                "#B0BEC5",
                "#B0BEC5",
                "#B0BEC5"
               ]
              ]
             }
            ],
            "label": "Topic 0",
            "method": "update"
           },
           {
            "args": [
             {
              "marker.color": [
               [
                "#B0BEC5",
                "red",
                "#B0BEC5",
                "#B0BEC5",
                "#B0BEC5"
               ]
              ]
             }
            ],
            "label": "Topic 1",
            "method": "update"
           },
           {
            "args": [
             {
              "marker.color": [
               [
                "#B0BEC5",
                "#B0BEC5",
                "red",
                "#B0BEC5",
                "#B0BEC5"
               ]
              ]
             }
            ],
            "label": "Topic 2",
            "method": "update"
           },
           {
            "args": [
             {
              "marker.color": [
               [
                "#B0BEC5",
                "#B0BEC5",
                "#B0BEC5",
                "red",
                "#B0BEC5"
               ]
              ]
             }
            ],
            "label": "Topic 3",
            "method": "update"
           },
           {
            "args": [
             {
              "marker.color": [
               [
                "#B0BEC5",
                "#B0BEC5",
                "#B0BEC5",
                "#B0BEC5",
                "red"
               ]
              ]
             }
            ],
            "label": "Topic 4",
            "method": "update"
           }
          ]
         }
        ],
        "template": {
         "data": {
          "bar": [
           {
            "error_x": {
             "color": "rgb(36,36,36)"
            },
            "error_y": {
             "color": "rgb(36,36,36)"
            },
            "marker": {
             "line": {
              "color": "white",
              "width": 0.5
             },
             "pattern": {
              "fillmode": "overlay",
              "size": 10,
              "solidity": 0.2
             }
            },
            "type": "bar"
           }
          ],
          "barpolar": [
           {
            "marker": {
             "line": {
              "color": "white",
              "width": 0.5
             },
             "pattern": {
              "fillmode": "overlay",
              "size": 10,
              "solidity": 0.2
             }
            },
            "type": "barpolar"
           }
          ],
          "carpet": [
           {
            "aaxis": {
             "endlinecolor": "rgb(36,36,36)",
             "gridcolor": "white",
             "linecolor": "white",
             "minorgridcolor": "white",
             "startlinecolor": "rgb(36,36,36)"
            },
            "baxis": {
             "endlinecolor": "rgb(36,36,36)",
             "gridcolor": "white",
             "linecolor": "white",
             "minorgridcolor": "white",
             "startlinecolor": "rgb(36,36,36)"
            },
            "type": "carpet"
           }
          ],
          "choropleth": [
           {
            "colorbar": {
             "outlinewidth": 1,
             "tickcolor": "rgb(36,36,36)",
             "ticks": "outside"
            },
            "type": "choropleth"
           }
          ],
          "contour": [
           {
            "colorbar": {
             "outlinewidth": 1,
             "tickcolor": "rgb(36,36,36)",
             "ticks": "outside"
            },
            "colorscale": [
             [
              0,
              "#440154"
             ],
             [
              0.1111111111111111,
              "#482878"
             ],
             [
              0.2222222222222222,
              "#3e4989"
             ],
             [
              0.3333333333333333,
              "#31688e"
             ],
             [
              0.4444444444444444,
              "#26828e"
             ],
             [
              0.5555555555555556,
              "#1f9e89"
             ],
             [
              0.6666666666666666,
              "#35b779"
             ],
             [
              0.7777777777777778,
              "#6ece58"
             ],
             [
              0.8888888888888888,
              "#b5de2b"
             ],
             [
              1,
              "#fde725"
             ]
            ],
            "type": "contour"
           }
          ],
          "contourcarpet": [
           {
            "colorbar": {
             "outlinewidth": 1,
             "tickcolor": "rgb(36,36,36)",
             "ticks": "outside"
            },
            "type": "contourcarpet"
           }
          ],
          "heatmap": [
           {
            "colorbar": {
             "outlinewidth": 1,
             "tickcolor": "rgb(36,36,36)",
             "ticks": "outside"
            },
            "colorscale": [
             [
              0,
              "#440154"
             ],
             [
              0.1111111111111111,
              "#482878"
             ],
             [
              0.2222222222222222,
              "#3e4989"
             ],
             [
              0.3333333333333333,
              "#31688e"
             ],
             [
              0.4444444444444444,
              "#26828e"
             ],
             [
              0.5555555555555556,
              "#1f9e89"
             ],
             [
              0.6666666666666666,
              "#35b779"
             ],
             [
              0.7777777777777778,
              "#6ece58"
             ],
             [
              0.8888888888888888,
              "#b5de2b"
             ],
             [
              1,
              "#fde725"
             ]
            ],
            "type": "heatmap"
           }
          ],
          "heatmapgl": [
           {
            "colorbar": {
             "outlinewidth": 1,
             "tickcolor": "rgb(36,36,36)",
             "ticks": "outside"
            },
            "colorscale": [
             [
              0,
              "#440154"
             ],
             [
              0.1111111111111111,
              "#482878"
             ],
             [
              0.2222222222222222,
              "#3e4989"
             ],
             [
              0.3333333333333333,
              "#31688e"
             ],
             [
              0.4444444444444444,
              "#26828e"
             ],
             [
              0.5555555555555556,
              "#1f9e89"
             ],
             [
              0.6666666666666666,
              "#35b779"
             ],
             [
              0.7777777777777778,
              "#6ece58"
             ],
             [
              0.8888888888888888,
              "#b5de2b"
             ],
             [
              1,
              "#fde725"
             ]
            ],
            "type": "heatmapgl"
           }
          ],
          "histogram": [
           {
            "marker": {
             "line": {
              "color": "white",
              "width": 0.6
             }
            },
            "type": "histogram"
           }
          ],
          "histogram2d": [
           {
            "colorbar": {
             "outlinewidth": 1,
             "tickcolor": "rgb(36,36,36)",
             "ticks": "outside"
            },
            "colorscale": [
             [
              0,
              "#440154"
             ],
             [
              0.1111111111111111,
              "#482878"
             ],
             [
              0.2222222222222222,
              "#3e4989"
             ],
             [
              0.3333333333333333,
              "#31688e"
             ],
             [
              0.4444444444444444,
              "#26828e"
             ],
             [
              0.5555555555555556,
              "#1f9e89"
             ],
             [
              0.6666666666666666,
              "#35b779"
             ],
             [
              0.7777777777777778,
              "#6ece58"
             ],
             [
              0.8888888888888888,
              "#b5de2b"
             ],
             [
              1,
              "#fde725"
             ]
            ],
            "type": "histogram2d"
           }
          ],
          "histogram2dcontour": [
           {
            "colorbar": {
             "outlinewidth": 1,
             "tickcolor": "rgb(36,36,36)",
             "ticks": "outside"
            },
            "colorscale": [
             [
              0,
              "#440154"
             ],
             [
              0.1111111111111111,
              "#482878"
             ],
             [
              0.2222222222222222,
              "#3e4989"
             ],
             [
              0.3333333333333333,
              "#31688e"
             ],
             [
              0.4444444444444444,
              "#26828e"
             ],
             [
              0.5555555555555556,
              "#1f9e89"
             ],
             [
              0.6666666666666666,
              "#35b779"
             ],
             [
              0.7777777777777778,
              "#6ece58"
             ],
             [
              0.8888888888888888,
              "#b5de2b"
             ],
             [
              1,
              "#fde725"
             ]
            ],
            "type": "histogram2dcontour"
           }
          ],
          "mesh3d": [
           {
            "colorbar": {
             "outlinewidth": 1,
             "tickcolor": "rgb(36,36,36)",
             "ticks": "outside"
            },
            "type": "mesh3d"
           }
          ],
          "parcoords": [
           {
            "line": {
             "colorbar": {
              "outlinewidth": 1,
              "tickcolor": "rgb(36,36,36)",
              "ticks": "outside"
             }
            },
            "type": "parcoords"
           }
          ],
          "pie": [
           {
            "automargin": true,
            "type": "pie"
           }
          ],
          "scatter": [
           {
            "fillpattern": {
             "fillmode": "overlay",
             "size": 10,
             "solidity": 0.2
            },
            "type": "scatter"
           }
          ],
          "scatter3d": [
           {
            "line": {
             "colorbar": {
              "outlinewidth": 1,
              "tickcolor": "rgb(36,36,36)",
              "ticks": "outside"
             }
            },
            "marker": {
             "colorbar": {
              "outlinewidth": 1,
              "tickcolor": "rgb(36,36,36)",
              "ticks": "outside"
             }
            },
            "type": "scatter3d"
           }
          ],
          "scattercarpet": [
           {
            "marker": {
             "colorbar": {
              "outlinewidth": 1,
              "tickcolor": "rgb(36,36,36)",
              "ticks": "outside"
             }
            },
            "type": "scattercarpet"
           }
          ],
          "scattergeo": [
           {
            "marker": {
             "colorbar": {
              "outlinewidth": 1,
              "tickcolor": "rgb(36,36,36)",
              "ticks": "outside"
             }
            },
            "type": "scattergeo"
           }
          ],
          "scattergl": [
           {
            "marker": {
             "colorbar": {
              "outlinewidth": 1,
              "tickcolor": "rgb(36,36,36)",
              "ticks": "outside"
             }
            },
            "type": "scattergl"
           }
          ],
          "scattermapbox": [
           {
            "marker": {
             "colorbar": {
              "outlinewidth": 1,
              "tickcolor": "rgb(36,36,36)",
              "ticks": "outside"
             }
            },
            "type": "scattermapbox"
           }
          ],
          "scatterpolar": [
           {
            "marker": {
             "colorbar": {
              "outlinewidth": 1,
              "tickcolor": "rgb(36,36,36)",
              "ticks": "outside"
             }
            },
            "type": "scatterpolar"
           }
          ],
          "scatterpolargl": [
           {
            "marker": {
             "colorbar": {
              "outlinewidth": 1,
              "tickcolor": "rgb(36,36,36)",
              "ticks": "outside"
             }
            },
            "type": "scatterpolargl"
           }
          ],
          "scatterternary": [
           {
            "marker": {
             "colorbar": {
              "outlinewidth": 1,
              "tickcolor": "rgb(36,36,36)",
              "ticks": "outside"
             }
            },
            "type": "scatterternary"
           }
          ],
          "surface": [
           {
            "colorbar": {
             "outlinewidth": 1,
             "tickcolor": "rgb(36,36,36)",
             "ticks": "outside"
            },
            "colorscale": [
             [
              0,
              "#440154"
             ],
             [
              0.1111111111111111,
              "#482878"
             ],
             [
              0.2222222222222222,
              "#3e4989"
             ],
             [
              0.3333333333333333,
              "#31688e"
             ],
             [
              0.4444444444444444,
              "#26828e"
             ],
             [
              0.5555555555555556,
              "#1f9e89"
             ],
             [
              0.6666666666666666,
              "#35b779"
             ],
             [
              0.7777777777777778,
              "#6ece58"
             ],
             [
              0.8888888888888888,
              "#b5de2b"
             ],
             [
              1,
              "#fde725"
             ]
            ],
            "type": "surface"
           }
          ],
          "table": [
           {
            "cells": {
             "fill": {
              "color": "rgb(237,237,237)"
             },
             "line": {
              "color": "white"
             }
            },
            "header": {
             "fill": {
              "color": "rgb(217,217,217)"
             },
             "line": {
              "color": "white"
             }
            },
            "type": "table"
           }
          ]
         },
         "layout": {
          "annotationdefaults": {
           "arrowhead": 0,
           "arrowwidth": 1
          },
          "autotypenumbers": "strict",
          "coloraxis": {
           "colorbar": {
            "outlinewidth": 1,
            "tickcolor": "rgb(36,36,36)",
            "ticks": "outside"
           }
          },
          "colorscale": {
           "diverging": [
            [
             0,
             "rgb(103,0,31)"
            ],
            [
             0.1,
             "rgb(178,24,43)"
            ],
            [
             0.2,
             "rgb(214,96,77)"
            ],
            [
             0.3,
             "rgb(244,165,130)"
            ],
            [
             0.4,
             "rgb(253,219,199)"
            ],
            [
             0.5,
             "rgb(247,247,247)"
            ],
            [
             0.6,
             "rgb(209,229,240)"
            ],
            [
             0.7,
             "rgb(146,197,222)"
            ],
            [
             0.8,
             "rgb(67,147,195)"
            ],
            [
             0.9,
             "rgb(33,102,172)"
            ],
            [
             1,
             "rgb(5,48,97)"
            ]
           ],
           "sequential": [
            [
             0,
             "#440154"
            ],
            [
             0.1111111111111111,
             "#482878"
            ],
            [
             0.2222222222222222,
             "#3e4989"
            ],
            [
             0.3333333333333333,
             "#31688e"
            ],
            [
             0.4444444444444444,
             "#26828e"
            ],
            [
             0.5555555555555556,
             "#1f9e89"
            ],
            [
             0.6666666666666666,
             "#35b779"
            ],
            [
             0.7777777777777778,
             "#6ece58"
            ],
            [
             0.8888888888888888,
             "#b5de2b"
            ],
            [
             1,
             "#fde725"
            ]
           ],
           "sequentialminus": [
            [
             0,
             "#440154"
            ],
            [
             0.1111111111111111,
             "#482878"
            ],
            [
             0.2222222222222222,
             "#3e4989"
            ],
            [
             0.3333333333333333,
             "#31688e"
            ],
            [
             0.4444444444444444,
             "#26828e"
            ],
            [
             0.5555555555555556,
             "#1f9e89"
            ],
            [
             0.6666666666666666,
             "#35b779"
            ],
            [
             0.7777777777777778,
             "#6ece58"
            ],
            [
             0.8888888888888888,
             "#b5de2b"
            ],
            [
             1,
             "#fde725"
            ]
           ]
          },
          "colorway": [
           "#1F77B4",
           "#FF7F0E",
           "#2CA02C",
           "#D62728",
           "#9467BD",
           "#8C564B",
           "#E377C2",
           "#7F7F7F",
           "#BCBD22",
           "#17BECF"
          ],
          "font": {
           "color": "rgb(36,36,36)"
          },
          "geo": {
           "bgcolor": "white",
           "lakecolor": "white",
           "landcolor": "white",
           "showlakes": true,
           "showland": true,
           "subunitcolor": "white"
          },
          "hoverlabel": {
           "align": "left"
          },
          "hovermode": "closest",
          "mapbox": {
           "style": "light"
          },
          "paper_bgcolor": "white",
          "plot_bgcolor": "white",
          "polar": {
           "angularaxis": {
            "gridcolor": "rgb(232,232,232)",
            "linecolor": "rgb(36,36,36)",
            "showgrid": false,
            "showline": true,
            "ticks": "outside"
           },
           "bgcolor": "white",
           "radialaxis": {
            "gridcolor": "rgb(232,232,232)",
            "linecolor": "rgb(36,36,36)",
            "showgrid": false,
            "showline": true,
            "ticks": "outside"
           }
          },
          "scene": {
           "xaxis": {
            "backgroundcolor": "white",
            "gridcolor": "rgb(232,232,232)",
            "gridwidth": 2,
            "linecolor": "rgb(36,36,36)",
            "showbackground": true,
            "showgrid": false,
            "showline": true,
            "ticks": "outside",
            "zeroline": false,
            "zerolinecolor": "rgb(36,36,36)"
           },
           "yaxis": {
            "backgroundcolor": "white",
            "gridcolor": "rgb(232,232,232)",
            "gridwidth": 2,
            "linecolor": "rgb(36,36,36)",
            "showbackground": true,
            "showgrid": false,
            "showline": true,
            "ticks": "outside",
            "zeroline": false,
            "zerolinecolor": "rgb(36,36,36)"
           },
           "zaxis": {
            "backgroundcolor": "white",
            "gridcolor": "rgb(232,232,232)",
            "gridwidth": 2,
            "linecolor": "rgb(36,36,36)",
            "showbackground": true,
            "showgrid": false,
            "showline": true,
            "ticks": "outside",
            "zeroline": false,
            "zerolinecolor": "rgb(36,36,36)"
           }
          },
          "shapedefaults": {
           "fillcolor": "black",
           "line": {
            "width": 0
           },
           "opacity": 0.3
          },
          "ternary": {
           "aaxis": {
            "gridcolor": "rgb(232,232,232)",
            "linecolor": "rgb(36,36,36)",
            "showgrid": false,
            "showline": true,
            "ticks": "outside"
           },
           "baxis": {
            "gridcolor": "rgb(232,232,232)",
            "linecolor": "rgb(36,36,36)",
            "showgrid": false,
            "showline": true,
            "ticks": "outside"
           },
           "bgcolor": "white",
           "caxis": {
            "gridcolor": "rgb(232,232,232)",
            "linecolor": "rgb(36,36,36)",
            "showgrid": false,
            "showline": true,
            "ticks": "outside"
           }
          },
          "title": {
           "x": 0.05
          },
          "xaxis": {
           "automargin": true,
           "gridcolor": "rgb(232,232,232)",
           "linecolor": "rgb(36,36,36)",
           "showgrid": false,
           "showline": true,
           "ticks": "outside",
           "title": {
            "standoff": 15
           },
           "zeroline": false,
           "zerolinecolor": "rgb(36,36,36)"
          },
          "yaxis": {
           "automargin": true,
           "gridcolor": "rgb(232,232,232)",
           "linecolor": "rgb(36,36,36)",
           "showgrid": false,
           "showline": true,
           "ticks": "outside",
           "title": {
            "standoff": 15
           },
           "zeroline": false,
           "zerolinecolor": "rgb(36,36,36)"
          }
         }
        },
        "title": {
         "font": {
          "color": "Black",
          "size": 22
         },
         "text": "<b>Intertopic Distance Map</b>",
         "x": 0.5,
         "xanchor": "center",
         "y": 0.95,
         "yanchor": "top"
        },
        "width": 650,
        "xaxis": {
         "anchor": "y",
         "domain": [
          0,
          1
         ],
         "range": [
          13.80706558227539,
          22.5973876953125
         ],
         "title": {
          "text": ""
         },
         "visible": false
        },
        "yaxis": {
         "anchor": "x",
         "domain": [
          0,
          1
         ],
         "range": [
          20.914431190490724,
          30.37458381652832
         ],
         "title": {
          "text": ""
         },
         "visible": false
        }
       }
      }
     },
     "metadata": {},
     "output_type": "display_data"
    }
   ],
   "source": [
    "new_topics.visualize_topics()"
   ]
  },
  {
   "cell_type": "code",
   "execution_count": 128,
   "metadata": {},
   "outputs": [
    {
     "data": {
      "application/vnd.plotly.v1+json": {
       "config": {
        "plotlyServerURL": "https://plot.ly"
       },
       "data": [
        {
         "hoverinfo": "text",
         "hovertext": [
          null
         ],
         "marker": {
          "color": "#CFD8DC",
          "opacity": 0.5,
          "size": 5
         },
         "mode": "markers+text",
         "name": "other",
         "showlegend": false,
         "type": "scattergl",
         "x": [
          null
         ],
         "y": [
          null
         ]
        },
        {
         "hoverinfo": "text",
         "hovertext": [
          "Le chef de l'État Félix Tshisekedi a inauguré, ce jeudi 10 octobre, Silikin Village, le plus grand hub d'entrepreneuriat et d'innovation de la République démocratique du Congo (RDC). Selon la cellule de communication de la présidence de la RDC, cette initiative portée par le groupe Texaf est dédiée aux startups, aux petites et moyennes entreprises (PME) ainsi qu'aux grandes entreprises, marquant un tournant significatif pour le paysage entrepreneurial congolais. Il s'agit d'un bâtiment de 6 000 m² doté d'espaces de travail, de salles de réunion, d'un auditorium et d'infrastructures technologiques. « Il a une capacité d’accueil de 800 acteurs créant l’écosystème numérique congolais\", a précisé Jean-Philippe Waterschoot, CEO du groupe Texaf. Prenant la parole lors de cette inauguration, le ministre congolais des Postes, télécommunications et numérique, Augustin Kibassa Maliba, s'est exprimé en ces termes : « Silikin Village contribue à incarner la vision claire du chef de l’État de faire du numérique le levier d’intégration, de croissance économique, de bonne gouvernance et de progrès social ». « Le président Tshisekedi a un rêve de voir émerger des millionnaires congolais. Ce rêve est à portée de main. Nous avons aujourd’hui, dans cet espace, des personnes capables de le réaliser », a estimé, pour sa part, Gérald Croonenberghs, Directeur général de Silikin Village. Silikin Village est conçu comme un espace dynamique où l’innovation et la créativité peuvent s’épanouir. En regroupant différents acteurs économiques, ce hub vise à favoriser les synergies et catalyser la croissance des entreprises en RDC. Il disposera de ressources variées, telles que des espaces de coworking, des infrastructures modernes, favorisant l'échange d'idées et le développement de projets innovants.  ",
          "Les rebelles ADF ont attaqué lundi dernier les villages Makilima et Makoko dans la chefferie de Babila Babombi (territoire de Mambasa), où ils ont tué au moins trois civils. Cette information est confirmée par d’autres sources dans la région. Un activiste des droits de l’homme déplore la “passivité” des services de sécurité dans la traque de ces rebelles dont la présence est signalée au village Mabukuwa. Signalons que depuis le mois d'août de cette année, aucune offensive n'a été menée contre ces rebelles ADF dans la région de Mambasa où ils se sont retranchés depuis les opérations des armées congolaise et ougandaise dans les territoires de Beni et Irumu.",
          "Fabriqués par des ex-kuluna devenus bâtisseurs de la nation, ces meubles sont composés des tables, des chaises, des armoires et des fauteuils pour les bureaux des bourgmestres. Ils ont été remis à Jacquemain Shabani par le commandant du Service national, le général-major Jean-Pierre Kasongo Kabwik. «  , a déclaré le commandant de cet organe de l’État. Les 15 premières communes concernées sont : Ngaliema, N’Sele, Lingwala, Kalamu, Selembao, Bandalungwa, Ndjili, Masina, Kimbanseke, Ngaba, Makala, Kisenso, Bumbu, Matete et Ngiri-Ngiri. Les autres communes seront servies dans les tout prochains jours, une fois le parachèvement des travaux de finissage, a affirmé Jean-Pierre Kasongo Kabwik. Après avoir réceptionné ces meubles, don du service national, le VPM Jacquemain Shabani les a transférés au gouverneur de la ville de Kinshasa, pour une distribution dans les 15 maisons communales. Ce membre du gouvernement a, à l’occasion, salué la vision du président de la République et l’engagement du Service national dans la transformation des jeunes, longtemps considérés de délinquants, en bâtisseurs de la nation. «  « , a déclaré avec fierté le vice-premier ministre de l’intérieur. Jacquemain Shabani a invité les bénéficiaires de ces meubles d’avoir conscience des efforts mis en contribution pour la fabrication de ces matériels didactiques et ainsi d’en faire bon usage. Cette cérémonie, faut-il le souligner, a aussi connu la participation du vice-ministre des affaires coutumières, des officiers de la police et cadres du service national ainsi que des autorités de Kinshasa, à l’instar du gouverneur Daniel Bumba Lubaki et des bourgmestres de la capitale congolaise.",
          "Le Ministre des Postes, Télécommunications et Numérique, Augustin Kibassa Maliba a accordé ce mardi 08 octobre 2024, une audience à Mary Porter Peschka, Directrice Régionale pour l'Afrique de la société financière internationale, une branche de la Banque mondiale. \"Avons échangé avec son excellence Monsieur le ministre des Postes, Télécommunications et Numérique sur la volonté de notre groupe, la société financière internationale d'accompagner le gouvernement congolais dans l'essor du secteur des télécommunications\", a déclaré Mary Porter au sortir de l'audience. A l'en croire, « le secteur des télécommunications est d'une importance capitale aussi bien pour la République démocratique du Congo que pour notre groupe ». « La société financière internationale travaille avec les secteurs privé, public et d'autres parties prenantes afin de favoriser le développement du domaine des télécommunications », a précisé la Directrice Régionale de la société financière internationale. Ainsi, pour atteindre ses missions, la société financière internationale se concentre sur trois piliers pour booster le secteur des télécommunications. Il s'agit de : 1. Favoriser un environnement et un climat propice aux investisseurs ; 2. Le développement des compétences digitales ; 3. Le développement des infrastructures digitales. Par ailleurs, la société financière internationale offre aussi des services de conseil et une assistance technique afin de pouvoir travailler d'une manière générale sur les différents aspects du secteur des télécommunications. La délégation conduite par Mary Porter Peschka est repartie avec l'assurance du Ministre des Postes, Télécommunications et Numérique Augustin Kibassa Maliba qui a dit son engagement et sa détermination pour l'éclosion du secteur des télécommunications en RDC et reste ouvert et disposé à travailler en étroite collaboration avec les différents acteurs du secteur public, privé et autres partenaires. Cellule de presse",
          "Maitre Samuel Mbemba Kabuya, vice-ministre de la Justice en charge du contentieux international a fait savoir au procureur adjoint de la Cour Pénale Internationale (CPI), au cours d'une réunion au siège de ladite Institution, le mercredi 9 octobre, l'indignation et la colère du peuple congolais qui est convaincu que cette Cour n'a nullement la volonté de traiter les dossiers de la République démocratique du Congo. \"Nous venons d'avoir une réunion avec le Procureur adjoint de la Cour Pénale Internationale (CPI) ainsi que les membres du bureau du Procureur. À travers cette réunion, nous leur avons adressé le message du peuple congolais à travers son gouvernement, le gouvernement Suminwa\", a précisé le vice-ministre en charge du contentieux international. \"C'est un message de colère qui a été transmis à la Cour parce qu'aujourd'hui, s'il y a un endroit dans ce monde où l'on peut trouver les crimes qui relèvent de la compétence de la CPI, l'endroit par excellence, c'est la RDC\", a ajouté maître Samuel Mbemba. Pour le vice-ministre, le peuple congolais ne comprend pas que les statuts de Rome permettent à la cour d'agir même sans être saisie, alors que la RDC a transmis deux renvoyés de situation à la Cour et jusqu'aujourd'hui, il n'y a pas de réaction.    ",
          "Œuvre du groupe TEXAF et dédié aux startups, aux Petites et moyennes entreprises (PME) et aux grandes entreprises, il est une initiative qui s’inscrit dans l’engagement de chef l’État congolais à réduire la fracture numérique et à positionner la technologie comme moteur de croissance durable, conformément au Plan National du Numérique – Horizon 2025. Dans sa vision, Silikin Village veut apporter un soutien stratégique aux projets à fort impact, en particulier dans les secteurs de la cleantech, fintech, edtech, agritech, tout en intégrant des solutions basées sur l’intelligence artificielle. «  , a déclaré Gérald Croonenberghs, Directeur général de Silikin Village. De son côté, le ministre des Postes, télécommunications et Numérique, Augustin Kibassa Maliba, représentant du gouvernement dans cette cérémonie, a souligné que l’initiative de la création de l’espace Silikin Village incarne la vision claire du Président de la République de faire du « numérique le levier d’intégration, de croissance économique, de bonne gouvernance et de progrès social ». A noter que ce nouveau bâtiment de Silikin Village comporte un espace 32 000 m² dédié à l’innovation pour 200 startups, 256 postes de travail en espace partagé, 55 bureaux dédiés aux PME, 12 salles de réunions et espaces événementiels ainsi qu’un auditorium. Et pour accompagner les entrepreneurs locaux à fort potentiel, Silikin Village collabore avec plusieurs organisations dont PADPME (Programme d’Appui au Développement des Petites et Moyennes Entreprises), Close the Gap, Kadea, Ovation, Hec U-Liege et ICHEC, New Hope College (NHC), Enabel et Ingenious City.",
          "Le procès en appel dans l'affaire de tentative de coup d'État du 19 mai dernier s'est ouvert ce jeudi 10 octobre devant la Cour Militaire de Kinshasa/Gombe siégeant en audience foraine à la prison militaire de Ndolo. Après la lecture de l'extrait de rôle par le greffier, la Cour Militaire a débuté avec l'identification des différents prévenus condamnés au premier degré. L'objectif poursuivi par les prévenus à cette étape est d'obtenir l'annulation ou la réduction des  peines prononcées au premier degré par le Tribunal Militaire de garnison de Kinshasa/Gombe. Les avocats des prévenus avaient estimé que les peines du premier degré étaient \" sévères\" et espèrent ce jour prouver l'innocence de leurs clients en appel. Au premier degré, 37 prévenus ont été condamnés à la peine de mort pour des infractions d'association de malfaiteurs, d'attentat et de terrorisme. Parmi eux figurent Marcel Malanga, fils de Christian Malanga, Tyler Christian Thomson, Zalman Pollum Benjamin et Nkele Mbuela Ruffin. L'expert militaire belgo-congolais Jean-Jacques Wondo a également été condamné à la peine de mort pour association de malfaiteurs et attentat. Certains des condamnés ont écopé de 20 ans de servitude pénale pour détention illégale d'armes de guerre. Une dizaine de personnes, 13 au total, ont été acquittées, les faits d'association de malfaiteurs, de terrorisme et de financement du terrorisme n'ayant pas été prouvés. Parmi elles, on retrouve les prévenus dits de \"l’hôtel Chez Momo\", notamment la propriétaire de l’établissement, Mata Maguy, son mari Ephraïm Mugangu, ainsi que leurs employés, Judith Mukela Mukubu et Mbayo Adolphe. Également parmi les acquittés, les convoyeurs et chauffeurs des bus ayant transporté les prévenus, le gérant Faustin Egwake, ainsi que la nettoyeuse du Palais de la Nation, Mbemba Ndona Mado. Quant au prévenu Tikimo, il a bénéficié de circonstances atténuantes et a été déclaré non coupable. Le procès sur le coup d’Etat manqué du 19 mai 2024 s'est ouvert le vendredi 7 juin 2024 et s'était clôturé vendredi 13 septembre 2024. Au total 51 des 53 personnes citées ont comparu devant la juridiction militaire. Le Ministère public ainsi que le tribunal ont constaté le décès de deux prévenus à savoir, Christian Malanga et Aboubakar, tués le jour de l’attaque. L’organe de la loi a alors demandé l’extinction de l’action publique à leurs égards, c’est-à-dire la fin de la procédure pénale engagée contre ces prévenus. Cette demande a été reçue par le tribunal qui a décrété l’extinction de l’action publique pour ces personnes.",
          "Dans le cadre de la mise en œuvre de son Plan de travail budgétisé annuel 2024, l’ANAPI (Agence nationale pour la promotion des investissements) a pris part, les 3 et 4 octobre 2024 à Bruxelles (Belgique), sous la conduite de son Directeur général ad intérim, le professeur Bruno Tshibangu Kabaji, à la 14ème édition du Forum «EuropAfrica    Investment». Organisée sous le patronage du Secrétaire général de l’organisation des Etats d’Afrique des Caraïbes et du Pacifique (OEACP), cette grande messe a connu la participation de plusieurs chefs d’entreprise, des agences de promotion des investissements de plus de dix pays d’Afrique, les ambassadeurs  des pays africains et les autorités locales de la ville de Bruxelles. Etant une plateforme d’échange et de rencontre entre les acteurs économiques européens et africains dont l’objectif est de promouvoir les investissements et les partenariats commerciaux entre les deux continents, ce Forum a permis à l’ANAPI, au travers de Bruno Tshibangu Kabaji, de prendre part  dans un premier temps au panel sur la promotion des investissements en Afrique et la diplomatie  économique africaine en Belgique. Dans sa communication, Bruno Tshibangu s’est penché sur les efforts fournis par le Gouvernement de la République Démocratique du Congo en matière d’assainissement du climat des affaires afin de faire de la RDC l’une des meilleurs destinations d’investissement en Afrique, notamment dans le domaine de la lutte contre la corruption, la réduction de taux de la fiscalité intérieure dont l’impôt des sociétés, la politique d’érection des Zones économiques spéciales (ZES), la libéralisation de l’ensemble de l’économie, etc. L’occasion faisant le larron, Bruno Tshibangu a lancé un appel aux investisseurs présents de venir investir en RDC dans les différents secteurs prioritaires définis par le Gouvernement afin de permettre à ce grand pays d’Afrique de passer d’une économie rentière comme il en le cas pour l’instant, à une économique diversifiée à base productive large. Au nombre de ces secteurs il y a lieu de citer l’agriculture, la pêche, l’élevage, l’industrie, l’énergie, les infrastructures, la santé et l’éducation. Au deuxième jour de ce forum, le DG a.i. de l’ANAPI a pris part à l’atelier «Investir en RDC ». Ce cadre a permis à l’ANAPI de présenter les opportunités économiques de la RDC dans divers secteurs et les besoins réels du pays. A cet effet, il a recommandé aux opérateurs économiques, présents dans la salle, d’«investir en RDC maintenant » car, demain risque d’être trop tard. Une invitation leur a été lancée pour prendre part au Forum international « Invest in DRC », prévu les 24 et 25 février 2025 à Kinshasa. Le Forum «EuropAfrica Investment» est devenu un rendez-vous incontournable pour les acteurs économiques souhaitant explorer les synergies entre les deux continents. Cette année, le thème central était axé sur le développement durable et l’innovation, des enjeux cruciaux pour l’avenir des investissements en Afrique. La participation de l’ANAPI a permis d’établir des contacts précieux avec des investisseurs potentiels. Des rencontres bilatérales ont été organisées, favorisant des discussions sur des projets concrets et des partenariats stratégiques. Les représentants de l’ANAPI ont également participé à des panels de discussion, partageant leur expertise et leur vision pour l’avenir des investissements en RDC.",
          "Dans le cadre de ses activités de vacances, Jean Obote Sirika, membre du Conseil économique et social de la République démocratique du Congo, a conduit une mission dans la région de Beni au Nord-Kivu. L’objectif de cette mission était de s’inspirer des modèles économiques en place afin de proposer leur adaptation dans la province du Haut-Uele. Jean Obote Sirika espère attirer l’attention des décideurs pour la mise en œuvre de ces pratiques dans sa province, pour matérialiser la vision du chef de l’État, Félix-Antoine Tshisekedi, celle de la diversification de l’économie nationale et la promotion de la sécurité alimentaire. Lors de cette visite, des opportunités prometteuses dans la culture du cacao et du palmier à huile ont été observées. Des infrastructures comme la concession de Mavivi, avec les entreprises SCAK et Rift Trading Company, montrent comment un partenariat entre les secteurs public et privé peut permettre aux petits agriculteurs d’accéder à des plantules améliorées et d’assurer des débouchées pour leurs productions. Ce modèle de collaboration pourrait être implanté dans le Haut-Uele, notamment pour les projets agricoles soutenus par le cahier des charges de Kibali Gold Mines. Les systèmes mis en place dans le Nord-Kivu, offrant des variétés résistantes et à haut rendement, ont un potentiel immense pour stimuler l’économie agricole du Haut-Uele. Avec une adaptation appropriée, ce modèle permettrait aux planteurs locaux de contribuer de manière significative à la sécurité alimentaire et à la diversification des revenus. Les infrastructures de transformation, comme la presse à huile de Mutwanga et la chocolaterie de Virunga, ont démontré comment la transformation locale peut dynamiser l’économie. La presse à huile, avec une capacité de traitement impressionnante, et la chocolaterie qui exporte vers l’Europe, sont des exemples que Jean Obote Sirika souhaite voir répliqués dans le Haut-Uele. La possibilité de créer des usines de transformation pour le cacao et le palmier à huile dans la province pourrait non seulement créer des emplois, mais aussi ajouter de la valeur aux produits agricoles, augmentant ainsi leur rentabilité et leur compétitivité sur les marchés internationaux. Pour soutenir cette vision, l’accès à l’énergie joue un rôle clé. La mission a pris note de l’importance des infrastructures énergétiques comme la centrale hydroélectrique de Mutwanga, qui alimente les installations locales. Cependant, pour le Haut-Uele, l’exploitation des énergies renouvelables, telles que le solaire, dans des localités comme Faradje et Tadu, devra être renforcée pour soutenir les projets agro-industriels à venir. Jean Obote Sirika s’engage à promouvoir l’adoption de modèles de développement innovants dans le Haut-Uele, inspirés par les réussites observées au Nord-Kivu. Ce projet, qui s’arrange dans la ligne droite de la vision du président Félix-Antoine Tshisekedi pour diversifier l’économie et assurer la sécurité alimentaire, pourrait transformer le Haut-Uele en un pôle agro-industriel compétitif, avec des infrastructures adéquates et des collaborations solides entre le public et le privé.",
          "Une messe noire a été célébré, selon les fins limiers de Scoop RDC, ce mardi 09 octobre 2024 à partir de 16 heures à Procoki, derrière le siège de HCR à Kinshasa. Elle réunissait  des Directeurs généraux, des Directeurs généraux adjoints et des  Mandataires non actifs, notamment des administrateurs au sein de  plusieurs entreprises et établissements publics de l’État. L’objectif de la rencontre de ces mandataires publics actifs et non actifs : s’opposer à l’idée proposée par le ministre d’Etat, ministre du Portefeuille, Jean-Lucien Bussa, de revoir à la baisse  leurs droits et avantages et les uniformiser ce, selon la recommandation du président de la République, Félix-Antoine Tshisekedi. Dans leur démarche, d’après les informations parvenues à Scoop RDC, ils en veulent à Jean-Lucien Bussa qu’ils considèrent comme celui qui veut leur ravir le beefsteak à la bouche, et s’engagent à le déstabiliser par tous les moyens. En effet, dans sa communication faite au Conseil des Ministres du 28 juin 2024, le président Tshisekedi avait évoqué la problématique de la rationalisation du système des rémunérations des agents et fonctionnaires de l’Etat. Le Chef de l’État avait décrié les graves disparités constatées entre les différentes administrations, surtout dans plusieurs entreprises et établissements publics de l’État où les DG et DGA se font payer des salaires exorbitants variant entre 40 mille et 60 mille dollars américains le mois. Pire, les mandataires publics non actifs (PCA et administrateurs) se font aussi payer mensuellement des sommes colossales dépassant 10 mille USD, ce, en violation l’article 18 de la loi n° 08/010 du 7 juillet 2008 fixant les règles relatives à l’organisation et à la gestion du Portefeuille de l’Etat.  avait déclaré le Porte-parole du Gouvernement dans son compte-rendu. D’où, dans les reformes envisagées, Jean-Lucien Bussa estime qu’il y a urgence de revoir le décret  n° 13/055 du 13 décembre 2013  portant statut des mandataires publics dans les entreprises du Portefeuille de l’Etat s’impose. Ce décret accorde à ces mandataires  de nouveaux droits et avantages, à savoir : l’indemnité mensuelle de fonction au titre de revenus mensuels ; des  avantages sociaux supplémentaires au profit des mandataires publics actifs pour des missions ; des frais d’installation qui peuvent aller jusqu’à l’équivalent de 6 mois de rémunération aussi bien pour les mandataires publics actifs que passifs ; des avantages sociaux au profit des mandataires publics non actifs,  un véhicule de service et une indemnité de sortie au profit des mandataires publics actifs. Vouloir s’attaquer à Jean-Lucien Bussa démontre clairement que ces mandataires vont en guerre contre  la volonté du chef de l’État, celle de relancer l’économie nationale à travers ces entreprises et de créer des emplois. Bref, cette messe noire des ennemis du décalage économique du pays sape les efforts du président de la République et du Gouvernement à assurer une redistribution équitable des droits et avantages liés au service. Dossier à suivre.",
          "Dans un mémorandum adressé au président de l'Assemblée nationale Vital Kamerhe, dont une copie est parvenue à Média Congo Press (MCP), ce jeudi 10 octobre 2024, le panel des experts de la société civile demande aux députés nationaux de lever les immunités de Nicolas Kazadi, ancien ministre des Finances cité avec insistance dans le dossier de détournement des fonds destinés à l'achat des lampadaires et à la construction des forages. Ces experts s'étonnent qu'aucune procédure judiciaire n'a été engagée contre l'ex-ministre des Finances. « Alors qu’aucune poursuite n’a été engagée contre l’honorable Nicolas Kazadi, d’autres personnalités ont été jugées publiquement sur de simples soupçons dans le cadre du projet des 100 jours. Pourquoi cette protection pour certains et cette exposition pour d’autres ? », s’interroge le panel des experts de la société civile. À en croire cette structure, l'impunité envers Nicolas Kazadi jette l'opprobre sur toute une nation, y compris ces institutions destinées à prôner la lutte contre la corruption et le détournement des deniers publics. Ils promettent d'entreprendre d'autres démarches afin que ce dernier puisse répondre pleinement de ces actes devant son juge naturel.    ",
          "Les députés provinciaux de l'Assemblée provinciale du Kongo-Central ont, au cours d'une séance plénière du 8 octobre dernier, présidé par Papy Mantezolo Diatezua, adopté le calendrier de la session ordinaire de septembre 2024. Parmi les matières adoptées, il y a : - Enquête sur la gestion du charbon stocké au port de l’Onatra ; - Enquête sur le fonctionnement des services publics provinciaux dans les postes frontaliers et points de perception de péage sur les routes d’intérêt provincial ; - Audition du maire de Matadi sur les embouteillages et l’insalubrité dans la ville ; - Examen et adoption du projet d’édit budgétaire du Kongo-Central exercice 2025 ; - Proposition d’édit portant protection et promotion de la langue Kongo ; - Audition des directeurs provinciaux de la Snel et de la Régideso sur la desserte en eau et en électricité au Kongo-Central. Au cours de la même plénière, le député provincial Juif Manianga a adressé une question écrite au ministre provincial en charge de la Sécurité, à propos des policiers qui ont tiré des balles réelles pour disperser les élèves qui revendiquaient la reprise des cours.    ",
          "Les médecins du syndicat libre des médecins ont débuté ce jeudi 10 octobre 2024, sur toute l'étendue de la République démocratique du Congo, un mouvement de grève radicale. C'est ce qu'annonce son secrétaire général, Dr André Kasongo. Ils réclament le réajustement de la grille barémique, le non-respect des accords signés avec le gouvernement congolais et le non-alignement de 800 médecins par trimestre. \"Les médecins ont introduit plusieurs fois leur cahier de charge, mais c'est resté une lettre morte. Et pourtant, les accords de Bibwa signés avec l'État congolais indiquent que les médecins doivent être payés, selon leur grade statutaire. Le réajustement de la paie des médecins, deuxième palier et troisième palier, n'a pas été respecté. Le problème d'alignement de 800 médecins par trimestre comme c'était prévu dans les accords, le problème de mécanisation de 1.000 médecins par trimestre rien n'a été honoré. De ce fait, le syndicat libre des médecins a décidé d'aller en grève. Et cette grève est en mode sans médecins du syndicat libre des médecins à l'hôpital ni garde. Les médecins viendront signer leur présence et quitter immédiatement l'hôpital\", a déclaré le secrétaire général, Docteur André Kasongo. \"La couverture santé universelle sans budget\" Selon le syndicat libre des médecins, le ministre de la Santé publique n'a pas de coeur pour les médecins congolais et n'accompagne pas le chef de l'État Félix Antoine Tshisekedi Tshilombo dans le cadre de la couverture santé universelle. \"La couverture santé universelle, c'est comme on dirait une prise en charge \"ya nionso\" (Ndlr: globale), c'est-à-dire les hôpitaux prennent en charge et on paie la facture après. Il n'y a pas un budget prévu pour la couverture santé universelle, il faut le dire\", a-t-il fait savoir. Le syndicat libre des médecins promet de s'occuper de tout médecin directeur qui fera entrave à leur revendication ou action.    ",
          "La cour militaire garnison de Matadi juge depuis mardi un policier commis à la garde du maire de la ville portuaire. Le prévenu André Mapatikala est poursuivi pour dissipation des munitions de guerre et violation des consignes. Lors d’une manifestation d’élèves lundi dernier pour réclamer la fin de la grève des enseignants et la reprise des cours dans les écoles publiques, cet agent de la police a tiré à bout portant sur les manifestants non armés. Ce mercredi, le maire de Matadi, Dominique Nkodia Mbete a comparu comme renseignant. L'autorité urbaine a confirmé que l'agent est commis à sa garde mais il ne lui a pas donné l’ordre de tirer sur les élèves. « J'avais entendu des tirs mais je ne savais pas que c'était mon garde du corps qui avait tiré », a-t-il renseigné. Le maire reconnaît avoir dit aux policiers d'empêcher les manifestants (élèves) d'accéder à son domicile. Les élèves manifestants avaient leur destination à savoir, la mairie et le complexe Ntentembua, une école catholique. Pour sa part, le prévenu Mapatikala a affirmé n'avoir pas posé l'acte sous les ordres du maire. « Je me suis retrouvé loin de poste à plus au moins 500 mètres, j'ai tiré pour maîtriser la foule qui avançait vers moi\", s’est-il défendu. La scène a été filmée et la vidéo largement partagée a suscité la colère des internautes sur la toile. Une autre audience est prévue ce jeudi 10 octobre. D’autres renseignants vont comparaître avant les plaidoiries de toutes les parties.  ",
          "VODACASH S.A, filiale de Vodacom Congo (RDC) S.A et la Société financière internationale (SFI, IFC en anglais), membre du Groupe de la Banque mondiale, ont annoncé, mercredi 9 octobre à Kinshasa, la conclusion d’un partenariat stratégique visant à renforcer les interactions avec l’industrie des services financiers mobiles dans le but de mettre en avant une réglementation facilitant l’expansion de la monnaie électronique et réduisant les transactions de gré à gré (OTC). Ce partenariat propice pour les deux partenaires encouragera les meilleures pratiques en matière de réglementation, avec pour objectif ultime de surmonter les défis dont faits face le secteur financier mobile notamment la problématique liée à l’identification, sans intermédiaire entre l’acheteur et le vendeur, permettant ainsi à la marque M-Pesa RDC de mieux répondre aux besoins de ses clients et d’améliorer la qualité de son registre de clients afin d’offrir des services qui répondent à leurs besoins. Il sied de savoir que cette collaboration portera sur 5 axes principaux, à savoir : 1. La proposition de prêt dans le cadre de la mise en place des meilleurs pratiques, 2. Le renforcement de l’équipe locale pour l’amélioration de capacité du personnel clé, 3. L’intégration des agents et des commerçants dans le souci d’optimiser les parcours d’intégration de ces derniers, 4. La stratégie de mise sur le marché pour l’implémentation d’une nouvelle stratégie garantissant l’enregistrement des clients M-Pesa et 5. La gestion des risques et du changement en construisant des processus de travail efficaces et en instaurant les meilleurs pratiques par la formation et la certification du personnel de VODACASH. Pour Hashim Mukudi, Directeur général de VODACASH, «  ». Mary Porter Peschka, Directrice de la Société financière internationale pour l’Afrique de l’Est et du Centre, a exprimé sa confiance qu’en travaillant avec VODACASH et l’IFC, l’inclusion financière sera accélérée en RDC : «  Ce partenariat marque une étape importante dans le développement de la monnaie électronique en RDC, en offrant des solutions innovantes et en renforçant la confiance des utilisateurs dans les services financiers numériques. Il s’inscrit dans une dynamique plus large de développement économique et d’inclusion financière en RDC. En facilitant l’accès à des services financiers numériques, VODACASH et l’IFC ambitionnent de contribuer à la croissance économique du pays tout en offrant aux citoyens des solutions financières plus sûres et plus accessibles. VODACASH SA, une filiale de Vodacom Congo et du Groupe Vodacom Group (Pty) Limited. A ce jour elle est la plus grande plateforme fintech en République Démocratique du Congo (RDC). Lancé en 2012, M-PESA, son produit phare, est, à ce jour, le moyen de paiement préféré des personnes bancarisées et non bancarisées en RDC, à cause de sa sécurité, sa commodité inégalée et son rapport qualité/prix adapté au pouvoir d’achat de la population congolaise. Dans le but d’accélérer sa croissance en RDC, VODACASH SA donne à ses abonnés, l’opportunité d’autonomisations sur la gestion de leurs revenus à travers les innovations sécurisé et abordable pour envoyer et recevoir de l’argent, de recharger des crédits de communication, d’effectuer des paiements de factures, de recevoir des salaires, d’obtenir des prêts à court terme et bien d’autres d’avantages. En collaboration avec des partenaires tel que Crown Agents Bank, VODACASH a également facilité les paiements internationaux et soutenu les communautés rurales. C’est une véritable révolution dans le domaine de la fintech en RDC.",
          "octobre 10, 2024 Kinshasa- Financement des travaux du projet 3 communes: Lobbying payant du sénateur Gecoco Mulumba Par :    La rédaction \n \n \n Kinshasa, 10 Octobre 2024- Le plaidoyer du sénateur Gecoco Mulumba auprès du ministre des finances pour décanter la situation de paiement des entreprises chargées  de la construction des routes dans les communes de Gombe, Kasa-vubu et Limete a payé. “Ce mercredi 09 octobre 2024, j’ai été remercié le Ministre National des Finances pour avoir accédé à mon plaidoyer au sujet du paiement de fonds aux entreprises concernées dans le Projet 3 Communes (Gombe, Kasa-Vubu et Limete). Il y a 10 jours, en effet, je l’ai rencontré à ce sujet et il a promis de décanter la situation. Je tiens à remercier Monsieur le Président de la République, initiateur du ce projet qui permettra une mobilité aisée de notre population”,  a-t-il fait savoir. D’après l’ancien vice gouverneur de Kinshasa, ces entreprises vont devoir dans 3 ou 4 jours, toucher un peu plus de 20% des fonds afin que les travaux de construction des routes de ces communes reprennent aussitôt. Très impliqué dans le développement de la ville de Kinshasa, il a également participé à une autre réunion mardi 8 avec le Ministre des Finances, celui des ITPR, le Gouverneur de la Ville de Kinshasa, le Ministre Provincial des ITPR Ville de Kin, le DG de l’OVD et les responsables des entreprises concernées dans ce projet. Cette réunion a notamment permis d’arrondir les angles. Le ministre des finances a décidé de disponibiliser des fonds pour la réhabilitation de 49 kilomètres de routes. Cédric BEYA ",
          "Au moins dix miliciens Mobondo ont été tués lors des affrontements avec les FARDC la nuit de mardi à mercredi 9 octobre entre la localité Lweme et la ferme Ntwala, dans le territoire de Kwamouth (Mai-Ndombe).  L'armée annonce avoir récupéré six armes dont une de type AK47 et cinq calibres 12. Des munitions de guerre et des machettes ont également été récupérées, précise la 11e région militaire. Elle précise que la situation sécuritaire est relativement calme et poursuit l’opération de ratissage des axes Kwango et Kwamouth pour \"restaurer l'autorité de l'État et permettre aux déplacés internes de regagner leurs milieux d'origine\".  Il y a plus d'une semaine, de nouveaux engagements pour restaurer la paix dans la région ont été signés sous les bons offices du ministère de l'intérieur et sécurité à Kinshasa. Les leaders des miliciens Mobondo se sont engagés à la cessation des hostilités. Les parties ont recommandé l'installation des services de sécurité à Kwamouth, la création de nouveaux Ciat et Sous-ciat de la police, l'installation des parquets et des services d'inspection judiciaire du parquet et de l'auditorat ainsi que l'organisation de procès publics à l'encontre des auteurs intellectuels et physiques des atrocités, etc. ",
          "Jean-Bosco Bahala, ancien coordonnateur national du Programme désarmement, démobilisation, relèvement communautaire et stabilisation (PDDRCS) et l’un de ses collaborateurs, ont été libérés le mardi 8 octobre dans la soirée. Selon des sources dignes de foi, cette libération intervient après près de deux mois de détention dans le cachot des services de renseignement militaires (DEMIAP). En rection, le consortium des ONG des droits de l’homme qui, à l’époque, avaient qualifié cette arrestation d’injuste et d’illégale, se réjouissent de cette libération. Dans une déclaration à la presse mercredi 9 octobre, Dieudonné Mushagakusa, porte-parole de ces organisations, rappelle qu’il n’y a pas de charges qui pèsent sur l’ancien coordonnateur national du PDDRCS. Par conséquent, ajoute_t-il, Jean Bosco Bahala doit être réhabilité dans ses fonctions. Arrêté mardi 23 juillet dernier, à sa descente d'avion à l'aéroport international de N’djili, l’ancien coordonnateur national du PDDRCS, venait de participer à une rencontre à Entebbe, en Ouganda. Ce qui lui a valu une révocation, sur décision du président de la République, rendue publique à travers une ordonnance lue à la Radiotélévision nationale Congolaise, en début d’après-midi du 23 juillet dernier. Peu avant sa révocation, l’abbé Jean-Bosco Bahala avait publié un communiqué expliquant qu’il était en mission à Kampala, en Ouganda, dans le but, selon lui, d’engager des discussions avec les autorités ougandaises en vue d'obtenir le rapatriement des enfants congolais libérés par les rebelles de la LRA en République centrafricaine. Des affirmations rejetées par le porte-parole du Gouvernement, Patrick Muyaya. « Aucune personne n’a été mandatée par le Gouvernement pour une quelconque forme de discussion avec les terroristes du M23 à Kampala », avait démenti M. Muyaya.    ",
          "Le commissaire divisionnaire de la Police nationale congolaise (PNC)/Maniema, Palanga Nawej Elvis, a présenté, mercredi 9 octobre dernier, au gouverneur de province, Moïse Mussa Kabwankubi, une bande de présumés bandits armés arrêtés en pleine opération de vol à Kindu. Cette cérémonie s'est déroulée au cours d'une parade publique à la tribune centrale à Kindu, chef-lieu de la province. Les malfrats arrêtés constituent un groupe de présumés bandits à main armée spécialisés dans l’extorsion et le vol des biens de paisibles citoyens. Ils vont jusqu'à voler des lampadaires publics, a fait savoir le commissaire divisionnaire de la Police nationale congolaise (PNC)/ Maniema, Palanga Nawej Elvis. Le gouverneur de la province du Maniema, Moïse Mussa Kabwankubi qui a félicité la bravoure des agents de la police, a promis la mise en place de patrouilles dans la commune de Mikelenge et d'autres municipalités de la ville de Kindu afin d’éradiquer ce phénomène de banditisme urbain.    ",
          "Prévues du 30 septembre au 14 octobre 2024, ces audiences concernent des dossiers en appel relatifs aux violations massives des droits humains, impliquant des crimes graves commis dans un contexte de conflit. Pour surmonter les défis logistiques quant à l’organisation de ces sessions, le FONAREV a passé des jours de préparatifs et de coordination avec les autorités locales. Il a fourni un appui technique et logistique pour permettre à la Cour militaire d’assurer le bon déroulement des audiences et garantir aux victimes l’accès à la justice, en vue de la restauration de leur dignité et l’ouverture d’une voie vers des réparations concrètes. Le FONAREV se félicite de l’impact significatif de la tenue de ces audiences foraines qui ont permis de sensibiliser la population de Nkongolo Monji et de renforcer la confiance des victimes dans le processus de justice, d’une part, mais aussi de concourir à la lutte contre l’impunité dans cette localité meurtrie du Kasaï Central. Par ailleurs, cette institution qui milite pour la réparation des victimes à travers le pays, espère tirer les leçons de cette intervention à Nkongolo Monji pour améliorer ses futures missions dans d’autres provinces, afin de continuer à apporter un soutien concret et efficace aux sinistrés qui réclament justice et réparation. Il faut noter que la séance, présidée par le premier président de la Cour militaire, a été marquée par de vifs échanges entre les avocats des victimes et ceux des prévenus. Si la défense a tenté de remettre en question la validité des preuves, en invoquant notamment l’absence d’actes de décès ou de constats officiels de destruction, les avocats des victimes ont rappelé que ces crimes s’étaient déroulés dans un contexte d’insécurité extrême, où la collecte de preuves était quasiment impossible en raison du chaos ambiant et de l’absence de toute autorité étatique. La conclusion des audiences est prévue pour le 14 octobre 2024.",
          "Les membres du gouvernement provincial de Mai-Ndombe sont désormais connus. Dix hommes composent avec le gouverneur Nkoso Kevani Lebon pour la destinée de cette province située à l'Ouest du pays.  Aucune femme n'a été nommée ministre. L'unique figure féminine, Mme Ikolo Manga Juliette est nommée secrétaire exécutive du gouvernement provincial et qui a rang de ministre.  Une seule reconduction, le ministre provincial de l'intérieur, Barnabé Bompaka Bo Wenge qui garde son fauteuil après avoir travaillé avec la gouverneure l'équipe Rita Bola.  Le député honoraire Richard Nzaaba est nommé ministre des finances, Justin Mulapi Iyolo prend les commandes du ministère de l'éducation, Pascal Ndondo Ipio est nommé ministre de l'agriculture, pêche et élevage.  Alex Mputu Bozali est désormais ministre des transports et voies de communications, communication et médias, Roger Mangin Boseko, ministre de l'environnement et développement durable, Nickey Bokunimbo Bokumu nommé ministre de la santé publique, Aimé Césaire Mikolo à l'économie, commerce et affaires sociales ainsi que Moïse Bokote Basakala au développement rural.  L'arrêté portant composition de l'équipe gouvernementale a été rendu public la soirée de mardi 8 octobre 2024",
          "L’ultimatum de 72h lancé le 07 octobre 2024 par le Gouverneur de la Ville de Kinshasa aux bourgmestres pour présenter les plans communaux d’actions contre les déchets, l’insécurité et les nuisances sonores est une initiative louable manifestant son souci de prendre à bras le corps les questions environnementales devenues cruciales pour la santé de la population et l’état des écosystèmes dans l’une des capitales les plus peuplés d’Afrique. Produire le plan communal d’action environnemental est conditionné par des préalables au regard de la loi n°11/009 du 09 juillet 2011 portant principes fondamentaux relatifs à la protection de l’environnement et de l’édit n°003/2013 du 09 septembre 2013 relatif à l’assainissement et à la protection de l’environnement de la Ville de Kinshasa.  Sur pied de l’article 66 de l’édit précité, le plan communal d’action environnemental doit être conforme au  . Ce programme provincial de protection de l’environnement doit être la traduction de la   devant être élaborée et mise en œuvre par le ministre provincial ayant l’Environnement dans ses attributions en vertu de l’article 64 de l’édit.  À son tour, ce programme provincial de protection de l’environnement doit s’aligner au   au regard des dispositions de l’article 16 de la loi précitée.  En vertu de l’article 15 de cette loi, le Gouvernement définit   et de gestion durable des ressources naturelles traduite en un plan national d’action environnemental.  . Ce conseil a aussi pour mission de donner son avis sur la mise en œuvre de cette politique au regard de l’article 17 de l’ordonnance-loi n°23/007 du 03 mars 2023 modifiant et complétant la loi susmentionnée.  L’examen des lois et de l’édit sur la protection de l’environnement précités démontre qu’il est impérieux de prendre en compte les préalables y consacrés avant l’adoption d’un plan d’action communal environnemental. Appliquer le schéma posé par le cadre juridique congolais est impératif. L’engagement des institutions devant intervenir antérieurement à l’élaboration du plan communal d’action environnemental est d’une importance capitale afin de produire les politiques, les programmes et les plans d’action sur l’environnement à l’échelle nationale et provinciale. Il s’agit des institutions suivantes :  Concernant les nuisances sonores, l’application rigoureuse du décret n° 14/012 portant réglementation de la production sonore en République démocratique du Congo du 08 mai 2014 est à encourager. Son article 5 fixe les heures où la production sonore est permise. Il s’énonce comme suit :  Dix ans après son introduction dans l’arsenal juridique congolais, ce décret n’est pas strictement appliqué. Ceci expose la population aux nuisances sonores. Cette brève analyse a l’ambition d’inciter les acteurs devant garantir la protection de l’environnement en RDC et à Kinshasa à veiller au respect de l’arsenal juridique y relatif pour l’intérêt des générations présentes et futures. L’heure est grave. Agissons urgemment  et en toute légalité pour protéger l’environnement de notre Alma mater. ",
          "Tout a commencé avec une conférence animée par le directeur du festival, Kevin Mavakala, sur « Les opportunités offertes par un festival de cinéma et comment donner de la valeur aux certificats reçus après les ateliers de formation ». Il a souligné, lors de ces assises, l’importance stratégique des festivals de cinéma dans le développement des carrières artistiques, qui, en plus d’être des lieux d’apprentissage et de formation, offrent une plateforme de visibilité et de réseautage pour les cinéastes, qu’ils soient débutants ou professionnels. Ensuite ont eu lieu des \"Rencontres Kongo Panoramique\" à la salle de cinéma de l'Institut Français de Kinshasa, qui ont porté sur les \"différents moyens et opportunités de production de films dans un contexte africain\", animés par Toumany Sangaré, ainsi que sur \"les opportunités de coopération audiovisuelle entre la France et la RDC\", présentées par Anthony Krawczyk. Ces échanges ont offert des perspectives précieuses aux participants sur les défis et opportunités du secteur cinématographique africain. Le producteur et réalisateur belge Mestdagh Rudolf a animé un atelier sur la production cinématographique, offrant aux participants une opportunité unique d'apprendre les rouages de la production de films de qualité. De son côté, le réalisateur sénégalais Toumani Tangaré a conduit une formation dédiée à l’autoproduction, un domaine crucial pour les cinéastes indépendants cherchant à réaliser leurs projets avec des ressources limitées. Ces sessions se sont déroulées sur les quatre jours du festival à l’Institut Français et à l’Académie des Beaux-Arts, deux lieux emblématiques de la culture et de l’art à Kinshasa. Cette 11e édition du FICKIN a été également marquée par les ateliers de formation axés sur la direction photo, animée par Djoe Muyaya; la narration au cinéma avec Richi Mbebele et le jeu d’acteur conduit par Harvin Biyani.  L’atelier de direction photo, dirigé par Djoe Muyaya, a permis aux participants de se familiariser avec les bases et les fondamentaux de la caméra. Djoe Muyaya a souligné l’importance de la lumière, de la décoration et de tous les éléments visuels qui contribuent à la fabrication d’un film. Richi Mbebele a animé l’atelier sur la narration au cinéma, un domaine souvent négligé mais essentiel pour la qualité des scénarios. Mbebele a partagé ses connaissances sur les mécanismes de narration, aidant les participants à comprendre comment raconter une histoire de manière efficace et captivante. Et d’ajouter : Le troisième atelier, consacré au jeu d’acteur et animé par Harvin, a offert aux participants l’opportunité de perfectionner leurs compétences en interprétation. Harvin Isma a mis l’accent sur l’importance de l’authenticité et de l’émotion dans le jeu d’acteur, encourageant les participants à explorer et à exprimer leurs sentiments de manière sincère devant les caméras. Cet atelier a été salué pour son approche pratique et immersive, permettant aux acteurs en herbe de développer leur talent et de gagner en confiance. Ces formations ont permis à renforcer les compétences des cinéastes locaux, en leur fournissant des outils pratiques et théoriques pour exceller dans leurs métiers. L’objectif était clair : encourager l’éclosion d’une industrie cinématographique durable en RDC. Kevin Mavakala, directeur du festival, a souligné les objectifs du FICKIN : « Nous ne voulons pas être spectateurs de notre propre histoire. Nous voulons faire de notre quotidien une force sur laquelle nous allons nous appuyer grâce au cinéma ». Cette déclaration reflète la vision d’un festival qui aspire à transformer les récits locaux en œuvres cinématographiques puissantes et inspirantes. La 11e édition du Festival International de Cinéma de Kinshasa s’est déroulée du 3 au 6 octobre à l’institut français et à l’académie des beaux-arts. Cette édition 2024 a ajouté une touche particulière intégrant entre autres l’exposition d’arts plastiques. La soirée de clôture a vu plusieurs personnes être primées, notamment les participants aux formations.  En plus des ateliers, le FICKIN a proposé une panoplie de programmes riches et diversifiés, avec plus de 70 films sélectionnés parmi 503 œuvres soumises. Les projections ont lieu en plein air en en salle à l’Institut Français et à l’Académie des Beaux-Arts, offrant au public kinois une occasion unique de découvrir des films qui reflètent les réalités et les rêves des Congolais. Le FICKIN 11 s’est encore une fois de plus affirmé comme un événement incontournable pour les amateurs de cinéma et les professionnels de l’industrie, contribuant significativement au développement du septième art en République Démocratique du Congo.  ",
          "Lors du dialogue interactif renforcé sur la situation des droits humains en RDC mardi 8 octobre à Genève, le Haut Commissaire des Nations-Unies aux droits de l'homme, Volker Türk a exprimé ses inquiétudes face à la « détérioration » des conditions de détention dans les prisons à travers le pays. Selon lui, les détenus sont privés de droit de visite par leurs membres de famille. Particulièrement pour Kinshasa, après les tueries massives à la prison Makala suite à une tentative d’évasion le 2 septembre, cette instance de l’ONU dit avoir introduit plusieurs demandes auprès des autorités pour accéder à cette maison carcérale mais sans succès. A Makala, une cinquantaine de femmes ont été violées lors de la tentative d’évasion. Plusieurs organisations ont également émis le vœu d’entrer en contact avec les victimes pour leur apporter assistance. Le Haut Commissaire a insisté et déclaré que « l'indépendance de son bureau dans la conduite des enquêtes est un moyen de soutenir la protection des droits de l'homme en RDC ». Le débat sur les conditions de détention en République Démocratique du Congo refait surface alors que Félix Tshisekedi à l'époque candidat Président de la République avait promis d'améliorer les conditions de détention et de fermer les cachots clandestins des services des renseignements. Dans la pratique, ces deux promesses peinent à se matérialiser s'il faudra se baser sur les conditions à la prison de Makala et des révélations de Jacky Ndala, ancien président de la ligue des jeunes de Ensemble pour la République. Selon ce dernier, lors de son arrestation dans les locaux de l'ANR, il a été violé par derrière. À la suite de ces révélations, des instructions ont été données par le ministre d'État, ministre de la justice et garde des aux services compétents pour l'ouverture des enquêtes.      ",
          "  – Le fournisseur mondial de services de mobilité et urbain inDrive annonce le lancement de son service de covoiturage à Kinshasa, marquant une étape importante dans son expansion en Afrique. En tant que deuxième application la plus téléchargée au monde pendant deux années consécutives, inDrive opère avec succès sur tous les continents, y compris l'Afrique.  Contrairement aux plateformes de covoiturage traditionnelles, inDrive propose une expérience révolutionnaire en permettant aux chauffeurs et aux passagers de négocier les tarifs directement, offrant ainsi une plus grande flexibilité et un meilleur contrôle aux deux parties. Ce modèle axé sur les personnes, déjà couronné de succès dans de nombreuses villes du monde, donne aux chauffeurs la liberté de choisir les courses en fonction de leurs propres critères, tandis que les passagers bénéficient de tarifs plus transparents et personnalisés. Grâce à l'application inDrive, les passagers peuvent définir leurs lieux de prise en charge et de dépose, et proposer un prix. Les chauffeurs vérifiés à proximité reçoivent cette requête et ont la possibilité d'accepter le prix proposé, de suggérer une contre-offre ou de refuser le trajet sans aucune pénalité. Ce système de négociation prend en compte les spécificités de la course, notamment le tarif, le type de véhicule, l'heure d'arrivée estimée et les évaluations des chauffeurs, ce qui permet aux chauffeurs de choisir les courses les plus rentables et les plus pratiques. inDrive se distingue en outre en éliminant les frais de commission pour les chauffeurs à Kinshasa au cours des six premiers mois d'activité. Cette période sans commission permet aux chauffeurs de conserver la totalité de leurs revenus, créant ainsi un avantage financier direct et immédiat. Après les six premiers mois, une commission basse standard sera introduite, garantissant aux chauffeurs qu'ils continueront à bénéficier de revenus plus élevés par rapport aux autres plateformes de covoiturage. Au cœur des opérations d'inDrive se trouve un engagement indéfectible envers la sécurité. Tous les chauffeurs font l'objet de vérifications approfondies des antécédents, y compris la validation des permis et de la documentation, garantissant que seuls les chauffeurs les plus fiables sont sur la route. De plus, les passagers peuvent noter les chauffeurs après chaque course, créant ainsi une culture de responsabilité et d'amélioration continue. Pour la tranquillité d'esprit des passagers, l'application propose également un suivi GPS en direct, ce qui permet aux utilisateurs de partager les détails du voyage avec leurs amis ou leur famille. En outre, inDrive offre un support client 24h/24 et 7j/7 et comprend un bouton d'urgence qui connecte instantanément les utilisateurs aux autorités locales en cas de problème de sécurité. En entrant sur le marché congolais, inDrive apporte avec lui une approche fraîche et dynamique de la mobilité urbaine. Ashif Black, représentant du développement commercial pour inDrive en Afrique, a souligné l'importance de ce lancement en déclarant :  ",
          "Le cadastre minier (CAMI) a organisé la troisième édition de son café de presse ce jeudi 10 octobre à  Pullman Hôtel de Kinshasa, capitale de la RDC.  Devant les journalistes et autres acteurs du secteur, le ministre congolais des mines, Kizito Pakabomba, a réitéré la volonté du gouvernement de procéder à un assainissement profond de ce secteur. Pour y parvenir, le ministre envisage plusieurs réformes majeures parmi lesquelles la revitalisation de l’Inspection Générale des Mines (IGM) et la création d’une autorité de régulation et de commercialisation des minerais stratégiques. Face aux pratiques illégales qui gangrènent le secteur, le ministre a appelé les opérateurs, qu’ils soient artisanaux ou industriels, à se conformer strictement aux dispositions du code et du règlement miniers.  Le ministre des mines a également lancé un appel aux partenaires étrangers afin qu’ils accompagnent la RDC dans sa démarche de valorisation de ses ressources minérales. Lors de la  94ème  réunion du conseil des ministres vendredi 14 avril 2023, le gouvernement congolais avait  adopté le projet de décret portant création, organisation et fonctionnement de l’Inspection Générale des Mines.   Cette structure devrait avoir pour mission  notamment de lutter contre la fraude et la contrebande minière sous toutes les formes, de concevoir, mettre en œuvre et assurer le suivi de l'exécution des mesures pratiques de collaboration sur le terrain entre les services et organismes publics ayant dans leurs attributions la lutte contre la fraude et la contrebande dans le secteur des Mines », indiquait le compte rendu du conseil des ministres.",
          "Le Ministre des Postes, Télécommunications et Numérique, Augustin Kibassa Maliba a présidé ce mercredi 09 octobre 2024 à Kinshasa, la cérémonie commémorative de la Journée Mondiale de la Poste, célébrée le 09 octobre de chaque année. Cette célébration est placée sous le thème, \"150 ans d’engagement pour la communication et le développement des peuples à travers le monde\". Cette année, les agents postaux ont réaffirmé leur détermination à offrir aux populations un service postal moderne et efficient. Dans son allocution, le Ministre des PT-N a salué les efforts des acteurs impliqués dans le développement du secteur postal de la RDC à savoir, l’autorité de régulation, qui joue son rôle d'arbitre et la Société Congolaise des Postes et des Télécommunications (SCPT), opérateur public désigné. En présence des nombreux postiers, des cadres du ministère des PT&N, de l’ARPTC, de la SCPT, de la Directrice Générale et du Président du Conseil d’Administration de la SCPT, le Ministre Kibassa a rappelé que depuis sa prise de fonction, un accent particulier a été mis sur les avancées technologiques avec comme objectif, permettre au service postal universel de toucher chaque coin de la RDC tout en offrant aux postiers, des moyens modernes pour accomplir leur mission avec plus d’efficacité et de facilité. Il a aussi souligné l’importance des services postaux dans le développement des Nations et la promotion de la coopération internationale tout en rappelant que la mission noble de l’UPU (Union Postale Universelle) consiste à relier les individus, peu importe leur localisation. \"Aujourd'hui, en Afrique, le secteur postal s’est libéralisé dans de nombreux pays, ouvrant ainsi la voie à une concurrence accrue dans la fourniture des services postaux. La révolution numérique transforme profondément la manière dont les services postaux sont offerts, facilitant le transfert des données physiques en données numériques certifiées\", a-t-il indiqué. Et de poursuivre, \"cet anniversaire marque un jalon important dans l’histoire des communications mondiales et nous rappelle le rôle que joue la Poste dans le rapprochement des peuples\". Augustin Kibassa a, au nom du Président de la République, Félix-Antoine TSHISEKEDI TSHILOMBO, salué et honoré les services loyaux et patriotiques que les postiers, rendent aux populations du monde entier, souvent dans des conditions difficiles. Il a également réaffirmé la volonté de la Première Ministre, Cheffe du Gouvernement de garantir une couverture totale du service postal universel dans les 145 territoires, véritable moteur d’échange et de développement pour nos populations. \"Face à cette transformation, nous avons le devoir de renforcer notre politique de digitalisation du service postal universel ; Veiller à l’application rigoureuse des lois existantes, celles régissant l'exclusivité de la SCPT en matière de traitement des colis et courriers de moins de deux kilogrammes, ainsi que l’exploitation des services financiers conformément à la loi n°012 du 16 octobre 2002\", a-t-il renchéri. Selon lui, ses actions sont guidées par des objectifs clairs : - Garantir à la population un accès au service postal universel de qualité, disponible en tout point du territoire à des prix abordables ; - Assurer à l’opérateur chargé de ce service les moyens nécessaires pour adopter les nouvelles technologies et couvrir les coûts liés à ses obligations ; - Favoriser la concurrence pour l'offre des services à valeur ajoutée et de nouvelles prestations ; - Étendre la couverture postale nationale, notamment dans les zones rurales et isolées. Et à l'occasion de la fête de l'UPU, la SCPT a fait le lancement de la vulgarisation du code postal dont quelques exemplaires ont été remis au Ministre de tutelle, au Président du collège de l'ARPTC, au représentant du Secrétaire Général des PTNTIC. Sur 15 écoles ciblées dont 300 élèves avaient participé au concours, 10 lauréats ont reçu les cadeaux des mains des autorités du secteur présentes à cette activité avant de clôturer avec la visite guidée des différents Stands.  ",
          "Sur instruction du Président de la République, Félix Tshisekedi, le Service National a procédé, ce mercredi, à la remise de fauteuils, tables de bureau et armoires aux bourgmestres de 15 communes de Kinshasa. Cette initiative, pilotée par le Général-major Jean Pierre Kasongo Kabwik, commandant du Service National, s’inscrit dans une démarche d’appui aux administrations publiques locales. La cérémonie de remise s’est déroulée à l’immeuble de la territoriale, en présence du Vice-premier ministre et ministre de l'Intérieur, Jacquemin Shabani, ainsi que du gouverneur de la ville, Daniel Bumba. Les meubles, fabriqués par des anciens délinquants de gangs urbains – communément appelés ex-Kulunas – désormais réhabilités et formés par le Service National, ont été produits dans l'atelier de menuiserie du service à Nsele. Ils visent à renforcer les capacités d'accueil des bureaux administratifs des communes de la capitale. Le Général-major Kasongo Kabwik a précisé lors de son allocution que cette dotation marque « une première et une réponse directe aux instructions du commandant suprême, le chef de l'État. » Jacquemin Shabani, de son côté, a souligné l’importance de cet acte, qu’il voit comme le résultat d’un mécanisme de réinsertion et de formation qui a débuté avec la police nationale congolaise et s’inscrit dans la vision politique de développement du président Tshisekedi. Cette opération de dotation en mobiliers s’étendra également au secteur judiciaire : le Service National prévoit de fournir plus de 500 tables de bureau, 1 000 chaises et 1 000 armoires aux tribunaux de Kinshasa. Par la suite, les états-majors des Forces armées et de la Police nationale congolaise bénéficieront aussi de cette initiative de modernisation. Ce programme de distribution de mobilier fait suite à une première phase, au cours de laquelle des bancs-pupitres ont été remis aux écoles, universités et instituts supérieurs de Kinshasa. Cette opération de soutien aux infrastructures publiques se poursuivra dans les jours à venir, alors que le Service National multiplie les initiatives pour appuyer le développement des institutions de la capitale.",
          "Le procès en fragrance sur la répression, par des coups de feu, de la marche pacifique des élèves du secteur public de l'enseignement à Matadi, se poursuit au tribunal de garnison militaire de Matadi. Mercredi 9 octobre 2024, le maire de la ville de Matadi, Dominique Nkodia Mbete, a comparu dans le procès en fragrance de  Dans sa défense, l'autorité urbaine a reconnu que le policier commis à sa sécurité est un agent discipliné, mais qui n'a pas tiré sous ses ordres. \"J'avais entendu des détonations, mais je ne savais pas que c'était mon policier qui avait tiré. C'est vers 16 heures, quand j'ai visionné la vidéo qui circulait, que j'ai vu mon policier tirer. Je répète encore que je n'ai pas envoyé mon garde du corps aller contrecarrer la manifestation. Mais je lui ai demandé de sécuriser la parcelle pour que les élèves n'y accèdent pas\", a-t-il dit. Pour sa part, le prévenu André Mapatikala, agent de police principal, a affirmé n'avoir pas tiré sous les ordres du maire. Mais il précise que son action était plus pour maîtriser la foule qui s'approchait vers lui. Il faut préciser que la résidence du maire est située à quelques mètres du Collège Ntetembwa, lieu du déroulement de l'événement. Dans cette affaire, la plaidoirie est programmée pour jeudi 10 octobre courant. Pour rappel, le tribunal militaire de garnison de Matadi a ouvert, depuis le 8 octobre dernier, l’audience en flagrance des policiers auteurs de tirs de sommation pour réprimer une manifestation pacifique des élèves tenue lundi 7 octobre dernier dans la ville de Matadi. Deux policiers, l’un en uniforme et l’autre en tenue civile, avaient usé de balles réelles pour disperser les élèves qui réclamaient la reprise des cours au moment où les enseignants sont en grève depuis la rentrée scolaire. Selon des témoins, lors de la répression de cette manifestation, 10 élèves ont été interpellés et d’autres blessés.    ",
          "À en croire le numéro un de la Police au Maniema, ces individus sont un groupe de présumés bandits à main armée, spécialisés dans l’extorsion et le vol des biens des paisibles citoyens mais aussi des lampadaires publics. Ils ont été arrêtés avec leurs armes blanches en pleine opération, a-t-il fait savoir. Le gouverneur de la province du Maniema, Moïse Mussa Kabwankubi, a félicité les agents de Police, soulignant leurs efforts pour sécuriser la population et ses biens. Il a promis la mise en place des patrouilles dans la commune de Mikelenge, à Kindu, afin d’éradiquer ce phénomène de banditisme urbain.",
          "L’examen en appel de l’affaire du coup d’état manqué a débuté ce jeudi 10 octobre 2024 devant la  Cour militaire de Kinshasa/Gombe, siégeant en audience foraine à la prison militaire de Ndolo. L’audience de ce jour est consacrée à l’identification des prévenus, y compris ceux qui ont été acquittés au premier degré. N’ayant pas comparu, bien que cités régulièrement, ils seront jugés par défaut.  C’est ce qui a été retenu par la juridiction militaire, après réquisition du ministère public. L'objectif poursuivi par les prévenus ayant formé leur recours est d'obtenir l'annulation ou la réduction des  peines prononcées au premier degré par le Tribunal Militaire de garnison  de Kinshasa/Gombe. Les avocats des prévenus avaient estimé que les peines du premier degré étaient \" sévères\" contre leurs clients et espèrent prouver l'innocence de ces derniers. Au premier degré 37 prévenus ont été condamnés à la peine de mort pour des infractions d'association de malfaiteurs, d'attentat et de terrorisme. Parmi eux figurent Marcel Malanga, fils de Christian Malanga, Tyler Christian Thomson, Zalman Pollum Benjamin et Nkele Mbuela Ruffin. L'expert militaire Jean-Jacques Wondo a également été condamné à la peine de mort pour association de malfaiteurs et attentat. Certains des condamnés ont écopé de 20 ans de servitude pénale pour détention illégale d'armes de guerre. Une dizaine de personnes, 13 au total, ont été acquittées, les faits d'association de malfaiteurs, de terrorisme et de financement du terrorisme n'ayant pas été prouvés. Parmi elles, on retrouve les prévenus dits de \"l’hôtel Chez Momo\", notamment la propriétaire de l’établissement, Mata Maguy, son mari Ephraïm Mugangu, ainsi que leurs employés, Judith Mukela Mukubu et Mbayo Adolphe. Figurent également parmi les acquittés les convoyeurs et chauffeurs des bus ayant transporté les prévenus, le gérant Faustin Egwake, ainsi que la nettoyeuse du Palais de la Nation, Mbemba Ndona Mado. Quant au prévenu Tikimo, il a bénéficié de circonstances atténuantes et a été déclaré non coupable. Le procès sur le coup d’Etat manqué du 19 mai 2024 s'est ouvert le vendredi 7 juin 2024 et s'était clôturé vendredi 13 septembre 2024. Au total 51 des 53 personnes citées ont comparu devant la juridiction militaire. Le Ministère public ainsi que le tribunal ont constaté le décès de deux prévenus à savoir, Christian Malanga et Aboubakar, tués le jour de l’attaque. L’organe de la loi a alors demandé l’extinction de l’action publique à leurs égards, c’est-à-dire la fin de la procédure pénale engagée contre ces prévenus. Cette demande a été reçue par le tribunal qui a décrété l’extinction de l’action publique pour ces personnes.",
          "C’est ce qui ressort d’une réunion d’évaluation de la situation sécuritaire de la province de l’Ituri qui s’est tenue, mardi 8 octobre 2024, à la 32ème région militaire, sous l’égide du commandant des opérations militaires et gouverneur militaire, le lieutenant-général Luboya N’Kashama Johnny. Durant cette rencontre, il a également été demandé aux officiers militaires de pacifier la province de l’Ituri en général et en particulier le territoire de Djugu, principalement les zones minières situées dans le secteur de Banyali-Kilo. Le porte-parole des opérations militaires en Ituri indique qu’il a été demandé aux habitants ayant récemment fui leurs entités suite aux attaques des miliciens CODECO et Zaïre, de pouvoir les regagner, car la situation est déjà sous le contrôle de armée loyaliste. «  », a-t-il déclaré. Le speaker de l’armée en Ituri note que l’heure est à la stabilisation de la situation sécuritaire afin de permettre à la population de vaquer librement à ses occupations. Signalons que cette rencontre a connu la participation de plusieurs autorités sécuritaires provinciales.",
          null
         ],
         "marker": {
          "opacity": 0.5,
          "size": 5
         },
         "mode": "markers+text",
         "name": "0_kinshasa_congolaise_10 octobre",
         "text": [
          "",
          "",
          "",
          "",
          "",
          "",
          "",
          "",
          "",
          "",
          "",
          "",
          "",
          "",
          "",
          "",
          "",
          "",
          "",
          "",
          "",
          "",
          "",
          "",
          "",
          "",
          "",
          "",
          "",
          "",
          "",
          "",
          "0_kinshasa_congolaise_10 octobre"
         ],
         "textfont": {
          "size": 12
         },
         "type": "scattergl",
         "x": [
          5.768697,
          5.1690145,
          5.1236367,
          5.900908,
          7.4370685,
          5.781391,
          6.909549,
          5.7590165,
          5.613808,
          5.953751,
          6.370429,
          5.605756,
          7.073417,
          5.1561584,
          6.0275025,
          5.736716,
          5.1081285,
          7.094228,
          5.2725263,
          6.9317784,
          5.4784675,
          5.571315,
          5.544224,
          7.3683476,
          5.7193017,
          5.967658,
          5.9474816,
          5.2237453,
          5.936192,
          4.941758,
          6.7594833,
          5.098083,
          5.917173
         ],
         "y": [
          6.2972984,
          3.8067398,
          4.415643,
          5.8977385,
          1.89916,
          6.268054,
          1.9726791,
          6.274827,
          6.4358196,
          4.9967723,
          2.6301165,
          3.2406442,
          2.2480817,
          3.5990813,
          6.0345325,
          5.3456492,
          4.070195,
          1.708093,
          4.0065594,
          2.0992725,
          3.3580256,
          5.1065946,
          6.494046,
          1.7887855,
          5.7248282,
          5.4943113,
          6.0003147,
          4.5353913,
          2.8454993,
          3.796757,
          1.9897245,
          3.6463654,
          4.1883626
         ]
        },
        {
         "hoverinfo": "text",
         "hovertext": [
          "Une situation qui avait poussé le Président de la RDC, Félix Antoine Tshisekedi, a quitté précipitamment ce Sommet avant la clôture proprement dite. Au pays, plusieurs voix s’élevent pour réclamer le retrait de la RDC de l’Organisation internationale de la Francophonie. Pour le député national Joseph Bangakya, la République ne doit nullement quitter la francophonie. Pour appuyer son argumentaire, l’élu Rungu, dans la province du Haut-Uélé donne plusieurs raisons notamment : Avec son énorme potentiel hydroélectrique, ses immense forêts, ses nombreuses richesses minières et surtout sa population, qui est la première population francophone, la RDC doit avoir une stratégie de montée en puissance dans la francophonie. Celà passe par la constitution d’alliances stratégiques qui soutiendraient les positions de Kinshasa et, à terme, de faire élire un(e) Secrétaire Générale de la Francophonie qui soit Congolais(e)! Chacun a un rôle à jouer, que des acteurs politiques et de la société civile appellent au retrait de la RDC de la Francophonie. Ils sont dans leurs rôles, mais les Institutions de la République, à commencer par le Président de la République ne peuvent pas prendre des décisions sur base d’un seul incident, il faut toujours avoir une vue globale de la situation et toujours prendre une décision rationnelle. Ce qui demande de ne jamais se précipiter. Oui, la RDC doit manœuvrer pour jouer les premiers rôles au sein de la Francophonie. Et la RDC a toujours eu comme vocation à diversifier ses relations diplomatiques. Avec méthode, détermination et dans une approche stratégique, rigoureuse et intelligente, nous devons travailler dans la durée et de manière systémique, à la montée en puissance de la RDC car seule la puissance protège dans les relations entre etats.",
          "Les réactions fusent de toutes parts, après l'élection, ce mercredi 09 octobre, de la RDC -République démocratique du Congo- au Conseil des droits de l'homme des Nations Unies. Ce sacre, d'après le porte-parole du Gouvernement, Patrick Muyaya, est une marque d'honneur pour la RDC . Membre du Gouvernement Suminwa, le ministre de la Communication, Patrick Muyaya, rend un vibrant hommage au Chef de l'État, Félix Tshisekedi, pour les efforts fournis en matière des droits de l'homme, depuis son avènement au pouvoir. \"Cette élection confirme notre engagement comme Gouvernement, sous la conduite du Chef de l'État, à continuer le travail que nous faisons pour la promotion et la défense des droits de l'homme\", a fait savoir Patrick Muyaya Katembwe. \"Ce n'est pas le Président de la République qui a été élu ni son gouvernement, mais il s'agit de la République démocratique du Congo... Je pense qu'il n'y a aucun Congolais véritablement patriote, qui ne verrait pas comme une marque d'honneur pour la République de siéger au sein de cet organe. Celui-ci traite des questions des droits de l'homme mondialement\", a-t-il indiqué. Et d'ajouter : \"Il y a bien des choses qui peuvent nous opposer, mais lorsque le pays avance, il faut que tout monde puisse souscrire... La perception des droits va dépendre de qui veut regarder et à partir de quel côté\". La RDC est élue membre du Conseil des droits de l'homme des Nations-Unies, avec 172 voix sur 190, pour un mandat de deux ans, soit de 2025 à 2027, selon les résultats recueillis, aux côtés de 17 autres pays du monde.",
          "octobre 10, 2024 Allemagne : “Le Président Tshisekedi a déjà facilité le retour au pays” (Judith Suminwa à la diaspora) Par :    La rédaction \n \n \n Kinshasa, 10 Octobre 2024- La Première Ministre de la République Démocratique du Congo, Judith Suminwa Tuluka, a honoré de sa présence, mercredi 9 octobre 2024, la diaspora congolaise d’Allemagne, en marge de sa participation à la conférence de Hambourg sur le développement durable. Cette rencontre, organisée par l’Ambassadrice de la RDC, Louise Nzanga Ramazani, a rassemblé des membres influents de la communauté congolaise, dont M. Elombo, le seul originaire de la RDC membre du parlement de Brême, ville située au Nord-ouest de l’Allemagne. Il a exprimé sa gratitude envers la Cheffe du Gouvernement pour son engagement envers la communauté congolaise en Allemagne. Il a également souligné l’importance de cette rencontre et les attentes qu’elle suscite pour l’avenir des relations entre les deux pays. “C’est une première, et, en tant que première femme Première Ministre, elle est venue au nord de l’Allemagne, elle a su consacrer plus de deux heures à discuter avec les représentants de la communauté, malgré tous ses rendez-vous officiels. C’est un bon début, et j’espère que nous aurons d’autres rencontres dans cette direction. Il est essentiel de comprendre que l’Allemagne joue un rôle important et devrait continuer à jouer un rôle pour la paix en RDC. La communauté est prête à accompagner les efforts du Gouvernement congolais”,  a dit le député allemand d’origine congolaise. La réunion a permis des échanges enrichissants entre la Première Ministre et des acteurs clés de la diaspora, tels que des médecins, des entrepreneurs et des acteurs politiques. Les participants ont exprimé leurs attentes face aux défis auxquels ils font face pour développer leurs entreprises en RDC. Malgré leur attachement à leur pays d’origine, beaucoup ont souligné la difficulté du climat des affaires, le manque de réactivité des autorités et l’absence d’un soutien suffisant de la part de l’État congolais, en dépit du fait que l’Allemagne est la troisième puissance économique européenne. Les membres de la diaspora ont partagé leur désir de renforcer les liens entre la RDC et l’Allemagne, en mettant en avant les opportunités de collaboration dans des domaines tels que la formation professionnelle, les technologies avancées, et la gestion environnementale. Ils ont exprimé l’espoir que le Gouvernement Suminwa intensifie les échanges bilatéraux avec le pays de Goethe. “Je suis originaire du Congo, née à Kinshasa. C’était ma première participation à ce genre de rencontre, et en tant que jeune femme, je suis très fière d’avoir vécu cette expérience avec la Première ministre de la RDC. Concernant le domaine médical, je souhaiterais qu’il y ait plus de coopération entre l’Allemagne et la RDC. Je crois que la RDC peut également s’inspirer des modèles allemands en matière de médecine préventive, notamment en ce qui concerne la gratuité de la maternité et le projet de couverture de santé universelle”,  a déclaré Docteur Christelle Beti, médecin gynécologue en Allemagne. Judith Suminwa Tuluka a partagé ce souhait tout en rappelant aux congolais d’Allemagne que sur instruction du Président de la République, le Gouvernement applique déjà la facilité d’accès à la diaspora, notamment en permettant aux Congolais détenteurs d’un passeport étranger d’obtenir leur visa à l’aéroport de Kinshasa. La Première Ministre a salué la qualité des échanges, soulignant que le travail collectif est essentiel pour faire progresser la RDC. “C’est vrai qu’il y a des choses à améliorer, comme le changement de mentalité, la bonne gouvernance et la lutte contre la corruption, etc. Cependant, ceux qui critiquent doivent le faire de manière constructive. Je trouve que se concentrer uniquement sur la critique sans proposer des solutions est problématique. C’est très difficile, même en interne. Ce n’est pas seulement le fait des autres, mais aussi des personnes à l’intérieur qui semblent penser que cela résoudra le problème. Or, cela ne résout rien et ne nous aide pas non plus. En ce qui concerne les propositions, je pense que le Président Félix Antoine Tshisekedi a déjà fait un pas important en facilitant le retour des Congolais en permettant l’obtention d’un visa à l’entrée. Le prochain pas serait de considérer les Congolais de la diaspora comme des citoyens à part entière. Ce sont des projections à long terme, mais se sentir à l’aise dans son pays est un élément très important”,  a affirmé Judith Suminwa Tuluka. La diversité de la diaspora congolaise est une véritable force sur laquelle la République Démocratique du Congo devrait s’appuyer pour bâtir une image forte et positive du pays. En valorisant les différentes cultures, expériences et compétences des Congolais vivant à l’étranger, la RDC pourrait non seulement renforcer son identité nationale, mais aussi promouvoir un message d’unité et de dynamisme à l’international. Cette richesse culturelle et humaine est un atout stratégique pour le développement et l’essor du pays, permettant de créer des ponts entre la diaspora et le territoire national. La Rédaction",
          "Cet événement, organisé par Louise Nzanga Ramazani, ambassadrice de la RDC en Allemagne, a permis des échanges constructifs entre la cheffe du gouvernement et des personnalités influentes de la communauté congolaise, dont un député au Parlement de Brême. Lors de cette rencontre, Judith Suminwa Tuluka a salué l’engagement de la diaspora congolaise et a rappelé les efforts du président Félix Tshisekedi pour faciliter le retour des congolais. Elle a, notamment mentionné l’initiative permettant l’obtention d’un visa à l’aéroport de Kinshasa. «   », a-t-elle déclaré. Pour sa part, Elombo, député au Parlement de Brême, a exprimé son enthousiasme suite à cette rencontre.  », a-t-il souligné. Les discussions ont également porté sur les défis du climat des affaires et les opportunités de collaboration dans divers domaines, tels que la formation professionnelle, les technologies avancées et la gestion environnementale. Des acteurs clés, incluant médecins et entrepreneurs, ont partagé leurs attentes et proposé des pistes pour renforcer les liens entre la RDC et l’Allemagne.",
          " Après le Sommet de Paris, beaucoup de Congolais souhaiteraient que la RDC suspende sa participation à l’Organisation internationale de la Francophonie (OIF) ou, carrément, se retire de cette organisation. Dans les deux cas, ce serait une erreur ! Les Congolais devraient plutôt se poser la question de savoir ce que la RDC devrait faire pour mieux tirer profit de son appartenance à la grande famille francophone. Contrairement à ce que certains Congolais pensent et malgré la « faute diplomatique » du Président Macron, le Sommet de Paris a été bénéfique pour la RDC: en effet, les Chefs d’Etat et de gouvernement présents à Paris ont adopté une résolution qui réaffirme, sans ambiguïté, leur attachement « à l’intégrité territoriale et à l’intangibilité des frontières de la RDC, en condamnant toute intervention militaire étrangère non autorisée (= celle du Rwanda) et en demandant le retrait immédiat des troupes rwandaises ». Le fait que le Rwanda n’ait pas validé les points de la résolution qui concernent la RDC prouve, aux yeux des autres États, qu’elle a des intentions non avouées. La RDC devrait capitaliser sur ce soutien non équivoque de l’OIF en tant que structure multilatérale et poursuivre ses efforts diplomatiques au plan bilatéral, avec chacun des États et gouvernements membres de la Francophonie. Au sein de l’OIF, comme dans toute organisation multilatérale, il y a des États et gouvernements qui sont un peu plus influents que d’autres. Malheureusement, la RDC n’exerce pas encore l’influence qu’elle devrait avoir en tant que plus grand pays francophone, après la France, en termes de nombre de personnes qui utilisent le français au quotidien. Par contre, au cours de dernières années, que l’on admette ou que l’on ne l’admette pas, le Rwanda a réussi, petit à petit, à utiliser la Francophonie comme instrument au service de ses intérêts stratégiques ! Ce n’est pas un hasard si le Rwanda avait réussi, en 2018, à faire élire Madame Louise Mushikiwabo comme Secrétaire générale de la Francophonie et à la faire réélire, en 2022, pour un deuxième mandat. Ce n’est pas un hasard si, après le Sommet de Paris, la prochaine grande messe politique de la Francophonie se tiendra à Kigali, en 2025 !  En effet, c’est à Kigali que se retrouveront, l’année prochaine, tous les États et gouvernements membres pour la prochaine conférence ministérielle de la Francophonie, celle qui va préparer le Sommet des Chefs d’État et de gouvernement de 2026 consacré, entre autres, à l’élection d’un nouveau Secrétaire général ou à la reconduction de l’actuelle Secrétaire générale… Que le Rwanda utilise la Francophonie pour « ses intérêts stratégiques », c’est de bonne guerre ! Tous les États et gouvernements le font : ils viennent à l’OIF pour promouvoir leurs objectifs stratégiques et défendre leurs intérêts, dans un cadre multilatéral. Un seul exemple suffit pour illustrer cette thèse. En Corée du Sud, c’est une infime minorité qui parle français mais la Corée est devenue membre observateur de la Francophonie parce que, entre autres, elle cherche à élargir son marché pour écouler les nombreux produits de son industrie, notamment celle de l’automobile. Au sein d’une organisation multilatérale comme l’OIF, ce sont des États et gouvernements membres qui décident, en fonction des enjeux de l’heure, de leurs intérêts stratégiques respectifs, de leurs « affinités » avec d’autres États, du jeu d’influence qui se joue entre les uns et les autres. L’influence qu’exerce un État sur les autres ne se dicte pas: elle s’acquiert progressivement par des actions concrètes vis-à-vis de l’organisation, par les compétences, la crédibilité, le sérieux et le comportement de ses délégués et représentants, par des interventions et prises de positions pertinentes, qui apportent une vraie valeur ajoutée lors des discussions sur des sujets d’intérêt commun, par son implication et sa participation active et judicieuse dans les commissions, par sa participation à des missions de médiation et de bons offices, par le respect de sa parole, par ses cotisations statutaires, par des contributions volontaires extrabudgétaires, par le financement de certaines initiatives spéciales, par l’assistance que cet État fournit à d’autres, dans différentes circonstances…  Au cours des dix dernières années, le moins qu’on puisse dire, en ce qui concerne la RDC, est qu’elle ne s’est pas distinguée, hormis l’organisation réussie des Jeux de la Francophonie dont, par ailleurs, le succès n’a pas été suffisamment capitalisé… Il est temps que la RDC se réveille et puisse utiliser la Francophonie, de façon intelligente, pour ses intérêts stratégiques sur le plan diplomatique, sur le plan culturel, sur le plan touristique, sur le plan économique et commercial… Faut-il encore, pour cela, que la RDC sache ce qu’elle veut ! MABIALA Ma-Umba, Expert indépendant - Ancien Directeur de l’éducation et de la jeunesse à l’Organisation internationale de la Francophonie - Ancien Délégué général à la Francophonie.  Whatsapp :     ",
          "À l’issue de cette élection, Chantal Chambu, ministre congolaise des Droits humains, a remercié tous les pays qui ont voté pour la République démocratique du Congo. Selon elle, c’est le leadership éclairé de Félix Tshisekedi Tshilombo qui a permis au pays de trouver de l’espace au sein de cette instance importante. «  », a-t-elle dit. À noter que, lors du vote, la RDC a obtenu un total de 172 voix sur 190, témoignant d’un large soutien de la communauté internationale. Cette élection va permettre à la RDC et aux autres nations de jouer un rôle actif dans les travaux du Conseil pour la promotion et la protection des droits humains à l’échelle mondiale.",
          "En séjour en Allemagne dans le cadre de la conférence sur le développement durable de Hambourg, la première ministre, Judith Suminwa, a échangé le mercredi 09 octobre avec la diaspora congolaise d’Allemagne sur plusieurs sujets notamment les défis liés au climat des affaires en RDC mais aussi sur les opportunités de collaboration dans les domaines de la formation professionnelle, des technologies avancées et de la gestion environnementale. Des acteurs clés, tels que des médecins et des entrepreneurs ont exprimé leurs attentes et proposé des pistes pour renforcer les liens entre la RDC et l’Allemagne. Organisée par Mme Louise Nzanga Ramazani, Ambassadeur de la RDC en Allemagne, cette rencontre a permis des échanges constructifs entre la cheffe du gouvernement et quelques personnalités et leaders de la communauté congolaise. La première ministre a, de son côté, salué l’engagement de la diaspora et rappelé que le président Tshisekedi a déjà facilité le retour des Congolais en permettant l’obtention d’un visa à l’aéroport de Kinshasa. A l’en croire, le prochain pas serait de considérer les Congolais de la diaspora comme des citoyens à part entière.",
          "Les Leopards de la RDC signent une précieuse victoire de 1-0 contre les Taifas Stars de Tanzanie ce jeudi 10 octobre 2024 au stade des Martyrs, dans ce premier acte de leur double confrontation dans le cadre des éliminatoires de la Coupe d’Afrique des Nations (CAN) Maroc 2025. Dès le coup d’envoi, les Congolais ont rencontré des difficultés, notamment dans la bataille du milieu de terrain. Les Tanzaniens, agiles et entreprenants, ont rapidement imposé un bloc médian qui a coupé toutes les transmissions vers l’avant de l’intérieur. Cette domination a contraint les Léopards à se replier sur les ailes, mais leurs tentatives, notamment par Mechack Elia sur le flanc gauche, se sont révélées infructueuses, avec des courses et des percussions qui n’ont guère apportées. À la pause, le sélectionneur Sébastien Desabre a su motiver ses troupes. En seconde période, les Congolais ont montré un visage bien différent, occupant davantage le terrain après les sorties d’Elia et d’Edo Kayembe. C’est à l’heure de jeu qu’ils ont finalement réussi à faire la différence : sur un coup de tête du centre bien boté d’Arthur Maswaku de la droite vers la gauche, Chancel Mbemba a été à l’origine de l’unique but du match, un but contre son camp à la 54e minute. Cette victoire permet aux Léopards de prendre une sérieuse option pour la qualification, étant désormais premiers du groupe H avec 9 points après trois journées. Un carton plein qui donne confiance avant le match retour prévu à Dar-Es-Salam le mardi 15 octobre, un acte décisif pour l’accès à la prochaine CAN au Maroc.",
          "La République Démocratique du Congo (RDC) a été élue, mercredi 9 octobre 2024 à New York, membre du Conseil des droits de l’Homme des Nations Unies pour le mandat 2025-2027. Avec 172 voix sur 190, cette élection représente une avancée diplomatique majeure, couronnant les efforts continus du Président Félix Tshisekedi pour instaurer un véritable État de droit. « L’élection d’un pays dans une instance internationale est un baromètre clé de la confiance des partenaires mondiaux. Nous pouvons nous réjouir de ce soutien international à notre pays », a déclaré Tina Salama, porte-parole du Chef de l’État. Cette victoire diplomatique reflète également un engagement sans relâche et une vision claire pour un avenir où les droits de chaque citoyen sont pleinement respectés et protégés. La RDC aborde ce nouveau défi avec détermination, affirmant sa position sur la scène internationale. « C’est aussi un signe fort du retour de la RDC sur la scène internationale, soutenue massivement par la communauté internationale », a ajouté Tina Salama. Depuis son accession au pouvoir en 2019, le Président Tshisekedi a initié des réformes structurelles importantes pour améliorer la situation des droits de l’Homme en RDC. Sous sa direction, des mesures concrètes ont été prises pour renforcer la démocratie, promouvoir la justice et garantir les libertés fondamentales pour tous les citoyens. En juin 2023, la RDC a promulgué une loi sur la protection et la responsabilité des défenseurs des droits de l’Homme, conforme aux standards internationaux, offrant une protection renforcée aux femmes défenseures et une sécurité physique accrue pour les défenseurs des droits humains et leurs familles. En plus de cette loi, des réformes ont été menées suite aux recommandations de l’Examen Périodique Universel (EPU). Parmi les avancées notables figure la promulgation d’une loi sur la parité, qui a permis l'intégration de la dimension genre dans plusieurs secteurs clés, garantissant une égalité accrue entre les hommes et les femmes, notamment dans les sphères politiques, économiques et sociales. Des efforts particuliers ont été fournis pour promouvoir la participation politique des femmes. Cela s’est notamment concrétisé par leur meilleure représentativité sur les listes électorales. Une autre réalisation majeure est l’adoption de la loi n° 22/029 du 29 juin 2022, qui a modifié la législation électorale pour favoriser l’intégration des femmes dans la vie politique du pays. « Ces mesures illustrent l’engagement continu de la RDC en faveur des droits humains et de l’égalité des genres. Bien que des défis subsistent, ce vote reflète la cohérence et l’efficacité des actions du Chef de l’État », a ajouté Tina Salama. Le gouvernement a également entrepris des réformes importantes dans les secteurs judiciaire et sécuritaire, afin d’assurer une meilleure protection des droits humains. « Je salue les avancées réalisées par la RDC dans la lutte contre l’impunité. Le fait que 599 personnes aient été jugées l'année dernière pour des violations des droits humains constitue un pas encourageant », a déclaré Volker Türk, Haut-Commissaire des Nations Unies aux droits de l’Homme, lors de la 55e session du Conseil des droits de l’Homme. Depuis l’arrivée au pouvoir du Président Félix Tshisekedi, la libération de la parole s'est notablement renforcée en RDC. Les médias publics, autrefois fermés aux voix dissidentes, ouvrent désormais leurs antennes aux acteurs de l’opposition. Les activités politiques de ces derniers sont désormais relayées par la RTNC (Radiotélévision nationale congolaise), ce qui était impensable il y a quelques années. Ces progrès s'inscrivent dans le cadre de la nouvelle loi sur la presse, entrée en vigueur le 4 avril 2023, conçue pour s’adapter aux nouvelles dynamiques démocratiques du pays. L’un des changements clés de cette loi concerne le régime des sanctions liées aux « atteintes par voie de presse ». Plutôt que de recourir systématiquement au Code pénal, cette loi met l'accent sur le droit de réponse ou de rectification, privilégiant ainsi la résolution des litiges par le dialogue plutôt que par des mesures punitives. La RDC continue de fournir des efforts significatifs pour garantir une presse libre et indépendante. Ces efforts ont porté leurs fruits, comme en témoigne la légère progression du pays dans le classement mondial de la liberté de la presse en 2024, passant de la 124  à la 123  place sur 180. Ce résultat reflète un engagement continu vers l'amélioration des conditions pour les journalistes et les médias. Le paysage médiatique congolais se caractérise par un pluralisme impressionnant. On dénombre près de 177 chaînes de télévision, environ 4000 stations de radio, plus de 500 titres de presse écrite, plus de 35 médias en ligne, et près de 7000 journalistes enregistrés. Ce dynamisme illustre la diversité des voix et la richesse de l'information dans le pays. Depuis le début du mandat du Président Tshisekedi, aucun journaliste n'a été tué dans l’exercice de ses fonctions, et il n’y a eu ni coupures d’Internet ni fermetures arbitraires de médias. Ces faits contrastent avec les pratiques antérieures et témoignent d’un environnement plus ouvert et sécurisé pour les professionnels des médias. Le respect des droits des citoyens a également progressé. Aucun décès n’a été enregistré sur les campus universitaires en raison d'interventions des forces de sécurité, et les violences dans les paroisses, autrefois fréquentes, sont désormais reléguées au passé. Lorsque des bavures commises par les forces de sécurité se produisent, le Président Tshisekedi fait preuve d’une grande réactivité. Il condamne fermement ces abus et insiste sur le fait qu’ils ne resteront pas impunis. Des procès sont organisés, et les responsables sont tenus de rendre des comptes, reflétant ainsi l'engagement du gouvernement à instaurer la justice et la responsabilité dans le pays. Des efforts substantiels ont également été déployés pour stabiliser les régions en conflit, notamment au Tchad. Le Président Félix Tshisekedi a été distingué pour son rôle dans la transition qui a conduit à l'élection de Mahamat Idriss Deby, le 9 mai 2024. En reconnaissance de ces efforts, Tshisekedi a été nommé facilitateur pour la Communauté économique des États de l’Afrique centrale (CEEAC). Sur le plan national, la crise à l’Est de la RDC reste une priorité. Le pays a démontré sa volonté d’aboutir à une paix durable avec le Rwanda dans le cadre du processus de Luanda. Toutefois, l’obstruction du Rwanda, plongeant la région des Grands Lacs dans une instabilité continue, pose de sérieux défis, notamment pour les populations congolaises qui en subissent les conséquences depuis plus de trois décennies. L’élection de la RDC au Conseil des droits de l’Homme est une reconnaissance des progrès réalisés et et un encouragement à poursuivre sur cette voie. En tant que membre de cet organe, la RDC pourra jouer un rôle actif dans la promotion et la protection des droits humains à l’échelle mondiale tout en renforçant ses propres engagements nationaux. La volonté de la RDC de jouer un rôle de premier plan dans les instances internationales reflète son désir de faire entendre sa voix, notamment face aux agressions récurrentes du Rwanda. Cette élection est un signal fort de la confiance des partenaires internationaux envers la RDC et leur soutien aux réformes en cours. Pendant son mandat de trois ans à Genève, la RDC continuera de promouvoir l’État de droit, tel que souhaité par le Président Tshisekedi, et de défendre les droits humains dans leur globalité. Elle entend aussi faire entendre la nécessité de reconnaître et de réparer les graves crimes subis par le pays au cours des décennies de conflit. La RDC est prête à utiliser cette tribune pour renforcer sa diplomatie, consolider ses acquis en matière de droits humains, et apporter une contribution significative au Conseil des droits de l’Homme.  ",
          "« Pour l'instant, la RDC ne peut être membre du Conseil des droits de l'homme des Nations-Unies, c'est clair. Mais, ce n'est pas que nous sommes contre le Congo pour toujours, pas du tout », affirme, sur TOP CONGO FM, l'opposant Franck Diongo, depuis son exil en Europe, après élection de la RDC en tant que membre du Conseil des droits de l'homme de l'ONU. Cet opposant qui s'est investi pour que cette candidature soit rejetée considère que « ce n'est pas un échec. Il n'y a pas un bras de fer. Nous avons déclaré les violations des droits de l'homme. Le pays n'appartient pas aux dictateurs. Est-ce qu'un pouvoir illégitime peut représenter un peuple ? C'est nous qui avons la parole du peuple congolais ». Parce que d'après lui, « tout le monde sait que le Congo est un État qui viole les droits de l'homme, un État corrupteur, un État de terreur, de dictature qui ne peut pas être présenté comme un pays qui respecte les droits de l'homme. Cela a été documenté dans la lettre que nous avons spécifiée au Conseil des droits de l'homme ». Candidature combattue Cette élection est une grande réussite pour la RDC, quand on sait que sa campagne a été plombée au niveau interne à cause des critiques de plusieurs organisations de défense des droits humains, notamment la fondation Bill Clinton. Dans une intervention sur TOP CONGO FM, le coordonnateur pays de cette fondation, Emmanuel Cole, estime que « comme il n'y a pas d'avancées dans le respect des droits de l'homme en RDC, elle ne peut pas siéger au Conseil des droits de l'homme des Nations-Unies parce que c'est un organe qui respecte la déclaration universelle des droits de l'homme, autrement dit le diktat du droit. Comme le diktat du droit n'est pas respecté en RDC, nous nous opposons à sa candidature ». Il soutenait cette posture en soulignant des cas « des arrestations arbitraires, détention illégales au-delà du délai défini par la loi, les conditions de détention, etc ». Mais ces actions n'ont pas empêché la RDC d'être élue haut la main, avec 172 voix sur 190 votes possibles, à la grande satisfaction du gouvernement congolais. « Nous saluons cette élection, tout en rappelant aux autorités du pays qu’il s’agit d’une interpellation à plus d’actes concrets dans les programmes de promotion et protection des droits humains », a dit pour sa part Georges Kapiamba, président de l’Association Congolaise pour l’accès à la justice, ACAJ. E de poursuivre, « nous allons observer comment les pouvoirs publics vont exploiter ce mandat pour améliorer davantage la situation des droits de l’homme en RDC, parce qu’à la fin, il sera question de l’évaluer ». À travers cette élection historique, « C'est la RDC qui est de nouveau mise en avant, cette fois-ci dans une sphère où il y avait beaucoup de critiques il y a quelques années. C'est aussi l'occasion de regarder le chemin à parcourir », a pour sa part, souligné le porte-parole du gouvernement, Patrick Muyaya.",
          "La coopération entre la République Démocratique du Congo (RDC) et l’Union européenne dans les efforts de stabilisation de la région des Grands Lacs a été au centre des discussions, mercredi 9 octobre 2024, entre Gracia Yamba Kazadi, vice-ministre des Affaires étrangères de la RDC, et Johan Borgstam, Haut représentant de l’Union européenne dans les Grands Lacs. Cette rencontre s’inscrit dans le cadre des consultations régulières entre les deux parties pour renforcer la paix et la sécurité dans cette zone sensible. Lors de cette réunion, Johan Borgstam a réaffirmé l’engagement de l’Union européenne à soutenir activement les initiatives visant à stabiliser la région, en particulier à travers son appui au processus de Luanda et au processus de Nairobi. Ces deux mécanismes diplomatiques sont au cœur des efforts régionaux pour résoudre les conflits armés et promouvoir la coopération transfrontalière entre les pays de la région des Grands Lacs. “J’ai eu à souligner le soutien de l’Union européenne pour renforcer les efforts de la RDC de maintenir la stabilité dans la région des Grands Lacs et surtout à travers le soutien européen pour le processus de Luanda et le processus de Nairobi”, a déclaré Johan Borgstam à l’issue de la rencontre. Cette coopération avec l’Union européenne est cruciale pour la RDC, qui fait face à des défis sécuritaires persistants, notamment dans l’Est du pays, où plusieurs groupes armés continuent de déstabiliser la région. Le soutien financier et logistique de l’Union européenne dans ces initiatives vise à favoriser une paix durable, essentielle pour le développement économique et la stabilité régionale.    ",
          "Moins tranchants dans le jeu, les fauves congolais ont inscrit l’unique but du match à la 54ème minute après une tête de Chancel Mbemba contre la défense adverse. Après cette nouvelle victoire, la RDC totalise 9 points sur les 9 possibles. Le prochain match est prévu le 15 octobre prochain, contre la Tanzanie à Dar-es-Salam.",
          "La Fédération de la République Démocratique du Congo de Tennis (FRDCT) prend part à l’assemblée générale ordinaire de la Fédération Internationale de Tennis (ITF) à Hong Kong du 9 au 11 octobre. Elle est représentée à ces travaux par son président, l’ingénieur Georges Koshi Gimeya.  Plusieurs points sont à l’ordre du jour ces travaux en allant des finances jusqu’à la proposition de la nouvelle constitution (les statuts). En rapport avec les finances, comme dans ses habitudes, l’ITF a organisé plusieurs compétitions et parrainé plusieurs projets de développement à travers le monde. Ses compétitions phares notamment la Coupe Davis et la Billie Jean King Cup ont généré près de 43 millions de dollars pour l’année 2023. Pour l’année 2024, le budget prévisionnel s’élève à 113.9 millions qui serviront à payer les joueurs, les pays qui prendront part aux tournois et les coûts des épreuves de Coupe Davis.  L’autre point est relatif à la proposition de la nouvelle constitution (statuts) qui offrira plusieurs avantages notamment l’amélioration et la mise à jour de la gouvernance et de la prestation du tennis à travers le monde ; Le renforcement et la présentation explicite des droits et protections offerts aux Fédérations nationales et aux Fédérations régionales ; La facilitation pour les parties prenantes de comprendre le mandat, la structure et la prise de décisions de l’ITF ; L’assurance que la langue et la terminologie utilisée dans la Constitution sont consistantes et claires.  Pour rappel, l’année passée la RDC avait participé à la réélection, pour un 3ème mandat, de l’américain David Haggerty avec des promesses claires de faire participer le continent africain de la manne financière générée pour le développement de la discipline.",
          "Les cheveux sont un symbole de beauté incontestable et c’est la raison pour laquelle nous consacrons beaucoup de temps et d’effort à les entretenir. Visites chez le coiffeur, shampoing adapté, masques capillaires et autres revitalisants… Nous fournissons beaucoup d’efforts pour avoir une chevelure de rêve, brillante et en bonne santé. Mais souvent, nous négligeons le nettoyage de notre brosse à cheveux ? Pourquoi est-il nécessaire de le faire ? Comment procéder et à quelle fréquence ? Explications. Pourquoi est-il important de laver et nettoyer régulièrement sa brosse à cheveux ? On consacre un temps précieux et une attention particulière à choyer nos cheveux, en investissant dans des soins et des produits sophistiqués… Pourtant, un détail important échappe souvent à nos rituels capillaires : le nettoyage de la brosse à cheveux ! Brosser ses cheveux ne se limite pas à démêler les mèches (petit clin d’oeil à ces fameux noeuds qui tiennent tête), c’est aussi un geste essentiel pour répartir le sébum sur l’ensemble de la chevelure, lui offrant ainsi une protection naturelle contre le dessèchement. En plus de cela, il aide à débarrasser vos cheveux des particules de poussière et autres impuretés accumulées tout au long de la journée. Mais attention : une brosse non lavée devient rapidement le nid de ces mêmes impuretés (résidus de produits coiffants, cellules mortes, pollution,…) que vous risquez de déposer sur vos cheveux à chaque brossage. Plutôt frustrant, non ? Alors, pour prolonger l’effet de votre routine capillaire et garantir une chevelure éclatante, un petit rituel de nettoyage s’impose ! En quelques minutes, vous pouvez la purifier et ainsi maintenir l’efficacité de votre routine capillaire. On vous en dit plus… Comment laver et nettoyer ma brosse à cheveux en 3 étapes ? Avouons-le, nettoyer la brosse à cheveux ne figure pas en tête de nos priorités. Pourtant, à force d’accumuler des cheveux et des résidus de produits coiffants, elle finit par devenir un véritable nid à bactéries. Si on prend soin de nos cheveux, on doit également entretenir nos outils de coiffage, n’est-ce pas ? Si vous sentez qu’il est temps de rendre justice à votre routine capillaire, il serait légitime d’offrir un nettoyage profond à cet accessoire négligé afin de maintenir la santé de vos cheveux sur le long terme. Après tout, pourquoi utiliser une brosse sale après avoir pris soin de laver et revitaliser vos cheveux ? La bonne nouvelle, c’est qu’en intégrant ce geste simple à votre routine beauté, il deviendra rapide et presque instinctif. Voici comment procéder, en trois étapes : Étape 1 : Éliminez les cheveux coincés dans la brosse Avant de passer au nettoyage en profondeur, il est crucial de débarrasser votre brosse des cheveux accumulés. Cette étape, simple mais essentielle, permet de rendre le lavage plus efficace et prolonge la durée de vie de votre brosse. Voici comment procéder selon le type de brosse utilisée : Brosses rondes : Les brosses rondes, parfaites pour vos brushings, ont parfois la fâcheuse tendance à emprisonner les cheveux. Voici une petite astuce pour les retirer sans effort : Insérez un peigne à queue ou un objet fin entre les cheveux emmêlés et la base de la brosse ; Soulevez délicatement les mèches à plusieurs endroits pour les détacher sans difficulté ; Si certaines mèches sont trop enroulées, coupez-les délicatement avec de petits ciseaux entre les rangées de poils, puis retirez-les de la brosse. Et voilà, le tour est joué ! Brosses plates : Les brosses plates attrapent rapidement les mèches après chaque brossage. Mais pas de panique, un simple peigne peut tout retirer en un clin d’œil. Voici comment procéder : Insérez un peigne à queue entre les cheveux emmêlés et la base de la brosse ; Soulevez délicatement les cheveux, section par section, jusqu’à ce qu’ils soient complètement retirés ; Retournez la brosse et répétez l’opération de l’autre côté pour vous assurer que tous les cheveux sont bien retirés ; Pour les cheveux coincés entre les dents de la brosse, utilisez la pointe d’un peigne à queue pour les dégager des zones difficiles d’accès. Étape 2 : Lavez la brosse avec de l’eau savonneuse Une fois les cheveux retirés, place au grand nettoyage ! Voici comment faire pour que votre brosse reste impeccable et prête à vous accompagner longtemps : Remplissez un grand récipient avec de l’eau tiède, puis ajoutez-y quelques gouttes de liquide vaisselle en mélangeant jusqu’à obtenir une mousse légère ; Trempez ensuite la brosse dans l’eau savonneuse, en respectant les indications suivantes : Si la brosse est en bois : Évitez de la plonger entièrement dans l’eau, car cela risquerait d’abîmer la finition du bois. À la place, trempez les poils brièvement dans l’eau savonneuse, puis secouez-la doucement pour retirer l’excès d’eau. Si la brosse est en plastique ou en métal : Plongez-la dans l’eau savonneuse et laissez-la tremper pendant environ 3 minutes. Cela aide à dissoudre les résidus de produits coiffants, la poussière et la saleté accumulée. Une fois la brosse trempée, rincez-la soigneusement à l’eau tiède pour éliminer toute trace de savon. Si des résidus subsistent, utilisez une vieille brosse à dents souple pour frotter délicatement les recoins. Enfin, rincez-la à nouveau à l’eau claire pour un résultat impeccable. Et voilà, mission accomplie ! Étape 3 : Séchez la brosse La dernière étape pour redonner à votre brosse toute son efficacité : un bon séchage, en fonction de son type, pour qu’elle vous accompagne encore longtemps : Si la brosse est en bois ou à poils naturels : Placez-la face vers le bas sur une serviette ou suspendez-la pour un séchage optimal. Ainsi, vous protégerez le bois de l’humidité et vous assurerez que les poils naturels restent souples en évitant toute exposition prolongée à l’eau. Si la brosse est en plastique ou en métal : Posez-la face vers le bas sur une serviette propre et laissez-la sécher à l’air libre pendant toute la nuit. Assurez-vous que votre brosse soit bien sèche avant de la réutiliser. Vous ne voudriez pas gâcher votre coiffure avec une brosse encore humide, n’est-ce pas ? À quelle fréquence dois-je nettoyer la brosse à cheveux ? Votre brosse, ce petit chouchou de votre routine capillaire, mérite bien un peu d’attention et un bon nettoyage, n’est-ce pas ? La bonne nouvelle, c’est que vous n’avez pas besoin de le faire tous les jours. En général, un bon nettoyage toutes les deux semaines suffit, surtout si vous êtes une adepte des produits coiffants ou que vous perdez des cheveux lors du brossage. Un indice pour savoir s’il est temps de passer à l’action ? Jetez un œil à votre brosse : Si vous voyez des résidus, des cheveux emmêlés ou une fine couche de poussière, c’est le moment de lui offrir un bain bien mérité. Après tout, des cheveux frais et éclatants commencent par des outils bien entretenus ! Quand faut-il remplacer votre brosse à cheveux ? Même avec un bon nettoyage et un entretien régulier, il arrive un moment où votre brosse à cheveux mérite une retraite. Une brosse de qualité peut durer des années, mais certains signes ne trompent pas. Lorsque les poils sont usés, déformés ou que, malgré tous vos efforts, elle ne semble plus vraiment propre, il est temps de la remplacer. Par ailleurs, si votre brosse a plus de cinq ans, c’est peut-être le moment idéal pour un nouveau départ. Les nouvelles technologies en matière de brosses pourraient bien transformer votre routine capillaire. Comment garder une brosse à cheveux propre plus longtemps ? Maintenir une brosse à cheveux impeccable n’est pas seulement une question de nettoyage régulier, c’est aussi une question de prévention. Avec ces conseils pratiques, votre routine capillaire sera plus facile et vos cheveux plus brillants que jamais : Utilisez moins de produits coiffants : Moins de produit signifie moins d’accumulation dans votre brosse, et des cheveux plus légers aussi ! Nettoyez votre brosse avec du vinaigre blanc : Un mélange d’eau tiède et de vinaigre blanc vous aidera à éliminer efficacement les résidus et à garder votre brosse propre plus longtemps. Changez de brosse ou de méthode pour les jours « cheveux gras » : Évitez d’utiliser votre brosse habituelle quand vos cheveux sont gras ou en manque de fraîcheur ; Retirez les cheveux après chaque utilisation : Un geste simple qui fait toute la différence pour garder votre brosse impeccable plus longtemps.",
          "Cet événement a pour thème central : « les questions d’actualité relatives aux droits de l’homme et à la protection de la santé ». L’objectif principal de cette conférence annuelle est de favoriser l’échange et le partage d’expériences entre les Institutions nationales des droits de l’homme (INDH) des pays collaborant avec la structure russe. Cela permet non seulement de renforcer les capacités des INDH, mais aussi d’aborder des problématiques contemporaines liées aux droits humains. Paul Nsapu, président de la CNDH-RDC, a souligné l’importance de cette rencontre visant à établir des «  ». La participation de la CNDH à cet événement souligne l’engagement de la RDC envers les droits humains et son désir d’améliorer les conditions de vie et de santé de ses citoyens. Cela reflète également une volonté d’intégration dans un réseau international qui promeut les valeurs fondamentales des droits humains. Cette initiative représente une étape significative pour la RDC dans sa quête d’amélioration des droits humains et montre son ouverture à collaborer avec d’autres nations sur des questions cruciales. La CNDH continue ainsi son travail pour défendre et promouvoir les droits fondamentaux au sein du pays.",
          "D’après l’assemblée nationale congolaise, les deux dirigeants ont abordé la diplomatie parlementaire, soulignant l’importance d’une collaboration renforcée entre les institutions des deux pays. Cette rencontre vise à poser les bases d’une coopération plus étroite dans divers domaines. La situation sécuritaire à l’Est de la RDC a également été au cœur des discussions. Vital Kamerhe a exposé les défis actuels et a sollicité le soutien de la France pour stabiliser cette région en proie à des conflits persistants. Cette rencontre s’inscrit dans une volonté commune de renforcer les liens entre la France et la RDC, tout en favorisant un dialogue constructif sur des enjeux régionaux et internationaux.",
          "octobre 10, 2024 Foot – Éliminatoires CAN 2025 : Troisième victoire de suite pour la RDC Par :    La rédaction \n \n \n Kinshasa, 10 Octobre 2025 – Les victoires s’enchaînent pour les Léopards de la RDC aux éliminatoires de la CAN 2025. Ce jeudi, les fauves congolaises ont arraché une petite victoire (1-0) face à la Tanzanie au stade des martyrs pour le compte de la 3è journée. Dans cette partie très serrée, l’unique réalisation est intervenue quelques minutes après le retour des vestiaires, soit à la 53è. Après un corner, le coup de casque du capitaine des Léopards, Chancel MBEMBA, a été percuté au 2è poteau par l’avant centre des Taifas Stars, Mzize, et a fini sa course au fond du filet. La RDC entre dans sa meilleure série dans l’histoire des éliminatoires d’une CAN en étant invaincue lors de ses 7 derniers matchs (7 victoires). En outre, non seulement cette 3è victoire de rang installe confortablement les congolais en tête de leur groupe avec 9 points, mais permettent aussi aux protégés de Sébastien Desabre d’augmenter leur chance de qualification pour la prochaine CAN. En face, la Tanzanie se met en danger à la 2è marge avec ses 4 points. La prochaine journée (4è) mettra aux prises encore les deux nations à Dar Es Salem. L’autre rencontre du même groupe pour le compte de la 3è compte est prévue ce samedi 12 octobre entre l’Éthiopie, 3è avec 1 point et la Guinée, bon dernier avec 0 point. Roland MAKIESE",
          null
         ],
         "marker": {
          "opacity": 0.5,
          "size": 5
         },
         "mode": "markers+text",
         "name": "1_congolaise_république démocratique_conseil droits",
         "text": [
          "",
          "",
          "",
          "",
          "",
          "",
          "",
          "",
          "",
          "",
          "",
          "",
          "",
          "",
          "",
          "",
          "",
          "1_congolaise_république démocratique_conseil droits"
         ],
         "textfont": {
          "size": 12
         },
         "type": "scattergl",
         "x": [
          10.620224,
          10.525184,
          13.682875,
          13.583808,
          10.68581,
          10.564859,
          13.808175,
          10.978336,
          10.504817,
          10.619248,
          13.959162,
          10.838483,
          10.598385,
          10.778609,
          13.815093,
          13.705372,
          10.825915,
          11.770256
         ],
         "y": [
          -0.16261774,
          -0.44475892,
          0.066471,
          0.11238324,
          -0.5058163,
          -0.53998935,
          -0.060686138,
          -1.3276109,
          -0.55619663,
          -0.20595562,
          -0.0058042197,
          -1.20151,
          -0.9286413,
          -0.2764087,
          -0.16442437,
          -0.18861249,
          -1.2071065,
          -0.44689912
         ]
        },
        {
         "hoverinfo": "text",
         "hovertext": [
          "Le rapatriement de la dépouille mortelle de l’étudiante Alexandra Diengo Lumbayi de l’Université de Québec au Canada, a fait objet d’un échange mercredi 9 octobre 2024 à Kinshasa entre la vice-ministre des Affaires étrangères, Gracia Yamba Kazadi, et l’ambassadrice du Canada en RDC. « Nous avons discuté de l’enquête policière qui progresse et des prochaines étapes, le rapatriement. Donc, mon rôle comme ambassadrice de Canada ici en RDC, et le rôle de l’ambassadeur de la RDC à Otawa est pour faciliter le rapatriement le plus rapidement en RDC. C’est vraiment triste », a déclaré Maryse Guilbeault, ambassadrice du Canada en RDC, au sortir de l’audience. Invité à cette rencontre, Francis Djondo, l’oncle de l’illustre disparue, a salué l’implication et le soutien indéfectible des autorités du pays dans ce dossier. « Nous tenons, de prime abord, à remercier le Chef de l’Etat, qui, au moment où il a appris la nouvelle de notre fille, a dépêché sa conseillère spéciale, Mme Chantale Mulop, pour avoir de nos nouvelles. Nous tenons également à remercier l’ambassadeur de la RDC au Canada qui nous a assisté et qui, depuis le Canada, ne cesse de nous appeler et de nous apporter son soutien », a-t-il souligné. « A peine, nous venons de rencontrer la vice-ministre des Affaires étrangères qui nous a reçu. Vous comprendrez que la famille souffre parce que c’est notre fille, c’est notre enfant, c’est notre sœur. Mais c’est un problème d’Etat parce que c’est une citoyenne congolaise qui est allée pour étudier au Canada qui y a trouvé une mort atroce », a ajouté M. Djondo. Portée disparue depuis le mercredi 02 octobre 2024, l’étudiante congolaise de l’Université du Québec, Alexandra Diengo Lumbayi, a été retrouvée sans vie, le mardi 08 octobre de l’année en cours. En réponse à certaines rumeurs concernant le colocataire de la défunte, la police a affirmé qu’il n’existe actuellement aucune preuve impliquant ce dernier dans l’affaire.    ",
          "Rafael Nadal a annoncé ce jeudi 10 octobre 2024 dans une vidéo postée sur les réseaux sociaux qu'il mettra fin à sa carrière le mois prochain, à l'issue de la phase finale de la Coupe Davis. La Coupe Davis sera sa dernière compétition. La légende du tennis et ancien numéro un mondial Rafael Nadal a annoncé jeudi 10 octobre sa retraite sportive, après la finale de la Coupe Davis avec l'Espagne, prévue du 19 au 24 novembre à Malaga. \"Je suis ici pour vous dire que je quitte le tennis professionnel\", a déclaré dans une vidéo diffusée sur son compte X le joueur âgé de 38 ans, ajoutant toutefois qu'il était \"enthousiaste\" à l'idée de conclure en disputant cette finale de Coupe Davis, dans son pays. Évoquant ses grandes difficultés physiques ces deux dernières années, il a toutefois précisé qu'il disputerait encore une dernière compétition, à savoir la finale de la Coupe Davis prévue à Malaga. \"Je suis très enthousiaste à l'idée que mon dernier tournoi sera la finale de Coupe Davis, et d'y représenter mon pays\", a indiqué le Majorquin. \"Je pense que c'est une façon de boucler la boucle quand l'une de mes premières grandes joies comme joueur professionnel fut la finale\" de cette compétition, remportée en 2004 à Séville, a-t-il ajouté. Au cours des deux dernières décennies, l'Espagnol a archi-dominé le tennis mondial avec ses deux grands rivaux, Roger Federer et Novak Djokovic, totalisant à eux trois 66 titres du Grand Chelem. Rafael Nadal est surtout le maître absolu sur la terre battue, remportant à 14 reprises Roland-Garros. S'il avait décliné un hommage après son élimination précoce lors de l'édition 2024 au printemps, l'Espagnol avait été retenu parmi les derniers porteurs de flamme lors de la cérémonie des JO de Paris le 26 juillet, témoignage de son aura Porte d'Auteuil, où sa statue trône déjà. Du trio légendaire, il est le deuxième à prendre sa retraite après Roger Federer en 2022, à 41 ans. Le dernier match du Suisse en Laver Cup à Londres avait d'ailleurs vu les deux joueurs, complices, en pleurs, côte à côte. Seul reste Novak Djokovic, 37 ans, qui détient le plus grand nombre de titres du Grand Chelem (24). Le Serbe a toutefois connu à son tour une année 2024 délicate, marquée par des soucis physiques, ne remportant aucun Majeur face à la montée en puissance de la jeune garde, l'Italien Jannik Sinner et l'Espagnol Carlos Alcaraz. Champion olympique à Paris, il occupe néanmoins toujours la 4e place mondiale et dispute actuellement le Masters 1000 de Shanghai.    ",
          "À 48 heures de la date marquant le décès de papa Simon Kimbangu, survenu le 12 octobre 1951 à Élisabethville actuelle Lubumbashi, différentes associations des culturels ont tenu une conférence de presse, ce jeudi 10 octobre pour honorer la mémoire du père de la doctrine du kimbaguisme. Selon le collectif des cultures, papa Simon Kimbangu est un patrimoine international qui doit être célèbré par tous les congolais dans sa diversité religieuse. \" Nous réitérons notre attachement à la doctrine du kimbanguisme dont la devise est : l'amour, le travail et la paix. Heritage doctrinal légué par la sainte trinité que sont papa Kisolokele lukelo charles daniel, papa Dialungana KIangani Salomon et papa Diangienda Nkutima Joseph. Sur ce, nous demandons à l'opinion tant nationale qu'internationale et en particulier au peuple congolais d'observer une pensée pieuse à la date du 12 octobre 2024\", a déclaré le collectif des associations des culturels. Pour les culturels congolais, il était important d'honorer papa Simon Kimbangu car la culture marche de paire avec la spiritualité et surtout dans le souci de préserver les valeurs et traditions africaines basées sur le respect des ancêtres et héros qui ont marqué de manière positive l'humanité de manière générale et l'Afrique en particulier. \" Il est de stricte rigueur que le respect des symboles, dans nos sociétés, est fondamental pour la cohésion des peuples et le vivre ensemble \", ont-ils martelé. Rappelons que papa Simon Kimbangu a été emprisonné à Élisabethville où il a également trouvé la mort physique le 12 octobre 1951. C'est à la même date qu'est né également son petit-fils papa Kimbangu Kiangani l'actuel chef spirituel de l'église Kimbaguiste.  ",
          "L'Administrateur délégué de l'hôpital Biamba Marie Mutombo organise une cérémonie en hommage au Chairman Mutombo Dikembe, décédé le 30 septembre 2024 à Atlanta, aux États-Unis. La cérémonie se déroule à l'espace STARKY selon un programme bien établi. Du mercredi 9 octobre 2024 à 14h00 au samedi 12 octobre 2024, mise à disposition du registre des condoléances pour tous. Vendredi 11 octobre, veillée du personnel à l'hôpital. Samedi 12 octobre, 18h00 projection en direct des obsèques à Atlanta et transmission des images de recueillement du personnel de l'hôpital de Kinshasa vers Atlanta. Ensuite, il y aura un bain de consolation qui marquera la fin de cérémonie. Jacques Mpoy Louman, Administrateur délégué de l'hôpital Biamba Marie Mutombo, témoigne que \"nous avons fait beaucoup de choses avec Mutombo Dikembe. Et cela reste gravé dans nos souvenirs. Nous n'avons pas de mots pour exprimer notre douleur, car les plaies saignent de l'intérieur.  Le programme tracé est maintenu, et sera respecté jusqu'au bout. Le registre des condoléances est là, tout le monde peut passer rendre hommage à l'illustre disparu\", a-t-il conclu.    ",
          "Une veillée mortuaire est prévue vendredi 10 octobre, à l’esplanade du Palais du Peuple, à Kinshasa, en République Démocratique du Congo, en mémoire de l’ancien basketteur international congolais, Jean-Jacques Mutombo Dikembe, dont l’enterrement est annoncé, ce samedi, aux Etats-Unis d’Amértique, a appris l’ACP, mercredi 9 octobre 2024, du ministère des Sports. « Mutombo Dikembe sera inhumé le samedi 12 octobre 2024, à Atlanta, dans l’état de la Philadelphie, aux États-Unis. A Kinshasa, une veillée mortuaire sera organisée à l’esplanade du palais du Peuple à Kinshasa le vendredi 11 octobre, au cours de laquelle sera exposé un livre d’or pour recueillir les témoignages de ceux qui ont vécu, en témoins oculaires, les exploits du phénomène Mutombo Dikembe, l’ancienne célébrité du basketball mondial », a déclaré Bethy Mbonda, membre de la cellule de communication du ministère des Sports de la RDC. Les membres de la famille biologique de l’ancienne gloire de la NBA, qui fait partie de la délégation officielle du gouvernement congolais, attendue aux Etats-Unis d’Amérique pour ces funérailles, a été reçue, mardi, par le Ministre des Sports et loisirs, Didier Budimbu, qui a tenu à la rassurer sur la ferme volonté et la détermination du gouvernement national, à rendre des hommages dignes de ce nom, à la hauteur de la grandeur de celui qui a longtemps inspiré la jeunesse congolaise et mondiale à travers sa riche carrière professionnelle de basketteur. Selon la source, Me Didier Budimbu a également rappelé l’engagement de l’état congolais à immortaliser la mémoire de cette légende, par la débaptisation, d’un des stadium de basketball construit au stade des Martyrs, au nom de Mutombo Dikembe qui, lui, sera également décoré, à titre posthume, par la RDC.    ",
          "Considérant les mérites exceptionnels de l’intéressé, le gouvernement de la République Démocratique du Congo a annoncé ce mardi l’admission à titre posthume de M. Mutombo Mpolondo Dikembe Jean-Jacques, plus connu sous le nom de Dikembe Mutombo, dans l’Ordre National « Héros Nationaux » Kabila-Lumumba, au grade de Grand Officier. Cette distinction, l’une des plus prestigieuses du pays, récompense l’engagement et l’impact de Mutombo, tant sur le plan sportif qu’humanitaire. Dikembe Mutombo, figure emblématique de la NBA et quadruple lauréat du titre de meilleur défenseur de la ligue, est décédé à l’âge de 58 ans des suites d’un cancer du cerveau. Né à Kinshasa, le pivot congolais s’est imposé comme l’un des plus grands défenseurs de l’histoire du basketball. Reconnu pour son emblématique “Mutombo Finger Wag” – ce geste de défi consistant à agiter son doigt après un contre réussi – il a laissé une empreinte indélébile dans l’univers de la NBA, avec un total de 3.289 blocks, le plaçant au deuxième rang des meilleurs contreurs de l’histoire de la ligue. Durant ses 18 années de carrière, Mutombo a porté les couleurs de plusieurs équipes prestigieuses, notamment les Denver Nuggets, les Atlanta Hawks, les Philadelphia 76ers, les New Jersey Nets, les New York Knicks, et enfin les Houston Rockets, où il a pris sa retraite en 2009. Sélectionné à huit reprises pour le All-Star Game, il a mené les Sixers et les Nets aux finales de la NBA en 2001 et 2003, bien que ses équipes n’aient pas réussi à décrocher le titre. Au-delà de ses prouesses sportives, Mutombo était reconnu pour son engagement humanitaire. Fervent défenseur des causes sociales en Afrique, il a joué un rôle déterminant dans de nombreux projets caritatifs, notamment avec la construction de l’hôpital Biamba Marie Mutombo à Kinshasa. En sa qualité d’ambassadeur mondial de la NBA, il a utilisé sa notoriété pour promouvoir la santé et l’éducation en Afrique, devenant une figure inspirante pour des millions de personnes. Cette admission à titre posthume dans l’Ordre National « Héros Nationaux » Kabila-Lumumba souligne l’importance de l’héritage laissé par Mutombo, non seulement en tant que joueur, mais aussi en tant qu’homme dévoué au bien-être de son pays et de son continent.",
          "La vice-miinistre des Affaires étrangères a reçu en début de la soirée d’hier mercredi 09 octobre successivement l’ambassadrice du Canada en RDC, Maryse Guilneault et la famille d’Alexandra Marlène Diengo Lumbayi. Avec l’Ambassadrice, les deux personnalités ont échangé sur les possibilités de poursuivre les enquêtes au niveau du Québec pour connaitre les circonstances du décès tragique de l’étudiante de 21 ans disparue depuis 7 jours et retrouvée sans vie le 08 octobre au Canada là où elle habitait pour des raisons d’études. » Nous avons abordé le cas de l’étudiante congolaise dont le corps était sans vie, la progression des enquêtes et facilité les démarches pour le rapatriement du corps de cette Congolaise décédée dans des circonstances tragiques« , s’est confiée à la presse Maryse Guilbeault. La vice-ministre des Affaires étrangères s’est ensuite entretenu avec la famille de la défunte pour lui annoncer la décision du gouvernement concernant la prise en charge du rapatriement du corps de la jeune fille. Son oncle a remercié le Président Félix Tshisekedi pour son attention depuis que l’alerte était lancée le week-end par la mère de la défunte sur les réseaux sociaux. Âgée de 21 ans, Alexandra Martine Diengo Lumbayi était étudiante à l’Université du Québec dans la ville de Trois-Rivières (UQAT). Elle a été déclarée portée disparue le 2 octobre 2024. Lors des recherches par la police québécoise et les proches de la disparue, une babouche et un bracelet qui lui appartiendraient, ont été retrouvés dans un parc à l’île Saint-Quentin, où elle a été vue pour la dernière fois le jour même de sa disparition aux environs de 16h11. Des images de vidéosurveillance récupérées par la police montrent la jeune femme déposée par son colocataire à l’entrée du chemin de l’île Saint-Christophe, où des cris d’au secours auraient été entendus.  ",
          "L'inhumation de 11 corps identifiés des habitants de la ville de Goma, victimes du naufrage du bateau MV MERDI sur le lac Kivu depuis une semaine,  a eu lieu ce jeudi 10 octobre au cimetière Makao, dans le territoire de Nyiragongo. Les cérémonies d’hommage ont eu lieu à l'esplanade de l’unité de Goma en présence du gouverneur du Sud-Kivu, Jean Jacques Purusi, du vice gouverneur du Nord-Kivu, le commissaire divisionnaire Jean Romuald Lipopo, des membres des familles victimes et de nombreux habitants. Peu avant de convoyer les corps des victimes vers leurs dernières demeures, les deux autorités provinciales ont indiqué que les recherches se poursuivent sur le lac Kivu en vue de tenter de repêcher l’épave du bateau avec plusieurs disparus à son bord.  Émoi, émotions, colère... voilà l'image qu'on pouvait lire sur les visages des personnes venues assister aux cérémonies d’au revoir à 11 personnes tuées lors du naufrage du bateau.  Les 23 corps déjà identifiés des habitants de la province voisine du Sud-Kivu, d’où provenait l’embarcation, seront mis en terre, samedi 12 octobre prochain. Les travaux d’aménagement des sites d’inhumation se poursuivent encore à Minova, Bweremana et ailleurs.  À la veille de l’inhumation des victimes de Goma, la levée des corps de la morgue de l’hôpital provincial du Nord-Kivu a été perturbée par des membres des familles dont les corps n'ont toujours pas encore été retrouvés. Lors de la réunion de mise en commun, mercredi soir, avec les membres des familles dont les corps ont été retrouvés pour inhumation, la ministre des affaires sociales, Nathalie Aziza Munana, a rappelé tout un chacun à prendre ses responsabilités.  Le bilan provisoire de ce drame reste à ce jour d'au moins 34 corps repêchés, 80 rescapés, plusieurs dizaines des disparus ainsi que des marchandises.   ",
          "Depuis la disparition, mercredi 2 octobre, de l'étudiante congolaise de l'Université de Québec, Alexandra Lumbaya, jusqu'à la découverte de son corps sans vie, dans une rivière, le mardi 8 du même mois, les réactions teintées de colère, de choc et de consternation ne cessent de pleuvoir. La dernière réaction en date est celle de Prince Epenge, président national du parti politique ADD/Congo. Ce porte-parole de Lamuka soutient que \"la découverte dans une rivière du corps de la jeune étudiante congolaise, Alexandra Nzambe, au Canada, est un choc qui nous secouera à jamais\". Au nom de Lamuka, principale plateforme politique de l'opposition, Prince Epenge dit tirer, à partir de ce qu'il qualifie d'assassinat de Alexandra Nzambe au Canada, les leçons de l'abandon par Kinshasa des compatriotes congolais vivant à l'étranger. \"En Virginie [États-Unis d'Amérique] où je me trouve, j'ai senti une forme d'abandon des Congolais d'ici [de la diaspora]\", s'est indigné Prince Epenge. Le président national de l'ADD/Congo estime que \"toute la lumière doit être faite\" sur les circonstances de ce drame, et exige à la RDC -République démocratique du Congo- de \"jouer son premier rôle, celui de protéger ses filles et fils partout\". Prince Epenge n'a pas manqué de présenter ses \"condoléances\" à la \"famille\" de Alexandra Nzambe, à \"sa maman et aux Congolais\".",
          "‘ »Kabila-Lumumba au grade de Grand Officier, M. Mutombo Mpolondo Dikembe Jean-Jacques », a écrit Tina Salama, porte-parole du chef de l’État sur son compte X. Natif de Kinshasa, le légendaire Basketteur de la NBA, Dikembe Mutombo, est décédé à l’âge de 58 ans le lundi 30 septembre des suites d’une tumeur au cerveau.",
          "Alors que l'état de santé du plus ancien Chef d'État africain fait couler beaucoup d'encre et de salive, ainsi que d'incertitudes alimentant les spéculations, Réné Emmanuel Sadi, porte-parole du Gouvernement camerounais a, via un communiqué officiel, tenu à briser le tabou du silence et éclairer la lenterne, sur les folles rumeurs qualifiées de fantasme et de pure imagination des détracteurs du pouvoir. Après plusieurs semaines de silence généralisé, le Gouvernement a, enfin, décidé de démentir les rumeurs qui circulent dans l'opinion sur la maladie, pire encore, le décès du Président Paul Biya. Selon le Gouvernement camerounais, Paul Biya se serait rendu en Suisse, pour des raisons de séjour familial en ses habitudes, où il a été photographié en pleine forme, aux cotés de Xi-Xinping, le Président de la République chinoise, quelques semaines plutôt. Ces rumeurs, selon le Gouvernement camerounais, constituent de fausses informations, dont l'origine est une télévision américaine à obédience favorable à la région indépendantiste camérounaise. Âgé de 91 ans, Paul Biya est Président du Caméroun depuis 1982, soit 42 ans de règne sans partage. Il a été annoncé mort sur les réseaux sociaux par les internautes. Paul Biya est absent du pays des Lions indomptables depuis plusieurs semaines, et sa santé inquiète l'opinion, alors qu'il est annoncé possible candidat à l'élection présidentielle d'octobre 2025 prochain, pour briguer un septième mandat.",
          "Un compromis a été trouvé mercredi 9 octobre entre les autorités du Nord et Sud-Kivu et les familles des victimes du naufrage du MV Merdi, survenu le 3 octobre dernier au large du lac Kivu. Ces familles qui réclamaient du Gouvernement l’autorisation de récupérer leurs corps afin d’organiser des obsèques dignes dans leur milieu d’origine, avaient organisé un mouvement de protestation mercredi dans la matinée devant la morgue de l’hôpital général de Goma, alors que les autorités avaient mis à leur disposition un terrain pour ériger un cimetière commun à Minova.   Dans une déclaration faite devant ces familles à l’hôpital général de Goma mercredi après-midi, le gouverneur du Sud-Kivu, Jean-Jacques Purusi a indiqué que les familles qui veulent récupérer les corps de leurs proches sont autorisées à le faire en vue d’organiser l’enterrement. Il a même affirmé que tous les corps qui doivent être inhumés au Sud-Kivu seront rapatriés vendredi 11 octobre, avec le financement du gouvernement provincial. « Il y a eu un processus d’identification des corps qui a déjà été amorcé, donc les corps qui sont sollicités par les familles sont certifiées appartenir aux familles en question. Je suis ravi de savoir que les familles sont soulagées de savoir qu’elles peuvent maintenant les récupérer pour aller les enterrer dignement parce qu’il y a certaines qui affirment avoir des moyens pour enterrer les leurs selon les rites, les traditions et la sensibilité familiale », a fait savoir le gouverneur du Sud-Kivu. Jean-Jacques Purusi a également indiqué que son gouvernement s’est procuré un terrain à Minova où toutes les victimes seront inhumées au frais du gouvernement, qui promet également de tout prendre charge pour soutenir les familles.   « Les frais d’achat de cercueils, les frais de manipulation des corps, les de transport de ces corps sont déjà mobilisés », a ajouté le gouverneur du Sud-Kivu.    ",
          null
         ],
         "marker": {
          "opacity": 0.5,
          "size": 5
         },
         "mode": "markers+text",
         "name": "2_mutombo dikembe_mercredi octobre_mutombo",
         "text": [
          "",
          "",
          "",
          "",
          "",
          "",
          "",
          "",
          "",
          "",
          "",
          "",
          "2_mutombo dikembe_mercredi octobre_mutombo"
         ],
         "textfont": {
          "size": 12
         },
         "type": "scattergl",
         "x": [
          8.781259,
          8.067645,
          7.4871492,
          7.6355176,
          7.666973,
          7.828382,
          8.648799,
          8.407283,
          8.60442,
          7.712531,
          7.918014,
          8.515822,
          8.10615
         ],
         "y": [
          -4.0255275,
          -4.965256,
          -5.484572,
          -5.3422065,
          -5.321824,
          -5.1558623,
          -4.2245665,
          -4.517072,
          -4.27135,
          -5.255764,
          -5.1571383,
          -4.371509,
          -4.8410544
         ]
        },
        {
         "hoverinfo": "text",
         "hovertext": [
          "La cérémonie du lancement officiel de cette campagne a été présidée, mercredi 09 octobre dernier, par le vice-gouverneur, Célestin Kayembe, en présence des partenaires techniques et financiers ainsi que plusieurs personnes. Cette campagne, qui va s’étendre sur 3 jours, soit du 10 au 12 octobre 2024, vise à vacciner plus d’un million d’enfants de 0 à 59 mois dans les 16 zones de santé que compte la province, a fait savoir Jean-Pierre Basake, chef de Division provinciale de la santé de Lomami. Dans son adresse, le gouverneur intérimaire a exhorté les parents et gardiens d’enfants de faciliter les agents de santé qui passeront de porte-à-porte afin de vacciner leurs enfants.",
          "À l’occasion, l’autorité provinciale et les autorités sanitaires ont lancé plusieurs messages de sensibilisation aux parents pour faire vacciner leurs enfants, tout en précisant que la stratégie adoptée par les vaccinateurs est de porte-à-porte. Rappelons que sur 574 cas confirmés de poliomyélite en RDC depuis l’année 2021, la province du Maniema a enregistré 84 cas.",
          "La province du Kwilu continue d’enregistrer les cas de Mpox. Depuis la déclaration de l'épidémie en 2024, 220 cas ont été notifiés dont 9 décès. Le Ministre provincial de la santé, Arnold Kapalati précise que certains cas ont été guéris grâce à la prise en charge organisée dans les structures de santé.  Kwilu ne figure pas parmi les provinces devant débuter les activités vaccinales. Le Ministre provincial de la santé a, lors d'une interview à la presse, invité la population au respect des règles d'hygiène et à signaler tout cas suspect pour une prise en charge à temps. La prison centrale de Kikwit est le milieu sensible affecté par cette maladie avec trois cas recensés. Dans la zone de santé de Mokala, un infirmier est mort suite au manque d'équipements de protection, après la prise en charge d'un patient présentant les signes de la maladie. ",
          "La zone de santé de Mambasa, dans la province de l'Ituri a notifié jusqu’à ce jour six cas suspects de Mpox dont les échantillons ont été envoyés pour examen à l’Institut national de recherche biomédicale (INRB) Kinshasa, a annoncé le commissaire supérieur principal Jean-Baptiste Matadi Munyapandi, administrateur du territoire de Mambasa. Face à cette situation et menace, il a appelé la population à une prise de conscience pour se protéger et protéger ses proches contre cette maladie.  Et d'ajouter qu'”ensemble nous pouvons stopper la propagation de Mpox en respectant les mesures préventives”. Le territoire de Mambasa se retrouve dans une forêt où plusieurs espèces d'animaux s'y trouvent dont le singe. Les résultats de l'INRB vont déterminer si la province de l'Ituri fait partie des entités touchées par le Monkeypox.",
          "Au moins 47.911 personnes sont attendues pour la vaccination contre le Mpox dans la province du Sud-Kivu. C'est ce qu'a révélé le ministre provincial de la santé Théophile Walulika au cours de l'opération de lancement de la campagne de vaccination au Sud-Kivu le dimanche 6 octobre dernier dans la zone de santé de Miti-Murhesa à Kabare. C’est la zone de santé la plus touchée par l’épidémie, au moins sept enfants sont déjà morts. Pour le directeur de cabinet du ministre national de la santé, l'essentiel est surtout la prévention. Il a également invité les habitants à ne pas se laisser manipuler par les fausses informations qui peuvent les décourager. En RDC, la province du Sud-Kivu est considérée comme l'épicentre avec la zone de santé de Kamituga la plus touchée, suivie de Nyangezi et Miti-murhesa et sont concernées par la vaccination.",
          "La quatrième phase de la campagne de vaccination contre la poliomyélite a été lancée mercredi 9 octobre à Inongo, dans la province de Maï ndombe.  Au total 457. 201 enfants de zéro à cinquante-neuf mois seront vaccinés du 10 au 12 octobre à travers les 14 zones de santé. Le lancement de la campagne a été fait par le gouverneur de province, Nkoso Kevani Lebon dans la commune de Mpolo Maurice.  Les équipes de vaccination vont passer de porte à porte afin d'atteindre les enfants ciblés. ",
          null
         ],
         "marker": {
          "opacity": 0.5,
          "size": 5
         },
         "mode": "markers+text",
         "name": "3_campagne vaccination_vaccinales ministre_vaccinateurs porte",
         "text": [
          "",
          "",
          "",
          "",
          "",
          "",
          "3_campagne vaccination_vaccinales ministre_vaccinateurs porte"
         ],
         "textfont": {
          "size": 12
         },
         "type": "scattergl",
         "x": [
          1.9437869,
          2.1108444,
          1.8587369,
          1.6713474,
          1.793473,
          1.9334395,
          1.8852714
         ],
         "y": [
          3.147035,
          3.2698991,
          3.1002119,
          2.8667734,
          3.1530654,
          3.1163125,
          3.108883
         ]
        },
        {
         "hoverinfo": "text",
         "hovertext": [
          "Les Kényans ont réagi mercredi 9 octobre 2024 après que le Parlement a voté à une écrasante majorité la destitution du vice-président du pays. Les législateurs kenyans ont approuvé mardi une motion de destitution du vice-président du pays, à l'issue d'une journée de discussions et après que Rigathi Gachagua a comparu devant le Parlement pour se défendre contre plusieurs accusations, notamment les allégations selon lesquelles il aurait soutenu des manifestations antigouvernementales en juin. La motion a été approuvée par 281 voix contre 44 en faveur de la destitution, soit bien plus que les 117 voix requises par la Constitution. La motion est maintenant transmise à la chambre haute du Parlement, qui débattra de la question et procédera également à un vote. Rose Mueni, une habitante de Nairobi, a déclaré que les allégations contre M. Gachagua « ne constituent pas une base pour la destitution ». « Ce ne sont que des jeux politiques, car si vous écoutez attentivement, il y a beaucoup de politiciens qui ont commis des erreurs plus graves que celles du vice-président », a ajouté Mme Mueni. John Mwangi, un habitant de Nairobi, a déclaré que la destitution n'apportait pas beaucoup de valeur ajoutée aux Kenyans, car il a ajouté que le président et le vice-président étaient tous deux censés être destitués. Pour que la destitution soit définitive, elle devra être soutenue par les deux tiers des sénateurs de la chambre haute. On ne sait pas encore quand ce vote aura lieu. En vertu de la constitution kenyane, la destitution est automatique si elle est approuvée par les deux chambres, mais M. Gachagua peut contester l'action en justice, ce qu'il a déclaré vouloir faire. Le vice-président est également accusé d'être impliqué dans des affaires de corruption et d'autres irrégularités. Il nie toutes les accusations portées contre lui. Le débat autour de son sort s'est étendu au-delà du Parlement - les partisans et les opposants de la motion se sont affrontés la semaine dernière dans des forums publics après que l'alliance au pouvoir a présenté la motion au Parlement.    ",
          "Le candidat républicain à la Maison Blanche Donald Trump a exclu mercredi de participer à un autre débat face à sa rivale démocrate Kamala Harris. Dans la journée, il a multiplié ses attaques en Pennsylvanie contre la vice-présidente face à des foules acquises à sa cause. Donald Trump a définitivement exclu mercredi 9 octobre d'affronter Kamala Harris lors d'un nouveau débat et a redoublé d'attaques contre sa rivale démocrate lors de meetings en Pennsylvanie, à un mois de l'élection présidentielle aux États-Unis. \"Il n'y aura pas de match retour !\", a écrit le milliardaire républicain sur son réseau, Truth Social, malgré les propositions des chaînes CNN et Fox News de diffuser un face-à-face entre les deux candidats. \"Kamala a clairement déclaré hier qu'elle ne ferait rien de différent de Joe Biden, il n'y a donc pas lieu de débattre\", a-t-il ajouté. Le tribun avait été déstabilisé par la vice-présidente lors de leur unique duel télévisé le 10 septembre, selon la plupart des observateurs. Kamala Harris avait titillé son ego sur de nombreux sujets – la participation à ses meetings, les désaffections de ses anciens alliés politiques, sa réputation internationale –, l'empêchant de développer sa vision pour le pays. Donald Trump répète toutefois a l'envi qu'il a remporté ce débat. Après de multiples reculades, il met fin au suspense. \"Film d'horreur absolu\" Mercredi, l'ancien président a préféré dérouler ses attaques contre Kamala Harris face à des foules acquises à sa cause en Pennsylvanie, État du Nord-Est qui s'annonce comme l'un des plus disputés de la présidentielle. \"Elle est incompétente, on ne peut pas lui faire confiance et elle est totalement incapable d'être présidente\", a-t-il tancé lors d'un meeting à Scranton, la ville natale de son successeur à la Maison Blanche, Joe Biden. Sur les terres du président démocrate, qu'il avait largement dominé lors de leur débat fin juin, le républicain a qualifié son ex-adversaire d'homme \"pathétique\" et \"triste\". \"Notre pays vient de subir quatre années d'un film d'horreur absolu, nous ne pouvons pas nous permettre quatre ans de plus\", a-t-il martelé, reprenant sa vision sombre d'une Amérique au bord du gouffre. À Reading, une autre ville de Pennsylvanie, le tribun a pilonné Kamala Harris, avec de violentes diatribes antimigrants. \"Kamala (...) a passé les quatre dernières années à importer des criminels, des réfugiés non contrôlés et des terroristes dans notre pays\", a-t-il lancé, mentant une fois de plus sur les statistiques officielles. \"Je libérerai la Pennsylvanie et l'ensemble de notre pays de cette invasion massive.\" La colère liée au déclin industriel de la Pennsylvanie avait été une des clés de la victoire de Donald Trump en 2016. Mais en 2020, c'est Joe Biden qui l'avait emporté sur le fil dans cet État. Pour reconquérir les ouvriers locaux, Kamala Harris compte sur les grands projets d'infrastructures lancés par Joe Biden, créateurs d'emploi, et le soutien de syndicats. Elle a également changé de position sur la fracturation hydraulique, méthode controversée pour extraire du gaz de schiste très utilisée dans l'État, qu'elle soutient désormais. Un revirement que Donald Trump a tenté d'exploiter. Si sa concurrente est élue, \"il n'y aura pas de fracturation hydraulique et ce sera la fin de la Pennsylvanie\", a-t-il lancé. Trump bientôt au Madison Square Garden La candidate démocrate retournera lundi en Pennsylvanie, où se rendra aussi jeudi l'un des meilleurs émissaires du Parti démocrate : l'ancien président Barack Obama. Elle doit enchaîner en fin de semaine des rendez-vous de campagne dans l'Arizona et le Nevada – deux autres États qui seront décisifs pour l'élection, organisée au scrutin universel indirect.   Mercredi, la vice-présidente a qualifié de \"dangereuses\" et \"inadmissibles\" les accusations sans fondement martelées ces derniers jours par le camp républicain, et Donald Trump au premier chef, sur la gestion des ouragans Hélène et Milton par le gouvernement fédéral. Les deux candidats restent au coude-à-coude dans les sondages dans les États-clés. Et ce, malgré une série de rebondissements sans précédent dans la campagne : la condamnation au pénal de Donald Trump, deux tentatives d'assassinat le visant et le retrait de candidature de l'actuel président Joe Biden. Au-delà des États-clés, Donald Trump cherche aussi à titiller les démocrates dans leurs fiefs : il organise samedi un meeting en Californie – connue pour être très progressiste – et a annoncé mercredi prévoir un événement dans la mythique salle du Madison Square Garden à New York. Selon le US Elections Project, quelque 2,5 millions d'électeurs ont déjà fait leur choix et glissé un bulletin dans l'urne lors d'opérations de vote anticipé.    ",
          "Malgré les appels à la retenue de Washington, Israël reste engagé à riposter après la frappe de missiles iraniens sur son territoire la semaine dernière. Le ministre israélien de la Défense, Yoav Gallant, a de nouveau averti que les représailles d'Israël à la frappe de missiles iraniens sur son territoire la semaine dernière seraient \"mortelles\". Dans un discours prononcé devant les troupes israéliennes, le ministre a déclaré que les représailles israéliennes prendrait l'Iran au dépourvu, sans toutefois fournir plus de détails sur l'ampleur de la réponse militaire de l'Etat hébreu. \"Ils ne comprendront pas ce qui s'est passé ni comment cela s'est produit\", a souligné Yoav Gallant. L’Iran a tiré près de 200 missiles sur Israël la semaine dernière après qu’Israël a intensifié ses frappes aériennes sur le Liban, tuant plusieurs hauts commandants du groupe militant Hezbollah soutenu par l’Iran – dont son chef Hassan Nasrallah. Ces commentaires confirment qu'Israël n'a pas l'intention de ralentir sa campagne militaire contre le Hezbollah, qui a vu les Forces de défense israéliennes frapper la capitale libanaise, Beyrouth, et lancer ce qu'elle appelle une invasion terrestre \"limitée\" dans le sud du Liban. Le Premier ministre israélien Benjamin Netanyahu a promis de riposter à l'attaque iranienne. Cependant, il n’a pas confirmé quand ni comment cela se produirait dans le cadre de ce qui constituerait une nouvelle escalade du conflit qui s’intensifie au Moyen-Orient. Le président américain Joe Biden a exhorté Netanyahu à éviter une frappe contre l'Iran qui toucherait des sites liés au programme nucléaire iranien ou à son secteur pétrolier, craignant un impact sur le marché mondial du pétrole qui ferait monter les prix et pourrait affecter l'élections présidentielle américaine. Les deux dirigeants se sont parlés mercredi. C'était leur premier appel en sept semaines, la vice-présidente Kamala Harris se joignant à la conversation. Malgré ses tentatives répétées pour négocier un accord de cessez-le-feu entre Israël et le Hamas, Joe Biden a réitéré son soutien à Israël, félicitant apparemment Benjamin Netanyahu pour ses \"opérations intenses et déterminées menées par Israël contre le Hezbollah\", selon le bureau du Premier ministre israélien. Depuis leur dernier échange téléphonique fin août, Netanyahu a intensifié ses attaques au Liban contre le Hezbollah. Jeudi, une vidéo diffusée par l'agence de presse Associated Press semble montrer un groupe de soldats brandissant un drapeau israélien dans un village du sud du Liban, alors qu'une frappe de Tsahal a tué cinq ambulanciers, selon un porte-parole de la défense civile. Au sud d'Israël, l’armée israélienne continue par ailleurs de bombarder Gaza alors qu’elle étend ses opérations au Liban. Des frappes dans le centre et le nord de Gaza ont fait des dizaines de morts mercredi alors que le bilan des morts du conflit qui dure depuis un an a dépassé les 42 000, selon le ministère palestinien de la Santé contrôlé par le Hamas, qui ne fait pas de distinction entre militants et civils.    ",
          "L’opposant Moïse Katumbi ne voit aucune importance du dialogue proposé par Martin Fayulu. Le président d’Ensemble pour la République se base sur les élections du 20 décembre 2023 jugées chaotiques par sa famille politique.  Sans passer par quatre chemins, le candidat malheureux à l’élection présidentielle du 20 décembre dernier, dit ne voir aucune matière à dialoguer avec le pouvoir en place qui a la majorité parlementaire et gère les entités territoriales décentralisées. « Le président lui-même nous répète que tout va bien. La question n'est pas de savoir si l'on peut tous se retrouver autour d'une même table. Il y a, aujourd'hui en RDC, un gouvernement qui a la majorité au Parlement, toutes les provinces de ce pays sont dirigées par des gouverneurs », a-t-il déclaré. En lieu et place du dialogue, Moïse Katumbi estime que la situation actuelle pourrait changer si les dirigeants se mettaient au travail proprement dit, et si le gouvernement actuel arrivait à réduire le train de vie des institutions. Martin Fayulu est initiateur d’un dialogue entre congolais pour juguler la situation sécuritaire dans l’Est du pays. Le camp de l’opposant traite de « traîtres », ceux qui n’adhèrent pas à cette initiative.",
          "Dans son discours d'ouverture, la présidente de l’organe délibérant municipal, Véronique Matabisi, a relevé les difficultés qu'endurent les conseillers communaux aux autorités tant nationales que provinciales.   Selon elle, les conseillers communaux s'inquiètent d’être abandonnés à leur triste sort sans émolument ni frais de fonctionnement. “ Et pourtant, ils ont été élus les mêmes jour, mois et année par les électeurs avec le président de la République, les députés nationaux et provinciaux”. Cette précarité, ajoute-t-elle, ne leur permet pas de donner le meilleur d’eux-mêmes en ce qui concerne leurs missions constitutionnelles. Il est important de rappeler que le mois passé, les conseillers municipaux de la ville d'Isiro, à l'instar de ceux des autres villes du pays, ont été dans la rue il y a un mois pour réclamer leur prise en charge par le gouvernement central. Dans un télégramme d'août 2024, le Vice-premier ministre, ministre de l'intérieur, avait instruit les gouvernements provinciaux de s'occuper des émoluments et des cadres du travail ces parlementaires municipaux. Jusqu'à l'heure, aucune action dans ce sens n'a été remarquée sur le terrain.",
          null
         ],
         "marker": {
          "opacity": 0.5,
          "size": 5
         },
         "mode": "markers+text",
         "name": "4_présidentielle_exclu mercredi_contre hezbollah",
         "text": [
          "",
          "",
          "",
          "",
          "",
          "4_présidentielle_exclu mercredi_contre hezbollah"
         ],
         "textfont": {
          "size": 12
         },
         "type": "scattergl",
         "x": [
          6.108538,
          6.2902036,
          6.225643,
          6.315761,
          6.027918,
          6.193613
         ],
         "y": [
          2.6267993,
          2.4020734,
          2.3069546,
          2.0841818,
          2.6999748,
          2.4239967
         ]
        }
       ],
       "layout": {
        "annotations": [
         {
          "showarrow": false,
          "text": "D1",
          "x": 1.420645272731781,
          "y": 0.5804477095603944,
          "yshift": 10
         },
         {
          "showarrow": false,
          "text": "D2",
          "x": 8.736840647459031,
          "xshift": 10,
          "y": 7.4681531429290775
         }
        ],
        "height": 750,
        "shapes": [
         {
          "line": {
           "color": "#CFD8DC",
           "width": 2
          },
          "type": "line",
          "x0": 8.736840647459031,
          "x1": 8.736840647459031,
          "y0": -6.307257723808289,
          "y1": 7.4681531429290775
         },
         {
          "line": {
           "color": "#9E9E9E",
           "width": 2
          },
          "type": "line",
          "x0": 1.420645272731781,
          "x1": 16.05303602218628,
          "y0": 0.5804477095603944,
          "y1": 0.5804477095603944
         }
        ],
        "template": {
         "data": {
          "bar": [
           {
            "error_x": {
             "color": "rgb(36,36,36)"
            },
            "error_y": {
             "color": "rgb(36,36,36)"
            },
            "marker": {
             "line": {
              "color": "white",
              "width": 0.5
             },
             "pattern": {
              "fillmode": "overlay",
              "size": 10,
              "solidity": 0.2
             }
            },
            "type": "bar"
           }
          ],
          "barpolar": [
           {
            "marker": {
             "line": {
              "color": "white",
              "width": 0.5
             },
             "pattern": {
              "fillmode": "overlay",
              "size": 10,
              "solidity": 0.2
             }
            },
            "type": "barpolar"
           }
          ],
          "carpet": [
           {
            "aaxis": {
             "endlinecolor": "rgb(36,36,36)",
             "gridcolor": "white",
             "linecolor": "white",
             "minorgridcolor": "white",
             "startlinecolor": "rgb(36,36,36)"
            },
            "baxis": {
             "endlinecolor": "rgb(36,36,36)",
             "gridcolor": "white",
             "linecolor": "white",
             "minorgridcolor": "white",
             "startlinecolor": "rgb(36,36,36)"
            },
            "type": "carpet"
           }
          ],
          "choropleth": [
           {
            "colorbar": {
             "outlinewidth": 1,
             "tickcolor": "rgb(36,36,36)",
             "ticks": "outside"
            },
            "type": "choropleth"
           }
          ],
          "contour": [
           {
            "colorbar": {
             "outlinewidth": 1,
             "tickcolor": "rgb(36,36,36)",
             "ticks": "outside"
            },
            "colorscale": [
             [
              0,
              "#440154"
             ],
             [
              0.1111111111111111,
              "#482878"
             ],
             [
              0.2222222222222222,
              "#3e4989"
             ],
             [
              0.3333333333333333,
              "#31688e"
             ],
             [
              0.4444444444444444,
              "#26828e"
             ],
             [
              0.5555555555555556,
              "#1f9e89"
             ],
             [
              0.6666666666666666,
              "#35b779"
             ],
             [
              0.7777777777777778,
              "#6ece58"
             ],
             [
              0.8888888888888888,
              "#b5de2b"
             ],
             [
              1,
              "#fde725"
             ]
            ],
            "type": "contour"
           }
          ],
          "contourcarpet": [
           {
            "colorbar": {
             "outlinewidth": 1,
             "tickcolor": "rgb(36,36,36)",
             "ticks": "outside"
            },
            "type": "contourcarpet"
           }
          ],
          "heatmap": [
           {
            "colorbar": {
             "outlinewidth": 1,
             "tickcolor": "rgb(36,36,36)",
             "ticks": "outside"
            },
            "colorscale": [
             [
              0,
              "#440154"
             ],
             [
              0.1111111111111111,
              "#482878"
             ],
             [
              0.2222222222222222,
              "#3e4989"
             ],
             [
              0.3333333333333333,
              "#31688e"
             ],
             [
              0.4444444444444444,
              "#26828e"
             ],
             [
              0.5555555555555556,
              "#1f9e89"
             ],
             [
              0.6666666666666666,
              "#35b779"
             ],
             [
              0.7777777777777778,
              "#6ece58"
             ],
             [
              0.8888888888888888,
              "#b5de2b"
             ],
             [
              1,
              "#fde725"
             ]
            ],
            "type": "heatmap"
           }
          ],
          "heatmapgl": [
           {
            "colorbar": {
             "outlinewidth": 1,
             "tickcolor": "rgb(36,36,36)",
             "ticks": "outside"
            },
            "colorscale": [
             [
              0,
              "#440154"
             ],
             [
              0.1111111111111111,
              "#482878"
             ],
             [
              0.2222222222222222,
              "#3e4989"
             ],
             [
              0.3333333333333333,
              "#31688e"
             ],
             [
              0.4444444444444444,
              "#26828e"
             ],
             [
              0.5555555555555556,
              "#1f9e89"
             ],
             [
              0.6666666666666666,
              "#35b779"
             ],
             [
              0.7777777777777778,
              "#6ece58"
             ],
             [
              0.8888888888888888,
              "#b5de2b"
             ],
             [
              1,
              "#fde725"
             ]
            ],
            "type": "heatmapgl"
           }
          ],
          "histogram": [
           {
            "marker": {
             "line": {
              "color": "white",
              "width": 0.6
             }
            },
            "type": "histogram"
           }
          ],
          "histogram2d": [
           {
            "colorbar": {
             "outlinewidth": 1,
             "tickcolor": "rgb(36,36,36)",
             "ticks": "outside"
            },
            "colorscale": [
             [
              0,
              "#440154"
             ],
             [
              0.1111111111111111,
              "#482878"
             ],
             [
              0.2222222222222222,
              "#3e4989"
             ],
             [
              0.3333333333333333,
              "#31688e"
             ],
             [
              0.4444444444444444,
              "#26828e"
             ],
             [
              0.5555555555555556,
              "#1f9e89"
             ],
             [
              0.6666666666666666,
              "#35b779"
             ],
             [
              0.7777777777777778,
              "#6ece58"
             ],
             [
              0.8888888888888888,
              "#b5de2b"
             ],
             [
              1,
              "#fde725"
             ]
            ],
            "type": "histogram2d"
           }
          ],
          "histogram2dcontour": [
           {
            "colorbar": {
             "outlinewidth": 1,
             "tickcolor": "rgb(36,36,36)",
             "ticks": "outside"
            },
            "colorscale": [
             [
              0,
              "#440154"
             ],
             [
              0.1111111111111111,
              "#482878"
             ],
             [
              0.2222222222222222,
              "#3e4989"
             ],
             [
              0.3333333333333333,
              "#31688e"
             ],
             [
              0.4444444444444444,
              "#26828e"
             ],
             [
              0.5555555555555556,
              "#1f9e89"
             ],
             [
              0.6666666666666666,
              "#35b779"
             ],
             [
              0.7777777777777778,
              "#6ece58"
             ],
             [
              0.8888888888888888,
              "#b5de2b"
             ],
             [
              1,
              "#fde725"
             ]
            ],
            "type": "histogram2dcontour"
           }
          ],
          "mesh3d": [
           {
            "colorbar": {
             "outlinewidth": 1,
             "tickcolor": "rgb(36,36,36)",
             "ticks": "outside"
            },
            "type": "mesh3d"
           }
          ],
          "parcoords": [
           {
            "line": {
             "colorbar": {
              "outlinewidth": 1,
              "tickcolor": "rgb(36,36,36)",
              "ticks": "outside"
             }
            },
            "type": "parcoords"
           }
          ],
          "pie": [
           {
            "automargin": true,
            "type": "pie"
           }
          ],
          "scatter": [
           {
            "fillpattern": {
             "fillmode": "overlay",
             "size": 10,
             "solidity": 0.2
            },
            "type": "scatter"
           }
          ],
          "scatter3d": [
           {
            "line": {
             "colorbar": {
              "outlinewidth": 1,
              "tickcolor": "rgb(36,36,36)",
              "ticks": "outside"
             }
            },
            "marker": {
             "colorbar": {
              "outlinewidth": 1,
              "tickcolor": "rgb(36,36,36)",
              "ticks": "outside"
             }
            },
            "type": "scatter3d"
           }
          ],
          "scattercarpet": [
           {
            "marker": {
             "colorbar": {
              "outlinewidth": 1,
              "tickcolor": "rgb(36,36,36)",
              "ticks": "outside"
             }
            },
            "type": "scattercarpet"
           }
          ],
          "scattergeo": [
           {
            "marker": {
             "colorbar": {
              "outlinewidth": 1,
              "tickcolor": "rgb(36,36,36)",
              "ticks": "outside"
             }
            },
            "type": "scattergeo"
           }
          ],
          "scattergl": [
           {
            "marker": {
             "colorbar": {
              "outlinewidth": 1,
              "tickcolor": "rgb(36,36,36)",
              "ticks": "outside"
             }
            },
            "type": "scattergl"
           }
          ],
          "scattermapbox": [
           {
            "marker": {
             "colorbar": {
              "outlinewidth": 1,
              "tickcolor": "rgb(36,36,36)",
              "ticks": "outside"
             }
            },
            "type": "scattermapbox"
           }
          ],
          "scatterpolar": [
           {
            "marker": {
             "colorbar": {
              "outlinewidth": 1,
              "tickcolor": "rgb(36,36,36)",
              "ticks": "outside"
             }
            },
            "type": "scatterpolar"
           }
          ],
          "scatterpolargl": [
           {
            "marker": {
             "colorbar": {
              "outlinewidth": 1,
              "tickcolor": "rgb(36,36,36)",
              "ticks": "outside"
             }
            },
            "type": "scatterpolargl"
           }
          ],
          "scatterternary": [
           {
            "marker": {
             "colorbar": {
              "outlinewidth": 1,
              "tickcolor": "rgb(36,36,36)",
              "ticks": "outside"
             }
            },
            "type": "scatterternary"
           }
          ],
          "surface": [
           {
            "colorbar": {
             "outlinewidth": 1,
             "tickcolor": "rgb(36,36,36)",
             "ticks": "outside"
            },
            "colorscale": [
             [
              0,
              "#440154"
             ],
             [
              0.1111111111111111,
              "#482878"
             ],
             [
              0.2222222222222222,
              "#3e4989"
             ],
             [
              0.3333333333333333,
              "#31688e"
             ],
             [
              0.4444444444444444,
              "#26828e"
             ],
             [
              0.5555555555555556,
              "#1f9e89"
             ],
             [
              0.6666666666666666,
              "#35b779"
             ],
             [
              0.7777777777777778,
              "#6ece58"
             ],
             [
              0.8888888888888888,
              "#b5de2b"
             ],
             [
              1,
              "#fde725"
             ]
            ],
            "type": "surface"
           }
          ],
          "table": [
           {
            "cells": {
             "fill": {
              "color": "rgb(237,237,237)"
             },
             "line": {
              "color": "white"
             }
            },
            "header": {
             "fill": {
              "color": "rgb(217,217,217)"
             },
             "line": {
              "color": "white"
             }
            },
            "type": "table"
           }
          ]
         },
         "layout": {
          "annotationdefaults": {
           "arrowhead": 0,
           "arrowwidth": 1
          },
          "autotypenumbers": "strict",
          "coloraxis": {
           "colorbar": {
            "outlinewidth": 1,
            "tickcolor": "rgb(36,36,36)",
            "ticks": "outside"
           }
          },
          "colorscale": {
           "diverging": [
            [
             0,
             "rgb(103,0,31)"
            ],
            [
             0.1,
             "rgb(178,24,43)"
            ],
            [
             0.2,
             "rgb(214,96,77)"
            ],
            [
             0.3,
             "rgb(244,165,130)"
            ],
            [
             0.4,
             "rgb(253,219,199)"
            ],
            [
             0.5,
             "rgb(247,247,247)"
            ],
            [
             0.6,
             "rgb(209,229,240)"
            ],
            [
             0.7,
             "rgb(146,197,222)"
            ],
            [
             0.8,
             "rgb(67,147,195)"
            ],
            [
             0.9,
             "rgb(33,102,172)"
            ],
            [
             1,
             "rgb(5,48,97)"
            ]
           ],
           "sequential": [
            [
             0,
             "#440154"
            ],
            [
             0.1111111111111111,
             "#482878"
            ],
            [
             0.2222222222222222,
             "#3e4989"
            ],
            [
             0.3333333333333333,
             "#31688e"
            ],
            [
             0.4444444444444444,
             "#26828e"
            ],
            [
             0.5555555555555556,
             "#1f9e89"
            ],
            [
             0.6666666666666666,
             "#35b779"
            ],
            [
             0.7777777777777778,
             "#6ece58"
            ],
            [
             0.8888888888888888,
             "#b5de2b"
            ],
            [
             1,
             "#fde725"
            ]
           ],
           "sequentialminus": [
            [
             0,
             "#440154"
            ],
            [
             0.1111111111111111,
             "#482878"
            ],
            [
             0.2222222222222222,
             "#3e4989"
            ],
            [
             0.3333333333333333,
             "#31688e"
            ],
            [
             0.4444444444444444,
             "#26828e"
            ],
            [
             0.5555555555555556,
             "#1f9e89"
            ],
            [
             0.6666666666666666,
             "#35b779"
            ],
            [
             0.7777777777777778,
             "#6ece58"
            ],
            [
             0.8888888888888888,
             "#b5de2b"
            ],
            [
             1,
             "#fde725"
            ]
           ]
          },
          "colorway": [
           "#1F77B4",
           "#FF7F0E",
           "#2CA02C",
           "#D62728",
           "#9467BD",
           "#8C564B",
           "#E377C2",
           "#7F7F7F",
           "#BCBD22",
           "#17BECF"
          ],
          "font": {
           "color": "rgb(36,36,36)"
          },
          "geo": {
           "bgcolor": "white",
           "lakecolor": "white",
           "landcolor": "white",
           "showlakes": true,
           "showland": true,
           "subunitcolor": "white"
          },
          "hoverlabel": {
           "align": "left"
          },
          "hovermode": "closest",
          "mapbox": {
           "style": "light"
          },
          "paper_bgcolor": "white",
          "plot_bgcolor": "white",
          "polar": {
           "angularaxis": {
            "gridcolor": "rgb(232,232,232)",
            "linecolor": "rgb(36,36,36)",
            "showgrid": false,
            "showline": true,
            "ticks": "outside"
           },
           "bgcolor": "white",
           "radialaxis": {
            "gridcolor": "rgb(232,232,232)",
            "linecolor": "rgb(36,36,36)",
            "showgrid": false,
            "showline": true,
            "ticks": "outside"
           }
          },
          "scene": {
           "xaxis": {
            "backgroundcolor": "white",
            "gridcolor": "rgb(232,232,232)",
            "gridwidth": 2,
            "linecolor": "rgb(36,36,36)",
            "showbackground": true,
            "showgrid": false,
            "showline": true,
            "ticks": "outside",
            "zeroline": false,
            "zerolinecolor": "rgb(36,36,36)"
           },
           "yaxis": {
            "backgroundcolor": "white",
            "gridcolor": "rgb(232,232,232)",
            "gridwidth": 2,
            "linecolor": "rgb(36,36,36)",
            "showbackground": true,
            "showgrid": false,
            "showline": true,
            "ticks": "outside",
            "zeroline": false,
            "zerolinecolor": "rgb(36,36,36)"
           },
           "zaxis": {
            "backgroundcolor": "white",
            "gridcolor": "rgb(232,232,232)",
            "gridwidth": 2,
            "linecolor": "rgb(36,36,36)",
            "showbackground": true,
            "showgrid": false,
            "showline": true,
            "ticks": "outside",
            "zeroline": false,
            "zerolinecolor": "rgb(36,36,36)"
           }
          },
          "shapedefaults": {
           "fillcolor": "black",
           "line": {
            "width": 0
           },
           "opacity": 0.3
          },
          "ternary": {
           "aaxis": {
            "gridcolor": "rgb(232,232,232)",
            "linecolor": "rgb(36,36,36)",
            "showgrid": false,
            "showline": true,
            "ticks": "outside"
           },
           "baxis": {
            "gridcolor": "rgb(232,232,232)",
            "linecolor": "rgb(36,36,36)",
            "showgrid": false,
            "showline": true,
            "ticks": "outside"
           },
           "bgcolor": "white",
           "caxis": {
            "gridcolor": "rgb(232,232,232)",
            "linecolor": "rgb(36,36,36)",
            "showgrid": false,
            "showline": true,
            "ticks": "outside"
           }
          },
          "title": {
           "x": 0.05
          },
          "xaxis": {
           "automargin": true,
           "gridcolor": "rgb(232,232,232)",
           "linecolor": "rgb(36,36,36)",
           "showgrid": false,
           "showline": true,
           "ticks": "outside",
           "title": {
            "standoff": 15
           },
           "zeroline": false,
           "zerolinecolor": "rgb(36,36,36)"
          },
          "yaxis": {
           "automargin": true,
           "gridcolor": "rgb(232,232,232)",
           "linecolor": "rgb(36,36,36)",
           "showgrid": false,
           "showline": true,
           "ticks": "outside",
           "title": {
            "standoff": 15
           },
           "zeroline": false,
           "zerolinecolor": "rgb(36,36,36)"
          }
         }
        },
        "title": {
         "font": {
          "color": "Black",
          "size": 22
         },
         "text": "<b>Documents and Topics</b>",
         "x": 0.5,
         "xanchor": "center",
         "yanchor": "top"
        },
        "width": 1200,
        "xaxis": {
         "visible": false
        },
        "yaxis": {
         "visible": false
        }
       }
      }
     },
     "metadata": {},
     "output_type": "display_data"
    }
   ],
   "source": [
    "topic_model.visualize_documents(results_df.content, embeddings=reduced_embebddings)"
   ]
  },
  {
   "cell_type": "code",
   "execution_count": 96,
   "metadata": {},
   "outputs": [
    {
     "name": "stdout",
     "output_type": "stream",
     "text": [
      "KMeans_5 0.11653532\n",
      "KMeans_7 0.103666335\n",
      "KMeans_10 0.12566169\n",
      "KMeans_12 0.16120532\n"
     ]
    },
    {
     "data": {
      "text/html": [
       "<style>#sk-container-id-2 {\n",
       "  /* Definition of color scheme common for light and dark mode */\n",
       "  --sklearn-color-text: black;\n",
       "  --sklearn-color-line: gray;\n",
       "  /* Definition of color scheme for unfitted estimators */\n",
       "  --sklearn-color-unfitted-level-0: #fff5e6;\n",
       "  --sklearn-color-unfitted-level-1: #f6e4d2;\n",
       "  --sklearn-color-unfitted-level-2: #ffe0b3;\n",
       "  --sklearn-color-unfitted-level-3: chocolate;\n",
       "  /* Definition of color scheme for fitted estimators */\n",
       "  --sklearn-color-fitted-level-0: #f0f8ff;\n",
       "  --sklearn-color-fitted-level-1: #d4ebff;\n",
       "  --sklearn-color-fitted-level-2: #b3dbfd;\n",
       "  --sklearn-color-fitted-level-3: cornflowerblue;\n",
       "\n",
       "  /* Specific color for light theme */\n",
       "  --sklearn-color-text-on-default-background: var(--sg-text-color, var(--theme-code-foreground, var(--jp-content-font-color1, black)));\n",
       "  --sklearn-color-background: var(--sg-background-color, var(--theme-background, var(--jp-layout-color0, white)));\n",
       "  --sklearn-color-border-box: var(--sg-text-color, var(--theme-code-foreground, var(--jp-content-font-color1, black)));\n",
       "  --sklearn-color-icon: #696969;\n",
       "\n",
       "  @media (prefers-color-scheme: dark) {\n",
       "    /* Redefinition of color scheme for dark theme */\n",
       "    --sklearn-color-text-on-default-background: var(--sg-text-color, var(--theme-code-foreground, var(--jp-content-font-color1, white)));\n",
       "    --sklearn-color-background: var(--sg-background-color, var(--theme-background, var(--jp-layout-color0, #111)));\n",
       "    --sklearn-color-border-box: var(--sg-text-color, var(--theme-code-foreground, var(--jp-content-font-color1, white)));\n",
       "    --sklearn-color-icon: #878787;\n",
       "  }\n",
       "}\n",
       "\n",
       "#sk-container-id-2 {\n",
       "  color: var(--sklearn-color-text);\n",
       "}\n",
       "\n",
       "#sk-container-id-2 pre {\n",
       "  padding: 0;\n",
       "}\n",
       "\n",
       "#sk-container-id-2 input.sk-hidden--visually {\n",
       "  border: 0;\n",
       "  clip: rect(1px 1px 1px 1px);\n",
       "  clip: rect(1px, 1px, 1px, 1px);\n",
       "  height: 1px;\n",
       "  margin: -1px;\n",
       "  overflow: hidden;\n",
       "  padding: 0;\n",
       "  position: absolute;\n",
       "  width: 1px;\n",
       "}\n",
       "\n",
       "#sk-container-id-2 div.sk-dashed-wrapped {\n",
       "  border: 1px dashed var(--sklearn-color-line);\n",
       "  margin: 0 0.4em 0.5em 0.4em;\n",
       "  box-sizing: border-box;\n",
       "  padding-bottom: 0.4em;\n",
       "  background-color: var(--sklearn-color-background);\n",
       "}\n",
       "\n",
       "#sk-container-id-2 div.sk-container {\n",
       "  /* jupyter's `normalize.less` sets `[hidden] { display: none; }`\n",
       "     but bootstrap.min.css set `[hidden] { display: none !important; }`\n",
       "     so we also need the `!important` here to be able to override the\n",
       "     default hidden behavior on the sphinx rendered scikit-learn.org.\n",
       "     See: https://github.com/scikit-learn/scikit-learn/issues/21755 */\n",
       "  display: inline-block !important;\n",
       "  position: relative;\n",
       "}\n",
       "\n",
       "#sk-container-id-2 div.sk-text-repr-fallback {\n",
       "  display: none;\n",
       "}\n",
       "\n",
       "div.sk-parallel-item,\n",
       "div.sk-serial,\n",
       "div.sk-item {\n",
       "  /* draw centered vertical line to link estimators */\n",
       "  background-image: linear-gradient(var(--sklearn-color-text-on-default-background), var(--sklearn-color-text-on-default-background));\n",
       "  background-size: 2px 100%;\n",
       "  background-repeat: no-repeat;\n",
       "  background-position: center center;\n",
       "}\n",
       "\n",
       "/* Parallel-specific style estimator block */\n",
       "\n",
       "#sk-container-id-2 div.sk-parallel-item::after {\n",
       "  content: \"\";\n",
       "  width: 100%;\n",
       "  border-bottom: 2px solid var(--sklearn-color-text-on-default-background);\n",
       "  flex-grow: 1;\n",
       "}\n",
       "\n",
       "#sk-container-id-2 div.sk-parallel {\n",
       "  display: flex;\n",
       "  align-items: stretch;\n",
       "  justify-content: center;\n",
       "  background-color: var(--sklearn-color-background);\n",
       "  position: relative;\n",
       "}\n",
       "\n",
       "#sk-container-id-2 div.sk-parallel-item {\n",
       "  display: flex;\n",
       "  flex-direction: column;\n",
       "}\n",
       "\n",
       "#sk-container-id-2 div.sk-parallel-item:first-child::after {\n",
       "  align-self: flex-end;\n",
       "  width: 50%;\n",
       "}\n",
       "\n",
       "#sk-container-id-2 div.sk-parallel-item:last-child::after {\n",
       "  align-self: flex-start;\n",
       "  width: 50%;\n",
       "}\n",
       "\n",
       "#sk-container-id-2 div.sk-parallel-item:only-child::after {\n",
       "  width: 0;\n",
       "}\n",
       "\n",
       "/* Serial-specific style estimator block */\n",
       "\n",
       "#sk-container-id-2 div.sk-serial {\n",
       "  display: flex;\n",
       "  flex-direction: column;\n",
       "  align-items: center;\n",
       "  background-color: var(--sklearn-color-background);\n",
       "  padding-right: 1em;\n",
       "  padding-left: 1em;\n",
       "}\n",
       "\n",
       "\n",
       "/* Toggleable style: style used for estimator/Pipeline/ColumnTransformer box that is\n",
       "clickable and can be expanded/collapsed.\n",
       "- Pipeline and ColumnTransformer use this feature and define the default style\n",
       "- Estimators will overwrite some part of the style using the `sk-estimator` class\n",
       "*/\n",
       "\n",
       "/* Pipeline and ColumnTransformer style (default) */\n",
       "\n",
       "#sk-container-id-2 div.sk-toggleable {\n",
       "  /* Default theme specific background. It is overwritten whether we have a\n",
       "  specific estimator or a Pipeline/ColumnTransformer */\n",
       "  background-color: var(--sklearn-color-background);\n",
       "}\n",
       "\n",
       "/* Toggleable label */\n",
       "#sk-container-id-2 label.sk-toggleable__label {\n",
       "  cursor: pointer;\n",
       "  display: block;\n",
       "  width: 100%;\n",
       "  margin-bottom: 0;\n",
       "  padding: 0.5em;\n",
       "  box-sizing: border-box;\n",
       "  text-align: center;\n",
       "}\n",
       "\n",
       "#sk-container-id-2 label.sk-toggleable__label-arrow:before {\n",
       "  /* Arrow on the left of the label */\n",
       "  content: \"▸\";\n",
       "  float: left;\n",
       "  margin-right: 0.25em;\n",
       "  color: var(--sklearn-color-icon);\n",
       "}\n",
       "\n",
       "#sk-container-id-2 label.sk-toggleable__label-arrow:hover:before {\n",
       "  color: var(--sklearn-color-text);\n",
       "}\n",
       "\n",
       "/* Toggleable content - dropdown */\n",
       "\n",
       "#sk-container-id-2 div.sk-toggleable__content {\n",
       "  max-height: 0;\n",
       "  max-width: 0;\n",
       "  overflow: hidden;\n",
       "  text-align: left;\n",
       "  /* unfitted */\n",
       "  background-color: var(--sklearn-color-unfitted-level-0);\n",
       "}\n",
       "\n",
       "#sk-container-id-2 div.sk-toggleable__content.fitted {\n",
       "  /* fitted */\n",
       "  background-color: var(--sklearn-color-fitted-level-0);\n",
       "}\n",
       "\n",
       "#sk-container-id-2 div.sk-toggleable__content pre {\n",
       "  margin: 0.2em;\n",
       "  border-radius: 0.25em;\n",
       "  color: var(--sklearn-color-text);\n",
       "  /* unfitted */\n",
       "  background-color: var(--sklearn-color-unfitted-level-0);\n",
       "}\n",
       "\n",
       "#sk-container-id-2 div.sk-toggleable__content.fitted pre {\n",
       "  /* unfitted */\n",
       "  background-color: var(--sklearn-color-fitted-level-0);\n",
       "}\n",
       "\n",
       "#sk-container-id-2 input.sk-toggleable__control:checked~div.sk-toggleable__content {\n",
       "  /* Expand drop-down */\n",
       "  max-height: 200px;\n",
       "  max-width: 100%;\n",
       "  overflow: auto;\n",
       "}\n",
       "\n",
       "#sk-container-id-2 input.sk-toggleable__control:checked~label.sk-toggleable__label-arrow:before {\n",
       "  content: \"▾\";\n",
       "}\n",
       "\n",
       "/* Pipeline/ColumnTransformer-specific style */\n",
       "\n",
       "#sk-container-id-2 div.sk-label input.sk-toggleable__control:checked~label.sk-toggleable__label {\n",
       "  color: var(--sklearn-color-text);\n",
       "  background-color: var(--sklearn-color-unfitted-level-2);\n",
       "}\n",
       "\n",
       "#sk-container-id-2 div.sk-label.fitted input.sk-toggleable__control:checked~label.sk-toggleable__label {\n",
       "  background-color: var(--sklearn-color-fitted-level-2);\n",
       "}\n",
       "\n",
       "/* Estimator-specific style */\n",
       "\n",
       "/* Colorize estimator box */\n",
       "#sk-container-id-2 div.sk-estimator input.sk-toggleable__control:checked~label.sk-toggleable__label {\n",
       "  /* unfitted */\n",
       "  background-color: var(--sklearn-color-unfitted-level-2);\n",
       "}\n",
       "\n",
       "#sk-container-id-2 div.sk-estimator.fitted input.sk-toggleable__control:checked~label.sk-toggleable__label {\n",
       "  /* fitted */\n",
       "  background-color: var(--sklearn-color-fitted-level-2);\n",
       "}\n",
       "\n",
       "#sk-container-id-2 div.sk-label label.sk-toggleable__label,\n",
       "#sk-container-id-2 div.sk-label label {\n",
       "  /* The background is the default theme color */\n",
       "  color: var(--sklearn-color-text-on-default-background);\n",
       "}\n",
       "\n",
       "/* On hover, darken the color of the background */\n",
       "#sk-container-id-2 div.sk-label:hover label.sk-toggleable__label {\n",
       "  color: var(--sklearn-color-text);\n",
       "  background-color: var(--sklearn-color-unfitted-level-2);\n",
       "}\n",
       "\n",
       "/* Label box, darken color on hover, fitted */\n",
       "#sk-container-id-2 div.sk-label.fitted:hover label.sk-toggleable__label.fitted {\n",
       "  color: var(--sklearn-color-text);\n",
       "  background-color: var(--sklearn-color-fitted-level-2);\n",
       "}\n",
       "\n",
       "/* Estimator label */\n",
       "\n",
       "#sk-container-id-2 div.sk-label label {\n",
       "  font-family: monospace;\n",
       "  font-weight: bold;\n",
       "  display: inline-block;\n",
       "  line-height: 1.2em;\n",
       "}\n",
       "\n",
       "#sk-container-id-2 div.sk-label-container {\n",
       "  text-align: center;\n",
       "}\n",
       "\n",
       "/* Estimator-specific */\n",
       "#sk-container-id-2 div.sk-estimator {\n",
       "  font-family: monospace;\n",
       "  border: 1px dotted var(--sklearn-color-border-box);\n",
       "  border-radius: 0.25em;\n",
       "  box-sizing: border-box;\n",
       "  margin-bottom: 0.5em;\n",
       "  /* unfitted */\n",
       "  background-color: var(--sklearn-color-unfitted-level-0);\n",
       "}\n",
       "\n",
       "#sk-container-id-2 div.sk-estimator.fitted {\n",
       "  /* fitted */\n",
       "  background-color: var(--sklearn-color-fitted-level-0);\n",
       "}\n",
       "\n",
       "/* on hover */\n",
       "#sk-container-id-2 div.sk-estimator:hover {\n",
       "  /* unfitted */\n",
       "  background-color: var(--sklearn-color-unfitted-level-2);\n",
       "}\n",
       "\n",
       "#sk-container-id-2 div.sk-estimator.fitted:hover {\n",
       "  /* fitted */\n",
       "  background-color: var(--sklearn-color-fitted-level-2);\n",
       "}\n",
       "\n",
       "/* Specification for estimator info (e.g. \"i\" and \"?\") */\n",
       "\n",
       "/* Common style for \"i\" and \"?\" */\n",
       "\n",
       ".sk-estimator-doc-link,\n",
       "a:link.sk-estimator-doc-link,\n",
       "a:visited.sk-estimator-doc-link {\n",
       "  float: right;\n",
       "  font-size: smaller;\n",
       "  line-height: 1em;\n",
       "  font-family: monospace;\n",
       "  background-color: var(--sklearn-color-background);\n",
       "  border-radius: 1em;\n",
       "  height: 1em;\n",
       "  width: 1em;\n",
       "  text-decoration: none !important;\n",
       "  margin-left: 1ex;\n",
       "  /* unfitted */\n",
       "  border: var(--sklearn-color-unfitted-level-1) 1pt solid;\n",
       "  color: var(--sklearn-color-unfitted-level-1);\n",
       "}\n",
       "\n",
       ".sk-estimator-doc-link.fitted,\n",
       "a:link.sk-estimator-doc-link.fitted,\n",
       "a:visited.sk-estimator-doc-link.fitted {\n",
       "  /* fitted */\n",
       "  border: var(--sklearn-color-fitted-level-1) 1pt solid;\n",
       "  color: var(--sklearn-color-fitted-level-1);\n",
       "}\n",
       "\n",
       "/* On hover */\n",
       "div.sk-estimator:hover .sk-estimator-doc-link:hover,\n",
       ".sk-estimator-doc-link:hover,\n",
       "div.sk-label-container:hover .sk-estimator-doc-link:hover,\n",
       ".sk-estimator-doc-link:hover {\n",
       "  /* unfitted */\n",
       "  background-color: var(--sklearn-color-unfitted-level-3);\n",
       "  color: var(--sklearn-color-background);\n",
       "  text-decoration: none;\n",
       "}\n",
       "\n",
       "div.sk-estimator.fitted:hover .sk-estimator-doc-link.fitted:hover,\n",
       ".sk-estimator-doc-link.fitted:hover,\n",
       "div.sk-label-container:hover .sk-estimator-doc-link.fitted:hover,\n",
       ".sk-estimator-doc-link.fitted:hover {\n",
       "  /* fitted */\n",
       "  background-color: var(--sklearn-color-fitted-level-3);\n",
       "  color: var(--sklearn-color-background);\n",
       "  text-decoration: none;\n",
       "}\n",
       "\n",
       "/* Span, style for the box shown on hovering the info icon */\n",
       ".sk-estimator-doc-link span {\n",
       "  display: none;\n",
       "  z-index: 9999;\n",
       "  position: relative;\n",
       "  font-weight: normal;\n",
       "  right: .2ex;\n",
       "  padding: .5ex;\n",
       "  margin: .5ex;\n",
       "  width: min-content;\n",
       "  min-width: 20ex;\n",
       "  max-width: 50ex;\n",
       "  color: var(--sklearn-color-text);\n",
       "  box-shadow: 2pt 2pt 4pt #999;\n",
       "  /* unfitted */\n",
       "  background: var(--sklearn-color-unfitted-level-0);\n",
       "  border: .5pt solid var(--sklearn-color-unfitted-level-3);\n",
       "}\n",
       "\n",
       ".sk-estimator-doc-link.fitted span {\n",
       "  /* fitted */\n",
       "  background: var(--sklearn-color-fitted-level-0);\n",
       "  border: var(--sklearn-color-fitted-level-3);\n",
       "}\n",
       "\n",
       ".sk-estimator-doc-link:hover span {\n",
       "  display: block;\n",
       "}\n",
       "\n",
       "/* \"?\"-specific style due to the `<a>` HTML tag */\n",
       "\n",
       "#sk-container-id-2 a.estimator_doc_link {\n",
       "  float: right;\n",
       "  font-size: 1rem;\n",
       "  line-height: 1em;\n",
       "  font-family: monospace;\n",
       "  background-color: var(--sklearn-color-background);\n",
       "  border-radius: 1rem;\n",
       "  height: 1rem;\n",
       "  width: 1rem;\n",
       "  text-decoration: none;\n",
       "  /* unfitted */\n",
       "  color: var(--sklearn-color-unfitted-level-1);\n",
       "  border: var(--sklearn-color-unfitted-level-1) 1pt solid;\n",
       "}\n",
       "\n",
       "#sk-container-id-2 a.estimator_doc_link.fitted {\n",
       "  /* fitted */\n",
       "  border: var(--sklearn-color-fitted-level-1) 1pt solid;\n",
       "  color: var(--sklearn-color-fitted-level-1);\n",
       "}\n",
       "\n",
       "/* On hover */\n",
       "#sk-container-id-2 a.estimator_doc_link:hover {\n",
       "  /* unfitted */\n",
       "  background-color: var(--sklearn-color-unfitted-level-3);\n",
       "  color: var(--sklearn-color-background);\n",
       "  text-decoration: none;\n",
       "}\n",
       "\n",
       "#sk-container-id-2 a.estimator_doc_link.fitted:hover {\n",
       "  /* fitted */\n",
       "  background-color: var(--sklearn-color-fitted-level-3);\n",
       "}\n",
       "</style><div id=\"sk-container-id-2\" class=\"sk-top-container\"><div class=\"sk-text-repr-fallback\"><pre>KMeans(n_clusters=12, random_state=42)</pre><b>In a Jupyter environment, please rerun this cell to show the HTML representation or trust the notebook. <br />On GitHub, the HTML representation is unable to render, please try loading this page with nbviewer.org.</b></div><div class=\"sk-container\" hidden><div class=\"sk-item\"><div class=\"sk-estimator fitted sk-toggleable\"><input class=\"sk-toggleable__control sk-hidden--visually\" id=\"sk-estimator-id-2\" type=\"checkbox\" checked><label for=\"sk-estimator-id-2\" class=\"sk-toggleable__label fitted sk-toggleable__label-arrow fitted\">&nbsp;&nbsp;KMeans<a class=\"sk-estimator-doc-link fitted\" rel=\"noreferrer\" target=\"_blank\" href=\"https://scikit-learn.org/1.5/modules/generated/sklearn.cluster.KMeans.html\">?<span>Documentation for KMeans</span></a><span class=\"sk-estimator-doc-link fitted\">i<span>Fitted</span></span></label><div class=\"sk-toggleable__content fitted\"><pre>KMeans(n_clusters=12, random_state=42)</pre></div> </div></div></div></div>"
      ],
      "text/plain": [
       "KMeans(n_clusters=12, random_state=42)"
      ]
     },
     "execution_count": 96,
     "metadata": {},
     "output_type": "execute_result"
    }
   ],
   "source": [
    "find_best_estimator(reduced_embeddings)"
   ]
  },
  {
   "cell_type": "markdown",
   "metadata": {},
   "source": [
    "The bert topic modeling is not really topic model, it is mostly document reprenstaiton plus document clustering. So if we finetune our clustering algorithm better we can get better results."
   ]
  },
  {
   "cell_type": "markdown",
   "metadata": {},
   "source": [
    "### Analyzing inter cluster Similarities."
   ]
  },
  {
   "cell_type": "code",
   "execution_count": 129,
   "metadata": {},
   "outputs": [
    {
     "data": {
      "text/html": [
       "<div>\n",
       "<style scoped>\n",
       "    .dataframe tbody tr th:only-of-type {\n",
       "        vertical-align: middle;\n",
       "    }\n",
       "\n",
       "    .dataframe tbody tr th {\n",
       "        vertical-align: top;\n",
       "    }\n",
       "\n",
       "    .dataframe thead th {\n",
       "        text-align: right;\n",
       "    }\n",
       "</style>\n",
       "<table border=\"1\" class=\"dataframe\">\n",
       "  <thead>\n",
       "    <tr style=\"text-align: right;\">\n",
       "      <th></th>\n",
       "      <th>content</th>\n",
       "      <th>title</th>\n",
       "      <th>posted_at</th>\n",
       "      <th>url</th>\n",
       "      <th>labels</th>\n",
       "    </tr>\n",
       "  </thead>\n",
       "  <tbody>\n",
       "    <tr>\n",
       "      <th>0</th>\n",
       "      <td>Dans le cadre de la mise en œuvre de son Plan ...</td>\n",
       "      <td>Présence remarquée de l’ANAPI à la 14ème éditi...</td>\n",
       "      <td>2024-10-10 00:00:00</td>\n",
       "      <td>https://econewsrdc.com/presence-remarquee-de-l...</td>\n",
       "      <td>11</td>\n",
       "    </tr>\n",
       "    <tr>\n",
       "      <th>1</th>\n",
       "      <td>Les membres du gouvernement provincial de Mai-...</td>\n",
       "      <td>Mai-Ndombe : le gouvernement provincial publié...</td>\n",
       "      <td>2024-10-10 08:59:00</td>\n",
       "      <td>https://actualite.cd/2024/10/10/mai-ndombe-le-...</td>\n",
       "      <td>7</td>\n",
       "    </tr>\n",
       "    <tr>\n",
       "      <th>2</th>\n",
       "      <td>VODACASH S.A, filiale de Vodacom Congo (RDC) S...</td>\n",
       "      <td>Partenariat stratégique entre VODACASH et la S...</td>\n",
       "      <td>2024-10-10 00:00:00</td>\n",
       "      <td>https://econewsrdc.com/partenariat-strategique...</td>\n",
       "      <td>3</td>\n",
       "    </tr>\n",
       "    <tr>\n",
       "      <th>3</th>\n",
       "      <td>octobre 10, 2024 Kinshasa- Financement des tra...</td>\n",
       "      <td>Kinshasa- Financement des travaux du projet 3 ...</td>\n",
       "      <td>2024-10-10 00:00:00</td>\n",
       "      <td>https://depeche.cd/2024/10/10/kinshasa-finance...</td>\n",
       "      <td>1</td>\n",
       "    </tr>\n",
       "    <tr>\n",
       "      <th>4</th>\n",
       "      <td>Les Leopards de la RDC signent une précieuse v...</td>\n",
       "      <td>Elim/CAN 2025 : Toujours aussi poussifs, les L...</td>\n",
       "      <td>2024-10-10 19:18:00</td>\n",
       "      <td>https://actualite.cd/index.php/2024/10/10/elim...</td>\n",
       "      <td>10</td>\n",
       "    </tr>\n",
       "  </tbody>\n",
       "</table>\n",
       "</div>"
      ],
      "text/plain": [
       "                                             content  \\\n",
       "0  Dans le cadre de la mise en œuvre de son Plan ...   \n",
       "1  Les membres du gouvernement provincial de Mai-...   \n",
       "2  VODACASH S.A, filiale de Vodacom Congo (RDC) S...   \n",
       "3  octobre 10, 2024 Kinshasa- Financement des tra...   \n",
       "4  Les Leopards de la RDC signent une précieuse v...   \n",
       "\n",
       "                                               title           posted_at  \\\n",
       "0  Présence remarquée de l’ANAPI à la 14ème éditi... 2024-10-10 00:00:00   \n",
       "1  Mai-Ndombe : le gouvernement provincial publié... 2024-10-10 08:59:00   \n",
       "2  Partenariat stratégique entre VODACASH et la S... 2024-10-10 00:00:00   \n",
       "3  Kinshasa- Financement des travaux du projet 3 ... 2024-10-10 00:00:00   \n",
       "4  Elim/CAN 2025 : Toujours aussi poussifs, les L... 2024-10-10 19:18:00   \n",
       "\n",
       "                                                 url  labels  \n",
       "0  https://econewsrdc.com/presence-remarquee-de-l...      11  \n",
       "1  https://actualite.cd/2024/10/10/mai-ndombe-le-...       7  \n",
       "2  https://econewsrdc.com/partenariat-strategique...       3  \n",
       "3  https://depeche.cd/2024/10/10/kinshasa-finance...       1  \n",
       "4  https://actualite.cd/index.php/2024/10/10/elim...      10  "
      ]
     },
     "execution_count": 129,
     "metadata": {},
     "output_type": "execute_result"
    }
   ],
   "source": [
    "results_df.head()"
   ]
  },
  {
   "cell_type": "code",
   "execution_count": 134,
   "metadata": {},
   "outputs": [],
   "source": [
    "document_index = results_df.query(\"labels == 1\").index"
   ]
  },
  {
   "cell_type": "code",
   "execution_count": 135,
   "metadata": {},
   "outputs": [],
   "source": [
    "vectors = today_news_embeddings[document_index]"
   ]
  },
  {
   "cell_type": "code",
   "execution_count": 138,
   "metadata": {},
   "outputs": [
    {
     "data": {
      "text/plain": [
       "tensor([[1.0000, 0.6475, 0.6588, 0.6429, 0.6914, 0.5992],\n",
       "        [0.6475, 1.0000, 0.8501, 0.9083, 0.6733, 0.6499],\n",
       "        [0.6588, 0.8501, 1.0000, 0.9174, 0.6630, 0.7389],\n",
       "        [0.6429, 0.9083, 0.9174, 1.0000, 0.6406, 0.6991],\n",
       "        [0.6914, 0.6733, 0.6630, 0.6406, 1.0000, 0.7347],\n",
       "        [0.5992, 0.6499, 0.7389, 0.6991, 0.7347, 1.0000]])"
      ]
     },
     "execution_count": 138,
     "metadata": {},
     "output_type": "execute_result"
    }
   ],
   "source": [
    "sentence_transformer_model.similarity(vectors ,  vectors)"
   ]
  },
  {
   "cell_type": "code",
   "execution_count": 374,
   "metadata": {},
   "outputs": [],
   "source": [
    "def analyse_embeddings(dataframe, embeddings, index, label_column=\"labels\"):\n",
    "    \"\"\" take an matrix of embeddings, and the labels.\n",
    "    for each label compute the cosine similarity of document with that label.\n",
    "    \"\"\"\n",
    "    document_in_index = dataframe.query(f\"{label_column} == {index}\")\n",
    "    with pd.option_context('display.max_colwidth', None):\n",
    "        display(document_in_index.title)\n",
    "    document_index = document_in_index.index\n",
    "    vectors = embeddings[document_index]\n",
    "    return sentence_transformer_model.similarity(vectors ,  vectors)\n",
    "\n",
    "    "
   ]
  },
  {
   "cell_type": "code",
   "execution_count": 167,
   "metadata": {},
   "outputs": [
    {
     "data": {
      "text/plain": [
       "14                                         Tennis: La FRDCT participe à l’Assemblée Générale de l’ITF à Hong Kong avec son président, l’ingénieur Georges Koshi Gimeya | Actualite.cd\n",
       "18                                                                           Francophonie : après le Sommet de Paris, que devrait faire la RDC ? (Par Mabiala Ma-Umba) | Actualite.cd\n",
       "20                                    Conseil des droits de l’homme de l’ONU : Chantal Chambu salue le leadership du chef de l’État ayant conduit à l’élection de la RDC comme membre\n",
       "29                                                                         Malgré son élection, « la RDC ne mérite pas de siéger au Conseil des droits de l'homme de l'ONU » (Diongo)\n",
       "31                               Élection de la RDC au Conseil des droits de l'homme de l'ONU : \"lorsque le pays avance, il faut que tout le monde puisse souscrire\" (Patrick Muyaya)\n",
       "60    Élection de la RDC au Conseil des droits de l’Homme : la reconnaissance de la marche vers un état de droit initiée par le Président Tshisekedi (Par Tina Salama) | Actualite.cd\n",
       "62                                     Incident au 19e sommet de l’OIF:  » la RDC ne doit ni suspendre, ni se retirer de la francophonie (Tribune du député national Joseph Bangakya)\n",
       "Name: title, dtype: object"
      ]
     },
     "metadata": {},
     "output_type": "display_data"
    }
   ],
   "source": [
    "similarity_matrix = analyse_embeddings(results_df, today_news_embeddings, 4)"
   ]
  },
  {
   "cell_type": "code",
   "execution_count": 169,
   "metadata": {},
   "outputs": [
    {
     "data": {
      "text/plain": [
       "tensor([[1.0000, 0.6300, 0.5833, 0.5917, 0.6243, 0.6672, 0.6267],\n",
       "        [0.6300, 1.0000, 0.6451, 0.7164, 0.7002, 0.6536, 0.8410],\n",
       "        [0.5833, 0.6451, 1.0000, 0.7521, 0.8569, 0.8247, 0.6973],\n",
       "        [0.5917, 0.7164, 0.7521, 1.0000, 0.8109, 0.7743, 0.7533],\n",
       "        [0.6243, 0.7002, 0.8569, 0.8109, 1.0000, 0.8897, 0.7262],\n",
       "        [0.6672, 0.6536, 0.8247, 0.7743, 0.8897, 1.0000, 0.6680],\n",
       "        [0.6267, 0.8410, 0.6973, 0.7533, 0.7262, 0.6680, 1.0000]])"
      ]
     },
     "execution_count": 169,
     "metadata": {},
     "output_type": "execute_result"
    }
   ],
   "source": [
    "similarity_matrix"
   ]
  },
  {
   "cell_type": "code",
   "execution_count": 170,
   "metadata": {},
   "outputs": [],
   "source": [
    "from sklearn.cluster import DBSCAN"
   ]
  },
  {
   "cell_type": "code",
   "execution_count": 178,
   "metadata": {},
   "outputs": [],
   "source": []
  },
  {
   "cell_type": "code",
   "execution_count": 179,
   "metadata": {},
   "outputs": [
    {
     "data": {
      "text/html": [
       "<style>#sk-container-id-6 {\n",
       "  /* Definition of color scheme common for light and dark mode */\n",
       "  --sklearn-color-text: black;\n",
       "  --sklearn-color-line: gray;\n",
       "  /* Definition of color scheme for unfitted estimators */\n",
       "  --sklearn-color-unfitted-level-0: #fff5e6;\n",
       "  --sklearn-color-unfitted-level-1: #f6e4d2;\n",
       "  --sklearn-color-unfitted-level-2: #ffe0b3;\n",
       "  --sklearn-color-unfitted-level-3: chocolate;\n",
       "  /* Definition of color scheme for fitted estimators */\n",
       "  --sklearn-color-fitted-level-0: #f0f8ff;\n",
       "  --sklearn-color-fitted-level-1: #d4ebff;\n",
       "  --sklearn-color-fitted-level-2: #b3dbfd;\n",
       "  --sklearn-color-fitted-level-3: cornflowerblue;\n",
       "\n",
       "  /* Specific color for light theme */\n",
       "  --sklearn-color-text-on-default-background: var(--sg-text-color, var(--theme-code-foreground, var(--jp-content-font-color1, black)));\n",
       "  --sklearn-color-background: var(--sg-background-color, var(--theme-background, var(--jp-layout-color0, white)));\n",
       "  --sklearn-color-border-box: var(--sg-text-color, var(--theme-code-foreground, var(--jp-content-font-color1, black)));\n",
       "  --sklearn-color-icon: #696969;\n",
       "\n",
       "  @media (prefers-color-scheme: dark) {\n",
       "    /* Redefinition of color scheme for dark theme */\n",
       "    --sklearn-color-text-on-default-background: var(--sg-text-color, var(--theme-code-foreground, var(--jp-content-font-color1, white)));\n",
       "    --sklearn-color-background: var(--sg-background-color, var(--theme-background, var(--jp-layout-color0, #111)));\n",
       "    --sklearn-color-border-box: var(--sg-text-color, var(--theme-code-foreground, var(--jp-content-font-color1, white)));\n",
       "    --sklearn-color-icon: #878787;\n",
       "  }\n",
       "}\n",
       "\n",
       "#sk-container-id-6 {\n",
       "  color: var(--sklearn-color-text);\n",
       "}\n",
       "\n",
       "#sk-container-id-6 pre {\n",
       "  padding: 0;\n",
       "}\n",
       "\n",
       "#sk-container-id-6 input.sk-hidden--visually {\n",
       "  border: 0;\n",
       "  clip: rect(1px 1px 1px 1px);\n",
       "  clip: rect(1px, 1px, 1px, 1px);\n",
       "  height: 1px;\n",
       "  margin: -1px;\n",
       "  overflow: hidden;\n",
       "  padding: 0;\n",
       "  position: absolute;\n",
       "  width: 1px;\n",
       "}\n",
       "\n",
       "#sk-container-id-6 div.sk-dashed-wrapped {\n",
       "  border: 1px dashed var(--sklearn-color-line);\n",
       "  margin: 0 0.4em 0.5em 0.4em;\n",
       "  box-sizing: border-box;\n",
       "  padding-bottom: 0.4em;\n",
       "  background-color: var(--sklearn-color-background);\n",
       "}\n",
       "\n",
       "#sk-container-id-6 div.sk-container {\n",
       "  /* jupyter's `normalize.less` sets `[hidden] { display: none; }`\n",
       "     but bootstrap.min.css set `[hidden] { display: none !important; }`\n",
       "     so we also need the `!important` here to be able to override the\n",
       "     default hidden behavior on the sphinx rendered scikit-learn.org.\n",
       "     See: https://github.com/scikit-learn/scikit-learn/issues/21755 */\n",
       "  display: inline-block !important;\n",
       "  position: relative;\n",
       "}\n",
       "\n",
       "#sk-container-id-6 div.sk-text-repr-fallback {\n",
       "  display: none;\n",
       "}\n",
       "\n",
       "div.sk-parallel-item,\n",
       "div.sk-serial,\n",
       "div.sk-item {\n",
       "  /* draw centered vertical line to link estimators */\n",
       "  background-image: linear-gradient(var(--sklearn-color-text-on-default-background), var(--sklearn-color-text-on-default-background));\n",
       "  background-size: 2px 100%;\n",
       "  background-repeat: no-repeat;\n",
       "  background-position: center center;\n",
       "}\n",
       "\n",
       "/* Parallel-specific style estimator block */\n",
       "\n",
       "#sk-container-id-6 div.sk-parallel-item::after {\n",
       "  content: \"\";\n",
       "  width: 100%;\n",
       "  border-bottom: 2px solid var(--sklearn-color-text-on-default-background);\n",
       "  flex-grow: 1;\n",
       "}\n",
       "\n",
       "#sk-container-id-6 div.sk-parallel {\n",
       "  display: flex;\n",
       "  align-items: stretch;\n",
       "  justify-content: center;\n",
       "  background-color: var(--sklearn-color-background);\n",
       "  position: relative;\n",
       "}\n",
       "\n",
       "#sk-container-id-6 div.sk-parallel-item {\n",
       "  display: flex;\n",
       "  flex-direction: column;\n",
       "}\n",
       "\n",
       "#sk-container-id-6 div.sk-parallel-item:first-child::after {\n",
       "  align-self: flex-end;\n",
       "  width: 50%;\n",
       "}\n",
       "\n",
       "#sk-container-id-6 div.sk-parallel-item:last-child::after {\n",
       "  align-self: flex-start;\n",
       "  width: 50%;\n",
       "}\n",
       "\n",
       "#sk-container-id-6 div.sk-parallel-item:only-child::after {\n",
       "  width: 0;\n",
       "}\n",
       "\n",
       "/* Serial-specific style estimator block */\n",
       "\n",
       "#sk-container-id-6 div.sk-serial {\n",
       "  display: flex;\n",
       "  flex-direction: column;\n",
       "  align-items: center;\n",
       "  background-color: var(--sklearn-color-background);\n",
       "  padding-right: 1em;\n",
       "  padding-left: 1em;\n",
       "}\n",
       "\n",
       "\n",
       "/* Toggleable style: style used for estimator/Pipeline/ColumnTransformer box that is\n",
       "clickable and can be expanded/collapsed.\n",
       "- Pipeline and ColumnTransformer use this feature and define the default style\n",
       "- Estimators will overwrite some part of the style using the `sk-estimator` class\n",
       "*/\n",
       "\n",
       "/* Pipeline and ColumnTransformer style (default) */\n",
       "\n",
       "#sk-container-id-6 div.sk-toggleable {\n",
       "  /* Default theme specific background. It is overwritten whether we have a\n",
       "  specific estimator or a Pipeline/ColumnTransformer */\n",
       "  background-color: var(--sklearn-color-background);\n",
       "}\n",
       "\n",
       "/* Toggleable label */\n",
       "#sk-container-id-6 label.sk-toggleable__label {\n",
       "  cursor: pointer;\n",
       "  display: block;\n",
       "  width: 100%;\n",
       "  margin-bottom: 0;\n",
       "  padding: 0.5em;\n",
       "  box-sizing: border-box;\n",
       "  text-align: center;\n",
       "}\n",
       "\n",
       "#sk-container-id-6 label.sk-toggleable__label-arrow:before {\n",
       "  /* Arrow on the left of the label */\n",
       "  content: \"▸\";\n",
       "  float: left;\n",
       "  margin-right: 0.25em;\n",
       "  color: var(--sklearn-color-icon);\n",
       "}\n",
       "\n",
       "#sk-container-id-6 label.sk-toggleable__label-arrow:hover:before {\n",
       "  color: var(--sklearn-color-text);\n",
       "}\n",
       "\n",
       "/* Toggleable content - dropdown */\n",
       "\n",
       "#sk-container-id-6 div.sk-toggleable__content {\n",
       "  max-height: 0;\n",
       "  max-width: 0;\n",
       "  overflow: hidden;\n",
       "  text-align: left;\n",
       "  /* unfitted */\n",
       "  background-color: var(--sklearn-color-unfitted-level-0);\n",
       "}\n",
       "\n",
       "#sk-container-id-6 div.sk-toggleable__content.fitted {\n",
       "  /* fitted */\n",
       "  background-color: var(--sklearn-color-fitted-level-0);\n",
       "}\n",
       "\n",
       "#sk-container-id-6 div.sk-toggleable__content pre {\n",
       "  margin: 0.2em;\n",
       "  border-radius: 0.25em;\n",
       "  color: var(--sklearn-color-text);\n",
       "  /* unfitted */\n",
       "  background-color: var(--sklearn-color-unfitted-level-0);\n",
       "}\n",
       "\n",
       "#sk-container-id-6 div.sk-toggleable__content.fitted pre {\n",
       "  /* unfitted */\n",
       "  background-color: var(--sklearn-color-fitted-level-0);\n",
       "}\n",
       "\n",
       "#sk-container-id-6 input.sk-toggleable__control:checked~div.sk-toggleable__content {\n",
       "  /* Expand drop-down */\n",
       "  max-height: 200px;\n",
       "  max-width: 100%;\n",
       "  overflow: auto;\n",
       "}\n",
       "\n",
       "#sk-container-id-6 input.sk-toggleable__control:checked~label.sk-toggleable__label-arrow:before {\n",
       "  content: \"▾\";\n",
       "}\n",
       "\n",
       "/* Pipeline/ColumnTransformer-specific style */\n",
       "\n",
       "#sk-container-id-6 div.sk-label input.sk-toggleable__control:checked~label.sk-toggleable__label {\n",
       "  color: var(--sklearn-color-text);\n",
       "  background-color: var(--sklearn-color-unfitted-level-2);\n",
       "}\n",
       "\n",
       "#sk-container-id-6 div.sk-label.fitted input.sk-toggleable__control:checked~label.sk-toggleable__label {\n",
       "  background-color: var(--sklearn-color-fitted-level-2);\n",
       "}\n",
       "\n",
       "/* Estimator-specific style */\n",
       "\n",
       "/* Colorize estimator box */\n",
       "#sk-container-id-6 div.sk-estimator input.sk-toggleable__control:checked~label.sk-toggleable__label {\n",
       "  /* unfitted */\n",
       "  background-color: var(--sklearn-color-unfitted-level-2);\n",
       "}\n",
       "\n",
       "#sk-container-id-6 div.sk-estimator.fitted input.sk-toggleable__control:checked~label.sk-toggleable__label {\n",
       "  /* fitted */\n",
       "  background-color: var(--sklearn-color-fitted-level-2);\n",
       "}\n",
       "\n",
       "#sk-container-id-6 div.sk-label label.sk-toggleable__label,\n",
       "#sk-container-id-6 div.sk-label label {\n",
       "  /* The background is the default theme color */\n",
       "  color: var(--sklearn-color-text-on-default-background);\n",
       "}\n",
       "\n",
       "/* On hover, darken the color of the background */\n",
       "#sk-container-id-6 div.sk-label:hover label.sk-toggleable__label {\n",
       "  color: var(--sklearn-color-text);\n",
       "  background-color: var(--sklearn-color-unfitted-level-2);\n",
       "}\n",
       "\n",
       "/* Label box, darken color on hover, fitted */\n",
       "#sk-container-id-6 div.sk-label.fitted:hover label.sk-toggleable__label.fitted {\n",
       "  color: var(--sklearn-color-text);\n",
       "  background-color: var(--sklearn-color-fitted-level-2);\n",
       "}\n",
       "\n",
       "/* Estimator label */\n",
       "\n",
       "#sk-container-id-6 div.sk-label label {\n",
       "  font-family: monospace;\n",
       "  font-weight: bold;\n",
       "  display: inline-block;\n",
       "  line-height: 1.2em;\n",
       "}\n",
       "\n",
       "#sk-container-id-6 div.sk-label-container {\n",
       "  text-align: center;\n",
       "}\n",
       "\n",
       "/* Estimator-specific */\n",
       "#sk-container-id-6 div.sk-estimator {\n",
       "  font-family: monospace;\n",
       "  border: 1px dotted var(--sklearn-color-border-box);\n",
       "  border-radius: 0.25em;\n",
       "  box-sizing: border-box;\n",
       "  margin-bottom: 0.5em;\n",
       "  /* unfitted */\n",
       "  background-color: var(--sklearn-color-unfitted-level-0);\n",
       "}\n",
       "\n",
       "#sk-container-id-6 div.sk-estimator.fitted {\n",
       "  /* fitted */\n",
       "  background-color: var(--sklearn-color-fitted-level-0);\n",
       "}\n",
       "\n",
       "/* on hover */\n",
       "#sk-container-id-6 div.sk-estimator:hover {\n",
       "  /* unfitted */\n",
       "  background-color: var(--sklearn-color-unfitted-level-2);\n",
       "}\n",
       "\n",
       "#sk-container-id-6 div.sk-estimator.fitted:hover {\n",
       "  /* fitted */\n",
       "  background-color: var(--sklearn-color-fitted-level-2);\n",
       "}\n",
       "\n",
       "/* Specification for estimator info (e.g. \"i\" and \"?\") */\n",
       "\n",
       "/* Common style for \"i\" and \"?\" */\n",
       "\n",
       ".sk-estimator-doc-link,\n",
       "a:link.sk-estimator-doc-link,\n",
       "a:visited.sk-estimator-doc-link {\n",
       "  float: right;\n",
       "  font-size: smaller;\n",
       "  line-height: 1em;\n",
       "  font-family: monospace;\n",
       "  background-color: var(--sklearn-color-background);\n",
       "  border-radius: 1em;\n",
       "  height: 1em;\n",
       "  width: 1em;\n",
       "  text-decoration: none !important;\n",
       "  margin-left: 1ex;\n",
       "  /* unfitted */\n",
       "  border: var(--sklearn-color-unfitted-level-1) 1pt solid;\n",
       "  color: var(--sklearn-color-unfitted-level-1);\n",
       "}\n",
       "\n",
       ".sk-estimator-doc-link.fitted,\n",
       "a:link.sk-estimator-doc-link.fitted,\n",
       "a:visited.sk-estimator-doc-link.fitted {\n",
       "  /* fitted */\n",
       "  border: var(--sklearn-color-fitted-level-1) 1pt solid;\n",
       "  color: var(--sklearn-color-fitted-level-1);\n",
       "}\n",
       "\n",
       "/* On hover */\n",
       "div.sk-estimator:hover .sk-estimator-doc-link:hover,\n",
       ".sk-estimator-doc-link:hover,\n",
       "div.sk-label-container:hover .sk-estimator-doc-link:hover,\n",
       ".sk-estimator-doc-link:hover {\n",
       "  /* unfitted */\n",
       "  background-color: var(--sklearn-color-unfitted-level-3);\n",
       "  color: var(--sklearn-color-background);\n",
       "  text-decoration: none;\n",
       "}\n",
       "\n",
       "div.sk-estimator.fitted:hover .sk-estimator-doc-link.fitted:hover,\n",
       ".sk-estimator-doc-link.fitted:hover,\n",
       "div.sk-label-container:hover .sk-estimator-doc-link.fitted:hover,\n",
       ".sk-estimator-doc-link.fitted:hover {\n",
       "  /* fitted */\n",
       "  background-color: var(--sklearn-color-fitted-level-3);\n",
       "  color: var(--sklearn-color-background);\n",
       "  text-decoration: none;\n",
       "}\n",
       "\n",
       "/* Span, style for the box shown on hovering the info icon */\n",
       ".sk-estimator-doc-link span {\n",
       "  display: none;\n",
       "  z-index: 9999;\n",
       "  position: relative;\n",
       "  font-weight: normal;\n",
       "  right: .2ex;\n",
       "  padding: .5ex;\n",
       "  margin: .5ex;\n",
       "  width: min-content;\n",
       "  min-width: 20ex;\n",
       "  max-width: 50ex;\n",
       "  color: var(--sklearn-color-text);\n",
       "  box-shadow: 2pt 2pt 4pt #999;\n",
       "  /* unfitted */\n",
       "  background: var(--sklearn-color-unfitted-level-0);\n",
       "  border: .5pt solid var(--sklearn-color-unfitted-level-3);\n",
       "}\n",
       "\n",
       ".sk-estimator-doc-link.fitted span {\n",
       "  /* fitted */\n",
       "  background: var(--sklearn-color-fitted-level-0);\n",
       "  border: var(--sklearn-color-fitted-level-3);\n",
       "}\n",
       "\n",
       ".sk-estimator-doc-link:hover span {\n",
       "  display: block;\n",
       "}\n",
       "\n",
       "/* \"?\"-specific style due to the `<a>` HTML tag */\n",
       "\n",
       "#sk-container-id-6 a.estimator_doc_link {\n",
       "  float: right;\n",
       "  font-size: 1rem;\n",
       "  line-height: 1em;\n",
       "  font-family: monospace;\n",
       "  background-color: var(--sklearn-color-background);\n",
       "  border-radius: 1rem;\n",
       "  height: 1rem;\n",
       "  width: 1rem;\n",
       "  text-decoration: none;\n",
       "  /* unfitted */\n",
       "  color: var(--sklearn-color-unfitted-level-1);\n",
       "  border: var(--sklearn-color-unfitted-level-1) 1pt solid;\n",
       "}\n",
       "\n",
       "#sk-container-id-6 a.estimator_doc_link.fitted {\n",
       "  /* fitted */\n",
       "  border: var(--sklearn-color-fitted-level-1) 1pt solid;\n",
       "  color: var(--sklearn-color-fitted-level-1);\n",
       "}\n",
       "\n",
       "/* On hover */\n",
       "#sk-container-id-6 a.estimator_doc_link:hover {\n",
       "  /* unfitted */\n",
       "  background-color: var(--sklearn-color-unfitted-level-3);\n",
       "  color: var(--sklearn-color-background);\n",
       "  text-decoration: none;\n",
       "}\n",
       "\n",
       "#sk-container-id-6 a.estimator_doc_link.fitted:hover {\n",
       "  /* fitted */\n",
       "  background-color: var(--sklearn-color-fitted-level-3);\n",
       "}\n",
       "</style><div id=\"sk-container-id-6\" class=\"sk-top-container\"><div class=\"sk-text-repr-fallback\"><pre>DBSCAN(eps=0.75, metric=&#x27;cosine&#x27;, min_samples=1)</pre><b>In a Jupyter environment, please rerun this cell to show the HTML representation or trust the notebook. <br />On GitHub, the HTML representation is unable to render, please try loading this page with nbviewer.org.</b></div><div class=\"sk-container\" hidden><div class=\"sk-item\"><div class=\"sk-estimator fitted sk-toggleable\"><input class=\"sk-toggleable__control sk-hidden--visually\" id=\"sk-estimator-id-6\" type=\"checkbox\" checked><label for=\"sk-estimator-id-6\" class=\"sk-toggleable__label fitted sk-toggleable__label-arrow fitted\">&nbsp;&nbsp;DBSCAN<a class=\"sk-estimator-doc-link fitted\" rel=\"noreferrer\" target=\"_blank\" href=\"https://scikit-learn.org/1.5/modules/generated/sklearn.cluster.DBSCAN.html\">?<span>Documentation for DBSCAN</span></a><span class=\"sk-estimator-doc-link fitted\">i<span>Fitted</span></span></label><div class=\"sk-toggleable__content fitted\"><pre>DBSCAN(eps=0.75, metric=&#x27;cosine&#x27;, min_samples=1)</pre></div> </div></div></div></div>"
      ],
      "text/plain": [
       "DBSCAN(eps=0.75, metric='cosine', min_samples=1)"
      ]
     },
     "execution_count": 179,
     "metadata": {},
     "output_type": "execute_result"
    }
   ],
   "source": [
    "db_scan_model.fit(today_news_embeddings)"
   ]
  },
  {
   "cell_type": "code",
   "execution_count": 180,
   "metadata": {},
   "outputs": [
    {
     "data": {
      "text/plain": [
       "array([0, 0, 0, 0, 0, 0, 0, 0, 0, 0, 0, 0, 0, 0, 0, 0, 0, 0, 0, 0, 0, 0,\n",
       "       0, 0, 0, 0, 0, 0, 0, 0, 0, 0, 0, 0, 0, 0, 0, 0, 0, 0, 0, 0, 0, 0,\n",
       "       0, 0, 0, 0, 0, 0, 0, 0, 0, 0, 0, 0, 0, 0, 0, 0, 0, 0, 0, 0, 0, 0,\n",
       "       0, 0, 0, 0, 0, 0])"
      ]
     },
     "execution_count": 180,
     "metadata": {},
     "output_type": "execute_result"
    }
   ],
   "source": [
    "db_scan_model.labels_"
   ]
  },
  {
   "cell_type": "code",
   "execution_count": 181,
   "metadata": {},
   "outputs": [],
   "source": [
    "from sklearn.metrics import pairwise_distances"
   ]
  },
  {
   "cell_type": "code",
   "execution_count": 202,
   "metadata": {},
   "outputs": [
    {
     "data": {
      "text/plain": [
       "1.0"
      ]
     },
     "execution_count": 202,
     "metadata": {},
     "output_type": "execute_result"
    }
   ],
   "source": [
    "sentence_transformer_model.similarity(today_news_embeddings[0], today_news_embeddings[0])[0].item()"
   ]
  },
  {
   "cell_type": "code",
   "execution_count": 203,
   "metadata": {},
   "outputs": [],
   "source": [
    "def transformer_cosine_similarity(X, Y):\n",
    "    return sentence_transformer_model.similarity(X, Y).item()"
   ]
  },
  {
   "cell_type": "code",
   "execution_count": 366,
   "metadata": {},
   "outputs": [],
   "source": [
    "db_scan_model = DBSCAN(eps=0.3, min_samples=5, metric=\"cosine\", algorithm=\"auto\")"
   ]
  },
  {
   "cell_type": "code",
   "execution_count": 367,
   "metadata": {},
   "outputs": [
    {
     "data": {
      "text/html": [
       "<style>#sk-container-id-27 {\n",
       "  /* Definition of color scheme common for light and dark mode */\n",
       "  --sklearn-color-text: black;\n",
       "  --sklearn-color-line: gray;\n",
       "  /* Definition of color scheme for unfitted estimators */\n",
       "  --sklearn-color-unfitted-level-0: #fff5e6;\n",
       "  --sklearn-color-unfitted-level-1: #f6e4d2;\n",
       "  --sklearn-color-unfitted-level-2: #ffe0b3;\n",
       "  --sklearn-color-unfitted-level-3: chocolate;\n",
       "  /* Definition of color scheme for fitted estimators */\n",
       "  --sklearn-color-fitted-level-0: #f0f8ff;\n",
       "  --sklearn-color-fitted-level-1: #d4ebff;\n",
       "  --sklearn-color-fitted-level-2: #b3dbfd;\n",
       "  --sklearn-color-fitted-level-3: cornflowerblue;\n",
       "\n",
       "  /* Specific color for light theme */\n",
       "  --sklearn-color-text-on-default-background: var(--sg-text-color, var(--theme-code-foreground, var(--jp-content-font-color1, black)));\n",
       "  --sklearn-color-background: var(--sg-background-color, var(--theme-background, var(--jp-layout-color0, white)));\n",
       "  --sklearn-color-border-box: var(--sg-text-color, var(--theme-code-foreground, var(--jp-content-font-color1, black)));\n",
       "  --sklearn-color-icon: #696969;\n",
       "\n",
       "  @media (prefers-color-scheme: dark) {\n",
       "    /* Redefinition of color scheme for dark theme */\n",
       "    --sklearn-color-text-on-default-background: var(--sg-text-color, var(--theme-code-foreground, var(--jp-content-font-color1, white)));\n",
       "    --sklearn-color-background: var(--sg-background-color, var(--theme-background, var(--jp-layout-color0, #111)));\n",
       "    --sklearn-color-border-box: var(--sg-text-color, var(--theme-code-foreground, var(--jp-content-font-color1, white)));\n",
       "    --sklearn-color-icon: #878787;\n",
       "  }\n",
       "}\n",
       "\n",
       "#sk-container-id-27 {\n",
       "  color: var(--sklearn-color-text);\n",
       "}\n",
       "\n",
       "#sk-container-id-27 pre {\n",
       "  padding: 0;\n",
       "}\n",
       "\n",
       "#sk-container-id-27 input.sk-hidden--visually {\n",
       "  border: 0;\n",
       "  clip: rect(1px 1px 1px 1px);\n",
       "  clip: rect(1px, 1px, 1px, 1px);\n",
       "  height: 1px;\n",
       "  margin: -1px;\n",
       "  overflow: hidden;\n",
       "  padding: 0;\n",
       "  position: absolute;\n",
       "  width: 1px;\n",
       "}\n",
       "\n",
       "#sk-container-id-27 div.sk-dashed-wrapped {\n",
       "  border: 1px dashed var(--sklearn-color-line);\n",
       "  margin: 0 0.4em 0.5em 0.4em;\n",
       "  box-sizing: border-box;\n",
       "  padding-bottom: 0.4em;\n",
       "  background-color: var(--sklearn-color-background);\n",
       "}\n",
       "\n",
       "#sk-container-id-27 div.sk-container {\n",
       "  /* jupyter's `normalize.less` sets `[hidden] { display: none; }`\n",
       "     but bootstrap.min.css set `[hidden] { display: none !important; }`\n",
       "     so we also need the `!important` here to be able to override the\n",
       "     default hidden behavior on the sphinx rendered scikit-learn.org.\n",
       "     See: https://github.com/scikit-learn/scikit-learn/issues/21755 */\n",
       "  display: inline-block !important;\n",
       "  position: relative;\n",
       "}\n",
       "\n",
       "#sk-container-id-27 div.sk-text-repr-fallback {\n",
       "  display: none;\n",
       "}\n",
       "\n",
       "div.sk-parallel-item,\n",
       "div.sk-serial,\n",
       "div.sk-item {\n",
       "  /* draw centered vertical line to link estimators */\n",
       "  background-image: linear-gradient(var(--sklearn-color-text-on-default-background), var(--sklearn-color-text-on-default-background));\n",
       "  background-size: 2px 100%;\n",
       "  background-repeat: no-repeat;\n",
       "  background-position: center center;\n",
       "}\n",
       "\n",
       "/* Parallel-specific style estimator block */\n",
       "\n",
       "#sk-container-id-27 div.sk-parallel-item::after {\n",
       "  content: \"\";\n",
       "  width: 100%;\n",
       "  border-bottom: 2px solid var(--sklearn-color-text-on-default-background);\n",
       "  flex-grow: 1;\n",
       "}\n",
       "\n",
       "#sk-container-id-27 div.sk-parallel {\n",
       "  display: flex;\n",
       "  align-items: stretch;\n",
       "  justify-content: center;\n",
       "  background-color: var(--sklearn-color-background);\n",
       "  position: relative;\n",
       "}\n",
       "\n",
       "#sk-container-id-27 div.sk-parallel-item {\n",
       "  display: flex;\n",
       "  flex-direction: column;\n",
       "}\n",
       "\n",
       "#sk-container-id-27 div.sk-parallel-item:first-child::after {\n",
       "  align-self: flex-end;\n",
       "  width: 50%;\n",
       "}\n",
       "\n",
       "#sk-container-id-27 div.sk-parallel-item:last-child::after {\n",
       "  align-self: flex-start;\n",
       "  width: 50%;\n",
       "}\n",
       "\n",
       "#sk-container-id-27 div.sk-parallel-item:only-child::after {\n",
       "  width: 0;\n",
       "}\n",
       "\n",
       "/* Serial-specific style estimator block */\n",
       "\n",
       "#sk-container-id-27 div.sk-serial {\n",
       "  display: flex;\n",
       "  flex-direction: column;\n",
       "  align-items: center;\n",
       "  background-color: var(--sklearn-color-background);\n",
       "  padding-right: 1em;\n",
       "  padding-left: 1em;\n",
       "}\n",
       "\n",
       "\n",
       "/* Toggleable style: style used for estimator/Pipeline/ColumnTransformer box that is\n",
       "clickable and can be expanded/collapsed.\n",
       "- Pipeline and ColumnTransformer use this feature and define the default style\n",
       "- Estimators will overwrite some part of the style using the `sk-estimator` class\n",
       "*/\n",
       "\n",
       "/* Pipeline and ColumnTransformer style (default) */\n",
       "\n",
       "#sk-container-id-27 div.sk-toggleable {\n",
       "  /* Default theme specific background. It is overwritten whether we have a\n",
       "  specific estimator or a Pipeline/ColumnTransformer */\n",
       "  background-color: var(--sklearn-color-background);\n",
       "}\n",
       "\n",
       "/* Toggleable label */\n",
       "#sk-container-id-27 label.sk-toggleable__label {\n",
       "  cursor: pointer;\n",
       "  display: block;\n",
       "  width: 100%;\n",
       "  margin-bottom: 0;\n",
       "  padding: 0.5em;\n",
       "  box-sizing: border-box;\n",
       "  text-align: center;\n",
       "}\n",
       "\n",
       "#sk-container-id-27 label.sk-toggleable__label-arrow:before {\n",
       "  /* Arrow on the left of the label */\n",
       "  content: \"▸\";\n",
       "  float: left;\n",
       "  margin-right: 0.25em;\n",
       "  color: var(--sklearn-color-icon);\n",
       "}\n",
       "\n",
       "#sk-container-id-27 label.sk-toggleable__label-arrow:hover:before {\n",
       "  color: var(--sklearn-color-text);\n",
       "}\n",
       "\n",
       "/* Toggleable content - dropdown */\n",
       "\n",
       "#sk-container-id-27 div.sk-toggleable__content {\n",
       "  max-height: 0;\n",
       "  max-width: 0;\n",
       "  overflow: hidden;\n",
       "  text-align: left;\n",
       "  /* unfitted */\n",
       "  background-color: var(--sklearn-color-unfitted-level-0);\n",
       "}\n",
       "\n",
       "#sk-container-id-27 div.sk-toggleable__content.fitted {\n",
       "  /* fitted */\n",
       "  background-color: var(--sklearn-color-fitted-level-0);\n",
       "}\n",
       "\n",
       "#sk-container-id-27 div.sk-toggleable__content pre {\n",
       "  margin: 0.2em;\n",
       "  border-radius: 0.25em;\n",
       "  color: var(--sklearn-color-text);\n",
       "  /* unfitted */\n",
       "  background-color: var(--sklearn-color-unfitted-level-0);\n",
       "}\n",
       "\n",
       "#sk-container-id-27 div.sk-toggleable__content.fitted pre {\n",
       "  /* unfitted */\n",
       "  background-color: var(--sklearn-color-fitted-level-0);\n",
       "}\n",
       "\n",
       "#sk-container-id-27 input.sk-toggleable__control:checked~div.sk-toggleable__content {\n",
       "  /* Expand drop-down */\n",
       "  max-height: 200px;\n",
       "  max-width: 100%;\n",
       "  overflow: auto;\n",
       "}\n",
       "\n",
       "#sk-container-id-27 input.sk-toggleable__control:checked~label.sk-toggleable__label-arrow:before {\n",
       "  content: \"▾\";\n",
       "}\n",
       "\n",
       "/* Pipeline/ColumnTransformer-specific style */\n",
       "\n",
       "#sk-container-id-27 div.sk-label input.sk-toggleable__control:checked~label.sk-toggleable__label {\n",
       "  color: var(--sklearn-color-text);\n",
       "  background-color: var(--sklearn-color-unfitted-level-2);\n",
       "}\n",
       "\n",
       "#sk-container-id-27 div.sk-label.fitted input.sk-toggleable__control:checked~label.sk-toggleable__label {\n",
       "  background-color: var(--sklearn-color-fitted-level-2);\n",
       "}\n",
       "\n",
       "/* Estimator-specific style */\n",
       "\n",
       "/* Colorize estimator box */\n",
       "#sk-container-id-27 div.sk-estimator input.sk-toggleable__control:checked~label.sk-toggleable__label {\n",
       "  /* unfitted */\n",
       "  background-color: var(--sklearn-color-unfitted-level-2);\n",
       "}\n",
       "\n",
       "#sk-container-id-27 div.sk-estimator.fitted input.sk-toggleable__control:checked~label.sk-toggleable__label {\n",
       "  /* fitted */\n",
       "  background-color: var(--sklearn-color-fitted-level-2);\n",
       "}\n",
       "\n",
       "#sk-container-id-27 div.sk-label label.sk-toggleable__label,\n",
       "#sk-container-id-27 div.sk-label label {\n",
       "  /* The background is the default theme color */\n",
       "  color: var(--sklearn-color-text-on-default-background);\n",
       "}\n",
       "\n",
       "/* On hover, darken the color of the background */\n",
       "#sk-container-id-27 div.sk-label:hover label.sk-toggleable__label {\n",
       "  color: var(--sklearn-color-text);\n",
       "  background-color: var(--sklearn-color-unfitted-level-2);\n",
       "}\n",
       "\n",
       "/* Label box, darken color on hover, fitted */\n",
       "#sk-container-id-27 div.sk-label.fitted:hover label.sk-toggleable__label.fitted {\n",
       "  color: var(--sklearn-color-text);\n",
       "  background-color: var(--sklearn-color-fitted-level-2);\n",
       "}\n",
       "\n",
       "/* Estimator label */\n",
       "\n",
       "#sk-container-id-27 div.sk-label label {\n",
       "  font-family: monospace;\n",
       "  font-weight: bold;\n",
       "  display: inline-block;\n",
       "  line-height: 1.2em;\n",
       "}\n",
       "\n",
       "#sk-container-id-27 div.sk-label-container {\n",
       "  text-align: center;\n",
       "}\n",
       "\n",
       "/* Estimator-specific */\n",
       "#sk-container-id-27 div.sk-estimator {\n",
       "  font-family: monospace;\n",
       "  border: 1px dotted var(--sklearn-color-border-box);\n",
       "  border-radius: 0.25em;\n",
       "  box-sizing: border-box;\n",
       "  margin-bottom: 0.5em;\n",
       "  /* unfitted */\n",
       "  background-color: var(--sklearn-color-unfitted-level-0);\n",
       "}\n",
       "\n",
       "#sk-container-id-27 div.sk-estimator.fitted {\n",
       "  /* fitted */\n",
       "  background-color: var(--sklearn-color-fitted-level-0);\n",
       "}\n",
       "\n",
       "/* on hover */\n",
       "#sk-container-id-27 div.sk-estimator:hover {\n",
       "  /* unfitted */\n",
       "  background-color: var(--sklearn-color-unfitted-level-2);\n",
       "}\n",
       "\n",
       "#sk-container-id-27 div.sk-estimator.fitted:hover {\n",
       "  /* fitted */\n",
       "  background-color: var(--sklearn-color-fitted-level-2);\n",
       "}\n",
       "\n",
       "/* Specification for estimator info (e.g. \"i\" and \"?\") */\n",
       "\n",
       "/* Common style for \"i\" and \"?\" */\n",
       "\n",
       ".sk-estimator-doc-link,\n",
       "a:link.sk-estimator-doc-link,\n",
       "a:visited.sk-estimator-doc-link {\n",
       "  float: right;\n",
       "  font-size: smaller;\n",
       "  line-height: 1em;\n",
       "  font-family: monospace;\n",
       "  background-color: var(--sklearn-color-background);\n",
       "  border-radius: 1em;\n",
       "  height: 1em;\n",
       "  width: 1em;\n",
       "  text-decoration: none !important;\n",
       "  margin-left: 1ex;\n",
       "  /* unfitted */\n",
       "  border: var(--sklearn-color-unfitted-level-1) 1pt solid;\n",
       "  color: var(--sklearn-color-unfitted-level-1);\n",
       "}\n",
       "\n",
       ".sk-estimator-doc-link.fitted,\n",
       "a:link.sk-estimator-doc-link.fitted,\n",
       "a:visited.sk-estimator-doc-link.fitted {\n",
       "  /* fitted */\n",
       "  border: var(--sklearn-color-fitted-level-1) 1pt solid;\n",
       "  color: var(--sklearn-color-fitted-level-1);\n",
       "}\n",
       "\n",
       "/* On hover */\n",
       "div.sk-estimator:hover .sk-estimator-doc-link:hover,\n",
       ".sk-estimator-doc-link:hover,\n",
       "div.sk-label-container:hover .sk-estimator-doc-link:hover,\n",
       ".sk-estimator-doc-link:hover {\n",
       "  /* unfitted */\n",
       "  background-color: var(--sklearn-color-unfitted-level-3);\n",
       "  color: var(--sklearn-color-background);\n",
       "  text-decoration: none;\n",
       "}\n",
       "\n",
       "div.sk-estimator.fitted:hover .sk-estimator-doc-link.fitted:hover,\n",
       ".sk-estimator-doc-link.fitted:hover,\n",
       "div.sk-label-container:hover .sk-estimator-doc-link.fitted:hover,\n",
       ".sk-estimator-doc-link.fitted:hover {\n",
       "  /* fitted */\n",
       "  background-color: var(--sklearn-color-fitted-level-3);\n",
       "  color: var(--sklearn-color-background);\n",
       "  text-decoration: none;\n",
       "}\n",
       "\n",
       "/* Span, style for the box shown on hovering the info icon */\n",
       ".sk-estimator-doc-link span {\n",
       "  display: none;\n",
       "  z-index: 9999;\n",
       "  position: relative;\n",
       "  font-weight: normal;\n",
       "  right: .2ex;\n",
       "  padding: .5ex;\n",
       "  margin: .5ex;\n",
       "  width: min-content;\n",
       "  min-width: 20ex;\n",
       "  max-width: 50ex;\n",
       "  color: var(--sklearn-color-text);\n",
       "  box-shadow: 2pt 2pt 4pt #999;\n",
       "  /* unfitted */\n",
       "  background: var(--sklearn-color-unfitted-level-0);\n",
       "  border: .5pt solid var(--sklearn-color-unfitted-level-3);\n",
       "}\n",
       "\n",
       ".sk-estimator-doc-link.fitted span {\n",
       "  /* fitted */\n",
       "  background: var(--sklearn-color-fitted-level-0);\n",
       "  border: var(--sklearn-color-fitted-level-3);\n",
       "}\n",
       "\n",
       ".sk-estimator-doc-link:hover span {\n",
       "  display: block;\n",
       "}\n",
       "\n",
       "/* \"?\"-specific style due to the `<a>` HTML tag */\n",
       "\n",
       "#sk-container-id-27 a.estimator_doc_link {\n",
       "  float: right;\n",
       "  font-size: 1rem;\n",
       "  line-height: 1em;\n",
       "  font-family: monospace;\n",
       "  background-color: var(--sklearn-color-background);\n",
       "  border-radius: 1rem;\n",
       "  height: 1rem;\n",
       "  width: 1rem;\n",
       "  text-decoration: none;\n",
       "  /* unfitted */\n",
       "  color: var(--sklearn-color-unfitted-level-1);\n",
       "  border: var(--sklearn-color-unfitted-level-1) 1pt solid;\n",
       "}\n",
       "\n",
       "#sk-container-id-27 a.estimator_doc_link.fitted {\n",
       "  /* fitted */\n",
       "  border: var(--sklearn-color-fitted-level-1) 1pt solid;\n",
       "  color: var(--sklearn-color-fitted-level-1);\n",
       "}\n",
       "\n",
       "/* On hover */\n",
       "#sk-container-id-27 a.estimator_doc_link:hover {\n",
       "  /* unfitted */\n",
       "  background-color: var(--sklearn-color-unfitted-level-3);\n",
       "  color: var(--sklearn-color-background);\n",
       "  text-decoration: none;\n",
       "}\n",
       "\n",
       "#sk-container-id-27 a.estimator_doc_link.fitted:hover {\n",
       "  /* fitted */\n",
       "  background-color: var(--sklearn-color-fitted-level-3);\n",
       "}\n",
       "</style><div id=\"sk-container-id-27\" class=\"sk-top-container\"><div class=\"sk-text-repr-fallback\"><pre>DBSCAN(eps=0.3, metric=&#x27;cosine&#x27;)</pre><b>In a Jupyter environment, please rerun this cell to show the HTML representation or trust the notebook. <br />On GitHub, the HTML representation is unable to render, please try loading this page with nbviewer.org.</b></div><div class=\"sk-container\" hidden><div class=\"sk-item\"><div class=\"sk-estimator fitted sk-toggleable\"><input class=\"sk-toggleable__control sk-hidden--visually\" id=\"sk-estimator-id-27\" type=\"checkbox\" checked><label for=\"sk-estimator-id-27\" class=\"sk-toggleable__label fitted sk-toggleable__label-arrow fitted\">&nbsp;&nbsp;DBSCAN<a class=\"sk-estimator-doc-link fitted\" rel=\"noreferrer\" target=\"_blank\" href=\"https://scikit-learn.org/1.5/modules/generated/sklearn.cluster.DBSCAN.html\">?<span>Documentation for DBSCAN</span></a><span class=\"sk-estimator-doc-link fitted\">i<span>Fitted</span></span></label><div class=\"sk-toggleable__content fitted\"><pre>DBSCAN(eps=0.3, metric=&#x27;cosine&#x27;)</pre></div> </div></div></div></div>"
      ],
      "text/plain": [
       "DBSCAN(eps=0.3, metric='cosine')"
      ]
     },
     "execution_count": 367,
     "metadata": {},
     "output_type": "execute_result"
    }
   ],
   "source": [
    "db_scan_model.fit(today_news_embeddings)"
   ]
  },
  {
   "cell_type": "code",
   "execution_count": 368,
   "metadata": {},
   "outputs": [
    {
     "data": {
      "text/plain": [
       "array([-1, -1, -1, -1, -1, -1, -1, -1,  0,  0,  2, -1, -1, -1, -1, -1, -1,\n",
       "       -1,  1, -1,  1, -1, -1, -1,  0,  2,  2, -1, -1,  1, -1,  1,  0, -1,\n",
       "       -1,  1, -1, -1, -1, -1, -1, -1,  1, -1, -1, -1, -1, -1, -1,  1, -1,\n",
       "       -1, -1, -1, -1, -1, -1, -1, -1, -1,  1,  1,  1,  2, -1, -1,  2, -1,\n",
       "        0, -1, -1,  2])"
      ]
     },
     "execution_count": 368,
     "metadata": {},
     "output_type": "execute_result"
    }
   ],
   "source": [
    "db_scan_model.labels_"
   ]
  },
  {
   "cell_type": "code",
   "execution_count": 369,
   "metadata": {},
   "outputs": [],
   "source": [
    "results_df[\"labels_db_scan\"] = db_scan_model.labels_"
   ]
  },
  {
   "cell_type": "code",
   "execution_count": 297,
   "metadata": {},
   "outputs": [],
   "source": [
    "### Ned to explore nearest neibords models."
   ]
  },
  {
   "cell_type": "markdown",
   "metadata": {},
   "source": [
    "Need to explore why db scan is not working, and then work out the nearest neibor stuff"
   ]
  },
  {
   "cell_type": "markdown",
   "metadata": {},
   "source": [
    " Another approach to try to get the best document actually should be trying to cluster document based on their titles."
   ]
  },
  {
   "cell_type": "code",
   "execution_count": 220,
   "metadata": {},
   "outputs": [],
   "source": [
    "from sklearn.neighbors import NearestNeighbors"
   ]
  },
  {
   "cell_type": "code",
   "execution_count": 335,
   "metadata": {},
   "outputs": [],
   "source": [
    "neighbors_model = NearestNeighbors(\n",
    "    radius=0,\n",
    "    algorithm=\"auto\",\n",
    "    leaf_size=30,\n",
    "    metric=\"cosine\",\n",
    "    metric_params={},\n",
    ")"
   ]
  },
  {
   "cell_type": "code",
   "execution_count": 336,
   "metadata": {},
   "outputs": [
    {
     "data": {
      "text/html": [
       "<style>#sk-container-id-21 {\n",
       "  /* Definition of color scheme common for light and dark mode */\n",
       "  --sklearn-color-text: black;\n",
       "  --sklearn-color-line: gray;\n",
       "  /* Definition of color scheme for unfitted estimators */\n",
       "  --sklearn-color-unfitted-level-0: #fff5e6;\n",
       "  --sklearn-color-unfitted-level-1: #f6e4d2;\n",
       "  --sklearn-color-unfitted-level-2: #ffe0b3;\n",
       "  --sklearn-color-unfitted-level-3: chocolate;\n",
       "  /* Definition of color scheme for fitted estimators */\n",
       "  --sklearn-color-fitted-level-0: #f0f8ff;\n",
       "  --sklearn-color-fitted-level-1: #d4ebff;\n",
       "  --sklearn-color-fitted-level-2: #b3dbfd;\n",
       "  --sklearn-color-fitted-level-3: cornflowerblue;\n",
       "\n",
       "  /* Specific color for light theme */\n",
       "  --sklearn-color-text-on-default-background: var(--sg-text-color, var(--theme-code-foreground, var(--jp-content-font-color1, black)));\n",
       "  --sklearn-color-background: var(--sg-background-color, var(--theme-background, var(--jp-layout-color0, white)));\n",
       "  --sklearn-color-border-box: var(--sg-text-color, var(--theme-code-foreground, var(--jp-content-font-color1, black)));\n",
       "  --sklearn-color-icon: #696969;\n",
       "\n",
       "  @media (prefers-color-scheme: dark) {\n",
       "    /* Redefinition of color scheme for dark theme */\n",
       "    --sklearn-color-text-on-default-background: var(--sg-text-color, var(--theme-code-foreground, var(--jp-content-font-color1, white)));\n",
       "    --sklearn-color-background: var(--sg-background-color, var(--theme-background, var(--jp-layout-color0, #111)));\n",
       "    --sklearn-color-border-box: var(--sg-text-color, var(--theme-code-foreground, var(--jp-content-font-color1, white)));\n",
       "    --sklearn-color-icon: #878787;\n",
       "  }\n",
       "}\n",
       "\n",
       "#sk-container-id-21 {\n",
       "  color: var(--sklearn-color-text);\n",
       "}\n",
       "\n",
       "#sk-container-id-21 pre {\n",
       "  padding: 0;\n",
       "}\n",
       "\n",
       "#sk-container-id-21 input.sk-hidden--visually {\n",
       "  border: 0;\n",
       "  clip: rect(1px 1px 1px 1px);\n",
       "  clip: rect(1px, 1px, 1px, 1px);\n",
       "  height: 1px;\n",
       "  margin: -1px;\n",
       "  overflow: hidden;\n",
       "  padding: 0;\n",
       "  position: absolute;\n",
       "  width: 1px;\n",
       "}\n",
       "\n",
       "#sk-container-id-21 div.sk-dashed-wrapped {\n",
       "  border: 1px dashed var(--sklearn-color-line);\n",
       "  margin: 0 0.4em 0.5em 0.4em;\n",
       "  box-sizing: border-box;\n",
       "  padding-bottom: 0.4em;\n",
       "  background-color: var(--sklearn-color-background);\n",
       "}\n",
       "\n",
       "#sk-container-id-21 div.sk-container {\n",
       "  /* jupyter's `normalize.less` sets `[hidden] { display: none; }`\n",
       "     but bootstrap.min.css set `[hidden] { display: none !important; }`\n",
       "     so we also need the `!important` here to be able to override the\n",
       "     default hidden behavior on the sphinx rendered scikit-learn.org.\n",
       "     See: https://github.com/scikit-learn/scikit-learn/issues/21755 */\n",
       "  display: inline-block !important;\n",
       "  position: relative;\n",
       "}\n",
       "\n",
       "#sk-container-id-21 div.sk-text-repr-fallback {\n",
       "  display: none;\n",
       "}\n",
       "\n",
       "div.sk-parallel-item,\n",
       "div.sk-serial,\n",
       "div.sk-item {\n",
       "  /* draw centered vertical line to link estimators */\n",
       "  background-image: linear-gradient(var(--sklearn-color-text-on-default-background), var(--sklearn-color-text-on-default-background));\n",
       "  background-size: 2px 100%;\n",
       "  background-repeat: no-repeat;\n",
       "  background-position: center center;\n",
       "}\n",
       "\n",
       "/* Parallel-specific style estimator block */\n",
       "\n",
       "#sk-container-id-21 div.sk-parallel-item::after {\n",
       "  content: \"\";\n",
       "  width: 100%;\n",
       "  border-bottom: 2px solid var(--sklearn-color-text-on-default-background);\n",
       "  flex-grow: 1;\n",
       "}\n",
       "\n",
       "#sk-container-id-21 div.sk-parallel {\n",
       "  display: flex;\n",
       "  align-items: stretch;\n",
       "  justify-content: center;\n",
       "  background-color: var(--sklearn-color-background);\n",
       "  position: relative;\n",
       "}\n",
       "\n",
       "#sk-container-id-21 div.sk-parallel-item {\n",
       "  display: flex;\n",
       "  flex-direction: column;\n",
       "}\n",
       "\n",
       "#sk-container-id-21 div.sk-parallel-item:first-child::after {\n",
       "  align-self: flex-end;\n",
       "  width: 50%;\n",
       "}\n",
       "\n",
       "#sk-container-id-21 div.sk-parallel-item:last-child::after {\n",
       "  align-self: flex-start;\n",
       "  width: 50%;\n",
       "}\n",
       "\n",
       "#sk-container-id-21 div.sk-parallel-item:only-child::after {\n",
       "  width: 0;\n",
       "}\n",
       "\n",
       "/* Serial-specific style estimator block */\n",
       "\n",
       "#sk-container-id-21 div.sk-serial {\n",
       "  display: flex;\n",
       "  flex-direction: column;\n",
       "  align-items: center;\n",
       "  background-color: var(--sklearn-color-background);\n",
       "  padding-right: 1em;\n",
       "  padding-left: 1em;\n",
       "}\n",
       "\n",
       "\n",
       "/* Toggleable style: style used for estimator/Pipeline/ColumnTransformer box that is\n",
       "clickable and can be expanded/collapsed.\n",
       "- Pipeline and ColumnTransformer use this feature and define the default style\n",
       "- Estimators will overwrite some part of the style using the `sk-estimator` class\n",
       "*/\n",
       "\n",
       "/* Pipeline and ColumnTransformer style (default) */\n",
       "\n",
       "#sk-container-id-21 div.sk-toggleable {\n",
       "  /* Default theme specific background. It is overwritten whether we have a\n",
       "  specific estimator or a Pipeline/ColumnTransformer */\n",
       "  background-color: var(--sklearn-color-background);\n",
       "}\n",
       "\n",
       "/* Toggleable label */\n",
       "#sk-container-id-21 label.sk-toggleable__label {\n",
       "  cursor: pointer;\n",
       "  display: block;\n",
       "  width: 100%;\n",
       "  margin-bottom: 0;\n",
       "  padding: 0.5em;\n",
       "  box-sizing: border-box;\n",
       "  text-align: center;\n",
       "}\n",
       "\n",
       "#sk-container-id-21 label.sk-toggleable__label-arrow:before {\n",
       "  /* Arrow on the left of the label */\n",
       "  content: \"▸\";\n",
       "  float: left;\n",
       "  margin-right: 0.25em;\n",
       "  color: var(--sklearn-color-icon);\n",
       "}\n",
       "\n",
       "#sk-container-id-21 label.sk-toggleable__label-arrow:hover:before {\n",
       "  color: var(--sklearn-color-text);\n",
       "}\n",
       "\n",
       "/* Toggleable content - dropdown */\n",
       "\n",
       "#sk-container-id-21 div.sk-toggleable__content {\n",
       "  max-height: 0;\n",
       "  max-width: 0;\n",
       "  overflow: hidden;\n",
       "  text-align: left;\n",
       "  /* unfitted */\n",
       "  background-color: var(--sklearn-color-unfitted-level-0);\n",
       "}\n",
       "\n",
       "#sk-container-id-21 div.sk-toggleable__content.fitted {\n",
       "  /* fitted */\n",
       "  background-color: var(--sklearn-color-fitted-level-0);\n",
       "}\n",
       "\n",
       "#sk-container-id-21 div.sk-toggleable__content pre {\n",
       "  margin: 0.2em;\n",
       "  border-radius: 0.25em;\n",
       "  color: var(--sklearn-color-text);\n",
       "  /* unfitted */\n",
       "  background-color: var(--sklearn-color-unfitted-level-0);\n",
       "}\n",
       "\n",
       "#sk-container-id-21 div.sk-toggleable__content.fitted pre {\n",
       "  /* unfitted */\n",
       "  background-color: var(--sklearn-color-fitted-level-0);\n",
       "}\n",
       "\n",
       "#sk-container-id-21 input.sk-toggleable__control:checked~div.sk-toggleable__content {\n",
       "  /* Expand drop-down */\n",
       "  max-height: 200px;\n",
       "  max-width: 100%;\n",
       "  overflow: auto;\n",
       "}\n",
       "\n",
       "#sk-container-id-21 input.sk-toggleable__control:checked~label.sk-toggleable__label-arrow:before {\n",
       "  content: \"▾\";\n",
       "}\n",
       "\n",
       "/* Pipeline/ColumnTransformer-specific style */\n",
       "\n",
       "#sk-container-id-21 div.sk-label input.sk-toggleable__control:checked~label.sk-toggleable__label {\n",
       "  color: var(--sklearn-color-text);\n",
       "  background-color: var(--sklearn-color-unfitted-level-2);\n",
       "}\n",
       "\n",
       "#sk-container-id-21 div.sk-label.fitted input.sk-toggleable__control:checked~label.sk-toggleable__label {\n",
       "  background-color: var(--sklearn-color-fitted-level-2);\n",
       "}\n",
       "\n",
       "/* Estimator-specific style */\n",
       "\n",
       "/* Colorize estimator box */\n",
       "#sk-container-id-21 div.sk-estimator input.sk-toggleable__control:checked~label.sk-toggleable__label {\n",
       "  /* unfitted */\n",
       "  background-color: var(--sklearn-color-unfitted-level-2);\n",
       "}\n",
       "\n",
       "#sk-container-id-21 div.sk-estimator.fitted input.sk-toggleable__control:checked~label.sk-toggleable__label {\n",
       "  /* fitted */\n",
       "  background-color: var(--sklearn-color-fitted-level-2);\n",
       "}\n",
       "\n",
       "#sk-container-id-21 div.sk-label label.sk-toggleable__label,\n",
       "#sk-container-id-21 div.sk-label label {\n",
       "  /* The background is the default theme color */\n",
       "  color: var(--sklearn-color-text-on-default-background);\n",
       "}\n",
       "\n",
       "/* On hover, darken the color of the background */\n",
       "#sk-container-id-21 div.sk-label:hover label.sk-toggleable__label {\n",
       "  color: var(--sklearn-color-text);\n",
       "  background-color: var(--sklearn-color-unfitted-level-2);\n",
       "}\n",
       "\n",
       "/* Label box, darken color on hover, fitted */\n",
       "#sk-container-id-21 div.sk-label.fitted:hover label.sk-toggleable__label.fitted {\n",
       "  color: var(--sklearn-color-text);\n",
       "  background-color: var(--sklearn-color-fitted-level-2);\n",
       "}\n",
       "\n",
       "/* Estimator label */\n",
       "\n",
       "#sk-container-id-21 div.sk-label label {\n",
       "  font-family: monospace;\n",
       "  font-weight: bold;\n",
       "  display: inline-block;\n",
       "  line-height: 1.2em;\n",
       "}\n",
       "\n",
       "#sk-container-id-21 div.sk-label-container {\n",
       "  text-align: center;\n",
       "}\n",
       "\n",
       "/* Estimator-specific */\n",
       "#sk-container-id-21 div.sk-estimator {\n",
       "  font-family: monospace;\n",
       "  border: 1px dotted var(--sklearn-color-border-box);\n",
       "  border-radius: 0.25em;\n",
       "  box-sizing: border-box;\n",
       "  margin-bottom: 0.5em;\n",
       "  /* unfitted */\n",
       "  background-color: var(--sklearn-color-unfitted-level-0);\n",
       "}\n",
       "\n",
       "#sk-container-id-21 div.sk-estimator.fitted {\n",
       "  /* fitted */\n",
       "  background-color: var(--sklearn-color-fitted-level-0);\n",
       "}\n",
       "\n",
       "/* on hover */\n",
       "#sk-container-id-21 div.sk-estimator:hover {\n",
       "  /* unfitted */\n",
       "  background-color: var(--sklearn-color-unfitted-level-2);\n",
       "}\n",
       "\n",
       "#sk-container-id-21 div.sk-estimator.fitted:hover {\n",
       "  /* fitted */\n",
       "  background-color: var(--sklearn-color-fitted-level-2);\n",
       "}\n",
       "\n",
       "/* Specification for estimator info (e.g. \"i\" and \"?\") */\n",
       "\n",
       "/* Common style for \"i\" and \"?\" */\n",
       "\n",
       ".sk-estimator-doc-link,\n",
       "a:link.sk-estimator-doc-link,\n",
       "a:visited.sk-estimator-doc-link {\n",
       "  float: right;\n",
       "  font-size: smaller;\n",
       "  line-height: 1em;\n",
       "  font-family: monospace;\n",
       "  background-color: var(--sklearn-color-background);\n",
       "  border-radius: 1em;\n",
       "  height: 1em;\n",
       "  width: 1em;\n",
       "  text-decoration: none !important;\n",
       "  margin-left: 1ex;\n",
       "  /* unfitted */\n",
       "  border: var(--sklearn-color-unfitted-level-1) 1pt solid;\n",
       "  color: var(--sklearn-color-unfitted-level-1);\n",
       "}\n",
       "\n",
       ".sk-estimator-doc-link.fitted,\n",
       "a:link.sk-estimator-doc-link.fitted,\n",
       "a:visited.sk-estimator-doc-link.fitted {\n",
       "  /* fitted */\n",
       "  border: var(--sklearn-color-fitted-level-1) 1pt solid;\n",
       "  color: var(--sklearn-color-fitted-level-1);\n",
       "}\n",
       "\n",
       "/* On hover */\n",
       "div.sk-estimator:hover .sk-estimator-doc-link:hover,\n",
       ".sk-estimator-doc-link:hover,\n",
       "div.sk-label-container:hover .sk-estimator-doc-link:hover,\n",
       ".sk-estimator-doc-link:hover {\n",
       "  /* unfitted */\n",
       "  background-color: var(--sklearn-color-unfitted-level-3);\n",
       "  color: var(--sklearn-color-background);\n",
       "  text-decoration: none;\n",
       "}\n",
       "\n",
       "div.sk-estimator.fitted:hover .sk-estimator-doc-link.fitted:hover,\n",
       ".sk-estimator-doc-link.fitted:hover,\n",
       "div.sk-label-container:hover .sk-estimator-doc-link.fitted:hover,\n",
       ".sk-estimator-doc-link.fitted:hover {\n",
       "  /* fitted */\n",
       "  background-color: var(--sklearn-color-fitted-level-3);\n",
       "  color: var(--sklearn-color-background);\n",
       "  text-decoration: none;\n",
       "}\n",
       "\n",
       "/* Span, style for the box shown on hovering the info icon */\n",
       ".sk-estimator-doc-link span {\n",
       "  display: none;\n",
       "  z-index: 9999;\n",
       "  position: relative;\n",
       "  font-weight: normal;\n",
       "  right: .2ex;\n",
       "  padding: .5ex;\n",
       "  margin: .5ex;\n",
       "  width: min-content;\n",
       "  min-width: 20ex;\n",
       "  max-width: 50ex;\n",
       "  color: var(--sklearn-color-text);\n",
       "  box-shadow: 2pt 2pt 4pt #999;\n",
       "  /* unfitted */\n",
       "  background: var(--sklearn-color-unfitted-level-0);\n",
       "  border: .5pt solid var(--sklearn-color-unfitted-level-3);\n",
       "}\n",
       "\n",
       ".sk-estimator-doc-link.fitted span {\n",
       "  /* fitted */\n",
       "  background: var(--sklearn-color-fitted-level-0);\n",
       "  border: var(--sklearn-color-fitted-level-3);\n",
       "}\n",
       "\n",
       ".sk-estimator-doc-link:hover span {\n",
       "  display: block;\n",
       "}\n",
       "\n",
       "/* \"?\"-specific style due to the `<a>` HTML tag */\n",
       "\n",
       "#sk-container-id-21 a.estimator_doc_link {\n",
       "  float: right;\n",
       "  font-size: 1rem;\n",
       "  line-height: 1em;\n",
       "  font-family: monospace;\n",
       "  background-color: var(--sklearn-color-background);\n",
       "  border-radius: 1rem;\n",
       "  height: 1rem;\n",
       "  width: 1rem;\n",
       "  text-decoration: none;\n",
       "  /* unfitted */\n",
       "  color: var(--sklearn-color-unfitted-level-1);\n",
       "  border: var(--sklearn-color-unfitted-level-1) 1pt solid;\n",
       "}\n",
       "\n",
       "#sk-container-id-21 a.estimator_doc_link.fitted {\n",
       "  /* fitted */\n",
       "  border: var(--sklearn-color-fitted-level-1) 1pt solid;\n",
       "  color: var(--sklearn-color-fitted-level-1);\n",
       "}\n",
       "\n",
       "/* On hover */\n",
       "#sk-container-id-21 a.estimator_doc_link:hover {\n",
       "  /* unfitted */\n",
       "  background-color: var(--sklearn-color-unfitted-level-3);\n",
       "  color: var(--sklearn-color-background);\n",
       "  text-decoration: none;\n",
       "}\n",
       "\n",
       "#sk-container-id-21 a.estimator_doc_link.fitted:hover {\n",
       "  /* fitted */\n",
       "  background-color: var(--sklearn-color-fitted-level-3);\n",
       "}\n",
       "</style><div id=\"sk-container-id-21\" class=\"sk-top-container\"><div class=\"sk-text-repr-fallback\"><pre>NearestNeighbors(metric=&#x27;cosine&#x27;, metric_params={}, radius=0)</pre><b>In a Jupyter environment, please rerun this cell to show the HTML representation or trust the notebook. <br />On GitHub, the HTML representation is unable to render, please try loading this page with nbviewer.org.</b></div><div class=\"sk-container\" hidden><div class=\"sk-item\"><div class=\"sk-estimator fitted sk-toggleable\"><input class=\"sk-toggleable__control sk-hidden--visually\" id=\"sk-estimator-id-21\" type=\"checkbox\" checked><label for=\"sk-estimator-id-21\" class=\"sk-toggleable__label fitted sk-toggleable__label-arrow fitted\">&nbsp;&nbsp;NearestNeighbors<a class=\"sk-estimator-doc-link fitted\" rel=\"noreferrer\" target=\"_blank\" href=\"https://scikit-learn.org/1.5/modules/generated/sklearn.neighbors.NearestNeighbors.html\">?<span>Documentation for NearestNeighbors</span></a><span class=\"sk-estimator-doc-link fitted\">i<span>Fitted</span></span></label><div class=\"sk-toggleable__content fitted\"><pre>NearestNeighbors(metric=&#x27;cosine&#x27;, metric_params={}, radius=0)</pre></div> </div></div></div></div>"
      ],
      "text/plain": [
       "NearestNeighbors(metric='cosine', metric_params={}, radius=0)"
      ]
     },
     "execution_count": 336,
     "metadata": {},
     "output_type": "execute_result"
    }
   ],
   "source": [
    "neighbors_model.fit(today_news_embeddings)"
   ]
  },
  {
   "cell_type": "code",
   "execution_count": 337,
   "metadata": {},
   "outputs": [
    {
     "data": {
      "text/plain": [
       "array([[-0.2382813 ,  0.0202584 , -0.96147484, ...,  0.14334454,\n",
       "         0.00407858, -0.4053433 ]], dtype=float32)"
      ]
     },
     "execution_count": 337,
     "metadata": {},
     "output_type": "execute_result"
    }
   ],
   "source": [
    "today_news_embeddings[0].reshape(1, -1)"
   ]
  },
  {
   "cell_type": "code",
   "execution_count": 338,
   "metadata": {},
   "outputs": [],
   "source": [
    "distances, indices = neighbors_model.kneighbors(today_news_embeddings[10].reshape(1, -1))"
   ]
  },
  {
   "cell_type": "code",
   "execution_count": 349,
   "metadata": {},
   "outputs": [],
   "source": [
    "neighbors_distances, neighbor_indices = neighbors_model.radius_neighbors(today_news_embeddings, radius=0.3, return_distance=True)"
   ]
  },
  {
   "cell_type": "code",
   "execution_count": 350,
   "metadata": {},
   "outputs": [
    {
     "data": {
      "text/plain": [
       "array([10, 25, 26, 71])"
      ]
     },
     "execution_count": 350,
     "metadata": {},
     "output_type": "execute_result"
    }
   ],
   "source": [
    "neighbor_indices[10]"
   ]
  },
  {
   "cell_type": "code",
   "execution_count": 348,
   "metadata": {},
   "outputs": [
    {
     "data": {
      "text/plain": [
       "array([0.        , 0.24850214, 0.20240474, 0.24215406], dtype=float32)"
      ]
     },
     "execution_count": 348,
     "metadata": {},
     "output_type": "execute_result"
    }
   ],
   "source": [
    "neighbors_distances[10]"
   ]
  },
  {
   "cell_type": "code",
   "execution_count": 316,
   "metadata": {},
   "outputs": [
    {
     "data": {
      "text/plain": [
       "array([10, 26, 71, 25, 66])"
      ]
     },
     "execution_count": 316,
     "metadata": {},
     "output_type": "execute_result"
    }
   ],
   "source": [
    "indices[0]"
   ]
  },
  {
   "cell_type": "code",
   "execution_count": 270,
   "metadata": {},
   "outputs": [
    {
     "data": {
      "text/html": [
       "<div>\n",
       "<style scoped>\n",
       "    .dataframe tbody tr th:only-of-type {\n",
       "        vertical-align: middle;\n",
       "    }\n",
       "\n",
       "    .dataframe tbody tr th {\n",
       "        vertical-align: top;\n",
       "    }\n",
       "\n",
       "    .dataframe thead th {\n",
       "        text-align: right;\n",
       "    }\n",
       "</style>\n",
       "<table border=\"1\" class=\"dataframe\">\n",
       "  <thead>\n",
       "    <tr style=\"text-align: right;\">\n",
       "      <th></th>\n",
       "      <th>content</th>\n",
       "      <th>title</th>\n",
       "      <th>posted_at</th>\n",
       "      <th>url</th>\n",
       "      <th>labels</th>\n",
       "    </tr>\n",
       "  </thead>\n",
       "  <tbody>\n",
       "    <tr>\n",
       "      <th>10</th>\n",
       "      <td>La quatrième phase de la campagne de vaccinati...</td>\n",
       "      <td>Mai-Ndombe : près de 500 000 enfants attendus ...</td>\n",
       "      <td>2024-10-10 12:07:00</td>\n",
       "      <td>https://actualite.cd/index.php/2024/10/10/mai-...</td>\n",
       "      <td>0</td>\n",
       "    </tr>\n",
       "    <tr>\n",
       "      <th>25</th>\n",
       "      <td>À l’occasion, l’autorité provinciale et les au...</td>\n",
       "      <td>Maniema : la campagne de vaccination contre la...</td>\n",
       "      <td>2024-10-10 05:38:59</td>\n",
       "      <td>https://actu30.cd/2024/10/maniema-la-campagne-...</td>\n",
       "      <td>0</td>\n",
       "    </tr>\n",
       "    <tr>\n",
       "      <th>26</th>\n",
       "      <td>La cérémonie du lancement officiel de cette ca...</td>\n",
       "      <td>Lomami : Début de la campagne de vaccination c...</td>\n",
       "      <td>2024-10-10 05:45:26</td>\n",
       "      <td>https://actu30.cd/2024/10/lomami-debut-de-la-c...</td>\n",
       "      <td>0</td>\n",
       "    </tr>\n",
       "    <tr>\n",
       "      <th>63</th>\n",
       "      <td>La province du Kwilu continue d’enregistrer le...</td>\n",
       "      <td>Mpox au Kwilu : 9 morts sur plus de 200 cas en...</td>\n",
       "      <td>2024-10-10 06:44:00</td>\n",
       "      <td>https://actualite.cd/2024/10/10/mpox-au-kwilu-...</td>\n",
       "      <td>0</td>\n",
       "    </tr>\n",
       "    <tr>\n",
       "      <th>71</th>\n",
       "      <td>Au moins 47.911 personnes sont attendues pour ...</td>\n",
       "      <td>Plus de 47 000 personnes visées par la vaccina...</td>\n",
       "      <td>2024-10-10 08:41:00</td>\n",
       "      <td>https://actualite.cd/2024/10/10/plus-de-47-000...</td>\n",
       "      <td>0</td>\n",
       "    </tr>\n",
       "  </tbody>\n",
       "</table>\n",
       "</div>"
      ],
      "text/plain": [
       "                                              content  \\\n",
       "10  La quatrième phase de la campagne de vaccinati...   \n",
       "25  À l’occasion, l’autorité provinciale et les au...   \n",
       "26  La cérémonie du lancement officiel de cette ca...   \n",
       "63  La province du Kwilu continue d’enregistrer le...   \n",
       "71  Au moins 47.911 personnes sont attendues pour ...   \n",
       "\n",
       "                                                title           posted_at  \\\n",
       "10  Mai-Ndombe : près de 500 000 enfants attendus ... 2024-10-10 12:07:00   \n",
       "25  Maniema : la campagne de vaccination contre la... 2024-10-10 05:38:59   \n",
       "26  Lomami : Début de la campagne de vaccination c... 2024-10-10 05:45:26   \n",
       "63  Mpox au Kwilu : 9 morts sur plus de 200 cas en... 2024-10-10 06:44:00   \n",
       "71  Plus de 47 000 personnes visées par la vaccina... 2024-10-10 08:41:00   \n",
       "\n",
       "                                                  url  labels  \n",
       "10  https://actualite.cd/index.php/2024/10/10/mai-...       0  \n",
       "25  https://actu30.cd/2024/10/maniema-la-campagne-...       0  \n",
       "26  https://actu30.cd/2024/10/lomami-debut-de-la-c...       0  \n",
       "63  https://actualite.cd/2024/10/10/mpox-au-kwilu-...       0  \n",
       "71  https://actualite.cd/2024/10/10/plus-de-47-000...       0  "
      ]
     },
     "execution_count": 270,
     "metadata": {},
     "output_type": "execute_result"
    }
   ],
   "source": [
    "results_df.query(\"labels == 0\")"
   ]
  },
  {
   "cell_type": "code",
   "execution_count": 381,
   "metadata": {},
   "outputs": [
    {
     "data": {
      "text/plain": [
       "0                                                                                                                                                         Présence remarquée de l’ANAPI à la 14ème édition du Forum «EuropAfrica Investment» à Bruxelles\n",
       "1                                                                                                                                                            Mai-Ndombe : le gouvernement provincial publié, aucune femme nommée ministre | Actualite.cd\n",
       "2                                                                                                                                             Partenariat stratégique entre VODACASH et la SFI pour la promotion des services financiers mobiles en RDC \n",
       "3                                                                                                                                                     Kinshasa- Financement des travaux du projet 3 communes: Lobbying payant du sénateur Gecoco Mulumba\n",
       "4                                                                                                                                                            Elim/CAN 2025 : Toujours aussi poussifs, les Léopards font le strict minimum | Actualite.cd\n",
       "5                                                                                                                                                                                Foot – Éliminatoires CAN 2025 : Troisième victoire de suite pour la RDC\n",
       "6                                                                                                                                                 Allemagne : “Le Président Tshisekedi a déjà facilité le retour au pays” (Judith Suminwa à la diaspora)\n",
       "7                                                                   Matadi : le maire de la ville a comparu comme renseignant au procès du policier qui a ouvert le feu sur des élèves qui réclamaient la fin de la grève des enseignants | Actualite.cd\n",
       "11                                                                                                                                                        Naufrage sur le lac Kivu: inhumation ce jeudi de 11 corps des habitants de Goma | Actualite.cd\n",
       "12                                                                                                                            Haut-Uele : au conseil communal de Mambaya, ouverture de la session de septembre sur fond de revendications | Actualite.cd\n",
       "13                                                                                                                                                                        RDC: Procès en appel dans l'affaire de tentative de coup d'Etat | Actualite.cd\n",
       "14                                                                                                            Tennis: La FRDCT participe à l’Assemblée Générale de l’ITF à Hong Kong avec son président, l’ingénieur Georges Koshi Gimeya | Actualite.cd\n",
       "15                                                                                                                                      Affaire de la tentative de coup d’état en RDC : les 13 prévenus acquittés seront jugés par défaut | Actualite.cd\n",
       "16                                                                                                                                                           FICKIN : les ateliers de formation, pour investir dans les talents de demain | Actualite.cd\n",
       "17                                                                                                        inDrive lance un service révolutionnaire de transport avec chauffeur à Kinshasa avec un modèle unique de négociation des tarifs | Actualite.cd\n",
       "19                                                                                                                                                                                 La CNDH participe à une conférence sur les droits de l’homme à Moscou\n",
       "21                                                                                                                                     Jacquemain Shabani remet officiellement à 15 communes de Kinshasa des meubles de bureaux, don du Service national\n",
       "22                                                                                                     Réparation des victimes du conflit Kamuena Nsapu : le FONAREV fournit l’appui nécessaire à l’organisation des audiences foraines à Nkongolo Monji\n",
       "23                                                                                                                                                                      RDC : Judith Suminwa renforce les liens avec la diaspora congolaise en Allemagne\n",
       "27                                                                                                                                                                                            Maniema : 8 présumés voleurs arrêtés par la Police à Kindu\n",
       "28                                                                                                                                                              Répression d'une marche des élèves au Kongo-Central : le maire de Matadi devant la barre\n",
       "30                                                                                                                                                                                                                  Comment laver une brosse à cheveux ?\n",
       "33                                                                                            Mort de l'étudiante congolaise au Canada : Prince Epenge parle d'une conséquence d'abandon des Congolais de la diaspora par le régime de Félix Tshisekedi*\n",
       "34                                                                                                         Proposition de dialogue de Fayulu : « Tshisekedi manque de légitimité, avec qui devrions-nous dialoguer ? Et pour parler de quoi ? », Katumbi\n",
       "36                                                                                                                                                                Dossier forage : l'Assemblée nationale appelée à lever les immunités de Nicolas Kazadi\n",
       "37                                                                                                                                                 Kinshasa : l'AD de l'hôpital Biamba Marie Mutombo organise une cérémonie en hommage à Mutombo Dikembe\n",
       "38                                                                                                                                                             Allemagne : Judith Suminwa échange avec la diaspora congolaise sur le climat des affaires\n",
       "39                                                                                                                              Affaire Alexandra : les possibilités de poursuite des enquêtes et de rapatrier le corps évoquées aux Affaires étrangères\n",
       "40                                                                                                                                  Goma : compromis trouvé entre le Gouvernement et les familles pour l’inhumation des victimes du naufrage au Lac Kivu\n",
       "41                                                                                                                                                            Le ministre israélien de la Défense prévient : une attaque contre l’Iran serait \"mortelle\"\n",
       "43                                                                                                                                                           Kinshasa : une veillée mortuaire vendredi au Palais du Peuple en mémoire de Mutombo Dikembe\n",
       "44                                                                                                                                                Santé publique : les médecins du syndicat libre des médecins en grève dans tous les hôpitaux de la RDC\n",
       "45                                                                                                                                                                                 Le Gouvernement camerounais dément la rumeur sur la mort de Paul Biya\n",
       "46                                                                              Mémorandum des culturels : \" Nous réitérons notre attachement à la doctrine du kimbanguisme et à papa Simon Kimbangu qui est un patrimoine international \" (Déclaration)\n",
       "47                                                                                                                                               Assemblée provinciale du Kongo-Central : le calendrier de la session ordinaire de septembre 2024 adopté\n",
       "48                                                                                                                                                                                  \"Je quitte le tennis professionnel\", annonce la légende Rafael Nadal\n",
       "50                                                                                                                                               Infrastructures : Félix Tshisekedi inaugure Silikin Village, le plus grand hub d'entrepreneuriat en RDC\n",
       "51                                                                                                                                                                                   Les Kényans réagissent à la motion de destitution du vice-président\n",
       "52                                                                                                                                                                    Etats-Unis : Donald Trump exclut définitivement un autre débat avec Kamala Harris \n",
       "53                                                                                                        Chez Augustin Kibassa Maliba, la société financière internationale se dit déterminée à accompagner la RDC pour booster le secteur des télécoms\n",
       "54                                                                                                       JM de la Poste : Augustin Kibassa Maliba pour une avancée technologique permettant au service postal universel de toucher chaque coin de la RDC\n",
       "55                                                                                                         Processus de Luanda et de Nairobi : le soutien de l’UE à la stabilisation de la RDC au cœur des échanges entre Gracia Yamba et Johan Borgstam\n",
       "56                                                                                                          RDC: Dikembe Mutombo admis à titre posthume dans l’Ordre National “Héros Nationaux” Kabila-Lumumba au grade de Grand Officier | Actualite.cd\n",
       "57                                                                               Mines : Kizito Pakabomba veut assainir les mines avec l'IGM et la création de l’autorité de régulation et de commercialisation des minerais stratégiques | Actualite.cd\n",
       "58                                                                                                                                           Haut-Uele : Jean Obote Sirika propose le développement de la province sur les modèles inspirés du Nord-Kivu\n",
       "59                                                                                                    Portefeuille : S’opposant à l’idée de réduire leurs droits et avantages, les mandataires véreux célèbrent une messe noire contre Jean-Lucien Bussa\n",
       "64                                                                                                              RDC – France : Vital Kamerhe et son homologue français tablent sur le renforcement de collaboration entre les deux assemblées nationales\n",
       "65                                                                                                                             Kinshasa : le nouveau Hub d’entrepreneuriat et d’innovation de Silikin Village inauguré par le président de la République\n",
       "67                                                                                                                 RDC : Mutombo Dikembe élevé au rang de grand officier dans l’ordre des « Héros nationaux Kabila-Lumumba » (Ordonnance présidentielle)\n",
       "69    Kinshasa: les préalables à l’élaboration et à la mise en œuvre des plans communaux d’actions environnementales au regard du cadre juridique congolais sur la protection de l’environnement (Pr. Blaise-Pascal Ntirumenyerwa Mihigo) | Actualite.cd\n",
       "70                                                                                                                                                                                    Foot – Éliminatoires CAN : la RDC se rapproche de la qualification\n",
       "Name: title, dtype: object"
      ]
     },
     "metadata": {},
     "output_type": "display_data"
    },
    {
     "data": {
      "text/plain": [
       "tensor([[1.0000, 0.4667, 0.5781,  ..., 0.4595, 0.5536, 0.4807],\n",
       "        [0.4667, 1.0000, 0.4042,  ..., 0.4468, 0.4951, 0.4223],\n",
       "        [0.5781, 0.4042, 1.0000,  ..., 0.3881, 0.4901, 0.4765],\n",
       "        ...,\n",
       "        [0.4595, 0.4468, 0.3881,  ..., 1.0000, 0.4108, 0.4690],\n",
       "        [0.5536, 0.4951, 0.4901,  ..., 0.4108, 1.0000, 0.4076],\n",
       "        [0.4807, 0.4223, 0.4765,  ..., 0.4690, 0.4076, 1.0000]])"
      ]
     },
     "execution_count": 381,
     "metadata": {},
     "output_type": "execute_result"
    }
   ],
   "source": [
    "analyse_embeddings(results_df, today_news_embeddings, -1, \"labels_db_scan\")"
   ]
  },
  {
   "cell_type": "code",
   "execution_count": 377,
   "metadata": {},
   "outputs": [
    {
     "data": {
      "text/plain": [
       "(5, 1024)"
      ]
     },
     "execution_count": 377,
     "metadata": {},
     "output_type": "execute_result"
    }
   ],
   "source": [
    "today_news_embeddings[indices[0]].shape"
   ]
  },
  {
   "cell_type": "code",
   "execution_count": 277,
   "metadata": {},
   "outputs": [],
   "source": [
    "similarities = sentence_transformer_model.similarity(\n",
    "    today_news_embeddings[indices[0]], today_news_embeddings[indices[0]])"
   ]
  },
  {
   "cell_type": "code",
   "execution_count": 278,
   "metadata": {},
   "outputs": [
    {
     "data": {
      "text/plain": [
       "tensor([[-3.5763e-07,  2.0240e-01,  2.4215e-01,  2.4850e-01,  3.6869e-01],\n",
       "        [ 2.0240e-01, -2.3842e-07,  2.5243e-01,  3.1303e-01,  4.1540e-01],\n",
       "        [ 2.4215e-01,  2.5243e-01,  4.7684e-07,  2.8232e-01,  2.6365e-01],\n",
       "        [ 2.4850e-01,  3.1303e-01,  2.8232e-01, -1.1921e-07,  4.0719e-01],\n",
       "        [ 3.6869e-01,  4.1540e-01,  2.6365e-01,  4.0719e-01, -9.5367e-07]])"
      ]
     },
     "execution_count": 278,
     "metadata": {},
     "output_type": "execute_result"
    }
   ],
   "source": [
    "1 - similarities"
   ]
  },
  {
   "cell_type": "markdown",
   "metadata": {},
   "source": [
    "Kmean is not giving good results because some cluster are not correct., Let try with the title embeddings."
   ]
  },
  {
   "cell_type": "markdown",
   "metadata": {},
   "source": []
  }
 ],
 "metadata": {
  "kernelspec": {
   "display_name": ".venv",
   "language": "python",
   "name": "python3"
  },
  "language_info": {
   "codemirror_mode": {
    "name": "ipython",
    "version": 3
   },
   "file_extension": ".py",
   "mimetype": "text/x-python",
   "name": "python",
   "nbconvert_exporter": "python",
   "pygments_lexer": "ipython3",
   "version": "3.10.4"
  }
 },
 "nbformat": 4,
 "nbformat_minor": 2
}
